{
 "cells": [
  {
   "cell_type": "code",
   "execution_count": 230,
   "id": "e69c4ba1-85f3-4a02-ae37-c64347a01803",
   "metadata": {},
   "outputs": [],
   "source": [
    "#Import all relevant libraries\n",
    "import numpy as np\n",
    "import pandas as pd\n",
    "import matplotlib.pyplot as plt\n",
    "import seaborn as sns\n",
    "from scipy.stats import zscore\n",
    "import plotly.express as px\n",
    " \n",
    "## This statement allows the visuals to render within your Jupyter Notebook.\n",
    "%matplotlib inline"
   ]
  },
  {
   "cell_type": "markdown",
   "id": "e395e8bf-b530-4720-8d0f-26811e927d6e",
   "metadata": {},
   "source": [
    "## Loading the data\n",
    "We can now load the dataset into pandas using the read_csv() function. This converts the CSV file into a Pandas dataframe."
   ]
  },
  {
   "cell_type": "code",
   "execution_count": 231,
   "id": "cf4030b0-aa7f-4bd7-8e9c-c1b7f4d202d0",
   "metadata": {},
   "outputs": [],
   "source": [
    "#Read in the csv file and convert to a Pandas dataframe\n",
    "arwu_df = pd.read_excel('./data/shanghai Ranking.xlsx')\n",
    "the_df = pd.read_excel('./data/Times Higher Education.xlsx')\n",
    "cwur_df = pd.read_excel('./data/World Rank University.xlsx')\n",
    "\n",
    "\n",
    "dataframes = {\n",
    "    'Shanghai Ranking': arwu_df,\n",
    "    'Times Higher Education': the_df,\n",
    "    'World Rank University': cwur_df\n",
    "}"
   ]
  },
  {
   "cell_type": "markdown",
   "id": "ca5ed983-0f72-43eb-8168-6fafd48c562e",
   "metadata": {},
   "source": [
    "### Viewing the dataframe\n",
    "We can get a quick sense of the size of our dataset by using the shape method. This returns a tuple with the number of rows and columns in the dataset."
   ]
  },
  {
   "cell_type": "code",
   "execution_count": 249,
   "id": "7d39cd56-f9d9-47a9-88b3-895e3360f5ac",
   "metadata": {},
   "outputs": [
    {
     "name": "stdout",
     "output_type": "stream",
     "text": [
      "Educational Rank      0\n",
      "Employability Rank    0\n",
      "Faculty Rank          0\n",
      "Research Rank         0\n",
      "dtype: int64\n"
     ]
    }
   ],
   "source": [
    "\n",
    "def clean_rank_column(column):\n",
    "    # Replace unwanted characters with NaN\n",
    "    column = column.replace({' ': 0, '-': 0})\n",
    "    # Convert to numeric, forcing errors to NaN\n",
    "    column = pd.to_numeric(column, errors='coerce').fillna(0).astype('int64')\n",
    "    return column\n",
    "\n",
    "rank_columns = ['Educational Rank', 'Employability Rank', 'Faculty Rank', 'Research Rank']\n",
    "for col in rank_columns:\n",
    "    cwur_df[col] = clean_rank_column(cwur_df[col])\n",
    "\n",
    "print(cwur_df[rank_columns].isnull().sum())\n"
   ]
  },
  {
   "cell_type": "code",
   "execution_count": 244,
   "id": "8e47643b-d7d7-4343-90b8-28f04feacf5b",
   "metadata": {},
   "outputs": [
    {
     "data": {
      "text/plain": [
       "Index(['World Rank', 'University Name', 'Location ', 'National Rank',\n",
       "       'Educational Rank', 'Employability Rank', 'Faculty Rank',\n",
       "       'Research Rank', 'Score'],\n",
       "      dtype='object')"
      ]
     },
     "execution_count": 244,
     "metadata": {},
     "output_type": "execute_result"
    }
   ],
   "source": [
    "cwur_df.columns"
   ]
  },
  {
   "cell_type": "code",
   "execution_count": 245,
   "id": "d46103f7-30be-408b-876d-f3601d8d7335",
   "metadata": {},
   "outputs": [],
   "source": [
    "cwur_df.rename(columns={'Location ': 'Location'}, inplace=True)"
   ]
  },
  {
   "cell_type": "code",
   "execution_count": 259,
   "id": "391130c4-cfb2-4a33-8fa4-654b6a62de3f",
   "metadata": {},
   "outputs": [
    {
     "name": "stdout",
     "output_type": "stream",
     "text": [
      "Educational Rank      0\n",
      "Employability Rank    0\n",
      "Faculty Rank          0\n",
      "Research Rank         0\n",
      "dtype: int64\n"
     ]
    }
   ],
   "source": [
    "def clean_rank_column(column):\n",
    "    column = column.replace({' ': 0, '-':0}).astype('int64')\n",
    "    return column\n",
    "    \n",
    "rank_columns = ['Educational Rank', 'Employability Rank', 'Faculty Rank', 'Research Rank']\n",
    "for col in rank_columns:\n",
    "    cwur_df[col] = clean_rank_column(cwur_df[col])\n",
    "\n",
    "print(cwur_df[rank_columns].isnull().sum())"
   ]
  },
  {
   "cell_type": "code",
   "execution_count": 268,
   "id": "9a943824-873a-49f2-84e4-025e99d0c35a",
   "metadata": {},
   "outputs": [
    {
     "data": {
      "text/html": [
       "<div>\n",
       "<style scoped>\n",
       "    .dataframe tbody tr th:only-of-type {\n",
       "        vertical-align: middle;\n",
       "    }\n",
       "\n",
       "    .dataframe tbody tr th {\n",
       "        vertical-align: top;\n",
       "    }\n",
       "\n",
       "    .dataframe thead th {\n",
       "        text-align: right;\n",
       "    }\n",
       "</style>\n",
       "<table border=\"1\" class=\"dataframe\">\n",
       "  <thead>\n",
       "    <tr style=\"text-align: right;\">\n",
       "      <th></th>\n",
       "      <th>World Rank</th>\n",
       "      <th>University Name</th>\n",
       "      <th>Location</th>\n",
       "      <th>National Rank</th>\n",
       "      <th>Educational Rank</th>\n",
       "      <th>Employability Rank</th>\n",
       "      <th>Faculty Rank</th>\n",
       "      <th>Research Rank</th>\n",
       "      <th>Score</th>\n",
       "      <th>University Names</th>\n",
       "    </tr>\n",
       "  </thead>\n",
       "  <tbody>\n",
       "    <tr>\n",
       "      <th>0</th>\n",
       "      <td>1Top 0.1%</td>\n",
       "      <td>Harvard University</td>\n",
       "      <td>USA</td>\n",
       "      <td>1</td>\n",
       "      <td>1</td>\n",
       "      <td>1</td>\n",
       "      <td>1</td>\n",
       "      <td>1</td>\n",
       "      <td>100.0</td>\n",
       "      <td>Harvard University</td>\n",
       "    </tr>\n",
       "    <tr>\n",
       "      <th>1</th>\n",
       "      <td>2Top 0.1%</td>\n",
       "      <td>Massachusetts Institute of Technology</td>\n",
       "      <td>USA</td>\n",
       "      <td>2</td>\n",
       "      <td>4</td>\n",
       "      <td>12</td>\n",
       "      <td>3</td>\n",
       "      <td>9</td>\n",
       "      <td>96.7</td>\n",
       "      <td>Massachusetts Institute of Technology</td>\n",
       "    </tr>\n",
       "    <tr>\n",
       "      <th>2</th>\n",
       "      <td>3Top 0.1%</td>\n",
       "      <td>Stanford University</td>\n",
       "      <td>USA</td>\n",
       "      <td>3</td>\n",
       "      <td>11</td>\n",
       "      <td>4</td>\n",
       "      <td>2</td>\n",
       "      <td>2</td>\n",
       "      <td>95.2</td>\n",
       "      <td>Stanford University</td>\n",
       "    </tr>\n",
       "    <tr>\n",
       "      <th>3</th>\n",
       "      <td>4Top 0.1%</td>\n",
       "      <td>University of Cambridge</td>\n",
       "      <td>United Kingdom</td>\n",
       "      <td>1</td>\n",
       "      <td>3</td>\n",
       "      <td>25</td>\n",
       "      <td>5</td>\n",
       "      <td>11</td>\n",
       "      <td>94.1</td>\n",
       "      <td>University of Cambridge</td>\n",
       "    </tr>\n",
       "    <tr>\n",
       "      <th>4</th>\n",
       "      <td>5Top 0.1%</td>\n",
       "      <td>University of Oxford</td>\n",
       "      <td>United Kingdom</td>\n",
       "      <td>2</td>\n",
       "      <td>7</td>\n",
       "      <td>27</td>\n",
       "      <td>9</td>\n",
       "      <td>4</td>\n",
       "      <td>93.3</td>\n",
       "      <td>University of Oxford</td>\n",
       "    </tr>\n",
       "    <tr>\n",
       "      <th>...</th>\n",
       "      <td>...</td>\n",
       "      <td>...</td>\n",
       "      <td>...</td>\n",
       "      <td>...</td>\n",
       "      <td>...</td>\n",
       "      <td>...</td>\n",
       "      <td>...</td>\n",
       "      <td>...</td>\n",
       "      <td>...</td>\n",
       "      <td>...</td>\n",
       "    </tr>\n",
       "    <tr>\n",
       "      <th>1995</th>\n",
       "      <td>1996Top 9.8%</td>\n",
       "      <td>Chongqing Jiaotong University</td>\n",
       "      <td>China</td>\n",
       "      <td>314</td>\n",
       "      <td>0</td>\n",
       "      <td>0</td>\n",
       "      <td>0</td>\n",
       "      <td>1917</td>\n",
       "      <td>66.0</td>\n",
       "      <td>Chongqing Jiaotong University</td>\n",
       "    </tr>\n",
       "    <tr>\n",
       "      <th>1996</th>\n",
       "      <td>1997Top 9.8%</td>\n",
       "      <td>University of Arkansas at Little Rock</td>\n",
       "      <td>USA</td>\n",
       "      <td>332</td>\n",
       "      <td>0</td>\n",
       "      <td>1322</td>\n",
       "      <td>0</td>\n",
       "      <td>1920</td>\n",
       "      <td>66.0</td>\n",
       "      <td>University of Arkansas at Little Rock</td>\n",
       "    </tr>\n",
       "    <tr>\n",
       "      <th>1997</th>\n",
       "      <td>1998Top 9.8%</td>\n",
       "      <td>Van Yüzüncü Yıl University</td>\n",
       "      <td>Turkey</td>\n",
       "      <td>54</td>\n",
       "      <td>0</td>\n",
       "      <td>0</td>\n",
       "      <td>0</td>\n",
       "      <td>1919</td>\n",
       "      <td>66.0</td>\n",
       "      <td>Van Yüzüncü Yıl University</td>\n",
       "    </tr>\n",
       "    <tr>\n",
       "      <th>1998</th>\n",
       "      <td>1999Top 9.8%</td>\n",
       "      <td>Bharathidasan University</td>\n",
       "      <td>India</td>\n",
       "      <td>64</td>\n",
       "      <td>0</td>\n",
       "      <td>0</td>\n",
       "      <td>0</td>\n",
       "      <td>1922</td>\n",
       "      <td>66.0</td>\n",
       "      <td>Bharathidasan University</td>\n",
       "    </tr>\n",
       "    <tr>\n",
       "      <th>1999</th>\n",
       "      <td>2000Top 9.8%</td>\n",
       "      <td>Gebze Technical University</td>\n",
       "      <td>Turkey</td>\n",
       "      <td>55</td>\n",
       "      <td>0</td>\n",
       "      <td>0</td>\n",
       "      <td>0</td>\n",
       "      <td>1923</td>\n",
       "      <td>66.0</td>\n",
       "      <td>Gebze Technical University</td>\n",
       "    </tr>\n",
       "  </tbody>\n",
       "</table>\n",
       "<p>2000 rows × 10 columns</p>\n",
       "</div>"
      ],
      "text/plain": [
       "        World Rank                        University Name        Location  \\\n",
       "0        1Top 0.1%                     Harvard University             USA   \n",
       "1        2Top 0.1%  Massachusetts Institute of Technology             USA   \n",
       "2        3Top 0.1%                    Stanford University             USA   \n",
       "3        4Top 0.1%                University of Cambridge  United Kingdom   \n",
       "4        5Top 0.1%                   University of Oxford  United Kingdom   \n",
       "...            ...                                    ...             ...   \n",
       "1995  1996Top 9.8%          Chongqing Jiaotong University           China   \n",
       "1996  1997Top 9.8%  University of Arkansas at Little Rock             USA   \n",
       "1997  1998Top 9.8%             Van Yüzüncü Yıl University          Turkey   \n",
       "1998  1999Top 9.8%               Bharathidasan University           India   \n",
       "1999  2000Top 9.8%             Gebze Technical University          Turkey   \n",
       "\n",
       "      National Rank  Educational Rank  Employability Rank  Faculty Rank  \\\n",
       "0                 1                 1                   1             1   \n",
       "1                 2                 4                  12             3   \n",
       "2                 3                11                   4             2   \n",
       "3                 1                 3                  25             5   \n",
       "4                 2                 7                  27             9   \n",
       "...             ...               ...                 ...           ...   \n",
       "1995            314                 0                   0             0   \n",
       "1996            332                 0                1322             0   \n",
       "1997             54                 0                   0             0   \n",
       "1998             64                 0                   0             0   \n",
       "1999             55                 0                   0             0   \n",
       "\n",
       "      Research Rank  Score                       University Names  \n",
       "0                 1  100.0                     Harvard University  \n",
       "1                 9   96.7  Massachusetts Institute of Technology  \n",
       "2                 2   95.2                    Stanford University  \n",
       "3                11   94.1                University of Cambridge  \n",
       "4                 4   93.3                   University of Oxford  \n",
       "...             ...    ...                                    ...  \n",
       "1995           1917   66.0          Chongqing Jiaotong University  \n",
       "1996           1920   66.0  University of Arkansas at Little Rock  \n",
       "1997           1919   66.0             Van Yüzüncü Yıl University  \n",
       "1998           1922   66.0               Bharathidasan University  \n",
       "1999           1923   66.0             Gebze Technical University  \n",
       "\n",
       "[2000 rows x 10 columns]"
      ]
     },
     "execution_count": 268,
     "metadata": {},
     "output_type": "execute_result"
    }
   ],
   "source": [
    "def remove_rating(text):\n",
    "    return text.split('\\n')[0].strip() \n",
    "\n",
    "cwur_df['University Name'] = cwur_df['University Name'].apply(remove_rating)\n",
    "\n",
    "cwur_df"
   ]
  },
  {
   "cell_type": "code",
   "execution_count": 270,
   "id": "d1cf17d2-b2c1-496c-912a-8407e682d7c7",
   "metadata": {},
   "outputs": [],
   "source": [
    "arwu_df['Location'] = arwu_df['University Name'].apply(\n",
    "    lambda x: (\n",
    "        the_df.loc[the_df['University Name'] == x, 'Location'].values[0] if not the_df.loc[the_df['University Name'] == x, 'Location'].empty \n",
    "        else (\n",
    "            cwur_df.loc[cwur_df['University Name'] == x, 'Location'].values[0] if not cwur_df.loc[cwur_df['University Name'] == x, 'Location'].empty \n",
    "            else None\n",
    "        )\n",
    "    )\n",
    ")\n"
   ]
  },
  {
   "cell_type": "code",
   "execution_count": 262,
   "id": "c64d0b10-16f2-430e-a3d2-e37409b9860f",
   "metadata": {},
   "outputs": [
    {
     "name": "stderr",
     "output_type": "stream",
     "text": [
      "C:\\Users\\queen\\AppData\\Local\\Temp\\ipykernel_22936\\259426369.py:5: FutureWarning:\n",
      "\n",
      "The default of observed=False is deprecated and will be changed to True in a future version of pandas. Pass observed=False to retain current behavior or observed=True to adopt the future default and silence this warning.\n",
      "\n"
     ]
    }
   ],
   "source": [
    "# Convert 'World Rank' to numeric and handle errors\n",
    "arwu_df['World Rank'] = pd.to_numeric(arwu_df['World Rank'], errors='coerce')\n",
    "\n",
    "# Group by the converted 'World Rank' with correct labels\n",
    "grouped_df = arwu_df.groupby(pd.cut(arwu_df['World Rank'], \n",
    "    bins=[0, 100, 150, 200, 300, 400, 500, 600, 700, 800, 900, 1000], \n",
    "    right=True, \n",
    "    labels=['1-100', '101-150', '151-200', '201-300', '301-400', '401-500', '501-600', '601-700', '701-800', '801-900', '901-1000'])\n",
    ").agg({'Total Score': 'mean', 'University Name': 'count'}).reset_index().sort_values(by='Total Score')\n"
   ]
  },
  {
   "cell_type": "code",
   "execution_count": 264,
   "id": "161975e2-768a-4209-932a-e383ed0c2e89",
   "metadata": {},
   "outputs": [],
   "source": [
    "# Assuming df is your DataFrame\n",
    "arwu_df.loc[100:999, 'World Rank'] = arwu_df.loc[100:999, 'World Rank'].replace(0.0, pd.NA)  # Replace 0.0 with NaN first\n",
    "arwu_df.loc[100:999, 'World Rank'] = range(100, 100 + len(arwu_df.loc[100:999, 'World Rank']))\n",
    "\n",
    "# This will increment numbers from 100 onwards in the 'World Rank' column from index 100 to 999\n"
   ]
  },
  {
   "cell_type": "code",
   "execution_count": 265,
   "id": "d1ca4e94-5507-4ee9-af03-aed3e7e3eeb3",
   "metadata": {},
   "outputs": [],
   "source": [
    "arwu_df['World Rank'] = arwu_df['World Rank'].astype(int)"
   ]
  },
  {
   "cell_type": "code",
   "execution_count": 266,
   "id": "6b710fbe-1165-4d76-a136-fb43831625a8",
   "metadata": {},
   "outputs": [],
   "source": [
    "arwu_df['National/Regional Rank'] = arwu_df['National/Regional Rank'].apply(\n",
    "    lambda x: min(map(int, x.replace('-', ' ').split())) if pd.notna(x) else None\n",
    ")"
   ]
  },
  {
   "cell_type": "code",
   "execution_count": 273,
   "id": "c41aa6cd-50f2-4ef3-87cc-7f5097a5742a",
   "metadata": {},
   "outputs": [],
   "source": [
    "arwu_df.loc[110, 'National/Regional Rank'] = 2"
   ]
  },
  {
   "cell_type": "code",
   "execution_count": 349,
   "id": "a77fda67-bd89-437b-a2b9-f0e42b9b7a3f",
   "metadata": {},
   "outputs": [
    {
     "data": {
      "text/html": [
       "<div>\n",
       "<style scoped>\n",
       "    .dataframe tbody tr th:only-of-type {\n",
       "        vertical-align: middle;\n",
       "    }\n",
       "\n",
       "    .dataframe tbody tr th {\n",
       "        vertical-align: top;\n",
       "    }\n",
       "\n",
       "    .dataframe thead th {\n",
       "        text-align: right;\n",
       "    }\n",
       "</style>\n",
       "<table border=\"1\" class=\"dataframe\">\n",
       "  <thead>\n",
       "    <tr style=\"text-align: right;\">\n",
       "      <th></th>\n",
       "      <th>World Rank</th>\n",
       "      <th>University Name</th>\n",
       "      <th>National/Regional Rank</th>\n",
       "      <th>Total Score</th>\n",
       "      <th>Location</th>\n",
       "      <th>University Detail</th>\n",
       "    </tr>\n",
       "  </thead>\n",
       "  <tbody>\n",
       "    <tr>\n",
       "      <th>109</th>\n",
       "      <td>109</td>\n",
       "      <td>King Abdulaziz University</td>\n",
       "      <td>1</td>\n",
       "      <td>0.0</td>\n",
       "      <td>Saudi Arabia</td>\n",
       "      <td>http://www.shanghairanking.com/institution/kin...</td>\n",
       "    </tr>\n",
       "    <tr>\n",
       "      <th>110</th>\n",
       "      <td>110</td>\n",
       "      <td>King Saud University</td>\n",
       "      <td>2</td>\n",
       "      <td>0.0</td>\n",
       "      <td>Saudi Arabia</td>\n",
       "      <td>http://www.shanghairanking.com/institution/kin...</td>\n",
       "    </tr>\n",
       "    <tr>\n",
       "      <th>222</th>\n",
       "      <td>222</td>\n",
       "      <td>King Abdullah University of Science and Techno...</td>\n",
       "      <td>3</td>\n",
       "      <td>0.0</td>\n",
       "      <td>Saudi Arabia</td>\n",
       "      <td>http://www.shanghairanking.com/institution/kin...</td>\n",
       "    </tr>\n",
       "    <tr>\n",
       "      <th>446</th>\n",
       "      <td>446</td>\n",
       "      <td>Taif University</td>\n",
       "      <td>4</td>\n",
       "      <td>0.0</td>\n",
       "      <td>Saudi Arabia</td>\n",
       "      <td>http://www.shanghairanking.com/institution/tai...</td>\n",
       "    </tr>\n",
       "    <tr>\n",
       "      <th>631</th>\n",
       "      <td>631</td>\n",
       "      <td>King Khalid University</td>\n",
       "      <td>6</td>\n",
       "      <td>0.0</td>\n",
       "      <td>Saudi Arabia</td>\n",
       "      <td>http://www.shanghairanking.com/institution/kin...</td>\n",
       "    </tr>\n",
       "    <tr>\n",
       "      <th>855</th>\n",
       "      <td>855</td>\n",
       "      <td>Prince Sattam Bin Abdulaziz University</td>\n",
       "      <td>7</td>\n",
       "      <td>0.0</td>\n",
       "      <td>Saudi Arabia</td>\n",
       "      <td>http://www.shanghairanking.com/institution/pri...</td>\n",
       "    </tr>\n",
       "  </tbody>\n",
       "</table>\n",
       "</div>"
      ],
      "text/plain": [
       "     World Rank                                    University Name  \\\n",
       "109         109                          King Abdulaziz University   \n",
       "110         110                               King Saud University   \n",
       "222         222  King Abdullah University of Science and Techno...   \n",
       "446         446                                    Taif University   \n",
       "631         631                             King Khalid University   \n",
       "855         855             Prince Sattam Bin Abdulaziz University   \n",
       "\n",
       "     National/Regional Rank  Total Score      Location  \\\n",
       "109                       1          0.0  Saudi Arabia   \n",
       "110                       2          0.0  Saudi Arabia   \n",
       "222                       3          0.0  Saudi Arabia   \n",
       "446                       4          0.0  Saudi Arabia   \n",
       "631                       6          0.0  Saudi Arabia   \n",
       "855                       7          0.0  Saudi Arabia   \n",
       "\n",
       "                                    University Detail   \n",
       "109  http://www.shanghairanking.com/institution/kin...  \n",
       "110  http://www.shanghairanking.com/institution/kin...  \n",
       "222  http://www.shanghairanking.com/institution/kin...  \n",
       "446  http://www.shanghairanking.com/institution/tai...  \n",
       "631  http://www.shanghairanking.com/institution/kin...  \n",
       "855  http://www.shanghairanking.com/institution/pri...  "
      ]
     },
     "execution_count": 349,
     "metadata": {},
     "output_type": "execute_result"
    }
   ],
   "source": [
    "result = arwu_df[arwu_df['Location'] == 'Saudi Arabia']\n",
    "result"
   ]
  },
  {
   "cell_type": "code",
   "execution_count": 311,
   "id": "596f5b6b-c2d3-4f33-8152-178e8afff8a2",
   "metadata": {},
   "outputs": [],
   "source": [
    "#rank_5_info = arwu_df[arwu_df['National/Regional Rank'] == 5][['University Name', 'Location']]\n",
    "#print(rank_5_info)"
   ]
  },
  {
   "cell_type": "code",
   "execution_count": 274,
   "id": "7739563b-6c8b-4023-bcbd-35402370f513",
   "metadata": {},
   "outputs": [
    {
     "data": {
      "text/html": [
       "<div>\n",
       "<style scoped>\n",
       "    .dataframe tbody tr th:only-of-type {\n",
       "        vertical-align: middle;\n",
       "    }\n",
       "\n",
       "    .dataframe tbody tr th {\n",
       "        vertical-align: top;\n",
       "    }\n",
       "\n",
       "    .dataframe thead th {\n",
       "        text-align: right;\n",
       "    }\n",
       "</style>\n",
       "<table border=\"1\" class=\"dataframe\">\n",
       "  <thead>\n",
       "    <tr style=\"text-align: right;\">\n",
       "      <th></th>\n",
       "      <th>World Rank</th>\n",
       "      <th>University Name</th>\n",
       "      <th>National/Regional Rank</th>\n",
       "      <th>Total Score</th>\n",
       "      <th>Location</th>\n",
       "      <th>University Detail</th>\n",
       "    </tr>\n",
       "  </thead>\n",
       "  <tbody>\n",
       "    <tr>\n",
       "      <th>0</th>\n",
       "      <td>1</td>\n",
       "      <td>Harvard University</td>\n",
       "      <td>1</td>\n",
       "      <td>100.0</td>\n",
       "      <td>USA</td>\n",
       "      <td>http://www.shanghairanking.com/institution/har...</td>\n",
       "    </tr>\n",
       "    <tr>\n",
       "      <th>1</th>\n",
       "      <td>2</td>\n",
       "      <td>Stanford University</td>\n",
       "      <td>2</td>\n",
       "      <td>76.8</td>\n",
       "      <td>USA</td>\n",
       "      <td>http://www.shanghairanking.com/institution/sta...</td>\n",
       "    </tr>\n",
       "    <tr>\n",
       "      <th>2</th>\n",
       "      <td>3</td>\n",
       "      <td>Massachusetts Institute of Technology (MIT)</td>\n",
       "      <td>3</td>\n",
       "      <td>70.1</td>\n",
       "      <td>None</td>\n",
       "      <td>http://www.shanghairanking.com/institution/mas...</td>\n",
       "    </tr>\n",
       "    <tr>\n",
       "      <th>3</th>\n",
       "      <td>4</td>\n",
       "      <td>University of Cambridge</td>\n",
       "      <td>1</td>\n",
       "      <td>69.6</td>\n",
       "      <td>United Kingdom</td>\n",
       "      <td>http://www.shanghairanking.com/institution/uni...</td>\n",
       "    </tr>\n",
       "    <tr>\n",
       "      <th>4</th>\n",
       "      <td>5</td>\n",
       "      <td>University of California, Berkeley</td>\n",
       "      <td>4</td>\n",
       "      <td>65.3</td>\n",
       "      <td>USA</td>\n",
       "      <td>http://www.shanghairanking.com/institution/uni...</td>\n",
       "    </tr>\n",
       "    <tr>\n",
       "      <th>...</th>\n",
       "      <td>...</td>\n",
       "      <td>...</td>\n",
       "      <td>...</td>\n",
       "      <td>...</td>\n",
       "      <td>...</td>\n",
       "      <td>...</td>\n",
       "    </tr>\n",
       "    <tr>\n",
       "      <th>995</th>\n",
       "      <td>995</td>\n",
       "      <td>University of Wuppertal</td>\n",
       "      <td>46</td>\n",
       "      <td>0.0</td>\n",
       "      <td>Germany</td>\n",
       "      <td>http://www.shanghairanking.com/institution/uni...</td>\n",
       "    </tr>\n",
       "    <tr>\n",
       "      <th>996</th>\n",
       "      <td>996</td>\n",
       "      <td>Warsaw University of Technology</td>\n",
       "      <td>7</td>\n",
       "      <td>0.0</td>\n",
       "      <td>Poland</td>\n",
       "      <td>http://www.shanghairanking.com/institution/war...</td>\n",
       "    </tr>\n",
       "    <tr>\n",
       "      <th>997</th>\n",
       "      <td>997</td>\n",
       "      <td>Western Norway University of Applied Sciences</td>\n",
       "      <td>6</td>\n",
       "      <td>0.0</td>\n",
       "      <td>Norway</td>\n",
       "      <td>http://www.shanghairanking.com/institution/wes...</td>\n",
       "    </tr>\n",
       "    <tr>\n",
       "      <th>998</th>\n",
       "      <td>998</td>\n",
       "      <td>Wroclaw University of Science and Technology</td>\n",
       "      <td>7</td>\n",
       "      <td>0.0</td>\n",
       "      <td>None</td>\n",
       "      <td>http://www.shanghairanking.com/institution/wro...</td>\n",
       "    </tr>\n",
       "    <tr>\n",
       "      <th>999</th>\n",
       "      <td>999</td>\n",
       "      <td>Yantai University</td>\n",
       "      <td>148</td>\n",
       "      <td>0.0</td>\n",
       "      <td>China</td>\n",
       "      <td>http://www.shanghairanking.com/institution/yan...</td>\n",
       "    </tr>\n",
       "  </tbody>\n",
       "</table>\n",
       "<p>1000 rows × 6 columns</p>\n",
       "</div>"
      ],
      "text/plain": [
       "     World Rank                                University Name  \\\n",
       "0             1                             Harvard University   \n",
       "1             2                            Stanford University   \n",
       "2             3    Massachusetts Institute of Technology (MIT)   \n",
       "3             4                        University of Cambridge   \n",
       "4             5             University of California, Berkeley   \n",
       "..          ...                                            ...   \n",
       "995         995                        University of Wuppertal   \n",
       "996         996                Warsaw University of Technology   \n",
       "997         997  Western Norway University of Applied Sciences   \n",
       "998         998   Wroclaw University of Science and Technology   \n",
       "999         999                              Yantai University   \n",
       "\n",
       "     National/Regional Rank  Total Score        Location  \\\n",
       "0                         1        100.0             USA   \n",
       "1                         2         76.8             USA   \n",
       "2                         3         70.1            None   \n",
       "3                         1         69.6  United Kingdom   \n",
       "4                         4         65.3             USA   \n",
       "..                      ...          ...             ...   \n",
       "995                      46          0.0         Germany   \n",
       "996                       7          0.0          Poland   \n",
       "997                       6          0.0          Norway   \n",
       "998                       7          0.0            None   \n",
       "999                     148          0.0           China   \n",
       "\n",
       "                                    University Detail   \n",
       "0    http://www.shanghairanking.com/institution/har...  \n",
       "1    http://www.shanghairanking.com/institution/sta...  \n",
       "2    http://www.shanghairanking.com/institution/mas...  \n",
       "3    http://www.shanghairanking.com/institution/uni...  \n",
       "4    http://www.shanghairanking.com/institution/uni...  \n",
       "..                                                 ...  \n",
       "995  http://www.shanghairanking.com/institution/uni...  \n",
       "996  http://www.shanghairanking.com/institution/war...  \n",
       "997  http://www.shanghairanking.com/institution/wes...  \n",
       "998  http://www.shanghairanking.com/institution/wro...  \n",
       "999  http://www.shanghairanking.com/institution/yan...  \n",
       "\n",
       "[1000 rows x 6 columns]"
      ]
     },
     "execution_count": 274,
     "metadata": {},
     "output_type": "execute_result"
    }
   ],
   "source": [
    "arwu_df"
   ]
  },
  {
   "cell_type": "markdown",
   "id": "bd2b5bc4-db37-4432-b666-0714afd0c4ca",
   "metadata": {},
   "source": [
    "## 1. Data Profiling:\n",
    "Data profiling is a comprehensive process of examining the data available in an existing dataset and collecting statistics and information about that data. "
   ]
  },
  {
   "cell_type": "code",
   "execution_count": 276,
   "id": "672f2081-5a2c-4908-8cbd-29519fb3cac5",
   "metadata": {},
   "outputs": [
    {
     "name": "stdout",
     "output_type": "stream",
     "text": [
      "<class 'pandas.core.frame.DataFrame'>\n",
      "RangeIndex: 1000 entries, 0 to 999\n",
      "Data columns (total 6 columns):\n",
      " #   Column                  Non-Null Count  Dtype  \n",
      "---  ------                  --------------  -----  \n",
      " 0   World Rank              1000 non-null   int32  \n",
      " 1   University Name         1000 non-null   object \n",
      " 2   National/Regional Rank  1000 non-null   int64  \n",
      " 3   Total Score             1000 non-null   float64\n",
      " 4   Location                797 non-null    object \n",
      " 5   University Detail       1000 non-null   object \n",
      "dtypes: float64(1), int32(1), int64(1), object(3)\n",
      "memory usage: 43.1+ KB\n"
     ]
    }
   ],
   "source": [
    "arwu_df.info()"
   ]
  },
  {
   "cell_type": "code",
   "execution_count": 178,
   "id": "d99a1e5b-aad2-4ef8-9484-a45b8fd3d4b2",
   "metadata": {},
   "outputs": [
    {
     "data": {
      "text/plain": [
       "(1000, 6)"
      ]
     },
     "execution_count": 178,
     "metadata": {},
     "output_type": "execute_result"
    }
   ],
   "source": [
    "arwu_df.shape"
   ]
  },
  {
   "cell_type": "code",
   "execution_count": 183,
   "id": "bf20a344-3a21-41dc-9c50-dd850839bcea",
   "metadata": {},
   "outputs": [
    {
     "data": {
      "text/html": [
       "<div>\n",
       "<style scoped>\n",
       "    .dataframe tbody tr th:only-of-type {\n",
       "        vertical-align: middle;\n",
       "    }\n",
       "\n",
       "    .dataframe tbody tr th {\n",
       "        vertical-align: top;\n",
       "    }\n",
       "\n",
       "    .dataframe thead th {\n",
       "        text-align: right;\n",
       "    }\n",
       "</style>\n",
       "<table border=\"1\" class=\"dataframe\">\n",
       "  <thead>\n",
       "    <tr style=\"text-align: right;\">\n",
       "      <th></th>\n",
       "      <th>World Rank</th>\n",
       "      <th>National/Regional Rank</th>\n",
       "      <th>Total Score</th>\n",
       "    </tr>\n",
       "  </thead>\n",
       "  <tbody>\n",
       "    <tr>\n",
       "      <th>count</th>\n",
       "      <td>1000.000000</td>\n",
       "      <td>1000.000000</td>\n",
       "      <td>1000.000000</td>\n",
       "    </tr>\n",
       "    <tr>\n",
       "      <th>mean</th>\n",
       "      <td>499.579000</td>\n",
       "      <td>38.244000</td>\n",
       "      <td>5.943500</td>\n",
       "    </tr>\n",
       "    <tr>\n",
       "      <th>std</th>\n",
       "      <td>288.694704</td>\n",
       "      <td>47.207849</td>\n",
       "      <td>12.379624</td>\n",
       "    </tr>\n",
       "    <tr>\n",
       "      <th>min</th>\n",
       "      <td>1.000000</td>\n",
       "      <td>1.000000</td>\n",
       "      <td>0.000000</td>\n",
       "    </tr>\n",
       "    <tr>\n",
       "      <th>25%</th>\n",
       "      <td>249.750000</td>\n",
       "      <td>5.000000</td>\n",
       "      <td>0.000000</td>\n",
       "    </tr>\n",
       "    <tr>\n",
       "      <th>50%</th>\n",
       "      <td>499.500000</td>\n",
       "      <td>17.000000</td>\n",
       "      <td>0.000000</td>\n",
       "    </tr>\n",
       "    <tr>\n",
       "      <th>75%</th>\n",
       "      <td>749.250000</td>\n",
       "      <td>54.250000</td>\n",
       "      <td>7.500000</td>\n",
       "    </tr>\n",
       "    <tr>\n",
       "      <th>max</th>\n",
       "      <td>999.000000</td>\n",
       "      <td>183.000000</td>\n",
       "      <td>100.000000</td>\n",
       "    </tr>\n",
       "  </tbody>\n",
       "</table>\n",
       "</div>"
      ],
      "text/plain": [
       "        World Rank  National/Regional Rank  Total Score\n",
       "count  1000.000000             1000.000000  1000.000000\n",
       "mean    499.579000               38.244000     5.943500\n",
       "std     288.694704               47.207849    12.379624\n",
       "min       1.000000                1.000000     0.000000\n",
       "25%     249.750000                5.000000     0.000000\n",
       "50%     499.500000               17.000000     0.000000\n",
       "75%     749.250000               54.250000     7.500000\n",
       "max     999.000000              183.000000   100.000000"
      ]
     },
     "execution_count": 183,
     "metadata": {},
     "output_type": "execute_result"
    }
   ],
   "source": [
    "arwu_df.describe()"
   ]
  },
  {
   "cell_type": "code",
   "execution_count": 235,
   "id": "3f318507-7164-4927-8c3a-72cc1d83962d",
   "metadata": {},
   "outputs": [
    {
     "data": {
      "text/plain": [
       "Index(['Ranking', 'University Name', 'National/Regional Rank', 'Total Score',\n",
       "       'Location', 'University Detail '],\n",
       "      dtype='object')"
      ]
     },
     "execution_count": 235,
     "metadata": {},
     "output_type": "execute_result"
    }
   ],
   "source": [
    "arwu_df.columns"
   ]
  },
  {
   "cell_type": "markdown",
   "id": "834929aa-fd6a-4ec5-84d4-77c4b3c1a506",
   "metadata": {},
   "source": [
    "The process of profiling differs slightly for categorical and numerical variables due to their inherent differences.\n",
    "\n",
    "**The two main types of data are:**\n",
    "- Quantitative (numerical) data\n",
    "- Qualitative (categorical) data"
   ]
  },
  {
   "cell_type": "markdown",
   "id": "3a9954f5-6fbc-45b4-ad86-3e21b6e0ca2d",
   "metadata": {},
   "source": [
    "### Data Quality Checks\n",
    "Data quality checks involve the process of ensuring that the data is accurate, complete, consistent, relevant, and reliable. \n",
    "\n",
    "\n",
    "**Here are typical steps involved in checking data quality:**"
   ]
  },
  {
   "cell_type": "markdown",
   "id": "4818c876-173d-4e56-9e7d-b4334d2def25",
   "metadata": {},
   "source": [
    "#### 1. Reliability:\n",
    "Evaluate the data's source and collection process to determine its trustworthiness."
   ]
  },
  {
   "cell_type": "code",
   "execution_count": 277,
   "id": "9034ae7b-dc1d-4cba-8f9e-bb499d021cde",
   "metadata": {},
   "outputs": [
    {
     "name": "stdout",
     "output_type": "stream",
     "text": [
      "My dataset is Reliabel - i take it from kaggel website and it's trustness\n"
     ]
    }
   ],
   "source": [
    "print(\"My dataset is Reliabel - i take it from kaggel website and it's trustness\")"
   ]
  },
  {
   "cell_type": "markdown",
   "id": "2ce0cc59-8c92-4acc-8d07-c40764e1a86b",
   "metadata": {},
   "source": [
    "#### 2. Timeliness: \n",
    "Ensure the data is up-to-date and reflective of the current situation or the period of interest for the analysis."
   ]
  },
  {
   "cell_type": "code",
   "execution_count": null,
   "id": "4b78ae35-7226-4cb6-b8b2-a46c2ed17cf9",
   "metadata": {},
   "outputs": [],
   "source": []
  },
  {
   "cell_type": "markdown",
   "id": "7fab0fe2-6624-4615-b9d8-3c3669056bf8",
   "metadata": {},
   "source": [
    "#### 3. Consistency: \n",
    "\n",
    "Confirm that the data is consistent within the dataset and across multiple data sources. For example, the same data point should not have different values in different places.\n"
   ]
  },
  {
   "cell_type": "code",
   "execution_count": 59,
   "id": "7fecc573-959f-4800-8ddd-a67985c68b18",
   "metadata": {},
   "outputs": [],
   "source": []
  },
  {
   "cell_type": "markdown",
   "id": "bec3d183-bba0-4b12-b963-487daab1e876",
   "metadata": {},
   "source": [
    "#### 4. Relevance: \n",
    "Assess whether the data is appropriate and applicable for the intended analysis. Data that is not relevant can skew results and lead to incorrect conclusions.\n",
    "\n",
    "**Key considerations for relevance include:**\n",
    "\n",
    "> 1. Sample Appropriateness: Confirm that your data sample aligns with your analysis objectives. For instance, utilizing data from the Northern region will not yield accurate insights for the Western region of the Kingdom.\n",
    ">\n",
    "> 2. Variable Selection: Any column will not be relevant for our analysis, we can get rid of these using the drop() method. We will set the “axis” argument to 1 since we’re dealing with columns, and set the “inplace” argument to True to make the change permanent.\n"
   ]
  },
  {
   "cell_type": "code",
   "execution_count": 187,
   "id": "50a934b7-a0cd-443f-8a27-f10e9a6e8647",
   "metadata": {
    "scrolled": true
   },
   "outputs": [
    {
     "data": {
      "text/html": [
       "<div>\n",
       "<style scoped>\n",
       "    .dataframe tbody tr th:only-of-type {\n",
       "        vertical-align: middle;\n",
       "    }\n",
       "\n",
       "    .dataframe tbody tr th {\n",
       "        vertical-align: top;\n",
       "    }\n",
       "\n",
       "    .dataframe thead th {\n",
       "        text-align: right;\n",
       "    }\n",
       "</style>\n",
       "<table border=\"1\" class=\"dataframe\">\n",
       "  <thead>\n",
       "    <tr style=\"text-align: right;\">\n",
       "      <th></th>\n",
       "      <th></th>\n",
       "      <th></th>\n",
       "      <th></th>\n",
       "      <th>National/Regional Rank</th>\n",
       "      <th>University Detail</th>\n",
       "    </tr>\n",
       "    <tr>\n",
       "      <th>World Rank</th>\n",
       "      <th>University Name</th>\n",
       "      <th>Location</th>\n",
       "      <th>Total Score</th>\n",
       "      <th></th>\n",
       "      <th></th>\n",
       "    </tr>\n",
       "  </thead>\n",
       "  <tbody>\n",
       "    <tr>\n",
       "      <th>1</th>\n",
       "      <th>Harvard University</th>\n",
       "      <th>USA</th>\n",
       "      <th>100.0</th>\n",
       "      <td>1</td>\n",
       "      <td>1</td>\n",
       "    </tr>\n",
       "    <tr>\n",
       "      <th>2</th>\n",
       "      <th>Stanford University</th>\n",
       "      <th>USA</th>\n",
       "      <th>76.8</th>\n",
       "      <td>1</td>\n",
       "      <td>1</td>\n",
       "    </tr>\n",
       "    <tr>\n",
       "      <th>3</th>\n",
       "      <th>Massachusetts Institute of Technology (MIT)</th>\n",
       "      <th>0</th>\n",
       "      <th>70.1</th>\n",
       "      <td>1</td>\n",
       "      <td>1</td>\n",
       "    </tr>\n",
       "    <tr>\n",
       "      <th>4</th>\n",
       "      <th>University of Cambridge</th>\n",
       "      <th>United Kingdom</th>\n",
       "      <th>69.6</th>\n",
       "      <td>1</td>\n",
       "      <td>1</td>\n",
       "    </tr>\n",
       "    <tr>\n",
       "      <th>5</th>\n",
       "      <th>University of California, Berkeley</th>\n",
       "      <th>USA</th>\n",
       "      <th>65.3</th>\n",
       "      <td>1</td>\n",
       "      <td>1</td>\n",
       "    </tr>\n",
       "    <tr>\n",
       "      <th>...</th>\n",
       "      <th>...</th>\n",
       "      <th>...</th>\n",
       "      <th>...</th>\n",
       "      <td>...</td>\n",
       "      <td>...</td>\n",
       "    </tr>\n",
       "    <tr>\n",
       "      <th>995</th>\n",
       "      <th>University of Wuppertal</th>\n",
       "      <th>Germany</th>\n",
       "      <th>0.0</th>\n",
       "      <td>1</td>\n",
       "      <td>1</td>\n",
       "    </tr>\n",
       "    <tr>\n",
       "      <th>996</th>\n",
       "      <th>Warsaw University of Technology</th>\n",
       "      <th>Poland</th>\n",
       "      <th>0.0</th>\n",
       "      <td>1</td>\n",
       "      <td>1</td>\n",
       "    </tr>\n",
       "    <tr>\n",
       "      <th>997</th>\n",
       "      <th>Western Norway University of Applied Sciences</th>\n",
       "      <th>Norway</th>\n",
       "      <th>0.0</th>\n",
       "      <td>1</td>\n",
       "      <td>1</td>\n",
       "    </tr>\n",
       "    <tr>\n",
       "      <th>998</th>\n",
       "      <th>Wroclaw University of Science and Technology</th>\n",
       "      <th>0</th>\n",
       "      <th>0.0</th>\n",
       "      <td>1</td>\n",
       "      <td>1</td>\n",
       "    </tr>\n",
       "    <tr>\n",
       "      <th>999</th>\n",
       "      <th>Yantai University</th>\n",
       "      <th>China</th>\n",
       "      <th>0.0</th>\n",
       "      <td>1</td>\n",
       "      <td>1</td>\n",
       "    </tr>\n",
       "  </tbody>\n",
       "</table>\n",
       "<p>1000 rows × 2 columns</p>\n",
       "</div>"
      ],
      "text/plain": [
       "                                                                                     National/Regional Rank  \\\n",
       "World Rank University Name                               Location       Total Score                           \n",
       "1          Harvard University                            USA            100.0                             1   \n",
       "2          Stanford University                           USA            76.8                              1   \n",
       "3          Massachusetts Institute of Technology (MIT)   0              70.1                              1   \n",
       "4          University of Cambridge                       United Kingdom 69.6                              1   \n",
       "5          University of California, Berkeley            USA            65.3                              1   \n",
       "...                                                                                                     ...   \n",
       "995        University of Wuppertal                       Germany        0.0                               1   \n",
       "996        Warsaw University of Technology               Poland         0.0                               1   \n",
       "997        Western Norway University of Applied Sciences Norway         0.0                               1   \n",
       "998        Wroclaw University of Science and Technology  0              0.0                               1   \n",
       "999        Yantai University                             China          0.0                               1   \n",
       "\n",
       "                                                                                     University Detail   \n",
       "World Rank University Name                               Location       Total Score                      \n",
       "1          Harvard University                            USA            100.0                         1  \n",
       "2          Stanford University                           USA            76.8                          1  \n",
       "3          Massachusetts Institute of Technology (MIT)   0              70.1                          1  \n",
       "4          University of Cambridge                       United Kingdom 69.6                          1  \n",
       "5          University of California, Berkeley            USA            65.3                          1  \n",
       "...                                                                                                 ...  \n",
       "995        University of Wuppertal                       Germany        0.0                           1  \n",
       "996        Warsaw University of Technology               Poland         0.0                           1  \n",
       "997        Western Norway University of Applied Sciences Norway         0.0                           1  \n",
       "998        Wroclaw University of Science and Technology  0              0.0                           1  \n",
       "999        Yantai University                             China          0.0                           1  \n",
       "\n",
       "[1000 rows x 2 columns]"
      ]
     },
     "execution_count": 187,
     "metadata": {},
     "output_type": "execute_result"
    }
   ],
   "source": [
    "arwu_df.groupby(['World Rank', 'University Name', 'Location' , 'Total Score']).count()"
   ]
  },
  {
   "cell_type": "code",
   "execution_count": 188,
   "id": "f7108790-a941-4f7b-91d3-906a35e4fb59",
   "metadata": {},
   "outputs": [
    {
     "data": {
      "text/plain": [
       "Total Score\n",
       "0.0     740\n",
       "10.7     20\n",
       "13.1     19\n",
       "11.9     18\n",
       "9.2      15\n",
       "       ... \n",
       "36.6      1\n",
       "37.2      1\n",
       "37.3      1\n",
       "38.0      1\n",
       "25.0      1\n",
       "Name: count, Length: 106, dtype: int64"
      ]
     },
     "execution_count": 188,
     "metadata": {},
     "output_type": "execute_result"
    }
   ],
   "source": [
    "arwu_df['Total Score'].value_counts()"
   ]
  },
  {
   "cell_type": "code",
   "execution_count": 194,
   "id": "f8c6d61b-8a6c-452f-a868-5c959321449e",
   "metadata": {},
   "outputs": [],
   "source": [
    "arwu_df.replace(0.0, np.nan, inplace=True)"
   ]
  },
  {
   "cell_type": "code",
   "execution_count": null,
   "id": "0e764d4b-0e23-49ce-ae1e-4aea3b466d68",
   "metadata": {},
   "outputs": [],
   "source": [
    "\n",
    "# Filter data for Saudi Arabian universities\n",
    "#result = arwu_df[arwu_df['Location'] == 'Saudi Arabia']\n",
    "\n",
    "# Create a bar chart\n",
    "#fig = go.Figure()\n",
    "\n",
    "# Add bar trace for National/Regional Rank\n",
    "3fig.add_trace(\n",
    " #   go.Bar(\n",
    "  #      x=result['University Name'],\n",
    "   #     y=result['National/Regional Rank'],\n",
    "    #    name='National/Regional Rank',\n",
    "     #   marker_color='blue',\n",
    "      #  width=0.4  # Increase the width of the bars\n",
    "  #  )\n",
    "#)\n",
    "\n",
    "# Add bar trace for World Rank\n",
    "#fig.add_trace(\n",
    " #   go.Bar(\n",
    "  #      x=result['University Name'],\n",
    "   #     y=result['World Rank'],\n",
    "    #    name='World Rank',\n",
    "    #    marker_color='lightblue',  # Use a lighter shade for better distinction\n",
    "    #    width=0.4  # Increase the width of the bars\n",
    "  #  )\n",
    "#)\n",
    "\n",
    "# Update layout\n",
    "#fig.update_layout(\n",
    " #   title='Bar Chart of Rankings for Saudi Arabian Universities',\n",
    "  #  xaxis_title='University Name',\n",
    "   # yaxis_title='Rank',\n",
    " #   barmode='group',  # Group bars together\n",
    " #   xaxis_tickangle=-45,  # Rotate x-axis labels for better visibility\n",
    "  #  yaxis=dict(range=[0, 400])  # Increased y-axis range\n",
    "#)\n",
    "\n",
    "#fig.update_layout(\n",
    "#    width=1200,\n",
    "#    height=800,\n",
    "#)\n",
    "\n",
    "#fig.show()\n"
   ]
  },
  {
   "cell_type": "markdown",
   "id": "0f5e3a2a-bbb7-4d06-8220-c93277b70146",
   "metadata": {},
   "source": [
    "#### 5. Uniqueness: \n",
    "Check for and remove duplicate records to prevent skewed analysis results.\n"
   ]
  },
  {
   "cell_type": "code",
   "execution_count": 346,
   "id": "a509a7aa-58f4-4d39-8eb8-e8298a21f2a7",
   "metadata": {},
   "outputs": [
    {
     "data": {
      "text/plain": [
       "0"
      ]
     },
     "execution_count": 346,
     "metadata": {},
     "output_type": "execute_result"
    }
   ],
   "source": [
    "arwu_df.duplicated().sum() # duplicated row"
   ]
  },
  {
   "cell_type": "code",
   "execution_count": 66,
   "id": "04c62559-3b48-48cf-a4e9-857e2e0ff416",
   "metadata": {},
   "outputs": [],
   "source": [
    "# go to delete duplicates columns"
   ]
  },
  {
   "cell_type": "markdown",
   "id": "c7724ac2-4ea2-4cf4-a9e0-e64368f87b92",
   "metadata": {},
   "source": [
    "#### 6. Completeness: \n",
    "Ensure that no critical data is missing. This might mean checking for null values or required fields that are empty.\n",
    "\n",
    "We will start by checking the dataset for missing or null values. For this, we can use the isna() method which returns a dataframe of boolean values indicating if a field is null or not. To group all missing values by column, we can include the sum() method."
   ]
  },
  {
   "cell_type": "code",
   "execution_count": 347,
   "id": "48a4de54-a344-4b94-9908-9528c15c13f7",
   "metadata": {},
   "outputs": [
    {
     "data": {
      "text/plain": [
       "Location                  203\n",
       "World Rank                  0\n",
       "University Name             0\n",
       "National/Regional Rank      0\n",
       "Total Score                 0\n",
       "University Detail           0\n",
       "dtype: int64"
      ]
     },
     "execution_count": 347,
     "metadata": {},
     "output_type": "execute_result"
    }
   ],
   "source": [
    "#Display number missing values per column\n",
    "arwu_df.isnull().sum().sort_values(ascending = False)"
   ]
  },
  {
   "cell_type": "code",
   "execution_count": 68,
   "id": "abec31c4-0904-4b73-8cee-b7bc14ab1e67",
   "metadata": {},
   "outputs": [],
   "source": [
    "# go to clean them "
   ]
  },
  {
   "cell_type": "markdown",
   "id": "b40de63c-5a1d-49ed-a87e-c5229ee08bbe",
   "metadata": {},
   "source": [
    "#### 7. Check Accuracy:\n",
    "\n",
    "Verify that the data is correct and precise. This could involve comparing data samples with known sources or using validation rules.\n",
    "\n",
    "**The process includes:**\n",
    "1. Validating the appropriateness of data types for the dataset.\n",
    "2. Identifying outliers  using established validation  rule"
   ]
  },
  {
   "cell_type": "code",
   "execution_count": 348,
   "id": "68be5334-ae10-4abd-8097-3259fe5e72c8",
   "metadata": {},
   "outputs": [
    {
     "data": {
      "text/plain": [
       "World Rank                  int32\n",
       "University Name            object\n",
       "National/Regional Rank      int64\n",
       "Total Score               float64\n",
       "Location                   object\n",
       "University Detail          object\n",
       "dtype: object"
      ]
     },
     "execution_count": 348,
     "metadata": {},
     "output_type": "execute_result"
    }
   ],
   "source": [
    "# check columns types \n",
    "arwu_df.dtypes"
   ]
  },
  {
   "cell_type": "code",
   "execution_count": 33,
   "id": "2ee790ba-dcc0-45f1-b6f8-0133e913e149",
   "metadata": {},
   "outputs": [],
   "source": [
    "# go to clean them "
   ]
  },
  {
   "cell_type": "code",
   "execution_count": 3,
   "id": "c69b303a-5459-45f9-a28e-fcee45c21c05",
   "metadata": {},
   "outputs": [],
   "source": [
    "# check outliers "
   ]
  },
  {
   "cell_type": "markdown",
   "id": "4aca9d42-add6-45db-92cf-1f6dae5f277b",
   "metadata": {},
   "source": [
    "**What is an Outlier?** \n",
    "Outlier is an row/observation that appears far away and diverges from an overall pattern in a sample.\n",
    "\n",
    "**What are the types of Outliers?**\n",
    "1. Univariate: These outliers can be found when we look at distribution of a single variable\n",
    "2. Multivariate: are outliers in an n-dimensional space. In order to find them, you have to look at distributions in multi-dimensions. example (hight=100, weight=100) for a person\n",
    "\n",
    "**What causes Outliers?**\n",
    "Whenever we come across outliers, the ideal way to tackle them is to find out the reason of having these outliers. The method to deal with them would then depend on the reason of their occurrence.\n",
    "\n",
    "Let’s understand various types of outliers:\n",
    "\n",
    "1. Data Entry Errors:- Human errors such as errors caused during data collection, recording, or entry can cause outliers in data.\n",
    "2. Measurement Error: It is the most common source of outliers. This is caused when the measurement instrument used turns out to be faulty.\n",
    "3. Data Processing Error: Whenever we perform data mining, we extract data from multiple sources. It is possible that some manipulation or extraction errors may lead to outliers in the dataset.\n",
    "4. Sampling error: For instance, we have to measure the height of athletes. By mistake, we include a few basketball players in the sample. This inclusion is likely to cause outliers in the dataset.\n",
    "5. Natural Outlier: When an outlier is not artificial (due to error), it is a natural outlier. For instance: In my last assignment with one of the renowned insurance company, I noticed that the performance of top 50 financial advisors was far higher than rest of the population. Surprisingly, it was not due to any error. Hence, whenever we perform any data mining activity with advisors, we used to treat this segment separately.\n",
    "\n",
    "\n",
    "**What is the impact of Outliers on a dataset?**\n",
    "\n",
    "\n",
    "![image.png](https://www.analyticsvidhya.com/wp-content/uploads/2015/02/Outlier_31.png)\n",
    "\n",
    "\n",
    "\n",
    "**How to detect Outliers?**\n",
    "\n",
    "1. Most commonly used method to detect outliers is visualization (Univariate Graphical Analysis).\n",
    "\n",
    "We use 3 common visualization methods:\n",
    ">- Box-plot: A box plot is a method for graphically depicting groups of numerical data through their quartiles. The box extends from the Q1 to Q3 quartile values of the data, with a line at the median (Q2). The whiskers extend from the edges of the box to show the range of the data. Outlier points are those past the end of the whiskers. Box plots show robust measures of location and spread as well as providing information about symmetry and outliers.\n",
    ">\n",
    ">  \n",
    ">![image.png](https://miro.medium.com/v2/resize:fit:698/format:webp/1*VK5iHA2AB28HSZwWwUbNYg.png)\n",
    ">\n",
    ">\n",
    ">- Histogram\n",
    ">- Scatter Plot: A scatter plot is a mathematical diagram using Cartesian coordinates to display values for two variables for a set of data. The data are displayed as a collection of points, each having the value of one variable determining the position on the horizontal axis and the value of the other variable determining the position on the vertical axis. The points that are far from the population can be termed as an outlier.\n",
    ">\n",
    ">  \n",
    ">![image.png](https://miro.medium.com/v2/resize:fit:4800/format:webp/1*Ov6aH-8yIwNoUxtMFwgx4g.png)\n",
    ">\n",
    ">\n",
    "\n",
    "2. Using statistical method (Univariate Non-Graphical analysis):\n",
    ">- Any value, which is beyond the range of -1.5 x IQR to 1.5 x IQR\n",
    " \n",
    "![image.png](https://www.whatissixsigma.net/wp-content/uploads/2015/07/Box-Plot-Diagram-to-identify-Outliers-figure-1.png)\n",
    "\n",
    ">- Use capping methods. Any value which out of range of 5th and 95th percentile can be considered as outlier\n",
    ">- Data points, three or more standard deviation away from mean are considered outlier: The Z-score is the signed number of standard deviations by which the value of an observation or data point is above the mean value of what is being observed or measured. While calculating the Z-score we re-scale and center the data and look for data points that are too far from zero. These data points which are way too far from zero will be treated as the outliers. In most of the cases, a threshold of 3 or -3 is used i.e if the Z-score value is greater than or less than 3 or -3 respectively, that data point will be identified as outliers.\n",
    "> - Outlier detection is merely a special case of the examination of data for influential data points and it also depends on the business understanding\n"
   ]
  },
  {
   "cell_type": "code",
   "execution_count": 23,
   "id": "74ea6194-cc01-45d8-be38-c4543eb1714e",
   "metadata": {},
   "outputs": [],
   "source": [
    "# go to univariate graphical analysis\n",
    "# go to lesson : data visualisation 1 - chart type section\n",
    "# then go to univariate graphical analysis\n",
    "# detect outliers using graphs varbaly"
   ]
  },
  {
   "cell_type": "code",
   "execution_count": 24,
   "id": "48ecf77b-480c-4f64-9485-95be805bc357",
   "metadata": {},
   "outputs": [],
   "source": [
    "# go to lesson: statistics 1 then statistics 3\n",
    "# then go to univariate Non graphical analysis\n",
    "# detect outliers using numerical statistics "
   ]
  },
  {
   "cell_type": "code",
   "execution_count": 25,
   "id": "4e66d611-6958-4860-8522-9ada7fce40b0",
   "metadata": {},
   "outputs": [],
   "source": [
    "# go to delete ouliers"
   ]
  },
  {
   "attachments": {},
   "cell_type": "markdown",
   "id": "4e886ec7-388c-414b-ada7-803c2fb1f2cb",
   "metadata": {},
   "source": [
    "## 2. Data Cleaning: \n",
    "\n",
    "Preliminary findings from data profiling can lead to cleaning the data by:\n",
    "- Handling missing values\n",
    "- Correcting errors.\n",
    "- Dealing with outliers.\n",
    "\n",
    "-------------------\n",
    "\n"
   ]
  },
  {
   "cell_type": "markdown",
   "id": "21876b48-f5ec-4970-85a9-0520d45d8841",
   "metadata": {},
   "source": [
    "### Handling missing values:"
   ]
  },
  {
   "cell_type": "markdown",
   "id": "c890d5a2-2a65-4090-9427-f89c0f011d3f",
   "metadata": {},
   "source": [
    "**Why my data has missing values?**\n",
    "They may occur at two stages:\n",
    "1. Data Extraction: It is possible that there are problems with extraction process. Errors at data extraction stage are typically easy to find and can be corrected easily as well.\n",
    "2. Data collection: These errors occur at time of data collection and are harder to correct.\n",
    "\n",
    "**Why do we need to handle the missing data?**\n",
    "To avoid:\n",
    "- Bias the conclusions.\n",
    "- Leading the business to make wrong decisions.\n",
    "\n",
    "**Which are the methods to treat missing values ?**\n",
    "1. Deletion: we delete rows where any of the variable is missing. Simplicity is one of the major advantage of this method, but this method reduces the power of model because it reduces the sample size.\n",
    "\n",
    "2. Imputation: is a method to fill in the missing values with estimated ones. This imputation is one of the most frequently used methods.\n",
    "\n",
    "    2.1. Mean/ Mode/ Median Imputation: It consists of replacing the missing data for a given attribute by the mean or median (quantitative attribute) or mode (qualitative attribute) of all known values of that variable.\n",
    "    > It can be of two types:\n",
    "    > - Generalized Imputation: In this case, we calculate the mean or median for all non missing values of that variable then replace missing value with mean or median.\n",
    "    > - Similar case Imputation: In this case, we calculate average for each group individually of non missing values then replace the missing value based on the group.\n",
    "\n",
    "    2.2. Constant Value\n",
    "   \n",
    "    2.3. Forward Filling\n",
    "   \n",
    "    2.4. Backward Filling\n",
    "\n",
    "6. Prediction Model:  Prediction model is one of the sophisticated method for handling missing data. Here, we create a predictive model to estimate values that will substitute the missing data.  In this case, we divide our data set into two sets: One set with no missing values for the variable and another one with missing values. First data set become training data set of the model while second data set with missing values is test data set and variable with missing values is treated as target variable. Next, we create a model to predict target variable based on other attributes of the training data set and populate missing values of test data set.\n",
    "\n",
    "> There are 2 drawbacks for this approach:\n",
    "> - The model estimated values are usually more well-behaved than the true values\n",
    "> - If there are no relationships with attributes in the data set and the attribute with missing values, then the model will not be precise for estimating missing values.\n",
    "\n",
    "9. KNN Imputation: In this method of imputation, the missing values of an attribute are imputed using the given number of attributes that are most similar to the attribute whose values are missing. The similarity of two attributes is determined using a distance function. It is also known to have certain advantage & disadvantages.\n",
    "\n",
    "   > **Advantages:**\n",
    "   > - k-nearest neighbour can predict both qualitative & quantitative attributes\n",
    "   > - Creation of predictive model for each attribute with missing data is not required\n",
    "   > - Attributes with multiple missing values can be easily treated\n",
    "   > - Correlation structure of the data is taken into consideration\n",
    "\n",
    "   > **Disadvantage:**\n",
    "   > - KNN algorithm is very time-consuming in analyzing large database. It searches through all the dataset looking for the most similar instances.\n",
    "   > - Choice of k-value is very critical. Higher value of k would include attributes which are significantly different from what we need whereas lower value of k implies missing out of significant attributes.\n",
    "\n",
    "--------------------\n"
   ]
  },
  {
   "cell_type": "code",
   "execution_count": 369,
   "id": "57e741fb-71c1-46ad-a526-d8f0b1564dc3",
   "metadata": {},
   "outputs": [
    {
     "data": {
      "text/plain": [
       "National/Regional Rank\n",
       "1     68\n",
       "2     60\n",
       "9     56\n",
       "4     48\n",
       "3     47\n",
       "      ..\n",
       "37     1\n",
       "36     1\n",
       "24     1\n",
       "21     1\n",
       "15     1\n",
       "Name: count, Length: 62, dtype: int64"
      ]
     },
     "execution_count": 369,
     "metadata": {},
     "output_type": "execute_result"
    }
   ],
   "source": [
    "arwu_df['National/Regional Rank'].value_counts()"
   ]
  },
  {
   "cell_type": "code",
   "execution_count": 370,
   "id": "01287962-8077-4c01-8d1d-5f8aed6cb37a",
   "metadata": {},
   "outputs": [
    {
     "data": {
      "text/plain": [
       "World Rank                  int32\n",
       "University Name            object\n",
       "National/Regional Rank      int64\n",
       "Total Score               float64\n",
       "Location                   object\n",
       "University Detail          object\n",
       "dtype: object"
      ]
     },
     "execution_count": 370,
     "metadata": {},
     "output_type": "execute_result"
    }
   ],
   "source": [
    "arwu_df.dtypes"
   ]
  },
  {
   "cell_type": "markdown",
   "id": "f7cee10f-0af8-44e5-b595-8e965294daad",
   "metadata": {},
   "source": [
    "### Correcting errors\n",
    "\n",
    "-------------------"
   ]
  },
  {
   "cell_type": "code",
   "execution_count": null,
   "id": "06273b88-a169-42e8-81f5-5d71cb3f9c21",
   "metadata": {},
   "outputs": [],
   "source": []
  },
  {
   "cell_type": "code",
   "execution_count": null,
   "id": "f1d95da5-a3ba-473a-8243-aa177cadae20",
   "metadata": {},
   "outputs": [],
   "source": [
    "# go back to 7th dimension Accuracy "
   ]
  },
  {
   "cell_type": "markdown",
   "id": "5ecc7dbb-6867-44cf-8f99-1b969a80be40",
   "metadata": {},
   "source": [
    "### Dealing with outliers:"
   ]
  },
  {
   "attachments": {},
   "cell_type": "markdown",
   "id": "88347887-4bdf-48af-9486-cb8fe80c97af",
   "metadata": {},
   "source": [
    "**How to remove Outliers?**\n",
    "Most of the ways to deal with outliers are similar to the methods of missing values like deleting rows, transforming them, binning them, treat them as a separate group, imputing values and other statistical methods. Here, we will discuss the common techniques used to deal with outliers:\n",
    "\n",
    "1. Deleting rows: We delete outlier values if it is due to data entry error, data processing error or outlier rows are very small in numbers. We can also use trimming at both ends to remove outliers.\n",
    "\n",
    "2. Imputing: Like imputation of missing values, we can also impute outliers. We can use mean, median, mode imputation methods. Before imputing values, we should analyse if it is natural outlier or artificial. If it is artificial, we can go with imputing values. We can also use statistical model to predict values of outlier rows and after that we can impute it with predicted values.\n",
    "\n",
    "3. Treat separately: If there are significant number of outliers, we should treat them separately in the statistical model. One of the approach is to treat both groups as two different groups and build individual model for both groups and then combine the output.\n"
   ]
  },
  {
   "cell_type": "code",
   "execution_count": null,
   "id": "25a585f0-2b9c-42fa-bf21-cacc6aa3be3f",
   "metadata": {},
   "outputs": [],
   "source": []
  },
  {
   "cell_type": "markdown",
   "id": "98548b66-e309-4eb8-a5dc-65fe0abbf1e8",
   "metadata": {},
   "source": [
    "## 3. Univariate Analysis: \n",
    "\n",
    "This involves examining single variables to understand their characteristics (distribution, central tendency, dispersion, and shape).\n",
    "\n",
    "We calculate **numerical values** about the data that tells us about the distribution of the data. We also **draw graphs** showing visually how the data is distributed. **To answer the following questions about Features/characteristics of Data:**\n",
    "- Where is the center of the data? (location)\n",
    "- How much does the data vary? (scale)\n",
    "- What is the shape of the data? (shape)\n",
    "\n",
    "**The benefits of this analysis:**\n",
    "Statistics summary gives a high-level idea to identify whether the data has any outliers, data entry error, distribution of data such as the data is normally distributed or left/right skewed\n",
    "\n",
    "**In this step, we will explore variables one by one using following approaches:**"
   ]
  },
  {
   "cell_type": "markdown",
   "id": "d6718111-7ac2-4fff-9851-654655b62e0b",
   "metadata": {},
   "source": [
    "### 1. Univariate Graphical Analysis:\n",
    "Method to perform uni-variate analysis will depend on whether the variable type is categorical or numerical."
   ]
  },
  {
   "cell_type": "code",
   "execution_count": 375,
   "id": "f8ae3a16-087a-4212-92a1-9247079f8480",
   "metadata": {},
   "outputs": [
    {
     "data": {
      "application/vnd.plotly.v1+json": {
       "config": {
        "plotlyServerURL": "https://plot.ly"
       },
       "data": [
        {
         "alignmentgroup": "True",
         "hovertemplate": "World Rank=%{x}<br>Total Score=%{y}<br>University Name=%{text}<extra></extra>",
         "legendgroup": "",
         "marker": {
          "color": "#636efa",
          "pattern": {
           "shape": ""
          }
         },
         "name": "",
         "offsetgroup": "",
         "orientation": "v",
         "showlegend": false,
         "text": [
          "Harvard University",
          "Stanford University",
          "Massachusetts Institute of Technology (MIT)",
          "University of Cambridge",
          "University of California, Berkeley",
          "Princeton University",
          "University of Oxford",
          "Columbia University",
          "California Institute of Technology",
          "University of Chicago"
         ],
         "textposition": "outside",
         "texttemplate": "%{text}",
         "type": "bar",
         "x": [
          1,
          2,
          3,
          4,
          5,
          6,
          7,
          8,
          9,
          10
         ],
         "xaxis": "x",
         "y": [
          100,
          76.8,
          70.1,
          69.6,
          65.3,
          60,
          58.7,
          57.2,
          56.1,
          55.1
         ],
         "yaxis": "y"
        }
       ],
       "layout": {
        "autosize": true,
        "barmode": "relative",
        "legend": {
         "tracegroupgap": 0
        },
        "margin": {
         "t": 60
        },
        "template": {
         "data": {
          "bar": [
           {
            "error_x": {
             "color": "#2a3f5f"
            },
            "error_y": {
             "color": "#2a3f5f"
            },
            "marker": {
             "line": {
              "color": "#E5ECF6",
              "width": 0.5
             },
             "pattern": {
              "fillmode": "overlay",
              "size": 10,
              "solidity": 0.2
             }
            },
            "type": "bar"
           }
          ],
          "barpolar": [
           {
            "marker": {
             "line": {
              "color": "#E5ECF6",
              "width": 0.5
             },
             "pattern": {
              "fillmode": "overlay",
              "size": 10,
              "solidity": 0.2
             }
            },
            "type": "barpolar"
           }
          ],
          "carpet": [
           {
            "aaxis": {
             "endlinecolor": "#2a3f5f",
             "gridcolor": "white",
             "linecolor": "white",
             "minorgridcolor": "white",
             "startlinecolor": "#2a3f5f"
            },
            "baxis": {
             "endlinecolor": "#2a3f5f",
             "gridcolor": "white",
             "linecolor": "white",
             "minorgridcolor": "white",
             "startlinecolor": "#2a3f5f"
            },
            "type": "carpet"
           }
          ],
          "choropleth": [
           {
            "colorbar": {
             "outlinewidth": 0,
             "ticks": ""
            },
            "type": "choropleth"
           }
          ],
          "contour": [
           {
            "colorbar": {
             "outlinewidth": 0,
             "ticks": ""
            },
            "colorscale": [
             [
              0,
              "#0d0887"
             ],
             [
              0.1111111111111111,
              "#46039f"
             ],
             [
              0.2222222222222222,
              "#7201a8"
             ],
             [
              0.3333333333333333,
              "#9c179e"
             ],
             [
              0.4444444444444444,
              "#bd3786"
             ],
             [
              0.5555555555555556,
              "#d8576b"
             ],
             [
              0.6666666666666666,
              "#ed7953"
             ],
             [
              0.7777777777777778,
              "#fb9f3a"
             ],
             [
              0.8888888888888888,
              "#fdca26"
             ],
             [
              1,
              "#f0f921"
             ]
            ],
            "type": "contour"
           }
          ],
          "contourcarpet": [
           {
            "colorbar": {
             "outlinewidth": 0,
             "ticks": ""
            },
            "type": "contourcarpet"
           }
          ],
          "heatmap": [
           {
            "colorbar": {
             "outlinewidth": 0,
             "ticks": ""
            },
            "colorscale": [
             [
              0,
              "#0d0887"
             ],
             [
              0.1111111111111111,
              "#46039f"
             ],
             [
              0.2222222222222222,
              "#7201a8"
             ],
             [
              0.3333333333333333,
              "#9c179e"
             ],
             [
              0.4444444444444444,
              "#bd3786"
             ],
             [
              0.5555555555555556,
              "#d8576b"
             ],
             [
              0.6666666666666666,
              "#ed7953"
             ],
             [
              0.7777777777777778,
              "#fb9f3a"
             ],
             [
              0.8888888888888888,
              "#fdca26"
             ],
             [
              1,
              "#f0f921"
             ]
            ],
            "type": "heatmap"
           }
          ],
          "heatmapgl": [
           {
            "colorbar": {
             "outlinewidth": 0,
             "ticks": ""
            },
            "colorscale": [
             [
              0,
              "#0d0887"
             ],
             [
              0.1111111111111111,
              "#46039f"
             ],
             [
              0.2222222222222222,
              "#7201a8"
             ],
             [
              0.3333333333333333,
              "#9c179e"
             ],
             [
              0.4444444444444444,
              "#bd3786"
             ],
             [
              0.5555555555555556,
              "#d8576b"
             ],
             [
              0.6666666666666666,
              "#ed7953"
             ],
             [
              0.7777777777777778,
              "#fb9f3a"
             ],
             [
              0.8888888888888888,
              "#fdca26"
             ],
             [
              1,
              "#f0f921"
             ]
            ],
            "type": "heatmapgl"
           }
          ],
          "histogram": [
           {
            "marker": {
             "pattern": {
              "fillmode": "overlay",
              "size": 10,
              "solidity": 0.2
             }
            },
            "type": "histogram"
           }
          ],
          "histogram2d": [
           {
            "colorbar": {
             "outlinewidth": 0,
             "ticks": ""
            },
            "colorscale": [
             [
              0,
              "#0d0887"
             ],
             [
              0.1111111111111111,
              "#46039f"
             ],
             [
              0.2222222222222222,
              "#7201a8"
             ],
             [
              0.3333333333333333,
              "#9c179e"
             ],
             [
              0.4444444444444444,
              "#bd3786"
             ],
             [
              0.5555555555555556,
              "#d8576b"
             ],
             [
              0.6666666666666666,
              "#ed7953"
             ],
             [
              0.7777777777777778,
              "#fb9f3a"
             ],
             [
              0.8888888888888888,
              "#fdca26"
             ],
             [
              1,
              "#f0f921"
             ]
            ],
            "type": "histogram2d"
           }
          ],
          "histogram2dcontour": [
           {
            "colorbar": {
             "outlinewidth": 0,
             "ticks": ""
            },
            "colorscale": [
             [
              0,
              "#0d0887"
             ],
             [
              0.1111111111111111,
              "#46039f"
             ],
             [
              0.2222222222222222,
              "#7201a8"
             ],
             [
              0.3333333333333333,
              "#9c179e"
             ],
             [
              0.4444444444444444,
              "#bd3786"
             ],
             [
              0.5555555555555556,
              "#d8576b"
             ],
             [
              0.6666666666666666,
              "#ed7953"
             ],
             [
              0.7777777777777778,
              "#fb9f3a"
             ],
             [
              0.8888888888888888,
              "#fdca26"
             ],
             [
              1,
              "#f0f921"
             ]
            ],
            "type": "histogram2dcontour"
           }
          ],
          "mesh3d": [
           {
            "colorbar": {
             "outlinewidth": 0,
             "ticks": ""
            },
            "type": "mesh3d"
           }
          ],
          "parcoords": [
           {
            "line": {
             "colorbar": {
              "outlinewidth": 0,
              "ticks": ""
             }
            },
            "type": "parcoords"
           }
          ],
          "pie": [
           {
            "automargin": true,
            "type": "pie"
           }
          ],
          "scatter": [
           {
            "fillpattern": {
             "fillmode": "overlay",
             "size": 10,
             "solidity": 0.2
            },
            "type": "scatter"
           }
          ],
          "scatter3d": [
           {
            "line": {
             "colorbar": {
              "outlinewidth": 0,
              "ticks": ""
             }
            },
            "marker": {
             "colorbar": {
              "outlinewidth": 0,
              "ticks": ""
             }
            },
            "type": "scatter3d"
           }
          ],
          "scattercarpet": [
           {
            "marker": {
             "colorbar": {
              "outlinewidth": 0,
              "ticks": ""
             }
            },
            "type": "scattercarpet"
           }
          ],
          "scattergeo": [
           {
            "marker": {
             "colorbar": {
              "outlinewidth": 0,
              "ticks": ""
             }
            },
            "type": "scattergeo"
           }
          ],
          "scattergl": [
           {
            "marker": {
             "colorbar": {
              "outlinewidth": 0,
              "ticks": ""
             }
            },
            "type": "scattergl"
           }
          ],
          "scattermapbox": [
           {
            "marker": {
             "colorbar": {
              "outlinewidth": 0,
              "ticks": ""
             }
            },
            "type": "scattermapbox"
           }
          ],
          "scatterpolar": [
           {
            "marker": {
             "colorbar": {
              "outlinewidth": 0,
              "ticks": ""
             }
            },
            "type": "scatterpolar"
           }
          ],
          "scatterpolargl": [
           {
            "marker": {
             "colorbar": {
              "outlinewidth": 0,
              "ticks": ""
             }
            },
            "type": "scatterpolargl"
           }
          ],
          "scatterternary": [
           {
            "marker": {
             "colorbar": {
              "outlinewidth": 0,
              "ticks": ""
             }
            },
            "type": "scatterternary"
           }
          ],
          "surface": [
           {
            "colorbar": {
             "outlinewidth": 0,
             "ticks": ""
            },
            "colorscale": [
             [
              0,
              "#0d0887"
             ],
             [
              0.1111111111111111,
              "#46039f"
             ],
             [
              0.2222222222222222,
              "#7201a8"
             ],
             [
              0.3333333333333333,
              "#9c179e"
             ],
             [
              0.4444444444444444,
              "#bd3786"
             ],
             [
              0.5555555555555556,
              "#d8576b"
             ],
             [
              0.6666666666666666,
              "#ed7953"
             ],
             [
              0.7777777777777778,
              "#fb9f3a"
             ],
             [
              0.8888888888888888,
              "#fdca26"
             ],
             [
              1,
              "#f0f921"
             ]
            ],
            "type": "surface"
           }
          ],
          "table": [
           {
            "cells": {
             "fill": {
              "color": "#EBF0F8"
             },
             "line": {
              "color": "white"
             }
            },
            "header": {
             "fill": {
              "color": "#C8D4E3"
             },
             "line": {
              "color": "white"
             }
            },
            "type": "table"
           }
          ]
         },
         "layout": {
          "annotationdefaults": {
           "arrowcolor": "#2a3f5f",
           "arrowhead": 0,
           "arrowwidth": 1
          },
          "autotypenumbers": "strict",
          "coloraxis": {
           "colorbar": {
            "outlinewidth": 0,
            "ticks": ""
           }
          },
          "colorscale": {
           "diverging": [
            [
             0,
             "#8e0152"
            ],
            [
             0.1,
             "#c51b7d"
            ],
            [
             0.2,
             "#de77ae"
            ],
            [
             0.3,
             "#f1b6da"
            ],
            [
             0.4,
             "#fde0ef"
            ],
            [
             0.5,
             "#f7f7f7"
            ],
            [
             0.6,
             "#e6f5d0"
            ],
            [
             0.7,
             "#b8e186"
            ],
            [
             0.8,
             "#7fbc41"
            ],
            [
             0.9,
             "#4d9221"
            ],
            [
             1,
             "#276419"
            ]
           ],
           "sequential": [
            [
             0,
             "#0d0887"
            ],
            [
             0.1111111111111111,
             "#46039f"
            ],
            [
             0.2222222222222222,
             "#7201a8"
            ],
            [
             0.3333333333333333,
             "#9c179e"
            ],
            [
             0.4444444444444444,
             "#bd3786"
            ],
            [
             0.5555555555555556,
             "#d8576b"
            ],
            [
             0.6666666666666666,
             "#ed7953"
            ],
            [
             0.7777777777777778,
             "#fb9f3a"
            ],
            [
             0.8888888888888888,
             "#fdca26"
            ],
            [
             1,
             "#f0f921"
            ]
           ],
           "sequentialminus": [
            [
             0,
             "#0d0887"
            ],
            [
             0.1111111111111111,
             "#46039f"
            ],
            [
             0.2222222222222222,
             "#7201a8"
            ],
            [
             0.3333333333333333,
             "#9c179e"
            ],
            [
             0.4444444444444444,
             "#bd3786"
            ],
            [
             0.5555555555555556,
             "#d8576b"
            ],
            [
             0.6666666666666666,
             "#ed7953"
            ],
            [
             0.7777777777777778,
             "#fb9f3a"
            ],
            [
             0.8888888888888888,
             "#fdca26"
            ],
            [
             1,
             "#f0f921"
            ]
           ]
          },
          "colorway": [
           "#636efa",
           "#EF553B",
           "#00cc96",
           "#ab63fa",
           "#FFA15A",
           "#19d3f3",
           "#FF6692",
           "#B6E880",
           "#FF97FF",
           "#FECB52"
          ],
          "font": {
           "color": "#2a3f5f"
          },
          "geo": {
           "bgcolor": "white",
           "lakecolor": "white",
           "landcolor": "#E5ECF6",
           "showlakes": true,
           "showland": true,
           "subunitcolor": "white"
          },
          "hoverlabel": {
           "align": "left"
          },
          "hovermode": "closest",
          "mapbox": {
           "style": "light"
          },
          "paper_bgcolor": "white",
          "plot_bgcolor": "#E5ECF6",
          "polar": {
           "angularaxis": {
            "gridcolor": "white",
            "linecolor": "white",
            "ticks": ""
           },
           "bgcolor": "#E5ECF6",
           "radialaxis": {
            "gridcolor": "white",
            "linecolor": "white",
            "ticks": ""
           }
          },
          "scene": {
           "xaxis": {
            "backgroundcolor": "#E5ECF6",
            "gridcolor": "white",
            "gridwidth": 2,
            "linecolor": "white",
            "showbackground": true,
            "ticks": "",
            "zerolinecolor": "white"
           },
           "yaxis": {
            "backgroundcolor": "#E5ECF6",
            "gridcolor": "white",
            "gridwidth": 2,
            "linecolor": "white",
            "showbackground": true,
            "ticks": "",
            "zerolinecolor": "white"
           },
           "zaxis": {
            "backgroundcolor": "#E5ECF6",
            "gridcolor": "white",
            "gridwidth": 2,
            "linecolor": "white",
            "showbackground": true,
            "ticks": "",
            "zerolinecolor": "white"
           }
          },
          "shapedefaults": {
           "line": {
            "color": "#2a3f5f"
           }
          },
          "ternary": {
           "aaxis": {
            "gridcolor": "white",
            "linecolor": "white",
            "ticks": ""
           },
           "baxis": {
            "gridcolor": "white",
            "linecolor": "white",
            "ticks": ""
           },
           "bgcolor": "#E5ECF6",
           "caxis": {
            "gridcolor": "white",
            "linecolor": "white",
            "ticks": ""
           }
          },
          "title": {
           "x": 0.05
          },
          "xaxis": {
           "automargin": true,
           "gridcolor": "white",
           "linecolor": "white",
           "ticks": "",
           "title": {
            "standoff": 15
           },
           "zerolinecolor": "white",
           "zerolinewidth": 2
          },
          "yaxis": {
           "automargin": true,
           "gridcolor": "white",
           "linecolor": "white",
           "ticks": "",
           "title": {
            "standoff": 15
           },
           "zerolinecolor": "white",
           "zerolinewidth": 2
          }
         }
        },
        "xaxis": {
         "anchor": "y",
         "autorange": true,
         "domain": [
          0,
          1
         ],
         "range": [
          0.5,
          10.5
         ],
         "title": {
          "text": "World Rank"
         },
         "type": "linear"
        },
        "yaxis": {
         "anchor": "x",
         "autorange": true,
         "domain": [
          0,
          1
         ],
         "range": [
          0,
          105.26315789473685
         ],
         "title": {
          "text": "Total Score"
         },
         "type": "linear"
        }
       }
      },
      "image/png": "[encoded data removed]",
      "text/html": [
       "<div>                            <div id=\"fec4f660-b525-418c-b1bf-39337119d27b\" class=\"plotly-graph-div\" style=\"height:525px; width:100%;\"></div>            <script type=\"text/javascript\">                require([\"plotly\"], function(Plotly) {                    window.PLOTLYENV=window.PLOTLYENV || {};                                    if (document.getElementById(\"fec4f660-b525-418c-b1bf-39337119d27b\")) {                    Plotly.newPlot(                        \"fec4f660-b525-418c-b1bf-39337119d27b\",                        [{\"alignmentgroup\":\"True\",\"hovertemplate\":\"World Rank=%{x}\\u003cbr\\u003eTotal Score=%{y}\\u003cbr\\u003eUniversity Name=%{text}\\u003cextra\\u003e\\u003c\\u002fextra\\u003e\",\"legendgroup\":\"\",\"marker\":{\"color\":\"#636efa\",\"pattern\":{\"shape\":\"\"}},\"name\":\"\",\"offsetgroup\":\"\",\"orientation\":\"v\",\"showlegend\":false,\"text\":[\"Harvard University\",\"Stanford University\",\"Massachusetts Institute of Technology (MIT)\",\"University of Cambridge\",\"University of California, Berkeley\",\"Princeton University\",\"University of Oxford\",\"Columbia University\",\"California Institute of Technology\",\"University of Chicago\"],\"textposition\":\"outside\",\"x\":[1,2,3,4,5,6,7,8,9,10],\"xaxis\":\"x\",\"y\":[100.0,76.8,70.1,69.6,65.3,60.0,58.7,57.2,56.1,55.1],\"yaxis\":\"y\",\"type\":\"bar\",\"texttemplate\":\"%{text}\"}],                        {\"template\":{\"data\":{\"histogram2dcontour\":[{\"type\":\"histogram2dcontour\",\"colorbar\":{\"outlinewidth\":0,\"ticks\":\"\"},\"colorscale\":[[0.0,\"#0d0887\"],[0.1111111111111111,\"#46039f\"],[0.2222222222222222,\"#7201a8\"],[0.3333333333333333,\"#9c179e\"],[0.4444444444444444,\"#bd3786\"],[0.5555555555555556,\"#d8576b\"],[0.6666666666666666,\"#ed7953\"],[0.7777777777777778,\"#fb9f3a\"],[0.8888888888888888,\"#fdca26\"],[1.0,\"#f0f921\"]]}],\"choropleth\":[{\"type\":\"choropleth\",\"colorbar\":{\"outlinewidth\":0,\"ticks\":\"\"}}],\"histogram2d\":[{\"type\":\"histogram2d\",\"colorbar\":{\"outlinewidth\":0,\"ticks\":\"\"},\"colorscale\":[[0.0,\"#0d0887\"],[0.1111111111111111,\"#46039f\"],[0.2222222222222222,\"#7201a8\"],[0.3333333333333333,\"#9c179e\"],[0.4444444444444444,\"#bd3786\"],[0.5555555555555556,\"#d8576b\"],[0.6666666666666666,\"#ed7953\"],[0.7777777777777778,\"#fb9f3a\"],[0.8888888888888888,\"#fdca26\"],[1.0,\"#f0f921\"]]}],\"heatmap\":[{\"type\":\"heatmap\",\"colorbar\":{\"outlinewidth\":0,\"ticks\":\"\"},\"colorscale\":[[0.0,\"#0d0887\"],[0.1111111111111111,\"#46039f\"],[0.2222222222222222,\"#7201a8\"],[0.3333333333333333,\"#9c179e\"],[0.4444444444444444,\"#bd3786\"],[0.5555555555555556,\"#d8576b\"],[0.6666666666666666,\"#ed7953\"],[0.7777777777777778,\"#fb9f3a\"],[0.8888888888888888,\"#fdca26\"],[1.0,\"#f0f921\"]]}],\"heatmapgl\":[{\"type\":\"heatmapgl\",\"colorbar\":{\"outlinewidth\":0,\"ticks\":\"\"},\"colorscale\":[[0.0,\"#0d0887\"],[0.1111111111111111,\"#46039f\"],[0.2222222222222222,\"#7201a8\"],[0.3333333333333333,\"#9c179e\"],[0.4444444444444444,\"#bd3786\"],[0.5555555555555556,\"#d8576b\"],[0.6666666666666666,\"#ed7953\"],[0.7777777777777778,\"#fb9f3a\"],[0.8888888888888888,\"#fdca26\"],[1.0,\"#f0f921\"]]}],\"contourcarpet\":[{\"type\":\"contourcarpet\",\"colorbar\":{\"outlinewidth\":0,\"ticks\":\"\"}}],\"contour\":[{\"type\":\"contour\",\"colorbar\":{\"outlinewidth\":0,\"ticks\":\"\"},\"colorscale\":[[0.0,\"#0d0887\"],[0.1111111111111111,\"#46039f\"],[0.2222222222222222,\"#7201a8\"],[0.3333333333333333,\"#9c179e\"],[0.4444444444444444,\"#bd3786\"],[0.5555555555555556,\"#d8576b\"],[0.6666666666666666,\"#ed7953\"],[0.7777777777777778,\"#fb9f3a\"],[0.8888888888888888,\"#fdca26\"],[1.0,\"#f0f921\"]]}],\"surface\":[{\"type\":\"surface\",\"colorbar\":{\"outlinewidth\":0,\"ticks\":\"\"},\"colorscale\":[[0.0,\"#0d0887\"],[0.1111111111111111,\"#46039f\"],[0.2222222222222222,\"#7201a8\"],[0.3333333333333333,\"#9c179e\"],[0.4444444444444444,\"#bd3786\"],[0.5555555555555556,\"#d8576b\"],[0.6666666666666666,\"#ed7953\"],[0.7777777777777778,\"#fb9f3a\"],[0.8888888888888888,\"#fdca26\"],[1.0,\"#f0f921\"]]}],\"mesh3d\":[{\"type\":\"mesh3d\",\"colorbar\":{\"outlinewidth\":0,\"ticks\":\"\"}}],\"scatter\":[{\"fillpattern\":{\"fillmode\":\"overlay\",\"size\":10,\"solidity\":0.2},\"type\":\"scatter\"}],\"parcoords\":[{\"type\":\"parcoords\",\"line\":{\"colorbar\":{\"outlinewidth\":0,\"ticks\":\"\"}}}],\"scatterpolargl\":[{\"type\":\"scatterpolargl\",\"marker\":{\"colorbar\":{\"outlinewidth\":0,\"ticks\":\"\"}}}],\"bar\":[{\"error_x\":{\"color\":\"#2a3f5f\"},\"error_y\":{\"color\":\"#2a3f5f\"},\"marker\":{\"line\":{\"color\":\"#E5ECF6\",\"width\":0.5},\"pattern\":{\"fillmode\":\"overlay\",\"size\":10,\"solidity\":0.2}},\"type\":\"bar\"}],\"scattergeo\":[{\"type\":\"scattergeo\",\"marker\":{\"colorbar\":{\"outlinewidth\":0,\"ticks\":\"\"}}}],\"scatterpolar\":[{\"type\":\"scatterpolar\",\"marker\":{\"colorbar\":{\"outlinewidth\":0,\"ticks\":\"\"}}}],\"histogram\":[{\"marker\":{\"pattern\":{\"fillmode\":\"overlay\",\"size\":10,\"solidity\":0.2}},\"type\":\"histogram\"}],\"scattergl\":[{\"type\":\"scattergl\",\"marker\":{\"colorbar\":{\"outlinewidth\":0,\"ticks\":\"\"}}}],\"scatter3d\":[{\"type\":\"scatter3d\",\"line\":{\"colorbar\":{\"outlinewidth\":0,\"ticks\":\"\"}},\"marker\":{\"colorbar\":{\"outlinewidth\":0,\"ticks\":\"\"}}}],\"scattermapbox\":[{\"type\":\"scattermapbox\",\"marker\":{\"colorbar\":{\"outlinewidth\":0,\"ticks\":\"\"}}}],\"scatterternary\":[{\"type\":\"scatterternary\",\"marker\":{\"colorbar\":{\"outlinewidth\":0,\"ticks\":\"\"}}}],\"scattercarpet\":[{\"type\":\"scattercarpet\",\"marker\":{\"colorbar\":{\"outlinewidth\":0,\"ticks\":\"\"}}}],\"carpet\":[{\"aaxis\":{\"endlinecolor\":\"#2a3f5f\",\"gridcolor\":\"white\",\"linecolor\":\"white\",\"minorgridcolor\":\"white\",\"startlinecolor\":\"#2a3f5f\"},\"baxis\":{\"endlinecolor\":\"#2a3f5f\",\"gridcolor\":\"white\",\"linecolor\":\"white\",\"minorgridcolor\":\"white\",\"startlinecolor\":\"#2a3f5f\"},\"type\":\"carpet\"}],\"table\":[{\"cells\":{\"fill\":{\"color\":\"#EBF0F8\"},\"line\":{\"color\":\"white\"}},\"header\":{\"fill\":{\"color\":\"#C8D4E3\"},\"line\":{\"color\":\"white\"}},\"type\":\"table\"}],\"barpolar\":[{\"marker\":{\"line\":{\"color\":\"#E5ECF6\",\"width\":0.5},\"pattern\":{\"fillmode\":\"overlay\",\"size\":10,\"solidity\":0.2}},\"type\":\"barpolar\"}],\"pie\":[{\"automargin\":true,\"type\":\"pie\"}]},\"layout\":{\"autotypenumbers\":\"strict\",\"colorway\":[\"#636efa\",\"#EF553B\",\"#00cc96\",\"#ab63fa\",\"#FFA15A\",\"#19d3f3\",\"#FF6692\",\"#B6E880\",\"#FF97FF\",\"#FECB52\"],\"font\":{\"color\":\"#2a3f5f\"},\"hovermode\":\"closest\",\"hoverlabel\":{\"align\":\"left\"},\"paper_bgcolor\":\"white\",\"plot_bgcolor\":\"#E5ECF6\",\"polar\":{\"bgcolor\":\"#E5ECF6\",\"angularaxis\":{\"gridcolor\":\"white\",\"linecolor\":\"white\",\"ticks\":\"\"},\"radialaxis\":{\"gridcolor\":\"white\",\"linecolor\":\"white\",\"ticks\":\"\"}},\"ternary\":{\"bgcolor\":\"#E5ECF6\",\"aaxis\":{\"gridcolor\":\"white\",\"linecolor\":\"white\",\"ticks\":\"\"},\"baxis\":{\"gridcolor\":\"white\",\"linecolor\":\"white\",\"ticks\":\"\"},\"caxis\":{\"gridcolor\":\"white\",\"linecolor\":\"white\",\"ticks\":\"\"}},\"coloraxis\":{\"colorbar\":{\"outlinewidth\":0,\"ticks\":\"\"}},\"colorscale\":{\"sequential\":[[0.0,\"#0d0887\"],[0.1111111111111111,\"#46039f\"],[0.2222222222222222,\"#7201a8\"],[0.3333333333333333,\"#9c179e\"],[0.4444444444444444,\"#bd3786\"],[0.5555555555555556,\"#d8576b\"],[0.6666666666666666,\"#ed7953\"],[0.7777777777777778,\"#fb9f3a\"],[0.8888888888888888,\"#fdca26\"],[1.0,\"#f0f921\"]],\"sequentialminus\":[[0.0,\"#0d0887\"],[0.1111111111111111,\"#46039f\"],[0.2222222222222222,\"#7201a8\"],[0.3333333333333333,\"#9c179e\"],[0.4444444444444444,\"#bd3786\"],[0.5555555555555556,\"#d8576b\"],[0.6666666666666666,\"#ed7953\"],[0.7777777777777778,\"#fb9f3a\"],[0.8888888888888888,\"#fdca26\"],[1.0,\"#f0f921\"]],\"diverging\":[[0,\"#8e0152\"],[0.1,\"#c51b7d\"],[0.2,\"#de77ae\"],[0.3,\"#f1b6da\"],[0.4,\"#fde0ef\"],[0.5,\"#f7f7f7\"],[0.6,\"#e6f5d0\"],[0.7,\"#b8e186\"],[0.8,\"#7fbc41\"],[0.9,\"#4d9221\"],[1,\"#276419\"]]},\"xaxis\":{\"gridcolor\":\"white\",\"linecolor\":\"white\",\"ticks\":\"\",\"title\":{\"standoff\":15},\"zerolinecolor\":\"white\",\"automargin\":true,\"zerolinewidth\":2},\"yaxis\":{\"gridcolor\":\"white\",\"linecolor\":\"white\",\"ticks\":\"\",\"title\":{\"standoff\":15},\"zerolinecolor\":\"white\",\"automargin\":true,\"zerolinewidth\":2},\"scene\":{\"xaxis\":{\"backgroundcolor\":\"#E5ECF6\",\"gridcolor\":\"white\",\"linecolor\":\"white\",\"showbackground\":true,\"ticks\":\"\",\"zerolinecolor\":\"white\",\"gridwidth\":2},\"yaxis\":{\"backgroundcolor\":\"#E5ECF6\",\"gridcolor\":\"white\",\"linecolor\":\"white\",\"showbackground\":true,\"ticks\":\"\",\"zerolinecolor\":\"white\",\"gridwidth\":2},\"zaxis\":{\"backgroundcolor\":\"#E5ECF6\",\"gridcolor\":\"white\",\"linecolor\":\"white\",\"showbackground\":true,\"ticks\":\"\",\"zerolinecolor\":\"white\",\"gridwidth\":2}},\"shapedefaults\":{\"line\":{\"color\":\"#2a3f5f\"}},\"annotationdefaults\":{\"arrowcolor\":\"#2a3f5f\",\"arrowhead\":0,\"arrowwidth\":1},\"geo\":{\"bgcolor\":\"white\",\"landcolor\":\"#E5ECF6\",\"subunitcolor\":\"white\",\"showland\":true,\"showlakes\":true,\"lakecolor\":\"white\"},\"title\":{\"x\":0.05},\"mapbox\":{\"style\":\"light\"}}},\"xaxis\":{\"anchor\":\"y\",\"domain\":[0.0,1.0],\"title\":{\"text\":\"World Rank\"}},\"yaxis\":{\"anchor\":\"x\",\"domain\":[0.0,1.0],\"title\":{\"text\":\"Total Score\"}},\"legend\":{\"tracegroupgap\":0},\"margin\":{\"t\":60},\"barmode\":\"relative\"},                        {\"responsive\": true}                    ).then(function(){\n",
       "                            \n",
       "var gd = document.getElementById('fec4f660-b525-418c-b1bf-39337119d27b');\n",
       "var x = new MutationObserver(function (mutations, observer) {{\n",
       "        var display = window.getComputedStyle(gd).display;\n",
       "        if (!display || display === 'none') {{\n",
       "            console.log([gd, 'removed!']);\n",
       "            Plotly.purge(gd);\n",
       "            observer.disconnect();\n",
       "        }}\n",
       "}});\n",
       "\n",
       "// Listen for the removal of the full notebook cells\n",
       "var notebookContainer = gd.closest('#notebook-container');\n",
       "if (notebookContainer) {{\n",
       "    x.observe(notebookContainer, {childList: true});\n",
       "}}\n",
       "\n",
       "// Listen for the clearing of the current output cell\n",
       "var outputEl = gd.closest('.output');\n",
       "if (outputEl) {{\n",
       "    x.observe(outputEl, {childList: true});\n",
       "}}\n",
       "\n",
       "                        })                };                });            </script>        </div>"
      ]
     },
     "metadata": {},
     "output_type": "display_data"
    }
   ],
   "source": [
    "top_10_unis = arwu_df.nlargest(10, 'Total Score')\n",
    "fig = px.bar(top_10_unis, x='World Rank', y='Total Score', text='University Name')\n",
    "fig.update_traces(texttemplate='%{text}', textposition='outside')\n",
    "fig.show()\n",
    "\n",
    "#fig = px.bar(arwu_df, x = 'World Rank' , y='Total Score')\n",
    "#fig.show()"
   ]
  },
  {
   "cell_type": "code",
   "execution_count": 374,
   "id": "ee9aeb68-464d-48d0-abd2-9baec8b6c4a4",
   "metadata": {},
   "outputs": [
    {
     "data": {
      "application/vnd.plotly.v1+json": {
       "config": {
        "plotlyServerURL": "https://plot.ly"
       },
       "data": [
        {
         "hovertemplate": "<b>%{hovertext}</b><br><br>National/Regional Rank=%{x}<br>World Rank=%{y}<extra></extra>",
         "hovertext": [
          "Harvard University",
          "Stanford University",
          "Massachusetts Institute of Technology (MIT)",
          "University of Cambridge",
          "University of California, Berkeley",
          "Princeton University",
          "University of Oxford",
          "Columbia University",
          "California Institute of Technology",
          "University of Chicago",
          "Yale University",
          "Cornell University",
          "University of California, Los Angeles",
          "Johns Hopkins University",
          "University of Pennsylvania",
          "Paris-Saclay University",
          "University of Washington",
          "University College London",
          "University of California, San Francisco",
          "ETH Zurich",
          "University of California, San Diego",
          "University of Toronto",
          "Imperial College London",
          "The University of Tokyo",
          "New York University",
          "Tsinghua University",
          "Washington University in St. Louis",
          "University of Michigan-Ann Arbor",
          "University of North Carolina at Chapel Hill",
          "Northwestern University",
          "Duke University",
          "The University of Melbourne",
          "University of Wisconsin - Madison",
          "Peking University",
          "The University of Edinburgh",
          "Zhejiang University",
          "The University of Texas at Austin",
          "The University of Manchester",
          "University of Copenhagen",
          "PSL University",
          "Karolinska Institute",
          "Kyoto University",
          "Sorbonne University",
          "Rockefeller University",
          "University of British Columbia",
          "University of Minnesota, Twin Cities",
          "The University of Queensland",
          "King's College London",
          "University of Illinois at Urbana-Champaign",
          "University of Maryland, College Park",
          "University of Colorado at Boulder",
          "The University of Texas Southwestern Medical Center at Dallas",
          "University of Southern California",
          "Shanghai Jiao Tong University",
          "Utrecht University",
          "Technical University of Munich",
          "University of California, Santa Barbara",
          "University of Munich",
          "University of Zurich",
          "University of Sydney",
          "University of California, Irvine",
          "University of Geneva",
          "University of Science and Technology of China",
          "The University of New South Wales",
          "Vanderbilt University",
          "University of Groningen",
          "Fudan University",
          "University of Oslo",
          "Aarhus University",
          "Heidelberg University",
          "National University of Singapore",
          "The University of Texas M. D. Anderson Cancer Center",
          "McGill University",
          "Ghent University",
          "Monash University",
          "University of Bonn",
          "The Hebrew University of Jerusalem",
          "Université Paris Cité",
          "Sun Yat-sen University",
          "The Australian National University",
          "University of Bristol",
          "University of Pittsburgh",
          "Purdue University - West Lafayette",
          "Technion-Israel Institute of Technology",
          "University of Basel",
          "Weizmann Institute of Science",
          "Erasmus University Rotterdam",
          "Nanyang Technological University",
          "Uppsala University",
          "McMaster University",
          "Stockholm University",
          "University of Alberta",
          "University of Helsinki",
          "University of Florida",
          "KU Leuven",
          "Huazhong University of Science and Technology",
          "The University of Hong Kong",
          "Seoul National University",
          "Brown University",
          "The University of Western Australia",
          "Aix Marseille University",
          "Arizona State University",
          "Boston University",
          "Carnegie Mellon University",
          "Case Western Reserve University",
          "Central South University",
          "Emory University",
          "Icahn School of Medicine at Mount Sinai",
          "Indiana University Bloomington",
          "King Abdulaziz University",
          "King Saud University",
          "Leiden University",
          "London School of Economics and Political Science",
          "Mayo Clinic Alix School of Medicine",
          "Moscow State University",
          "Nagoya University",
          "Nanjing University",
          "Norwegian University of Science and Technology - NTNU",
          "Radboud University Nijmegen",
          "Rice University",
          "Rutgers, The State University of New Jersey - New Brunswick",
          "Sapienza University of Rome",
          "Sichuan University",
          "Swiss Federal Institute of Technology Lausanne",
          "The Chinese University of Hong Kong",
          "The Ohio State University - Columbus",
          "Pennsylvania State University - University Park",
          "The University of Adelaide",
          "The University of Glasgow",
          "The University of Sheffield",
          "Université Grenoble Alpes",
          "Université libre de Bruxelles (ULB)",
          "University of Amsterdam",
          "University of Arizona",
          "University of Bern",
          "University of Birmingham",
          "University of California, Davis",
          "University of Exeter",
          "University of Freiburg",
          "University of Gothenburg",
          "University of Lausanne",
          "University of Liverpool",
          "University of Montreal",
          "University of Nottingham",
          "University of Sao Paulo",
          "University of Strasbourg",
          "University of Utah",
          "University of Warwick",
          "Wuhan University",
          "Xi'an Jiaotong University",
          "Baylor College of Medicine",
          "Beijing Institute of Technology",
          "Cardiff University",
          "City University of Hong Kong",
          "Delft University of Technology",
          "Georgia Institute of Technology",
          "Goethe University Frankfurt",
          "Harbin Institute of Technology",
          "Jilin University",
          "London School of Hygiene & Tropical Medicine",
          "Lund University",
          "Michigan State University",
          "Northwestern Polytechnical University",
          "Osaka University",
          "Shandong University",
          "Soochow University (China)",
          "South China University of Technology",
          "Southeast University",
          "Southern University of Science and Technology",
          "Technical University of Denmark",
          "Tel Aviv University",
          "Texas A&M University",
          "The Hong Kong Polytechnic University",
          "The University of Calgary",
          "Tianjin University",
          "Tohoku University",
          "Tokyo Institute of Technology",
          "Tongji University",
          "Trinity College Dublin",
          "Tufts University",
          "University of Barcelona",
          "University of California, Santa Cruz",
          "University of Cologne",
          "University of Electronic Science and Technology of China",
          "University of Goettingen",
          "University of Leeds",
          "University of Massachusetts Amherst",
          "University of Milan",
          "University of Montpellier",
          "University of Padua",
          "University of Pisa",
          "University of Rochester",
          "University of Southampton",
          "University of Sussex",
          "University of Tuebingen",
          "University of Vienna",
          "University of Waterloo",
          "Vrije Universiteit Amsterdam",
          "Wageningen University & Research",
          "Xiamen University",
          "Autonomous University of Barcelona",
          "Beihang University",
          "Beijing Normal University",
          "Catholic University of Louvain",
          "China Agricultural University",
          "China Medical University (Taichung)",
          "Chongqing University",
          "Claude Bernard University Lyon 1",
          "Colorado State University",
          "Complutense University of Madrid",
          "Curtin University",
          "Dalian University of Technology",
          "Deakin University",
          "East China Normal University",
          "Florida State University",
          "George Mason University",
          "Griffith University",
          "Hanyang University",
          "Hokkaido University",
          "Hunan University",
          "Jiangsu University",
          "Karlsruhe Institute of Technology (KIT)",
          "King Abdullah University of Science and Technology",
          "Korea Advanced Institute of Science and Technology",
          "Korea University",
          "KTH Royal Institute of Technology",
          "La Trobe University",
          "Maastricht University",
          "Macquarie University",
          "Medical University of Vienna",
          "Nanjing Medical University",
          "Nankai University",
          "National Autonomous University of Mexico",
          "National Taiwan University",
          "Newcastle University",
          "North Carolina State University - Raleigh",
          "Northeastern University (Boston)",
          "Oregon Health and Science University",
          "Oregon State University",
          "Paul Sabatier University (Toulouse 3)",
          "Polytechnic University of Milan",
          "Queen Mary University of London",
          "Queen's University",
          "Queensland University of Technology",
          "RWTH Aachen University",
          "Shanghai University",
          "Shenzhen University",
          "Sungkyunkwan University",
          "Swinburne University of Technology",
          "The George Washington University",
          "The University of Auckland",
          "TU Dresden",
          "Ulsan National Institute of Science and Technology",
          "University of Aberdeen",
          "University of Antwerp",
          "University of Bologna",
          "University of Bordeaux",
          "University of Buenos Aires",
          "University of California, Riverside",
          "University of Cape Town",
          "University of Colorado at Denver",
          "University of Delaware",
          "University of East Anglia",
          "University of Erlangen-Nuremberg",
          "University of Granada",
          "University of Hamburg",
          "University of Houston",
          "University of Iowa",
          "University of Kansas",
          "University of Kiel",
          "University of Leipzig",
          "University of Lisbon",
          "University of Lorraine",
          "University of Mainz",
          "University of Manitoba",
          "University of Massachusetts Medical School - Worcester",
          "University of Miami",
          "University of Missouri - Columbia",
          "University of Muenster",
          "University of Naples Federico II",
          "University of Nebraska - Lincoln",
          "University of Ottawa",
          "University of Porto",
          "University of Science and Technology Beijing",
          "University of South Florida",
          "University of Southern Denmark",
          "University of Tasmania",
          "University of Technology Sydney",
          "University of Tennessee - Knoxville",
          "University of Tsukuba",
          "University of Turin",
          "University of Valencia",
          "University of Virginia",
          "University of Wollongong",
          "University of Wuerzburg",
          "Virginia Commonwealth University",
          "Virginia Polytechnic Institute and State University",
          "Western University",
          "Yonsei University",
          "Zhengzhou University",
          "Aalborg University",
          "Aalto University",
          "Albert Einstein College of Medicine",
          "Autonomous University of Madrid",
          "Bar-Ilan University",
          "Beijing University of Chemical Technology",
          "Brandeis University",
          "Cairo University",
          "Capital Medical University",
          "Catholic University of the Sacred Heart",
          "Charles University in Prague",
          "China University of Geosciences (Wuhan)",
          "Peking Union Medical College",
          "Dalhousie University",
          "Dartmouth College",
          "Drexel University",
          "Durham University",
          "East China University of Science and Technology",
          "Ecole Normale Superieure - Lyon",
          "Eindhoven University of Technology",
          "Fuzhou University",
          "Heinrich Heine University Duesseldorf",
          "Huazhong Agricultural University",
          "Indian Institute of Science",
          "Indiana University-Purdue University at Indianapolis",
          "Institut Polytechnique de Paris",
          "James Cook University",
          "Jinan University",
          "Keio University",
          "Kyushu University",
          "Lancaster University",
          "Lanzhou University",
          "Laval University",
          "Linkoping University",
          "Nanchang University",
          "Nanjing Agricultural University",
          "NanJing Tech University",
          "Nanjing University of Aeronautics and Astronautics",
          "Nanjing University of Science and Technology",
          "National and Kapodistrian University of Athens",
          "National Cheng Kung University",
          "Northeastern University (Shenyang)",
          "Ocean University of China",
          "Pohang University of Science and Technology",
          "Pompeu Fabra University",
          "Queen's University Belfast",
          "RMIT University",
          "Saint Petersburg State University",
          "ShanghaiTech University",
          "Simon Fraser University",
          "Stony Brook University",
          "Swedish University of Agricultural Sciences",
          "Technical University of Berlin",
          "The Hong Kong University of Science and Technology",
          "The University of Dundee",
          "The University of Georgia",
          "The University of Newcastle, Australia",
          "The University of Reading",
          "The University of Texas at Dallas",
          "The University of Texas Health Science Center at Houston",
          "University at Buffalo, the State University of New York",
          "University College Cork",
          "University College Dublin",
          "University of Alabama at Birmingham",
          "University of Bergen",
          "University of Bochum",
          "University of Campinas",
          "University of Central Florida",
          "University of Cincinnati",
          "University of Connecticut",
          "University of Duisburg-Essen",
          "University of Florence",
          "University of Hawaii at Manoa",
          "University of Illinois at Chicago",
          "University of Innsbruck",
          "University of Kentucky",
          "University of Leicester",
          "University of Liege",
          "University of Lille",
          "University of Malaya",
          "University of Maryland, Baltimore",
          "University of Milano-Bicocca",
          "University of Notre Dame",
          "University of Oregon",
          "University of Otago",
          "University of Saskatchewan",
          "University of St Andrews",
          "University of Stuttgart",
          "University of Surrey",
          "University of Tehran",
          "University of the Basque Country",
          "University of the Witwatersrand",
          "University of Toulouse 1",
          "University of Ulm",
          "University of Victoria",
          "Vienna University of Technology",
          "Vrije Universiteit Brussel (VUB)",
          "Washington State University",
          "Western Sydney University",
          "Wuhan University of Technology",
          "Beijing University of Technology",
          "Ben-Gurion University of the Negev",
          "Boston College",
          "Brigham Young University",
          "Chalmers University of Technology",
          "Chang Gung University",
          "China University of Geosciences (Beijing)",
          "China University of Mining and Technology - Xuzhou",
          "China University of Petroleum (Huadong)",
          "CUNY Graduate School and University Center",
          "Federal University of Minas Gerais",
          "Federal University of Rio de Janeiro",
          "Federal University of Rio Grande do Sul",
          "Flinders University",
          "Florida International University",
          "Georgetown University",
          "Guangdong University of Technology",
          "Hannover Medical School",
          "Hiroshima University",
          "Humanitas University",
          "Istanbul University",
          "Jagiellonian University",
          "Jiangnan University",
          "King Fahd University of Petroleum & Minerals",
          "Kobe University",
          "Kyung Hee University",
          "Kyungpook National University",
          "Louisiana State University - Baton Rouge",
          "Masaryk University",
          "Medical University of Innsbruck",
          "Medical University of South Carolina",
          "Murdoch University",
          "Nanjing University of Information Science and Technology",
          "National Tsing Hua University",
          "National University of Malaysia",
          "National Yang Ming Chiao Tung University",
          "Northwest A&F University",
          "Okayama University",
          "Polytechnic University of Valencia",
          "Qingdao University",
          "Rensselaer Polytechnic Institute",
          "Sejong University",
          "Shandong University of Science and Technology",
          "Southern Medical University",
          "Stellenbosch University",
          "Stockholm School of Economics",
          "Taif University",
          "Tampere University",
          "Technical University Darmstadt",
          "Tehran University of Medical Sciences",
          "Temple University",
          "Texas Tech University",
          "The City College of New York",
          "The University of Texas at San Antonio",
          "The University of Texas Health Science Center at San Antonio",
          "The University of Texas Medical Branch at Galveston",
          "UNESP",
          "University of Aveiro",
          "University of Bari",
          "University of Bath",
          "University of Belgrade",
          "University of California, Merced",
          "University of Canterbury",
          "University of Chile",
          "University of Essex",
          "University of Guelph",
          "University of Jena",
          "University of Johannesburg",
          "University of Kent",
          "University of Ljubljana",
          "University of Macau",
          "University of Maine",
          "University of Marburg",
          "University of Minho",
          "University of Natural Resources and Life Sciences, Vienna",
          "University of North Texas",
          "University of Oulu",
          "University of Pavia",
          "University of Perugia",
          "University of Potsdam",
          "University of Pretoria",
          "University of Regensburg",
          "University of Santiago Compostela",
          "University of Seville",
          "University of South Carolina - Columbia",
          "University of Strathclyde",
          "University of Trento",
          "University of Turku",
          "University of Twente",
          "University of Vermont",
          "University of Warsaw",
          "University of York",
          "University of Zagreb",
          "Utah State University",
          "Victoria University of Wellington",
          "Vita-Salute San Raffaele University",
          "West Virginia University",
          "Yangzhou University",
          "York University",
          "Zhejiang University of Technology",
          "Alexandria University",
          "Aristotle University of Thessaloniki",
          "Asia University",
          "Auburn University",
          "Australian Catholic University",
          "Baylor University",
          "Beijing Jiaotong University",
          "Brescia University",
          "Carleton University",
          "China University of Petroleum - Beijing",
          "Chonnam National University",
          "Chulalongkorn University",
          "COMSATS University Islamabad",
          "Concordia University",
          "Duke-NUS Medical School",
          "Georgia State University",
          "Guangxi University",
          "Guangzhou Medical University",
          "Guangzhou University",
          "Harbin Engineering University",
          "Hefei University of Technology",
          "Henan University",
          "Hohai University",
          "Iowa State University",
          "Kansas State University",
          "Leibniz University Hannover",
          "Macau University of Science and Technology",
          "Medical University of Graz",
          "Mississippi State University",
          "Moscow Institute of Physics and Technology",
          "Nanjing Normal University",
          "National University of Ireland, Galway",
          "Northern Arizona University",
          "Northwest University",
          "NOVA University Lisbon",
          "Oklahoma State University",
          "Pontifical Catholic University of Chile",
          "Pusan National University",
          "Qatar University",
          "Renmin University of China",
          "Rush University",
          "Saarland University",
          "San Diego State University",
          "Scuola Normale Superiore - Pisa",
          "South China Agricultural University",
          "South China Normal University",
          "Southwest Jiaotong University",
          "Southwest University",
          "Southwestern University of Finance and Economics",
          "St George's, University of London",
          "Swansea University",
          "Tarbiat Modares University",
          "The University of New Mexico - Albuquerque",
          "Tianjin Medical University",
          "Umea University",
          "Università Della Svizzera Italiana",
          "University of Alaska - Fairbanks",
          "University of Arkansas at Fayetteville",
          "University of Bremen",
          "University of Burgundy",
          "University of Catania",
          "University of Clermont Auvergne",
          "University of Coimbra",
          "University of Côte d'Azur",
          "University of Cyprus",
          "University of Fribourg",
          "University of Genoa",
          "University of Giessen",
          "University of Haifa",
          "University of Konstanz",
          "University of KwaZulu-Natal",
          "University of Modena and Reggio Emilia",
          "University of Navarra",
          "University of Nevada - Reno",
          "University of New Hampshire",
          "University of Oklahoma - Norman",
          "University of Palermo",
          "University of Parma",
          "University of Plymouth",
          "University of Roma - Tor Vergata",
          "University of Rostock",
          "University of Salamanca",
          "University of Science, Malaysia",
          "University of Sherbrooke",
          "University of South Australia",
          "University of Southern Queensland",
          "University of Tartu",
          "University of Tromso",
          "University of Ulsan",
          "University of Verona",
          "University of Vigo",
          "University of Wyoming",
          "University of Zaragoza",
          "Wake Forest University",
          "Wayne State University",
          "Wenzhou Medical University",
          "Xidian University",
          "Yeungnam University",
          "Yunnan University",
          "Zhejiang Normal University",
          "AGH University of Science and Technology",
          "Amirkabir University of Technology",
          "Anhui Medical University",
          "Anhui University",
          "Bangor University",
          "Beijing University of Posts and Telecommunications",
          "Binghamton University",
          "Brunel University",
          "Central China Normal University",
          "Chang'an University",
          "Chiba University",
          "China Medical University (Shenyang)",
          "Clemson University",
          "Copenhagen Business School",
          "Edith Cowan University",
          "Eotvos Lorand University",
          "Ewha Womans University",
          "Federal University of Parana",
          "Federal University of Sao Carlos",
          "Federal University of Sao Paulo",
          "Federal University of Viçosa",
          "Guizhou University",
          "Hacettepe University",
          "Hangzhou Dianzi University",
          "Hasselt University",
          "Hong Kong Baptist University",
          "HSE University",
          "Hunan Normal University",
          "INHA University",
          "Juntendo University",
          "Kent State University",
          "King Khalid University",
          "Kitasato University",
          "Kunming University of Science and Technology",
          "Liverpool John Moores University",
          "Mahidol University",
          "Mansoura University",
          "Marche Polytechnic University",
          "Massey University",
          "Nanjing Forestry University",
          "Nanjing University of Posts and Telecommunications",
          "National Polytechnic Institute",
          "National Sun Yat-Sen University",
          "National University of Defense Technology",
          "Naval Medical University",
          "Ningbo University",
          "Northumbria University",
          "North-West University",
          "Nottingham Trent University",
          "Orebro University",
          "Polytechnic University of Madrid",
          "Polytechnic University of Turin",
          "Royal Holloway, University of London",
          "Saint Louis University",
          "Sechenov University",
          "Semmelweis University",
          "Shaanxi Normal University",
          "Shandong Normal University",
          "Shanxi University",
          "Sharif University of Technology",
          "State University of New York Health Science Center at Brooklyn",
          "Taipei Medical University",
          "The Chinese University of Hong Kong, Shenzhen",
          "The Open University",
          "The University of Alabama - Tuscaloosa",
          "The University of Texas at Arlington",
          "Tilburg University",
          "Tokyo Medical and Dental University",
          "Tokyo University of Science",
          "Ton Duc Thang University",
          "Tulane University",
          "Universidad Pablo de Olavide",
          "Universitat Jaume I",
          "University at Albany (State University of New York)",
          "University of Alicante",
          "University of Crete",
          "University of Delhi",
          "University of Eastern Finland",
          "University of Extremadura",
          "University of Ferrara",
          "University of Graz",
          "University of Greenwich",
          "University of Halle-Wittenberg",
          "University of Health Sciences Turkey",
          "University of Iceland",
          "University of Idaho",
          "University of Maryland, Baltimore County",
          "University of Nantes",
          "University of Oldenburg",
          "University of Rennes 1",
          "University of Salerno",
          "University of Siena",
          "University of the Sunshine Coast",
          "University of Trieste",
          "University of Versailles Saint-Quentin-en-Yvelines",
          "University Rovira i Virgili",
          "Vellore Institute of Technology",
          "Waseda University",
          "Westlake University",
          "Xi'an University of Technology",
          "Addis Ababa University",
          "Ain Shams University",
          "American University of Beirut",
          "Army Medical University",
          "AUT University",
          "Bielefeld University",
          "Catholic University of Korea",
          "Changsha University of Science and Technology",
          "Chiang Mai University",
          "China University of Mining and Technology - Beijing",
          "Chongqing Medical University",
          "Chung-Ang University",
          "Chungnam National University",
          "Colorado School of Mines",
          "Comenius University in Bratislava",
          "Dalian Maritime University",
          "Donghua University",
          "Federal University of Santa Catarina",
          "Fluminense Federal University",
          "Fujian Agriculture and Forestry University",
          "Fujian Medical University",
          "Fujian Normal University",
          "Harbin Medical University",
          "Indian Institute of Technology Delhi",
          "Indian Institute of Technology Madras",
          "Indian Institute of Technology Roorkee",
          "INSA Toulouse",
          "Jawaharlal Nehru University",
          "Jeonbuk National University",
          "Kanazawa University",
          "Kaohsiung Medical University",
          "Keele University",
          "Kindai University",
          "Konkuk University",
          "Lincoln University",
          "Liverpool School of Tropical Medicine",
          "Loughborough University",
          "Medical College of Wisconsin",
          "Memorial University of Newfoundland",
          "New Jersey Institute of Technology",
          "North China Electric Power University",
          "Northeast Agricultural University - China",
          "Novosibirsk State University",
          "Ohio University",
          "Old Dominion University",
          "Palacký University Olomouc",
          "Polytechnic University of Catalonia",
          "Qufu Normal University",
          "School for Advanced Studies in the Social Sciences",
          "Shahid Beheshti University of Medical Sciences",
          "Shandong Agricultural University",
          "Shanghai University of Finance and Economics",
          "Shinshu University",
          "Skolkovo Institute of Science and Technology",
          "Southern Methodist University",
          "Swarthmore College",
          "Syracuse University",
          "Taiyuan University of Technology",
          "Technical University of Braunschweig",
          "The University of Waikato",
          "Thomas Jefferson University",
          "Tomsk State University",
          "Universitat de Lleida",
          "Universiti Teknologi Malaysia",
          "University of Agriculture Faisalabad",
          "University of Arkansas for Medical Sciences",
          "University of Bayreuth",
          "University of Brasília",
          "University of Campania Luigi Vanvitelli",
          "University of Castilla–La Mancha",
          "University of Engineering and Technology (UET)",
          "University of Hull",
          "University of Jaen",
          "University of Jordan",
          "University of Jyvaskyla",
          "University of La Laguna",
          "University of Limerick",
          "University of Louisville",
          "University of Luebeck",
          "University of Luxembourg",
          "University of Malaga",
          "University of Murcia",
          "University of Nebraska Medical Center",
          "University of Nevada-Las Vegas",
          "University of Oviedo",
          "University of Quebec Montreal",
          "University of Salzburg",
          "University of Shanghai for Science and Technology",
          "University of Szeged",
          "University of Tennessee Health Science Center",
          "University of Texas at El Paso",
          "University of the Balearic Islands",
          "University of the Punjab",
          "University of Toledo",
          "University of Udine",
          "University of Wisconsin-Milwaukee",
          "University Putra Malaysia",
          "Ural Federal University",
          "Vilnius University",
          "Wenzhou University",
          "Air Force Medical University",
          "Ajou University",
          "Al-Azhar University",
          "Anhui University of Technology",
          "Ankara University",
          "Babeș-Bolyai University",
          "Beijing Forestry University",
          "Bournemouth University",
          "Changzhou University",
          "Charles Darwin University",
          "Cranfield University",
          "Czech Technical University in Prague",
          "Czech University of Life Sciences Prague",
          "Dokuz Eylul University",
          "Dongguk University",
          "Dublin City University",
          "Federal University of Ceara",
          "Federal University of Pernambuco",
          "Federal University of Santa Maria",
          "Fordham University",
          "Free University of Bozen-Bolzano",
          "Gachon University",
          "Gdansk University of Technology",
          "Graz University of Technology",
          "Gwangju Institute of Science and Technology",
          "Gyeongsang National University",
          "Hainan University",
          "Hebei University of Technology",
          "Heriot-Watt University",
          "Indian Institute of Technology Kharagpur",
          "Iran University of Science & Technology",
          "Johannes Kepler University Linz",
          "Kangwon National University",
          "Khalifa University",
          "Lehigh University",
          "Linnaeus University",
          "Manchester Metropolitan University",
          "Mashhad University Medical Science",
          "Michigan Technological University",
          "Miguel Hernandez University of Elche",
          "Monterrey Institute of Technology and Higher Education",
          "Montpellier Business School",
          "Nagasaki University",
          "Nanjing University of Chinese Medicine",
          "Nantong University",
          "National Central University",
          "National Chung Hsing University",
          "National Research Nuclear University MEPhI (Moscow Engineering Physics Institute)",
          "National Taiwan University of Science and Technology",
          "National University of Colombia",
          "National Yunlin University of Science and Technology",
          "Norwegian University of Life Sciences",
          "Okinawa Institute of Science and Technology Graduate University",
          "Osaka City University",
          "Prince of Songkla University",
          "Prince Sattam Bin Abdulaziz University",
          "Royal College of Surgeons - Ireland",
          "Shandong First Medical University",
          "Shantou University",
          "Sichuan Agricultural University",
          "Southern Cross University",
          "Southwest University of Science and Technology",
          "Sultan Qaboos University",
          "The Education University of Hong Kong",
          "The Royal Veterinary College",
          "The University of Tokushima",
          "Uniformed Services University of the Health Sciences - USA",
          "Universidade Federal de Pelotas",
          "University Paris Est Creteil",
          "University of Alcalá",
          "University of Cagliari",
          "University of Calabria",
          "University of Canberra",
          "University of Chieti-Pescara",
          "University of Cordoba",
          "University of Girona",
          "University of Ibadan",
          "University of Jinan",
          "University of Kassel",
          "University of Lahore",
          "University of L'Aquila",
          "University of Magdeburg",
          "University of Messina",
          "University of Mississippi",
          "University of Missouri-Kansas City",
          "University of Mons",
          "University of New England",
          "University of North Carolina at Greensboro",
          "University of Oklahoma - Oklahoma City",
          "University of Portsmouth",
          "University of Savoy",
          "University of Stirling",
          "University of Thessaly",
          "University of Veterinary Medicine Vienna",
          "Warsaw University of Life Sciences",
          "Wroclaw Medical University",
          "Yanshan University",
          "Yokohama City University",
          "Zagazig University",
          "Zhejiang Sci-Tech University",
          "Adam Mickiewicz University",
          "Aligarh Muslim University",
          "Amherst College",
          "Amity University",
          "Bocconi University",
          "Brno University of Technology",
          "Budapest University of Technology and Economics",
          "Carlos III University of Madrid",
          "China Pharmaceutical University",
          "China West Normal University",
          "Chungbuk National University",
          "Duy Tan University",
          "Ege University",
          "Erciyes University",
          "Federal University of Bahia",
          "Federal University of Goiás",
          "Federal University of Rio Grande do Norte",
          "Ferdowsi University of Mashhad",
          "Fırat University",
          "Florida Atlantic University",
          "Foshan University",
          "Gazi University",
          "Guangdong University of Foreign Studies",
          "Hallym University",
          "Hebei Medical University",
          "Homi Bhabha National Institute",
          "Huaqiao University",
          "Hunan Agricultural University",
          "Hunan University of Technology",
          "Illinois Institute of Technology",
          "International School for Advanced Studies",
          "Iran University of Medical Sciences",
          "Istanbul Technical University",
          "Kafrelsheikh University",
          "King Juan Carlos University",
          "Kumamoto University",
          "Liaocheng University",
          "Loyola University Chicago",
          "Manipal University",
          "Medical University of Warsaw",
          "Metropolitan Autonomous University",
          "Middle East Technical University",
          "Missouri University of Science and Technology",
          "Nara Institute of Science and Technology",
          "National University of La Plata",
          "National University of Sciences and Technology Pakistan",
          "NHH - Norwegian School of Economics",
          "Nicolaus Copernicus University",
          "Northeast Normal University",
          "Ontario Tech University",
          "Portland State University",
          "Qilu University of Technology",
          "Qingdao University of Science and Technology",
          "Quaid-i-Azam University",
          "Ryerson University",
          "Saitama University",
          "Shanghai Normal University",
          "South Dakota State University",
          "Southwest Petroleum University",
          "SRM INSTITUTE OF SCIENCE AND TECHNOLOGY",
          "SUNY College of Environmental Science and Forestry",
          "SUNY Upstate Medical University",
          "Technical University of Dortmund",
          "Technical University of Ostrava",
          "The Graduate University for Advanced Studies",
          "Tianjin University of Technology",
          "Tokyo University of Agriculture and Technology",
          "Tuscia University",
          "Universidad Andrés Bello",
          "Universidad de Cadiz",
          "Universidad de Las Palmas de Gran Canaria",
          "Universidade Federal de Mato Grosso do Sul",
          "University of Arkansas at Little Rock",
          "University of Calcutta",
          "University of Cantabria",
          "University of Concepcion",
          "University of Hertfordshire",
          "University of Insubria",
          "University of Klagenfurt",
          "University of Lincoln",
          "University of Los Andes (Colombia)",
          "University of Massachusetts Boston",
          "University of Massachusetts Lowell",
          "University of Montana - Missoula",
          "University of Novi Sad",
          "University of Rhode Island",
          "University of Salento",
          "University of South Africa",
          "University of South Bohemia",
          "University of Tabriz",
          "University of The Free State",
          "University of Tours",
          "University of Ulster",
          "University of Urbino",
          "University of Valladolid",
          "University of Wuppertal",
          "Warsaw University of Technology",
          "Western Norway University of Applied Sciences",
          "Wroclaw University of Science and Technology",
          "Yantai University"
         ],
         "legendgroup": "",
         "marker": {
          "color": "#636efa",
          "symbol": "circle"
         },
         "mode": "markers",
         "name": "",
         "orientation": "v",
         "showlegend": false,
         "type": "scatter",
         "x": [
          1,
          2,
          3,
          1,
          4,
          5,
          2,
          6,
          7,
          8,
          9,
          10,
          11,
          12,
          13,
          1,
          14,
          3,
          15,
          1,
          16,
          1,
          4,
          1,
          17,
          1,
          18,
          19,
          20,
          21,
          22,
          1,
          23,
          2,
          5,
          3,
          24,
          6,
          1,
          2,
          1,
          2,
          3,
          25,
          2,
          25,
          2,
          7,
          27,
          28,
          29,
          30,
          31,
          4,
          1,
          1,
          32,
          2,
          2,
          3,
          33,
          3,
          5,
          4,
          34,
          2,
          6,
          1,
          2,
          3,
          1,
          35,
          3,
          1,
          5,
          4,
          1,
          4,
          7,
          6,
          8,
          36,
          37,
          2,
          4,
          2,
          3,
          2,
          2,
          4,
          3,
          5,
          1,
          38,
          2,
          8,
          1,
          1,
          39,
          7,
          5,
          40,
          40,
          40,
          40,
          9,
          40,
          40,
          40,
          1,
          2,
          4,
          9,
          40,
          1,
          3,
          9,
          2,
          4,
          40,
          40,
          1,
          9,
          5,
          2,
          40,
          40,
          8,
          9,
          9,
          5,
          3,
          4,
          40,
          5,
          9,
          40,
          9,
          5,
          4,
          5,
          9,
          6,
          9,
          1,
          5,
          40,
          9,
          9,
          9,
          55,
          14,
          17,
          3,
          7,
          55,
          6,
          14,
          14,
          17,
          5,
          55,
          14,
          4,
          14,
          14,
          14,
          14,
          14,
          3,
          4,
          55,
          3,
          7,
          14,
          4,
          4,
          14,
          1,
          55,
          1,
          55,
          6,
          14,
          6,
          17,
          55,
          2,
          8,
          2,
          2,
          55,
          17,
          17,
          6,
          1,
          7,
          7,
          7,
          14,
          2,
          27,
          27,
          4,
          27,
          1,
          27,
          9,
          63,
          2,
          9,
          27,
          9,
          27,
          63,
          63,
          9,
          2,
          7,
          27,
          27,
          10,
          3,
          2,
          2,
          6,
          9,
          10,
          9,
          2,
          27,
          27,
          1,
          1,
          22,
          63,
          63,
          63,
          63,
          9,
          5,
          22,
          9,
          9,
          10,
          27,
          27,
          2,
          9,
          63,
          1,
          10,
          2,
          22,
          4,
          5,
          9,
          1,
          63,
          1,
          63,
          63,
          22,
          10,
          2,
          10,
          63,
          63,
          63,
          10,
          10,
          1,
          9,
          10,
          9,
          63,
          63,
          63,
          10,
          5,
          63,
          9,
          1,
          27,
          63,
          4,
          9,
          9,
          63,
          7,
          5,
          2,
          63,
          9,
          10,
          63,
          63,
          9,
          2,
          27,
          5,
          2,
          86,
          6,
          5,
          41,
          86,
          1,
          41,
          9,
          1,
          41,
          41,
          13,
          86,
          86,
          26,
          41,
          13,
          11,
          41,
          20,
          41,
          1,
          86,
          13,
          19,
          41,
          9,
          9,
          26,
          41,
          13,
          7,
          41,
          41,
          41,
          41,
          41,
          1,
          3,
          41,
          41,
          8,
          6,
          26,
          19,
          2,
          41,
          13,
          86,
          7,
          20,
          5,
          26,
          86,
          19,
          26,
          86,
          86,
          86,
          2,
          2,
          86,
          3,
          20,
          2,
          86,
          86,
          86,
          20,
          9,
          86,
          86,
          3,
          86,
          26,
          6,
          13,
          1,
          86,
          9,
          86,
          86,
          2,
          13,
          26,
          20,
          26,
          1,
          6,
          2,
          13,
          20,
          13,
          3,
          6,
          86,
          19,
          41,
          59,
          6,
          107,
          107,
          9,
          4,
          59,
          59,
          59,
          107,
          3,
          3,
          3,
          23,
          107,
          107,
          59,
          26,
          11,
          12,
          1,
          1,
          59,
          4,
          11,
          9,
          9,
          107,
          2,
          5,
          107,
          23,
          59,
          4,
          2,
          4,
          59,
          11,
          9,
          59,
          107,
          9,
          59,
          59,
          3,
          9,
          4,
          3,
          26,
          2,
          107,
          107,
          107,
          107,
          107,
          107,
          3,
          3,
          12,
          34,
          1,
          107,
          3,
          1,
          34,
          18,
          26,
          3,
          34,
          1,
          1,
          107,
          26,
          3,
          5,
          107,
          3,
          12,
          12,
          26,
          3,
          26,
          9,
          9,
          107,
          34,
          12,
          3,
          12,
          107,
          1,
          34,
          1,
          107,
          3,
          12,
          107,
          59,
          18,
          59,
          2,
          2,
          7,
          128,
          25,
          128,
          72,
          18,
          20,
          72,
          12,
          1,
          1,
          20,
          3,
          128,
          72,
          72,
          72,
          72,
          72,
          72,
          72,
          128,
          128,
          32,
          2,
          7,
          128,
          3,
          72,
          4,
          128,
          72,
          5,
          128,
          2,
          12,
          1,
          72,
          128,
          32,
          128,
          18,
          72,
          72,
          72,
          72,
          72,
          39,
          39,
          3,
          128,
          72,
          11,
          8,
          128,
          128,
          32,
          17,
          18,
          17,
          5,
          17,
          1,
          8,
          18,
          32,
          7,
          32,
          6,
          18,
          12,
          128,
          128,
          128,
          18,
          18,
          39,
          18,
          32,
          12,
          3,
          20,
          25,
          25,
          1,
          4,
          12,
          18,
          12,
          128,
          12,
          128,
          128,
          72,
          72,
          12,
          72,
          72,
          3,
          4,
          94,
          94,
          42,
          94,
          147,
          42,
          94,
          94,
          14,
          94,
          147,
          6,
          28,
          1,
          16,
          7,
          7,
          7,
          7,
          94,
          2,
          94,
          8,
          6,
          4,
          94,
          16,
          14,
          147,
          6,
          14,
          94,
          42,
          2,
          3,
          27,
          5,
          94,
          94,
          2,
          8,
          94,
          94,
          94,
          42,
          7,
          42,
          12,
          16,
          27,
          42,
          147,
          4,
          1,
          94,
          94,
          94,
          4,
          147,
          8,
          94,
          42,
          147,
          147,
          13,
          14,
          14,
          1,
          147,
          16,
          16,
          147,
          16,
          3,
          2,
          6,
          16,
          27,
          8,
          42,
          38,
          2,
          1,
          147,
          147,
          20,
          38,
          20,
          27,
          27,
          28,
          27,
          20,
          16,
          2,
          14,
          94,
          94,
          1,
          4,
          1,
          115,
          6,
          40,
          18,
          115,
          3,
          115,
          115,
          18,
          18,
          158,
          1,
          115,
          115,
          11,
          11,
          115,
          115,
          115,
          115,
          4,
          4,
          4,
          23,
          4,
          18,
          20,
          10,
          50,
          20,
          18,
          6,
          50,
          50,
          158,
          23,
          158,
          115,
          115,
          6,
          158,
          158,
          3,
          22,
          115,
          23,
          6,
          115,
          115,
          20,
          6,
          158,
          158,
          158,
          115,
          40,
          6,
          158,
          6,
          22,
          4,
          2,
          158,
          40,
          11,
          33,
          22,
          2,
          50,
          22,
          1,
          7,
          22,
          5,
          158,
          40,
          1,
          22,
          22,
          158,
          158,
          22,
          23,
          9,
          115,
          3,
          158,
          158,
          22,
          2,
          158,
          33,
          158,
          4,
          6,
          1,
          115,
          133,
          23,
          5,
          133,
          4,
          1,
          133,
          54,
          133,
          30,
          54,
          4,
          4,
          4,
          23,
          6,
          14,
          14,
          14,
          175,
          35,
          23,
          4,
          10,
          23,
          23,
          133,
          133,
          54,
          8,
          7,
          10,
          23,
          1,
          175,
          13,
          54,
          7,
          175,
          31,
          3,
          25,
          23,
          133,
          133,
          11,
          11,
          10,
          11,
          1,
          11,
          5,
          23,
          23,
          4,
          7,
          6,
          133,
          133,
          133,
          30,
          133,
          1,
          7,
          54,
          23,
          175,
          14,
          25,
          31,
          35,
          35,
          30,
          35,
          31,
          31,
          1,
          133,
          44,
          5,
          35,
          44,
          35,
          175,
          175,
          9,
          30,
          175,
          175,
          54,
          25,
          54,
          4,
          10,
          4,
          4,
          133,
          23,
          5,
          133,
          7,
          9,
          183,
          9,
          41,
          6,
          4,
          35,
          148,
          148,
          29,
          2,
          6,
          6,
          18,
          18,
          18,
          9,
          6,
          183,
          148,
          6,
          148,
          29,
          148,
          9,
          148,
          148,
          148,
          183,
          41,
          9,
          6,
          7,
          35,
          28,
          148,
          183,
          9,
          7,
          4,
          6,
          183,
          28,
          2,
          6,
          6,
          7,
          148,
          25,
          183,
          148,
          148,
          6,
          25,
          28,
          148,
          183,
          148,
          9,
          183,
          183,
          46,
          6,
          28,
          148,
          28,
          41,
          3,
          35,
          35,
          18,
          183,
          9,
          35,
          3,
          61,
          41,
          13,
          61,
          2,
          183,
          183,
          183,
          2,
          183,
          41,
          8,
          6,
          9,
          8,
          28,
          61,
          41,
          35,
          46,
          7,
          6,
          7,
          148
         ],
         "xaxis": "x",
         "y": [
          1,
          2,
          3,
          4,
          5,
          6,
          7,
          8,
          9,
          10,
          11,
          12,
          13,
          14,
          15,
          16,
          17,
          18,
          19,
          20,
          21,
          22,
          23,
          24,
          25,
          26,
          27,
          28,
          29,
          30,
          31,
          32,
          33,
          34,
          35,
          36,
          37,
          38,
          39,
          40,
          41,
          41,
          43,
          44,
          44,
          44,
          47,
          48,
          49,
          50,
          51,
          52,
          53,
          54,
          54,
          56,
          57,
          57,
          59,
          60,
          61,
          62,
          62,
          64,
          64,
          66,
          67,
          67,
          69,
          70,
          71,
          71,
          73,
          74,
          75,
          76,
          77,
          78,
          79,
          79,
          81,
          82,
          83,
          83,
          83,
          83,
          87,
          88,
          89,
          90,
          90,
          92,
          92,
          94,
          95,
          96,
          96,
          98,
          99,
          99,
          100,
          101,
          102,
          103,
          104,
          105,
          106,
          107,
          108,
          109,
          110,
          111,
          112,
          113,
          114,
          115,
          116,
          117,
          118,
          119,
          120,
          121,
          122,
          123,
          124,
          125,
          126,
          127,
          128,
          129,
          130,
          131,
          132,
          133,
          134,
          135,
          136,
          137,
          138,
          139,
          140,
          141,
          142,
          143,
          144,
          145,
          146,
          147,
          148,
          149,
          150,
          151,
          152,
          153,
          154,
          155,
          156,
          157,
          158,
          159,
          160,
          161,
          162,
          163,
          164,
          165,
          166,
          167,
          168,
          169,
          170,
          171,
          172,
          173,
          174,
          175,
          176,
          177,
          178,
          179,
          180,
          181,
          182,
          183,
          184,
          185,
          186,
          187,
          188,
          189,
          190,
          191,
          192,
          193,
          194,
          195,
          196,
          197,
          198,
          199,
          200,
          201,
          202,
          203,
          204,
          205,
          206,
          207,
          208,
          209,
          210,
          211,
          212,
          213,
          214,
          215,
          216,
          217,
          218,
          219,
          220,
          221,
          222,
          223,
          224,
          225,
          226,
          227,
          228,
          229,
          230,
          231,
          232,
          233,
          234,
          235,
          236,
          237,
          238,
          239,
          240,
          241,
          242,
          243,
          244,
          245,
          246,
          247,
          248,
          249,
          250,
          251,
          252,
          253,
          254,
          255,
          256,
          257,
          258,
          259,
          260,
          261,
          262,
          263,
          264,
          265,
          266,
          267,
          268,
          269,
          270,
          271,
          272,
          273,
          274,
          275,
          276,
          277,
          278,
          279,
          280,
          281,
          282,
          283,
          284,
          285,
          286,
          287,
          288,
          289,
          290,
          291,
          292,
          293,
          294,
          295,
          296,
          297,
          298,
          299,
          300,
          301,
          302,
          303,
          304,
          305,
          306,
          307,
          308,
          309,
          310,
          311,
          312,
          313,
          314,
          315,
          316,
          317,
          318,
          319,
          320,
          321,
          322,
          323,
          324,
          325,
          326,
          327,
          328,
          329,
          330,
          331,
          332,
          333,
          334,
          335,
          336,
          337,
          338,
          339,
          340,
          341,
          342,
          343,
          344,
          345,
          346,
          347,
          348,
          349,
          350,
          351,
          352,
          353,
          354,
          355,
          356,
          357,
          358,
          359,
          360,
          361,
          362,
          363,
          364,
          365,
          366,
          367,
          368,
          369,
          370,
          371,
          372,
          373,
          374,
          375,
          376,
          377,
          378,
          379,
          380,
          381,
          382,
          383,
          384,
          385,
          386,
          387,
          388,
          389,
          390,
          391,
          392,
          393,
          394,
          395,
          396,
          397,
          398,
          399,
          400,
          401,
          402,
          403,
          404,
          405,
          406,
          407,
          408,
          409,
          410,
          411,
          412,
          413,
          414,
          415,
          416,
          417,
          418,
          419,
          420,
          421,
          422,
          423,
          424,
          425,
          426,
          427,
          428,
          429,
          430,
          431,
          432,
          433,
          434,
          435,
          436,
          437,
          438,
          439,
          440,
          441,
          442,
          443,
          444,
          445,
          446,
          447,
          448,
          449,
          450,
          451,
          452,
          453,
          454,
          455,
          456,
          457,
          458,
          459,
          460,
          461,
          462,
          463,
          464,
          465,
          466,
          467,
          468,
          469,
          470,
          471,
          472,
          473,
          474,
          475,
          476,
          477,
          478,
          479,
          480,
          481,
          482,
          483,
          484,
          485,
          486,
          487,
          488,
          489,
          490,
          491,
          492,
          493,
          494,
          495,
          496,
          497,
          498,
          499,
          500,
          501,
          502,
          503,
          504,
          505,
          506,
          507,
          508,
          509,
          510,
          511,
          512,
          513,
          514,
          515,
          516,
          517,
          518,
          519,
          520,
          521,
          522,
          523,
          524,
          525,
          526,
          527,
          528,
          529,
          530,
          531,
          532,
          533,
          534,
          535,
          536,
          537,
          538,
          539,
          540,
          541,
          542,
          543,
          544,
          545,
          546,
          547,
          548,
          549,
          550,
          551,
          552,
          553,
          554,
          555,
          556,
          557,
          558,
          559,
          560,
          561,
          562,
          563,
          564,
          565,
          566,
          567,
          568,
          569,
          570,
          571,
          572,
          573,
          574,
          575,
          576,
          577,
          578,
          579,
          580,
          581,
          582,
          583,
          584,
          585,
          586,
          587,
          588,
          589,
          590,
          591,
          592,
          593,
          594,
          595,
          596,
          597,
          598,
          599,
          600,
          601,
          602,
          603,
          604,
          605,
          606,
          607,
          608,
          609,
          610,
          611,
          612,
          613,
          614,
          615,
          616,
          617,
          618,
          619,
          620,
          621,
          622,
          623,
          624,
          625,
          626,
          627,
          628,
          629,
          630,
          631,
          632,
          633,
          634,
          635,
          636,
          637,
          638,
          639,
          640,
          641,
          642,
          643,
          644,
          645,
          646,
          647,
          648,
          649,
          650,
          651,
          652,
          653,
          654,
          655,
          656,
          657,
          658,
          659,
          660,
          661,
          662,
          663,
          664,
          665,
          666,
          667,
          668,
          669,
          670,
          671,
          672,
          673,
          674,
          675,
          676,
          677,
          678,
          679,
          680,
          681,
          682,
          683,
          684,
          685,
          686,
          687,
          688,
          689,
          690,
          691,
          692,
          693,
          694,
          695,
          696,
          697,
          698,
          699,
          700,
          701,
          702,
          703,
          704,
          705,
          706,
          707,
          708,
          709,
          710,
          711,
          712,
          713,
          714,
          715,
          716,
          717,
          718,
          719,
          720,
          721,
          722,
          723,
          724,
          725,
          726,
          727,
          728,
          729,
          730,
          731,
          732,
          733,
          734,
          735,
          736,
          737,
          738,
          739,
          740,
          741,
          742,
          743,
          744,
          745,
          746,
          747,
          748,
          749,
          750,
          751,
          752,
          753,
          754,
          755,
          756,
          757,
          758,
          759,
          760,
          761,
          762,
          763,
          764,
          765,
          766,
          767,
          768,
          769,
          770,
          771,
          772,
          773,
          774,
          775,
          776,
          777,
          778,
          779,
          780,
          781,
          782,
          783,
          784,
          785,
          786,
          787,
          788,
          789,
          790,
          791,
          792,
          793,
          794,
          795,
          796,
          797,
          798,
          799,
          800,
          801,
          802,
          803,
          804,
          805,
          806,
          807,
          808,
          809,
          810,
          811,
          812,
          813,
          814,
          815,
          816,
          817,
          818,
          819,
          820,
          821,
          822,
          823,
          824,
          825,
          826,
          827,
          828,
          829,
          830,
          831,
          832,
          833,
          834,
          835,
          836,
          837,
          838,
          839,
          840,
          841,
          842,
          843,
          844,
          845,
          846,
          847,
          848,
          849,
          850,
          851,
          852,
          853,
          854,
          855,
          856,
          857,
          858,
          859,
          860,
          861,
          862,
          863,
          864,
          865,
          866,
          867,
          868,
          869,
          870,
          871,
          872,
          873,
          874,
          875,
          876,
          877,
          878,
          879,
          880,
          881,
          882,
          883,
          884,
          885,
          886,
          887,
          888,
          889,
          890,
          891,
          892,
          893,
          894,
          895,
          896,
          897,
          898,
          899,
          900,
          901,
          902,
          903,
          904,
          905,
          906,
          907,
          908,
          909,
          910,
          911,
          912,
          913,
          914,
          915,
          916,
          917,
          918,
          919,
          920,
          921,
          922,
          923,
          924,
          925,
          926,
          927,
          928,
          929,
          930,
          931,
          932,
          933,
          934,
          935,
          936,
          937,
          938,
          939,
          940,
          941,
          942,
          943,
          944,
          945,
          946,
          947,
          948,
          949,
          950,
          951,
          952,
          953,
          954,
          955,
          956,
          957,
          958,
          959,
          960,
          961,
          962,
          963,
          964,
          965,
          966,
          967,
          968,
          969,
          970,
          971,
          972,
          973,
          974,
          975,
          976,
          977,
          978,
          979,
          980,
          981,
          982,
          983,
          984,
          985,
          986,
          987,
          988,
          989,
          990,
          991,
          992,
          993,
          994,
          995,
          996,
          997,
          998,
          999
         ],
         "yaxis": "y"
        }
       ],
       "layout": {
        "autosize": true,
        "legend": {
         "tracegroupgap": 0
        },
        "template": {
         "data": {
          "bar": [
           {
            "error_x": {
             "color": "#2a3f5f"
            },
            "error_y": {
             "color": "#2a3f5f"
            },
            "marker": {
             "line": {
              "color": "#E5ECF6",
              "width": 0.5
             },
             "pattern": {
              "fillmode": "overlay",
              "size": 10,
              "solidity": 0.2
             }
            },
            "type": "bar"
           }
          ],
          "barpolar": [
           {
            "marker": {
             "line": {
              "color": "#E5ECF6",
              "width": 0.5
             },
             "pattern": {
              "fillmode": "overlay",
              "size": 10,
              "solidity": 0.2
             }
            },
            "type": "barpolar"
           }
          ],
          "carpet": [
           {
            "aaxis": {
             "endlinecolor": "#2a3f5f",
             "gridcolor": "white",
             "linecolor": "white",
             "minorgridcolor": "white",
             "startlinecolor": "#2a3f5f"
            },
            "baxis": {
             "endlinecolor": "#2a3f5f",
             "gridcolor": "white",
             "linecolor": "white",
             "minorgridcolor": "white",
             "startlinecolor": "#2a3f5f"
            },
            "type": "carpet"
           }
          ],
          "choropleth": [
           {
            "colorbar": {
             "outlinewidth": 0,
             "ticks": ""
            },
            "type": "choropleth"
           }
          ],
          "contour": [
           {
            "colorbar": {
             "outlinewidth": 0,
             "ticks": ""
            },
            "colorscale": [
             [
              0,
              "#0d0887"
             ],
             [
              0.1111111111111111,
              "#46039f"
             ],
             [
              0.2222222222222222,
              "#7201a8"
             ],
             [
              0.3333333333333333,
              "#9c179e"
             ],
             [
              0.4444444444444444,
              "#bd3786"
             ],
             [
              0.5555555555555556,
              "#d8576b"
             ],
             [
              0.6666666666666666,
              "#ed7953"
             ],
             [
              0.7777777777777778,
              "#fb9f3a"
             ],
             [
              0.8888888888888888,
              "#fdca26"
             ],
             [
              1,
              "#f0f921"
             ]
            ],
            "type": "contour"
           }
          ],
          "contourcarpet": [
           {
            "colorbar": {
             "outlinewidth": 0,
             "ticks": ""
            },
            "type": "contourcarpet"
           }
          ],
          "heatmap": [
           {
            "colorbar": {
             "outlinewidth": 0,
             "ticks": ""
            },
            "colorscale": [
             [
              0,
              "#0d0887"
             ],
             [
              0.1111111111111111,
              "#46039f"
             ],
             [
              0.2222222222222222,
              "#7201a8"
             ],
             [
              0.3333333333333333,
              "#9c179e"
             ],
             [
              0.4444444444444444,
              "#bd3786"
             ],
             [
              0.5555555555555556,
              "#d8576b"
             ],
             [
              0.6666666666666666,
              "#ed7953"
             ],
             [
              0.7777777777777778,
              "#fb9f3a"
             ],
             [
              0.8888888888888888,
              "#fdca26"
             ],
             [
              1,
              "#f0f921"
             ]
            ],
            "type": "heatmap"
           }
          ],
          "heatmapgl": [
           {
            "colorbar": {
             "outlinewidth": 0,
             "ticks": ""
            },
            "colorscale": [
             [
              0,
              "#0d0887"
             ],
             [
              0.1111111111111111,
              "#46039f"
             ],
             [
              0.2222222222222222,
              "#7201a8"
             ],
             [
              0.3333333333333333,
              "#9c179e"
             ],
             [
              0.4444444444444444,
              "#bd3786"
             ],
             [
              0.5555555555555556,
              "#d8576b"
             ],
             [
              0.6666666666666666,
              "#ed7953"
             ],
             [
              0.7777777777777778,
              "#fb9f3a"
             ],
             [
              0.8888888888888888,
              "#fdca26"
             ],
             [
              1,
              "#f0f921"
             ]
            ],
            "type": "heatmapgl"
           }
          ],
          "histogram": [
           {
            "marker": {
             "pattern": {
              "fillmode": "overlay",
              "size": 10,
              "solidity": 0.2
             }
            },
            "type": "histogram"
           }
          ],
          "histogram2d": [
           {
            "colorbar": {
             "outlinewidth": 0,
             "ticks": ""
            },
            "colorscale": [
             [
              0,
              "#0d0887"
             ],
             [
              0.1111111111111111,
              "#46039f"
             ],
             [
              0.2222222222222222,
              "#7201a8"
             ],
             [
              0.3333333333333333,
              "#9c179e"
             ],
             [
              0.4444444444444444,
              "#bd3786"
             ],
             [
              0.5555555555555556,
              "#d8576b"
             ],
             [
              0.6666666666666666,
              "#ed7953"
             ],
             [
              0.7777777777777778,
              "#fb9f3a"
             ],
             [
              0.8888888888888888,
              "#fdca26"
             ],
             [
              1,
              "#f0f921"
             ]
            ],
            "type": "histogram2d"
           }
          ],
          "histogram2dcontour": [
           {
            "colorbar": {
             "outlinewidth": 0,
             "ticks": ""
            },
            "colorscale": [
             [
              0,
              "#0d0887"
             ],
             [
              0.1111111111111111,
              "#46039f"
             ],
             [
              0.2222222222222222,
              "#7201a8"
             ],
             [
              0.3333333333333333,
              "#9c179e"
             ],
             [
              0.4444444444444444,
              "#bd3786"
             ],
             [
              0.5555555555555556,
              "#d8576b"
             ],
             [
              0.6666666666666666,
              "#ed7953"
             ],
             [
              0.7777777777777778,
              "#fb9f3a"
             ],
             [
              0.8888888888888888,
              "#fdca26"
             ],
             [
              1,
              "#f0f921"
             ]
            ],
            "type": "histogram2dcontour"
           }
          ],
          "mesh3d": [
           {
            "colorbar": {
             "outlinewidth": 0,
             "ticks": ""
            },
            "type": "mesh3d"
           }
          ],
          "parcoords": [
           {
            "line": {
             "colorbar": {
              "outlinewidth": 0,
              "ticks": ""
             }
            },
            "type": "parcoords"
           }
          ],
          "pie": [
           {
            "automargin": true,
            "type": "pie"
           }
          ],
          "scatter": [
           {
            "fillpattern": {
             "fillmode": "overlay",
             "size": 10,
             "solidity": 0.2
            },
            "type": "scatter"
           }
          ],
          "scatter3d": [
           {
            "line": {
             "colorbar": {
              "outlinewidth": 0,
              "ticks": ""
             }
            },
            "marker": {
             "colorbar": {
              "outlinewidth": 0,
              "ticks": ""
             }
            },
            "type": "scatter3d"
           }
          ],
          "scattercarpet": [
           {
            "marker": {
             "colorbar": {
              "outlinewidth": 0,
              "ticks": ""
             }
            },
            "type": "scattercarpet"
           }
          ],
          "scattergeo": [
           {
            "marker": {
             "colorbar": {
              "outlinewidth": 0,
              "ticks": ""
             }
            },
            "type": "scattergeo"
           }
          ],
          "scattergl": [
           {
            "marker": {
             "colorbar": {
              "outlinewidth": 0,
              "ticks": ""
             }
            },
            "type": "scattergl"
           }
          ],
          "scattermapbox": [
           {
            "marker": {
             "colorbar": {
              "outlinewidth": 0,
              "ticks": ""
             }
            },
            "type": "scattermapbox"
           }
          ],
          "scatterpolar": [
           {
            "marker": {
             "colorbar": {
              "outlinewidth": 0,
              "ticks": ""
             }
            },
            "type": "scatterpolar"
           }
          ],
          "scatterpolargl": [
           {
            "marker": {
             "colorbar": {
              "outlinewidth": 0,
              "ticks": ""
             }
            },
            "type": "scatterpolargl"
           }
          ],
          "scatterternary": [
           {
            "marker": {
             "colorbar": {
              "outlinewidth": 0,
              "ticks": ""
             }
            },
            "type": "scatterternary"
           }
          ],
          "surface": [
           {
            "colorbar": {
             "outlinewidth": 0,
             "ticks": ""
            },
            "colorscale": [
             [
              0,
              "#0d0887"
             ],
             [
              0.1111111111111111,
              "#46039f"
             ],
             [
              0.2222222222222222,
              "#7201a8"
             ],
             [
              0.3333333333333333,
              "#9c179e"
             ],
             [
              0.4444444444444444,
              "#bd3786"
             ],
             [
              0.5555555555555556,
              "#d8576b"
             ],
             [
              0.6666666666666666,
              "#ed7953"
             ],
             [
              0.7777777777777778,
              "#fb9f3a"
             ],
             [
              0.8888888888888888,
              "#fdca26"
             ],
             [
              1,
              "#f0f921"
             ]
            ],
            "type": "surface"
           }
          ],
          "table": [
           {
            "cells": {
             "fill": {
              "color": "#EBF0F8"
             },
             "line": {
              "color": "white"
             }
            },
            "header": {
             "fill": {
              "color": "#C8D4E3"
             },
             "line": {
              "color": "white"
             }
            },
            "type": "table"
           }
          ]
         },
         "layout": {
          "annotationdefaults": {
           "arrowcolor": "#2a3f5f",
           "arrowhead": 0,
           "arrowwidth": 1
          },
          "autotypenumbers": "strict",
          "coloraxis": {
           "colorbar": {
            "outlinewidth": 0,
            "ticks": ""
           }
          },
          "colorscale": {
           "diverging": [
            [
             0,
             "#8e0152"
            ],
            [
             0.1,
             "#c51b7d"
            ],
            [
             0.2,
             "#de77ae"
            ],
            [
             0.3,
             "#f1b6da"
            ],
            [
             0.4,
             "#fde0ef"
            ],
            [
             0.5,
             "#f7f7f7"
            ],
            [
             0.6,
             "#e6f5d0"
            ],
            [
             0.7,
             "#b8e186"
            ],
            [
             0.8,
             "#7fbc41"
            ],
            [
             0.9,
             "#4d9221"
            ],
            [
             1,
             "#276419"
            ]
           ],
           "sequential": [
            [
             0,
             "#0d0887"
            ],
            [
             0.1111111111111111,
             "#46039f"
            ],
            [
             0.2222222222222222,
             "#7201a8"
            ],
            [
             0.3333333333333333,
             "#9c179e"
            ],
            [
             0.4444444444444444,
             "#bd3786"
            ],
            [
             0.5555555555555556,
             "#d8576b"
            ],
            [
             0.6666666666666666,
             "#ed7953"
            ],
            [
             0.7777777777777778,
             "#fb9f3a"
            ],
            [
             0.8888888888888888,
             "#fdca26"
            ],
            [
             1,
             "#f0f921"
            ]
           ],
           "sequentialminus": [
            [
             0,
             "#0d0887"
            ],
            [
             0.1111111111111111,
             "#46039f"
            ],
            [
             0.2222222222222222,
             "#7201a8"
            ],
            [
             0.3333333333333333,
             "#9c179e"
            ],
            [
             0.4444444444444444,
             "#bd3786"
            ],
            [
             0.5555555555555556,
             "#d8576b"
            ],
            [
             0.6666666666666666,
             "#ed7953"
            ],
            [
             0.7777777777777778,
             "#fb9f3a"
            ],
            [
             0.8888888888888888,
             "#fdca26"
            ],
            [
             1,
             "#f0f921"
            ]
           ]
          },
          "colorway": [
           "#636efa",
           "#EF553B",
           "#00cc96",
           "#ab63fa",
           "#FFA15A",
           "#19d3f3",
           "#FF6692",
           "#B6E880",
           "#FF97FF",
           "#FECB52"
          ],
          "font": {
           "color": "#2a3f5f"
          },
          "geo": {
           "bgcolor": "white",
           "lakecolor": "white",
           "landcolor": "#E5ECF6",
           "showlakes": true,
           "showland": true,
           "subunitcolor": "white"
          },
          "hoverlabel": {
           "align": "left"
          },
          "hovermode": "closest",
          "mapbox": {
           "style": "light"
          },
          "paper_bgcolor": "white",
          "plot_bgcolor": "#E5ECF6",
          "polar": {
           "angularaxis": {
            "gridcolor": "white",
            "linecolor": "white",
            "ticks": ""
           },
           "bgcolor": "#E5ECF6",
           "radialaxis": {
            "gridcolor": "white",
            "linecolor": "white",
            "ticks": ""
           }
          },
          "scene": {
           "xaxis": {
            "backgroundcolor": "#E5ECF6",
            "gridcolor": "white",
            "gridwidth": 2,
            "linecolor": "white",
            "showbackground": true,
            "ticks": "",
            "zerolinecolor": "white"
           },
           "yaxis": {
            "backgroundcolor": "#E5ECF6",
            "gridcolor": "white",
            "gridwidth": 2,
            "linecolor": "white",
            "showbackground": true,
            "ticks": "",
            "zerolinecolor": "white"
           },
           "zaxis": {
            "backgroundcolor": "#E5ECF6",
            "gridcolor": "white",
            "gridwidth": 2,
            "linecolor": "white",
            "showbackground": true,
            "ticks": "",
            "zerolinecolor": "white"
           }
          },
          "shapedefaults": {
           "line": {
            "color": "#2a3f5f"
           }
          },
          "ternary": {
           "aaxis": {
            "gridcolor": "white",
            "linecolor": "white",
            "ticks": ""
           },
           "baxis": {
            "gridcolor": "white",
            "linecolor": "white",
            "ticks": ""
           },
           "bgcolor": "#E5ECF6",
           "caxis": {
            "gridcolor": "white",
            "linecolor": "white",
            "ticks": ""
           }
          },
          "title": {
           "x": 0.05
          },
          "xaxis": {
           "automargin": true,
           "gridcolor": "white",
           "linecolor": "white",
           "ticks": "",
           "title": {
            "standoff": 15
           },
           "zerolinecolor": "white",
           "zerolinewidth": 2
          },
          "yaxis": {
           "automargin": true,
           "gridcolor": "white",
           "linecolor": "white",
           "ticks": "",
           "title": {
            "standoff": 15
           },
           "zerolinecolor": "white",
           "zerolinewidth": 2
          }
         }
        },
        "title": {
         "text": "Scatter Plot of National vs. World Rank (Correlation: 0.34)"
        },
        "xaxis": {
         "anchor": "y",
         "autorange": true,
         "domain": [
          0,
          1
         ],
         "range": [
          -10.014534191088872,
          194.01453419108887
         ],
         "title": {
          "text": "National/Regional Rank"
         },
         "type": "linear"
        },
        "yaxis": {
         "anchor": "x",
         "autorange": true,
         "domain": [
          0,
          1
         ],
         "range": [
          -81.35922330097088,
          1081.3592233009708
         ],
         "title": {
          "text": "World Rank"
         },
         "type": "linear"
        }
       }
      },
      "image/png": "[encoded data removed]",
      "text/html": [
       "<div>                            <div id=\"bbdd728c-871b-4ab0-95ae-9ec522ff28a2\" class=\"plotly-graph-div\" style=\"height:525px; width:100%;\"></div>            <script type=\"text/javascript\">                require([\"plotly\"], function(Plotly) {                    window.PLOTLYENV=window.PLOTLYENV || {};                                    if (document.getElementById(\"bbdd728c-871b-4ab0-95ae-9ec522ff28a2\")) {                    Plotly.newPlot(                        \"bbdd728c-871b-4ab0-95ae-9ec522ff28a2\",                        [{\"hovertemplate\":\"\\u003cb\\u003e%{hovertext}\\u003c\\u002fb\\u003e\\u003cbr\\u003e\\u003cbr\\u003eNational\\u002fRegional Rank=%{x}\\u003cbr\\u003eWorld Rank=%{y}\\u003cextra\\u003e\\u003c\\u002fextra\\u003e\",\"hovertext\":[\"Harvard University\",\"Stanford University\",\"Massachusetts Institute of Technology (MIT)\",\"University of Cambridge\",\"University of California, Berkeley\",\"Princeton University\",\"University of Oxford\",\"Columbia University\",\"California Institute of Technology\",\"University of Chicago\",\"Yale University\",\"Cornell University\",\"University of California, Los Angeles\",\"Johns Hopkins University\",\"University of Pennsylvania\",\"Paris-Saclay University\",\"University of Washington\",\"University College London\",\"University of California, San Francisco\",\"ETH Zurich\",\"University of California, San Diego\",\"University of Toronto\",\"Imperial College London\",\"The University of Tokyo\",\"New York University\",\"Tsinghua University\",\"Washington University in St. Louis\",\"University of Michigan-Ann Arbor\",\"University of North Carolina at Chapel Hill\",\"Northwestern University\",\"Duke University\",\"The University of Melbourne\",\"University of Wisconsin - Madison\",\"Peking University\",\"The University of Edinburgh\",\"Zhejiang University\",\"The University of Texas at Austin\",\"The University of Manchester\",\"University of Copenhagen\",\"PSL University\",\"Karolinska Institute\",\"Kyoto University\",\"Sorbonne University\",\"Rockefeller University\",\"University of British Columbia\",\"University of Minnesota, Twin Cities\",\"The University of Queensland\",\"King's College London\",\"University of Illinois at Urbana-Champaign\",\"University of Maryland, College Park\",\"University of Colorado at Boulder\",\"The University of Texas Southwestern Medical Center at Dallas\",\"University of Southern California\",\"Shanghai Jiao Tong University\",\"Utrecht University\",\"Technical University of Munich\",\"University of California, Santa Barbara\",\"University of Munich\",\"University of Zurich\",\"University of Sydney\",\"University of California, Irvine\",\"University of Geneva\",\"University of Science and Technology of China\",\"The University of New South Wales\",\"Vanderbilt University\",\"University of Groningen\",\"Fudan University\",\"University of Oslo\",\"Aarhus University\",\"Heidelberg University\",\"National University of Singapore\",\"The University of Texas M. D. Anderson Cancer Center\",\"McGill University\",\"Ghent University\",\"Monash University\",\"University of Bonn\",\"The Hebrew University of Jerusalem\",\"Universit\\u00e9 Paris Cit\\u00e9\",\"Sun Yat-sen University\",\"The Australian National University\",\"University of Bristol\",\"University of Pittsburgh\",\"Purdue University - West Lafayette\",\"Technion-Israel Institute of Technology\",\"University of Basel\",\"Weizmann Institute of Science\",\"Erasmus University Rotterdam\",\"Nanyang Technological University\",\"Uppsala University\",\"McMaster University\",\"Stockholm University\",\"University of Alberta\",\"University of Helsinki\",\"University of Florida\",\"KU Leuven\",\"Huazhong University of Science and Technology\",\"The University of Hong Kong\",\"Seoul National University\",\"Brown University\",\"The University of Western Australia\",\"Aix Marseille University\",\"Arizona State University\",\"Boston University\",\"Carnegie Mellon University\",\"Case Western Reserve University\",\"Central South University\",\"Emory University\",\"Icahn School of Medicine at Mount Sinai\",\"Indiana University Bloomington\",\"King Abdulaziz University\",\"King Saud University\",\"Leiden University\",\"London School of Economics and Political Science\",\"Mayo Clinic Alix School of Medicine\",\"Moscow State University\",\"Nagoya University\",\"Nanjing University\",\"Norwegian University of Science and Technology - NTNU\",\"Radboud University Nijmegen\",\"Rice University\",\"Rutgers, The State University of New Jersey - New Brunswick\",\"Sapienza University of Rome\",\"Sichuan University\",\"Swiss Federal Institute of Technology Lausanne\",\"The Chinese University of Hong Kong\",\"The Ohio State University - Columbus\",\"Pennsylvania State University - University Park\",\"The University of Adelaide\",\"The University of Glasgow\",\"The University of Sheffield\",\"Universit\\u00e9 Grenoble Alpes\",\"Universit\\u00e9 libre de Bruxelles (ULB)\",\"University of Amsterdam\",\"University of Arizona\",\"University of Bern\",\"University of Birmingham\",\"University of California, Davis\",\"University of Exeter\",\"University of Freiburg\",\"University of Gothenburg\",\"University of Lausanne\",\"University of Liverpool\",\"University of Montreal\",\"University of Nottingham\",\"University of Sao Paulo\",\"University of Strasbourg\",\"University of Utah\",\"University of Warwick\",\"Wuhan University\",\"Xi'an Jiaotong University\",\"Baylor College of Medicine\",\"Beijing Institute of Technology\",\"Cardiff University\",\"City University of Hong Kong\",\"Delft University of Technology\",\"Georgia Institute of Technology\",\"Goethe University Frankfurt\",\"Harbin Institute of Technology\",\"Jilin University\",\"London School of Hygiene & Tropical Medicine\",\"Lund University\",\"Michigan State University\",\"Northwestern Polytechnical University\",\"Osaka University\",\"Shandong University\",\"Soochow University (China)\",\"South China University of Technology\",\"Southeast University\",\"Southern University of Science and Technology\",\"Technical University of Denmark\",\"Tel Aviv University\",\"Texas A&M University\",\"The Hong Kong Polytechnic University\",\"The University of Calgary\",\"Tianjin University\",\"Tohoku University\",\"Tokyo Institute of Technology\",\"Tongji University\",\"Trinity College Dublin\",\"Tufts University\",\"University of Barcelona\",\"University of California, Santa Cruz\",\"University of Cologne\",\"University of Electronic Science and Technology of China\",\"University of Goettingen\",\"University of Leeds\",\"University of Massachusetts Amherst\",\"University of Milan\",\"University of Montpellier\",\"University of Padua\",\"University of Pisa\",\"University of Rochester\",\"University of Southampton\",\"University of Sussex\",\"University of Tuebingen\",\"University of Vienna\",\"University of Waterloo\",\"Vrije Universiteit Amsterdam\",\"Wageningen University & Research\",\"Xiamen University\",\"Autonomous University of Barcelona\",\"Beihang University\",\"Beijing Normal University\",\"Catholic University of Louvain\",\"China Agricultural University\",\"China Medical University (Taichung)\",\"Chongqing University\",\"Claude Bernard University Lyon 1\",\"Colorado State University\",\"Complutense University of Madrid\",\"Curtin University\",\"Dalian University of Technology\",\"Deakin University\",\"East China Normal University\",\"Florida State University\",\"George Mason University\",\"Griffith University\",\"Hanyang University\",\"Hokkaido University\",\"Hunan University\",\"Jiangsu University\",\"Karlsruhe Institute of Technology (KIT)\",\"King Abdullah University of Science and Technology\",\"Korea Advanced Institute of Science and Technology\",\"Korea University\",\"KTH Royal Institute of Technology\",\"La Trobe University\",\"Maastricht University\",\"Macquarie University\",\"Medical University of Vienna\",\"Nanjing Medical University\",\"Nankai University\",\"National Autonomous University of Mexico\",\"National Taiwan University\",\"Newcastle University\",\"North Carolina State University - Raleigh\",\"Northeastern University (Boston)\",\"Oregon Health and Science University\",\"Oregon State University\",\"Paul Sabatier University (Toulouse 3)\",\"Polytechnic University of Milan\",\"Queen Mary University of London\",\"Queen's University\",\"Queensland University of Technology\",\"RWTH Aachen University\",\"Shanghai University\",\"Shenzhen University\",\"Sungkyunkwan University\",\"Swinburne University of Technology\",\"The George Washington University\",\"The University of Auckland\",\"TU Dresden\",\"Ulsan National Institute of Science and Technology\",\"University of Aberdeen\",\"University of Antwerp\",\"University of Bologna\",\"University of Bordeaux\",\"University of Buenos Aires\",\"University of California, Riverside\",\"University of Cape Town\",\"University of Colorado at Denver\",\"University of Delaware\",\"University of East Anglia\",\"University of Erlangen-Nuremberg\",\"University of Granada\",\"University of Hamburg\",\"University of Houston\",\"University of Iowa\",\"University of Kansas\",\"University of Kiel\",\"University of Leipzig\",\"University of Lisbon\",\"University of Lorraine\",\"University of Mainz\",\"University of Manitoba\",\"University of Massachusetts Medical School - Worcester\",\"University of Miami\",\"University of Missouri - Columbia\",\"University of Muenster\",\"University of Naples Federico II\",\"University of Nebraska - Lincoln\",\"University of Ottawa\",\"University of Porto\",\"University of Science and Technology Beijing\",\"University of South Florida\",\"University of Southern Denmark\",\"University of Tasmania\",\"University of Technology Sydney\",\"University of Tennessee - Knoxville\",\"University of Tsukuba\",\"University of Turin\",\"University of Valencia\",\"University of Virginia\",\"University of Wollongong\",\"University of Wuerzburg\",\"Virginia Commonwealth University\",\"Virginia Polytechnic Institute and State University\",\"Western University\",\"Yonsei University\",\"Zhengzhou University\",\"Aalborg University\",\"Aalto University\",\"Albert Einstein College of Medicine\",\"Autonomous University of Madrid\",\"Bar-Ilan University\",\"Beijing University of Chemical Technology\",\"Brandeis University\",\"Cairo University\",\"Capital Medical University\",\"Catholic University of the Sacred Heart\",\"Charles University in Prague\",\"China University of Geosciences (Wuhan)\",\"Peking Union Medical College\",\"Dalhousie University\",\"Dartmouth College\",\"Drexel University\",\"Durham University\",\"East China University of Science and Technology\",\"Ecole Normale Superieure - Lyon\",\"Eindhoven University of Technology\",\"Fuzhou University\",\"Heinrich Heine University Duesseldorf\",\"Huazhong Agricultural University\",\"Indian Institute of Science\",\"Indiana University-Purdue University at Indianapolis\",\"Institut Polytechnique de Paris\",\"James Cook University\",\"Jinan University\",\"Keio University\",\"Kyushu University\",\"Lancaster University\",\"Lanzhou University\",\"Laval University\",\"Linkoping University\",\"Nanchang University\",\"Nanjing Agricultural University\",\"NanJing Tech University\",\"Nanjing University of Aeronautics and Astronautics\",\"Nanjing University of Science and Technology\",\"National and Kapodistrian University of Athens\",\"National Cheng Kung University\",\"Northeastern University (Shenyang)\",\"Ocean University of China\",\"Pohang University of Science and Technology\",\"Pompeu Fabra University\",\"Queen's University Belfast\",\"RMIT University\",\"Saint Petersburg State University\",\"ShanghaiTech University\",\"Simon Fraser University\",\"Stony Brook University\",\"Swedish University of Agricultural Sciences\",\"Technical University of Berlin\",\"The Hong Kong University of Science and Technology\",\"The University of Dundee\",\"The University of Georgia\",\"The University of Newcastle, Australia\",\"The University of Reading\",\"The University of Texas at Dallas\",\"The University of Texas Health Science Center at Houston\",\"University at Buffalo, the State University of New York\",\"University College Cork\",\"University College Dublin\",\"University of Alabama at Birmingham\",\"University of Bergen\",\"University of Bochum\",\"University of Campinas\",\"University of Central Florida\",\"University of Cincinnati\",\"University of Connecticut\",\"University of Duisburg-Essen\",\"University of Florence\",\"University of Hawaii at Manoa\",\"University of Illinois at Chicago\",\"University of Innsbruck\",\"University of Kentucky\",\"University of Leicester\",\"University of Liege\",\"University of Lille\",\"University of Malaya\",\"University of Maryland, Baltimore\",\"University of Milano-Bicocca\",\"University of Notre Dame\",\"University of Oregon\",\"University of Otago\",\"University of Saskatchewan\",\"University of St Andrews\",\"University of Stuttgart\",\"University of Surrey\",\"University of Tehran\",\"University of the Basque Country\",\"University of the Witwatersrand\",\"University of Toulouse 1\",\"University of Ulm\",\"University of Victoria\",\"Vienna University of Technology\",\"Vrije Universiteit Brussel (VUB)\",\"Washington State University\",\"Western Sydney University\",\"Wuhan University of Technology\",\"Beijing University of Technology\",\"Ben-Gurion University of the Negev\",\"Boston College\",\"Brigham Young University\",\"Chalmers University of Technology\",\"Chang Gung University\",\"China University of Geosciences (Beijing)\",\"China University of Mining and Technology - Xuzhou\",\"China University of Petroleum (Huadong)\",\"CUNY Graduate School and University Center\",\"Federal University of Minas Gerais\",\"Federal University of Rio de Janeiro\",\"Federal University of Rio Grande do Sul\",\"Flinders University\",\"Florida International University\",\"Georgetown University\",\"Guangdong University of Technology\",\"Hannover Medical School\",\"Hiroshima University\",\"Humanitas University\",\"Istanbul University\",\"Jagiellonian University\",\"Jiangnan University\",\"King Fahd University of Petroleum & Minerals\",\"Kobe University\",\"Kyung Hee University\",\"Kyungpook National University\",\"Louisiana State University - Baton Rouge\",\"Masaryk University\",\"Medical University of Innsbruck\",\"Medical University of South Carolina\",\"Murdoch University\",\"Nanjing University of Information Science and Technology\",\"National Tsing Hua University\",\"National University of Malaysia\",\"National Yang Ming Chiao Tung University\",\"Northwest A&F University\",\"Okayama University\",\"Polytechnic University of Valencia\",\"Qingdao University\",\"Rensselaer Polytechnic Institute\",\"Sejong University\",\"Shandong University of Science and Technology\",\"Southern Medical University\",\"Stellenbosch University\",\"Stockholm School of Economics\",\"Taif University\",\"Tampere University\",\"Technical University Darmstadt\",\"Tehran University of Medical Sciences\",\"Temple University\",\"Texas Tech University\",\"The City College of New York\",\"The University of Texas at San Antonio\",\"The University of Texas Health Science Center at San Antonio\",\"The University of Texas Medical Branch at Galveston\",\"UNESP\",\"University of Aveiro\",\"University of Bari\",\"University of Bath\",\"University of Belgrade\",\"University of California, Merced\",\"University of Canterbury\",\"University of Chile\",\"University of Essex\",\"University of Guelph\",\"University of Jena\",\"University of Johannesburg\",\"University of Kent\",\"University of Ljubljana\",\"University of Macau\",\"University of Maine\",\"University of Marburg\",\"University of Minho\",\"University of Natural Resources and Life Sciences, Vienna\",\"University of North Texas\",\"University of Oulu\",\"University of Pavia\",\"University of Perugia\",\"University of Potsdam\",\"University of Pretoria\",\"University of Regensburg\",\"University of Santiago Compostela\",\"University of Seville\",\"University of South Carolina - Columbia\",\"University of Strathclyde\",\"University of Trento\",\"University of Turku\",\"University of Twente\",\"University of Vermont\",\"University of Warsaw\",\"University of York\",\"University of Zagreb\",\"Utah State University\",\"Victoria University of Wellington\",\"Vita-Salute San Raffaele University\",\"West Virginia University\",\"Yangzhou University\",\"York University\",\"Zhejiang University of Technology\",\"Alexandria University\",\"Aristotle University of Thessaloniki\",\"Asia University\",\"Auburn University\",\"Australian Catholic University\",\"Baylor University\",\"Beijing Jiaotong University\",\"Brescia University\",\"Carleton University\",\"China University of Petroleum - Beijing\",\"Chonnam National University\",\"Chulalongkorn University\",\"COMSATS University Islamabad\",\"Concordia University\",\"Duke-NUS Medical School\",\"Georgia State University\",\"Guangxi University\",\"Guangzhou Medical University\",\"Guangzhou University\",\"Harbin Engineering University\",\"Hefei University of Technology\",\"Henan University\",\"Hohai University\",\"Iowa State University\",\"Kansas State University\",\"Leibniz University Hannover\",\"Macau University of Science and Technology\",\"Medical University of Graz\",\"Mississippi State University\",\"Moscow Institute of Physics and Technology\",\"Nanjing Normal University\",\"National University of Ireland, Galway\",\"Northern Arizona University\",\"Northwest University\",\"NOVA University Lisbon\",\"Oklahoma State University\",\"Pontifical Catholic University of Chile\",\"Pusan National University\",\"Qatar University\",\"Renmin University of China\",\"Rush University\",\"Saarland University\",\"San Diego State University\",\"Scuola Normale Superiore - Pisa\",\"South China Agricultural University\",\"South China Normal University\",\"Southwest Jiaotong University\",\"Southwest University\",\"Southwestern University of Finance and Economics\",\"St George's, University of London\",\"Swansea University\",\"Tarbiat Modares University\",\"The University of New Mexico - Albuquerque\",\"Tianjin Medical University\",\"Umea University\",\"Universit\\u00e0 Della Svizzera Italiana\",\"University of Alaska - Fairbanks\",\"University of Arkansas at Fayetteville\",\"University of Bremen\",\"University of Burgundy\",\"University of Catania\",\"University\\u00a0of\\u00a0Clermont\\u00a0Auvergne\",\"University of Coimbra\",\"University of C\\u00f4te d'Azur\",\"University of Cyprus\",\"University of Fribourg\",\"University of Genoa\",\"University of Giessen\",\"University of Haifa\",\"University of Konstanz\",\"University of KwaZulu-Natal\",\"University of Modena and Reggio Emilia\",\"University of Navarra\",\"University of Nevada - Reno\",\"University of New Hampshire\",\"University of Oklahoma - Norman\",\"University of Palermo\",\"University of Parma\",\"University of Plymouth\",\"University of Roma - Tor Vergata\",\"University of Rostock\",\"University of Salamanca\",\"University of Science, Malaysia\",\"University of Sherbrooke\",\"University of South Australia\",\"University of Southern Queensland\",\"University of Tartu\",\"University of Tromso\",\"University of Ulsan\",\"University of Verona\",\"University of Vigo\",\"University of Wyoming\",\"University of Zaragoza\",\"Wake Forest University\",\"Wayne State University\",\"Wenzhou Medical University\",\"Xidian University\",\"Yeungnam University\",\"Yunnan University\",\"Zhejiang Normal University\",\"AGH University of Science and Technology\",\"Amirkabir University of Technology\",\"Anhui Medical University\",\"Anhui University\",\"Bangor University\",\"Beijing University of Posts and Telecommunications\",\"Binghamton University\",\"Brunel University\",\"Central China Normal University\",\"Chang'an University\",\"Chiba University\",\"China Medical University (Shenyang)\",\"Clemson University\",\"Copenhagen Business School\",\"Edith Cowan University\",\"Eotvos Lorand University\",\"Ewha Womans University\",\"Federal University of Parana\",\"Federal University of Sao Carlos\",\"Federal University of Sao Paulo\",\"Federal University of Vi\\u00e7osa\",\"Guizhou University\",\"Hacettepe University\",\"Hangzhou Dianzi University\",\"Hasselt University\",\"Hong Kong Baptist University\",\"HSE University\",\"Hunan Normal University\",\"INHA University\",\"Juntendo University\",\"Kent State University\",\"King Khalid University\",\"Kitasato University\",\"Kunming University of Science and Technology\",\"Liverpool John Moores University\",\"Mahidol University\",\"Mansoura University\",\"Marche Polytechnic University\",\"Massey University\",\"Nanjing Forestry University\",\"Nanjing University of Posts and Telecommunications\",\"National Polytechnic Institute\",\"National Sun Yat-Sen University\",\"National University of Defense Technology\",\"Naval Medical University\",\"Ningbo University\",\"Northumbria University\",\"North-West University\",\"Nottingham Trent University\",\"Orebro University\",\"Polytechnic University of Madrid\",\"Polytechnic University of Turin\",\"Royal Holloway, University of London\",\"Saint Louis University\",\"Sechenov University\",\"Semmelweis University\",\"Shaanxi Normal University\",\"Shandong Normal University\",\"Shanxi University\",\"Sharif University of Technology\",\"State University of New York Health Science Center at Brooklyn\",\"Taipei Medical University\",\"The Chinese University of Hong Kong, Shenzhen\",\"The Open University\",\"The University of Alabama - Tuscaloosa\",\"The University of Texas at Arlington\",\"Tilburg University\",\"Tokyo Medical and Dental University\",\"Tokyo University of Science\",\"Ton Duc Thang University\",\"Tulane University\",\"Universidad Pablo de Olavide\",\"Universitat Jaume I\",\"University at Albany (State University of New York)\",\"University of Alicante\",\"University of Crete\",\"University of Delhi\",\"University of Eastern Finland\",\"University of Extremadura\",\"University of Ferrara\",\"University of Graz\",\"University of Greenwich\",\"University of Halle-Wittenberg\",\"University of Health Sciences Turkey\",\"University of Iceland\",\"University of Idaho\",\"University of Maryland, Baltimore County\",\"University of Nantes\",\"University of Oldenburg\",\"University of Rennes 1\",\"University of Salerno\",\"University of Siena\",\"University of the Sunshine Coast\",\"University of Trieste\",\"University of Versailles Saint-Quentin-en-Yvelines\",\"University Rovira i Virgili\",\"Vellore Institute of Technology\",\"Waseda University\",\"Westlake University\",\"Xi'an University of Technology\",\"Addis Ababa University\",\"Ain Shams University\",\"American University of Beirut\",\"Army Medical University\",\"AUT University\",\"Bielefeld University\",\"Catholic University of Korea\",\"Changsha University of Science and Technology\",\"Chiang Mai University\",\"China University of Mining and Technology - Beijing\",\"Chongqing Medical University\",\"Chung-Ang University\",\"Chungnam National University\",\"Colorado School of Mines\",\"Comenius University in Bratislava\",\"Dalian Maritime University\",\"Donghua University\",\"Federal University of Santa Catarina\",\"Fluminense Federal University\",\"Fujian Agriculture and Forestry University\",\"Fujian Medical University\",\"Fujian Normal University\",\"Harbin Medical University\",\"Indian Institute of Technology Delhi\",\"Indian Institute of Technology Madras\",\"Indian Institute of Technology Roorkee\",\"INSA Toulouse\",\"Jawaharlal Nehru University\",\"Jeonbuk National University\",\"Kanazawa University\",\"Kaohsiung Medical University\",\"Keele University\",\"Kindai University\",\"Konkuk University\",\"Lincoln University\",\"Liverpool School of Tropical Medicine\",\"Loughborough University\",\"Medical College of Wisconsin\",\"Memorial University of Newfoundland\",\"New Jersey Institute of Technology\",\"North China Electric Power University\",\"Northeast Agricultural University - China\",\"Novosibirsk State University\",\"Ohio University\",\"Old Dominion University\",\"Palack\\u00fd University Olomouc\",\"Polytechnic University of Catalonia\",\"Qufu Normal University\",\"School for Advanced Studies in the Social Sciences\",\"Shahid Beheshti University of Medical Sciences\",\"Shandong Agricultural University\",\"Shanghai University of Finance and Economics\",\"Shinshu University\",\"Skolkovo Institute of Science and Technology\",\"Southern Methodist University\",\"Swarthmore College\",\"Syracuse University\",\"Taiyuan University of Technology\",\"Technical University of Braunschweig\",\"The University of Waikato\",\"Thomas Jefferson University\",\"Tomsk State University\",\"Universitat de Lleida\",\"Universiti Teknologi Malaysia\",\"University of Agriculture Faisalabad\",\"University of Arkansas for Medical Sciences\",\"University of Bayreuth\",\"University of Bras\\u00edlia\",\"University\\u00a0of\\u00a0Campania\\u00a0Luigi\\u00a0Vanvitelli\",\"University of Castilla\\u2013La Mancha\",\"University of Engineering and Technology (UET)\",\"University of Hull\",\"University of Jaen\",\"University of Jordan\",\"University of Jyvaskyla\",\"University of La Laguna\",\"University of Limerick\",\"University of Louisville\",\"University of Luebeck\",\"University of Luxembourg\",\"University of Malaga\",\"University of Murcia\",\"University of Nebraska Medical Center\",\"University of Nevada-Las Vegas\",\"University of Oviedo\",\"University of Quebec Montreal\",\"University of Salzburg\",\"University of Shanghai for Science and Technology\",\"University of Szeged\",\"University of Tennessee Health Science Center\",\"University of Texas at El Paso\",\"University of the Balearic Islands\",\"University of the Punjab\",\"University of Toledo\",\"University of Udine\",\"University of Wisconsin-Milwaukee\",\"University Putra Malaysia\",\"Ural Federal University\",\"Vilnius University\",\"Wenzhou University\",\"Air Force Medical University\",\"Ajou University\",\"Al-Azhar University\",\"Anhui University of Technology\",\"Ankara University\",\"Babe\\u0219-Bolyai University\",\"Beijing Forestry University\",\"Bournemouth University\",\"Changzhou University\",\"Charles Darwin University\",\"Cranfield University\",\"Czech Technical University in Prague\",\"Czech University of Life Sciences Prague\",\"Dokuz Eylul University\",\"Dongguk University\",\"Dublin City University\",\"Federal University of Ceara\",\"Federal University of Pernambuco\",\"Federal University of Santa Maria\",\"Fordham University\",\"Free University of Bozen-Bolzano\",\"Gachon University\",\"Gdansk University of Technology\",\"Graz University of Technology\",\"Gwangju Institute of Science and Technology\",\"Gyeongsang National University\",\"Hainan University\",\"Hebei University of Technology\",\"Heriot-Watt University\",\"Indian Institute of Technology Kharagpur\",\"Iran University of Science & Technology\",\"Johannes Kepler University Linz\",\"Kangwon National University\",\"Khalifa University\",\"Lehigh University\",\"Linnaeus University\",\"Manchester Metropolitan University\",\"Mashhad University Medical Science\",\"Michigan Technological University\",\"Miguel Hernandez University of Elche\",\"Monterrey Institute of Technology and Higher Education\",\"Montpellier Business School\",\"Nagasaki University\",\"Nanjing University of Chinese Medicine\",\"Nantong University\",\"National Central University\",\"National Chung Hsing University\",\"National Research Nuclear University MEPhI (Moscow Engineering Physics Institute)\",\"National Taiwan University of Science and Technology\",\"National University of Colombia\",\"National Yunlin University of Science and Technology\",\"Norwegian University of Life Sciences\",\"Okinawa Institute of Science and Technology Graduate University\",\"Osaka City University\",\"Prince of Songkla University\",\"Prince Sattam Bin Abdulaziz University\",\"Royal College of Surgeons - Ireland\",\"Shandong First Medical University\",\"Shantou University\",\"Sichuan Agricultural University\",\"Southern Cross University\",\"Southwest University of Science and Technology\",\"Sultan Qaboos University\",\"The Education University of Hong Kong\",\"The Royal Veterinary College\",\"The University of Tokushima\",\"Uniformed Services University of the Health Sciences - USA\",\"Universidade Federal de Pelotas\",\"University Paris Est Creteil\",\"University of Alcal\\u00e1\",\"University of Cagliari\",\"University of Calabria\",\"University of Canberra\",\"University of Chieti-Pescara\",\"University of Cordoba\",\"University of Girona\",\"University of Ibadan\",\"University of Jinan\",\"University of Kassel\",\"University of Lahore\",\"University of L'Aquila\",\"University of Magdeburg\",\"University of Messina\",\"University of Mississippi\",\"University of Missouri-Kansas City\",\"University of Mons\",\"University of New England\",\"University of North Carolina at Greensboro\",\"University of Oklahoma - Oklahoma City\",\"University of Portsmouth\",\"University of Savoy\",\"University of Stirling\",\"University of Thessaly\",\"University of Veterinary Medicine Vienna\",\"Warsaw University of Life Sciences\",\"Wroclaw Medical University\",\"Yanshan University\",\"Yokohama City University\",\"Zagazig University\",\"Zhejiang Sci-Tech University\",\"Adam Mickiewicz University\",\"Aligarh Muslim University\",\"Amherst College\",\"Amity University\",\"Bocconi University\",\"Brno University of Technology\",\"Budapest University of Technology and Economics\",\"Carlos III University of Madrid\",\"China Pharmaceutical University\",\"China West Normal University\",\"Chungbuk National University\",\"Duy Tan University\",\"Ege University\",\"Erciyes University\",\"Federal University of Bahia\",\"Federal University of Goi\\u00e1s\",\"Federal University of Rio Grande do Norte\",\"Ferdowsi University of Mashhad\",\"F\\u0131rat University\",\"Florida Atlantic University\",\"Foshan University\",\"Gazi University\",\"Guangdong University of Foreign Studies\",\"Hallym University\",\"Hebei Medical University\",\"Homi Bhabha National Institute\",\"Huaqiao University\",\"Hunan Agricultural University\",\"Hunan University of Technology\",\"Illinois Institute of Technology\",\"International School for Advanced Studies\",\"Iran University of Medical Sciences\",\"Istanbul Technical University\",\"Kafrelsheikh University\",\"King Juan Carlos University\",\"Kumamoto University\",\"Liaocheng University\",\"Loyola University Chicago\",\"Manipal University\",\"Medical University of Warsaw\",\"Metropolitan Autonomous University\",\"Middle East Technical University\",\"Missouri University of Science and Technology\",\"Nara Institute of Science and Technology\",\"National University of La Plata\",\"National University of Sciences and Technology Pakistan\",\"NHH - Norwegian School of Economics\",\"Nicolaus Copernicus University\",\"Northeast Normal University\",\"Ontario Tech University\",\"Portland State University\",\"Qilu University of Technology\",\"Qingdao University of Science and Technology\",\"Quaid-i-Azam University\",\"Ryerson University\",\"Saitama University\",\"Shanghai Normal University\",\"South Dakota State University\",\"Southwest Petroleum University\",\"SRM INSTITUTE OF SCIENCE AND TECHNOLOGY\",\"SUNY College of Environmental Science and Forestry\",\"SUNY Upstate Medical University\",\"Technical University of Dortmund\",\"Technical University of Ostrava\",\"The Graduate University for Advanced Studies\",\"Tianjin University of Technology\",\"Tokyo University of Agriculture and Technology\",\"Tuscia University\",\"Universidad Andr\\u00e9s Bello\",\"Universidad de Cadiz\",\"Universidad de Las Palmas de Gran Canaria\",\"Universidade Federal de Mato Grosso do Sul\",\"University of Arkansas at Little Rock\",\"University of Calcutta\",\"University of Cantabria\",\"University of Concepcion\",\"University of Hertfordshire\",\"University of Insubria\",\"University of Klagenfurt\",\"University of Lincoln\",\"University of Los Andes (Colombia)\",\"University of Massachusetts Boston\",\"University of Massachusetts Lowell\",\"University of Montana - Missoula\",\"University of Novi Sad\",\"University of Rhode Island\",\"University of Salento\",\"University of South Africa\",\"University of South Bohemia\",\"University of Tabriz\",\"University of The Free State\",\"University of Tours\",\"University of Ulster\",\"University of Urbino\",\"University of Valladolid\",\"University of Wuppertal\",\"Warsaw University of Technology\",\"Western Norway University of Applied Sciences\",\"Wroclaw University of Science and Technology\",\"Yantai University\"],\"legendgroup\":\"\",\"marker\":{\"color\":\"#636efa\",\"symbol\":\"circle\"},\"mode\":\"markers\",\"name\":\"\",\"orientation\":\"v\",\"showlegend\":false,\"x\":[1,2,3,1,4,5,2,6,7,8,9,10,11,12,13,1,14,3,15,1,16,1,4,1,17,1,18,19,20,21,22,1,23,2,5,3,24,6,1,2,1,2,3,25,2,25,2,7,27,28,29,30,31,4,1,1,32,2,2,3,33,3,5,4,34,2,6,1,2,3,1,35,3,1,5,4,1,4,7,6,8,36,37,2,4,2,3,2,2,4,3,5,1,38,2,8,1,1,39,7,5,40,40,40,40,9,40,40,40,1,2,4,9,40,1,3,9,2,4,40,40,1,9,5,2,40,40,8,9,9,5,3,4,40,5,9,40,9,5,4,5,9,6,9,1,5,40,9,9,9,55,14,17,3,7,55,6,14,14,17,5,55,14,4,14,14,14,14,14,3,4,55,3,7,14,4,4,14,1,55,1,55,6,14,6,17,55,2,8,2,2,55,17,17,6,1,7,7,7,14,2,27,27,4,27,1,27,9,63,2,9,27,9,27,63,63,9,2,7,27,27,10,3,2,2,6,9,10,9,2,27,27,1,1,22,63,63,63,63,9,5,22,9,9,10,27,27,2,9,63,1,10,2,22,4,5,9,1,63,1,63,63,22,10,2,10,63,63,63,10,10,1,9,10,9,63,63,63,10,5,63,9,1,27,63,4,9,9,63,7,5,2,63,9,10,63,63,9,2,27,5,2,86,6,5,41,86,1,41,9,1,41,41,13,86,86,26,41,13,11,41,20,41,1,86,13,19,41,9,9,26,41,13,7,41,41,41,41,41,1,3,41,41,8,6,26,19,2,41,13,86,7,20,5,26,86,19,26,86,86,86,2,2,86,3,20,2,86,86,86,20,9,86,86,3,86,26,6,13,1,86,9,86,86,2,13,26,20,26,1,6,2,13,20,13,3,6,86,19,41,59,6,107,107,9,4,59,59,59,107,3,3,3,23,107,107,59,26,11,12,1,1,59,4,11,9,9,107,2,5,107,23,59,4,2,4,59,11,9,59,107,9,59,59,3,9,4,3,26,2,107,107,107,107,107,107,3,3,12,34,1,107,3,1,34,18,26,3,34,1,1,107,26,3,5,107,3,12,12,26,3,26,9,9,107,34,12,3,12,107,1,34,1,107,3,12,107,59,18,59,2,2,7,128,25,128,72,18,20,72,12,1,1,20,3,128,72,72,72,72,72,72,72,128,128,32,2,7,128,3,72,4,128,72,5,128,2,12,1,72,128,32,128,18,72,72,72,72,72,39,39,3,128,72,11,8,128,128,32,17,18,17,5,17,1,8,18,32,7,32,6,18,12,128,128,128,18,18,39,18,32,12,3,20,25,25,1,4,12,18,12,128,12,128,128,72,72,12,72,72,3,4,94,94,42,94,147,42,94,94,14,94,147,6,28,1,16,7,7,7,7,94,2,94,8,6,4,94,16,14,147,6,14,94,42,2,3,27,5,94,94,2,8,94,94,94,42,7,42,12,16,27,42,147,4,1,94,94,94,4,147,8,94,42,147,147,13,14,14,1,147,16,16,147,16,3,2,6,16,27,8,42,38,2,1,147,147,20,38,20,27,27,28,27,20,16,2,14,94,94,1,4,1,115,6,40,18,115,3,115,115,18,18,158,1,115,115,11,11,115,115,115,115,4,4,4,23,4,18,20,10,50,20,18,6,50,50,158,23,158,115,115,6,158,158,3,22,115,23,6,115,115,20,6,158,158,158,115,40,6,158,6,22,4,2,158,40,11,33,22,2,50,22,1,7,22,5,158,40,1,22,22,158,158,22,23,9,115,3,158,158,22,2,158,33,158,4,6,1,115,133,23,5,133,4,1,133,54,133,30,54,4,4,4,23,6,14,14,14,175,35,23,4,10,23,23,133,133,54,8,7,10,23,1,175,13,54,7,175,31,3,25,23,133,133,11,11,10,11,1,11,5,23,23,4,7,6,133,133,133,30,133,1,7,54,23,175,14,25,31,35,35,30,35,31,31,1,133,44,5,35,44,35,175,175,9,30,175,175,54,25,54,4,10,4,4,133,23,5,133,7,9,183,9,41,6,4,35,148,148,29,2,6,6,18,18,18,9,6,183,148,6,148,29,148,9,148,148,148,183,41,9,6,7,35,28,148,183,9,7,4,6,183,28,2,6,6,7,148,25,183,148,148,6,25,28,148,183,148,9,183,183,46,6,28,148,28,41,3,35,35,18,183,9,35,3,61,41,13,61,2,183,183,183,2,183,41,8,6,9,8,28,61,41,35,46,7,6,7,148],\"xaxis\":\"x\",\"y\":[1,2,3,4,5,6,7,8,9,10,11,12,13,14,15,16,17,18,19,20,21,22,23,24,25,26,27,28,29,30,31,32,33,34,35,36,37,38,39,40,41,41,43,44,44,44,47,48,49,50,51,52,53,54,54,56,57,57,59,60,61,62,62,64,64,66,67,67,69,70,71,71,73,74,75,76,77,78,79,79,81,82,83,83,83,83,87,88,89,90,90,92,92,94,95,96,96,98,99,99,100,101,102,103,104,105,106,107,108,109,110,111,112,113,114,115,116,117,118,119,120,121,122,123,124,125,126,127,128,129,130,131,132,133,134,135,136,137,138,139,140,141,142,143,144,145,146,147,148,149,150,151,152,153,154,155,156,157,158,159,160,161,162,163,164,165,166,167,168,169,170,171,172,173,174,175,176,177,178,179,180,181,182,183,184,185,186,187,188,189,190,191,192,193,194,195,196,197,198,199,200,201,202,203,204,205,206,207,208,209,210,211,212,213,214,215,216,217,218,219,220,221,222,223,224,225,226,227,228,229,230,231,232,233,234,235,236,237,238,239,240,241,242,243,244,245,246,247,248,249,250,251,252,253,254,255,256,257,258,259,260,261,262,263,264,265,266,267,268,269,270,271,272,273,274,275,276,277,278,279,280,281,282,283,284,285,286,287,288,289,290,291,292,293,294,295,296,297,298,299,300,301,302,303,304,305,306,307,308,309,310,311,312,313,314,315,316,317,318,319,320,321,322,323,324,325,326,327,328,329,330,331,332,333,334,335,336,337,338,339,340,341,342,343,344,345,346,347,348,349,350,351,352,353,354,355,356,357,358,359,360,361,362,363,364,365,366,367,368,369,370,371,372,373,374,375,376,377,378,379,380,381,382,383,384,385,386,387,388,389,390,391,392,393,394,395,396,397,398,399,400,401,402,403,404,405,406,407,408,409,410,411,412,413,414,415,416,417,418,419,420,421,422,423,424,425,426,427,428,429,430,431,432,433,434,435,436,437,438,439,440,441,442,443,444,445,446,447,448,449,450,451,452,453,454,455,456,457,458,459,460,461,462,463,464,465,466,467,468,469,470,471,472,473,474,475,476,477,478,479,480,481,482,483,484,485,486,487,488,489,490,491,492,493,494,495,496,497,498,499,500,501,502,503,504,505,506,507,508,509,510,511,512,513,514,515,516,517,518,519,520,521,522,523,524,525,526,527,528,529,530,531,532,533,534,535,536,537,538,539,540,541,542,543,544,545,546,547,548,549,550,551,552,553,554,555,556,557,558,559,560,561,562,563,564,565,566,567,568,569,570,571,572,573,574,575,576,577,578,579,580,581,582,583,584,585,586,587,588,589,590,591,592,593,594,595,596,597,598,599,600,601,602,603,604,605,606,607,608,609,610,611,612,613,614,615,616,617,618,619,620,621,622,623,624,625,626,627,628,629,630,631,632,633,634,635,636,637,638,639,640,641,642,643,644,645,646,647,648,649,650,651,652,653,654,655,656,657,658,659,660,661,662,663,664,665,666,667,668,669,670,671,672,673,674,675,676,677,678,679,680,681,682,683,684,685,686,687,688,689,690,691,692,693,694,695,696,697,698,699,700,701,702,703,704,705,706,707,708,709,710,711,712,713,714,715,716,717,718,719,720,721,722,723,724,725,726,727,728,729,730,731,732,733,734,735,736,737,738,739,740,741,742,743,744,745,746,747,748,749,750,751,752,753,754,755,756,757,758,759,760,761,762,763,764,765,766,767,768,769,770,771,772,773,774,775,776,777,778,779,780,781,782,783,784,785,786,787,788,789,790,791,792,793,794,795,796,797,798,799,800,801,802,803,804,805,806,807,808,809,810,811,812,813,814,815,816,817,818,819,820,821,822,823,824,825,826,827,828,829,830,831,832,833,834,835,836,837,838,839,840,841,842,843,844,845,846,847,848,849,850,851,852,853,854,855,856,857,858,859,860,861,862,863,864,865,866,867,868,869,870,871,872,873,874,875,876,877,878,879,880,881,882,883,884,885,886,887,888,889,890,891,892,893,894,895,896,897,898,899,900,901,902,903,904,905,906,907,908,909,910,911,912,913,914,915,916,917,918,919,920,921,922,923,924,925,926,927,928,929,930,931,932,933,934,935,936,937,938,939,940,941,942,943,944,945,946,947,948,949,950,951,952,953,954,955,956,957,958,959,960,961,962,963,964,965,966,967,968,969,970,971,972,973,974,975,976,977,978,979,980,981,982,983,984,985,986,987,988,989,990,991,992,993,994,995,996,997,998,999],\"yaxis\":\"y\",\"type\":\"scatter\"}],                        {\"template\":{\"data\":{\"histogram2dcontour\":[{\"type\":\"histogram2dcontour\",\"colorbar\":{\"outlinewidth\":0,\"ticks\":\"\"},\"colorscale\":[[0.0,\"#0d0887\"],[0.1111111111111111,\"#46039f\"],[0.2222222222222222,\"#7201a8\"],[0.3333333333333333,\"#9c179e\"],[0.4444444444444444,\"#bd3786\"],[0.5555555555555556,\"#d8576b\"],[0.6666666666666666,\"#ed7953\"],[0.7777777777777778,\"#fb9f3a\"],[0.8888888888888888,\"#fdca26\"],[1.0,\"#f0f921\"]]}],\"choropleth\":[{\"type\":\"choropleth\",\"colorbar\":{\"outlinewidth\":0,\"ticks\":\"\"}}],\"histogram2d\":[{\"type\":\"histogram2d\",\"colorbar\":{\"outlinewidth\":0,\"ticks\":\"\"},\"colorscale\":[[0.0,\"#0d0887\"],[0.1111111111111111,\"#46039f\"],[0.2222222222222222,\"#7201a8\"],[0.3333333333333333,\"#9c179e\"],[0.4444444444444444,\"#bd3786\"],[0.5555555555555556,\"#d8576b\"],[0.6666666666666666,\"#ed7953\"],[0.7777777777777778,\"#fb9f3a\"],[0.8888888888888888,\"#fdca26\"],[1.0,\"#f0f921\"]]}],\"heatmap\":[{\"type\":\"heatmap\",\"colorbar\":{\"outlinewidth\":0,\"ticks\":\"\"},\"colorscale\":[[0.0,\"#0d0887\"],[0.1111111111111111,\"#46039f\"],[0.2222222222222222,\"#7201a8\"],[0.3333333333333333,\"#9c179e\"],[0.4444444444444444,\"#bd3786\"],[0.5555555555555556,\"#d8576b\"],[0.6666666666666666,\"#ed7953\"],[0.7777777777777778,\"#fb9f3a\"],[0.8888888888888888,\"#fdca26\"],[1.0,\"#f0f921\"]]}],\"heatmapgl\":[{\"type\":\"heatmapgl\",\"colorbar\":{\"outlinewidth\":0,\"ticks\":\"\"},\"colorscale\":[[0.0,\"#0d0887\"],[0.1111111111111111,\"#46039f\"],[0.2222222222222222,\"#7201a8\"],[0.3333333333333333,\"#9c179e\"],[0.4444444444444444,\"#bd3786\"],[0.5555555555555556,\"#d8576b\"],[0.6666666666666666,\"#ed7953\"],[0.7777777777777778,\"#fb9f3a\"],[0.8888888888888888,\"#fdca26\"],[1.0,\"#f0f921\"]]}],\"contourcarpet\":[{\"type\":\"contourcarpet\",\"colorbar\":{\"outlinewidth\":0,\"ticks\":\"\"}}],\"contour\":[{\"type\":\"contour\",\"colorbar\":{\"outlinewidth\":0,\"ticks\":\"\"},\"colorscale\":[[0.0,\"#0d0887\"],[0.1111111111111111,\"#46039f\"],[0.2222222222222222,\"#7201a8\"],[0.3333333333333333,\"#9c179e\"],[0.4444444444444444,\"#bd3786\"],[0.5555555555555556,\"#d8576b\"],[0.6666666666666666,\"#ed7953\"],[0.7777777777777778,\"#fb9f3a\"],[0.8888888888888888,\"#fdca26\"],[1.0,\"#f0f921\"]]}],\"surface\":[{\"type\":\"surface\",\"colorbar\":{\"outlinewidth\":0,\"ticks\":\"\"},\"colorscale\":[[0.0,\"#0d0887\"],[0.1111111111111111,\"#46039f\"],[0.2222222222222222,\"#7201a8\"],[0.3333333333333333,\"#9c179e\"],[0.4444444444444444,\"#bd3786\"],[0.5555555555555556,\"#d8576b\"],[0.6666666666666666,\"#ed7953\"],[0.7777777777777778,\"#fb9f3a\"],[0.8888888888888888,\"#fdca26\"],[1.0,\"#f0f921\"]]}],\"mesh3d\":[{\"type\":\"mesh3d\",\"colorbar\":{\"outlinewidth\":0,\"ticks\":\"\"}}],\"scatter\":[{\"fillpattern\":{\"fillmode\":\"overlay\",\"size\":10,\"solidity\":0.2},\"type\":\"scatter\"}],\"parcoords\":[{\"type\":\"parcoords\",\"line\":{\"colorbar\":{\"outlinewidth\":0,\"ticks\":\"\"}}}],\"scatterpolargl\":[{\"type\":\"scatterpolargl\",\"marker\":{\"colorbar\":{\"outlinewidth\":0,\"ticks\":\"\"}}}],\"bar\":[{\"error_x\":{\"color\":\"#2a3f5f\"},\"error_y\":{\"color\":\"#2a3f5f\"},\"marker\":{\"line\":{\"color\":\"#E5ECF6\",\"width\":0.5},\"pattern\":{\"fillmode\":\"overlay\",\"size\":10,\"solidity\":0.2}},\"type\":\"bar\"}],\"scattergeo\":[{\"type\":\"scattergeo\",\"marker\":{\"colorbar\":{\"outlinewidth\":0,\"ticks\":\"\"}}}],\"scatterpolar\":[{\"type\":\"scatterpolar\",\"marker\":{\"colorbar\":{\"outlinewidth\":0,\"ticks\":\"\"}}}],\"histogram\":[{\"marker\":{\"pattern\":{\"fillmode\":\"overlay\",\"size\":10,\"solidity\":0.2}},\"type\":\"histogram\"}],\"scattergl\":[{\"type\":\"scattergl\",\"marker\":{\"colorbar\":{\"outlinewidth\":0,\"ticks\":\"\"}}}],\"scatter3d\":[{\"type\":\"scatter3d\",\"line\":{\"colorbar\":{\"outlinewidth\":0,\"ticks\":\"\"}},\"marker\":{\"colorbar\":{\"outlinewidth\":0,\"ticks\":\"\"}}}],\"scattermapbox\":[{\"type\":\"scattermapbox\",\"marker\":{\"colorbar\":{\"outlinewidth\":0,\"ticks\":\"\"}}}],\"scatterternary\":[{\"type\":\"scatterternary\",\"marker\":{\"colorbar\":{\"outlinewidth\":0,\"ticks\":\"\"}}}],\"scattercarpet\":[{\"type\":\"scattercarpet\",\"marker\":{\"colorbar\":{\"outlinewidth\":0,\"ticks\":\"\"}}}],\"carpet\":[{\"aaxis\":{\"endlinecolor\":\"#2a3f5f\",\"gridcolor\":\"white\",\"linecolor\":\"white\",\"minorgridcolor\":\"white\",\"startlinecolor\":\"#2a3f5f\"},\"baxis\":{\"endlinecolor\":\"#2a3f5f\",\"gridcolor\":\"white\",\"linecolor\":\"white\",\"minorgridcolor\":\"white\",\"startlinecolor\":\"#2a3f5f\"},\"type\":\"carpet\"}],\"table\":[{\"cells\":{\"fill\":{\"color\":\"#EBF0F8\"},\"line\":{\"color\":\"white\"}},\"header\":{\"fill\":{\"color\":\"#C8D4E3\"},\"line\":{\"color\":\"white\"}},\"type\":\"table\"}],\"barpolar\":[{\"marker\":{\"line\":{\"color\":\"#E5ECF6\",\"width\":0.5},\"pattern\":{\"fillmode\":\"overlay\",\"size\":10,\"solidity\":0.2}},\"type\":\"barpolar\"}],\"pie\":[{\"automargin\":true,\"type\":\"pie\"}]},\"layout\":{\"autotypenumbers\":\"strict\",\"colorway\":[\"#636efa\",\"#EF553B\",\"#00cc96\",\"#ab63fa\",\"#FFA15A\",\"#19d3f3\",\"#FF6692\",\"#B6E880\",\"#FF97FF\",\"#FECB52\"],\"font\":{\"color\":\"#2a3f5f\"},\"hovermode\":\"closest\",\"hoverlabel\":{\"align\":\"left\"},\"paper_bgcolor\":\"white\",\"plot_bgcolor\":\"#E5ECF6\",\"polar\":{\"bgcolor\":\"#E5ECF6\",\"angularaxis\":{\"gridcolor\":\"white\",\"linecolor\":\"white\",\"ticks\":\"\"},\"radialaxis\":{\"gridcolor\":\"white\",\"linecolor\":\"white\",\"ticks\":\"\"}},\"ternary\":{\"bgcolor\":\"#E5ECF6\",\"aaxis\":{\"gridcolor\":\"white\",\"linecolor\":\"white\",\"ticks\":\"\"},\"baxis\":{\"gridcolor\":\"white\",\"linecolor\":\"white\",\"ticks\":\"\"},\"caxis\":{\"gridcolor\":\"white\",\"linecolor\":\"white\",\"ticks\":\"\"}},\"coloraxis\":{\"colorbar\":{\"outlinewidth\":0,\"ticks\":\"\"}},\"colorscale\":{\"sequential\":[[0.0,\"#0d0887\"],[0.1111111111111111,\"#46039f\"],[0.2222222222222222,\"#7201a8\"],[0.3333333333333333,\"#9c179e\"],[0.4444444444444444,\"#bd3786\"],[0.5555555555555556,\"#d8576b\"],[0.6666666666666666,\"#ed7953\"],[0.7777777777777778,\"#fb9f3a\"],[0.8888888888888888,\"#fdca26\"],[1.0,\"#f0f921\"]],\"sequentialminus\":[[0.0,\"#0d0887\"],[0.1111111111111111,\"#46039f\"],[0.2222222222222222,\"#7201a8\"],[0.3333333333333333,\"#9c179e\"],[0.4444444444444444,\"#bd3786\"],[0.5555555555555556,\"#d8576b\"],[0.6666666666666666,\"#ed7953\"],[0.7777777777777778,\"#fb9f3a\"],[0.8888888888888888,\"#fdca26\"],[1.0,\"#f0f921\"]],\"diverging\":[[0,\"#8e0152\"],[0.1,\"#c51b7d\"],[0.2,\"#de77ae\"],[0.3,\"#f1b6da\"],[0.4,\"#fde0ef\"],[0.5,\"#f7f7f7\"],[0.6,\"#e6f5d0\"],[0.7,\"#b8e186\"],[0.8,\"#7fbc41\"],[0.9,\"#4d9221\"],[1,\"#276419\"]]},\"xaxis\":{\"gridcolor\":\"white\",\"linecolor\":\"white\",\"ticks\":\"\",\"title\":{\"standoff\":15},\"zerolinecolor\":\"white\",\"automargin\":true,\"zerolinewidth\":2},\"yaxis\":{\"gridcolor\":\"white\",\"linecolor\":\"white\",\"ticks\":\"\",\"title\":{\"standoff\":15},\"zerolinecolor\":\"white\",\"automargin\":true,\"zerolinewidth\":2},\"scene\":{\"xaxis\":{\"backgroundcolor\":\"#E5ECF6\",\"gridcolor\":\"white\",\"linecolor\":\"white\",\"showbackground\":true,\"ticks\":\"\",\"zerolinecolor\":\"white\",\"gridwidth\":2},\"yaxis\":{\"backgroundcolor\":\"#E5ECF6\",\"gridcolor\":\"white\",\"linecolor\":\"white\",\"showbackground\":true,\"ticks\":\"\",\"zerolinecolor\":\"white\",\"gridwidth\":2},\"zaxis\":{\"backgroundcolor\":\"#E5ECF6\",\"gridcolor\":\"white\",\"linecolor\":\"white\",\"showbackground\":true,\"ticks\":\"\",\"zerolinecolor\":\"white\",\"gridwidth\":2}},\"shapedefaults\":{\"line\":{\"color\":\"#2a3f5f\"}},\"annotationdefaults\":{\"arrowcolor\":\"#2a3f5f\",\"arrowhead\":0,\"arrowwidth\":1},\"geo\":{\"bgcolor\":\"white\",\"landcolor\":\"#E5ECF6\",\"subunitcolor\":\"white\",\"showland\":true,\"showlakes\":true,\"lakecolor\":\"white\"},\"title\":{\"x\":0.05},\"mapbox\":{\"style\":\"light\"}}},\"xaxis\":{\"anchor\":\"y\",\"domain\":[0.0,1.0],\"title\":{\"text\":\"National\\u002fRegional Rank\"}},\"yaxis\":{\"anchor\":\"x\",\"domain\":[0.0,1.0],\"title\":{\"text\":\"World Rank\"}},\"legend\":{\"tracegroupgap\":0},\"title\":{\"text\":\"Scatter Plot of National vs. World Rank (Correlation: 0.34)\"}},                        {\"responsive\": true}                    ).then(function(){\n",
       "                            \n",
       "var gd = document.getElementById('bbdd728c-871b-4ab0-95ae-9ec522ff28a2');\n",
       "var x = new MutationObserver(function (mutations, observer) {{\n",
       "        var display = window.getComputedStyle(gd).display;\n",
       "        if (!display || display === 'none') {{\n",
       "            console.log([gd, 'removed!']);\n",
       "            Plotly.purge(gd);\n",
       "            observer.disconnect();\n",
       "        }}\n",
       "}});\n",
       "\n",
       "// Listen for the removal of the full notebook cells\n",
       "var notebookContainer = gd.closest('#notebook-container');\n",
       "if (notebookContainer) {{\n",
       "    x.observe(notebookContainer, {childList: true});\n",
       "}}\n",
       "\n",
       "// Listen for the clearing of the current output cell\n",
       "var outputEl = gd.closest('.output');\n",
       "if (outputEl) {{\n",
       "    x.observe(outputEl, {childList: true});\n",
       "}}\n",
       "\n",
       "                        })                };                });            </script>        </div>"
      ]
     },
     "metadata": {},
     "output_type": "display_data"
    }
   ],
   "source": [
    "# Assuming arwu_df is already defined\n",
    "# Calculate correlation\n",
    "correlation = arwu_df['National/Regional Rank'].corr(arwu_df['World Rank'])\n",
    "\n",
    "# Create scatter plot\n",
    "fig = px.scatter(arwu_df, x='National/Regional Rank', y='World Rank', \n",
    "                 title=f'Scatter Plot of National vs. World Rank (Correlation: {correlation:.2f})', \n",
    "                 hover_name='University Name')\n",
    "\n",
    "fig.show()\n"
   ]
  },
  {
   "cell_type": "code",
   "execution_count": 373,
   "id": "9ab4cf04-e56e-4223-a450-9fd4370bbdd7",
   "metadata": {},
   "outputs": [
    {
     "data": {
      "application/vnd.plotly.v1+json": {
       "config": {
        "plotlyServerURL": "https://plot.ly"
       },
       "data": [
        {
         "alignmentgroup": "True",
         "hovertemplate": "Location=%{x}<br>Number of Top Universities=%{y}<extra></extra>",
         "legendgroup": "",
         "marker": {
          "color": "#636efa",
          "pattern": {
           "shape": ""
          }
         },
         "name": "",
         "offsetgroup": "",
         "orientation": "v",
         "showlegend": false,
         "textposition": "auto",
         "type": "bar",
         "x": [
          "USA",
          "China",
          "United Kingdom",
          "Canada",
          "Switzerland",
          "Australia",
          "Germany",
          "Netherlands",
          "Sweden",
          "France",
          "Denmark",
          "Singapore",
          "Belgium",
          "Japan",
          "Norway",
          "Israel",
          "Finland",
          "South Korea"
         ],
         "xaxis": "x",
         "y": [
          29,
          8,
          6,
          5,
          4,
          3,
          3,
          3,
          3,
          3,
          2,
          2,
          2,
          1,
          1,
          1,
          1,
          1
         ],
         "yaxis": "y"
        }
       ],
       "layout": {
        "autosize": true,
        "barmode": "relative",
        "legend": {
         "tracegroupgap": 0
        },
        "template": {
         "data": {
          "bar": [
           {
            "error_x": {
             "color": "#2a3f5f"
            },
            "error_y": {
             "color": "#2a3f5f"
            },
            "marker": {
             "line": {
              "color": "#E5ECF6",
              "width": 0.5
             },
             "pattern": {
              "fillmode": "overlay",
              "size": 10,
              "solidity": 0.2
             }
            },
            "type": "bar"
           }
          ],
          "barpolar": [
           {
            "marker": {
             "line": {
              "color": "#E5ECF6",
              "width": 0.5
             },
             "pattern": {
              "fillmode": "overlay",
              "size": 10,
              "solidity": 0.2
             }
            },
            "type": "barpolar"
           }
          ],
          "carpet": [
           {
            "aaxis": {
             "endlinecolor": "#2a3f5f",
             "gridcolor": "white",
             "linecolor": "white",
             "minorgridcolor": "white",
             "startlinecolor": "#2a3f5f"
            },
            "baxis": {
             "endlinecolor": "#2a3f5f",
             "gridcolor": "white",
             "linecolor": "white",
             "minorgridcolor": "white",
             "startlinecolor": "#2a3f5f"
            },
            "type": "carpet"
           }
          ],
          "choropleth": [
           {
            "colorbar": {
             "outlinewidth": 0,
             "ticks": ""
            },
            "type": "choropleth"
           }
          ],
          "contour": [
           {
            "colorbar": {
             "outlinewidth": 0,
             "ticks": ""
            },
            "colorscale": [
             [
              0,
              "#0d0887"
             ],
             [
              0.1111111111111111,
              "#46039f"
             ],
             [
              0.2222222222222222,
              "#7201a8"
             ],
             [
              0.3333333333333333,
              "#9c179e"
             ],
             [
              0.4444444444444444,
              "#bd3786"
             ],
             [
              0.5555555555555556,
              "#d8576b"
             ],
             [
              0.6666666666666666,
              "#ed7953"
             ],
             [
              0.7777777777777778,
              "#fb9f3a"
             ],
             [
              0.8888888888888888,
              "#fdca26"
             ],
             [
              1,
              "#f0f921"
             ]
            ],
            "type": "contour"
           }
          ],
          "contourcarpet": [
           {
            "colorbar": {
             "outlinewidth": 0,
             "ticks": ""
            },
            "type": "contourcarpet"
           }
          ],
          "heatmap": [
           {
            "colorbar": {
             "outlinewidth": 0,
             "ticks": ""
            },
            "colorscale": [
             [
              0,
              "#0d0887"
             ],
             [
              0.1111111111111111,
              "#46039f"
             ],
             [
              0.2222222222222222,
              "#7201a8"
             ],
             [
              0.3333333333333333,
              "#9c179e"
             ],
             [
              0.4444444444444444,
              "#bd3786"
             ],
             [
              0.5555555555555556,
              "#d8576b"
             ],
             [
              0.6666666666666666,
              "#ed7953"
             ],
             [
              0.7777777777777778,
              "#fb9f3a"
             ],
             [
              0.8888888888888888,
              "#fdca26"
             ],
             [
              1,
              "#f0f921"
             ]
            ],
            "type": "heatmap"
           }
          ],
          "heatmapgl": [
           {
            "colorbar": {
             "outlinewidth": 0,
             "ticks": ""
            },
            "colorscale": [
             [
              0,
              "#0d0887"
             ],
             [
              0.1111111111111111,
              "#46039f"
             ],
             [
              0.2222222222222222,
              "#7201a8"
             ],
             [
              0.3333333333333333,
              "#9c179e"
             ],
             [
              0.4444444444444444,
              "#bd3786"
             ],
             [
              0.5555555555555556,
              "#d8576b"
             ],
             [
              0.6666666666666666,
              "#ed7953"
             ],
             [
              0.7777777777777778,
              "#fb9f3a"
             ],
             [
              0.8888888888888888,
              "#fdca26"
             ],
             [
              1,
              "#f0f921"
             ]
            ],
            "type": "heatmapgl"
           }
          ],
          "histogram": [
           {
            "marker": {
             "pattern": {
              "fillmode": "overlay",
              "size": 10,
              "solidity": 0.2
             }
            },
            "type": "histogram"
           }
          ],
          "histogram2d": [
           {
            "colorbar": {
             "outlinewidth": 0,
             "ticks": ""
            },
            "colorscale": [
             [
              0,
              "#0d0887"
             ],
             [
              0.1111111111111111,
              "#46039f"
             ],
             [
              0.2222222222222222,
              "#7201a8"
             ],
             [
              0.3333333333333333,
              "#9c179e"
             ],
             [
              0.4444444444444444,
              "#bd3786"
             ],
             [
              0.5555555555555556,
              "#d8576b"
             ],
             [
              0.6666666666666666,
              "#ed7953"
             ],
             [
              0.7777777777777778,
              "#fb9f3a"
             ],
             [
              0.8888888888888888,
              "#fdca26"
             ],
             [
              1,
              "#f0f921"
             ]
            ],
            "type": "histogram2d"
           }
          ],
          "histogram2dcontour": [
           {
            "colorbar": {
             "outlinewidth": 0,
             "ticks": ""
            },
            "colorscale": [
             [
              0,
              "#0d0887"
             ],
             [
              0.1111111111111111,
              "#46039f"
             ],
             [
              0.2222222222222222,
              "#7201a8"
             ],
             [
              0.3333333333333333,
              "#9c179e"
             ],
             [
              0.4444444444444444,
              "#bd3786"
             ],
             [
              0.5555555555555556,
              "#d8576b"
             ],
             [
              0.6666666666666666,
              "#ed7953"
             ],
             [
              0.7777777777777778,
              "#fb9f3a"
             ],
             [
              0.8888888888888888,
              "#fdca26"
             ],
             [
              1,
              "#f0f921"
             ]
            ],
            "type": "histogram2dcontour"
           }
          ],
          "mesh3d": [
           {
            "colorbar": {
             "outlinewidth": 0,
             "ticks": ""
            },
            "type": "mesh3d"
           }
          ],
          "parcoords": [
           {
            "line": {
             "colorbar": {
              "outlinewidth": 0,
              "ticks": ""
             }
            },
            "type": "parcoords"
           }
          ],
          "pie": [
           {
            "automargin": true,
            "type": "pie"
           }
          ],
          "scatter": [
           {
            "fillpattern": {
             "fillmode": "overlay",
             "size": 10,
             "solidity": 0.2
            },
            "type": "scatter"
           }
          ],
          "scatter3d": [
           {
            "line": {
             "colorbar": {
              "outlinewidth": 0,
              "ticks": ""
             }
            },
            "marker": {
             "colorbar": {
              "outlinewidth": 0,
              "ticks": ""
             }
            },
            "type": "scatter3d"
           }
          ],
          "scattercarpet": [
           {
            "marker": {
             "colorbar": {
              "outlinewidth": 0,
              "ticks": ""
             }
            },
            "type": "scattercarpet"
           }
          ],
          "scattergeo": [
           {
            "marker": {
             "colorbar": {
              "outlinewidth": 0,
              "ticks": ""
             }
            },
            "type": "scattergeo"
           }
          ],
          "scattergl": [
           {
            "marker": {
             "colorbar": {
              "outlinewidth": 0,
              "ticks": ""
             }
            },
            "type": "scattergl"
           }
          ],
          "scattermapbox": [
           {
            "marker": {
             "colorbar": {
              "outlinewidth": 0,
              "ticks": ""
             }
            },
            "type": "scattermapbox"
           }
          ],
          "scatterpolar": [
           {
            "marker": {
             "colorbar": {
              "outlinewidth": 0,
              "ticks": ""
             }
            },
            "type": "scatterpolar"
           }
          ],
          "scatterpolargl": [
           {
            "marker": {
             "colorbar": {
              "outlinewidth": 0,
              "ticks": ""
             }
            },
            "type": "scatterpolargl"
           }
          ],
          "scatterternary": [
           {
            "marker": {
             "colorbar": {
              "outlinewidth": 0,
              "ticks": ""
             }
            },
            "type": "scatterternary"
           }
          ],
          "surface": [
           {
            "colorbar": {
             "outlinewidth": 0,
             "ticks": ""
            },
            "colorscale": [
             [
              0,
              "#0d0887"
             ],
             [
              0.1111111111111111,
              "#46039f"
             ],
             [
              0.2222222222222222,
              "#7201a8"
             ],
             [
              0.3333333333333333,
              "#9c179e"
             ],
             [
              0.4444444444444444,
              "#bd3786"
             ],
             [
              0.5555555555555556,
              "#d8576b"
             ],
             [
              0.6666666666666666,
              "#ed7953"
             ],
             [
              0.7777777777777778,
              "#fb9f3a"
             ],
             [
              0.8888888888888888,
              "#fdca26"
             ],
             [
              1,
              "#f0f921"
             ]
            ],
            "type": "surface"
           }
          ],
          "table": [
           {
            "cells": {
             "fill": {
              "color": "#EBF0F8"
             },
             "line": {
              "color": "white"
             }
            },
            "header": {
             "fill": {
              "color": "#C8D4E3"
             },
             "line": {
              "color": "white"
             }
            },
            "type": "table"
           }
          ]
         },
         "layout": {
          "annotationdefaults": {
           "arrowcolor": "#2a3f5f",
           "arrowhead": 0,
           "arrowwidth": 1
          },
          "autotypenumbers": "strict",
          "coloraxis": {
           "colorbar": {
            "outlinewidth": 0,
            "ticks": ""
           }
          },
          "colorscale": {
           "diverging": [
            [
             0,
             "#8e0152"
            ],
            [
             0.1,
             "#c51b7d"
            ],
            [
             0.2,
             "#de77ae"
            ],
            [
             0.3,
             "#f1b6da"
            ],
            [
             0.4,
             "#fde0ef"
            ],
            [
             0.5,
             "#f7f7f7"
            ],
            [
             0.6,
             "#e6f5d0"
            ],
            [
             0.7,
             "#b8e186"
            ],
            [
             0.8,
             "#7fbc41"
            ],
            [
             0.9,
             "#4d9221"
            ],
            [
             1,
             "#276419"
            ]
           ],
           "sequential": [
            [
             0,
             "#0d0887"
            ],
            [
             0.1111111111111111,
             "#46039f"
            ],
            [
             0.2222222222222222,
             "#7201a8"
            ],
            [
             0.3333333333333333,
             "#9c179e"
            ],
            [
             0.4444444444444444,
             "#bd3786"
            ],
            [
             0.5555555555555556,
             "#d8576b"
            ],
            [
             0.6666666666666666,
             "#ed7953"
            ],
            [
             0.7777777777777778,
             "#fb9f3a"
            ],
            [
             0.8888888888888888,
             "#fdca26"
            ],
            [
             1,
             "#f0f921"
            ]
           ],
           "sequentialminus": [
            [
             0,
             "#0d0887"
            ],
            [
             0.1111111111111111,
             "#46039f"
            ],
            [
             0.2222222222222222,
             "#7201a8"
            ],
            [
             0.3333333333333333,
             "#9c179e"
            ],
            [
             0.4444444444444444,
             "#bd3786"
            ],
            [
             0.5555555555555556,
             "#d8576b"
            ],
            [
             0.6666666666666666,
             "#ed7953"
            ],
            [
             0.7777777777777778,
             "#fb9f3a"
            ],
            [
             0.8888888888888888,
             "#fdca26"
            ],
            [
             1,
             "#f0f921"
            ]
           ]
          },
          "colorway": [
           "#636efa",
           "#EF553B",
           "#00cc96",
           "#ab63fa",
           "#FFA15A",
           "#19d3f3",
           "#FF6692",
           "#B6E880",
           "#FF97FF",
           "#FECB52"
          ],
          "font": {
           "color": "#2a3f5f"
          },
          "geo": {
           "bgcolor": "white",
           "lakecolor": "white",
           "landcolor": "#E5ECF6",
           "showlakes": true,
           "showland": true,
           "subunitcolor": "white"
          },
          "hoverlabel": {
           "align": "left"
          },
          "hovermode": "closest",
          "mapbox": {
           "style": "light"
          },
          "paper_bgcolor": "white",
          "plot_bgcolor": "#E5ECF6",
          "polar": {
           "angularaxis": {
            "gridcolor": "white",
            "linecolor": "white",
            "ticks": ""
           },
           "bgcolor": "#E5ECF6",
           "radialaxis": {
            "gridcolor": "white",
            "linecolor": "white",
            "ticks": ""
           }
          },
          "scene": {
           "xaxis": {
            "backgroundcolor": "#E5ECF6",
            "gridcolor": "white",
            "gridwidth": 2,
            "linecolor": "white",
            "showbackground": true,
            "ticks": "",
            "zerolinecolor": "white"
           },
           "yaxis": {
            "backgroundcolor": "#E5ECF6",
            "gridcolor": "white",
            "gridwidth": 2,
            "linecolor": "white",
            "showbackground": true,
            "ticks": "",
            "zerolinecolor": "white"
           },
           "zaxis": {
            "backgroundcolor": "#E5ECF6",
            "gridcolor": "white",
            "gridwidth": 2,
            "linecolor": "white",
            "showbackground": true,
            "ticks": "",
            "zerolinecolor": "white"
           }
          },
          "shapedefaults": {
           "line": {
            "color": "#2a3f5f"
           }
          },
          "ternary": {
           "aaxis": {
            "gridcolor": "white",
            "linecolor": "white",
            "ticks": ""
           },
           "baxis": {
            "gridcolor": "white",
            "linecolor": "white",
            "ticks": ""
           },
           "bgcolor": "#E5ECF6",
           "caxis": {
            "gridcolor": "white",
            "linecolor": "white",
            "ticks": ""
           }
          },
          "title": {
           "x": 0.05
          },
          "xaxis": {
           "automargin": true,
           "gridcolor": "white",
           "linecolor": "white",
           "ticks": "",
           "title": {
            "standoff": 15
           },
           "zerolinecolor": "white",
           "zerolinewidth": 2
          },
          "yaxis": {
           "automargin": true,
           "gridcolor": "white",
           "linecolor": "white",
           "ticks": "",
           "title": {
            "standoff": 15
           },
           "zerolinecolor": "white",
           "zerolinewidth": 2
          }
         }
        },
        "title": {
         "text": "Top-Ranked Universities by Country"
        },
        "xaxis": {
         "anchor": "y",
         "autorange": true,
         "domain": [
          0,
          1
         ],
         "range": [
          -0.5,
          17.5
         ],
         "title": {
          "text": "Location"
         },
         "type": "category"
        },
        "yaxis": {
         "anchor": "x",
         "autorange": true,
         "domain": [
          0,
          1
         ],
         "range": [
          0,
          30.526315789473685
         ],
         "title": {
          "text": "Number of Top Universities"
         },
         "type": "linear"
        }
       }
      },
      "image/png": "[encoded data removed]",
      "text/html": [
       "<div>                            <div id=\"3d5f85e3-c89e-4370-a2c8-a5db31aed694\" class=\"plotly-graph-div\" style=\"height:525px; width:100%;\"></div>            <script type=\"text/javascript\">                require([\"plotly\"], function(Plotly) {                    window.PLOTLYENV=window.PLOTLYENV || {};                                    if (document.getElementById(\"3d5f85e3-c89e-4370-a2c8-a5db31aed694\")) {                    Plotly.newPlot(                        \"3d5f85e3-c89e-4370-a2c8-a5db31aed694\",                        [{\"alignmentgroup\":\"True\",\"hovertemplate\":\"Location=%{x}\\u003cbr\\u003eNumber of Top Universities=%{y}\\u003cextra\\u003e\\u003c\\u002fextra\\u003e\",\"legendgroup\":\"\",\"marker\":{\"color\":\"#636efa\",\"pattern\":{\"shape\":\"\"}},\"name\":\"\",\"offsetgroup\":\"\",\"orientation\":\"v\",\"showlegend\":false,\"textposition\":\"auto\",\"x\":[\"USA\",\"China\",\"United Kingdom\",\"Canada\",\"Switzerland\",\"Australia\",\"Germany\",\"Netherlands\",\"Sweden\",\"France\",\"Denmark\",\"Singapore\",\"Belgium\",\"Japan\",\"Norway\",\"Israel\",\"Finland\",\"South Korea\"],\"xaxis\":\"x\",\"y\":[29,8,6,5,4,3,3,3,3,3,2,2,2,1,1,1,1,1],\"yaxis\":\"y\",\"type\":\"bar\"}],                        {\"template\":{\"data\":{\"histogram2dcontour\":[{\"type\":\"histogram2dcontour\",\"colorbar\":{\"outlinewidth\":0,\"ticks\":\"\"},\"colorscale\":[[0.0,\"#0d0887\"],[0.1111111111111111,\"#46039f\"],[0.2222222222222222,\"#7201a8\"],[0.3333333333333333,\"#9c179e\"],[0.4444444444444444,\"#bd3786\"],[0.5555555555555556,\"#d8576b\"],[0.6666666666666666,\"#ed7953\"],[0.7777777777777778,\"#fb9f3a\"],[0.8888888888888888,\"#fdca26\"],[1.0,\"#f0f921\"]]}],\"choropleth\":[{\"type\":\"choropleth\",\"colorbar\":{\"outlinewidth\":0,\"ticks\":\"\"}}],\"histogram2d\":[{\"type\":\"histogram2d\",\"colorbar\":{\"outlinewidth\":0,\"ticks\":\"\"},\"colorscale\":[[0.0,\"#0d0887\"],[0.1111111111111111,\"#46039f\"],[0.2222222222222222,\"#7201a8\"],[0.3333333333333333,\"#9c179e\"],[0.4444444444444444,\"#bd3786\"],[0.5555555555555556,\"#d8576b\"],[0.6666666666666666,\"#ed7953\"],[0.7777777777777778,\"#fb9f3a\"],[0.8888888888888888,\"#fdca26\"],[1.0,\"#f0f921\"]]}],\"heatmap\":[{\"type\":\"heatmap\",\"colorbar\":{\"outlinewidth\":0,\"ticks\":\"\"},\"colorscale\":[[0.0,\"#0d0887\"],[0.1111111111111111,\"#46039f\"],[0.2222222222222222,\"#7201a8\"],[0.3333333333333333,\"#9c179e\"],[0.4444444444444444,\"#bd3786\"],[0.5555555555555556,\"#d8576b\"],[0.6666666666666666,\"#ed7953\"],[0.7777777777777778,\"#fb9f3a\"],[0.8888888888888888,\"#fdca26\"],[1.0,\"#f0f921\"]]}],\"heatmapgl\":[{\"type\":\"heatmapgl\",\"colorbar\":{\"outlinewidth\":0,\"ticks\":\"\"},\"colorscale\":[[0.0,\"#0d0887\"],[0.1111111111111111,\"#46039f\"],[0.2222222222222222,\"#7201a8\"],[0.3333333333333333,\"#9c179e\"],[0.4444444444444444,\"#bd3786\"],[0.5555555555555556,\"#d8576b\"],[0.6666666666666666,\"#ed7953\"],[0.7777777777777778,\"#fb9f3a\"],[0.8888888888888888,\"#fdca26\"],[1.0,\"#f0f921\"]]}],\"contourcarpet\":[{\"type\":\"contourcarpet\",\"colorbar\":{\"outlinewidth\":0,\"ticks\":\"\"}}],\"contour\":[{\"type\":\"contour\",\"colorbar\":{\"outlinewidth\":0,\"ticks\":\"\"},\"colorscale\":[[0.0,\"#0d0887\"],[0.1111111111111111,\"#46039f\"],[0.2222222222222222,\"#7201a8\"],[0.3333333333333333,\"#9c179e\"],[0.4444444444444444,\"#bd3786\"],[0.5555555555555556,\"#d8576b\"],[0.6666666666666666,\"#ed7953\"],[0.7777777777777778,\"#fb9f3a\"],[0.8888888888888888,\"#fdca26\"],[1.0,\"#f0f921\"]]}],\"surface\":[{\"type\":\"surface\",\"colorbar\":{\"outlinewidth\":0,\"ticks\":\"\"},\"colorscale\":[[0.0,\"#0d0887\"],[0.1111111111111111,\"#46039f\"],[0.2222222222222222,\"#7201a8\"],[0.3333333333333333,\"#9c179e\"],[0.4444444444444444,\"#bd3786\"],[0.5555555555555556,\"#d8576b\"],[0.6666666666666666,\"#ed7953\"],[0.7777777777777778,\"#fb9f3a\"],[0.8888888888888888,\"#fdca26\"],[1.0,\"#f0f921\"]]}],\"mesh3d\":[{\"type\":\"mesh3d\",\"colorbar\":{\"outlinewidth\":0,\"ticks\":\"\"}}],\"scatter\":[{\"fillpattern\":{\"fillmode\":\"overlay\",\"size\":10,\"solidity\":0.2},\"type\":\"scatter\"}],\"parcoords\":[{\"type\":\"parcoords\",\"line\":{\"colorbar\":{\"outlinewidth\":0,\"ticks\":\"\"}}}],\"scatterpolargl\":[{\"type\":\"scatterpolargl\",\"marker\":{\"colorbar\":{\"outlinewidth\":0,\"ticks\":\"\"}}}],\"bar\":[{\"error_x\":{\"color\":\"#2a3f5f\"},\"error_y\":{\"color\":\"#2a3f5f\"},\"marker\":{\"line\":{\"color\":\"#E5ECF6\",\"width\":0.5},\"pattern\":{\"fillmode\":\"overlay\",\"size\":10,\"solidity\":0.2}},\"type\":\"bar\"}],\"scattergeo\":[{\"type\":\"scattergeo\",\"marker\":{\"colorbar\":{\"outlinewidth\":0,\"ticks\":\"\"}}}],\"scatterpolar\":[{\"type\":\"scatterpolar\",\"marker\":{\"colorbar\":{\"outlinewidth\":0,\"ticks\":\"\"}}}],\"histogram\":[{\"marker\":{\"pattern\":{\"fillmode\":\"overlay\",\"size\":10,\"solidity\":0.2}},\"type\":\"histogram\"}],\"scattergl\":[{\"type\":\"scattergl\",\"marker\":{\"colorbar\":{\"outlinewidth\":0,\"ticks\":\"\"}}}],\"scatter3d\":[{\"type\":\"scatter3d\",\"line\":{\"colorbar\":{\"outlinewidth\":0,\"ticks\":\"\"}},\"marker\":{\"colorbar\":{\"outlinewidth\":0,\"ticks\":\"\"}}}],\"scattermapbox\":[{\"type\":\"scattermapbox\",\"marker\":{\"colorbar\":{\"outlinewidth\":0,\"ticks\":\"\"}}}],\"scatterternary\":[{\"type\":\"scatterternary\",\"marker\":{\"colorbar\":{\"outlinewidth\":0,\"ticks\":\"\"}}}],\"scattercarpet\":[{\"type\":\"scattercarpet\",\"marker\":{\"colorbar\":{\"outlinewidth\":0,\"ticks\":\"\"}}}],\"carpet\":[{\"aaxis\":{\"endlinecolor\":\"#2a3f5f\",\"gridcolor\":\"white\",\"linecolor\":\"white\",\"minorgridcolor\":\"white\",\"startlinecolor\":\"#2a3f5f\"},\"baxis\":{\"endlinecolor\":\"#2a3f5f\",\"gridcolor\":\"white\",\"linecolor\":\"white\",\"minorgridcolor\":\"white\",\"startlinecolor\":\"#2a3f5f\"},\"type\":\"carpet\"}],\"table\":[{\"cells\":{\"fill\":{\"color\":\"#EBF0F8\"},\"line\":{\"color\":\"white\"}},\"header\":{\"fill\":{\"color\":\"#C8D4E3\"},\"line\":{\"color\":\"white\"}},\"type\":\"table\"}],\"barpolar\":[{\"marker\":{\"line\":{\"color\":\"#E5ECF6\",\"width\":0.5},\"pattern\":{\"fillmode\":\"overlay\",\"size\":10,\"solidity\":0.2}},\"type\":\"barpolar\"}],\"pie\":[{\"automargin\":true,\"type\":\"pie\"}]},\"layout\":{\"autotypenumbers\":\"strict\",\"colorway\":[\"#636efa\",\"#EF553B\",\"#00cc96\",\"#ab63fa\",\"#FFA15A\",\"#19d3f3\",\"#FF6692\",\"#B6E880\",\"#FF97FF\",\"#FECB52\"],\"font\":{\"color\":\"#2a3f5f\"},\"hovermode\":\"closest\",\"hoverlabel\":{\"align\":\"left\"},\"paper_bgcolor\":\"white\",\"plot_bgcolor\":\"#E5ECF6\",\"polar\":{\"bgcolor\":\"#E5ECF6\",\"angularaxis\":{\"gridcolor\":\"white\",\"linecolor\":\"white\",\"ticks\":\"\"},\"radialaxis\":{\"gridcolor\":\"white\",\"linecolor\":\"white\",\"ticks\":\"\"}},\"ternary\":{\"bgcolor\":\"#E5ECF6\",\"aaxis\":{\"gridcolor\":\"white\",\"linecolor\":\"white\",\"ticks\":\"\"},\"baxis\":{\"gridcolor\":\"white\",\"linecolor\":\"white\",\"ticks\":\"\"},\"caxis\":{\"gridcolor\":\"white\",\"linecolor\":\"white\",\"ticks\":\"\"}},\"coloraxis\":{\"colorbar\":{\"outlinewidth\":0,\"ticks\":\"\"}},\"colorscale\":{\"sequential\":[[0.0,\"#0d0887\"],[0.1111111111111111,\"#46039f\"],[0.2222222222222222,\"#7201a8\"],[0.3333333333333333,\"#9c179e\"],[0.4444444444444444,\"#bd3786\"],[0.5555555555555556,\"#d8576b\"],[0.6666666666666666,\"#ed7953\"],[0.7777777777777778,\"#fb9f3a\"],[0.8888888888888888,\"#fdca26\"],[1.0,\"#f0f921\"]],\"sequentialminus\":[[0.0,\"#0d0887\"],[0.1111111111111111,\"#46039f\"],[0.2222222222222222,\"#7201a8\"],[0.3333333333333333,\"#9c179e\"],[0.4444444444444444,\"#bd3786\"],[0.5555555555555556,\"#d8576b\"],[0.6666666666666666,\"#ed7953\"],[0.7777777777777778,\"#fb9f3a\"],[0.8888888888888888,\"#fdca26\"],[1.0,\"#f0f921\"]],\"diverging\":[[0,\"#8e0152\"],[0.1,\"#c51b7d\"],[0.2,\"#de77ae\"],[0.3,\"#f1b6da\"],[0.4,\"#fde0ef\"],[0.5,\"#f7f7f7\"],[0.6,\"#e6f5d0\"],[0.7,\"#b8e186\"],[0.8,\"#7fbc41\"],[0.9,\"#4d9221\"],[1,\"#276419\"]]},\"xaxis\":{\"gridcolor\":\"white\",\"linecolor\":\"white\",\"ticks\":\"\",\"title\":{\"standoff\":15},\"zerolinecolor\":\"white\",\"automargin\":true,\"zerolinewidth\":2},\"yaxis\":{\"gridcolor\":\"white\",\"linecolor\":\"white\",\"ticks\":\"\",\"title\":{\"standoff\":15},\"zerolinecolor\":\"white\",\"automargin\":true,\"zerolinewidth\":2},\"scene\":{\"xaxis\":{\"backgroundcolor\":\"#E5ECF6\",\"gridcolor\":\"white\",\"linecolor\":\"white\",\"showbackground\":true,\"ticks\":\"\",\"zerolinecolor\":\"white\",\"gridwidth\":2},\"yaxis\":{\"backgroundcolor\":\"#E5ECF6\",\"gridcolor\":\"white\",\"linecolor\":\"white\",\"showbackground\":true,\"ticks\":\"\",\"zerolinecolor\":\"white\",\"gridwidth\":2},\"zaxis\":{\"backgroundcolor\":\"#E5ECF6\",\"gridcolor\":\"white\",\"linecolor\":\"white\",\"showbackground\":true,\"ticks\":\"\",\"zerolinecolor\":\"white\",\"gridwidth\":2}},\"shapedefaults\":{\"line\":{\"color\":\"#2a3f5f\"}},\"annotationdefaults\":{\"arrowcolor\":\"#2a3f5f\",\"arrowhead\":0,\"arrowwidth\":1},\"geo\":{\"bgcolor\":\"white\",\"landcolor\":\"#E5ECF6\",\"subunitcolor\":\"white\",\"showland\":true,\"showlakes\":true,\"lakecolor\":\"white\"},\"title\":{\"x\":0.05},\"mapbox\":{\"style\":\"light\"}}},\"xaxis\":{\"anchor\":\"y\",\"domain\":[0.0,1.0],\"title\":{\"text\":\"Location\"}},\"yaxis\":{\"anchor\":\"x\",\"domain\":[0.0,1.0],\"title\":{\"text\":\"Number of Top Universities\"}},\"legend\":{\"tracegroupgap\":0},\"title\":{\"text\":\"Top-Ranked Universities by Country\"},\"barmode\":\"relative\"},                        {\"responsive\": true}                    ).then(function(){\n",
       "                            \n",
       "var gd = document.getElementById('3d5f85e3-c89e-4370-a2c8-a5db31aed694');\n",
       "var x = new MutationObserver(function (mutations, observer) {{\n",
       "        var display = window.getComputedStyle(gd).display;\n",
       "        if (!display || display === 'none') {{\n",
       "            console.log([gd, 'removed!']);\n",
       "            Plotly.purge(gd);\n",
       "            observer.disconnect();\n",
       "        }}\n",
       "}});\n",
       "\n",
       "// Listen for the removal of the full notebook cells\n",
       "var notebookContainer = gd.closest('#notebook-container');\n",
       "if (notebookContainer) {{\n",
       "    x.observe(notebookContainer, {childList: true});\n",
       "}}\n",
       "\n",
       "// Listen for the clearing of the current output cell\n",
       "var outputEl = gd.closest('.output');\n",
       "if (outputEl) {{\n",
       "    x.observe(outputEl, {childList: true});\n",
       "}}\n",
       "\n",
       "                        })                };                });            </script>        </div>"
      ]
     },
     "metadata": {},
     "output_type": "display_data"
    }
   ],
   "source": [
    "top_ranked = arwu_df[arwu_df['World Rank'] <= 100]  # Adjust the rank threshold as needed\n",
    "country_counts = top_ranked['Location'].value_counts()\n",
    "\n",
    "# Bar chart for top-ranked universities by country\n",
    "fig = px.bar(country_counts, x=country_counts.index, y=country_counts.values, \n",
    "             title='Top-Ranked Universities by Country', labels={'x': 'Country', 'y': 'Number of Top Universities'})\n",
    "\n",
    "fig.show()\n"
   ]
  },
  {
   "cell_type": "code",
   "execution_count": 378,
   "id": "cf29b7b7-0949-4a87-9582-83a892ad4f44",
   "metadata": {},
   "outputs": [
    {
     "data": {
      "application/vnd.plotly.v1+json": {
       "config": {
        "plotlyServerURL": "https://plot.ly"
       },
       "data": [
        {
         "coloraxis": "coloraxis",
         "geo": "geo",
         "hovertemplate": "Country=%{location}<br>Number of Top Universities=%{z}<extra></extra>",
         "locationmode": "country names",
         "locations": [
          "USA",
          "China",
          "United Kingdom",
          "Netherlands",
          "Canada",
          "Germany",
          "Switzerland",
          "Sweden",
          "Japan",
          "France",
          "Italy",
          "Denmark",
          "Australia",
          "Singapore",
          "Belgium",
          "Israel",
          "Spain",
          "United States",
          "Saudi Arabia",
          "Ireland",
          "Norway",
          "South Korea",
          "Finland",
          "Austria"
         ],
         "name": "",
         "type": "choropleth",
         "z": [
          45,
          26,
          17,
          9,
          7,
          6,
          6,
          5,
          5,
          5,
          4,
          3,
          3,
          2,
          2,
          2,
          2,
          2,
          2,
          1,
          1,
          1,
          1,
          1
         ]
        }
       ],
       "layout": {
        "coloraxis": {
         "colorbar": {
          "title": {
           "text": "Number of Top Universities"
          }
         },
         "colorscale": [
          [
           0,
           "rgb(8,48,107)"
          ],
          [
           0.125,
           "rgb(8,81,156)"
          ],
          [
           0.25,
           "rgb(33,113,181)"
          ],
          [
           0.375,
           "rgb(66,146,198)"
          ],
          [
           0.5,
           "rgb(107,174,214)"
          ],
          [
           0.625,
           "rgb(158,202,225)"
          ],
          [
           0.75,
           "rgb(198,219,239)"
          ],
          [
           0.875,
           "rgb(222,235,247)"
          ],
          [
           1,
           "rgb(247,251,255)"
          ]
         ]
        },
        "geo": {
         "center": {
          "lat": -1.3692366873600217,
          "lon": 22.260257220252754
         },
         "domain": {
          "x": [
           0,
           1
          ],
          "y": [
           0,
           1
          ]
         },
         "projection": {
          "rotation": {
           "lon": 22.260257220252754
          },
          "scale": 0.7578582832551988
         }
        },
        "height": 800,
        "legend": {
         "tracegroupgap": 0
        },
        "template": {
         "data": {
          "bar": [
           {
            "error_x": {
             "color": "#2a3f5f"
            },
            "error_y": {
             "color": "#2a3f5f"
            },
            "marker": {
             "line": {
              "color": "#E5ECF6",
              "width": 0.5
             },
             "pattern": {
              "fillmode": "overlay",
              "size": 10,
              "solidity": 0.2
             }
            },
            "type": "bar"
           }
          ],
          "barpolar": [
           {
            "marker": {
             "line": {
              "color": "#E5ECF6",
              "width": 0.5
             },
             "pattern": {
              "fillmode": "overlay",
              "size": 10,
              "solidity": 0.2
             }
            },
            "type": "barpolar"
           }
          ],
          "carpet": [
           {
            "aaxis": {
             "endlinecolor": "#2a3f5f",
             "gridcolor": "white",
             "linecolor": "white",
             "minorgridcolor": "white",
             "startlinecolor": "#2a3f5f"
            },
            "baxis": {
             "endlinecolor": "#2a3f5f",
             "gridcolor": "white",
             "linecolor": "white",
             "minorgridcolor": "white",
             "startlinecolor": "#2a3f5f"
            },
            "type": "carpet"
           }
          ],
          "choropleth": [
           {
            "colorbar": {
             "outlinewidth": 0,
             "ticks": ""
            },
            "type": "choropleth"
           }
          ],
          "contour": [
           {
            "colorbar": {
             "outlinewidth": 0,
             "ticks": ""
            },
            "colorscale": [
             [
              0,
              "#0d0887"
             ],
             [
              0.1111111111111111,
              "#46039f"
             ],
             [
              0.2222222222222222,
              "#7201a8"
             ],
             [
              0.3333333333333333,
              "#9c179e"
             ],
             [
              0.4444444444444444,
              "#bd3786"
             ],
             [
              0.5555555555555556,
              "#d8576b"
             ],
             [
              0.6666666666666666,
              "#ed7953"
             ],
             [
              0.7777777777777778,
              "#fb9f3a"
             ],
             [
              0.8888888888888888,
              "#fdca26"
             ],
             [
              1,
              "#f0f921"
             ]
            ],
            "type": "contour"
           }
          ],
          "contourcarpet": [
           {
            "colorbar": {
             "outlinewidth": 0,
             "ticks": ""
            },
            "type": "contourcarpet"
           }
          ],
          "heatmap": [
           {
            "colorbar": {
             "outlinewidth": 0,
             "ticks": ""
            },
            "colorscale": [
             [
              0,
              "#0d0887"
             ],
             [
              0.1111111111111111,
              "#46039f"
             ],
             [
              0.2222222222222222,
              "#7201a8"
             ],
             [
              0.3333333333333333,
              "#9c179e"
             ],
             [
              0.4444444444444444,
              "#bd3786"
             ],
             [
              0.5555555555555556,
              "#d8576b"
             ],
             [
              0.6666666666666666,
              "#ed7953"
             ],
             [
              0.7777777777777778,
              "#fb9f3a"
             ],
             [
              0.8888888888888888,
              "#fdca26"
             ],
             [
              1,
              "#f0f921"
             ]
            ],
            "type": "heatmap"
           }
          ],
          "heatmapgl": [
           {
            "colorbar": {
             "outlinewidth": 0,
             "ticks": ""
            },
            "colorscale": [
             [
              0,
              "#0d0887"
             ],
             [
              0.1111111111111111,
              "#46039f"
             ],
             [
              0.2222222222222222,
              "#7201a8"
             ],
             [
              0.3333333333333333,
              "#9c179e"
             ],
             [
              0.4444444444444444,
              "#bd3786"
             ],
             [
              0.5555555555555556,
              "#d8576b"
             ],
             [
              0.6666666666666666,
              "#ed7953"
             ],
             [
              0.7777777777777778,
              "#fb9f3a"
             ],
             [
              0.8888888888888888,
              "#fdca26"
             ],
             [
              1,
              "#f0f921"
             ]
            ],
            "type": "heatmapgl"
           }
          ],
          "histogram": [
           {
            "marker": {
             "pattern": {
              "fillmode": "overlay",
              "size": 10,
              "solidity": 0.2
             }
            },
            "type": "histogram"
           }
          ],
          "histogram2d": [
           {
            "colorbar": {
             "outlinewidth": 0,
             "ticks": ""
            },
            "colorscale": [
             [
              0,
              "#0d0887"
             ],
             [
              0.1111111111111111,
              "#46039f"
             ],
             [
              0.2222222222222222,
              "#7201a8"
             ],
             [
              0.3333333333333333,
              "#9c179e"
             ],
             [
              0.4444444444444444,
              "#bd3786"
             ],
             [
              0.5555555555555556,
              "#d8576b"
             ],
             [
              0.6666666666666666,
              "#ed7953"
             ],
             [
              0.7777777777777778,
              "#fb9f3a"
             ],
             [
              0.8888888888888888,
              "#fdca26"
             ],
             [
              1,
              "#f0f921"
             ]
            ],
            "type": "histogram2d"
           }
          ],
          "histogram2dcontour": [
           {
            "colorbar": {
             "outlinewidth": 0,
             "ticks": ""
            },
            "colorscale": [
             [
              0,
              "#0d0887"
             ],
             [
              0.1111111111111111,
              "#46039f"
             ],
             [
              0.2222222222222222,
              "#7201a8"
             ],
             [
              0.3333333333333333,
              "#9c179e"
             ],
             [
              0.4444444444444444,
              "#bd3786"
             ],
             [
              0.5555555555555556,
              "#d8576b"
             ],
             [
              0.6666666666666666,
              "#ed7953"
             ],
             [
              0.7777777777777778,
              "#fb9f3a"
             ],
             [
              0.8888888888888888,
              "#fdca26"
             ],
             [
              1,
              "#f0f921"
             ]
            ],
            "type": "histogram2dcontour"
           }
          ],
          "mesh3d": [
           {
            "colorbar": {
             "outlinewidth": 0,
             "ticks": ""
            },
            "type": "mesh3d"
           }
          ],
          "parcoords": [
           {
            "line": {
             "colorbar": {
              "outlinewidth": 0,
              "ticks": ""
             }
            },
            "type": "parcoords"
           }
          ],
          "pie": [
           {
            "automargin": true,
            "type": "pie"
           }
          ],
          "scatter": [
           {
            "fillpattern": {
             "fillmode": "overlay",
             "size": 10,
             "solidity": 0.2
            },
            "type": "scatter"
           }
          ],
          "scatter3d": [
           {
            "line": {
             "colorbar": {
              "outlinewidth": 0,
              "ticks": ""
             }
            },
            "marker": {
             "colorbar": {
              "outlinewidth": 0,
              "ticks": ""
             }
            },
            "type": "scatter3d"
           }
          ],
          "scattercarpet": [
           {
            "marker": {
             "colorbar": {
              "outlinewidth": 0,
              "ticks": ""
             }
            },
            "type": "scattercarpet"
           }
          ],
          "scattergeo": [
           {
            "marker": {
             "colorbar": {
              "outlinewidth": 0,
              "ticks": ""
             }
            },
            "type": "scattergeo"
           }
          ],
          "scattergl": [
           {
            "marker": {
             "colorbar": {
              "outlinewidth": 0,
              "ticks": ""
             }
            },
            "type": "scattergl"
           }
          ],
          "scattermapbox": [
           {
            "marker": {
             "colorbar": {
              "outlinewidth": 0,
              "ticks": ""
             }
            },
            "type": "scattermapbox"
           }
          ],
          "scatterpolar": [
           {
            "marker": {
             "colorbar": {
              "outlinewidth": 0,
              "ticks": ""
             }
            },
            "type": "scatterpolar"
           }
          ],
          "scatterpolargl": [
           {
            "marker": {
             "colorbar": {
              "outlinewidth": 0,
              "ticks": ""
             }
            },
            "type": "scatterpolargl"
           }
          ],
          "scatterternary": [
           {
            "marker": {
             "colorbar": {
              "outlinewidth": 0,
              "ticks": ""
             }
            },
            "type": "scatterternary"
           }
          ],
          "surface": [
           {
            "colorbar": {
             "outlinewidth": 0,
             "ticks": ""
            },
            "colorscale": [
             [
              0,
              "#0d0887"
             ],
             [
              0.1111111111111111,
              "#46039f"
             ],
             [
              0.2222222222222222,
              "#7201a8"
             ],
             [
              0.3333333333333333,
              "#9c179e"
             ],
             [
              0.4444444444444444,
              "#bd3786"
             ],
             [
              0.5555555555555556,
              "#d8576b"
             ],
             [
              0.6666666666666666,
              "#ed7953"
             ],
             [
              0.7777777777777778,
              "#fb9f3a"
             ],
             [
              0.8888888888888888,
              "#fdca26"
             ],
             [
              1,
              "#f0f921"
             ]
            ],
            "type": "surface"
           }
          ],
          "table": [
           {
            "cells": {
             "fill": {
              "color": "#EBF0F8"
             },
             "line": {
              "color": "white"
             }
            },
            "header": {
             "fill": {
              "color": "#C8D4E3"
             },
             "line": {
              "color": "white"
             }
            },
            "type": "table"
           }
          ]
         },
         "layout": {
          "annotationdefaults": {
           "arrowcolor": "#2a3f5f",
           "arrowhead": 0,
           "arrowwidth": 1
          },
          "autotypenumbers": "strict",
          "coloraxis": {
           "colorbar": {
            "outlinewidth": 0,
            "ticks": ""
           }
          },
          "colorscale": {
           "diverging": [
            [
             0,
             "#8e0152"
            ],
            [
             0.1,
             "#c51b7d"
            ],
            [
             0.2,
             "#de77ae"
            ],
            [
             0.3,
             "#f1b6da"
            ],
            [
             0.4,
             "#fde0ef"
            ],
            [
             0.5,
             "#f7f7f7"
            ],
            [
             0.6,
             "#e6f5d0"
            ],
            [
             0.7,
             "#b8e186"
            ],
            [
             0.8,
             "#7fbc41"
            ],
            [
             0.9,
             "#4d9221"
            ],
            [
             1,
             "#276419"
            ]
           ],
           "sequential": [
            [
             0,
             "#0d0887"
            ],
            [
             0.1111111111111111,
             "#46039f"
            ],
            [
             0.2222222222222222,
             "#7201a8"
            ],
            [
             0.3333333333333333,
             "#9c179e"
            ],
            [
             0.4444444444444444,
             "#bd3786"
            ],
            [
             0.5555555555555556,
             "#d8576b"
            ],
            [
             0.6666666666666666,
             "#ed7953"
            ],
            [
             0.7777777777777778,
             "#fb9f3a"
            ],
            [
             0.8888888888888888,
             "#fdca26"
            ],
            [
             1,
             "#f0f921"
            ]
           ],
           "sequentialminus": [
            [
             0,
             "#0d0887"
            ],
            [
             0.1111111111111111,
             "#46039f"
            ],
            [
             0.2222222222222222,
             "#7201a8"
            ],
            [
             0.3333333333333333,
             "#9c179e"
            ],
            [
             0.4444444444444444,
             "#bd3786"
            ],
            [
             0.5555555555555556,
             "#d8576b"
            ],
            [
             0.6666666666666666,
             "#ed7953"
            ],
            [
             0.7777777777777778,
             "#fb9f3a"
            ],
            [
             0.8888888888888888,
             "#fdca26"
            ],
            [
             1,
             "#f0f921"
            ]
           ]
          },
          "colorway": [
           "#636efa",
           "#EF553B",
           "#00cc96",
           "#ab63fa",
           "#FFA15A",
           "#19d3f3",
           "#FF6692",
           "#B6E880",
           "#FF97FF",
           "#FECB52"
          ],
          "font": {
           "color": "#2a3f5f"
          },
          "geo": {
           "bgcolor": "white",
           "lakecolor": "white",
           "landcolor": "#E5ECF6",
           "showlakes": true,
           "showland": true,
           "subunitcolor": "white"
          },
          "hoverlabel": {
           "align": "left"
          },
          "hovermode": "closest",
          "mapbox": {
           "style": "light"
          },
          "paper_bgcolor": "white",
          "plot_bgcolor": "#E5ECF6",
          "polar": {
           "angularaxis": {
            "gridcolor": "white",
            "linecolor": "white",
            "ticks": ""
           },
           "bgcolor": "#E5ECF6",
           "radialaxis": {
            "gridcolor": "white",
            "linecolor": "white",
            "ticks": ""
           }
          },
          "scene": {
           "xaxis": {
            "backgroundcolor": "#E5ECF6",
            "gridcolor": "white",
            "gridwidth": 2,
            "linecolor": "white",
            "showbackground": true,
            "ticks": "",
            "zerolinecolor": "white"
           },
           "yaxis": {
            "backgroundcolor": "#E5ECF6",
            "gridcolor": "white",
            "gridwidth": 2,
            "linecolor": "white",
            "showbackground": true,
            "ticks": "",
            "zerolinecolor": "white"
           },
           "zaxis": {
            "backgroundcolor": "#E5ECF6",
            "gridcolor": "white",
            "gridwidth": 2,
            "linecolor": "white",
            "showbackground": true,
            "ticks": "",
            "zerolinecolor": "white"
           }
          },
          "shapedefaults": {
           "line": {
            "color": "#2a3f5f"
           }
          },
          "ternary": {
           "aaxis": {
            "gridcolor": "white",
            "linecolor": "white",
            "ticks": ""
           },
           "baxis": {
            "gridcolor": "white",
            "linecolor": "white",
            "ticks": ""
           },
           "bgcolor": "#E5ECF6",
           "caxis": {
            "gridcolor": "white",
            "linecolor": "white",
            "ticks": ""
           }
          },
          "title": {
           "x": 0.05
          },
          "xaxis": {
           "automargin": true,
           "gridcolor": "white",
           "linecolor": "white",
           "ticks": "",
           "title": {
            "standoff": 15
           },
           "zerolinecolor": "white",
           "zerolinewidth": 2
          },
          "yaxis": {
           "automargin": true,
           "gridcolor": "white",
           "linecolor": "white",
           "ticks": "",
           "title": {
            "standoff": 15
           },
           "zerolinecolor": "white",
           "zerolinewidth": 2
          }
         }
        },
        "title": {
         "text": "Top-Ranked Universities by Country"
        },
        "width": 1200
       }
      },
      "image/png": "[encoded data removed]",
      "text/html": [
       "<div>                            <div id=\"5400e504-346e-4ecb-bb1d-228a14f8997c\" class=\"plotly-graph-div\" style=\"height:800px; width:1200px;\"></div>            <script type=\"text/javascript\">                require([\"plotly\"], function(Plotly) {                    window.PLOTLYENV=window.PLOTLYENV || {};                                    if (document.getElementById(\"5400e504-346e-4ecb-bb1d-228a14f8997c\")) {                    Plotly.newPlot(                        \"5400e504-346e-4ecb-bb1d-228a14f8997c\",                        [{\"coloraxis\":\"coloraxis\",\"geo\":\"geo\",\"hovertemplate\":\"Country=%{location}\\u003cbr\\u003eNumber of Top Universities=%{z}\\u003cextra\\u003e\\u003c\\u002fextra\\u003e\",\"locationmode\":\"country names\",\"locations\":[\"USA\",\"China\",\"United Kingdom\",\"Netherlands\",\"Canada\",\"Germany\",\"Switzerland\",\"Sweden\",\"Japan\",\"France\",\"Italy\",\"Denmark\",\"Australia\",\"Singapore\",\"Belgium\",\"Israel\",\"Spain\",\"United States\",\"Saudi Arabia\",\"Ireland\",\"Norway\",\"South Korea\",\"Finland\",\"Austria\"],\"name\":\"\",\"z\":[45,26,17,9,7,6,6,5,5,5,4,3,3,2,2,2,2,2,2,1,1,1,1,1],\"type\":\"choropleth\"}],                        {\"template\":{\"data\":{\"histogram2dcontour\":[{\"type\":\"histogram2dcontour\",\"colorbar\":{\"outlinewidth\":0,\"ticks\":\"\"},\"colorscale\":[[0.0,\"#0d0887\"],[0.1111111111111111,\"#46039f\"],[0.2222222222222222,\"#7201a8\"],[0.3333333333333333,\"#9c179e\"],[0.4444444444444444,\"#bd3786\"],[0.5555555555555556,\"#d8576b\"],[0.6666666666666666,\"#ed7953\"],[0.7777777777777778,\"#fb9f3a\"],[0.8888888888888888,\"#fdca26\"],[1.0,\"#f0f921\"]]}],\"choropleth\":[{\"type\":\"choropleth\",\"colorbar\":{\"outlinewidth\":0,\"ticks\":\"\"}}],\"histogram2d\":[{\"type\":\"histogram2d\",\"colorbar\":{\"outlinewidth\":0,\"ticks\":\"\"},\"colorscale\":[[0.0,\"#0d0887\"],[0.1111111111111111,\"#46039f\"],[0.2222222222222222,\"#7201a8\"],[0.3333333333333333,\"#9c179e\"],[0.4444444444444444,\"#bd3786\"],[0.5555555555555556,\"#d8576b\"],[0.6666666666666666,\"#ed7953\"],[0.7777777777777778,\"#fb9f3a\"],[0.8888888888888888,\"#fdca26\"],[1.0,\"#f0f921\"]]}],\"heatmap\":[{\"type\":\"heatmap\",\"colorbar\":{\"outlinewidth\":0,\"ticks\":\"\"},\"colorscale\":[[0.0,\"#0d0887\"],[0.1111111111111111,\"#46039f\"],[0.2222222222222222,\"#7201a8\"],[0.3333333333333333,\"#9c179e\"],[0.4444444444444444,\"#bd3786\"],[0.5555555555555556,\"#d8576b\"],[0.6666666666666666,\"#ed7953\"],[0.7777777777777778,\"#fb9f3a\"],[0.8888888888888888,\"#fdca26\"],[1.0,\"#f0f921\"]]}],\"heatmapgl\":[{\"type\":\"heatmapgl\",\"colorbar\":{\"outlinewidth\":0,\"ticks\":\"\"},\"colorscale\":[[0.0,\"#0d0887\"],[0.1111111111111111,\"#46039f\"],[0.2222222222222222,\"#7201a8\"],[0.3333333333333333,\"#9c179e\"],[0.4444444444444444,\"#bd3786\"],[0.5555555555555556,\"#d8576b\"],[0.6666666666666666,\"#ed7953\"],[0.7777777777777778,\"#fb9f3a\"],[0.8888888888888888,\"#fdca26\"],[1.0,\"#f0f921\"]]}],\"contourcarpet\":[{\"type\":\"contourcarpet\",\"colorbar\":{\"outlinewidth\":0,\"ticks\":\"\"}}],\"contour\":[{\"type\":\"contour\",\"colorbar\":{\"outlinewidth\":0,\"ticks\":\"\"},\"colorscale\":[[0.0,\"#0d0887\"],[0.1111111111111111,\"#46039f\"],[0.2222222222222222,\"#7201a8\"],[0.3333333333333333,\"#9c179e\"],[0.4444444444444444,\"#bd3786\"],[0.5555555555555556,\"#d8576b\"],[0.6666666666666666,\"#ed7953\"],[0.7777777777777778,\"#fb9f3a\"],[0.8888888888888888,\"#fdca26\"],[1.0,\"#f0f921\"]]}],\"surface\":[{\"type\":\"surface\",\"colorbar\":{\"outlinewidth\":0,\"ticks\":\"\"},\"colorscale\":[[0.0,\"#0d0887\"],[0.1111111111111111,\"#46039f\"],[0.2222222222222222,\"#7201a8\"],[0.3333333333333333,\"#9c179e\"],[0.4444444444444444,\"#bd3786\"],[0.5555555555555556,\"#d8576b\"],[0.6666666666666666,\"#ed7953\"],[0.7777777777777778,\"#fb9f3a\"],[0.8888888888888888,\"#fdca26\"],[1.0,\"#f0f921\"]]}],\"mesh3d\":[{\"type\":\"mesh3d\",\"colorbar\":{\"outlinewidth\":0,\"ticks\":\"\"}}],\"scatter\":[{\"fillpattern\":{\"fillmode\":\"overlay\",\"size\":10,\"solidity\":0.2},\"type\":\"scatter\"}],\"parcoords\":[{\"type\":\"parcoords\",\"line\":{\"colorbar\":{\"outlinewidth\":0,\"ticks\":\"\"}}}],\"scatterpolargl\":[{\"type\":\"scatterpolargl\",\"marker\":{\"colorbar\":{\"outlinewidth\":0,\"ticks\":\"\"}}}],\"bar\":[{\"error_x\":{\"color\":\"#2a3f5f\"},\"error_y\":{\"color\":\"#2a3f5f\"},\"marker\":{\"line\":{\"color\":\"#E5ECF6\",\"width\":0.5},\"pattern\":{\"fillmode\":\"overlay\",\"size\":10,\"solidity\":0.2}},\"type\":\"bar\"}],\"scattergeo\":[{\"type\":\"scattergeo\",\"marker\":{\"colorbar\":{\"outlinewidth\":0,\"ticks\":\"\"}}}],\"scatterpolar\":[{\"type\":\"scatterpolar\",\"marker\":{\"colorbar\":{\"outlinewidth\":0,\"ticks\":\"\"}}}],\"histogram\":[{\"marker\":{\"pattern\":{\"fillmode\":\"overlay\",\"size\":10,\"solidity\":0.2}},\"type\":\"histogram\"}],\"scattergl\":[{\"type\":\"scattergl\",\"marker\":{\"colorbar\":{\"outlinewidth\":0,\"ticks\":\"\"}}}],\"scatter3d\":[{\"type\":\"scatter3d\",\"line\":{\"colorbar\":{\"outlinewidth\":0,\"ticks\":\"\"}},\"marker\":{\"colorbar\":{\"outlinewidth\":0,\"ticks\":\"\"}}}],\"scattermapbox\":[{\"type\":\"scattermapbox\",\"marker\":{\"colorbar\":{\"outlinewidth\":0,\"ticks\":\"\"}}}],\"scatterternary\":[{\"type\":\"scatterternary\",\"marker\":{\"colorbar\":{\"outlinewidth\":0,\"ticks\":\"\"}}}],\"scattercarpet\":[{\"type\":\"scattercarpet\",\"marker\":{\"colorbar\":{\"outlinewidth\":0,\"ticks\":\"\"}}}],\"carpet\":[{\"aaxis\":{\"endlinecolor\":\"#2a3f5f\",\"gridcolor\":\"white\",\"linecolor\":\"white\",\"minorgridcolor\":\"white\",\"startlinecolor\":\"#2a3f5f\"},\"baxis\":{\"endlinecolor\":\"#2a3f5f\",\"gridcolor\":\"white\",\"linecolor\":\"white\",\"minorgridcolor\":\"white\",\"startlinecolor\":\"#2a3f5f\"},\"type\":\"carpet\"}],\"table\":[{\"cells\":{\"fill\":{\"color\":\"#EBF0F8\"},\"line\":{\"color\":\"white\"}},\"header\":{\"fill\":{\"color\":\"#C8D4E3\"},\"line\":{\"color\":\"white\"}},\"type\":\"table\"}],\"barpolar\":[{\"marker\":{\"line\":{\"color\":\"#E5ECF6\",\"width\":0.5},\"pattern\":{\"fillmode\":\"overlay\",\"size\":10,\"solidity\":0.2}},\"type\":\"barpolar\"}],\"pie\":[{\"automargin\":true,\"type\":\"pie\"}]},\"layout\":{\"autotypenumbers\":\"strict\",\"colorway\":[\"#636efa\",\"#EF553B\",\"#00cc96\",\"#ab63fa\",\"#FFA15A\",\"#19d3f3\",\"#FF6692\",\"#B6E880\",\"#FF97FF\",\"#FECB52\"],\"font\":{\"color\":\"#2a3f5f\"},\"hovermode\":\"closest\",\"hoverlabel\":{\"align\":\"left\"},\"paper_bgcolor\":\"white\",\"plot_bgcolor\":\"#E5ECF6\",\"polar\":{\"bgcolor\":\"#E5ECF6\",\"angularaxis\":{\"gridcolor\":\"white\",\"linecolor\":\"white\",\"ticks\":\"\"},\"radialaxis\":{\"gridcolor\":\"white\",\"linecolor\":\"white\",\"ticks\":\"\"}},\"ternary\":{\"bgcolor\":\"#E5ECF6\",\"aaxis\":{\"gridcolor\":\"white\",\"linecolor\":\"white\",\"ticks\":\"\"},\"baxis\":{\"gridcolor\":\"white\",\"linecolor\":\"white\",\"ticks\":\"\"},\"caxis\":{\"gridcolor\":\"white\",\"linecolor\":\"white\",\"ticks\":\"\"}},\"coloraxis\":{\"colorbar\":{\"outlinewidth\":0,\"ticks\":\"\"}},\"colorscale\":{\"sequential\":[[0.0,\"#0d0887\"],[0.1111111111111111,\"#46039f\"],[0.2222222222222222,\"#7201a8\"],[0.3333333333333333,\"#9c179e\"],[0.4444444444444444,\"#bd3786\"],[0.5555555555555556,\"#d8576b\"],[0.6666666666666666,\"#ed7953\"],[0.7777777777777778,\"#fb9f3a\"],[0.8888888888888888,\"#fdca26\"],[1.0,\"#f0f921\"]],\"sequentialminus\":[[0.0,\"#0d0887\"],[0.1111111111111111,\"#46039f\"],[0.2222222222222222,\"#7201a8\"],[0.3333333333333333,\"#9c179e\"],[0.4444444444444444,\"#bd3786\"],[0.5555555555555556,\"#d8576b\"],[0.6666666666666666,\"#ed7953\"],[0.7777777777777778,\"#fb9f3a\"],[0.8888888888888888,\"#fdca26\"],[1.0,\"#f0f921\"]],\"diverging\":[[0,\"#8e0152\"],[0.1,\"#c51b7d\"],[0.2,\"#de77ae\"],[0.3,\"#f1b6da\"],[0.4,\"#fde0ef\"],[0.5,\"#f7f7f7\"],[0.6,\"#e6f5d0\"],[0.7,\"#b8e186\"],[0.8,\"#7fbc41\"],[0.9,\"#4d9221\"],[1,\"#276419\"]]},\"xaxis\":{\"gridcolor\":\"white\",\"linecolor\":\"white\",\"ticks\":\"\",\"title\":{\"standoff\":15},\"zerolinecolor\":\"white\",\"automargin\":true,\"zerolinewidth\":2},\"yaxis\":{\"gridcolor\":\"white\",\"linecolor\":\"white\",\"ticks\":\"\",\"title\":{\"standoff\":15},\"zerolinecolor\":\"white\",\"automargin\":true,\"zerolinewidth\":2},\"scene\":{\"xaxis\":{\"backgroundcolor\":\"#E5ECF6\",\"gridcolor\":\"white\",\"linecolor\":\"white\",\"showbackground\":true,\"ticks\":\"\",\"zerolinecolor\":\"white\",\"gridwidth\":2},\"yaxis\":{\"backgroundcolor\":\"#E5ECF6\",\"gridcolor\":\"white\",\"linecolor\":\"white\",\"showbackground\":true,\"ticks\":\"\",\"zerolinecolor\":\"white\",\"gridwidth\":2},\"zaxis\":{\"backgroundcolor\":\"#E5ECF6\",\"gridcolor\":\"white\",\"linecolor\":\"white\",\"showbackground\":true,\"ticks\":\"\",\"zerolinecolor\":\"white\",\"gridwidth\":2}},\"shapedefaults\":{\"line\":{\"color\":\"#2a3f5f\"}},\"annotationdefaults\":{\"arrowcolor\":\"#2a3f5f\",\"arrowhead\":0,\"arrowwidth\":1},\"geo\":{\"bgcolor\":\"white\",\"landcolor\":\"#E5ECF6\",\"subunitcolor\":\"white\",\"showland\":true,\"showlakes\":true,\"lakecolor\":\"white\"},\"title\":{\"x\":0.05},\"mapbox\":{\"style\":\"light\"}}},\"geo\":{\"domain\":{\"x\":[0.0,1.0],\"y\":[0.0,1.0]},\"center\":{}},\"coloraxis\":{\"colorbar\":{\"title\":{\"text\":\"Number of Top Universities\"}},\"colorscale\":[[0.0,\"rgb(8,48,107)\"],[0.125,\"rgb(8,81,156)\"],[0.25,\"rgb(33,113,181)\"],[0.375,\"rgb(66,146,198)\"],[0.5,\"rgb(107,174,214)\"],[0.625,\"rgb(158,202,225)\"],[0.75,\"rgb(198,219,239)\"],[0.875,\"rgb(222,235,247)\"],[1.0,\"rgb(247,251,255)\"]]},\"legend\":{\"tracegroupgap\":0},\"title\":{\"text\":\"Top-Ranked Universities by Country\"},\"width\":1200,\"height\":800},                        {\"responsive\": true}                    ).then(function(){\n",
       "                            \n",
       "var gd = document.getElementById('5400e504-346e-4ecb-bb1d-228a14f8997c');\n",
       "var x = new MutationObserver(function (mutations, observer) {{\n",
       "        var display = window.getComputedStyle(gd).display;\n",
       "        if (!display || display === 'none') {{\n",
       "            console.log([gd, 'removed!']);\n",
       "            Plotly.purge(gd);\n",
       "            observer.disconnect();\n",
       "        }}\n",
       "}});\n",
       "\n",
       "// Listen for the removal of the full notebook cells\n",
       "var notebookContainer = gd.closest('#notebook-container');\n",
       "if (notebookContainer) {{\n",
       "    x.observe(notebookContainer, {childList: true});\n",
       "}}\n",
       "\n",
       "// Listen for the clearing of the current output cell\n",
       "var outputEl = gd.closest('.output');\n",
       "if (outputEl) {{\n",
       "    x.observe(outputEl, {childList: true});\n",
       "}}\n",
       "\n",
       "                        })                };                });            </script>        </div>"
      ]
     },
     "metadata": {},
     "output_type": "display_data"
    }
   ],
   "source": [
    "import plotly.express as px\n",
    "\n",
    "# Filter for top-ranked universities\n",
    "top_ranked = arwu_df[arwu_df['World Rank'] <= 200]  # Adjust the rank threshold as needed\n",
    "country_counts = top_ranked['Location'].value_counts().reset_index()\n",
    "country_counts.columns = ['Country', 'Number of Top Universities']\n",
    "\n",
    "# Create a choropleth map\n",
    "fig = px.choropleth(\n",
    "    country_counts,\n",
    "    locations='Country',\n",
    "    locationmode='country names',\n",
    "    color='Number of Top Universities',\n",
    "    title='Top-Ranked Universities by Country',\n",
    "    color_continuous_scale=px.colors.sequential.Blues_r,  # Warmer color scale\n",
    "    labels={'Number of Top Universities': 'Number of Top Universities'}\n",
    ")\n",
    "\n",
    "# Update layout for enlarged map and green background\n",
    "fig.update_layout(\n",
    "    width=1200,\n",
    "    height=800,\n",
    ")\n",
    "\n",
    "# Show the plot\n",
    "fig.show()\n"
   ]
  },
  {
   "cell_type": "code",
   "execution_count": 371,
   "id": "db79d803-b75c-4686-a623-e8420321a90f",
   "metadata": {},
   "outputs": [
    {
     "data": {
      "application/vnd.plotly.v1+json": {
       "config": {
        "plotlyServerURL": "https://plot.ly"
       },
       "data": [
        {
         "marker": {
          "color": "lightblue"
         },
         "name": "World Rank",
         "type": "bar",
         "width": 0.4,
         "x": [
          "King Abdulaziz University",
          "King Saud University",
          "King Abdullah University of Science and Technology",
          "Taif University",
          "King Khalid University",
          "Prince Sattam Bin Abdulaziz University"
         ],
         "y": [
          109,
          110,
          222,
          446,
          631,
          855
         ]
        }
       ],
       "layout": {
        "height": 800,
        "template": {
         "data": {
          "bar": [
           {
            "error_x": {
             "color": "#2a3f5f"
            },
            "error_y": {
             "color": "#2a3f5f"
            },
            "marker": {
             "line": {
              "color": "#E5ECF6",
              "width": 0.5
             },
             "pattern": {
              "fillmode": "overlay",
              "size": 10,
              "solidity": 0.2
             }
            },
            "type": "bar"
           }
          ],
          "barpolar": [
           {
            "marker": {
             "line": {
              "color": "#E5ECF6",
              "width": 0.5
             },
             "pattern": {
              "fillmode": "overlay",
              "size": 10,
              "solidity": 0.2
             }
            },
            "type": "barpolar"
           }
          ],
          "carpet": [
           {
            "aaxis": {
             "endlinecolor": "#2a3f5f",
             "gridcolor": "white",
             "linecolor": "white",
             "minorgridcolor": "white",
             "startlinecolor": "#2a3f5f"
            },
            "baxis": {
             "endlinecolor": "#2a3f5f",
             "gridcolor": "white",
             "linecolor": "white",
             "minorgridcolor": "white",
             "startlinecolor": "#2a3f5f"
            },
            "type": "carpet"
           }
          ],
          "choropleth": [
           {
            "colorbar": {
             "outlinewidth": 0,
             "ticks": ""
            },
            "type": "choropleth"
           }
          ],
          "contour": [
           {
            "colorbar": {
             "outlinewidth": 0,
             "ticks": ""
            },
            "colorscale": [
             [
              0,
              "#0d0887"
             ],
             [
              0.1111111111111111,
              "#46039f"
             ],
             [
              0.2222222222222222,
              "#7201a8"
             ],
             [
              0.3333333333333333,
              "#9c179e"
             ],
             [
              0.4444444444444444,
              "#bd3786"
             ],
             [
              0.5555555555555556,
              "#d8576b"
             ],
             [
              0.6666666666666666,
              "#ed7953"
             ],
             [
              0.7777777777777778,
              "#fb9f3a"
             ],
             [
              0.8888888888888888,
              "#fdca26"
             ],
             [
              1,
              "#f0f921"
             ]
            ],
            "type": "contour"
           }
          ],
          "contourcarpet": [
           {
            "colorbar": {
             "outlinewidth": 0,
             "ticks": ""
            },
            "type": "contourcarpet"
           }
          ],
          "heatmap": [
           {
            "colorbar": {
             "outlinewidth": 0,
             "ticks": ""
            },
            "colorscale": [
             [
              0,
              "#0d0887"
             ],
             [
              0.1111111111111111,
              "#46039f"
             ],
             [
              0.2222222222222222,
              "#7201a8"
             ],
             [
              0.3333333333333333,
              "#9c179e"
             ],
             [
              0.4444444444444444,
              "#bd3786"
             ],
             [
              0.5555555555555556,
              "#d8576b"
             ],
             [
              0.6666666666666666,
              "#ed7953"
             ],
             [
              0.7777777777777778,
              "#fb9f3a"
             ],
             [
              0.8888888888888888,
              "#fdca26"
             ],
             [
              1,
              "#f0f921"
             ]
            ],
            "type": "heatmap"
           }
          ],
          "heatmapgl": [
           {
            "colorbar": {
             "outlinewidth": 0,
             "ticks": ""
            },
            "colorscale": [
             [
              0,
              "#0d0887"
             ],
             [
              0.1111111111111111,
              "#46039f"
             ],
             [
              0.2222222222222222,
              "#7201a8"
             ],
             [
              0.3333333333333333,
              "#9c179e"
             ],
             [
              0.4444444444444444,
              "#bd3786"
             ],
             [
              0.5555555555555556,
              "#d8576b"
             ],
             [
              0.6666666666666666,
              "#ed7953"
             ],
             [
              0.7777777777777778,
              "#fb9f3a"
             ],
             [
              0.8888888888888888,
              "#fdca26"
             ],
             [
              1,
              "#f0f921"
             ]
            ],
            "type": "heatmapgl"
           }
          ],
          "histogram": [
           {
            "marker": {
             "pattern": {
              "fillmode": "overlay",
              "size": 10,
              "solidity": 0.2
             }
            },
            "type": "histogram"
           }
          ],
          "histogram2d": [
           {
            "colorbar": {
             "outlinewidth": 0,
             "ticks": ""
            },
            "colorscale": [
             [
              0,
              "#0d0887"
             ],
             [
              0.1111111111111111,
              "#46039f"
             ],
             [
              0.2222222222222222,
              "#7201a8"
             ],
             [
              0.3333333333333333,
              "#9c179e"
             ],
             [
              0.4444444444444444,
              "#bd3786"
             ],
             [
              0.5555555555555556,
              "#d8576b"
             ],
             [
              0.6666666666666666,
              "#ed7953"
             ],
             [
              0.7777777777777778,
              "#fb9f3a"
             ],
             [
              0.8888888888888888,
              "#fdca26"
             ],
             [
              1,
              "#f0f921"
             ]
            ],
            "type": "histogram2d"
           }
          ],
          "histogram2dcontour": [
           {
            "colorbar": {
             "outlinewidth": 0,
             "ticks": ""
            },
            "colorscale": [
             [
              0,
              "#0d0887"
             ],
             [
              0.1111111111111111,
              "#46039f"
             ],
             [
              0.2222222222222222,
              "#7201a8"
             ],
             [
              0.3333333333333333,
              "#9c179e"
             ],
             [
              0.4444444444444444,
              "#bd3786"
             ],
             [
              0.5555555555555556,
              "#d8576b"
             ],
             [
              0.6666666666666666,
              "#ed7953"
             ],
             [
              0.7777777777777778,
              "#fb9f3a"
             ],
             [
              0.8888888888888888,
              "#fdca26"
             ],
             [
              1,
              "#f0f921"
             ]
            ],
            "type": "histogram2dcontour"
           }
          ],
          "mesh3d": [
           {
            "colorbar": {
             "outlinewidth": 0,
             "ticks": ""
            },
            "type": "mesh3d"
           }
          ],
          "parcoords": [
           {
            "line": {
             "colorbar": {
              "outlinewidth": 0,
              "ticks": ""
             }
            },
            "type": "parcoords"
           }
          ],
          "pie": [
           {
            "automargin": true,
            "type": "pie"
           }
          ],
          "scatter": [
           {
            "fillpattern": {
             "fillmode": "overlay",
             "size": 10,
             "solidity": 0.2
            },
            "type": "scatter"
           }
          ],
          "scatter3d": [
           {
            "line": {
             "colorbar": {
              "outlinewidth": 0,
              "ticks": ""
             }
            },
            "marker": {
             "colorbar": {
              "outlinewidth": 0,
              "ticks": ""
             }
            },
            "type": "scatter3d"
           }
          ],
          "scattercarpet": [
           {
            "marker": {
             "colorbar": {
              "outlinewidth": 0,
              "ticks": ""
             }
            },
            "type": "scattercarpet"
           }
          ],
          "scattergeo": [
           {
            "marker": {
             "colorbar": {
              "outlinewidth": 0,
              "ticks": ""
             }
            },
            "type": "scattergeo"
           }
          ],
          "scattergl": [
           {
            "marker": {
             "colorbar": {
              "outlinewidth": 0,
              "ticks": ""
             }
            },
            "type": "scattergl"
           }
          ],
          "scattermapbox": [
           {
            "marker": {
             "colorbar": {
              "outlinewidth": 0,
              "ticks": ""
             }
            },
            "type": "scattermapbox"
           }
          ],
          "scatterpolar": [
           {
            "marker": {
             "colorbar": {
              "outlinewidth": 0,
              "ticks": ""
             }
            },
            "type": "scatterpolar"
           }
          ],
          "scatterpolargl": [
           {
            "marker": {
             "colorbar": {
              "outlinewidth": 0,
              "ticks": ""
             }
            },
            "type": "scatterpolargl"
           }
          ],
          "scatterternary": [
           {
            "marker": {
             "colorbar": {
              "outlinewidth": 0,
              "ticks": ""
             }
            },
            "type": "scatterternary"
           }
          ],
          "surface": [
           {
            "colorbar": {
             "outlinewidth": 0,
             "ticks": ""
            },
            "colorscale": [
             [
              0,
              "#0d0887"
             ],
             [
              0.1111111111111111,
              "#46039f"
             ],
             [
              0.2222222222222222,
              "#7201a8"
             ],
             [
              0.3333333333333333,
              "#9c179e"
             ],
             [
              0.4444444444444444,
              "#bd3786"
             ],
             [
              0.5555555555555556,
              "#d8576b"
             ],
             [
              0.6666666666666666,
              "#ed7953"
             ],
             [
              0.7777777777777778,
              "#fb9f3a"
             ],
             [
              0.8888888888888888,
              "#fdca26"
             ],
             [
              1,
              "#f0f921"
             ]
            ],
            "type": "surface"
           }
          ],
          "table": [
           {
            "cells": {
             "fill": {
              "color": "#EBF0F8"
             },
             "line": {
              "color": "white"
             }
            },
            "header": {
             "fill": {
              "color": "#C8D4E3"
             },
             "line": {
              "color": "white"
             }
            },
            "type": "table"
           }
          ]
         },
         "layout": {
          "annotationdefaults": {
           "arrowcolor": "#2a3f5f",
           "arrowhead": 0,
           "arrowwidth": 1
          },
          "autotypenumbers": "strict",
          "coloraxis": {
           "colorbar": {
            "outlinewidth": 0,
            "ticks": ""
           }
          },
          "colorscale": {
           "diverging": [
            [
             0,
             "#8e0152"
            ],
            [
             0.1,
             "#c51b7d"
            ],
            [
             0.2,
             "#de77ae"
            ],
            [
             0.3,
             "#f1b6da"
            ],
            [
             0.4,
             "#fde0ef"
            ],
            [
             0.5,
             "#f7f7f7"
            ],
            [
             0.6,
             "#e6f5d0"
            ],
            [
             0.7,
             "#b8e186"
            ],
            [
             0.8,
             "#7fbc41"
            ],
            [
             0.9,
             "#4d9221"
            ],
            [
             1,
             "#276419"
            ]
           ],
           "sequential": [
            [
             0,
             "#0d0887"
            ],
            [
             0.1111111111111111,
             "#46039f"
            ],
            [
             0.2222222222222222,
             "#7201a8"
            ],
            [
             0.3333333333333333,
             "#9c179e"
            ],
            [
             0.4444444444444444,
             "#bd3786"
            ],
            [
             0.5555555555555556,
             "#d8576b"
            ],
            [
             0.6666666666666666,
             "#ed7953"
            ],
            [
             0.7777777777777778,
             "#fb9f3a"
            ],
            [
             0.8888888888888888,
             "#fdca26"
            ],
            [
             1,
             "#f0f921"
            ]
           ],
           "sequentialminus": [
            [
             0,
             "#0d0887"
            ],
            [
             0.1111111111111111,
             "#46039f"
            ],
            [
             0.2222222222222222,
             "#7201a8"
            ],
            [
             0.3333333333333333,
             "#9c179e"
            ],
            [
             0.4444444444444444,
             "#bd3786"
            ],
            [
             0.5555555555555556,
             "#d8576b"
            ],
            [
             0.6666666666666666,
             "#ed7953"
            ],
            [
             0.7777777777777778,
             "#fb9f3a"
            ],
            [
             0.8888888888888888,
             "#fdca26"
            ],
            [
             1,
             "#f0f921"
            ]
           ]
          },
          "colorway": [
           "#636efa",
           "#EF553B",
           "#00cc96",
           "#ab63fa",
           "#FFA15A",
           "#19d3f3",
           "#FF6692",
           "#B6E880",
           "#FF97FF",
           "#FECB52"
          ],
          "font": {
           "color": "#2a3f5f"
          },
          "geo": {
           "bgcolor": "white",
           "lakecolor": "white",
           "landcolor": "#E5ECF6",
           "showlakes": true,
           "showland": true,
           "subunitcolor": "white"
          },
          "hoverlabel": {
           "align": "left"
          },
          "hovermode": "closest",
          "mapbox": {
           "style": "light"
          },
          "paper_bgcolor": "white",
          "plot_bgcolor": "#E5ECF6",
          "polar": {
           "angularaxis": {
            "gridcolor": "white",
            "linecolor": "white",
            "ticks": ""
           },
           "bgcolor": "#E5ECF6",
           "radialaxis": {
            "gridcolor": "white",
            "linecolor": "white",
            "ticks": ""
           }
          },
          "scene": {
           "xaxis": {
            "backgroundcolor": "#E5ECF6",
            "gridcolor": "white",
            "gridwidth": 2,
            "linecolor": "white",
            "showbackground": true,
            "ticks": "",
            "zerolinecolor": "white"
           },
           "yaxis": {
            "backgroundcolor": "#E5ECF6",
            "gridcolor": "white",
            "gridwidth": 2,
            "linecolor": "white",
            "showbackground": true,
            "ticks": "",
            "zerolinecolor": "white"
           },
           "zaxis": {
            "backgroundcolor": "#E5ECF6",
            "gridcolor": "white",
            "gridwidth": 2,
            "linecolor": "white",
            "showbackground": true,
            "ticks": "",
            "zerolinecolor": "white"
           }
          },
          "shapedefaults": {
           "line": {
            "color": "#2a3f5f"
           }
          },
          "ternary": {
           "aaxis": {
            "gridcolor": "white",
            "linecolor": "white",
            "ticks": ""
           },
           "baxis": {
            "gridcolor": "white",
            "linecolor": "white",
            "ticks": ""
           },
           "bgcolor": "#E5ECF6",
           "caxis": {
            "gridcolor": "white",
            "linecolor": "white",
            "ticks": ""
           }
          },
          "title": {
           "x": 0.05
          },
          "xaxis": {
           "automargin": true,
           "gridcolor": "white",
           "linecolor": "white",
           "ticks": "",
           "title": {
            "standoff": 15
           },
           "zerolinecolor": "white",
           "zerolinewidth": 2
          },
          "yaxis": {
           "automargin": true,
           "gridcolor": "white",
           "linecolor": "white",
           "ticks": "",
           "title": {
            "standoff": 15
           },
           "zerolinecolor": "white",
           "zerolinewidth": 2
          }
         }
        },
        "title": {
         "text": "Bar Chart of World Rankings for Saudi Arabian Universities"
        },
        "width": 1200,
        "xaxis": {
         "autorange": true,
         "range": [
          -0.5,
          5.5
         ],
         "tickangle": -45,
         "title": {
          "text": "University Name"
         },
         "type": "category"
        },
        "yaxis": {
         "range": [
          0,
          400
         ],
         "title": {
          "text": "Rank"
         },
         "type": "linear"
        }
       }
      },
      "image/png": "[encoded data removed]",
      "text/html": [
       "<div>                            <div id=\"ca30fe11-0c79-4335-b2c6-410e34c5172f\" class=\"plotly-graph-div\" style=\"height:800px; width:1200px;\"></div>            <script type=\"text/javascript\">                require([\"plotly\"], function(Plotly) {                    window.PLOTLYENV=window.PLOTLYENV || {};                                    if (document.getElementById(\"ca30fe11-0c79-4335-b2c6-410e34c5172f\")) {                    Plotly.newPlot(                        \"ca30fe11-0c79-4335-b2c6-410e34c5172f\",                        [{\"marker\":{\"color\":\"lightblue\"},\"name\":\"World Rank\",\"width\":0.4,\"x\":[\"King Abdulaziz University\",\"King Saud University\",\"King Abdullah University of Science and Technology\",\"Taif University\",\"King Khalid University\",\"Prince Sattam Bin Abdulaziz University\"],\"y\":[109,110,222,446,631,855],\"type\":\"bar\"}],                        {\"template\":{\"data\":{\"histogram2dcontour\":[{\"type\":\"histogram2dcontour\",\"colorbar\":{\"outlinewidth\":0,\"ticks\":\"\"},\"colorscale\":[[0.0,\"#0d0887\"],[0.1111111111111111,\"#46039f\"],[0.2222222222222222,\"#7201a8\"],[0.3333333333333333,\"#9c179e\"],[0.4444444444444444,\"#bd3786\"],[0.5555555555555556,\"#d8576b\"],[0.6666666666666666,\"#ed7953\"],[0.7777777777777778,\"#fb9f3a\"],[0.8888888888888888,\"#fdca26\"],[1.0,\"#f0f921\"]]}],\"choropleth\":[{\"type\":\"choropleth\",\"colorbar\":{\"outlinewidth\":0,\"ticks\":\"\"}}],\"histogram2d\":[{\"type\":\"histogram2d\",\"colorbar\":{\"outlinewidth\":0,\"ticks\":\"\"},\"colorscale\":[[0.0,\"#0d0887\"],[0.1111111111111111,\"#46039f\"],[0.2222222222222222,\"#7201a8\"],[0.3333333333333333,\"#9c179e\"],[0.4444444444444444,\"#bd3786\"],[0.5555555555555556,\"#d8576b\"],[0.6666666666666666,\"#ed7953\"],[0.7777777777777778,\"#fb9f3a\"],[0.8888888888888888,\"#fdca26\"],[1.0,\"#f0f921\"]]}],\"heatmap\":[{\"type\":\"heatmap\",\"colorbar\":{\"outlinewidth\":0,\"ticks\":\"\"},\"colorscale\":[[0.0,\"#0d0887\"],[0.1111111111111111,\"#46039f\"],[0.2222222222222222,\"#7201a8\"],[0.3333333333333333,\"#9c179e\"],[0.4444444444444444,\"#bd3786\"],[0.5555555555555556,\"#d8576b\"],[0.6666666666666666,\"#ed7953\"],[0.7777777777777778,\"#fb9f3a\"],[0.8888888888888888,\"#fdca26\"],[1.0,\"#f0f921\"]]}],\"heatmapgl\":[{\"type\":\"heatmapgl\",\"colorbar\":{\"outlinewidth\":0,\"ticks\":\"\"},\"colorscale\":[[0.0,\"#0d0887\"],[0.1111111111111111,\"#46039f\"],[0.2222222222222222,\"#7201a8\"],[0.3333333333333333,\"#9c179e\"],[0.4444444444444444,\"#bd3786\"],[0.5555555555555556,\"#d8576b\"],[0.6666666666666666,\"#ed7953\"],[0.7777777777777778,\"#fb9f3a\"],[0.8888888888888888,\"#fdca26\"],[1.0,\"#f0f921\"]]}],\"contourcarpet\":[{\"type\":\"contourcarpet\",\"colorbar\":{\"outlinewidth\":0,\"ticks\":\"\"}}],\"contour\":[{\"type\":\"contour\",\"colorbar\":{\"outlinewidth\":0,\"ticks\":\"\"},\"colorscale\":[[0.0,\"#0d0887\"],[0.1111111111111111,\"#46039f\"],[0.2222222222222222,\"#7201a8\"],[0.3333333333333333,\"#9c179e\"],[0.4444444444444444,\"#bd3786\"],[0.5555555555555556,\"#d8576b\"],[0.6666666666666666,\"#ed7953\"],[0.7777777777777778,\"#fb9f3a\"],[0.8888888888888888,\"#fdca26\"],[1.0,\"#f0f921\"]]}],\"surface\":[{\"type\":\"surface\",\"colorbar\":{\"outlinewidth\":0,\"ticks\":\"\"},\"colorscale\":[[0.0,\"#0d0887\"],[0.1111111111111111,\"#46039f\"],[0.2222222222222222,\"#7201a8\"],[0.3333333333333333,\"#9c179e\"],[0.4444444444444444,\"#bd3786\"],[0.5555555555555556,\"#d8576b\"],[0.6666666666666666,\"#ed7953\"],[0.7777777777777778,\"#fb9f3a\"],[0.8888888888888888,\"#fdca26\"],[1.0,\"#f0f921\"]]}],\"mesh3d\":[{\"type\":\"mesh3d\",\"colorbar\":{\"outlinewidth\":0,\"ticks\":\"\"}}],\"scatter\":[{\"fillpattern\":{\"fillmode\":\"overlay\",\"size\":10,\"solidity\":0.2},\"type\":\"scatter\"}],\"parcoords\":[{\"type\":\"parcoords\",\"line\":{\"colorbar\":{\"outlinewidth\":0,\"ticks\":\"\"}}}],\"scatterpolargl\":[{\"type\":\"scatterpolargl\",\"marker\":{\"colorbar\":{\"outlinewidth\":0,\"ticks\":\"\"}}}],\"bar\":[{\"error_x\":{\"color\":\"#2a3f5f\"},\"error_y\":{\"color\":\"#2a3f5f\"},\"marker\":{\"line\":{\"color\":\"#E5ECF6\",\"width\":0.5},\"pattern\":{\"fillmode\":\"overlay\",\"size\":10,\"solidity\":0.2}},\"type\":\"bar\"}],\"scattergeo\":[{\"type\":\"scattergeo\",\"marker\":{\"colorbar\":{\"outlinewidth\":0,\"ticks\":\"\"}}}],\"scatterpolar\":[{\"type\":\"scatterpolar\",\"marker\":{\"colorbar\":{\"outlinewidth\":0,\"ticks\":\"\"}}}],\"histogram\":[{\"marker\":{\"pattern\":{\"fillmode\":\"overlay\",\"size\":10,\"solidity\":0.2}},\"type\":\"histogram\"}],\"scattergl\":[{\"type\":\"scattergl\",\"marker\":{\"colorbar\":{\"outlinewidth\":0,\"ticks\":\"\"}}}],\"scatter3d\":[{\"type\":\"scatter3d\",\"line\":{\"colorbar\":{\"outlinewidth\":0,\"ticks\":\"\"}},\"marker\":{\"colorbar\":{\"outlinewidth\":0,\"ticks\":\"\"}}}],\"scattermapbox\":[{\"type\":\"scattermapbox\",\"marker\":{\"colorbar\":{\"outlinewidth\":0,\"ticks\":\"\"}}}],\"scatterternary\":[{\"type\":\"scatterternary\",\"marker\":{\"colorbar\":{\"outlinewidth\":0,\"ticks\":\"\"}}}],\"scattercarpet\":[{\"type\":\"scattercarpet\",\"marker\":{\"colorbar\":{\"outlinewidth\":0,\"ticks\":\"\"}}}],\"carpet\":[{\"aaxis\":{\"endlinecolor\":\"#2a3f5f\",\"gridcolor\":\"white\",\"linecolor\":\"white\",\"minorgridcolor\":\"white\",\"startlinecolor\":\"#2a3f5f\"},\"baxis\":{\"endlinecolor\":\"#2a3f5f\",\"gridcolor\":\"white\",\"linecolor\":\"white\",\"minorgridcolor\":\"white\",\"startlinecolor\":\"#2a3f5f\"},\"type\":\"carpet\"}],\"table\":[{\"cells\":{\"fill\":{\"color\":\"#EBF0F8\"},\"line\":{\"color\":\"white\"}},\"header\":{\"fill\":{\"color\":\"#C8D4E3\"},\"line\":{\"color\":\"white\"}},\"type\":\"table\"}],\"barpolar\":[{\"marker\":{\"line\":{\"color\":\"#E5ECF6\",\"width\":0.5},\"pattern\":{\"fillmode\":\"overlay\",\"size\":10,\"solidity\":0.2}},\"type\":\"barpolar\"}],\"pie\":[{\"automargin\":true,\"type\":\"pie\"}]},\"layout\":{\"autotypenumbers\":\"strict\",\"colorway\":[\"#636efa\",\"#EF553B\",\"#00cc96\",\"#ab63fa\",\"#FFA15A\",\"#19d3f3\",\"#FF6692\",\"#B6E880\",\"#FF97FF\",\"#FECB52\"],\"font\":{\"color\":\"#2a3f5f\"},\"hovermode\":\"closest\",\"hoverlabel\":{\"align\":\"left\"},\"paper_bgcolor\":\"white\",\"plot_bgcolor\":\"#E5ECF6\",\"polar\":{\"bgcolor\":\"#E5ECF6\",\"angularaxis\":{\"gridcolor\":\"white\",\"linecolor\":\"white\",\"ticks\":\"\"},\"radialaxis\":{\"gridcolor\":\"white\",\"linecolor\":\"white\",\"ticks\":\"\"}},\"ternary\":{\"bgcolor\":\"#E5ECF6\",\"aaxis\":{\"gridcolor\":\"white\",\"linecolor\":\"white\",\"ticks\":\"\"},\"baxis\":{\"gridcolor\":\"white\",\"linecolor\":\"white\",\"ticks\":\"\"},\"caxis\":{\"gridcolor\":\"white\",\"linecolor\":\"white\",\"ticks\":\"\"}},\"coloraxis\":{\"colorbar\":{\"outlinewidth\":0,\"ticks\":\"\"}},\"colorscale\":{\"sequential\":[[0.0,\"#0d0887\"],[0.1111111111111111,\"#46039f\"],[0.2222222222222222,\"#7201a8\"],[0.3333333333333333,\"#9c179e\"],[0.4444444444444444,\"#bd3786\"],[0.5555555555555556,\"#d8576b\"],[0.6666666666666666,\"#ed7953\"],[0.7777777777777778,\"#fb9f3a\"],[0.8888888888888888,\"#fdca26\"],[1.0,\"#f0f921\"]],\"sequentialminus\":[[0.0,\"#0d0887\"],[0.1111111111111111,\"#46039f\"],[0.2222222222222222,\"#7201a8\"],[0.3333333333333333,\"#9c179e\"],[0.4444444444444444,\"#bd3786\"],[0.5555555555555556,\"#d8576b\"],[0.6666666666666666,\"#ed7953\"],[0.7777777777777778,\"#fb9f3a\"],[0.8888888888888888,\"#fdca26\"],[1.0,\"#f0f921\"]],\"diverging\":[[0,\"#8e0152\"],[0.1,\"#c51b7d\"],[0.2,\"#de77ae\"],[0.3,\"#f1b6da\"],[0.4,\"#fde0ef\"],[0.5,\"#f7f7f7\"],[0.6,\"#e6f5d0\"],[0.7,\"#b8e186\"],[0.8,\"#7fbc41\"],[0.9,\"#4d9221\"],[1,\"#276419\"]]},\"xaxis\":{\"gridcolor\":\"white\",\"linecolor\":\"white\",\"ticks\":\"\",\"title\":{\"standoff\":15},\"zerolinecolor\":\"white\",\"automargin\":true,\"zerolinewidth\":2},\"yaxis\":{\"gridcolor\":\"white\",\"linecolor\":\"white\",\"ticks\":\"\",\"title\":{\"standoff\":15},\"zerolinecolor\":\"white\",\"automargin\":true,\"zerolinewidth\":2},\"scene\":{\"xaxis\":{\"backgroundcolor\":\"#E5ECF6\",\"gridcolor\":\"white\",\"linecolor\":\"white\",\"showbackground\":true,\"ticks\":\"\",\"zerolinecolor\":\"white\",\"gridwidth\":2},\"yaxis\":{\"backgroundcolor\":\"#E5ECF6\",\"gridcolor\":\"white\",\"linecolor\":\"white\",\"showbackground\":true,\"ticks\":\"\",\"zerolinecolor\":\"white\",\"gridwidth\":2},\"zaxis\":{\"backgroundcolor\":\"#E5ECF6\",\"gridcolor\":\"white\",\"linecolor\":\"white\",\"showbackground\":true,\"ticks\":\"\",\"zerolinecolor\":\"white\",\"gridwidth\":2}},\"shapedefaults\":{\"line\":{\"color\":\"#2a3f5f\"}},\"annotationdefaults\":{\"arrowcolor\":\"#2a3f5f\",\"arrowhead\":0,\"arrowwidth\":1},\"geo\":{\"bgcolor\":\"white\",\"landcolor\":\"#E5ECF6\",\"subunitcolor\":\"white\",\"showland\":true,\"showlakes\":true,\"lakecolor\":\"white\"},\"title\":{\"x\":0.05},\"mapbox\":{\"style\":\"light\"}}},\"xaxis\":{\"title\":{\"text\":\"University Name\"},\"tickangle\":-45},\"yaxis\":{\"title\":{\"text\":\"Rank\"},\"range\":[0,400]},\"title\":{\"text\":\"Bar Chart of World Rankings for Saudi Arabian Universities\"},\"width\":1200,\"height\":800},                        {\"responsive\": true}                    ).then(function(){\n",
       "                            \n",
       "var gd = document.getElementById('ca30fe11-0c79-4335-b2c6-410e34c5172f');\n",
       "var x = new MutationObserver(function (mutations, observer) {{\n",
       "        var display = window.getComputedStyle(gd).display;\n",
       "        if (!display || display === 'none') {{\n",
       "            console.log([gd, 'removed!']);\n",
       "            Plotly.purge(gd);\n",
       "            observer.disconnect();\n",
       "        }}\n",
       "}});\n",
       "\n",
       "// Listen for the removal of the full notebook cells\n",
       "var notebookContainer = gd.closest('#notebook-container');\n",
       "if (notebookContainer) {{\n",
       "    x.observe(notebookContainer, {childList: true});\n",
       "}}\n",
       "\n",
       "// Listen for the clearing of the current output cell\n",
       "var outputEl = gd.closest('.output');\n",
       "if (outputEl) {{\n",
       "    x.observe(outputEl, {childList: true});\n",
       "}}\n",
       "\n",
       "                        })                };                });            </script>        </div>"
      ]
     },
     "metadata": {},
     "output_type": "display_data"
    }
   ],
   "source": [
    "import plotly.graph_objects as go\n",
    "\n",
    "# Filter data for Saudi Arabian universities\n",
    "result = arwu_df[arwu_df['Location'] == 'Saudi Arabia']\n",
    "\n",
    "# Create a bar chart\n",
    "fig = go.Figure()\n",
    "\n",
    "# Add bar trace for World Rank only\n",
    "fig.add_trace(\n",
    "    go.Bar(\n",
    "        x=result['University Name'],\n",
    "        y=result['World Rank'],\n",
    "        name='World Rank',\n",
    "        marker_color='lightblue',  # Use a lighter shade for better distinction\n",
    "        width=0.4  # Increase the width of the bars\n",
    "    )\n",
    ")\n",
    "\n",
    "# Update layout\n",
    "fig.update_layout(\n",
    "    title='Bar Chart of World Rankings for Saudi Arabian Universities',\n",
    "    xaxis_title='University Name',\n",
    "    yaxis_title='Rank',\n",
    "    xaxis_tickangle=-45,  # Rotate x-axis labels for better visibility\n",
    "    yaxis=dict(range=[0, 400]),  # Adjusted y-axis range\n",
    "    width=1200,\n",
    "    height=800,\n",
    ")\n",
    "\n",
    "fig.show()\n"
   ]
  },
  {
   "cell_type": "markdown",
   "id": "0d57c4b9-9bb3-494d-85dd-b8d39afda139",
   "metadata": {},
   "source": [
    "#### I. Categorical Variables:\n",
    "\n",
    "we’ll use frequency table to understand distribution of each category\n",
    "- Bar Chart (Ordinal) - Orderd\n",
    "- Pie Chart (Nominal) - non Orderd"
   ]
  },
  {
   "cell_type": "code",
   "execution_count": null,
   "id": "72ece4b7-5508-403a-8fb0-f519fc74272a",
   "metadata": {},
   "outputs": [],
   "source": []
  },
  {
   "cell_type": "markdown",
   "id": "d2641f0d-80f2-493b-99b7-15476379a1e2",
   "metadata": {},
   "source": [
    "#### II. Numerical Variables:\n",
    "\n",
    "we need to understand the central tendency and spread of the variable (Descriptive Analysis) using:\n",
    "   - Box plot\n",
    "   - Histogram"
   ]
  },
  {
   "cell_type": "code",
   "execution_count": null,
   "id": "5be16f08-a072-4a02-a3ee-6f9d57786fb4",
   "metadata": {},
   "outputs": [],
   "source": []
  },
  {
   "cell_type": "markdown",
   "id": "d66677d3-44ad-414f-9b39-f9c1995ad043",
   "metadata": {},
   "source": [
    "### 2. Univariate Non-Graphical analysis: \n",
    "\n",
    "- Where is the center of the data? (location) --> **Measures of central tendency**\n",
    "- How much does the data vary? (scale) --> **Measure of variability**\n",
    "- What is the shape of the data? (shape) --> **Measures of variation combined with an average (measure of center) gives a good picture of the distribution of the data.**"
   ]
  },
  {
   "cell_type": "code",
   "execution_count": null,
   "id": "f1058d84-e61e-4f5b-b66a-29931e77821b",
   "metadata": {},
   "outputs": [],
   "source": []
  },
  {
   "cell_type": "markdown",
   "id": "f09bb809-0edd-432b-bf23-abd0840b3e16",
   "metadata": {},
   "source": [
    "## 4. Bivariate/Multivariate Analysis:\n",
    "\n",
    "Here, you look at the relationships between two or more variables. This can involve looking for correlations, patterns, and trends that suggest a relationship or an association.\n",
    "\n",
    "We can perform bi-variate analysis for any combination of categorical and numerical variables. The combination can be:\n",
    "| bi-variate variables   | Plot type |\n",
    "| ------------- | ------------- |\n",
    "| Categorical & Categorical| Stacked Bar Chart |\n",
    "| Categorical & numerical  | scatter plot, histogram, box plot|\n",
    "| numerical  & numerical  | Scatter plot, line chart| \n",
    "\n",
    "\n",
    "Multivariate Analysis:\n",
    "- Heat map\n",
    "- Bar Chart\n",
    "- Scatter Chart\n",
    "- Line Chart"
   ]
  },
  {
   "cell_type": "markdown",
   "id": "838f2864-ce9e-4f15-99c8-052d053154a7",
   "metadata": {},
   "source": [
    "**Categorical & Categorical --> (Stacked Column Chart)**"
   ]
  },
  {
   "cell_type": "code",
   "execution_count": null,
   "id": "73f9f2ac-8477-49ea-9c68-4fe44d4395b6",
   "metadata": {},
   "outputs": [],
   "source": []
  },
  {
   "cell_type": "markdown",
   "id": "730e088f-fe13-40da-8fbb-686f5135fa4d",
   "metadata": {},
   "source": [
    "**Categorical & numerical --> (scatter plot, histogram, box plot)**"
   ]
  },
  {
   "cell_type": "code",
   "execution_count": null,
   "id": "3590e345-2051-4215-91ac-07d196b510ef",
   "metadata": {},
   "outputs": [],
   "source": []
  },
  {
   "cell_type": "markdown",
   "id": "20aed48d-b78e-46da-963f-e7f15e2f4dc7",
   "metadata": {},
   "source": [
    "**numerical & numerical --> (Scatter plot, line chart)**"
   ]
  },
  {
   "cell_type": "code",
   "execution_count": null,
   "id": "41023177-01cb-4f39-a750-12be71b13bda",
   "metadata": {},
   "outputs": [],
   "source": []
  },
  {
   "cell_type": "markdown",
   "id": "efb43b30-b1f0-48a4-a19c-195810cc8a0f",
   "metadata": {},
   "source": [
    "We could also use a correlation matrix to get more specific information about the relationship between these two variables."
   ]
  },
  {
   "cell_type": "code",
   "execution_count": null,
   "id": "8406f58f-b825-4a15-8f6e-c68ca66bd483",
   "metadata": {},
   "outputs": [],
   "source": []
  }
 ],
 "metadata": {
  "kernelspec": {
   "display_name": "Python 3 (ipykernel)",
   "language": "python",
   "name": "python3"
  },
  "language_info": {
   "codemirror_mode": {
    "name": "ipython",
    "version": 3
   },
   "file_extension": ".py",
   "mimetype": "text/x-python",
   "name": "python",
   "nbconvert_exporter": "python",
   "pygments_lexer": "ipython3",
   "version": "3.12.4"
  }
 },
 "nbformat": 4,
 "nbformat_minor": 5
}
