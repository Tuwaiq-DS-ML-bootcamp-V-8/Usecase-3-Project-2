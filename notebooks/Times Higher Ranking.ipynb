{
 "cells": [
  {
   "cell_type": "code",
   "execution_count": 5,
   "metadata": {},
   "outputs": [],
   "source": [
    "#Import all relevant libraries\n",
    "import numpy as np\n",
    "import pandas as pd\n",
    "import matplotlib.pyplot as plt\n",
    "import seaborn as sns\n",
    "from scipy.stats import zscore\n",
    "import plotly.express as px\n",
    " \n",
    "## This statement allows the visuals to render within your Jupyter Notebook.\n",
    "%matplotlib inline"
   ]
  },
  {
   "cell_type": "markdown",
   "metadata": {},
   "source": [
    "## Loading the data\n",
    "We can now load the dataset into pandas using the read_csv() function. This converts the CSV file into a Pandas dataframe."
   ]
  },
  {
   "cell_type": "code",
   "execution_count": 6,
   "metadata": {},
   "outputs": [],
   "source": [
    "#Read in the csv file and convert to a Pandas dataframe\n",
    "arwu_df = pd.read_excel('../data/shanghai Ranking.xlsx')\n",
    "the_df = pd.read_excel('../data/Times Higher Education.xlsx')\n",
    "cwur_df = pd.read_excel('../data/World Rank University.xlsx')"
   ]
  },
  {
   "cell_type": "markdown",
   "metadata": {},
   "source": [
    "## 1. Data Profiling:\n",
    "Data profiling is a comprehensive process of examining the data available in an existing dataset and collecting statistics and information about that data. "
   ]
  },
  {
   "cell_type": "code",
   "execution_count": 7,
   "metadata": {},
   "outputs": [
    {
     "data": {
      "text/html": [
       "<div>\n",
       "<style scoped>\n",
       "    .dataframe tbody tr th:only-of-type {\n",
       "        vertical-align: middle;\n",
       "    }\n",
       "\n",
       "    .dataframe tbody tr th {\n",
       "        vertical-align: top;\n",
       "    }\n",
       "\n",
       "    .dataframe thead th {\n",
       "        text-align: right;\n",
       "    }\n",
       "</style>\n",
       "<table border=\"1\" class=\"dataframe\">\n",
       "  <thead>\n",
       "    <tr style=\"text-align: right;\">\n",
       "      <th></th>\n",
       "      <th>sdg-score-multi__number</th>\n",
       "      <th>sdg-score-multi__number 2</th>\n",
       "      <th>sdg-score-multi__number 3</th>\n",
       "      <th>sdg-score-multi__number 5</th>\n",
       "      <th>sdg-score-multi__number 6</th>\n",
       "      <th>sdg-score-multi__number 7</th>\n",
       "      <th>sdg-score-multi__number 8</th>\n",
       "    </tr>\n",
       "  </thead>\n",
       "  <tbody>\n",
       "    <tr>\n",
       "      <th>count</th>\n",
       "      <td>867.000000</td>\n",
       "      <td>826.000000</td>\n",
       "      <td>812.000000</td>\n",
       "      <td>565.000000</td>\n",
       "      <td>498.000000</td>\n",
       "      <td>439.000000</td>\n",
       "      <td>483.000000</td>\n",
       "    </tr>\n",
       "    <tr>\n",
       "      <th>mean</th>\n",
       "      <td>8.193772</td>\n",
       "      <td>8.446731</td>\n",
       "      <td>7.902709</td>\n",
       "      <td>5.488496</td>\n",
       "      <td>6.777108</td>\n",
       "      <td>7.596811</td>\n",
       "      <td>5.962733</td>\n",
       "    </tr>\n",
       "    <tr>\n",
       "      <th>std</th>\n",
       "      <td>4.240660</td>\n",
       "      <td>4.786111</td>\n",
       "      <td>4.403411</td>\n",
       "      <td>3.151375</td>\n",
       "      <td>3.230968</td>\n",
       "      <td>4.278980</td>\n",
       "      <td>3.346928</td>\n",
       "    </tr>\n",
       "    <tr>\n",
       "      <th>min</th>\n",
       "      <td>1.000000</td>\n",
       "      <td>1.000000</td>\n",
       "      <td>1.000000</td>\n",
       "      <td>1.000000</td>\n",
       "      <td>1.000000</td>\n",
       "      <td>1.000000</td>\n",
       "      <td>3.000000</td>\n",
       "    </tr>\n",
       "    <tr>\n",
       "      <th>25%</th>\n",
       "      <td>4.000000</td>\n",
       "      <td>4.000000</td>\n",
       "      <td>5.000000</td>\n",
       "      <td>3.000000</td>\n",
       "      <td>4.000000</td>\n",
       "      <td>4.000000</td>\n",
       "      <td>4.000000</td>\n",
       "    </tr>\n",
       "    <tr>\n",
       "      <th>50%</th>\n",
       "      <td>9.000000</td>\n",
       "      <td>8.000000</td>\n",
       "      <td>8.000000</td>\n",
       "      <td>5.000000</td>\n",
       "      <td>6.000000</td>\n",
       "      <td>7.000000</td>\n",
       "      <td>4.000000</td>\n",
       "    </tr>\n",
       "    <tr>\n",
       "      <th>75%</th>\n",
       "      <td>11.000000</td>\n",
       "      <td>12.000000</td>\n",
       "      <td>11.000000</td>\n",
       "      <td>8.000000</td>\n",
       "      <td>8.000000</td>\n",
       "      <td>10.000000</td>\n",
       "      <td>7.000000</td>\n",
       "    </tr>\n",
       "    <tr>\n",
       "      <th>max</th>\n",
       "      <td>16.000000</td>\n",
       "      <td>16.000000</td>\n",
       "      <td>16.000000</td>\n",
       "      <td>16.000000</td>\n",
       "      <td>16.000000</td>\n",
       "      <td>16.000000</td>\n",
       "      <td>16.000000</td>\n",
       "    </tr>\n",
       "  </tbody>\n",
       "</table>\n",
       "</div>"
      ],
      "text/plain": [
       "       sdg-score-multi__number  sdg-score-multi__number 2  \\\n",
       "count               867.000000                 826.000000   \n",
       "mean                  8.193772                   8.446731   \n",
       "std                   4.240660                   4.786111   \n",
       "min                   1.000000                   1.000000   \n",
       "25%                   4.000000                   4.000000   \n",
       "50%                   9.000000                   8.000000   \n",
       "75%                  11.000000                  12.000000   \n",
       "max                  16.000000                  16.000000   \n",
       "\n",
       "       sdg-score-multi__number 3  sdg-score-multi__number 5  \\\n",
       "count                 812.000000                 565.000000   \n",
       "mean                    7.902709                   5.488496   \n",
       "std                     4.403411                   3.151375   \n",
       "min                     1.000000                   1.000000   \n",
       "25%                     5.000000                   3.000000   \n",
       "50%                     8.000000                   5.000000   \n",
       "75%                    11.000000                   8.000000   \n",
       "max                    16.000000                  16.000000   \n",
       "\n",
       "       sdg-score-multi__number 6  sdg-score-multi__number 7  \\\n",
       "count                 498.000000                 439.000000   \n",
       "mean                    6.777108                   7.596811   \n",
       "std                     3.230968                   4.278980   \n",
       "min                     1.000000                   1.000000   \n",
       "25%                     4.000000                   4.000000   \n",
       "50%                     6.000000                   7.000000   \n",
       "75%                     8.000000                  10.000000   \n",
       "max                    16.000000                  16.000000   \n",
       "\n",
       "       sdg-score-multi__number 8  \n",
       "count                 483.000000  \n",
       "mean                    5.962733  \n",
       "std                     3.346928  \n",
       "min                     3.000000  \n",
       "25%                     4.000000  \n",
       "50%                     4.000000  \n",
       "75%                     7.000000  \n",
       "max                    16.000000  "
      ]
     },
     "execution_count": 7,
     "metadata": {},
     "output_type": "execute_result"
    }
   ],
   "source": [
    "the_df.describe()"
   ]
  },
  {
   "cell_type": "markdown",
   "metadata": {},
   "source": [
    "The process of profiling differs slightly for categorical and numerical variables due to their inherent differences.\n",
    "\n",
    "**The two main types of data are:**\n",
    "- Quantitative (numerical) data\n",
    "- Qualitative (categorical) data"
   ]
  },
  {
   "cell_type": "markdown",
   "metadata": {},
   "source": [
    "### Data Quality Checks\n",
    "Data quality checks involve the process of ensuring that the data is accurate, complete, consistent, relevant, and reliable. \n",
    "\n",
    "\n",
    "**Here are typical steps involved in checking data quality:**"
   ]
  },
  {
   "cell_type": "markdown",
   "metadata": {},
   "source": [
    "#### 1. Reliability:\n",
    "Evaluate the data's source and collection process to determine its trustworthiness."
   ]
  },
  {
   "cell_type": "code",
   "execution_count": 8,
   "metadata": {},
   "outputs": [
    {
     "data": {
      "text/plain": [
       "'\\nData Source: The data appears to be sourced from Times Higher Education, \\nwhich is a well-known and reputable organization for university rankings. This enhances its trustworthiness.\\nCollection Process: The sustainability scores (e.g., SDG scores) suggest a detailed methodology, \\nbut verifying the original data collection process from THE (e.g., which SDGs were evaluated and how the scores were calculated) would ensure reliability.\\n'"
      ]
     },
     "execution_count": 8,
     "metadata": {},
     "output_type": "execute_result"
    }
   ],
   "source": [
    "\"\"\"\n",
    "Data Source: The data appears to be sourced from Times Higher Education, \n",
    "which is a well-known and reputable organization for university rankings. This enhances its trustworthiness.\n",
    "Collection Process: The sustainability scores (e.g., SDG scores) suggest a detailed methodology, \n",
    "but verifying the original data collection process from THE (e.g., which SDGs were evaluated and how the scores were calculated) would ensure reliability.\n",
    "\"\"\""
   ]
  },
  {
   "cell_type": "markdown",
   "metadata": {},
   "source": [
    "#### 2. Timeliness: \n",
    "Ensure the data is up-to-date and reflective of the current situation or the period of interest for the analysis."
   ]
  },
  {
   "cell_type": "code",
   "execution_count": 9,
   "metadata": {},
   "outputs": [
    {
     "data": {
      "text/plain": [
       "\"\\nThe dataset doesn't include a specific timestamp, but the problem statement didn't require time-based analysis.\\n\""
      ]
     },
     "execution_count": 9,
     "metadata": {},
     "output_type": "execute_result"
    }
   ],
   "source": [
    "\"\"\"\n",
    "The dataset doesn't include a specific timestamp, but the problem statement didn't require time-based analysis.\n",
    "\"\"\""
   ]
  },
  {
   "cell_type": "markdown",
   "metadata": {},
   "source": [
    "#### 3. Consistency: \n",
    "\n",
    "Confirm that the data is consistent within the dataset and across multiple data sources. For example, the same data point should not have different values in different places.\n"
   ]
  },
  {
   "cell_type": "code",
   "execution_count": 10,
   "metadata": {},
   "outputs": [
    {
     "data": {
      "text/plain": [
       "'\\nTo ensure consistency, we will compare universities that appear across multiple datasets.\\nFor example, if Harvard University ranks 1st in the Shanghai Ranking, we will check if it holds a similar position in the other datasets.\\nAny discrepancies, such as differing values for the same university, will need to be identified and addressed.\\n'"
      ]
     },
     "execution_count": 10,
     "metadata": {},
     "output_type": "execute_result"
    }
   ],
   "source": [
    "\"\"\"\n",
    "To ensure consistency, we will compare universities that appear across multiple datasets.\n",
    "For example, if Harvard University ranks 1st in the Shanghai Ranking, we will check if it holds a similar position in the other datasets.\n",
    "Any discrepancies, such as differing values for the same university, will need to be identified and addressed.\n",
    "\"\"\""
   ]
  },
  {
   "cell_type": "markdown",
   "metadata": {},
   "source": [
    "#### 4. Relevance: \n",
    "Assess whether the data is appropriate and applicable for the intended analysis. Data that is not relevant can skew results and lead to incorrect conclusions.\n",
    "\n",
    "**Key considerations for relevance include:**\n",
    "\n",
    "> 1. Sample Appropriateness: Confirm that your data sample aligns with your analysis objectives. For instance, utilizing data from the Northern region will not yield accurate insights for the Western region of the Kingdom.\n",
    ">\n",
    "> 2. Variable Selection: Any column will not be relevant for our analysis, we can get rid of these using the drop() method. We will set the “axis” argument to 1 since we’re dealing with columns, and set the “inplace” argument to True to make the change permanent.\n"
   ]
  },
  {
   "cell_type": "code",
   "execution_count": 11,
   "metadata": {},
   "outputs": [
    {
     "data": {
      "text/plain": [
       "'\\nThe data appears relevant for our university ranking analysis, \\nbut we need to ensure that the variables included align with our analysis objectives. For instance, \\nif we are focusing on academic performance, we might need to remove columns related to SDG scores, \\nwhich may not be directly relevant. Additionally, we must confirm that the geographic focus of the rankings fits our needs.\\n'"
      ]
     },
     "execution_count": 11,
     "metadata": {},
     "output_type": "execute_result"
    }
   ],
   "source": [
    "\"\"\"\n",
    "The data appears relevant for our university ranking analysis, \n",
    "but we need to ensure that the variables included align with our analysis objectives. For instance, \n",
    "if we are focusing on academic performance, we might need to remove columns related to SDG scores, \n",
    "which may not be directly relevant. Additionally, we must confirm that the geographic focus of the rankings fits our needs.\n",
    "\"\"\""
   ]
  },
  {
   "cell_type": "markdown",
   "metadata": {},
   "source": [
    "#### 5. Uniqueness: \n",
    "Check for and remove duplicate records to prevent skewed analysis results.\n"
   ]
  },
  {
   "cell_type": "code",
   "execution_count": 12,
   "metadata": {},
   "outputs": [
    {
     "data": {
      "text/plain": [
       "'\\nWe will need to check for and remove any duplicate entries. \\nSince universities might be listed under slightly different names, \\nensuring uniqueness will be important to avoid skewing the results.\\n'"
      ]
     },
     "execution_count": 12,
     "metadata": {},
     "output_type": "execute_result"
    }
   ],
   "source": [
    "\"\"\"\n",
    "We will need to check for and remove any duplicate entries. \n",
    "Since universities might be listed under slightly different names, \n",
    "ensuring uniqueness will be important to avoid skewing the results.\n",
    "\"\"\""
   ]
  },
  {
   "cell_type": "code",
   "execution_count": 13,
   "metadata": {},
   "outputs": [],
   "source": [
    "# go to delete duplicates columns"
   ]
  },
  {
   "cell_type": "markdown",
   "metadata": {},
   "source": [
    "#### 6. Completeness: \n",
    "Ensure that no critical data is missing. This might mean checking for null values or required fields that are empty.\n",
    "\n",
    "We will start by checking the dataset for missing or null values. For this, we can use the isna() method which returns a dataframe of boolean values indicating if a field is null or not. To group all missing values by column, we can include the sum() method."
   ]
  },
  {
   "cell_type": "code",
   "execution_count": 14,
   "metadata": {},
   "outputs": [
    {
     "data": {
      "text/plain": [
       "'\\nThe Times Higher Education dataset contains missing values in some SDG-related columns. \\nWe will assess how significant these missing values are and determine whether they impact our analysis. \\nThe other datasets appear more complete, but we will still perform a full check to ensure that no critical data is missing.\\n'"
      ]
     },
     "execution_count": 14,
     "metadata": {},
     "output_type": "execute_result"
    }
   ],
   "source": [
    "\"\"\"\n",
    "The Times Higher Education dataset contains missing values in some SDG-related columns. \n",
    "We will assess how significant these missing values are and determine whether they impact our analysis. \n",
    "The other datasets appear more complete, but we will still perform a full check to ensure that no critical data is missing.\n",
    "\"\"\""
   ]
  },
  {
   "cell_type": "code",
   "execution_count": 15,
   "metadata": {},
   "outputs": [],
   "source": [
    "# go to clean them "
   ]
  },
  {
   "cell_type": "markdown",
   "metadata": {},
   "source": [
    "#### 7. Check Accuracy:\n",
    "\n",
    "Verify that the data is correct and precise. This could involve comparing data samples with known sources or using validation rules.\n",
    "\n",
    "**The process includes:**\n",
    "1. Validating the appropriateness of data types for the dataset.\n",
    "2. Identifying outliers  using established validation  rule"
   ]
  },
  {
   "cell_type": "code",
   "execution_count": 16,
   "metadata": {},
   "outputs": [
    {
     "data": {
      "text/plain": [
       "'\\nTo ensure accuracy, we will validate key entries by comparing them with publicly available rankings or other trusted sources. \\nAdditionally, we will confirm that the data types are appropriate (e.g., numeric fields are truly numeric, and rankings are integers). \\nAny outliers or unexpected values will be investigated to ensure they are not errors.\\n'"
      ]
     },
     "execution_count": 16,
     "metadata": {},
     "output_type": "execute_result"
    }
   ],
   "source": [
    "\"\"\"\n",
    "To ensure accuracy, we will validate key entries by comparing them with publicly available rankings or other trusted sources. \n",
    "Additionally, we will confirm that the data types are appropriate (e.g., numeric fields are truly numeric, and rankings are integers). \n",
    "Any outliers or unexpected values will be investigated to ensure they are not errors.\n",
    "\"\"\""
   ]
  },
  {
   "cell_type": "code",
   "execution_count": null,
   "metadata": {},
   "outputs": [],
   "source": []
  },
  {
   "cell_type": "code",
   "execution_count": 17,
   "metadata": {},
   "outputs": [],
   "source": [
    "# Remove any leading or trailing spaces from the column names in the DataFrame\n",
    "the_df.columns = the_df.columns.str.strip()\n"
   ]
  },
  {
   "cell_type": "code",
   "execution_count": 18,
   "metadata": {},
   "outputs": [],
   "source": [
    "# There is some values that have been placed in the wrong columns, so we need to fix this\n",
    "# But first we need to add a new column between 'sdg-score-multi__value 3' & 'sdg-score-multi__value 4'\n",
    "# and give it a value of 17 for the entire column because it's missing from the data provided\n",
    "# see more https://www.timeshighereducation.com/impactrankings#\n",
    "\n",
    "\n",
    "the_df.insert(the_df.columns.get_loc('sdg-score-multi__value 4'), 'sdg-score-multi__number 4', 17)"
   ]
  },
  {
   "cell_type": "code",
   "execution_count": 19,
   "metadata": {},
   "outputs": [],
   "source": [
    "# Drop the column 'ranking-institution-title href' because it's not needed for this analysis given that it's an official link to the institution\n",
    "the_df.drop('ranking-institution-title href', axis=1, inplace=True)"
   ]
  },
  {
   "cell_type": "code",
   "execution_count": 20,
   "metadata": {},
   "outputs": [
    {
     "data": {
      "text/plain": [
       "(25, 20)"
      ]
     },
     "execution_count": 20,
     "metadata": {},
     "output_type": "execute_result"
    }
   ],
   "source": [
    "the_df[the_df['Location'] == 'Saudi Arabia'].shape"
   ]
  },
  {
   "cell_type": "code",
   "execution_count": 21,
   "metadata": {},
   "outputs": [
    {
     "data": {
      "text/plain": [
       "Rank                                             1001+\n",
       "University Name              University of Puthisastra\n",
       "Location                                      Cambodia\n",
       "sdg-score-multi__number                            NaN\n",
       "sdg-score-multi__value                             NaN\n",
       "sdg-score-multi__number 2                          8.0\n",
       "sdg-score-multi__value 2                     35.7–48.3\n",
       "sdg-score-multi__number 3                          NaN\n",
       "sdg-score-multi__value 3                           NaN\n",
       "sdg-score-multi__number 4                           17\n",
       "sdg-score-multi__value 4                      1.5–45.2\n",
       "scores                                        7.9–53.8\n",
       "sdg-score-multi__number 5                          NaN\n",
       "sdg-score-multi__value 5                           NaN\n",
       "sdg-score-multi__number 6                          NaN\n",
       "sdg-score-multi__value 6                           NaN\n",
       "sdg-score-multi__number 7                          NaN\n",
       "sdg-score-multi__value 7                           NaN\n",
       "sdg-score-multi__number 8                         16.0\n",
       "sdg-score-multi__value 8                     29.1–45.0\n",
       "Name: 1407, dtype: object"
      ]
     },
     "execution_count": 21,
     "metadata": {},
     "output_type": "execute_result"
    }
   ],
   "source": [
    "# A sample that if we merged the dataframes, we would have missing values even with the \n",
    "the_df.iloc[ 1407 ,  : ]\n"
   ]
  },
  {
   "cell_type": "markdown",
   "metadata": {},
   "source": [
    "![image-2.png](attachment:image-2.png)"
   ]
  },
  {
   "cell_type": "code",
   "execution_count": 22,
   "metadata": {},
   "outputs": [
    {
     "data": {
      "text/plain": [
       "Rank                                                             1001+\n",
       "University Name              Transport and Telecommunication Institute\n",
       "Location                                                        Latvia\n",
       "sdg-score-multi__number                                            NaN\n",
       "sdg-score-multi__value                                             NaN\n",
       "sdg-score-multi__number 2                                          NaN\n",
       "sdg-score-multi__value 2                                           NaN\n",
       "sdg-score-multi__number 3                                          NaN\n",
       "sdg-score-multi__value 3                                           NaN\n",
       "sdg-score-multi__number 4                                           17\n",
       "sdg-score-multi__value 4                                      1.5–45.2\n",
       "scores                                                        7.9–53.8\n",
       "sdg-score-multi__number 5                                          8.0\n",
       "sdg-score-multi__value 5                                     35.7–48.3\n",
       "sdg-score-multi__number 6                                          NaN\n",
       "sdg-score-multi__value 6                                           NaN\n",
       "sdg-score-multi__number 7                                          NaN\n",
       "sdg-score-multi__value 7                                           NaN\n",
       "sdg-score-multi__number 8                                          5.0\n",
       "sdg-score-multi__value 8                                     34.4–43.6\n",
       "Name: 1528, dtype: object"
      ]
     },
     "execution_count": 22,
     "metadata": {},
     "output_type": "execute_result"
    }
   ],
   "source": [
    "# A sample that if we merged the dataframes, we would have missing values & wrong values\n",
    "the_df.iloc[ 1528 ,  : ]"
   ]
  },
  {
   "cell_type": "markdown",
   "metadata": {},
   "source": [
    "![image.png](attachment:image.png)"
   ]
  },
  {
   "cell_type": "code",
   "execution_count": 23,
   "metadata": {},
   "outputs": [],
   "source": [
    "#First we will extract the columns that are supposed to have the missing values\n",
    "the_df_1 = the_df.loc[ : ,'sdg-score-multi__number' : 'sdg-score-multi__value 4']"
   ]
  },
  {
   "cell_type": "code",
   "execution_count": 24,
   "metadata": {},
   "outputs": [],
   "source": [
    "#Then we will extract the columns that have the missing values\n",
    "the_df_2 = the_df.loc[ : ,'sdg-score-multi__number 5' : ]"
   ]
  },
  {
   "cell_type": "code",
   "execution_count": 25,
   "metadata": {},
   "outputs": [],
   "source": [
    "\"\"\"\n",
    "Function to replace NaN values in the first dataframe using values from the second dataframe row by row.\n",
    "It checks each element in the first dataframe and replaces NaN values with the first available non-NaN value \n",
    "from the corresponding row in the second dataframe, proceeding in order from left to right. After using a value \n",
    "from the second dataframe, it is marked as NaN to ensure it isn't reused in the same row.\n",
    "\"\"\"\n",
    "def replace_nan_sequentially(df1, df2):\n",
    "    combined_df = df1.copy()  # Start with the first dataframe\n",
    "    for i in range(len(combined_df)):\n",
    "        # Iterate over the columns in df1 for each row\n",
    "        for j in range(len(combined_df.columns)):\n",
    "            if pd.isna(combined_df.iloc[i, j]):  # If the value is NaN\n",
    "                # Find the first non-NaN value from df2 in the corresponding row\n",
    "                replacement_value = df2.iloc[i].dropna().values\n",
    "                if len(replacement_value) > 0:\n",
    "                    combined_df.iloc[i, j] = replacement_value[0]\n",
    "                    df2.iloc[i] = df2.iloc[i].apply(lambda x: np.nan if x == replacement_value[0] else x)\n",
    "    return combined_df"
   ]
  },
  {
   "cell_type": "code",
   "execution_count": 26,
   "metadata": {},
   "outputs": [
    {
     "data": {
      "text/html": [
       "<div>\n",
       "<style scoped>\n",
       "    .dataframe tbody tr th:only-of-type {\n",
       "        vertical-align: middle;\n",
       "    }\n",
       "\n",
       "    .dataframe tbody tr th {\n",
       "        vertical-align: top;\n",
       "    }\n",
       "\n",
       "    .dataframe thead th {\n",
       "        text-align: right;\n",
       "    }\n",
       "</style>\n",
       "<table border=\"1\" class=\"dataframe\">\n",
       "  <thead>\n",
       "    <tr style=\"text-align: right;\">\n",
       "      <th></th>\n",
       "      <th>sdg-score-multi__number</th>\n",
       "      <th>sdg-score-multi__value</th>\n",
       "      <th>sdg-score-multi__number 2</th>\n",
       "      <th>sdg-score-multi__value 2</th>\n",
       "      <th>sdg-score-multi__number 3</th>\n",
       "      <th>sdg-score-multi__value 3</th>\n",
       "      <th>sdg-score-multi__number 4</th>\n",
       "      <th>sdg-score-multi__value 4</th>\n",
       "    </tr>\n",
       "  </thead>\n",
       "  <tbody>\n",
       "    <tr>\n",
       "      <th>557</th>\n",
       "      <td>NaN</td>\n",
       "      <td>NaN</td>\n",
       "      <td>NaN</td>\n",
       "      <td>NaN</td>\n",
       "      <td>NaN</td>\n",
       "      <td>NaN</td>\n",
       "      <td>17</td>\n",
       "      <td>75.6–81.7</td>\n",
       "    </tr>\n",
       "    <tr>\n",
       "      <th>1528</th>\n",
       "      <td>NaN</td>\n",
       "      <td>NaN</td>\n",
       "      <td>NaN</td>\n",
       "      <td>NaN</td>\n",
       "      <td>NaN</td>\n",
       "      <td>NaN</td>\n",
       "      <td>17</td>\n",
       "      <td>1.5–45.2</td>\n",
       "    </tr>\n",
       "    <tr>\n",
       "      <th>1175</th>\n",
       "      <td>NaN</td>\n",
       "      <td>NaN</td>\n",
       "      <td>1.0</td>\n",
       "      <td>23.3–38.1</td>\n",
       "      <td>3.0</td>\n",
       "      <td>1.0–32.0</td>\n",
       "      <td>17</td>\n",
       "      <td>1.5–45.2</td>\n",
       "    </tr>\n",
       "    <tr>\n",
       "      <th>379</th>\n",
       "      <td>NaN</td>\n",
       "      <td>NaN</td>\n",
       "      <td>2.0</td>\n",
       "      <td>75.8</td>\n",
       "      <td>8.0</td>\n",
       "      <td>62.4–66.3</td>\n",
       "      <td>17</td>\n",
       "      <td>70.6–75.5</td>\n",
       "    </tr>\n",
       "    <tr>\n",
       "      <th>530</th>\n",
       "      <td>9.0</td>\n",
       "      <td>73.0–87.2</td>\n",
       "      <td>NaN</td>\n",
       "      <td>NaN</td>\n",
       "      <td>5.0</td>\n",
       "      <td>56.1–61.4</td>\n",
       "      <td>17</td>\n",
       "      <td>53.4–61.0</td>\n",
       "    </tr>\n",
       "  </tbody>\n",
       "</table>\n",
       "</div>"
      ],
      "text/plain": [
       "      sdg-score-multi__number sdg-score-multi__value  \\\n",
       "557                       NaN                    NaN   \n",
       "1528                      NaN                    NaN   \n",
       "1175                      NaN                    NaN   \n",
       "379                       NaN                    NaN   \n",
       "530                       9.0              73.0–87.2   \n",
       "\n",
       "      sdg-score-multi__number 2 sdg-score-multi__value 2  \\\n",
       "557                         NaN                      NaN   \n",
       "1528                        NaN                      NaN   \n",
       "1175                        1.0                23.3–38.1   \n",
       "379                         2.0                     75.8   \n",
       "530                         NaN                      NaN   \n",
       "\n",
       "      sdg-score-multi__number 3 sdg-score-multi__value 3  \\\n",
       "557                         NaN                      NaN   \n",
       "1528                        NaN                      NaN   \n",
       "1175                        3.0                 1.0–32.0   \n",
       "379                         8.0                62.4–66.3   \n",
       "530                         5.0                56.1–61.4   \n",
       "\n",
       "      sdg-score-multi__number 4 sdg-score-multi__value 4  \n",
       "557                          17                75.6–81.7  \n",
       "1528                         17                 1.5–45.2  \n",
       "1175                         17                 1.5–45.2  \n",
       "379                          17                70.6–75.5  \n",
       "530                          17                53.4–61.0  "
      ]
     },
     "execution_count": 26,
     "metadata": {},
     "output_type": "execute_result"
    }
   ],
   "source": [
    "#Testing the function to see if it works\n",
    "the_df_1.sample(5, random_state=20)"
   ]
  },
  {
   "cell_type": "code",
   "execution_count": 27,
   "metadata": {},
   "outputs": [
    {
     "data": {
      "text/html": [
       "<div>\n",
       "<style scoped>\n",
       "    .dataframe tbody tr th:only-of-type {\n",
       "        vertical-align: middle;\n",
       "    }\n",
       "\n",
       "    .dataframe tbody tr th {\n",
       "        vertical-align: top;\n",
       "    }\n",
       "\n",
       "    .dataframe thead th {\n",
       "        text-align: right;\n",
       "    }\n",
       "</style>\n",
       "<table border=\"1\" class=\"dataframe\">\n",
       "  <thead>\n",
       "    <tr style=\"text-align: right;\">\n",
       "      <th></th>\n",
       "      <th>sdg-score-multi__number 5</th>\n",
       "      <th>sdg-score-multi__value 5</th>\n",
       "      <th>sdg-score-multi__number 6</th>\n",
       "      <th>sdg-score-multi__value 6</th>\n",
       "      <th>sdg-score-multi__number 7</th>\n",
       "      <th>sdg-score-multi__value 7</th>\n",
       "      <th>sdg-score-multi__number 8</th>\n",
       "      <th>sdg-score-multi__value 8</th>\n",
       "    </tr>\n",
       "  </thead>\n",
       "  <tbody>\n",
       "    <tr>\n",
       "      <th>557</th>\n",
       "      <td>NaN</td>\n",
       "      <td>NaN</td>\n",
       "      <td>4.0</td>\n",
       "      <td>62.6–66.5</td>\n",
       "      <td>5.0</td>\n",
       "      <td>56.1–61.4</td>\n",
       "      <td>16.0</td>\n",
       "      <td>63.7–69.9</td>\n",
       "    </tr>\n",
       "    <tr>\n",
       "      <th>1528</th>\n",
       "      <td>8.0</td>\n",
       "      <td>35.7–48.3</td>\n",
       "      <td>NaN</td>\n",
       "      <td>NaN</td>\n",
       "      <td>NaN</td>\n",
       "      <td>NaN</td>\n",
       "      <td>5.0</td>\n",
       "      <td>34.4–43.6</td>\n",
       "    </tr>\n",
       "    <tr>\n",
       "      <th>1175</th>\n",
       "      <td>11.0</td>\n",
       "      <td>20.9–38.4</td>\n",
       "      <td>NaN</td>\n",
       "      <td>NaN</td>\n",
       "      <td>NaN</td>\n",
       "      <td>NaN</td>\n",
       "      <td>NaN</td>\n",
       "      <td>NaN</td>\n",
       "    </tr>\n",
       "    <tr>\n",
       "      <th>379</th>\n",
       "      <td>NaN</td>\n",
       "      <td>NaN</td>\n",
       "      <td>NaN</td>\n",
       "      <td>NaN</td>\n",
       "      <td>16.0</td>\n",
       "      <td>70.0–77.0</td>\n",
       "      <td>NaN</td>\n",
       "      <td>NaN</td>\n",
       "    </tr>\n",
       "    <tr>\n",
       "      <th>530</th>\n",
       "      <td>NaN</td>\n",
       "      <td>NaN</td>\n",
       "      <td>NaN</td>\n",
       "      <td>NaN</td>\n",
       "      <td>3.0</td>\n",
       "      <td>68.3–73.4</td>\n",
       "      <td>NaN</td>\n",
       "      <td>NaN</td>\n",
       "    </tr>\n",
       "  </tbody>\n",
       "</table>\n",
       "</div>"
      ],
      "text/plain": [
       "      sdg-score-multi__number 5 sdg-score-multi__value 5  \\\n",
       "557                         NaN                      NaN   \n",
       "1528                        8.0                35.7–48.3   \n",
       "1175                       11.0                20.9–38.4   \n",
       "379                         NaN                      NaN   \n",
       "530                         NaN                      NaN   \n",
       "\n",
       "      sdg-score-multi__number 6 sdg-score-multi__value 6  \\\n",
       "557                         4.0                62.6–66.5   \n",
       "1528                        NaN                      NaN   \n",
       "1175                        NaN                      NaN   \n",
       "379                         NaN                      NaN   \n",
       "530                         NaN                      NaN   \n",
       "\n",
       "      sdg-score-multi__number 7 sdg-score-multi__value 7  \\\n",
       "557                         5.0                56.1–61.4   \n",
       "1528                        NaN                      NaN   \n",
       "1175                        NaN                      NaN   \n",
       "379                        16.0                70.0–77.0   \n",
       "530                         3.0                68.3–73.4   \n",
       "\n",
       "      sdg-score-multi__number 8 sdg-score-multi__value 8  \n",
       "557                        16.0                63.7–69.9  \n",
       "1528                        5.0                34.4–43.6  \n",
       "1175                        NaN                      NaN  \n",
       "379                         NaN                      NaN  \n",
       "530                         NaN                      NaN  "
      ]
     },
     "execution_count": 27,
     "metadata": {},
     "output_type": "execute_result"
    }
   ],
   "source": [
    "#Testing the function to see if it works\n",
    "the_df_2.sample(5, random_state=20)"
   ]
  },
  {
   "cell_type": "code",
   "execution_count": 28,
   "metadata": {},
   "outputs": [
    {
     "data": {
      "text/html": [
       "<div>\n",
       "<style scoped>\n",
       "    .dataframe tbody tr th:only-of-type {\n",
       "        vertical-align: middle;\n",
       "    }\n",
       "\n",
       "    .dataframe tbody tr th {\n",
       "        vertical-align: top;\n",
       "    }\n",
       "\n",
       "    .dataframe thead th {\n",
       "        text-align: right;\n",
       "    }\n",
       "</style>\n",
       "<table border=\"1\" class=\"dataframe\">\n",
       "  <thead>\n",
       "    <tr style=\"text-align: right;\">\n",
       "      <th></th>\n",
       "      <th>sdg-score-multi__number</th>\n",
       "      <th>sdg-score-multi__value</th>\n",
       "      <th>sdg-score-multi__number 2</th>\n",
       "      <th>sdg-score-multi__value 2</th>\n",
       "      <th>sdg-score-multi__number 3</th>\n",
       "      <th>sdg-score-multi__value 3</th>\n",
       "      <th>sdg-score-multi__number 4</th>\n",
       "      <th>sdg-score-multi__value 4</th>\n",
       "    </tr>\n",
       "  </thead>\n",
       "  <tbody>\n",
       "    <tr>\n",
       "      <th>557</th>\n",
       "      <td>4.0</td>\n",
       "      <td>62.6–66.5</td>\n",
       "      <td>5.0</td>\n",
       "      <td>56.1–61.4</td>\n",
       "      <td>16.0</td>\n",
       "      <td>63.7–69.9</td>\n",
       "      <td>17</td>\n",
       "      <td>75.6–81.7</td>\n",
       "    </tr>\n",
       "    <tr>\n",
       "      <th>1528</th>\n",
       "      <td>8.0</td>\n",
       "      <td>35.7–48.3</td>\n",
       "      <td>5.0</td>\n",
       "      <td>34.4–43.6</td>\n",
       "      <td>NaN</td>\n",
       "      <td>NaN</td>\n",
       "      <td>17</td>\n",
       "      <td>1.5–45.2</td>\n",
       "    </tr>\n",
       "    <tr>\n",
       "      <th>1175</th>\n",
       "      <td>11.0</td>\n",
       "      <td>20.9–38.4</td>\n",
       "      <td>1.0</td>\n",
       "      <td>23.3–38.1</td>\n",
       "      <td>3.0</td>\n",
       "      <td>1.0–32.0</td>\n",
       "      <td>17</td>\n",
       "      <td>1.5–45.2</td>\n",
       "    </tr>\n",
       "    <tr>\n",
       "      <th>379</th>\n",
       "      <td>16.0</td>\n",
       "      <td>70.0–77.0</td>\n",
       "      <td>2.0</td>\n",
       "      <td>75.8</td>\n",
       "      <td>8.0</td>\n",
       "      <td>62.4–66.3</td>\n",
       "      <td>17</td>\n",
       "      <td>70.6–75.5</td>\n",
       "    </tr>\n",
       "    <tr>\n",
       "      <th>530</th>\n",
       "      <td>9.0</td>\n",
       "      <td>73.0–87.2</td>\n",
       "      <td>3.0</td>\n",
       "      <td>68.3–73.4</td>\n",
       "      <td>5.0</td>\n",
       "      <td>56.1–61.4</td>\n",
       "      <td>17</td>\n",
       "      <td>53.4–61.0</td>\n",
       "    </tr>\n",
       "  </tbody>\n",
       "</table>\n",
       "</div>"
      ],
      "text/plain": [
       "      sdg-score-multi__number sdg-score-multi__value  \\\n",
       "557                       4.0              62.6–66.5   \n",
       "1528                      8.0              35.7–48.3   \n",
       "1175                     11.0              20.9–38.4   \n",
       "379                      16.0              70.0–77.0   \n",
       "530                       9.0              73.0–87.2   \n",
       "\n",
       "      sdg-score-multi__number 2 sdg-score-multi__value 2  \\\n",
       "557                         5.0                56.1–61.4   \n",
       "1528                        5.0                34.4–43.6   \n",
       "1175                        1.0                23.3–38.1   \n",
       "379                         2.0                     75.8   \n",
       "530                         3.0                68.3–73.4   \n",
       "\n",
       "      sdg-score-multi__number 3 sdg-score-multi__value 3  \\\n",
       "557                        16.0                63.7–69.9   \n",
       "1528                        NaN                      NaN   \n",
       "1175                        3.0                 1.0–32.0   \n",
       "379                         8.0                62.4–66.3   \n",
       "530                         5.0                56.1–61.4   \n",
       "\n",
       "      sdg-score-multi__number 4 sdg-score-multi__value 4  \n",
       "557                          17                75.6–81.7  \n",
       "1528                         17                 1.5–45.2  \n",
       "1175                         17                 1.5–45.2  \n",
       "379                          17                70.6–75.5  \n",
       "530                          17                53.4–61.0  "
      ]
     },
     "execution_count": 28,
     "metadata": {},
     "output_type": "execute_result"
    }
   ],
   "source": [
    "#Testing the function to see if it works\n",
    "replace_nan_sequentially(the_df_1.sample(5, random_state=20), the_df_2.sample(5, random_state=20))"
   ]
  },
  {
   "cell_type": "code",
   "execution_count": 29,
   "metadata": {},
   "outputs": [],
   "source": [
    "# Therefore our function works as expected\n",
    "# Now we will use it to replace the missing values in the 'the_df' dataframe"
   ]
  },
  {
   "cell_type": "code",
   "execution_count": 30,
   "metadata": {},
   "outputs": [
    {
     "data": {
      "text/html": [
       "<div>\n",
       "<style scoped>\n",
       "    .dataframe tbody tr th:only-of-type {\n",
       "        vertical-align: middle;\n",
       "    }\n",
       "\n",
       "    .dataframe tbody tr th {\n",
       "        vertical-align: top;\n",
       "    }\n",
       "\n",
       "    .dataframe thead th {\n",
       "        text-align: right;\n",
       "    }\n",
       "</style>\n",
       "<table border=\"1\" class=\"dataframe\">\n",
       "  <thead>\n",
       "    <tr style=\"text-align: right;\">\n",
       "      <th></th>\n",
       "      <th>Rank</th>\n",
       "      <th>University Name</th>\n",
       "      <th>Location</th>\n",
       "      <th>sdg-score-multi__number</th>\n",
       "      <th>sdg-score-multi__value</th>\n",
       "      <th>sdg-score-multi__number 2</th>\n",
       "      <th>sdg-score-multi__value 2</th>\n",
       "      <th>sdg-score-multi__number 3</th>\n",
       "      <th>sdg-score-multi__value 3</th>\n",
       "      <th>sdg-score-multi__number 4</th>\n",
       "      <th>sdg-score-multi__value 4</th>\n",
       "      <th>scores</th>\n",
       "      <th>sdg-score-multi__number 5</th>\n",
       "      <th>sdg-score-multi__value 5</th>\n",
       "      <th>sdg-score-multi__number 6</th>\n",
       "      <th>sdg-score-multi__value 6</th>\n",
       "      <th>sdg-score-multi__number 7</th>\n",
       "      <th>sdg-score-multi__value 7</th>\n",
       "      <th>sdg-score-multi__number 8</th>\n",
       "      <th>sdg-score-multi__value 8</th>\n",
       "    </tr>\n",
       "  </thead>\n",
       "  <tbody>\n",
       "    <tr>\n",
       "      <th>557</th>\n",
       "      <td>401–600</td>\n",
       "      <td>University of Split</td>\n",
       "      <td>Croatia</td>\n",
       "      <td>NaN</td>\n",
       "      <td>NaN</td>\n",
       "      <td>NaN</td>\n",
       "      <td>NaN</td>\n",
       "      <td>NaN</td>\n",
       "      <td>NaN</td>\n",
       "      <td>17</td>\n",
       "      <td>75.6–81.7</td>\n",
       "      <td>66.9–72.6</td>\n",
       "      <td>NaN</td>\n",
       "      <td>NaN</td>\n",
       "      <td>4.0</td>\n",
       "      <td>62.6–66.5</td>\n",
       "      <td>5.0</td>\n",
       "      <td>56.1–61.4</td>\n",
       "      <td>16.0</td>\n",
       "      <td>63.7–69.9</td>\n",
       "    </tr>\n",
       "    <tr>\n",
       "      <th>1528</th>\n",
       "      <td>1001+</td>\n",
       "      <td>Transport and Telecommunication Institute</td>\n",
       "      <td>Latvia</td>\n",
       "      <td>NaN</td>\n",
       "      <td>NaN</td>\n",
       "      <td>NaN</td>\n",
       "      <td>NaN</td>\n",
       "      <td>NaN</td>\n",
       "      <td>NaN</td>\n",
       "      <td>17</td>\n",
       "      <td>1.5–45.2</td>\n",
       "      <td>7.9–53.8</td>\n",
       "      <td>8.0</td>\n",
       "      <td>35.7–48.3</td>\n",
       "      <td>NaN</td>\n",
       "      <td>NaN</td>\n",
       "      <td>NaN</td>\n",
       "      <td>NaN</td>\n",
       "      <td>5.0</td>\n",
       "      <td>34.4–43.6</td>\n",
       "    </tr>\n",
       "    <tr>\n",
       "      <th>1175</th>\n",
       "      <td>1001+</td>\n",
       "      <td>Federal University of Paraí­ba (UFPB)</td>\n",
       "      <td>Brazil</td>\n",
       "      <td>NaN</td>\n",
       "      <td>NaN</td>\n",
       "      <td>1.0</td>\n",
       "      <td>23.3–38.1</td>\n",
       "      <td>3.0</td>\n",
       "      <td>1.0–32.0</td>\n",
       "      <td>17</td>\n",
       "      <td>1.5–45.2</td>\n",
       "      <td>7.9–53.8</td>\n",
       "      <td>11.0</td>\n",
       "      <td>20.9–38.4</td>\n",
       "      <td>NaN</td>\n",
       "      <td>NaN</td>\n",
       "      <td>NaN</td>\n",
       "      <td>NaN</td>\n",
       "      <td>NaN</td>\n",
       "      <td>NaN</td>\n",
       "    </tr>\n",
       "    <tr>\n",
       "      <th>379</th>\n",
       "      <td>301–400</td>\n",
       "      <td>Public University of Navarre</td>\n",
       "      <td>Spain</td>\n",
       "      <td>NaN</td>\n",
       "      <td>NaN</td>\n",
       "      <td>2.0</td>\n",
       "      <td>75.8</td>\n",
       "      <td>8.0</td>\n",
       "      <td>62.4–66.3</td>\n",
       "      <td>17</td>\n",
       "      <td>70.6–75.5</td>\n",
       "      <td>72.7–76.7</td>\n",
       "      <td>NaN</td>\n",
       "      <td>NaN</td>\n",
       "      <td>NaN</td>\n",
       "      <td>NaN</td>\n",
       "      <td>16.0</td>\n",
       "      <td>70.0–77.0</td>\n",
       "      <td>NaN</td>\n",
       "      <td>NaN</td>\n",
       "    </tr>\n",
       "    <tr>\n",
       "      <th>530</th>\n",
       "      <td>401–600</td>\n",
       "      <td>University of Pisa</td>\n",
       "      <td>Italy</td>\n",
       "      <td>9.0</td>\n",
       "      <td>73.0–87.2</td>\n",
       "      <td>NaN</td>\n",
       "      <td>NaN</td>\n",
       "      <td>5.0</td>\n",
       "      <td>56.1–61.4</td>\n",
       "      <td>17</td>\n",
       "      <td>53.4–61.0</td>\n",
       "      <td>66.9–72.6</td>\n",
       "      <td>NaN</td>\n",
       "      <td>NaN</td>\n",
       "      <td>NaN</td>\n",
       "      <td>NaN</td>\n",
       "      <td>3.0</td>\n",
       "      <td>68.3–73.4</td>\n",
       "      <td>NaN</td>\n",
       "      <td>NaN</td>\n",
       "    </tr>\n",
       "  </tbody>\n",
       "</table>\n",
       "</div>"
      ],
      "text/plain": [
       "         Rank                            University Name Location  \\\n",
       "557   401–600                        University of Split  Croatia   \n",
       "1528    1001+  Transport and Telecommunication Institute   Latvia   \n",
       "1175    1001+      Federal University of Paraí­ba (UFPB)   Brazil   \n",
       "379   301–400               Public University of Navarre    Spain   \n",
       "530   401–600                         University of Pisa    Italy   \n",
       "\n",
       "      sdg-score-multi__number sdg-score-multi__value  \\\n",
       "557                       NaN                    NaN   \n",
       "1528                      NaN                    NaN   \n",
       "1175                      NaN                    NaN   \n",
       "379                       NaN                    NaN   \n",
       "530                       9.0              73.0–87.2   \n",
       "\n",
       "      sdg-score-multi__number 2 sdg-score-multi__value 2  \\\n",
       "557                         NaN                      NaN   \n",
       "1528                        NaN                      NaN   \n",
       "1175                        1.0                23.3–38.1   \n",
       "379                         2.0                     75.8   \n",
       "530                         NaN                      NaN   \n",
       "\n",
       "      sdg-score-multi__number 3 sdg-score-multi__value 3  \\\n",
       "557                         NaN                      NaN   \n",
       "1528                        NaN                      NaN   \n",
       "1175                        3.0                 1.0–32.0   \n",
       "379                         8.0                62.4–66.3   \n",
       "530                         5.0                56.1–61.4   \n",
       "\n",
       "      sdg-score-multi__number 4 sdg-score-multi__value 4     scores  \\\n",
       "557                          17                75.6–81.7  66.9–72.6   \n",
       "1528                         17                 1.5–45.2   7.9–53.8   \n",
       "1175                         17                 1.5–45.2   7.9–53.8   \n",
       "379                          17                70.6–75.5  72.7–76.7   \n",
       "530                          17                53.4–61.0  66.9–72.6   \n",
       "\n",
       "      sdg-score-multi__number 5 sdg-score-multi__value 5  \\\n",
       "557                         NaN                      NaN   \n",
       "1528                        8.0                35.7–48.3   \n",
       "1175                       11.0                20.9–38.4   \n",
       "379                         NaN                      NaN   \n",
       "530                         NaN                      NaN   \n",
       "\n",
       "      sdg-score-multi__number 6 sdg-score-multi__value 6  \\\n",
       "557                         4.0                62.6–66.5   \n",
       "1528                        NaN                      NaN   \n",
       "1175                        NaN                      NaN   \n",
       "379                         NaN                      NaN   \n",
       "530                         NaN                      NaN   \n",
       "\n",
       "      sdg-score-multi__number 7 sdg-score-multi__value 7  \\\n",
       "557                         5.0                56.1–61.4   \n",
       "1528                        NaN                      NaN   \n",
       "1175                        NaN                      NaN   \n",
       "379                        16.0                70.0–77.0   \n",
       "530                         3.0                68.3–73.4   \n",
       "\n",
       "      sdg-score-multi__number 8 sdg-score-multi__value 8  \n",
       "557                        16.0                63.7–69.9  \n",
       "1528                        5.0                34.4–43.6  \n",
       "1175                        NaN                      NaN  \n",
       "379                         NaN                      NaN  \n",
       "530                         NaN                      NaN  "
      ]
     },
     "execution_count": 30,
     "metadata": {},
     "output_type": "execute_result"
    }
   ],
   "source": [
    "the_df.sample(5, random_state=20)"
   ]
  },
  {
   "cell_type": "code",
   "execution_count": 31,
   "metadata": {},
   "outputs": [],
   "source": [
    "the_df.loc[ : ,'sdg-score-multi__number' : 'sdg-score-multi__value 4'] = replace_nan_sequentially(the_df_1, the_df_2)"
   ]
  },
  {
   "cell_type": "code",
   "execution_count": 32,
   "metadata": {},
   "outputs": [
    {
     "data": {
      "text/html": [
       "<div>\n",
       "<style scoped>\n",
       "    .dataframe tbody tr th:only-of-type {\n",
       "        vertical-align: middle;\n",
       "    }\n",
       "\n",
       "    .dataframe tbody tr th {\n",
       "        vertical-align: top;\n",
       "    }\n",
       "\n",
       "    .dataframe thead th {\n",
       "        text-align: right;\n",
       "    }\n",
       "</style>\n",
       "<table border=\"1\" class=\"dataframe\">\n",
       "  <thead>\n",
       "    <tr style=\"text-align: right;\">\n",
       "      <th></th>\n",
       "      <th>Rank</th>\n",
       "      <th>University Name</th>\n",
       "      <th>Location</th>\n",
       "      <th>sdg-score-multi__number</th>\n",
       "      <th>sdg-score-multi__value</th>\n",
       "      <th>sdg-score-multi__number 2</th>\n",
       "      <th>sdg-score-multi__value 2</th>\n",
       "      <th>sdg-score-multi__number 3</th>\n",
       "      <th>sdg-score-multi__value 3</th>\n",
       "      <th>sdg-score-multi__number 4</th>\n",
       "      <th>sdg-score-multi__value 4</th>\n",
       "      <th>scores</th>\n",
       "      <th>sdg-score-multi__number 5</th>\n",
       "      <th>sdg-score-multi__value 5</th>\n",
       "      <th>sdg-score-multi__number 6</th>\n",
       "      <th>sdg-score-multi__value 6</th>\n",
       "      <th>sdg-score-multi__number 7</th>\n",
       "      <th>sdg-score-multi__value 7</th>\n",
       "      <th>sdg-score-multi__number 8</th>\n",
       "      <th>sdg-score-multi__value 8</th>\n",
       "    </tr>\n",
       "  </thead>\n",
       "  <tbody>\n",
       "    <tr>\n",
       "      <th>557</th>\n",
       "      <td>401–600</td>\n",
       "      <td>University of Split</td>\n",
       "      <td>Croatia</td>\n",
       "      <td>4.0</td>\n",
       "      <td>62.6–66.5</td>\n",
       "      <td>5.0</td>\n",
       "      <td>56.1–61.4</td>\n",
       "      <td>16.0</td>\n",
       "      <td>63.7–69.9</td>\n",
       "      <td>17</td>\n",
       "      <td>75.6–81.7</td>\n",
       "      <td>66.9–72.6</td>\n",
       "      <td>NaN</td>\n",
       "      <td>NaN</td>\n",
       "      <td>4.0</td>\n",
       "      <td>62.6–66.5</td>\n",
       "      <td>5.0</td>\n",
       "      <td>56.1–61.4</td>\n",
       "      <td>16.0</td>\n",
       "      <td>63.7–69.9</td>\n",
       "    </tr>\n",
       "    <tr>\n",
       "      <th>1528</th>\n",
       "      <td>1001+</td>\n",
       "      <td>Transport and Telecommunication Institute</td>\n",
       "      <td>Latvia</td>\n",
       "      <td>8.0</td>\n",
       "      <td>35.7–48.3</td>\n",
       "      <td>5.0</td>\n",
       "      <td>34.4–43.6</td>\n",
       "      <td>NaN</td>\n",
       "      <td>NaN</td>\n",
       "      <td>17</td>\n",
       "      <td>1.5–45.2</td>\n",
       "      <td>7.9–53.8</td>\n",
       "      <td>8.0</td>\n",
       "      <td>35.7–48.3</td>\n",
       "      <td>NaN</td>\n",
       "      <td>NaN</td>\n",
       "      <td>NaN</td>\n",
       "      <td>NaN</td>\n",
       "      <td>5.0</td>\n",
       "      <td>34.4–43.6</td>\n",
       "    </tr>\n",
       "    <tr>\n",
       "      <th>1175</th>\n",
       "      <td>1001+</td>\n",
       "      <td>Federal University of Paraí­ba (UFPB)</td>\n",
       "      <td>Brazil</td>\n",
       "      <td>11.0</td>\n",
       "      <td>20.9–38.4</td>\n",
       "      <td>1.0</td>\n",
       "      <td>23.3–38.1</td>\n",
       "      <td>3.0</td>\n",
       "      <td>1.0–32.0</td>\n",
       "      <td>17</td>\n",
       "      <td>1.5–45.2</td>\n",
       "      <td>7.9–53.8</td>\n",
       "      <td>11.0</td>\n",
       "      <td>20.9–38.4</td>\n",
       "      <td>NaN</td>\n",
       "      <td>NaN</td>\n",
       "      <td>NaN</td>\n",
       "      <td>NaN</td>\n",
       "      <td>NaN</td>\n",
       "      <td>NaN</td>\n",
       "    </tr>\n",
       "    <tr>\n",
       "      <th>379</th>\n",
       "      <td>301–400</td>\n",
       "      <td>Public University of Navarre</td>\n",
       "      <td>Spain</td>\n",
       "      <td>16.0</td>\n",
       "      <td>70.0–77.0</td>\n",
       "      <td>2.0</td>\n",
       "      <td>75.8</td>\n",
       "      <td>8.0</td>\n",
       "      <td>62.4–66.3</td>\n",
       "      <td>17</td>\n",
       "      <td>70.6–75.5</td>\n",
       "      <td>72.7–76.7</td>\n",
       "      <td>NaN</td>\n",
       "      <td>NaN</td>\n",
       "      <td>NaN</td>\n",
       "      <td>NaN</td>\n",
       "      <td>16.0</td>\n",
       "      <td>70.0–77.0</td>\n",
       "      <td>NaN</td>\n",
       "      <td>NaN</td>\n",
       "    </tr>\n",
       "    <tr>\n",
       "      <th>530</th>\n",
       "      <td>401–600</td>\n",
       "      <td>University of Pisa</td>\n",
       "      <td>Italy</td>\n",
       "      <td>9.0</td>\n",
       "      <td>73.0–87.2</td>\n",
       "      <td>3.0</td>\n",
       "      <td>68.3–73.4</td>\n",
       "      <td>5.0</td>\n",
       "      <td>56.1–61.4</td>\n",
       "      <td>17</td>\n",
       "      <td>53.4–61.0</td>\n",
       "      <td>66.9–72.6</td>\n",
       "      <td>NaN</td>\n",
       "      <td>NaN</td>\n",
       "      <td>NaN</td>\n",
       "      <td>NaN</td>\n",
       "      <td>3.0</td>\n",
       "      <td>68.3–73.4</td>\n",
       "      <td>NaN</td>\n",
       "      <td>NaN</td>\n",
       "    </tr>\n",
       "  </tbody>\n",
       "</table>\n",
       "</div>"
      ],
      "text/plain": [
       "         Rank                            University Name Location  \\\n",
       "557   401–600                        University of Split  Croatia   \n",
       "1528    1001+  Transport and Telecommunication Institute   Latvia   \n",
       "1175    1001+      Federal University of Paraí­ba (UFPB)   Brazil   \n",
       "379   301–400               Public University of Navarre    Spain   \n",
       "530   401–600                         University of Pisa    Italy   \n",
       "\n",
       "      sdg-score-multi__number sdg-score-multi__value  \\\n",
       "557                       4.0              62.6–66.5   \n",
       "1528                      8.0              35.7–48.3   \n",
       "1175                     11.0              20.9–38.4   \n",
       "379                      16.0              70.0–77.0   \n",
       "530                       9.0              73.0–87.2   \n",
       "\n",
       "      sdg-score-multi__number 2 sdg-score-multi__value 2  \\\n",
       "557                         5.0                56.1–61.4   \n",
       "1528                        5.0                34.4–43.6   \n",
       "1175                        1.0                23.3–38.1   \n",
       "379                         2.0                     75.8   \n",
       "530                         3.0                68.3–73.4   \n",
       "\n",
       "      sdg-score-multi__number 3 sdg-score-multi__value 3  \\\n",
       "557                        16.0                63.7–69.9   \n",
       "1528                        NaN                      NaN   \n",
       "1175                        3.0                 1.0–32.0   \n",
       "379                         8.0                62.4–66.3   \n",
       "530                         5.0                56.1–61.4   \n",
       "\n",
       "      sdg-score-multi__number 4 sdg-score-multi__value 4     scores  \\\n",
       "557                          17                75.6–81.7  66.9–72.6   \n",
       "1528                         17                 1.5–45.2   7.9–53.8   \n",
       "1175                         17                 1.5–45.2   7.9–53.8   \n",
       "379                          17                70.6–75.5  72.7–76.7   \n",
       "530                          17                53.4–61.0  66.9–72.6   \n",
       "\n",
       "      sdg-score-multi__number 5 sdg-score-multi__value 5  \\\n",
       "557                         NaN                      NaN   \n",
       "1528                        8.0                35.7–48.3   \n",
       "1175                       11.0                20.9–38.4   \n",
       "379                         NaN                      NaN   \n",
       "530                         NaN                      NaN   \n",
       "\n",
       "      sdg-score-multi__number 6 sdg-score-multi__value 6  \\\n",
       "557                         4.0                62.6–66.5   \n",
       "1528                        NaN                      NaN   \n",
       "1175                        NaN                      NaN   \n",
       "379                         NaN                      NaN   \n",
       "530                         NaN                      NaN   \n",
       "\n",
       "      sdg-score-multi__number 7 sdg-score-multi__value 7  \\\n",
       "557                         5.0                56.1–61.4   \n",
       "1528                        NaN                      NaN   \n",
       "1175                        NaN                      NaN   \n",
       "379                        16.0                70.0–77.0   \n",
       "530                         3.0                68.3–73.4   \n",
       "\n",
       "      sdg-score-multi__number 8 sdg-score-multi__value 8  \n",
       "557                        16.0                63.7–69.9  \n",
       "1528                        5.0                34.4–43.6  \n",
       "1175                        NaN                      NaN  \n",
       "379                         NaN                      NaN  \n",
       "530                         NaN                      NaN  "
      ]
     },
     "execution_count": 32,
     "metadata": {},
     "output_type": "execute_result"
    }
   ],
   "source": [
    "the_df.sample(5, random_state=20)"
   ]
  },
  {
   "cell_type": "code",
   "execution_count": 33,
   "metadata": {},
   "outputs": [],
   "source": [
    "# Now we will remove the columns that we extracted the data from i.e 'sdg-score-multi__number 5' : 'sdg-score-multi__value 8'\n",
    "the_df.drop(the_df.loc[ : ,'sdg-score-multi__number 5' : 'sdg-score-multi__value 8'].columns, axis=1, inplace=True)"
   ]
  },
  {
   "cell_type": "code",
   "execution_count": 34,
   "metadata": {},
   "outputs": [
    {
     "data": {
      "text/plain": [
       "Rank                           0\n",
       "University Name                0\n",
       "Location                      91\n",
       "sdg-score-multi__number       17\n",
       "sdg-score-multi__value        21\n",
       "sdg-score-multi__number 2     66\n",
       "sdg-score-multi__value 2      68\n",
       "sdg-score-multi__number 3    201\n",
       "sdg-score-multi__value 3     211\n",
       "sdg-score-multi__number 4      0\n",
       "sdg-score-multi__value 4       8\n",
       "scores                         0\n",
       "dtype: int64"
      ]
     },
     "execution_count": 34,
     "metadata": {},
     "output_type": "execute_result"
    }
   ],
   "source": [
    "# Now we will check for missing values in the dataframe\n",
    "the_df.isnull().sum()"
   ]
  },
  {
   "cell_type": "code",
   "execution_count": 35,
   "metadata": {},
   "outputs": [
    {
     "data": {
      "text/plain": [
       "(1591, 12)"
      ]
     },
     "execution_count": 35,
     "metadata": {},
     "output_type": "execute_result"
    }
   ],
   "source": [
    "the_df.shape"
   ]
  },
  {
   "cell_type": "code",
   "execution_count": 36,
   "metadata": {},
   "outputs": [
    {
     "data": {
      "text/plain": [
       "Location\n",
       "Turkey                79\n",
       "Japan                 78\n",
       "Pakistan              72\n",
       "India                 66\n",
       "Thailand              65\n",
       "                      ..\n",
       "Oman                   1\n",
       "Cambodia               1\n",
       "Haiti                  1\n",
       "Moldova                1\n",
       "Dominican Republic     1\n",
       "Name: count, Length: 110, dtype: int64"
      ]
     },
     "execution_count": 36,
     "metadata": {},
     "output_type": "execute_result"
    }
   ],
   "source": [
    "the_df['Location'].value_counts()"
   ]
  },
  {
   "cell_type": "code",
   "execution_count": 37,
   "metadata": {},
   "outputs": [
    {
     "data": {
      "text/plain": [
       "array(['80.3', '97.4', '90.6', '94.1', '92.8', '95.4', '99.4', '92.1',\n",
       "       '91.8', '97.7', '95.0', '93.1', '88.5', '88.9', '99.9', '99.0',\n",
       "       '92.7', '92.6', '87.7', '91.0', '96.2', '99.6', '88.1', '86.2',\n",
       "       '93.5', '91.3', '91.5', '84.1', '88.4', '99.7', '94.7', '86.3',\n",
       "       '84.6', '96.6', '87.9', '89.9', '89.6', '99.3', '98.3', '90.7',\n",
       "       '92.0', '90.0', '87.3', '80.8', '81.4', '93.6', '80.5', '85.3',\n",
       "       '79.1', '99.1', '84.7', '93.0', '82.1', '73.3', '92.9', '81.1',\n",
       "       '88.7', '86.9', '86.5', '80.0', '74.9', '71.1', '68.3–73.4',\n",
       "       '87.5', '71.9', '77.6', '81.3', '87.6', '82.3', '91.1', '85.0',\n",
       "       '89.2', '79.2', '85.8', '93.4', '89.1', '78.1', '88.3', '70.7',\n",
       "       '78.8', '85.9', '95.9', '83.8', '73.1', '86.4', '82.7',\n",
       "       '73.5–78.9', '86.1', '81.0', '76.7', '70.9', '77.1', '83.5',\n",
       "       '81.5', '83.0', '99.8', '79.7', '75.6', '83.7', '75.5',\n",
       "       '67.1–76.0', '88.0', '77.7', '73.0–87.2', '92.3', '68.7', '75.1',\n",
       "       '76.9', '97.5', '77.4', '91.6', '73.7', '56.6–66.3', '70.0–77.0',\n",
       "       '60.1–67.0', '82.2', '60.3–68.4', '65.2–73.3', '75.9', '66.4–71.5',\n",
       "       '70.5', '77.5', '76.8', '95.3', '84.9', '89.0', '77.3', '72.2',\n",
       "       '61.5–66.9', '78.0', '61.8–67.8', '71.5', '96.4', '82.0', '70.4',\n",
       "       '84.3', '70.3', '63.7–69.9', '62.4–66.3', '66.8–76.6', '75.4',\n",
       "       '73.0', '71.8', '79.3', '74.0', '80.1', '73.2', '68.8',\n",
       "       '63.9–68.2', '72.9', '74.7', '74.3', '82.6', '75.0', '60.3–72.9',\n",
       "       '84.0', '58.7–66.7', '97.6', '75.7', '98.8', '79.9', '78.4',\n",
       "       '90.9', '72.0', '96.0', '85.1', '83.2', '75.3', '84.5', '89.7',\n",
       "       '81.9', '67.1', '74.8', '71.2', '77.2', '78.7', '56.2–61.7',\n",
       "       '58.7–62.5', '73.5', '76.2', '78.9', '56.1–61.4', '76.4', '76.0',\n",
       "       '67.6', '82.8', '88.8', '76.1', '62.6–66.5', '57.8–62.2',\n",
       "       '66.6–73.0', '87.4', '78.6', '54.1–69.0', '51.0–58.6', '80.4',\n",
       "       '72.1', '74.5', '70.8', '74.6', '80.6', '82.5', '73.8',\n",
       "       '59.5–72.2', '48.4–57.7', '57.1–67.2', '71.6', '54.7–63.8',\n",
       "       '57.6–65.1', '71.7', '73.4', '58.7–63.6', '70.6', '51.6–56.0',\n",
       "       '56.3–67.3', '45.2–58.6', '73.6', '87.2', '69.4', '98.7', nan,\n",
       "       '49.4–58.6', '68.5', '43.7–51.5', '79.6', '88.2', '72.3', '89.8',\n",
       "       '71.0', '49.3–57.0', '80.2', '52.5–60.0', '76.6', '74.1', '73.9',\n",
       "       '48.0–56.4', '51.9–56.1', '43.6–50.9', '44.7–54.5', '51.0–60.2',\n",
       "       '54.5–60.1', '38.7–51.8', '48.3–56.2', '32.1–44.6', '76.3',\n",
       "       '51.8–57.5', '35.7–48.3', '72.8', '43.0–54.0', '67.7', '67.5',\n",
       "       '40.0–51.7', '97.1', '42.8–49.1', '38.5–52.3', '49.5–54.4',\n",
       "       '25.6–39.9', '47.8–59.4', '67.3', '23.3–38.1', '33.9–50.8',\n",
       "       '38.4–48.2', '17.2–33.8', '0.7–24.6', '34.4–43.6', '2.8–35.7',\n",
       "       '25.7–41.3', '11.1–38.6', '22.1–34.3', '1.0–32.0', '26.1–49.1',\n",
       "       '15.3–38.3', '41.4–47.9', '5.0–21.9', '1.5–20.8', '38.2–49.4',\n",
       "       '29.1–45.0', '5.8–23.2', '24.8–42.6', '35.8–43.5', '20.9–38.4',\n",
       "       '2.1–38.0', '28.2–42.9', '1.4–35.6', '2.8–25.9', '83.4',\n",
       "       '3.9–25.5', '1.8–25.6', '2.5–29.0', '3.1–27.7', '38.2–47.7'],\n",
       "      dtype=object)"
      ]
     },
     "execution_count": 37,
     "metadata": {},
     "output_type": "execute_result"
    }
   ],
   "source": [
    "the_df['sdg-score-multi__value'].unique()"
   ]
  },
  {
   "cell_type": "code",
   "execution_count": 38,
   "metadata": {},
   "outputs": [
    {
     "data": {
      "text/html": [
       "<div>\n",
       "<style scoped>\n",
       "    .dataframe tbody tr th:only-of-type {\n",
       "        vertical-align: middle;\n",
       "    }\n",
       "\n",
       "    .dataframe tbody tr th {\n",
       "        vertical-align: top;\n",
       "    }\n",
       "\n",
       "    .dataframe thead th {\n",
       "        text-align: right;\n",
       "    }\n",
       "</style>\n",
       "<table border=\"1\" class=\"dataframe\">\n",
       "  <thead>\n",
       "    <tr style=\"text-align: right;\">\n",
       "      <th></th>\n",
       "      <th>Rank</th>\n",
       "      <th>University Name</th>\n",
       "      <th>Location</th>\n",
       "      <th>sdg-score-multi__number</th>\n",
       "      <th>sdg-score-multi__value</th>\n",
       "      <th>sdg-score-multi__number 2</th>\n",
       "      <th>sdg-score-multi__value 2</th>\n",
       "      <th>sdg-score-multi__number 3</th>\n",
       "      <th>sdg-score-multi__value 3</th>\n",
       "      <th>sdg-score-multi__number 4</th>\n",
       "      <th>sdg-score-multi__value 4</th>\n",
       "      <th>scores</th>\n",
       "    </tr>\n",
       "  </thead>\n",
       "  <tbody>\n",
       "    <tr>\n",
       "      <th>1069</th>\n",
       "      <td>1001+</td>\n",
       "      <td>Banasthali University</td>\n",
       "      <td>India</td>\n",
       "      <td>4.0</td>\n",
       "      <td>35.8–43.5</td>\n",
       "      <td>NaN</td>\n",
       "      <td>NaN</td>\n",
       "      <td>9.0</td>\n",
       "      <td>51.0–60.2</td>\n",
       "      <td>17</td>\n",
       "      <td>1.5–45.2</td>\n",
       "      <td>7.9–53.8</td>\n",
       "    </tr>\n",
       "    <tr>\n",
       "      <th>490</th>\n",
       "      <td>401–600</td>\n",
       "      <td>University of León</td>\n",
       "      <td>Spain</td>\n",
       "      <td>5.0</td>\n",
       "      <td>56.1–61.4</td>\n",
       "      <td>16.0</td>\n",
       "      <td>63.7–69.9</td>\n",
       "      <td>1.0</td>\n",
       "      <td>60.3–68.4</td>\n",
       "      <td>17</td>\n",
       "      <td>61.1–70.5</td>\n",
       "      <td>66.9–72.6</td>\n",
       "    </tr>\n",
       "    <tr>\n",
       "      <th>1</th>\n",
       "      <td>2</td>\n",
       "      <td>University of Manchester</td>\n",
       "      <td>United Kingdom</td>\n",
       "      <td>15.0</td>\n",
       "      <td>97.4</td>\n",
       "      <td>12.0</td>\n",
       "      <td>92.9</td>\n",
       "      <td>11.0</td>\n",
       "      <td>92.2</td>\n",
       "      <td>17</td>\n",
       "      <td>94.8</td>\n",
       "      <td>97.5</td>\n",
       "    </tr>\n",
       "    <tr>\n",
       "      <th>169</th>\n",
       "      <td>101–200</td>\n",
       "      <td>Sapienza University of Rome</td>\n",
       "      <td>Italy</td>\n",
       "      <td>14.0</td>\n",
       "      <td>86.2</td>\n",
       "      <td>5.0</td>\n",
       "      <td>72.8</td>\n",
       "      <td>9.0</td>\n",
       "      <td>92.0</td>\n",
       "      <td>17</td>\n",
       "      <td>75.6–81.7</td>\n",
       "      <td>82.2–88.2</td>\n",
       "    </tr>\n",
       "    <tr>\n",
       "      <th>1268</th>\n",
       "      <td>1001+</td>\n",
       "      <td>Kazakh-British Technical University</td>\n",
       "      <td>Kazakhstan</td>\n",
       "      <td>5.0</td>\n",
       "      <td>22.1–34.3</td>\n",
       "      <td>8.0</td>\n",
       "      <td>35.7–48.3</td>\n",
       "      <td>7.0</td>\n",
       "      <td>38.7–51.8</td>\n",
       "      <td>17</td>\n",
       "      <td>61.1–70.5</td>\n",
       "      <td>7.9–53.8</td>\n",
       "    </tr>\n",
       "  </tbody>\n",
       "</table>\n",
       "</div>"
      ],
      "text/plain": [
       "         Rank                      University Name        Location  \\\n",
       "1069    1001+                Banasthali University           India   \n",
       "490   401–600                   University of León           Spain   \n",
       "1           2             University of Manchester  United Kingdom   \n",
       "169   101–200          Sapienza University of Rome           Italy   \n",
       "1268    1001+  Kazakh-British Technical University      Kazakhstan   \n",
       "\n",
       "      sdg-score-multi__number sdg-score-multi__value  \\\n",
       "1069                      4.0              35.8–43.5   \n",
       "490                       5.0              56.1–61.4   \n",
       "1                        15.0                   97.4   \n",
       "169                      14.0                   86.2   \n",
       "1268                      5.0              22.1–34.3   \n",
       "\n",
       "      sdg-score-multi__number 2 sdg-score-multi__value 2  \\\n",
       "1069                        NaN                      NaN   \n",
       "490                        16.0                63.7–69.9   \n",
       "1                          12.0                     92.9   \n",
       "169                         5.0                     72.8   \n",
       "1268                        8.0                35.7–48.3   \n",
       "\n",
       "      sdg-score-multi__number 3 sdg-score-multi__value 3  \\\n",
       "1069                        9.0                51.0–60.2   \n",
       "490                         1.0                60.3–68.4   \n",
       "1                          11.0                     92.2   \n",
       "169                         9.0                     92.0   \n",
       "1268                        7.0                38.7–51.8   \n",
       "\n",
       "      sdg-score-multi__number 4 sdg-score-multi__value 4     scores  \n",
       "1069                         17                 1.5–45.2   7.9–53.8  \n",
       "490                          17                61.1–70.5  66.9–72.6  \n",
       "1                            17                     94.8       97.5  \n",
       "169                          17                75.6–81.7  82.2–88.2  \n",
       "1268                         17                61.1–70.5   7.9–53.8  "
      ]
     },
     "execution_count": 38,
     "metadata": {},
     "output_type": "execute_result"
    }
   ],
   "source": [
    "the_df.sample(5, random_state=245)"
   ]
  },
  {
   "cell_type": "code",
   "execution_count": 39,
   "metadata": {},
   "outputs": [],
   "source": [
    "# fill NaN values in specified columns with suited values \n",
    "the_df['Location'] = the_df['Location'].fillna('Unknown')\n",
    "the_df['sdg-score-multi__number'] = the_df['sdg-score-multi__number'].fillna(-1.0)\n",
    "the_df['sdg-score-multi__value'] = the_df['sdg-score-multi__value'].fillna('0-0')\n",
    "the_df['sdg-score-multi__number 2'] = the_df['sdg-score-multi__number 2'].fillna(-1.0)\n",
    "the_df['sdg-score-multi__value 2'] = the_df['sdg-score-multi__value 2'].fillna('0-0')\n",
    "the_df['sdg-score-multi__number 3'] = the_df['sdg-score-multi__number 3'].fillna(-1.0)\n",
    "the_df['sdg-score-multi__value 3'] = the_df['sdg-score-multi__value 3'].fillna('0-0')\n",
    "the_df['sdg-score-multi__value 4'] = the_df['sdg-score-multi__value 4'].fillna('0-0')\n",
    "\n",
    "\n"
   ]
  },
  {
   "cell_type": "code",
   "execution_count": 40,
   "metadata": {},
   "outputs": [
    {
     "data": {
      "text/html": [
       "<div>\n",
       "<style scoped>\n",
       "    .dataframe tbody tr th:only-of-type {\n",
       "        vertical-align: middle;\n",
       "    }\n",
       "\n",
       "    .dataframe tbody tr th {\n",
       "        vertical-align: top;\n",
       "    }\n",
       "\n",
       "    .dataframe thead th {\n",
       "        text-align: right;\n",
       "    }\n",
       "</style>\n",
       "<table border=\"1\" class=\"dataframe\">\n",
       "  <thead>\n",
       "    <tr style=\"text-align: right;\">\n",
       "      <th></th>\n",
       "      <th>Rank</th>\n",
       "      <th>University Name</th>\n",
       "      <th>Location</th>\n",
       "      <th>sdg-score-multi__number</th>\n",
       "      <th>sdg-score-multi__value</th>\n",
       "      <th>sdg-score-multi__number 2</th>\n",
       "      <th>sdg-score-multi__value 2</th>\n",
       "      <th>sdg-score-multi__number 3</th>\n",
       "      <th>sdg-score-multi__value 3</th>\n",
       "      <th>sdg-score-multi__number 4</th>\n",
       "      <th>sdg-score-multi__value 4</th>\n",
       "      <th>scores</th>\n",
       "    </tr>\n",
       "  </thead>\n",
       "  <tbody>\n",
       "    <tr>\n",
       "      <th>1069</th>\n",
       "      <td>1001+</td>\n",
       "      <td>Banasthali University</td>\n",
       "      <td>India</td>\n",
       "      <td>4.0</td>\n",
       "      <td>35.8–43.5</td>\n",
       "      <td>-1.0</td>\n",
       "      <td>0-0</td>\n",
       "      <td>9.0</td>\n",
       "      <td>51.0–60.2</td>\n",
       "      <td>17</td>\n",
       "      <td>1.5–45.2</td>\n",
       "      <td>7.9–53.8</td>\n",
       "    </tr>\n",
       "    <tr>\n",
       "      <th>490</th>\n",
       "      <td>401–600</td>\n",
       "      <td>University of León</td>\n",
       "      <td>Spain</td>\n",
       "      <td>5.0</td>\n",
       "      <td>56.1–61.4</td>\n",
       "      <td>16.0</td>\n",
       "      <td>63.7–69.9</td>\n",
       "      <td>1.0</td>\n",
       "      <td>60.3–68.4</td>\n",
       "      <td>17</td>\n",
       "      <td>61.1–70.5</td>\n",
       "      <td>66.9–72.6</td>\n",
       "    </tr>\n",
       "    <tr>\n",
       "      <th>1</th>\n",
       "      <td>2</td>\n",
       "      <td>University of Manchester</td>\n",
       "      <td>United Kingdom</td>\n",
       "      <td>15.0</td>\n",
       "      <td>97.4</td>\n",
       "      <td>12.0</td>\n",
       "      <td>92.9</td>\n",
       "      <td>11.0</td>\n",
       "      <td>92.2</td>\n",
       "      <td>17</td>\n",
       "      <td>94.8</td>\n",
       "      <td>97.5</td>\n",
       "    </tr>\n",
       "    <tr>\n",
       "      <th>169</th>\n",
       "      <td>101–200</td>\n",
       "      <td>Sapienza University of Rome</td>\n",
       "      <td>Italy</td>\n",
       "      <td>14.0</td>\n",
       "      <td>86.2</td>\n",
       "      <td>5.0</td>\n",
       "      <td>72.8</td>\n",
       "      <td>9.0</td>\n",
       "      <td>92.0</td>\n",
       "      <td>17</td>\n",
       "      <td>75.6–81.7</td>\n",
       "      <td>82.2–88.2</td>\n",
       "    </tr>\n",
       "    <tr>\n",
       "      <th>1268</th>\n",
       "      <td>1001+</td>\n",
       "      <td>Kazakh-British Technical University</td>\n",
       "      <td>Kazakhstan</td>\n",
       "      <td>5.0</td>\n",
       "      <td>22.1–34.3</td>\n",
       "      <td>8.0</td>\n",
       "      <td>35.7–48.3</td>\n",
       "      <td>7.0</td>\n",
       "      <td>38.7–51.8</td>\n",
       "      <td>17</td>\n",
       "      <td>61.1–70.5</td>\n",
       "      <td>7.9–53.8</td>\n",
       "    </tr>\n",
       "  </tbody>\n",
       "</table>\n",
       "</div>"
      ],
      "text/plain": [
       "         Rank                      University Name        Location  \\\n",
       "1069    1001+                Banasthali University           India   \n",
       "490   401–600                   University of León           Spain   \n",
       "1           2             University of Manchester  United Kingdom   \n",
       "169   101–200          Sapienza University of Rome           Italy   \n",
       "1268    1001+  Kazakh-British Technical University      Kazakhstan   \n",
       "\n",
       "      sdg-score-multi__number sdg-score-multi__value  \\\n",
       "1069                      4.0              35.8–43.5   \n",
       "490                       5.0              56.1–61.4   \n",
       "1                        15.0                   97.4   \n",
       "169                      14.0                   86.2   \n",
       "1268                      5.0              22.1–34.3   \n",
       "\n",
       "      sdg-score-multi__number 2 sdg-score-multi__value 2  \\\n",
       "1069                       -1.0                      0-0   \n",
       "490                        16.0                63.7–69.9   \n",
       "1                          12.0                     92.9   \n",
       "169                         5.0                     72.8   \n",
       "1268                        8.0                35.7–48.3   \n",
       "\n",
       "      sdg-score-multi__number 3 sdg-score-multi__value 3  \\\n",
       "1069                        9.0                51.0–60.2   \n",
       "490                         1.0                60.3–68.4   \n",
       "1                          11.0                     92.2   \n",
       "169                         9.0                     92.0   \n",
       "1268                        7.0                38.7–51.8   \n",
       "\n",
       "      sdg-score-multi__number 4 sdg-score-multi__value 4     scores  \n",
       "1069                         17                 1.5–45.2   7.9–53.8  \n",
       "490                          17                61.1–70.5  66.9–72.6  \n",
       "1                            17                     94.8       97.5  \n",
       "169                          17                75.6–81.7  82.2–88.2  \n",
       "1268                         17                61.1–70.5   7.9–53.8  "
      ]
     },
     "execution_count": 40,
     "metadata": {},
     "output_type": "execute_result"
    }
   ],
   "source": [
    "the_df.sample(5, random_state=245)"
   ]
  },
  {
   "cell_type": "code",
   "execution_count": 41,
   "metadata": {},
   "outputs": [
    {
     "data": {
      "text/plain": [
       "Rank                         0\n",
       "University Name              0\n",
       "Location                     0\n",
       "sdg-score-multi__number      0\n",
       "sdg-score-multi__value       0\n",
       "sdg-score-multi__number 2    0\n",
       "sdg-score-multi__value 2     0\n",
       "sdg-score-multi__number 3    0\n",
       "sdg-score-multi__value 3     0\n",
       "sdg-score-multi__number 4    0\n",
       "sdg-score-multi__value 4     0\n",
       "scores                       0\n",
       "dtype: int64"
      ]
     },
     "execution_count": 41,
     "metadata": {},
     "output_type": "execute_result"
    }
   ],
   "source": [
    "the_df.isnull().sum()"
   ]
  },
  {
   "cell_type": "code",
   "execution_count": 42,
   "metadata": {},
   "outputs": [
    {
     "data": {
      "text/plain": [
       "Location\n",
       "Unknown               91\n",
       "Turkey                79\n",
       "Japan                 78\n",
       "Pakistan              72\n",
       "India                 66\n",
       "                      ..\n",
       "Oman                   1\n",
       "Cambodia               1\n",
       "Haiti                  1\n",
       "Moldova                1\n",
       "Dominican Republic     1\n",
       "Name: count, Length: 111, dtype: int64"
      ]
     },
     "execution_count": 42,
     "metadata": {},
     "output_type": "execute_result"
    }
   ],
   "source": [
    "the_df['Location'].value_counts()"
   ]
  },
  {
   "cell_type": "code",
   "execution_count": 43,
   "metadata": {},
   "outputs": [],
   "source": [
    "# Change the data types of the columns to the appropriate data types\n",
    "the_df['sdg-score-multi__number'] = the_df['sdg-score-multi__number'].astype(int)\n",
    "the_df['sdg-score-multi__number 2'] = the_df['sdg-score-multi__number 2'].astype(int)\n",
    "the_df['sdg-score-multi__number 3'] = the_df['sdg-score-multi__number 3'].astype(int)"
   ]
  },
  {
   "cell_type": "code",
   "execution_count": 44,
   "metadata": {},
   "outputs": [
    {
     "data": {
      "text/plain": [
       "Rank                         object\n",
       "University Name              object\n",
       "Location                     object\n",
       "sdg-score-multi__number       int64\n",
       "sdg-score-multi__value       object\n",
       "sdg-score-multi__number 2     int64\n",
       "sdg-score-multi__value 2     object\n",
       "sdg-score-multi__number 3     int64\n",
       "sdg-score-multi__value 3     object\n",
       "sdg-score-multi__number 4     int64\n",
       "sdg-score-multi__value 4     object\n",
       "scores                       object\n",
       "dtype: object"
      ]
     },
     "execution_count": 44,
     "metadata": {},
     "output_type": "execute_result"
    }
   ],
   "source": [
    "the_df.dtypes"
   ]
  },
  {
   "cell_type": "code",
   "execution_count": 45,
   "metadata": {},
   "outputs": [],
   "source": [
    "# Scores column has a range of values, we will split the values into two columns and take the average of the two values\n",
    "the_df['avg_score'] = the_df['scores'].apply(\n",
    "    lambda x: (float(x.split('–')[0]) + float(x.split('–')[1])) / 2 if '–' in x else float(x)\n",
    ")\n"
   ]
  },
  {
   "cell_type": "code",
   "execution_count": 46,
   "metadata": {},
   "outputs": [
    {
     "data": {
      "text/plain": [
       "Rank                          object\n",
       "University Name               object\n",
       "Location                      object\n",
       "sdg-score-multi__number        int64\n",
       "sdg-score-multi__value        object\n",
       "sdg-score-multi__number 2      int64\n",
       "sdg-score-multi__value 2      object\n",
       "sdg-score-multi__number 3      int64\n",
       "sdg-score-multi__value 3      object\n",
       "sdg-score-multi__number 4      int64\n",
       "sdg-score-multi__value 4      object\n",
       "scores                        object\n",
       "avg_score                    float64\n",
       "dtype: object"
      ]
     },
     "execution_count": 46,
     "metadata": {},
     "output_type": "execute_result"
    }
   ],
   "source": [
    "the_df.dtypes"
   ]
  },
  {
   "cell_type": "code",
   "execution_count": 47,
   "metadata": {},
   "outputs": [
    {
     "data": {
      "text/plain": [
       "array(['1', '2', '3', '4', '5', '6', '=7', '=9', '12', '13', '=14', '17',\n",
       "       '=18', '20', '21', '22', '23', '=24', '=26', '28', '=29', '32',\n",
       "       '33', '=34', '=36', '38', '39', '=40', '=42', '=46', '=49', '=52',\n",
       "       '55', '56', '57', '=58', '=61', '63', '=64', '66', '=67', '69',\n",
       "       '70', '71', '=72', '=74', '=77', '=79', '=83', '85', '=86', '91',\n",
       "       '=92', '96', '=97', '99', '=100', '101–200', '201–300', '301–400',\n",
       "       '401–600', '601–800', '801–1000', '1001+'], dtype=object)"
      ]
     },
     "execution_count": 47,
     "metadata": {},
     "output_type": "execute_result"
    }
   ],
   "source": [
    "the_df['Rank'].unique()"
   ]
  },
  {
   "cell_type": "code",
   "execution_count": 48,
   "metadata": {},
   "outputs": [],
   "source": [
    "the_df['Rank'] = the_df['Rank'].str.replace('=', '')"
   ]
  },
  {
   "cell_type": "code",
   "execution_count": 49,
   "metadata": {},
   "outputs": [
    {
     "data": {
      "text/html": [
       "<div>\n",
       "<style scoped>\n",
       "    .dataframe tbody tr th:only-of-type {\n",
       "        vertical-align: middle;\n",
       "    }\n",
       "\n",
       "    .dataframe tbody tr th {\n",
       "        vertical-align: top;\n",
       "    }\n",
       "\n",
       "    .dataframe thead th {\n",
       "        text-align: right;\n",
       "    }\n",
       "</style>\n",
       "<table border=\"1\" class=\"dataframe\">\n",
       "  <thead>\n",
       "    <tr style=\"text-align: right;\">\n",
       "      <th></th>\n",
       "      <th>Rank</th>\n",
       "      <th>University Name</th>\n",
       "      <th>Location</th>\n",
       "      <th>sdg-score-multi__number</th>\n",
       "      <th>sdg-score-multi__value</th>\n",
       "      <th>sdg-score-multi__number 2</th>\n",
       "      <th>sdg-score-multi__value 2</th>\n",
       "      <th>sdg-score-multi__number 3</th>\n",
       "      <th>sdg-score-multi__value 3</th>\n",
       "      <th>sdg-score-multi__number 4</th>\n",
       "      <th>sdg-score-multi__value 4</th>\n",
       "      <th>scores</th>\n",
       "      <th>avg_score</th>\n",
       "    </tr>\n",
       "  </thead>\n",
       "  <tbody>\n",
       "    <tr>\n",
       "      <th>0</th>\n",
       "      <td>1</td>\n",
       "      <td>Western Sydney University</td>\n",
       "      <td>Australia</td>\n",
       "      <td>5</td>\n",
       "      <td>80.3</td>\n",
       "      <td>12</td>\n",
       "      <td>93.4</td>\n",
       "      <td>15</td>\n",
       "      <td>96.7</td>\n",
       "      <td>17</td>\n",
       "      <td>98.8</td>\n",
       "      <td>99.4</td>\n",
       "      <td>99.4</td>\n",
       "    </tr>\n",
       "    <tr>\n",
       "      <th>1</th>\n",
       "      <td>2</td>\n",
       "      <td>University of Manchester</td>\n",
       "      <td>United Kingdom</td>\n",
       "      <td>15</td>\n",
       "      <td>97.4</td>\n",
       "      <td>12</td>\n",
       "      <td>92.9</td>\n",
       "      <td>11</td>\n",
       "      <td>92.2</td>\n",
       "      <td>17</td>\n",
       "      <td>94.8</td>\n",
       "      <td>97.5</td>\n",
       "      <td>97.5</td>\n",
       "    </tr>\n",
       "    <tr>\n",
       "      <th>2</th>\n",
       "      <td>3</td>\n",
       "      <td>Queen’s University</td>\n",
       "      <td>Canada</td>\n",
       "      <td>2</td>\n",
       "      <td>90.6</td>\n",
       "      <td>16</td>\n",
       "      <td>93.4</td>\n",
       "      <td>11</td>\n",
       "      <td>91.0</td>\n",
       "      <td>17</td>\n",
       "      <td>92.6</td>\n",
       "      <td>97.2</td>\n",
       "      <td>97.2</td>\n",
       "    </tr>\n",
       "    <tr>\n",
       "      <th>3</th>\n",
       "      <td>4</td>\n",
       "      <td>Universiti Sains Malaysia</td>\n",
       "      <td>Malaysia</td>\n",
       "      <td>16</td>\n",
       "      <td>94.1</td>\n",
       "      <td>2</td>\n",
       "      <td>86.4</td>\n",
       "      <td>1</td>\n",
       "      <td>84.9</td>\n",
       "      <td>17</td>\n",
       "      <td>97.8</td>\n",
       "      <td>96.9</td>\n",
       "      <td>96.9</td>\n",
       "    </tr>\n",
       "    <tr>\n",
       "      <th>4</th>\n",
       "      <td>5</td>\n",
       "      <td>University of Tasmania</td>\n",
       "      <td>Australia</td>\n",
       "      <td>13</td>\n",
       "      <td>92.8</td>\n",
       "      <td>15</td>\n",
       "      <td>96.2</td>\n",
       "      <td>14</td>\n",
       "      <td>95.1</td>\n",
       "      <td>17</td>\n",
       "      <td>96.3</td>\n",
       "      <td>96.6</td>\n",
       "      <td>96.6</td>\n",
       "    </tr>\n",
       "    <tr>\n",
       "      <th>5</th>\n",
       "      <td>6</td>\n",
       "      <td>Arizona State University (Tempe)</td>\n",
       "      <td>United States</td>\n",
       "      <td>15</td>\n",
       "      <td>95.4</td>\n",
       "      <td>14</td>\n",
       "      <td>93.9</td>\n",
       "      <td>6</td>\n",
       "      <td>87.6</td>\n",
       "      <td>17</td>\n",
       "      <td>81.9–86.9</td>\n",
       "      <td>96.5</td>\n",
       "      <td>96.5</td>\n",
       "    </tr>\n",
       "    <tr>\n",
       "      <th>6</th>\n",
       "      <td>7</td>\n",
       "      <td>University of Alberta</td>\n",
       "      <td>Canada</td>\n",
       "      <td>9</td>\n",
       "      <td>99.4</td>\n",
       "      <td>2</td>\n",
       "      <td>89.2</td>\n",
       "      <td>15</td>\n",
       "      <td>91.0</td>\n",
       "      <td>17</td>\n",
       "      <td>94.4</td>\n",
       "      <td>96.4</td>\n",
       "      <td>96.4</td>\n",
       "    </tr>\n",
       "    <tr>\n",
       "      <th>7</th>\n",
       "      <td>7</td>\n",
       "      <td>RMIT University</td>\n",
       "      <td>Australia</td>\n",
       "      <td>10</td>\n",
       "      <td>92.1</td>\n",
       "      <td>8</td>\n",
       "      <td>83.7</td>\n",
       "      <td>11</td>\n",
       "      <td>87.4</td>\n",
       "      <td>17</td>\n",
       "      <td>98.5</td>\n",
       "      <td>96.4</td>\n",
       "      <td>96.4</td>\n",
       "    </tr>\n",
       "    <tr>\n",
       "      <th>8</th>\n",
       "      <td>9</td>\n",
       "      <td>Aalborg University</td>\n",
       "      <td>Denmark</td>\n",
       "      <td>4</td>\n",
       "      <td>90.6</td>\n",
       "      <td>10</td>\n",
       "      <td>90.2</td>\n",
       "      <td>14</td>\n",
       "      <td>93.4</td>\n",
       "      <td>17</td>\n",
       "      <td>98.5</td>\n",
       "      <td>95.8</td>\n",
       "      <td>95.8</td>\n",
       "    </tr>\n",
       "    <tr>\n",
       "      <th>9</th>\n",
       "      <td>9</td>\n",
       "      <td>University of Victoria</td>\n",
       "      <td>Canada</td>\n",
       "      <td>11</td>\n",
       "      <td>91.8</td>\n",
       "      <td>13</td>\n",
       "      <td>89.4</td>\n",
       "      <td>12</td>\n",
       "      <td>88.4</td>\n",
       "      <td>17</td>\n",
       "      <td>91.9</td>\n",
       "      <td>95.8</td>\n",
       "      <td>95.8</td>\n",
       "    </tr>\n",
       "    <tr>\n",
       "      <th>10</th>\n",
       "      <td>9</td>\n",
       "      <td>Western University</td>\n",
       "      <td>Canada</td>\n",
       "      <td>9</td>\n",
       "      <td>97.7</td>\n",
       "      <td>1</td>\n",
       "      <td>88.0</td>\n",
       "      <td>8</td>\n",
       "      <td>78.6</td>\n",
       "      <td>17</td>\n",
       "      <td>81.9–86.9</td>\n",
       "      <td>95.8</td>\n",
       "      <td>95.8</td>\n",
       "    </tr>\n",
       "    <tr>\n",
       "      <th>11</th>\n",
       "      <td>12</td>\n",
       "      <td>University of Auckland</td>\n",
       "      <td>New Zealand</td>\n",
       "      <td>15</td>\n",
       "      <td>95.0</td>\n",
       "      <td>5</td>\n",
       "      <td>75.8</td>\n",
       "      <td>9</td>\n",
       "      <td>93.3</td>\n",
       "      <td>17</td>\n",
       "      <td>92.2</td>\n",
       "      <td>95.6</td>\n",
       "      <td>95.6</td>\n",
       "    </tr>\n",
       "    <tr>\n",
       "      <th>12</th>\n",
       "      <td>13</td>\n",
       "      <td>University of Glasgow</td>\n",
       "      <td>United Kingdom</td>\n",
       "      <td>11</td>\n",
       "      <td>93.1</td>\n",
       "      <td>16</td>\n",
       "      <td>89.1</td>\n",
       "      <td>8</td>\n",
       "      <td>76.8</td>\n",
       "      <td>17</td>\n",
       "      <td>96.6</td>\n",
       "      <td>95.4</td>\n",
       "      <td>95.4</td>\n",
       "    </tr>\n",
       "    <tr>\n",
       "      <th>13</th>\n",
       "      <td>14</td>\n",
       "      <td>Université Laval</td>\n",
       "      <td>Canada</td>\n",
       "      <td>2</td>\n",
       "      <td>88.5</td>\n",
       "      <td>12</td>\n",
       "      <td>90.7</td>\n",
       "      <td>15</td>\n",
       "      <td>94.5</td>\n",
       "      <td>17</td>\n",
       "      <td>93.7</td>\n",
       "      <td>95.0</td>\n",
       "      <td>95.0</td>\n",
       "    </tr>\n",
       "    <tr>\n",
       "      <th>14</th>\n",
       "      <td>14</td>\n",
       "      <td>University of Technology Sydney</td>\n",
       "      <td>Australia</td>\n",
       "      <td>12</td>\n",
       "      <td>88.9</td>\n",
       "      <td>8</td>\n",
       "      <td>78.2</td>\n",
       "      <td>11</td>\n",
       "      <td>86.0</td>\n",
       "      <td>17</td>\n",
       "      <td>96.1</td>\n",
       "      <td>95.0</td>\n",
       "      <td>95.0</td>\n",
       "    </tr>\n",
       "    <tr>\n",
       "      <th>15</th>\n",
       "      <td>14</td>\n",
       "      <td>Yonsei University (Seoul campus)</td>\n",
       "      <td>South Korea</td>\n",
       "      <td>9</td>\n",
       "      <td>99.9</td>\n",
       "      <td>12</td>\n",
       "      <td>91.0</td>\n",
       "      <td>8</td>\n",
       "      <td>78.2</td>\n",
       "      <td>17</td>\n",
       "      <td>91.6</td>\n",
       "      <td>95.0</td>\n",
       "      <td>95.0</td>\n",
       "    </tr>\n",
       "    <tr>\n",
       "      <th>16</th>\n",
       "      <td>17</td>\n",
       "      <td>Chulalongkorn University</td>\n",
       "      <td>Thailand</td>\n",
       "      <td>9</td>\n",
       "      <td>99.0</td>\n",
       "      <td>3</td>\n",
       "      <td>88.1</td>\n",
       "      <td>8</td>\n",
       "      <td>74.4</td>\n",
       "      <td>17</td>\n",
       "      <td>95.6</td>\n",
       "      <td>94.8</td>\n",
       "      <td>94.8</td>\n",
       "    </tr>\n",
       "    <tr>\n",
       "      <th>17</th>\n",
       "      <td>18</td>\n",
       "      <td>University of Exeter</td>\n",
       "      <td>United Kingdom</td>\n",
       "      <td>6</td>\n",
       "      <td>92.7</td>\n",
       "      <td>12</td>\n",
       "      <td>90.5</td>\n",
       "      <td>15</td>\n",
       "      <td>90.2</td>\n",
       "      <td>17</td>\n",
       "      <td>94.0</td>\n",
       "      <td>94.5</td>\n",
       "      <td>94.5</td>\n",
       "    </tr>\n",
       "    <tr>\n",
       "      <th>18</th>\n",
       "      <td>18</td>\n",
       "      <td>UNSW Sydney</td>\n",
       "      <td>Australia</td>\n",
       "      <td>13</td>\n",
       "      <td>92.6</td>\n",
       "      <td>11</td>\n",
       "      <td>90.6</td>\n",
       "      <td>15</td>\n",
       "      <td>93.4</td>\n",
       "      <td>17</td>\n",
       "      <td>94.8</td>\n",
       "      <td>94.5</td>\n",
       "      <td>94.5</td>\n",
       "    </tr>\n",
       "    <tr>\n",
       "      <th>19</th>\n",
       "      <td>20</td>\n",
       "      <td>University of Indonesia</td>\n",
       "      <td>Indonesia</td>\n",
       "      <td>2</td>\n",
       "      <td>87.7</td>\n",
       "      <td>1</td>\n",
       "      <td>89.0</td>\n",
       "      <td>8</td>\n",
       "      <td>79.1</td>\n",
       "      <td>17</td>\n",
       "      <td>81.9–86.9</td>\n",
       "      <td>94.4</td>\n",
       "      <td>94.4</td>\n",
       "    </tr>\n",
       "  </tbody>\n",
       "</table>\n",
       "</div>"
      ],
      "text/plain": [
       "   Rank                   University Name        Location  \\\n",
       "0     1         Western Sydney University       Australia   \n",
       "1     2          University of Manchester  United Kingdom   \n",
       "2     3                Queen’s University          Canada   \n",
       "3     4         Universiti Sains Malaysia        Malaysia   \n",
       "4     5            University of Tasmania       Australia   \n",
       "5     6  Arizona State University (Tempe)   United States   \n",
       "6     7             University of Alberta          Canada   \n",
       "7     7                   RMIT University       Australia   \n",
       "8     9                Aalborg University         Denmark   \n",
       "9     9            University of Victoria          Canada   \n",
       "10    9                Western University          Canada   \n",
       "11   12            University of Auckland     New Zealand   \n",
       "12   13             University of Glasgow  United Kingdom   \n",
       "13   14                  Université Laval          Canada   \n",
       "14   14   University of Technology Sydney       Australia   \n",
       "15   14  Yonsei University (Seoul campus)     South Korea   \n",
       "16   17          Chulalongkorn University        Thailand   \n",
       "17   18              University of Exeter  United Kingdom   \n",
       "18   18                       UNSW Sydney       Australia   \n",
       "19   20           University of Indonesia       Indonesia   \n",
       "\n",
       "    sdg-score-multi__number sdg-score-multi__value  sdg-score-multi__number 2  \\\n",
       "0                         5                   80.3                         12   \n",
       "1                        15                   97.4                         12   \n",
       "2                         2                   90.6                         16   \n",
       "3                        16                   94.1                          2   \n",
       "4                        13                   92.8                         15   \n",
       "5                        15                   95.4                         14   \n",
       "6                         9                   99.4                          2   \n",
       "7                        10                   92.1                          8   \n",
       "8                         4                   90.6                         10   \n",
       "9                        11                   91.8                         13   \n",
       "10                        9                   97.7                          1   \n",
       "11                       15                   95.0                          5   \n",
       "12                       11                   93.1                         16   \n",
       "13                        2                   88.5                         12   \n",
       "14                       12                   88.9                          8   \n",
       "15                        9                   99.9                         12   \n",
       "16                        9                   99.0                          3   \n",
       "17                        6                   92.7                         12   \n",
       "18                       13                   92.6                         11   \n",
       "19                        2                   87.7                          1   \n",
       "\n",
       "   sdg-score-multi__value 2  sdg-score-multi__number 3  \\\n",
       "0                      93.4                         15   \n",
       "1                      92.9                         11   \n",
       "2                      93.4                         11   \n",
       "3                      86.4                          1   \n",
       "4                      96.2                         14   \n",
       "5                      93.9                          6   \n",
       "6                      89.2                         15   \n",
       "7                      83.7                         11   \n",
       "8                      90.2                         14   \n",
       "9                      89.4                         12   \n",
       "10                     88.0                          8   \n",
       "11                     75.8                          9   \n",
       "12                     89.1                          8   \n",
       "13                     90.7                         15   \n",
       "14                     78.2                         11   \n",
       "15                     91.0                          8   \n",
       "16                     88.1                          8   \n",
       "17                     90.5                         15   \n",
       "18                     90.6                         15   \n",
       "19                     89.0                          8   \n",
       "\n",
       "   sdg-score-multi__value 3  sdg-score-multi__number 4  \\\n",
       "0                      96.7                         17   \n",
       "1                      92.2                         17   \n",
       "2                      91.0                         17   \n",
       "3                      84.9                         17   \n",
       "4                      95.1                         17   \n",
       "5                      87.6                         17   \n",
       "6                      91.0                         17   \n",
       "7                      87.4                         17   \n",
       "8                      93.4                         17   \n",
       "9                      88.4                         17   \n",
       "10                     78.6                         17   \n",
       "11                     93.3                         17   \n",
       "12                     76.8                         17   \n",
       "13                     94.5                         17   \n",
       "14                     86.0                         17   \n",
       "15                     78.2                         17   \n",
       "16                     74.4                         17   \n",
       "17                     90.2                         17   \n",
       "18                     93.4                         17   \n",
       "19                     79.1                         17   \n",
       "\n",
       "   sdg-score-multi__value 4 scores  avg_score  \n",
       "0                      98.8   99.4       99.4  \n",
       "1                      94.8   97.5       97.5  \n",
       "2                      92.6   97.2       97.2  \n",
       "3                      97.8   96.9       96.9  \n",
       "4                      96.3   96.6       96.6  \n",
       "5                 81.9–86.9   96.5       96.5  \n",
       "6                      94.4   96.4       96.4  \n",
       "7                      98.5   96.4       96.4  \n",
       "8                      98.5   95.8       95.8  \n",
       "9                      91.9   95.8       95.8  \n",
       "10                81.9–86.9   95.8       95.8  \n",
       "11                     92.2   95.6       95.6  \n",
       "12                     96.6   95.4       95.4  \n",
       "13                     93.7   95.0       95.0  \n",
       "14                     96.1   95.0       95.0  \n",
       "15                     91.6   95.0       95.0  \n",
       "16                     95.6   94.8       94.8  \n",
       "17                     94.0   94.5       94.5  \n",
       "18                     94.8   94.5       94.5  \n",
       "19                81.9–86.9   94.4       94.4  "
      ]
     },
     "execution_count": 49,
     "metadata": {},
     "output_type": "execute_result"
    }
   ],
   "source": [
    "the_df.head(20)"
   ]
  },
  {
   "cell_type": "code",
   "execution_count": 50,
   "metadata": {},
   "outputs": [],
   "source": [
    "# Create a new column 'int_rank' and assign the values from the 'Rank' column to it\n",
    "def rank_to_int(rank):\n",
    "    # Handle cases where Rank is a range (e.g., '101–200')\n",
    "    if '–' in rank:\n",
    "        return int(rank.split('–')[0])  # Take the lower bound of the range\n",
    "    # Handle cases like '1001+'\n",
    "    elif '+' in rank:\n",
    "        return int(rank[:-1])  # Strip the '+' and convert to int\n",
    "    else:\n",
    "        return int(rank)  # Convert numeric string to int\n",
    "\n",
    "# Create a new 'int_rank' column and convert the 'Rank' to integer-like values\n",
    "the_df['int_rank'] = the_df['Rank'].apply(rank_to_int)\n"
   ]
  },
  {
   "cell_type": "code",
   "execution_count": 51,
   "metadata": {},
   "outputs": [
    {
     "data": {
      "text/plain": [
       "Rank                          object\n",
       "University Name               object\n",
       "Location                      object\n",
       "sdg-score-multi__number        int64\n",
       "sdg-score-multi__value        object\n",
       "sdg-score-multi__number 2      int64\n",
       "sdg-score-multi__value 2      object\n",
       "sdg-score-multi__number 3      int64\n",
       "sdg-score-multi__value 3      object\n",
       "sdg-score-multi__number 4      int64\n",
       "sdg-score-multi__value 4      object\n",
       "scores                        object\n",
       "avg_score                    float64\n",
       "int_rank                       int64\n",
       "dtype: object"
      ]
     },
     "execution_count": 51,
     "metadata": {},
     "output_type": "execute_result"
    }
   ],
   "source": [
    "the_df.dtypes"
   ]
  },
  {
   "cell_type": "code",
   "execution_count": 52,
   "metadata": {},
   "outputs": [
    {
     "data": {
      "text/html": [
       "<div>\n",
       "<style scoped>\n",
       "    .dataframe tbody tr th:only-of-type {\n",
       "        vertical-align: middle;\n",
       "    }\n",
       "\n",
       "    .dataframe tbody tr th {\n",
       "        vertical-align: top;\n",
       "    }\n",
       "\n",
       "    .dataframe thead th {\n",
       "        text-align: right;\n",
       "    }\n",
       "</style>\n",
       "<table border=\"1\" class=\"dataframe\">\n",
       "  <thead>\n",
       "    <tr style=\"text-align: right;\">\n",
       "      <th></th>\n",
       "      <th>Rank</th>\n",
       "      <th>University Name</th>\n",
       "      <th>Location</th>\n",
       "      <th>sdg-score-multi__number</th>\n",
       "      <th>sdg-score-multi__value</th>\n",
       "      <th>sdg-score-multi__number 2</th>\n",
       "      <th>sdg-score-multi__value 2</th>\n",
       "      <th>sdg-score-multi__number 3</th>\n",
       "      <th>sdg-score-multi__value 3</th>\n",
       "      <th>sdg-score-multi__number 4</th>\n",
       "      <th>sdg-score-multi__value 4</th>\n",
       "      <th>scores</th>\n",
       "      <th>avg_score</th>\n",
       "      <th>int_rank</th>\n",
       "    </tr>\n",
       "  </thead>\n",
       "  <tbody>\n",
       "    <tr>\n",
       "      <th>136</th>\n",
       "      <td>101–200</td>\n",
       "      <td>King Abdullah University of Science and Techno...</td>\n",
       "      <td>Saudi Arabia</td>\n",
       "      <td>6</td>\n",
       "      <td>88.0</td>\n",
       "      <td>14</td>\n",
       "      <td>93.7</td>\n",
       "      <td>7</td>\n",
       "      <td>70.9</td>\n",
       "      <td>17</td>\n",
       "      <td>95.9</td>\n",
       "      <td>82.2–88.2</td>\n",
       "      <td>85.20</td>\n",
       "      <td>101</td>\n",
       "    </tr>\n",
       "    <tr>\n",
       "      <th>137</th>\n",
       "      <td>101–200</td>\n",
       "      <td>King Faisal University</td>\n",
       "      <td>Saudi Arabia</td>\n",
       "      <td>2</td>\n",
       "      <td>77.7</td>\n",
       "      <td>7</td>\n",
       "      <td>78.6</td>\n",
       "      <td>1</td>\n",
       "      <td>80.1</td>\n",
       "      <td>17</td>\n",
       "      <td>81.9–86.9</td>\n",
       "      <td>82.2–88.2</td>\n",
       "      <td>85.20</td>\n",
       "      <td>101</td>\n",
       "    </tr>\n",
       "    <tr>\n",
       "      <th>164</th>\n",
       "      <td>101–200</td>\n",
       "      <td>Prince Mohammad Bin Fahd University</td>\n",
       "      <td>Saudi Arabia</td>\n",
       "      <td>10</td>\n",
       "      <td>65.2–73.3</td>\n",
       "      <td>8</td>\n",
       "      <td>62.4–66.3</td>\n",
       "      <td>14</td>\n",
       "      <td>73.7</td>\n",
       "      <td>17</td>\n",
       "      <td>90.7</td>\n",
       "      <td>82.2–88.2</td>\n",
       "      <td>85.20</td>\n",
       "      <td>101</td>\n",
       "    </tr>\n",
       "    <tr>\n",
       "      <th>205</th>\n",
       "      <td>201–300</td>\n",
       "      <td>AlMaarefa University</td>\n",
       "      <td>Saudi Arabia</td>\n",
       "      <td>8</td>\n",
       "      <td>62.4–66.3</td>\n",
       "      <td>1</td>\n",
       "      <td>71.5</td>\n",
       "      <td>3</td>\n",
       "      <td>81.6</td>\n",
       "      <td>17</td>\n",
       "      <td>81.9–86.9</td>\n",
       "      <td>76.8–82.1</td>\n",
       "      <td>79.45</td>\n",
       "      <td>201</td>\n",
       "    </tr>\n",
       "    <tr>\n",
       "      <th>243</th>\n",
       "      <td>201–300</td>\n",
       "      <td>Imam Abdulrahman Bin Faisal University</td>\n",
       "      <td>Saudi Arabia</td>\n",
       "      <td>5</td>\n",
       "      <td>61.5–66.9</td>\n",
       "      <td>3</td>\n",
       "      <td>89.6</td>\n",
       "      <td>6</td>\n",
       "      <td>73.7</td>\n",
       "      <td>17</td>\n",
       "      <td>89.0</td>\n",
       "      <td>76.8–82.1</td>\n",
       "      <td>79.45</td>\n",
       "      <td>201</td>\n",
       "    </tr>\n",
       "    <tr>\n",
       "      <th>244</th>\n",
       "      <td>201–300</td>\n",
       "      <td>Imam Mohammad Ibn Saud Islamic University</td>\n",
       "      <td>Saudi Arabia</td>\n",
       "      <td>8</td>\n",
       "      <td>62.4–66.3</td>\n",
       "      <td>16</td>\n",
       "      <td>70.0–77.0</td>\n",
       "      <td>4</td>\n",
       "      <td>82.2</td>\n",
       "      <td>17</td>\n",
       "      <td>81.9–86.9</td>\n",
       "      <td>76.8–82.1</td>\n",
       "      <td>79.45</td>\n",
       "      <td>201</td>\n",
       "    </tr>\n",
       "    <tr>\n",
       "      <th>251</th>\n",
       "      <td>201–300</td>\n",
       "      <td>King Fahd University of Petroleum and Minerals</td>\n",
       "      <td>Saudi Arabia</td>\n",
       "      <td>8</td>\n",
       "      <td>75.0</td>\n",
       "      <td>9</td>\n",
       "      <td>95.6</td>\n",
       "      <td>14</td>\n",
       "      <td>75.0</td>\n",
       "      <td>17</td>\n",
       "      <td>81.9–86.9</td>\n",
       "      <td>76.8–82.1</td>\n",
       "      <td>79.45</td>\n",
       "      <td>201</td>\n",
       "    </tr>\n",
       "    <tr>\n",
       "      <th>378</th>\n",
       "      <td>301–400</td>\n",
       "      <td>Prince Sultan University (PSU)</td>\n",
       "      <td>Saudi Arabia</td>\n",
       "      <td>8</td>\n",
       "      <td>74.6</td>\n",
       "      <td>16</td>\n",
       "      <td>63.7–69.9</td>\n",
       "      <td>5</td>\n",
       "      <td>43.7–51.5</td>\n",
       "      <td>17</td>\n",
       "      <td>75.6–81.7</td>\n",
       "      <td>72.7–76.7</td>\n",
       "      <td>74.70</td>\n",
       "      <td>301</td>\n",
       "    </tr>\n",
       "    <tr>\n",
       "      <th>482</th>\n",
       "      <td>401–600</td>\n",
       "      <td>King Khalid University</td>\n",
       "      <td>Saudi Arabia</td>\n",
       "      <td>6</td>\n",
       "      <td>69.4</td>\n",
       "      <td>-1</td>\n",
       "      <td>0-0</td>\n",
       "      <td>-1</td>\n",
       "      <td>0-0</td>\n",
       "      <td>17</td>\n",
       "      <td>53.4–61.0</td>\n",
       "      <td>66.9–72.6</td>\n",
       "      <td>69.75</td>\n",
       "      <td>401</td>\n",
       "    </tr>\n",
       "    <tr>\n",
       "      <th>539</th>\n",
       "      <td>401–600</td>\n",
       "      <td>Qassim University</td>\n",
       "      <td>Saudi Arabia</td>\n",
       "      <td>1</td>\n",
       "      <td>79.1</td>\n",
       "      <td>8</td>\n",
       "      <td>57.8–62.2</td>\n",
       "      <td>4</td>\n",
       "      <td>73.1</td>\n",
       "      <td>17</td>\n",
       "      <td>81.9–86.9</td>\n",
       "      <td>66.9–72.6</td>\n",
       "      <td>69.75</td>\n",
       "      <td>401</td>\n",
       "    </tr>\n",
       "    <tr>\n",
       "      <th>606</th>\n",
       "      <td>601–800</td>\n",
       "      <td>Alfaisal University</td>\n",
       "      <td>Saudi Arabia</td>\n",
       "      <td>9</td>\n",
       "      <td>73.0–87.2</td>\n",
       "      <td>3</td>\n",
       "      <td>68.3–73.4</td>\n",
       "      <td>4</td>\n",
       "      <td>43.6–50.9</td>\n",
       "      <td>17</td>\n",
       "      <td>45.3–53.3</td>\n",
       "      <td>59.7–66.7</td>\n",
       "      <td>63.20</td>\n",
       "      <td>601</td>\n",
       "    </tr>\n",
       "    <tr>\n",
       "      <th>623</th>\n",
       "      <td>601–800</td>\n",
       "      <td>Batterjee Medical College</td>\n",
       "      <td>Saudi Arabia</td>\n",
       "      <td>5</td>\n",
       "      <td>43.7–51.5</td>\n",
       "      <td>3</td>\n",
       "      <td>63.9–68.2</td>\n",
       "      <td>-1</td>\n",
       "      <td>0-0</td>\n",
       "      <td>17</td>\n",
       "      <td>45.3–53.3</td>\n",
       "      <td>59.7–66.7</td>\n",
       "      <td>63.20</td>\n",
       "      <td>601</td>\n",
       "    </tr>\n",
       "    <tr>\n",
       "      <th>745</th>\n",
       "      <td>601–800</td>\n",
       "      <td>Prince Sattam Bin Abdulaziz University</td>\n",
       "      <td>Saudi Arabia</td>\n",
       "      <td>5</td>\n",
       "      <td>43.7–51.5</td>\n",
       "      <td>-1</td>\n",
       "      <td>0-0</td>\n",
       "      <td>3</td>\n",
       "      <td>54.7–63.8</td>\n",
       "      <td>17</td>\n",
       "      <td>61.1–70.5</td>\n",
       "      <td>59.7–66.7</td>\n",
       "      <td>63.20</td>\n",
       "      <td>601</td>\n",
       "    </tr>\n",
       "    <tr>\n",
       "      <th>755</th>\n",
       "      <td>601–800</td>\n",
       "      <td>Saudi Electronic University</td>\n",
       "      <td>Saudi Arabia</td>\n",
       "      <td>12</td>\n",
       "      <td>49.4–58.6</td>\n",
       "      <td>4</td>\n",
       "      <td>62.6–66.5</td>\n",
       "      <td>10</td>\n",
       "      <td>57.6–65.1</td>\n",
       "      <td>17</td>\n",
       "      <td>45.3–53.3</td>\n",
       "      <td>59.7–66.7</td>\n",
       "      <td>63.20</td>\n",
       "      <td>601</td>\n",
       "    </tr>\n",
       "    <tr>\n",
       "      <th>808</th>\n",
       "      <td>801–1000</td>\n",
       "      <td>Al-Baha University</td>\n",
       "      <td>Saudi Arabia</td>\n",
       "      <td>3</td>\n",
       "      <td>32.1–44.6</td>\n",
       "      <td>8</td>\n",
       "      <td>48.4–57.7</td>\n",
       "      <td>4</td>\n",
       "      <td>51.0–58.6</td>\n",
       "      <td>17</td>\n",
       "      <td>53.4–61.0</td>\n",
       "      <td>53.9–59.6</td>\n",
       "      <td>56.75</td>\n",
       "      <td>801</td>\n",
       "    </tr>\n",
       "    <tr>\n",
       "      <th>837</th>\n",
       "      <td>801–1000</td>\n",
       "      <td>University of Bisha</td>\n",
       "      <td>Saudi Arabia</td>\n",
       "      <td>3</td>\n",
       "      <td>44.7–54.5</td>\n",
       "      <td>7</td>\n",
       "      <td>38.7–51.8</td>\n",
       "      <td>4</td>\n",
       "      <td>62.6–66.5</td>\n",
       "      <td>17</td>\n",
       "      <td>1.5–45.2</td>\n",
       "      <td>53.9–59.6</td>\n",
       "      <td>56.75</td>\n",
       "      <td>801</td>\n",
       "    </tr>\n",
       "    <tr>\n",
       "      <th>866</th>\n",
       "      <td>801–1000</td>\n",
       "      <td>University of Hail</td>\n",
       "      <td>Saudi Arabia</td>\n",
       "      <td>4</td>\n",
       "      <td>43.6–50.9</td>\n",
       "      <td>3</td>\n",
       "      <td>54.7–63.8</td>\n",
       "      <td>1</td>\n",
       "      <td>38.2–49.4</td>\n",
       "      <td>17</td>\n",
       "      <td>53.4–61.0</td>\n",
       "      <td>53.9–59.6</td>\n",
       "      <td>56.75</td>\n",
       "      <td>801</td>\n",
       "    </tr>\n",
       "    <tr>\n",
       "      <th>881</th>\n",
       "      <td>801–1000</td>\n",
       "      <td>University of Jeddah</td>\n",
       "      <td>Saudi Arabia</td>\n",
       "      <td>5</td>\n",
       "      <td>56.1–61.4</td>\n",
       "      <td>8</td>\n",
       "      <td>48.4–57.7</td>\n",
       "      <td>4</td>\n",
       "      <td>62.6–66.5</td>\n",
       "      <td>17</td>\n",
       "      <td>45.3–53.3</td>\n",
       "      <td>53.9–59.6</td>\n",
       "      <td>56.75</td>\n",
       "      <td>801</td>\n",
       "    </tr>\n",
       "    <tr>\n",
       "      <th>989</th>\n",
       "      <td>801–1000</td>\n",
       "      <td>Umm Al-Qura University</td>\n",
       "      <td>Saudi Arabia</td>\n",
       "      <td>3</td>\n",
       "      <td>63.9–68.2</td>\n",
       "      <td>9</td>\n",
       "      <td>17.2–33.8</td>\n",
       "      <td>4</td>\n",
       "      <td>43.6–50.9</td>\n",
       "      <td>17</td>\n",
       "      <td>61.1–70.5</td>\n",
       "      <td>53.9–59.6</td>\n",
       "      <td>56.75</td>\n",
       "      <td>801</td>\n",
       "    </tr>\n",
       "    <tr>\n",
       "      <th>1034</th>\n",
       "      <td>1001+</td>\n",
       "      <td>Al Yamamah University</td>\n",
       "      <td>Saudi Arabia</td>\n",
       "      <td>8</td>\n",
       "      <td>48.4–57.7</td>\n",
       "      <td>10</td>\n",
       "      <td>51.8–57.5</td>\n",
       "      <td>5</td>\n",
       "      <td>34.4–43.6</td>\n",
       "      <td>17</td>\n",
       "      <td>1.5–45.2</td>\n",
       "      <td>7.9–53.8</td>\n",
       "      <td>30.85</td>\n",
       "      <td>1001</td>\n",
       "    </tr>\n",
       "    <tr>\n",
       "      <th>1095</th>\n",
       "      <td>1001+</td>\n",
       "      <td>University of Business and Technology</td>\n",
       "      <td>Saudi Arabia</td>\n",
       "      <td>10</td>\n",
       "      <td>51.8–57.5</td>\n",
       "      <td>5</td>\n",
       "      <td>34.4–43.6</td>\n",
       "      <td>8</td>\n",
       "      <td>62.4–66.3</td>\n",
       "      <td>17</td>\n",
       "      <td>53.4–61.0</td>\n",
       "      <td>7.9–53.8</td>\n",
       "      <td>30.85</td>\n",
       "      <td>1001</td>\n",
       "    </tr>\n",
       "    <tr>\n",
       "      <th>1156</th>\n",
       "      <td>1001+</td>\n",
       "      <td>Effat University</td>\n",
       "      <td>Saudi Arabia</td>\n",
       "      <td>5</td>\n",
       "      <td>51.6–56.0</td>\n",
       "      <td>3</td>\n",
       "      <td>32.1–44.6</td>\n",
       "      <td>10</td>\n",
       "      <td>40.0–51.7</td>\n",
       "      <td>17</td>\n",
       "      <td>45.3–53.3</td>\n",
       "      <td>7.9–53.8</td>\n",
       "      <td>30.85</td>\n",
       "      <td>1001</td>\n",
       "    </tr>\n",
       "    <tr>\n",
       "      <th>1236</th>\n",
       "      <td>1001+</td>\n",
       "      <td>Islamic University of Madinah</td>\n",
       "      <td>Saudi Arabia</td>\n",
       "      <td>8</td>\n",
       "      <td>1.4–35.6</td>\n",
       "      <td>12</td>\n",
       "      <td>26.1–49.1</td>\n",
       "      <td>4</td>\n",
       "      <td>35.8–43.5</td>\n",
       "      <td>17</td>\n",
       "      <td>1.5–45.2</td>\n",
       "      <td>7.9–53.8</td>\n",
       "      <td>30.85</td>\n",
       "      <td>1001</td>\n",
       "    </tr>\n",
       "    <tr>\n",
       "      <th>1337</th>\n",
       "      <td>1001+</td>\n",
       "      <td>Najran University</td>\n",
       "      <td>Saudi Arabia</td>\n",
       "      <td>3</td>\n",
       "      <td>32.1–44.6</td>\n",
       "      <td>5</td>\n",
       "      <td>5.0–21.9</td>\n",
       "      <td>4</td>\n",
       "      <td>43.6–50.9</td>\n",
       "      <td>17</td>\n",
       "      <td>1.5–45.2</td>\n",
       "      <td>7.9–53.8</td>\n",
       "      <td>30.85</td>\n",
       "      <td>1001</td>\n",
       "    </tr>\n",
       "    <tr>\n",
       "      <th>1485</th>\n",
       "      <td>1001+</td>\n",
       "      <td>University of Tabuk</td>\n",
       "      <td>Saudi Arabia</td>\n",
       "      <td>4</td>\n",
       "      <td>43.6–50.9</td>\n",
       "      <td>15</td>\n",
       "      <td>47.8–59.4</td>\n",
       "      <td>8</td>\n",
       "      <td>48.4–57.7</td>\n",
       "      <td>17</td>\n",
       "      <td>53.4–61.0</td>\n",
       "      <td>7.9–53.8</td>\n",
       "      <td>30.85</td>\n",
       "      <td>1001</td>\n",
       "    </tr>\n",
       "  </tbody>\n",
       "</table>\n",
       "</div>"
      ],
      "text/plain": [
       "          Rank                                    University Name  \\\n",
       "136    101–200  King Abdullah University of Science and Techno...   \n",
       "137    101–200                             King Faisal University   \n",
       "164    101–200                Prince Mohammad Bin Fahd University   \n",
       "205    201–300                               AlMaarefa University   \n",
       "243    201–300             Imam Abdulrahman Bin Faisal University   \n",
       "244    201–300          Imam Mohammad Ibn Saud Islamic University   \n",
       "251    201–300     King Fahd University of Petroleum and Minerals   \n",
       "378    301–400                     Prince Sultan University (PSU)   \n",
       "482    401–600                             King Khalid University   \n",
       "539    401–600                                  Qassim University   \n",
       "606    601–800                                Alfaisal University   \n",
       "623    601–800                          Batterjee Medical College   \n",
       "745    601–800             Prince Sattam Bin Abdulaziz University   \n",
       "755    601–800                        Saudi Electronic University   \n",
       "808   801–1000                                 Al-Baha University   \n",
       "837   801–1000                                University of Bisha   \n",
       "866   801–1000                                 University of Hail   \n",
       "881   801–1000                               University of Jeddah   \n",
       "989   801–1000                             Umm Al-Qura University   \n",
       "1034     1001+                              Al Yamamah University   \n",
       "1095     1001+              University of Business and Technology   \n",
       "1156     1001+                                   Effat University   \n",
       "1236     1001+                      Islamic University of Madinah   \n",
       "1337     1001+                                  Najran University   \n",
       "1485     1001+                                University of Tabuk   \n",
       "\n",
       "          Location  sdg-score-multi__number sdg-score-multi__value  \\\n",
       "136   Saudi Arabia                        6                   88.0   \n",
       "137   Saudi Arabia                        2                   77.7   \n",
       "164   Saudi Arabia                       10              65.2–73.3   \n",
       "205   Saudi Arabia                        8              62.4–66.3   \n",
       "243   Saudi Arabia                        5              61.5–66.9   \n",
       "244   Saudi Arabia                        8              62.4–66.3   \n",
       "251   Saudi Arabia                        8                   75.0   \n",
       "378   Saudi Arabia                        8                   74.6   \n",
       "482   Saudi Arabia                        6                   69.4   \n",
       "539   Saudi Arabia                        1                   79.1   \n",
       "606   Saudi Arabia                        9              73.0–87.2   \n",
       "623   Saudi Arabia                        5              43.7–51.5   \n",
       "745   Saudi Arabia                        5              43.7–51.5   \n",
       "755   Saudi Arabia                       12              49.4–58.6   \n",
       "808   Saudi Arabia                        3              32.1–44.6   \n",
       "837   Saudi Arabia                        3              44.7–54.5   \n",
       "866   Saudi Arabia                        4              43.6–50.9   \n",
       "881   Saudi Arabia                        5              56.1–61.4   \n",
       "989   Saudi Arabia                        3              63.9–68.2   \n",
       "1034  Saudi Arabia                        8              48.4–57.7   \n",
       "1095  Saudi Arabia                       10              51.8–57.5   \n",
       "1156  Saudi Arabia                        5              51.6–56.0   \n",
       "1236  Saudi Arabia                        8               1.4–35.6   \n",
       "1337  Saudi Arabia                        3              32.1–44.6   \n",
       "1485  Saudi Arabia                        4              43.6–50.9   \n",
       "\n",
       "      sdg-score-multi__number 2 sdg-score-multi__value 2  \\\n",
       "136                          14                     93.7   \n",
       "137                           7                     78.6   \n",
       "164                           8                62.4–66.3   \n",
       "205                           1                     71.5   \n",
       "243                           3                     89.6   \n",
       "244                          16                70.0–77.0   \n",
       "251                           9                     95.6   \n",
       "378                          16                63.7–69.9   \n",
       "482                          -1                      0-0   \n",
       "539                           8                57.8–62.2   \n",
       "606                           3                68.3–73.4   \n",
       "623                           3                63.9–68.2   \n",
       "745                          -1                      0-0   \n",
       "755                           4                62.6–66.5   \n",
       "808                           8                48.4–57.7   \n",
       "837                           7                38.7–51.8   \n",
       "866                           3                54.7–63.8   \n",
       "881                           8                48.4–57.7   \n",
       "989                           9                17.2–33.8   \n",
       "1034                         10                51.8–57.5   \n",
       "1095                          5                34.4–43.6   \n",
       "1156                          3                32.1–44.6   \n",
       "1236                         12                26.1–49.1   \n",
       "1337                          5                 5.0–21.9   \n",
       "1485                         15                47.8–59.4   \n",
       "\n",
       "      sdg-score-multi__number 3 sdg-score-multi__value 3  \\\n",
       "136                           7                     70.9   \n",
       "137                           1                     80.1   \n",
       "164                          14                     73.7   \n",
       "205                           3                     81.6   \n",
       "243                           6                     73.7   \n",
       "244                           4                     82.2   \n",
       "251                          14                     75.0   \n",
       "378                           5                43.7–51.5   \n",
       "482                          -1                      0-0   \n",
       "539                           4                     73.1   \n",
       "606                           4                43.6–50.9   \n",
       "623                          -1                      0-0   \n",
       "745                           3                54.7–63.8   \n",
       "755                          10                57.6–65.1   \n",
       "808                           4                51.0–58.6   \n",
       "837                           4                62.6–66.5   \n",
       "866                           1                38.2–49.4   \n",
       "881                           4                62.6–66.5   \n",
       "989                           4                43.6–50.9   \n",
       "1034                          5                34.4–43.6   \n",
       "1095                          8                62.4–66.3   \n",
       "1156                         10                40.0–51.7   \n",
       "1236                          4                35.8–43.5   \n",
       "1337                          4                43.6–50.9   \n",
       "1485                          8                48.4–57.7   \n",
       "\n",
       "      sdg-score-multi__number 4 sdg-score-multi__value 4     scores  \\\n",
       "136                          17                     95.9  82.2–88.2   \n",
       "137                          17                81.9–86.9  82.2–88.2   \n",
       "164                          17                     90.7  82.2–88.2   \n",
       "205                          17                81.9–86.9  76.8–82.1   \n",
       "243                          17                     89.0  76.8–82.1   \n",
       "244                          17                81.9–86.9  76.8–82.1   \n",
       "251                          17                81.9–86.9  76.8–82.1   \n",
       "378                          17                75.6–81.7  72.7–76.7   \n",
       "482                          17                53.4–61.0  66.9–72.6   \n",
       "539                          17                81.9–86.9  66.9–72.6   \n",
       "606                          17                45.3–53.3  59.7–66.7   \n",
       "623                          17                45.3–53.3  59.7–66.7   \n",
       "745                          17                61.1–70.5  59.7–66.7   \n",
       "755                          17                45.3–53.3  59.7–66.7   \n",
       "808                          17                53.4–61.0  53.9–59.6   \n",
       "837                          17                 1.5–45.2  53.9–59.6   \n",
       "866                          17                53.4–61.0  53.9–59.6   \n",
       "881                          17                45.3–53.3  53.9–59.6   \n",
       "989                          17                61.1–70.5  53.9–59.6   \n",
       "1034                         17                 1.5–45.2   7.9–53.8   \n",
       "1095                         17                53.4–61.0   7.9–53.8   \n",
       "1156                         17                45.3–53.3   7.9–53.8   \n",
       "1236                         17                 1.5–45.2   7.9–53.8   \n",
       "1337                         17                 1.5–45.2   7.9–53.8   \n",
       "1485                         17                53.4–61.0   7.9–53.8   \n",
       "\n",
       "      avg_score  int_rank  \n",
       "136       85.20       101  \n",
       "137       85.20       101  \n",
       "164       85.20       101  \n",
       "205       79.45       201  \n",
       "243       79.45       201  \n",
       "244       79.45       201  \n",
       "251       79.45       201  \n",
       "378       74.70       301  \n",
       "482       69.75       401  \n",
       "539       69.75       401  \n",
       "606       63.20       601  \n",
       "623       63.20       601  \n",
       "745       63.20       601  \n",
       "755       63.20       601  \n",
       "808       56.75       801  \n",
       "837       56.75       801  \n",
       "866       56.75       801  \n",
       "881       56.75       801  \n",
       "989       56.75       801  \n",
       "1034      30.85      1001  \n",
       "1095      30.85      1001  \n",
       "1156      30.85      1001  \n",
       "1236      30.85      1001  \n",
       "1337      30.85      1001  \n",
       "1485      30.85      1001  "
      ]
     },
     "execution_count": 52,
     "metadata": {},
     "output_type": "execute_result"
    }
   ],
   "source": [
    "the_df[the_df['Location'] == 'Saudi Arabia']"
   ]
  },
  {
   "cell_type": "code",
   "execution_count": 53,
   "metadata": {},
   "outputs": [],
   "source": [
    "# Which universities are ranked in the top 10 globally?\n",
    "top_10_global = the_df.head(10)"
   ]
  },
  {
   "cell_type": "code",
   "execution_count": 54,
   "metadata": {},
   "outputs": [
    {
     "data": {
      "text/html": [
       "<div>\n",
       "<style scoped>\n",
       "    .dataframe tbody tr th:only-of-type {\n",
       "        vertical-align: middle;\n",
       "    }\n",
       "\n",
       "    .dataframe tbody tr th {\n",
       "        vertical-align: top;\n",
       "    }\n",
       "\n",
       "    .dataframe thead th {\n",
       "        text-align: right;\n",
       "    }\n",
       "</style>\n",
       "<table border=\"1\" class=\"dataframe\">\n",
       "  <thead>\n",
       "    <tr style=\"text-align: right;\">\n",
       "      <th></th>\n",
       "      <th>Rank</th>\n",
       "      <th>University Name</th>\n",
       "      <th>Location</th>\n",
       "      <th>sdg-score-multi__number</th>\n",
       "      <th>sdg-score-multi__value</th>\n",
       "      <th>sdg-score-multi__number 2</th>\n",
       "      <th>sdg-score-multi__value 2</th>\n",
       "      <th>sdg-score-multi__number 3</th>\n",
       "      <th>sdg-score-multi__value 3</th>\n",
       "      <th>sdg-score-multi__number 4</th>\n",
       "      <th>sdg-score-multi__value 4</th>\n",
       "      <th>scores</th>\n",
       "      <th>avg_score</th>\n",
       "      <th>int_rank</th>\n",
       "    </tr>\n",
       "  </thead>\n",
       "  <tbody>\n",
       "    <tr>\n",
       "      <th>0</th>\n",
       "      <td>1</td>\n",
       "      <td>Western Sydney University</td>\n",
       "      <td>Australia</td>\n",
       "      <td>5</td>\n",
       "      <td>80.3</td>\n",
       "      <td>12</td>\n",
       "      <td>93.4</td>\n",
       "      <td>15</td>\n",
       "      <td>96.7</td>\n",
       "      <td>17</td>\n",
       "      <td>98.8</td>\n",
       "      <td>99.4</td>\n",
       "      <td>99.4</td>\n",
       "      <td>1</td>\n",
       "    </tr>\n",
       "    <tr>\n",
       "      <th>1</th>\n",
       "      <td>2</td>\n",
       "      <td>University of Manchester</td>\n",
       "      <td>United Kingdom</td>\n",
       "      <td>15</td>\n",
       "      <td>97.4</td>\n",
       "      <td>12</td>\n",
       "      <td>92.9</td>\n",
       "      <td>11</td>\n",
       "      <td>92.2</td>\n",
       "      <td>17</td>\n",
       "      <td>94.8</td>\n",
       "      <td>97.5</td>\n",
       "      <td>97.5</td>\n",
       "      <td>2</td>\n",
       "    </tr>\n",
       "    <tr>\n",
       "      <th>2</th>\n",
       "      <td>3</td>\n",
       "      <td>Queen’s University</td>\n",
       "      <td>Canada</td>\n",
       "      <td>2</td>\n",
       "      <td>90.6</td>\n",
       "      <td>16</td>\n",
       "      <td>93.4</td>\n",
       "      <td>11</td>\n",
       "      <td>91.0</td>\n",
       "      <td>17</td>\n",
       "      <td>92.6</td>\n",
       "      <td>97.2</td>\n",
       "      <td>97.2</td>\n",
       "      <td>3</td>\n",
       "    </tr>\n",
       "    <tr>\n",
       "      <th>3</th>\n",
       "      <td>4</td>\n",
       "      <td>Universiti Sains Malaysia</td>\n",
       "      <td>Malaysia</td>\n",
       "      <td>16</td>\n",
       "      <td>94.1</td>\n",
       "      <td>2</td>\n",
       "      <td>86.4</td>\n",
       "      <td>1</td>\n",
       "      <td>84.9</td>\n",
       "      <td>17</td>\n",
       "      <td>97.8</td>\n",
       "      <td>96.9</td>\n",
       "      <td>96.9</td>\n",
       "      <td>4</td>\n",
       "    </tr>\n",
       "    <tr>\n",
       "      <th>4</th>\n",
       "      <td>5</td>\n",
       "      <td>University of Tasmania</td>\n",
       "      <td>Australia</td>\n",
       "      <td>13</td>\n",
       "      <td>92.8</td>\n",
       "      <td>15</td>\n",
       "      <td>96.2</td>\n",
       "      <td>14</td>\n",
       "      <td>95.1</td>\n",
       "      <td>17</td>\n",
       "      <td>96.3</td>\n",
       "      <td>96.6</td>\n",
       "      <td>96.6</td>\n",
       "      <td>5</td>\n",
       "    </tr>\n",
       "    <tr>\n",
       "      <th>5</th>\n",
       "      <td>6</td>\n",
       "      <td>Arizona State University (Tempe)</td>\n",
       "      <td>United States</td>\n",
       "      <td>15</td>\n",
       "      <td>95.4</td>\n",
       "      <td>14</td>\n",
       "      <td>93.9</td>\n",
       "      <td>6</td>\n",
       "      <td>87.6</td>\n",
       "      <td>17</td>\n",
       "      <td>81.9–86.9</td>\n",
       "      <td>96.5</td>\n",
       "      <td>96.5</td>\n",
       "      <td>6</td>\n",
       "    </tr>\n",
       "    <tr>\n",
       "      <th>6</th>\n",
       "      <td>7</td>\n",
       "      <td>University of Alberta</td>\n",
       "      <td>Canada</td>\n",
       "      <td>9</td>\n",
       "      <td>99.4</td>\n",
       "      <td>2</td>\n",
       "      <td>89.2</td>\n",
       "      <td>15</td>\n",
       "      <td>91.0</td>\n",
       "      <td>17</td>\n",
       "      <td>94.4</td>\n",
       "      <td>96.4</td>\n",
       "      <td>96.4</td>\n",
       "      <td>7</td>\n",
       "    </tr>\n",
       "    <tr>\n",
       "      <th>7</th>\n",
       "      <td>7</td>\n",
       "      <td>RMIT University</td>\n",
       "      <td>Australia</td>\n",
       "      <td>10</td>\n",
       "      <td>92.1</td>\n",
       "      <td>8</td>\n",
       "      <td>83.7</td>\n",
       "      <td>11</td>\n",
       "      <td>87.4</td>\n",
       "      <td>17</td>\n",
       "      <td>98.5</td>\n",
       "      <td>96.4</td>\n",
       "      <td>96.4</td>\n",
       "      <td>7</td>\n",
       "    </tr>\n",
       "    <tr>\n",
       "      <th>8</th>\n",
       "      <td>9</td>\n",
       "      <td>Aalborg University</td>\n",
       "      <td>Denmark</td>\n",
       "      <td>4</td>\n",
       "      <td>90.6</td>\n",
       "      <td>10</td>\n",
       "      <td>90.2</td>\n",
       "      <td>14</td>\n",
       "      <td>93.4</td>\n",
       "      <td>17</td>\n",
       "      <td>98.5</td>\n",
       "      <td>95.8</td>\n",
       "      <td>95.8</td>\n",
       "      <td>9</td>\n",
       "    </tr>\n",
       "    <tr>\n",
       "      <th>9</th>\n",
       "      <td>9</td>\n",
       "      <td>University of Victoria</td>\n",
       "      <td>Canada</td>\n",
       "      <td>11</td>\n",
       "      <td>91.8</td>\n",
       "      <td>13</td>\n",
       "      <td>89.4</td>\n",
       "      <td>12</td>\n",
       "      <td>88.4</td>\n",
       "      <td>17</td>\n",
       "      <td>91.9</td>\n",
       "      <td>95.8</td>\n",
       "      <td>95.8</td>\n",
       "      <td>9</td>\n",
       "    </tr>\n",
       "  </tbody>\n",
       "</table>\n",
       "</div>"
      ],
      "text/plain": [
       "  Rank                   University Name        Location  \\\n",
       "0    1         Western Sydney University       Australia   \n",
       "1    2          University of Manchester  United Kingdom   \n",
       "2    3                Queen’s University          Canada   \n",
       "3    4         Universiti Sains Malaysia        Malaysia   \n",
       "4    5            University of Tasmania       Australia   \n",
       "5    6  Arizona State University (Tempe)   United States   \n",
       "6    7             University of Alberta          Canada   \n",
       "7    7                   RMIT University       Australia   \n",
       "8    9                Aalborg University         Denmark   \n",
       "9    9            University of Victoria          Canada   \n",
       "\n",
       "   sdg-score-multi__number sdg-score-multi__value  sdg-score-multi__number 2  \\\n",
       "0                        5                   80.3                         12   \n",
       "1                       15                   97.4                         12   \n",
       "2                        2                   90.6                         16   \n",
       "3                       16                   94.1                          2   \n",
       "4                       13                   92.8                         15   \n",
       "5                       15                   95.4                         14   \n",
       "6                        9                   99.4                          2   \n",
       "7                       10                   92.1                          8   \n",
       "8                        4                   90.6                         10   \n",
       "9                       11                   91.8                         13   \n",
       "\n",
       "  sdg-score-multi__value 2  sdg-score-multi__number 3  \\\n",
       "0                     93.4                         15   \n",
       "1                     92.9                         11   \n",
       "2                     93.4                         11   \n",
       "3                     86.4                          1   \n",
       "4                     96.2                         14   \n",
       "5                     93.9                          6   \n",
       "6                     89.2                         15   \n",
       "7                     83.7                         11   \n",
       "8                     90.2                         14   \n",
       "9                     89.4                         12   \n",
       "\n",
       "  sdg-score-multi__value 3  sdg-score-multi__number 4  \\\n",
       "0                     96.7                         17   \n",
       "1                     92.2                         17   \n",
       "2                     91.0                         17   \n",
       "3                     84.9                         17   \n",
       "4                     95.1                         17   \n",
       "5                     87.6                         17   \n",
       "6                     91.0                         17   \n",
       "7                     87.4                         17   \n",
       "8                     93.4                         17   \n",
       "9                     88.4                         17   \n",
       "\n",
       "  sdg-score-multi__value 4 scores  avg_score  int_rank  \n",
       "0                     98.8   99.4       99.4         1  \n",
       "1                     94.8   97.5       97.5         2  \n",
       "2                     92.6   97.2       97.2         3  \n",
       "3                     97.8   96.9       96.9         4  \n",
       "4                     96.3   96.6       96.6         5  \n",
       "5                81.9–86.9   96.5       96.5         6  \n",
       "6                     94.4   96.4       96.4         7  \n",
       "7                     98.5   96.4       96.4         7  \n",
       "8                     98.5   95.8       95.8         9  \n",
       "9                     91.9   95.8       95.8         9  "
      ]
     },
     "execution_count": 54,
     "metadata": {},
     "output_type": "execute_result"
    }
   ],
   "source": [
    "top_10_global"
   ]
  },
  {
   "cell_type": "code",
   "execution_count": 55,
   "metadata": {},
   "outputs": [],
   "source": [
    "# To answer the questions, let's address each one by filtering the data accordingly:\n",
    "\n",
    "# a. Which universities are ranked in the top 10 globally?\n",
    "top_10_universities = the_df[the_df['int_rank'] <= 10][['int_rank', 'University Name', 'Location']]\n",
    "\n",
    "# b. What positions do universities in Saudi Arabia hold within the global rankings?\n",
    "saudi_universities = the_df[the_df['Location'] == 'Saudi Arabia'][['Rank', 'University Name']]\n",
    "\n",
    "# f. Which countries have the most universities in the top 100?\n",
    "top_university_countries = the_df[the_df['int_rank'] <= 100].groupby('Location').size().reset_index(name='Top 100 Universities')"
   ]
  },
  {
   "cell_type": "code",
   "execution_count": 56,
   "metadata": {},
   "outputs": [
    {
     "data": {
      "text/html": [
       "<div>\n",
       "<style scoped>\n",
       "    .dataframe tbody tr th:only-of-type {\n",
       "        vertical-align: middle;\n",
       "    }\n",
       "\n",
       "    .dataframe tbody tr th {\n",
       "        vertical-align: top;\n",
       "    }\n",
       "\n",
       "    .dataframe thead th {\n",
       "        text-align: right;\n",
       "    }\n",
       "</style>\n",
       "<table border=\"1\" class=\"dataframe\">\n",
       "  <thead>\n",
       "    <tr style=\"text-align: right;\">\n",
       "      <th></th>\n",
       "      <th>int_rank</th>\n",
       "      <th>University Name</th>\n",
       "      <th>Location</th>\n",
       "    </tr>\n",
       "  </thead>\n",
       "  <tbody>\n",
       "    <tr>\n",
       "      <th>0</th>\n",
       "      <td>1</td>\n",
       "      <td>Western Sydney University</td>\n",
       "      <td>Australia</td>\n",
       "    </tr>\n",
       "    <tr>\n",
       "      <th>1</th>\n",
       "      <td>2</td>\n",
       "      <td>University of Manchester</td>\n",
       "      <td>United Kingdom</td>\n",
       "    </tr>\n",
       "    <tr>\n",
       "      <th>2</th>\n",
       "      <td>3</td>\n",
       "      <td>Queen’s University</td>\n",
       "      <td>Canada</td>\n",
       "    </tr>\n",
       "    <tr>\n",
       "      <th>3</th>\n",
       "      <td>4</td>\n",
       "      <td>Universiti Sains Malaysia</td>\n",
       "      <td>Malaysia</td>\n",
       "    </tr>\n",
       "    <tr>\n",
       "      <th>4</th>\n",
       "      <td>5</td>\n",
       "      <td>University of Tasmania</td>\n",
       "      <td>Australia</td>\n",
       "    </tr>\n",
       "    <tr>\n",
       "      <th>5</th>\n",
       "      <td>6</td>\n",
       "      <td>Arizona State University (Tempe)</td>\n",
       "      <td>United States</td>\n",
       "    </tr>\n",
       "    <tr>\n",
       "      <th>6</th>\n",
       "      <td>7</td>\n",
       "      <td>University of Alberta</td>\n",
       "      <td>Canada</td>\n",
       "    </tr>\n",
       "    <tr>\n",
       "      <th>7</th>\n",
       "      <td>7</td>\n",
       "      <td>RMIT University</td>\n",
       "      <td>Australia</td>\n",
       "    </tr>\n",
       "    <tr>\n",
       "      <th>8</th>\n",
       "      <td>9</td>\n",
       "      <td>Aalborg University</td>\n",
       "      <td>Denmark</td>\n",
       "    </tr>\n",
       "    <tr>\n",
       "      <th>9</th>\n",
       "      <td>9</td>\n",
       "      <td>University of Victoria</td>\n",
       "      <td>Canada</td>\n",
       "    </tr>\n",
       "    <tr>\n",
       "      <th>10</th>\n",
       "      <td>9</td>\n",
       "      <td>Western University</td>\n",
       "      <td>Canada</td>\n",
       "    </tr>\n",
       "  </tbody>\n",
       "</table>\n",
       "</div>"
      ],
      "text/plain": [
       "    int_rank                   University Name        Location\n",
       "0          1         Western Sydney University       Australia\n",
       "1          2          University of Manchester  United Kingdom\n",
       "2          3                Queen’s University          Canada\n",
       "3          4         Universiti Sains Malaysia        Malaysia\n",
       "4          5            University of Tasmania       Australia\n",
       "5          6  Arizona State University (Tempe)   United States\n",
       "6          7             University of Alberta          Canada\n",
       "7          7                   RMIT University       Australia\n",
       "8          9                Aalborg University         Denmark\n",
       "9          9            University of Victoria          Canada\n",
       "10         9                Western University          Canada"
      ]
     },
     "execution_count": 56,
     "metadata": {},
     "output_type": "execute_result"
    }
   ],
   "source": [
    "top_10_universities"
   ]
  },
  {
   "cell_type": "code",
   "execution_count": 57,
   "metadata": {},
   "outputs": [
    {
     "data": {
      "text/html": [
       "<div>\n",
       "<style scoped>\n",
       "    .dataframe tbody tr th:only-of-type {\n",
       "        vertical-align: middle;\n",
       "    }\n",
       "\n",
       "    .dataframe tbody tr th {\n",
       "        vertical-align: top;\n",
       "    }\n",
       "\n",
       "    .dataframe thead th {\n",
       "        text-align: right;\n",
       "    }\n",
       "</style>\n",
       "<table border=\"1\" class=\"dataframe\">\n",
       "  <thead>\n",
       "    <tr style=\"text-align: right;\">\n",
       "      <th></th>\n",
       "      <th>Rank</th>\n",
       "      <th>University Name</th>\n",
       "    </tr>\n",
       "  </thead>\n",
       "  <tbody>\n",
       "    <tr>\n",
       "      <th>136</th>\n",
       "      <td>101–200</td>\n",
       "      <td>King Abdullah University of Science and Techno...</td>\n",
       "    </tr>\n",
       "    <tr>\n",
       "      <th>137</th>\n",
       "      <td>101–200</td>\n",
       "      <td>King Faisal University</td>\n",
       "    </tr>\n",
       "    <tr>\n",
       "      <th>164</th>\n",
       "      <td>101–200</td>\n",
       "      <td>Prince Mohammad Bin Fahd University</td>\n",
       "    </tr>\n",
       "    <tr>\n",
       "      <th>205</th>\n",
       "      <td>201–300</td>\n",
       "      <td>AlMaarefa University</td>\n",
       "    </tr>\n",
       "    <tr>\n",
       "      <th>243</th>\n",
       "      <td>201–300</td>\n",
       "      <td>Imam Abdulrahman Bin Faisal University</td>\n",
       "    </tr>\n",
       "    <tr>\n",
       "      <th>244</th>\n",
       "      <td>201–300</td>\n",
       "      <td>Imam Mohammad Ibn Saud Islamic University</td>\n",
       "    </tr>\n",
       "    <tr>\n",
       "      <th>251</th>\n",
       "      <td>201–300</td>\n",
       "      <td>King Fahd University of Petroleum and Minerals</td>\n",
       "    </tr>\n",
       "    <tr>\n",
       "      <th>378</th>\n",
       "      <td>301–400</td>\n",
       "      <td>Prince Sultan University (PSU)</td>\n",
       "    </tr>\n",
       "    <tr>\n",
       "      <th>482</th>\n",
       "      <td>401–600</td>\n",
       "      <td>King Khalid University</td>\n",
       "    </tr>\n",
       "    <tr>\n",
       "      <th>539</th>\n",
       "      <td>401–600</td>\n",
       "      <td>Qassim University</td>\n",
       "    </tr>\n",
       "    <tr>\n",
       "      <th>606</th>\n",
       "      <td>601–800</td>\n",
       "      <td>Alfaisal University</td>\n",
       "    </tr>\n",
       "    <tr>\n",
       "      <th>623</th>\n",
       "      <td>601–800</td>\n",
       "      <td>Batterjee Medical College</td>\n",
       "    </tr>\n",
       "    <tr>\n",
       "      <th>745</th>\n",
       "      <td>601–800</td>\n",
       "      <td>Prince Sattam Bin Abdulaziz University</td>\n",
       "    </tr>\n",
       "    <tr>\n",
       "      <th>755</th>\n",
       "      <td>601–800</td>\n",
       "      <td>Saudi Electronic University</td>\n",
       "    </tr>\n",
       "    <tr>\n",
       "      <th>808</th>\n",
       "      <td>801–1000</td>\n",
       "      <td>Al-Baha University</td>\n",
       "    </tr>\n",
       "    <tr>\n",
       "      <th>837</th>\n",
       "      <td>801–1000</td>\n",
       "      <td>University of Bisha</td>\n",
       "    </tr>\n",
       "    <tr>\n",
       "      <th>866</th>\n",
       "      <td>801–1000</td>\n",
       "      <td>University of Hail</td>\n",
       "    </tr>\n",
       "    <tr>\n",
       "      <th>881</th>\n",
       "      <td>801–1000</td>\n",
       "      <td>University of Jeddah</td>\n",
       "    </tr>\n",
       "    <tr>\n",
       "      <th>989</th>\n",
       "      <td>801–1000</td>\n",
       "      <td>Umm Al-Qura University</td>\n",
       "    </tr>\n",
       "    <tr>\n",
       "      <th>1034</th>\n",
       "      <td>1001+</td>\n",
       "      <td>Al Yamamah University</td>\n",
       "    </tr>\n",
       "    <tr>\n",
       "      <th>1095</th>\n",
       "      <td>1001+</td>\n",
       "      <td>University of Business and Technology</td>\n",
       "    </tr>\n",
       "    <tr>\n",
       "      <th>1156</th>\n",
       "      <td>1001+</td>\n",
       "      <td>Effat University</td>\n",
       "    </tr>\n",
       "    <tr>\n",
       "      <th>1236</th>\n",
       "      <td>1001+</td>\n",
       "      <td>Islamic University of Madinah</td>\n",
       "    </tr>\n",
       "    <tr>\n",
       "      <th>1337</th>\n",
       "      <td>1001+</td>\n",
       "      <td>Najran University</td>\n",
       "    </tr>\n",
       "    <tr>\n",
       "      <th>1485</th>\n",
       "      <td>1001+</td>\n",
       "      <td>University of Tabuk</td>\n",
       "    </tr>\n",
       "  </tbody>\n",
       "</table>\n",
       "</div>"
      ],
      "text/plain": [
       "          Rank                                    University Name\n",
       "136    101–200  King Abdullah University of Science and Techno...\n",
       "137    101–200                             King Faisal University\n",
       "164    101–200                Prince Mohammad Bin Fahd University\n",
       "205    201–300                               AlMaarefa University\n",
       "243    201–300             Imam Abdulrahman Bin Faisal University\n",
       "244    201–300          Imam Mohammad Ibn Saud Islamic University\n",
       "251    201–300     King Fahd University of Petroleum and Minerals\n",
       "378    301–400                     Prince Sultan University (PSU)\n",
       "482    401–600                             King Khalid University\n",
       "539    401–600                                  Qassim University\n",
       "606    601–800                                Alfaisal University\n",
       "623    601–800                          Batterjee Medical College\n",
       "745    601–800             Prince Sattam Bin Abdulaziz University\n",
       "755    601–800                        Saudi Electronic University\n",
       "808   801–1000                                 Al-Baha University\n",
       "837   801–1000                                University of Bisha\n",
       "866   801–1000                                 University of Hail\n",
       "881   801–1000                               University of Jeddah\n",
       "989   801–1000                             Umm Al-Qura University\n",
       "1034     1001+                              Al Yamamah University\n",
       "1095     1001+              University of Business and Technology\n",
       "1156     1001+                                   Effat University\n",
       "1236     1001+                      Islamic University of Madinah\n",
       "1337     1001+                                  Najran University\n",
       "1485     1001+                                University of Tabuk"
      ]
     },
     "execution_count": 57,
     "metadata": {},
     "output_type": "execute_result"
    }
   ],
   "source": [
    "saudi_universities"
   ]
  },
  {
   "cell_type": "code",
   "execution_count": 58,
   "metadata": {},
   "outputs": [
    {
     "data": {
      "text/html": [
       "<div>\n",
       "<style scoped>\n",
       "    .dataframe tbody tr th:only-of-type {\n",
       "        vertical-align: middle;\n",
       "    }\n",
       "\n",
       "    .dataframe tbody tr th {\n",
       "        vertical-align: top;\n",
       "    }\n",
       "\n",
       "    .dataframe thead th {\n",
       "        text-align: right;\n",
       "    }\n",
       "</style>\n",
       "<table border=\"1\" class=\"dataframe\">\n",
       "  <thead>\n",
       "    <tr style=\"text-align: right;\">\n",
       "      <th></th>\n",
       "      <th>Location</th>\n",
       "      <th>Top 100 Universities</th>\n",
       "    </tr>\n",
       "  </thead>\n",
       "  <tbody>\n",
       "    <tr>\n",
       "      <th>0</th>\n",
       "      <td>Australia</td>\n",
       "      <td>15</td>\n",
       "    </tr>\n",
       "    <tr>\n",
       "      <th>1</th>\n",
       "      <td>Canada</td>\n",
       "      <td>16</td>\n",
       "    </tr>\n",
       "    <tr>\n",
       "      <th>2</th>\n",
       "      <td>China</td>\n",
       "      <td>1</td>\n",
       "    </tr>\n",
       "    <tr>\n",
       "      <th>3</th>\n",
       "      <td>Denmark</td>\n",
       "      <td>1</td>\n",
       "    </tr>\n",
       "    <tr>\n",
       "      <th>4</th>\n",
       "      <td>Hong Kong</td>\n",
       "      <td>1</td>\n",
       "    </tr>\n",
       "    <tr>\n",
       "      <th>5</th>\n",
       "      <td>India</td>\n",
       "      <td>1</td>\n",
       "    </tr>\n",
       "    <tr>\n",
       "      <th>6</th>\n",
       "      <td>Indonesia</td>\n",
       "      <td>1</td>\n",
       "    </tr>\n",
       "    <tr>\n",
       "      <th>7</th>\n",
       "      <td>Ireland</td>\n",
       "      <td>4</td>\n",
       "    </tr>\n",
       "    <tr>\n",
       "      <th>8</th>\n",
       "      <td>Italy</td>\n",
       "      <td>2</td>\n",
       "    </tr>\n",
       "    <tr>\n",
       "      <th>9</th>\n",
       "      <td>Japan</td>\n",
       "      <td>2</td>\n",
       "    </tr>\n",
       "    <tr>\n",
       "      <th>10</th>\n",
       "      <td>Malaysia</td>\n",
       "      <td>1</td>\n",
       "    </tr>\n",
       "    <tr>\n",
       "      <th>11</th>\n",
       "      <td>Mexico</td>\n",
       "      <td>2</td>\n",
       "    </tr>\n",
       "    <tr>\n",
       "      <th>12</th>\n",
       "      <td>New Zealand</td>\n",
       "      <td>7</td>\n",
       "    </tr>\n",
       "    <tr>\n",
       "      <th>13</th>\n",
       "      <td>Portugal</td>\n",
       "      <td>1</td>\n",
       "    </tr>\n",
       "    <tr>\n",
       "      <th>14</th>\n",
       "      <td>South Africa</td>\n",
       "      <td>2</td>\n",
       "    </tr>\n",
       "    <tr>\n",
       "      <th>15</th>\n",
       "      <td>South Korea</td>\n",
       "      <td>3</td>\n",
       "    </tr>\n",
       "    <tr>\n",
       "      <th>16</th>\n",
       "      <td>Sweden</td>\n",
       "      <td>1</td>\n",
       "    </tr>\n",
       "    <tr>\n",
       "      <th>17</th>\n",
       "      <td>Taiwan</td>\n",
       "      <td>3</td>\n",
       "    </tr>\n",
       "    <tr>\n",
       "      <th>18</th>\n",
       "      <td>Thailand</td>\n",
       "      <td>4</td>\n",
       "    </tr>\n",
       "    <tr>\n",
       "      <th>19</th>\n",
       "      <td>Turkey</td>\n",
       "      <td>1</td>\n",
       "    </tr>\n",
       "    <tr>\n",
       "      <th>20</th>\n",
       "      <td>United Kingdom</td>\n",
       "      <td>26</td>\n",
       "    </tr>\n",
       "    <tr>\n",
       "      <th>21</th>\n",
       "      <td>United States</td>\n",
       "      <td>7</td>\n",
       "    </tr>\n",
       "  </tbody>\n",
       "</table>\n",
       "</div>"
      ],
      "text/plain": [
       "          Location  Top 100 Universities\n",
       "0        Australia                    15\n",
       "1           Canada                    16\n",
       "2            China                     1\n",
       "3          Denmark                     1\n",
       "4        Hong Kong                     1\n",
       "5            India                     1\n",
       "6        Indonesia                     1\n",
       "7          Ireland                     4\n",
       "8            Italy                     2\n",
       "9            Japan                     2\n",
       "10        Malaysia                     1\n",
       "11          Mexico                     2\n",
       "12     New Zealand                     7\n",
       "13        Portugal                     1\n",
       "14    South Africa                     2\n",
       "15     South Korea                     3\n",
       "16          Sweden                     1\n",
       "17          Taiwan                     3\n",
       "18        Thailand                     4\n",
       "19          Turkey                     1\n",
       "20  United Kingdom                    26\n",
       "21   United States                     7"
      ]
     },
     "execution_count": 58,
     "metadata": {},
     "output_type": "execute_result"
    }
   ],
   "source": [
    "top_university_countries"
   ]
  },
  {
   "cell_type": "code",
   "execution_count": 59,
   "metadata": {},
   "outputs": [
    {
     "data": {
      "application/vnd.plotly.v1+json": {
       "config": {
        "plotlyServerURL": "https://plot.ly"
       },
       "data": [
        {
         "alignmentgroup": "True",
         "customdata": [
          [
           "Australia"
          ],
          [
           "Australia"
          ],
          [
           "Australia"
          ]
         ],
         "hovertemplate": "Location=%{customdata[0]}<br>University=%{x}<br>Global Rank=%{y}<extra></extra>",
         "legendgroup": "Australia",
         "marker": {
          "color": "#636efa",
          "pattern": {
           "shape": ""
          }
         },
         "name": "Australia",
         "offsetgroup": "Australia",
         "orientation": "v",
         "showlegend": true,
         "textposition": "auto",
         "type": "bar",
         "x": [
          "Western Sydney University",
          "University of Tasmania",
          "RMIT University"
         ],
         "xaxis": "x",
         "y": [
          1,
          5,
          7
         ],
         "yaxis": "y"
        },
        {
         "alignmentgroup": "True",
         "customdata": [
          [
           "United Kingdom"
          ]
         ],
         "hovertemplate": "Location=%{customdata[0]}<br>University=%{x}<br>Global Rank=%{y}<extra></extra>",
         "legendgroup": "United Kingdom",
         "marker": {
          "color": "#EF553B",
          "pattern": {
           "shape": ""
          }
         },
         "name": "United Kingdom",
         "offsetgroup": "United Kingdom",
         "orientation": "v",
         "showlegend": true,
         "textposition": "auto",
         "type": "bar",
         "x": [
          "University of Manchester"
         ],
         "xaxis": "x",
         "y": [
          2
         ],
         "yaxis": "y"
        },
        {
         "alignmentgroup": "True",
         "customdata": [
          [
           "Canada"
          ],
          [
           "Canada"
          ],
          [
           "Canada"
          ],
          [
           "Canada"
          ]
         ],
         "hovertemplate": "Location=%{customdata[0]}<br>University=%{x}<br>Global Rank=%{y}<extra></extra>",
         "legendgroup": "Canada",
         "marker": {
          "color": "#00cc96",
          "pattern": {
           "shape": ""
          }
         },
         "name": "Canada",
         "offsetgroup": "Canada",
         "orientation": "v",
         "showlegend": true,
         "textposition": "auto",
         "type": "bar",
         "x": [
          "Queen’s University",
          "University of Alberta",
          "University of Victoria",
          "Western University"
         ],
         "xaxis": "x",
         "y": [
          3,
          7,
          9,
          9
         ],
         "yaxis": "y"
        },
        {
         "alignmentgroup": "True",
         "customdata": [
          [
           "Malaysia"
          ]
         ],
         "hovertemplate": "Location=%{customdata[0]}<br>University=%{x}<br>Global Rank=%{y}<extra></extra>",
         "legendgroup": "Malaysia",
         "marker": {
          "color": "#ab63fa",
          "pattern": {
           "shape": ""
          }
         },
         "name": "Malaysia",
         "offsetgroup": "Malaysia",
         "orientation": "v",
         "showlegend": true,
         "textposition": "auto",
         "type": "bar",
         "x": [
          "Universiti Sains Malaysia"
         ],
         "xaxis": "x",
         "y": [
          4
         ],
         "yaxis": "y"
        },
        {
         "alignmentgroup": "True",
         "customdata": [
          [
           "United States"
          ]
         ],
         "hovertemplate": "Location=%{customdata[0]}<br>University=%{x}<br>Global Rank=%{y}<extra></extra>",
         "legendgroup": "United States",
         "marker": {
          "color": "#FFA15A",
          "pattern": {
           "shape": ""
          }
         },
         "name": "United States",
         "offsetgroup": "United States",
         "orientation": "v",
         "showlegend": true,
         "textposition": "auto",
         "type": "bar",
         "x": [
          "Arizona State University (Tempe)"
         ],
         "xaxis": "x",
         "y": [
          6
         ],
         "yaxis": "y"
        },
        {
         "alignmentgroup": "True",
         "customdata": [
          [
           "Denmark"
          ]
         ],
         "hovertemplate": "Location=%{customdata[0]}<br>University=%{x}<br>Global Rank=%{y}<extra></extra>",
         "legendgroup": "Denmark",
         "marker": {
          "color": "#19d3f3",
          "pattern": {
           "shape": ""
          }
         },
         "name": "Denmark",
         "offsetgroup": "Denmark",
         "orientation": "v",
         "showlegend": true,
         "textposition": "auto",
         "type": "bar",
         "x": [
          "Aalborg University"
         ],
         "xaxis": "x",
         "y": [
          9
         ],
         "yaxis": "y"
        }
       ],
       "layout": {
        "barmode": "relative",
        "height": 600,
        "legend": {
         "title": {
          "text": "Location"
         },
         "tracegroupgap": 0
        },
        "template": {
         "data": {
          "bar": [
           {
            "error_x": {
             "color": "#2a3f5f"
            },
            "error_y": {
             "color": "#2a3f5f"
            },
            "marker": {
             "line": {
              "color": "#E5ECF6",
              "width": 0.5
             },
             "pattern": {
              "fillmode": "overlay",
              "size": 10,
              "solidity": 0.2
             }
            },
            "type": "bar"
           }
          ],
          "barpolar": [
           {
            "marker": {
             "line": {
              "color": "#E5ECF6",
              "width": 0.5
             },
             "pattern": {
              "fillmode": "overlay",
              "size": 10,
              "solidity": 0.2
             }
            },
            "type": "barpolar"
           }
          ],
          "carpet": [
           {
            "aaxis": {
             "endlinecolor": "#2a3f5f",
             "gridcolor": "white",
             "linecolor": "white",
             "minorgridcolor": "white",
             "startlinecolor": "#2a3f5f"
            },
            "baxis": {
             "endlinecolor": "#2a3f5f",
             "gridcolor": "white",
             "linecolor": "white",
             "minorgridcolor": "white",
             "startlinecolor": "#2a3f5f"
            },
            "type": "carpet"
           }
          ],
          "choropleth": [
           {
            "colorbar": {
             "outlinewidth": 0,
             "ticks": ""
            },
            "type": "choropleth"
           }
          ],
          "contour": [
           {
            "colorbar": {
             "outlinewidth": 0,
             "ticks": ""
            },
            "colorscale": [
             [
              0,
              "#0d0887"
             ],
             [
              0.1111111111111111,
              "#46039f"
             ],
             [
              0.2222222222222222,
              "#7201a8"
             ],
             [
              0.3333333333333333,
              "#9c179e"
             ],
             [
              0.4444444444444444,
              "#bd3786"
             ],
             [
              0.5555555555555556,
              "#d8576b"
             ],
             [
              0.6666666666666666,
              "#ed7953"
             ],
             [
              0.7777777777777778,
              "#fb9f3a"
             ],
             [
              0.8888888888888888,
              "#fdca26"
             ],
             [
              1,
              "#f0f921"
             ]
            ],
            "type": "contour"
           }
          ],
          "contourcarpet": [
           {
            "colorbar": {
             "outlinewidth": 0,
             "ticks": ""
            },
            "type": "contourcarpet"
           }
          ],
          "heatmap": [
           {
            "colorbar": {
             "outlinewidth": 0,
             "ticks": ""
            },
            "colorscale": [
             [
              0,
              "#0d0887"
             ],
             [
              0.1111111111111111,
              "#46039f"
             ],
             [
              0.2222222222222222,
              "#7201a8"
             ],
             [
              0.3333333333333333,
              "#9c179e"
             ],
             [
              0.4444444444444444,
              "#bd3786"
             ],
             [
              0.5555555555555556,
              "#d8576b"
             ],
             [
              0.6666666666666666,
              "#ed7953"
             ],
             [
              0.7777777777777778,
              "#fb9f3a"
             ],
             [
              0.8888888888888888,
              "#fdca26"
             ],
             [
              1,
              "#f0f921"
             ]
            ],
            "type": "heatmap"
           }
          ],
          "heatmapgl": [
           {
            "colorbar": {
             "outlinewidth": 0,
             "ticks": ""
            },
            "colorscale": [
             [
              0,
              "#0d0887"
             ],
             [
              0.1111111111111111,
              "#46039f"
             ],
             [
              0.2222222222222222,
              "#7201a8"
             ],
             [
              0.3333333333333333,
              "#9c179e"
             ],
             [
              0.4444444444444444,
              "#bd3786"
             ],
             [
              0.5555555555555556,
              "#d8576b"
             ],
             [
              0.6666666666666666,
              "#ed7953"
             ],
             [
              0.7777777777777778,
              "#fb9f3a"
             ],
             [
              0.8888888888888888,
              "#fdca26"
             ],
             [
              1,
              "#f0f921"
             ]
            ],
            "type": "heatmapgl"
           }
          ],
          "histogram": [
           {
            "marker": {
             "pattern": {
              "fillmode": "overlay",
              "size": 10,
              "solidity": 0.2
             }
            },
            "type": "histogram"
           }
          ],
          "histogram2d": [
           {
            "colorbar": {
             "outlinewidth": 0,
             "ticks": ""
            },
            "colorscale": [
             [
              0,
              "#0d0887"
             ],
             [
              0.1111111111111111,
              "#46039f"
             ],
             [
              0.2222222222222222,
              "#7201a8"
             ],
             [
              0.3333333333333333,
              "#9c179e"
             ],
             [
              0.4444444444444444,
              "#bd3786"
             ],
             [
              0.5555555555555556,
              "#d8576b"
             ],
             [
              0.6666666666666666,
              "#ed7953"
             ],
             [
              0.7777777777777778,
              "#fb9f3a"
             ],
             [
              0.8888888888888888,
              "#fdca26"
             ],
             [
              1,
              "#f0f921"
             ]
            ],
            "type": "histogram2d"
           }
          ],
          "histogram2dcontour": [
           {
            "colorbar": {
             "outlinewidth": 0,
             "ticks": ""
            },
            "colorscale": [
             [
              0,
              "#0d0887"
             ],
             [
              0.1111111111111111,
              "#46039f"
             ],
             [
              0.2222222222222222,
              "#7201a8"
             ],
             [
              0.3333333333333333,
              "#9c179e"
             ],
             [
              0.4444444444444444,
              "#bd3786"
             ],
             [
              0.5555555555555556,
              "#d8576b"
             ],
             [
              0.6666666666666666,
              "#ed7953"
             ],
             [
              0.7777777777777778,
              "#fb9f3a"
             ],
             [
              0.8888888888888888,
              "#fdca26"
             ],
             [
              1,
              "#f0f921"
             ]
            ],
            "type": "histogram2dcontour"
           }
          ],
          "mesh3d": [
           {
            "colorbar": {
             "outlinewidth": 0,
             "ticks": ""
            },
            "type": "mesh3d"
           }
          ],
          "parcoords": [
           {
            "line": {
             "colorbar": {
              "outlinewidth": 0,
              "ticks": ""
             }
            },
            "type": "parcoords"
           }
          ],
          "pie": [
           {
            "automargin": true,
            "type": "pie"
           }
          ],
          "scatter": [
           {
            "fillpattern": {
             "fillmode": "overlay",
             "size": 10,
             "solidity": 0.2
            },
            "type": "scatter"
           }
          ],
          "scatter3d": [
           {
            "line": {
             "colorbar": {
              "outlinewidth": 0,
              "ticks": ""
             }
            },
            "marker": {
             "colorbar": {
              "outlinewidth": 0,
              "ticks": ""
             }
            },
            "type": "scatter3d"
           }
          ],
          "scattercarpet": [
           {
            "marker": {
             "colorbar": {
              "outlinewidth": 0,
              "ticks": ""
             }
            },
            "type": "scattercarpet"
           }
          ],
          "scattergeo": [
           {
            "marker": {
             "colorbar": {
              "outlinewidth": 0,
              "ticks": ""
             }
            },
            "type": "scattergeo"
           }
          ],
          "scattergl": [
           {
            "marker": {
             "colorbar": {
              "outlinewidth": 0,
              "ticks": ""
             }
            },
            "type": "scattergl"
           }
          ],
          "scattermapbox": [
           {
            "marker": {
             "colorbar": {
              "outlinewidth": 0,
              "ticks": ""
             }
            },
            "type": "scattermapbox"
           }
          ],
          "scatterpolar": [
           {
            "marker": {
             "colorbar": {
              "outlinewidth": 0,
              "ticks": ""
             }
            },
            "type": "scatterpolar"
           }
          ],
          "scatterpolargl": [
           {
            "marker": {
             "colorbar": {
              "outlinewidth": 0,
              "ticks": ""
             }
            },
            "type": "scatterpolargl"
           }
          ],
          "scatterternary": [
           {
            "marker": {
             "colorbar": {
              "outlinewidth": 0,
              "ticks": ""
             }
            },
            "type": "scatterternary"
           }
          ],
          "surface": [
           {
            "colorbar": {
             "outlinewidth": 0,
             "ticks": ""
            },
            "colorscale": [
             [
              0,
              "#0d0887"
             ],
             [
              0.1111111111111111,
              "#46039f"
             ],
             [
              0.2222222222222222,
              "#7201a8"
             ],
             [
              0.3333333333333333,
              "#9c179e"
             ],
             [
              0.4444444444444444,
              "#bd3786"
             ],
             [
              0.5555555555555556,
              "#d8576b"
             ],
             [
              0.6666666666666666,
              "#ed7953"
             ],
             [
              0.7777777777777778,
              "#fb9f3a"
             ],
             [
              0.8888888888888888,
              "#fdca26"
             ],
             [
              1,
              "#f0f921"
             ]
            ],
            "type": "surface"
           }
          ],
          "table": [
           {
            "cells": {
             "fill": {
              "color": "#EBF0F8"
             },
             "line": {
              "color": "white"
             }
            },
            "header": {
             "fill": {
              "color": "#C8D4E3"
             },
             "line": {
              "color": "white"
             }
            },
            "type": "table"
           }
          ]
         },
         "layout": {
          "annotationdefaults": {
           "arrowcolor": "#2a3f5f",
           "arrowhead": 0,
           "arrowwidth": 1
          },
          "autotypenumbers": "strict",
          "coloraxis": {
           "colorbar": {
            "outlinewidth": 0,
            "ticks": ""
           }
          },
          "colorscale": {
           "diverging": [
            [
             0,
             "#8e0152"
            ],
            [
             0.1,
             "#c51b7d"
            ],
            [
             0.2,
             "#de77ae"
            ],
            [
             0.3,
             "#f1b6da"
            ],
            [
             0.4,
             "#fde0ef"
            ],
            [
             0.5,
             "#f7f7f7"
            ],
            [
             0.6,
             "#e6f5d0"
            ],
            [
             0.7,
             "#b8e186"
            ],
            [
             0.8,
             "#7fbc41"
            ],
            [
             0.9,
             "#4d9221"
            ],
            [
             1,
             "#276419"
            ]
           ],
           "sequential": [
            [
             0,
             "#0d0887"
            ],
            [
             0.1111111111111111,
             "#46039f"
            ],
            [
             0.2222222222222222,
             "#7201a8"
            ],
            [
             0.3333333333333333,
             "#9c179e"
            ],
            [
             0.4444444444444444,
             "#bd3786"
            ],
            [
             0.5555555555555556,
             "#d8576b"
            ],
            [
             0.6666666666666666,
             "#ed7953"
            ],
            [
             0.7777777777777778,
             "#fb9f3a"
            ],
            [
             0.8888888888888888,
             "#fdca26"
            ],
            [
             1,
             "#f0f921"
            ]
           ],
           "sequentialminus": [
            [
             0,
             "#0d0887"
            ],
            [
             0.1111111111111111,
             "#46039f"
            ],
            [
             0.2222222222222222,
             "#7201a8"
            ],
            [
             0.3333333333333333,
             "#9c179e"
            ],
            [
             0.4444444444444444,
             "#bd3786"
            ],
            [
             0.5555555555555556,
             "#d8576b"
            ],
            [
             0.6666666666666666,
             "#ed7953"
            ],
            [
             0.7777777777777778,
             "#fb9f3a"
            ],
            [
             0.8888888888888888,
             "#fdca26"
            ],
            [
             1,
             "#f0f921"
            ]
           ]
          },
          "colorway": [
           "#636efa",
           "#EF553B",
           "#00cc96",
           "#ab63fa",
           "#FFA15A",
           "#19d3f3",
           "#FF6692",
           "#B6E880",
           "#FF97FF",
           "#FECB52"
          ],
          "font": {
           "color": "#2a3f5f"
          },
          "geo": {
           "bgcolor": "white",
           "lakecolor": "white",
           "landcolor": "#E5ECF6",
           "showlakes": true,
           "showland": true,
           "subunitcolor": "white"
          },
          "hoverlabel": {
           "align": "left"
          },
          "hovermode": "closest",
          "mapbox": {
           "style": "light"
          },
          "paper_bgcolor": "white",
          "plot_bgcolor": "#E5ECF6",
          "polar": {
           "angularaxis": {
            "gridcolor": "white",
            "linecolor": "white",
            "ticks": ""
           },
           "bgcolor": "#E5ECF6",
           "radialaxis": {
            "gridcolor": "white",
            "linecolor": "white",
            "ticks": ""
           }
          },
          "scene": {
           "xaxis": {
            "backgroundcolor": "#E5ECF6",
            "gridcolor": "white",
            "gridwidth": 2,
            "linecolor": "white",
            "showbackground": true,
            "ticks": "",
            "zerolinecolor": "white"
           },
           "yaxis": {
            "backgroundcolor": "#E5ECF6",
            "gridcolor": "white",
            "gridwidth": 2,
            "linecolor": "white",
            "showbackground": true,
            "ticks": "",
            "zerolinecolor": "white"
           },
           "zaxis": {
            "backgroundcolor": "#E5ECF6",
            "gridcolor": "white",
            "gridwidth": 2,
            "linecolor": "white",
            "showbackground": true,
            "ticks": "",
            "zerolinecolor": "white"
           }
          },
          "shapedefaults": {
           "line": {
            "color": "#2a3f5f"
           }
          },
          "ternary": {
           "aaxis": {
            "gridcolor": "white",
            "linecolor": "white",
            "ticks": ""
           },
           "baxis": {
            "gridcolor": "white",
            "linecolor": "white",
            "ticks": ""
           },
           "bgcolor": "#E5ECF6",
           "caxis": {
            "gridcolor": "white",
            "linecolor": "white",
            "ticks": ""
           }
          },
          "title": {
           "x": 0.05
          },
          "xaxis": {
           "automargin": true,
           "gridcolor": "white",
           "linecolor": "white",
           "ticks": "",
           "title": {
            "standoff": 15
           },
           "zerolinecolor": "white",
           "zerolinewidth": 2
          },
          "yaxis": {
           "automargin": true,
           "gridcolor": "white",
           "linecolor": "white",
           "ticks": "",
           "title": {
            "standoff": 15
           },
           "zerolinecolor": "white",
           "zerolinewidth": 2
          }
         }
        },
        "title": {
         "text": "Top 10 Universities Globally"
        },
        "xaxis": {
         "anchor": "y",
         "domain": [
          0,
          1
         ],
         "title": {
          "text": "University"
         }
        },
        "yaxis": {
         "anchor": "x",
         "domain": [
          0,
          1
         ],
         "title": {
          "text": "Global Rank"
         }
        }
       }
      }
     },
     "metadata": {},
     "output_type": "display_data"
    }
   ],
   "source": [
    "# Using plotly to visualize the top 10 universities\n",
    "\n",
    "# Filter the top 10 universities\n",
    "top_10_universities_plot = the_df[the_df['int_rank'] <= 10][['int_rank', 'University Name', 'Location']]\n",
    "\n",
    "# Create a bar chart using Plotly\n",
    "fig_top_10 = px.bar(top_10_universities_plot, x='University Name', y='int_rank',\n",
    "                    title=\"Top 10 Universities Globally\",\n",
    "                    labels={'int_rank': 'Global Rank', 'University Name': 'University'},\n",
    "                    color='Location',\n",
    "                    hover_data=['Location'],\n",
    "                    height=600)\n",
    "\n",
    "# Show the plot\n",
    "fig_top_10.show()\n"
   ]
  },
  {
   "cell_type": "code",
   "execution_count": 60,
   "metadata": {},
   "outputs": [
    {
     "name": "stderr",
     "output_type": "stream",
     "text": [
      "C:\\Users\\fesle\\AppData\\Local\\Temp\\ipykernel_15476\\2333039455.py:6: FutureWarning:\n",
      "\n",
      "\n",
      "\n",
      "Passing `palette` without assigning `hue` is deprecated and will be removed in v0.14.0. Assign the `y` variable to `hue` and set `legend=False` for the same effect.\n",
      "\n",
      "\n"
     ]
    },
    {
     "data": {
      "image/png": "[encoded data removed]",
      "text/plain": [
       "<Figure size 1000x600 with 1 Axes>"
      ]
     },
     "metadata": {},
     "output_type": "display_data"
    }
   ],
   "source": [
    "# Filter the universities in Saudi Arabia\n",
    "saudi_universities1 = the_df[the_df['Location'] == 'Saudi Arabia'][['int_rank', 'University Name']]\n",
    "\n",
    "# Create a seaborn bar plot for Saudi universities\n",
    "plt.figure(figsize=(10, 6))\n",
    "sns.barplot(x='int_rank', y='University Name', data=saudi_universities1, palette=\"Blues_d\")\n",
    "\n",
    "# Set plot labels and title\n",
    "plt.xlabel('Global Rank')\n",
    "plt.ylabel('University Name')\n",
    "plt.title('Saudi Universities and Their Global Rankings')\n",
    "\n",
    "# Show the plot\n",
    "plt.tight_layout()\n",
    "plt.show()\n"
   ]
  },
  {
   "cell_type": "code",
   "execution_count": 61,
   "metadata": {},
   "outputs": [
    {
     "data": {
      "image/png": "[encoded data removed]",
      "text/plain": [
       "<Figure size 1000x600 with 1 Axes>"
      ]
     },
     "metadata": {},
     "output_type": "display_data"
    }
   ],
   "source": [
    "# Filter rows for universities located in Saudi Arabia\n",
    "saudi_universities_sorted = the_df[the_df['Location'].str.contains('Saudi Arabia', na=False)]\n",
    "\n",
    "# Create a bar plot for avg_score vs. University Name\n",
    "plt.figure(figsize=(10, 6))\n",
    "plt.barh(saudi_universities_sorted['University Name'], saudi_universities_sorted['avg_score'], color='skyblue')\n",
    "plt.xlabel('Average Score')\n",
    "plt.ylabel('University Name')\n",
    "plt.title('Average Scores of Saudi Universities in Global Rankings')\n",
    "plt.gca().invert_yaxis()  # Invert y-axis to show the highest score at the top\n",
    "\n",
    "# Display the plot\n",
    "plt.tight_layout()\n",
    "plt.show()\n"
   ]
  },
  {
   "cell_type": "code",
   "execution_count": 62,
   "metadata": {},
   "outputs": [
    {
     "data": {
      "application/vnd.plotly.v1+json": {
       "config": {
        "plotlyServerURL": "https://plot.ly"
       },
       "data": [
        {
         "alignmentgroup": "True",
         "hovertemplate": "Country=%{x}<br>Number of Top 100 Universities=%{marker.color}<extra></extra>",
         "legendgroup": "",
         "marker": {
          "color": [
           26,
           16,
           15,
           7,
           7,
           4,
           4,
           3,
           3,
           2,
           2,
           2,
           2,
           1,
           1,
           1,
           1,
           1,
           1,
           1,
           1,
           1
          ],
          "coloraxis": "coloraxis",
          "pattern": {
           "shape": ""
          }
         },
         "name": "",
         "offsetgroup": "",
         "orientation": "v",
         "showlegend": false,
         "textposition": "auto",
         "type": "bar",
         "x": [
          "United Kingdom",
          "Canada",
          "Australia",
          "New Zealand",
          "United States",
          "Ireland",
          "Thailand",
          "South Korea",
          "Taiwan",
          "Japan",
          "Italy",
          "South Africa",
          "Mexico",
          "China",
          "India",
          "Hong Kong",
          "Denmark",
          "Indonesia",
          "Portugal",
          "Malaysia",
          "Sweden",
          "Turkey"
         ],
         "xaxis": "x",
         "y": [
          26,
          16,
          15,
          7,
          7,
          4,
          4,
          3,
          3,
          2,
          2,
          2,
          2,
          1,
          1,
          1,
          1,
          1,
          1,
          1,
          1,
          1
         ],
         "yaxis": "y"
        }
       ],
       "layout": {
        "barmode": "relative",
        "coloraxis": {
         "colorbar": {
          "title": {
           "text": "Number of Top 100 Universities"
          }
         },
         "colorscale": [
          [
           0,
           "#0d0887"
          ],
          [
           0.1111111111111111,
           "#46039f"
          ],
          [
           0.2222222222222222,
           "#7201a8"
          ],
          [
           0.3333333333333333,
           "#9c179e"
          ],
          [
           0.4444444444444444,
           "#bd3786"
          ],
          [
           0.5555555555555556,
           "#d8576b"
          ],
          [
           0.6666666666666666,
           "#ed7953"
          ],
          [
           0.7777777777777778,
           "#fb9f3a"
          ],
          [
           0.8888888888888888,
           "#fdca26"
          ],
          [
           1,
           "#f0f921"
          ]
         ]
        },
        "legend": {
         "tracegroupgap": 0
        },
        "template": {
         "data": {
          "bar": [
           {
            "error_x": {
             "color": "#2a3f5f"
            },
            "error_y": {
             "color": "#2a3f5f"
            },
            "marker": {
             "line": {
              "color": "#E5ECF6",
              "width": 0.5
             },
             "pattern": {
              "fillmode": "overlay",
              "size": 10,
              "solidity": 0.2
             }
            },
            "type": "bar"
           }
          ],
          "barpolar": [
           {
            "marker": {
             "line": {
              "color": "#E5ECF6",
              "width": 0.5
             },
             "pattern": {
              "fillmode": "overlay",
              "size": 10,
              "solidity": 0.2
             }
            },
            "type": "barpolar"
           }
          ],
          "carpet": [
           {
            "aaxis": {
             "endlinecolor": "#2a3f5f",
             "gridcolor": "white",
             "linecolor": "white",
             "minorgridcolor": "white",
             "startlinecolor": "#2a3f5f"
            },
            "baxis": {
             "endlinecolor": "#2a3f5f",
             "gridcolor": "white",
             "linecolor": "white",
             "minorgridcolor": "white",
             "startlinecolor": "#2a3f5f"
            },
            "type": "carpet"
           }
          ],
          "choropleth": [
           {
            "colorbar": {
             "outlinewidth": 0,
             "ticks": ""
            },
            "type": "choropleth"
           }
          ],
          "contour": [
           {
            "colorbar": {
             "outlinewidth": 0,
             "ticks": ""
            },
            "colorscale": [
             [
              0,
              "#0d0887"
             ],
             [
              0.1111111111111111,
              "#46039f"
             ],
             [
              0.2222222222222222,
              "#7201a8"
             ],
             [
              0.3333333333333333,
              "#9c179e"
             ],
             [
              0.4444444444444444,
              "#bd3786"
             ],
             [
              0.5555555555555556,
              "#d8576b"
             ],
             [
              0.6666666666666666,
              "#ed7953"
             ],
             [
              0.7777777777777778,
              "#fb9f3a"
             ],
             [
              0.8888888888888888,
              "#fdca26"
             ],
             [
              1,
              "#f0f921"
             ]
            ],
            "type": "contour"
           }
          ],
          "contourcarpet": [
           {
            "colorbar": {
             "outlinewidth": 0,
             "ticks": ""
            },
            "type": "contourcarpet"
           }
          ],
          "heatmap": [
           {
            "colorbar": {
             "outlinewidth": 0,
             "ticks": ""
            },
            "colorscale": [
             [
              0,
              "#0d0887"
             ],
             [
              0.1111111111111111,
              "#46039f"
             ],
             [
              0.2222222222222222,
              "#7201a8"
             ],
             [
              0.3333333333333333,
              "#9c179e"
             ],
             [
              0.4444444444444444,
              "#bd3786"
             ],
             [
              0.5555555555555556,
              "#d8576b"
             ],
             [
              0.6666666666666666,
              "#ed7953"
             ],
             [
              0.7777777777777778,
              "#fb9f3a"
             ],
             [
              0.8888888888888888,
              "#fdca26"
             ],
             [
              1,
              "#f0f921"
             ]
            ],
            "type": "heatmap"
           }
          ],
          "heatmapgl": [
           {
            "colorbar": {
             "outlinewidth": 0,
             "ticks": ""
            },
            "colorscale": [
             [
              0,
              "#0d0887"
             ],
             [
              0.1111111111111111,
              "#46039f"
             ],
             [
              0.2222222222222222,
              "#7201a8"
             ],
             [
              0.3333333333333333,
              "#9c179e"
             ],
             [
              0.4444444444444444,
              "#bd3786"
             ],
             [
              0.5555555555555556,
              "#d8576b"
             ],
             [
              0.6666666666666666,
              "#ed7953"
             ],
             [
              0.7777777777777778,
              "#fb9f3a"
             ],
             [
              0.8888888888888888,
              "#fdca26"
             ],
             [
              1,
              "#f0f921"
             ]
            ],
            "type": "heatmapgl"
           }
          ],
          "histogram": [
           {
            "marker": {
             "pattern": {
              "fillmode": "overlay",
              "size": 10,
              "solidity": 0.2
             }
            },
            "type": "histogram"
           }
          ],
          "histogram2d": [
           {
            "colorbar": {
             "outlinewidth": 0,
             "ticks": ""
            },
            "colorscale": [
             [
              0,
              "#0d0887"
             ],
             [
              0.1111111111111111,
              "#46039f"
             ],
             [
              0.2222222222222222,
              "#7201a8"
             ],
             [
              0.3333333333333333,
              "#9c179e"
             ],
             [
              0.4444444444444444,
              "#bd3786"
             ],
             [
              0.5555555555555556,
              "#d8576b"
             ],
             [
              0.6666666666666666,
              "#ed7953"
             ],
             [
              0.7777777777777778,
              "#fb9f3a"
             ],
             [
              0.8888888888888888,
              "#fdca26"
             ],
             [
              1,
              "#f0f921"
             ]
            ],
            "type": "histogram2d"
           }
          ],
          "histogram2dcontour": [
           {
            "colorbar": {
             "outlinewidth": 0,
             "ticks": ""
            },
            "colorscale": [
             [
              0,
              "#0d0887"
             ],
             [
              0.1111111111111111,
              "#46039f"
             ],
             [
              0.2222222222222222,
              "#7201a8"
             ],
             [
              0.3333333333333333,
              "#9c179e"
             ],
             [
              0.4444444444444444,
              "#bd3786"
             ],
             [
              0.5555555555555556,
              "#d8576b"
             ],
             [
              0.6666666666666666,
              "#ed7953"
             ],
             [
              0.7777777777777778,
              "#fb9f3a"
             ],
             [
              0.8888888888888888,
              "#fdca26"
             ],
             [
              1,
              "#f0f921"
             ]
            ],
            "type": "histogram2dcontour"
           }
          ],
          "mesh3d": [
           {
            "colorbar": {
             "outlinewidth": 0,
             "ticks": ""
            },
            "type": "mesh3d"
           }
          ],
          "parcoords": [
           {
            "line": {
             "colorbar": {
              "outlinewidth": 0,
              "ticks": ""
             }
            },
            "type": "parcoords"
           }
          ],
          "pie": [
           {
            "automargin": true,
            "type": "pie"
           }
          ],
          "scatter": [
           {
            "fillpattern": {
             "fillmode": "overlay",
             "size": 10,
             "solidity": 0.2
            },
            "type": "scatter"
           }
          ],
          "scatter3d": [
           {
            "line": {
             "colorbar": {
              "outlinewidth": 0,
              "ticks": ""
             }
            },
            "marker": {
             "colorbar": {
              "outlinewidth": 0,
              "ticks": ""
             }
            },
            "type": "scatter3d"
           }
          ],
          "scattercarpet": [
           {
            "marker": {
             "colorbar": {
              "outlinewidth": 0,
              "ticks": ""
             }
            },
            "type": "scattercarpet"
           }
          ],
          "scattergeo": [
           {
            "marker": {
             "colorbar": {
              "outlinewidth": 0,
              "ticks": ""
             }
            },
            "type": "scattergeo"
           }
          ],
          "scattergl": [
           {
            "marker": {
             "colorbar": {
              "outlinewidth": 0,
              "ticks": ""
             }
            },
            "type": "scattergl"
           }
          ],
          "scattermapbox": [
           {
            "marker": {
             "colorbar": {
              "outlinewidth": 0,
              "ticks": ""
             }
            },
            "type": "scattermapbox"
           }
          ],
          "scatterpolar": [
           {
            "marker": {
             "colorbar": {
              "outlinewidth": 0,
              "ticks": ""
             }
            },
            "type": "scatterpolar"
           }
          ],
          "scatterpolargl": [
           {
            "marker": {
             "colorbar": {
              "outlinewidth": 0,
              "ticks": ""
             }
            },
            "type": "scatterpolargl"
           }
          ],
          "scatterternary": [
           {
            "marker": {
             "colorbar": {
              "outlinewidth": 0,
              "ticks": ""
             }
            },
            "type": "scatterternary"
           }
          ],
          "surface": [
           {
            "colorbar": {
             "outlinewidth": 0,
             "ticks": ""
            },
            "colorscale": [
             [
              0,
              "#0d0887"
             ],
             [
              0.1111111111111111,
              "#46039f"
             ],
             [
              0.2222222222222222,
              "#7201a8"
             ],
             [
              0.3333333333333333,
              "#9c179e"
             ],
             [
              0.4444444444444444,
              "#bd3786"
             ],
             [
              0.5555555555555556,
              "#d8576b"
             ],
             [
              0.6666666666666666,
              "#ed7953"
             ],
             [
              0.7777777777777778,
              "#fb9f3a"
             ],
             [
              0.8888888888888888,
              "#fdca26"
             ],
             [
              1,
              "#f0f921"
             ]
            ],
            "type": "surface"
           }
          ],
          "table": [
           {
            "cells": {
             "fill": {
              "color": "#EBF0F8"
             },
             "line": {
              "color": "white"
             }
            },
            "header": {
             "fill": {
              "color": "#C8D4E3"
             },
             "line": {
              "color": "white"
             }
            },
            "type": "table"
           }
          ]
         },
         "layout": {
          "annotationdefaults": {
           "arrowcolor": "#2a3f5f",
           "arrowhead": 0,
           "arrowwidth": 1
          },
          "autotypenumbers": "strict",
          "coloraxis": {
           "colorbar": {
            "outlinewidth": 0,
            "ticks": ""
           }
          },
          "colorscale": {
           "diverging": [
            [
             0,
             "#8e0152"
            ],
            [
             0.1,
             "#c51b7d"
            ],
            [
             0.2,
             "#de77ae"
            ],
            [
             0.3,
             "#f1b6da"
            ],
            [
             0.4,
             "#fde0ef"
            ],
            [
             0.5,
             "#f7f7f7"
            ],
            [
             0.6,
             "#e6f5d0"
            ],
            [
             0.7,
             "#b8e186"
            ],
            [
             0.8,
             "#7fbc41"
            ],
            [
             0.9,
             "#4d9221"
            ],
            [
             1,
             "#276419"
            ]
           ],
           "sequential": [
            [
             0,
             "#0d0887"
            ],
            [
             0.1111111111111111,
             "#46039f"
            ],
            [
             0.2222222222222222,
             "#7201a8"
            ],
            [
             0.3333333333333333,
             "#9c179e"
            ],
            [
             0.4444444444444444,
             "#bd3786"
            ],
            [
             0.5555555555555556,
             "#d8576b"
            ],
            [
             0.6666666666666666,
             "#ed7953"
            ],
            [
             0.7777777777777778,
             "#fb9f3a"
            ],
            [
             0.8888888888888888,
             "#fdca26"
            ],
            [
             1,
             "#f0f921"
            ]
           ],
           "sequentialminus": [
            [
             0,
             "#0d0887"
            ],
            [
             0.1111111111111111,
             "#46039f"
            ],
            [
             0.2222222222222222,
             "#7201a8"
            ],
            [
             0.3333333333333333,
             "#9c179e"
            ],
            [
             0.4444444444444444,
             "#bd3786"
            ],
            [
             0.5555555555555556,
             "#d8576b"
            ],
            [
             0.6666666666666666,
             "#ed7953"
            ],
            [
             0.7777777777777778,
             "#fb9f3a"
            ],
            [
             0.8888888888888888,
             "#fdca26"
            ],
            [
             1,
             "#f0f921"
            ]
           ]
          },
          "colorway": [
           "#636efa",
           "#EF553B",
           "#00cc96",
           "#ab63fa",
           "#FFA15A",
           "#19d3f3",
           "#FF6692",
           "#B6E880",
           "#FF97FF",
           "#FECB52"
          ],
          "font": {
           "color": "#2a3f5f"
          },
          "geo": {
           "bgcolor": "white",
           "lakecolor": "white",
           "landcolor": "#E5ECF6",
           "showlakes": true,
           "showland": true,
           "subunitcolor": "white"
          },
          "hoverlabel": {
           "align": "left"
          },
          "hovermode": "closest",
          "mapbox": {
           "style": "light"
          },
          "paper_bgcolor": "white",
          "plot_bgcolor": "#E5ECF6",
          "polar": {
           "angularaxis": {
            "gridcolor": "white",
            "linecolor": "white",
            "ticks": ""
           },
           "bgcolor": "#E5ECF6",
           "radialaxis": {
            "gridcolor": "white",
            "linecolor": "white",
            "ticks": ""
           }
          },
          "scene": {
           "xaxis": {
            "backgroundcolor": "#E5ECF6",
            "gridcolor": "white",
            "gridwidth": 2,
            "linecolor": "white",
            "showbackground": true,
            "ticks": "",
            "zerolinecolor": "white"
           },
           "yaxis": {
            "backgroundcolor": "#E5ECF6",
            "gridcolor": "white",
            "gridwidth": 2,
            "linecolor": "white",
            "showbackground": true,
            "ticks": "",
            "zerolinecolor": "white"
           },
           "zaxis": {
            "backgroundcolor": "#E5ECF6",
            "gridcolor": "white",
            "gridwidth": 2,
            "linecolor": "white",
            "showbackground": true,
            "ticks": "",
            "zerolinecolor": "white"
           }
          },
          "shapedefaults": {
           "line": {
            "color": "#2a3f5f"
           }
          },
          "ternary": {
           "aaxis": {
            "gridcolor": "white",
            "linecolor": "white",
            "ticks": ""
           },
           "baxis": {
            "gridcolor": "white",
            "linecolor": "white",
            "ticks": ""
           },
           "bgcolor": "#E5ECF6",
           "caxis": {
            "gridcolor": "white",
            "linecolor": "white",
            "ticks": ""
           }
          },
          "title": {
           "x": 0.05
          },
          "xaxis": {
           "automargin": true,
           "gridcolor": "white",
           "linecolor": "white",
           "ticks": "",
           "title": {
            "standoff": 15
           },
           "zerolinecolor": "white",
           "zerolinewidth": 2
          },
          "yaxis": {
           "automargin": true,
           "gridcolor": "white",
           "linecolor": "white",
           "ticks": "",
           "title": {
            "standoff": 15
           },
           "zerolinecolor": "white",
           "zerolinewidth": 2
          }
         }
        },
        "title": {
         "text": "Top 100 Universities by Country                                    Source: Times Higher Education"
        },
        "xaxis": {
         "anchor": "y",
         "domain": [
          0,
          1
         ],
         "title": {
          "text": "Country"
         }
        },
        "yaxis": {
         "anchor": "x",
         "domain": [
          0,
          1
         ],
         "title": {
          "text": "Number of Top 100 Universities"
         }
        }
       }
      }
     },
     "metadata": {},
     "output_type": "display_data"
    }
   ],
   "source": [
    "top_university_countries_sorted = top_university_countries.sort_values(by='Top 100 Universities', ascending=False)\n",
    "\n",
    "# Re-create the bar plot with sorted columns\n",
    "fig_sorted = px.bar(top_university_countries_sorted, x='Location', y='Top 100 Universities', \n",
    "                    title=\"Top 100 Universities by Country                                    Source: Times Higher Education\",\n",
    "                    labels={'Top 100 Universities': 'Number of Top 100 Universities', 'Location': 'Country'},\n",
    "                    color='Top 100 Universities')\n",
    "\n",
    "fig_sorted.show()"
   ]
  }
 ],
 "metadata": {
  "kernelspec": {
   "display_name": "dsbootcamp",
   "language": "python",
   "name": "python3"
  },
  "language_info": {
   "codemirror_mode": {
    "name": "ipython",
    "version": 3
   },
   "file_extension": ".py",
   "mimetype": "text/x-python",
   "name": "python",
   "nbconvert_exporter": "python",
   "pygments_lexer": "ipython3",
   "version": "3.11.10"
  }
 },
 "nbformat": 4,
 "nbformat_minor": 2
}
