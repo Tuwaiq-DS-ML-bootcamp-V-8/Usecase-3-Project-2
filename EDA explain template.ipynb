{
 "cells": [
  {
   "cell_type": "markdown",
   "id": "c21d6cc5",
   "metadata": {},
   "source": [
    "## University Rankings Overview\n",
    "\n",
    "University rankings are based on different criteria and can vary widely. Here's a brief comparison:\n",
    "\n",
    "- **Times Higher Education (THE):**  \n",
    "  Focuses on research, teaching, citations, industry income, and international collaboration.  \n",
    "  *Criticism:* Tends to favor English-speaking universities and may be influenced by commercial interests.\n",
    "  \n",
    "- **Shanghai Ranking (ARWU):**  \n",
    "  Primarily measures research strength through publications and Nobel laureates.  \n",
    "  *Criticism:* Often criticized for not considering teaching quality or humanities departments.\n",
    "\n",
    "- **Center for World University Rankings (CWUR):**  \n",
    "  A lesser-known ranking system that assesses universities based on research output and faculty quality.  \n",
    "  *Criticism:* Not as widely recognized, but offers unique perspectives with a focus on raw research data.\n",
    "\n",
    "### Educational Attainment and Ranking Insights:\n",
    "\n",
    "The dataset also includes educational attainment levels by country. Analyzing these alongside university rankings could show connections between national education quality and university performance. This can be useful for understanding how educational systems impact global rankings.\n",
    "\n",
    "### Conclusion:\n",
    "\n",
    "While rankings provide a snapshot of a university's performance, they have biases and may not capture the full picture. Consider factors beyond rankings, such as academic programs, faculty, campus facilities, and student satisfaction, when evaluating universities.\n",
    "\n",
    "For more detailed information, visit [this Kaggle dataset](https://www.kaggle.com/datasets/ourfuture/world-university-rankings).\n"
   ]
  },
  {
   "cell_type": "markdown",
   "id": "cc71c13e",
   "metadata": {},
   "source": [
    "## Import libraries"
   ]
  },
  {
   "cell_type": "code",
   "execution_count": 275,
   "id": "e69c4ba1-85f3-4a02-ae37-c64347a01803",
   "metadata": {},
   "outputs": [],
   "source": [
    "#Import all relevant libraries\n",
    "import numpy as np\n",
    "import pandas as pd\n",
    "import matplotlib.pyplot as plt\n",
    "import seaborn as sns\n",
    "from scipy.stats import zscore\n",
    "import regex as re\n",
    "import plotly.express as px\n",
    " \n",
    "## This statement allows the visuals to render within your Jupyter Notebook.\n",
    "%matplotlib inline"
   ]
  },
  {
   "cell_type": "markdown",
   "id": "e395e8bf-b530-4720-8d0f-26811e927d6e",
   "metadata": {},
   "source": [
    "## Loading the data\n",
    "We can now load the dataset into pandas using the read_csv() function. This converts the CSV file into a Pandas dataframe."
   ]
  },
  {
   "cell_type": "code",
   "execution_count": 169,
   "id": "cf4030b0-aa7f-4bd7-8e9c-c1b7f4d202d0",
   "metadata": {},
   "outputs": [],
   "source": [
    "# Reading the data from the files\n",
    "shanghai_rank = pd.read_excel('shanghai Ranking.xlsx') #ARWU\n",
    "times_h = pd.read_excel('Times Higher Education.xlsx') #THE\n",
    "word_rank = pd.read_excel('Word Rank University.xlsx') #CWUR"
   ]
  },
  {
   "cell_type": "markdown",
   "id": "ca5ed983-0f72-43eb-8168-6fafd48c562e",
   "metadata": {},
   "source": [
    "### Viewing the dataframe\n",
    "We can get a quick sense of the size of our dataset by using the shape method. This returns a tuple with the number of rows and columns in the dataset."
   ]
  },
  {
   "cell_type": "code",
   "execution_count": 170,
   "id": "bfde0b69-613c-4dd1-8ebf-e4d2e570e653",
   "metadata": {},
   "outputs": [
    {
     "name": "stdout",
     "output_type": "stream",
     "text": [
      "Shanghai Ranking DataFrame shape: (1000, 6)\n",
      "Times Higher Education DataFrame shape: (1591, 20)\n",
      "World Rank University DataFrame shape: (2000, 9)\n"
     ]
    }
   ],
   "source": [
    "# Show the shape of each dataframe\n",
    "print(f\"Shanghai Ranking DataFrame shape: {shanghai_rank.shape}\")\n",
    "print(f\"Times Higher Education DataFrame shape: {times_h.shape}\")\n",
    "print(f\"World Rank University DataFrame shape: {word_rank.shape}\")"
   ]
  },
  {
   "cell_type": "markdown",
   "id": "bd2b5bc4-db37-4432-b666-0714afd0c4ca",
   "metadata": {},
   "source": [
    "## 1. Data Profiling:\n",
    "Data profiling is a comprehensive process of examining the data available in an existing dataset and collecting statistics and information about that data. "
   ]
  },
  {
   "cell_type": "code",
   "execution_count": 171,
   "id": "672f2081-5a2c-4908-8cbd-29519fb3cac5",
   "metadata": {},
   "outputs": [
    {
     "name": "stdout",
     "output_type": "stream",
     "text": [
      "Shanghai Ranking DataFrame columns: Ranking - University Name - National/Regional Rank - Total Score - LOGO - University Detail \n",
      "\n",
      "Times Higher Education DataFrame columns: Rank - University Name  - ranking-institution-title href - Location - sdg-score-multi__number - sdg-score-multi__value - sdg-score-multi__number 2 - sdg-score-multi__value 2 - sdg-score-multi__number 3 - sdg-score-multi__value 3 - sdg-score-multi__value 4 - scores - sdg-score-multi__number 5 - sdg-score-multi__value 5 - sdg-score-multi__number 6 - sdg-score-multi__value 6 - sdg-score-multi__number 7 - sdg-score-multi__value 7 - sdg-score-multi__number 8 - sdg-score-multi__value 8\n",
      "\n",
      "World Rank University DataFrame columns: World Rank - University Names - Location  - National Rank - Educational Rank - Employability Rank - Faculty Rank - Research Rank - Score\n"
     ]
    }
   ],
   "source": [
    "# Hence the number of columns in each dataframe is different.\n",
    "# We will see columns in each dataframe\n",
    "print(f\"Shanghai Ranking DataFrame columns: {' - '.join([col for col in shanghai_rank.columns])}\")\n",
    "print()\n",
    "print(f\"Times Higher Education DataFrame columns: {' - '.join([col for col in times_h.columns])}\")\n",
    "print()\n",
    "print(f\"World Rank University DataFrame columns: {' - '.join([col for col in word_rank.columns])}\")"
   ]
  },
  {
   "cell_type": "markdown",
   "id": "0324e630",
   "metadata": {},
   "source": [
    "- As a result, we can see that there is a chance to have an **inconsistency** in the column.\n",
    "- We will check the data types of these dataframes, and see if there is a missing values."
   ]
  },
  {
   "cell_type": "code",
   "execution_count": 172,
   "id": "33e7a237",
   "metadata": {},
   "outputs": [
    {
     "name": "stdout",
     "output_type": "stream",
     "text": [
      "Shanghai information:-\n",
      "\n",
      "<class 'pandas.core.frame.DataFrame'>\n",
      "RangeIndex: 1000 entries, 0 to 999\n",
      "Data columns (total 6 columns):\n",
      " #   Column                  Non-Null Count  Dtype  \n",
      "---  ------                  --------------  -----  \n",
      " 0   Ranking                 1000 non-null   object \n",
      " 1   University Name         1000 non-null   object \n",
      " 2   National/Regional Rank  1000 non-null   object \n",
      " 3   Total Score             1000 non-null   float64\n",
      " 4   LOGO                    1000 non-null   object \n",
      " 5   University Detail       1000 non-null   object \n",
      "dtypes: float64(1), object(5)\n",
      "memory usage: 47.0+ KB\n"
     ]
    },
    {
     "data": {
      "text/html": [
       "<div>\n",
       "<style scoped>\n",
       "    .dataframe tbody tr th:only-of-type {\n",
       "        vertical-align: middle;\n",
       "    }\n",
       "\n",
       "    .dataframe tbody tr th {\n",
       "        vertical-align: top;\n",
       "    }\n",
       "\n",
       "    .dataframe thead th {\n",
       "        text-align: right;\n",
       "    }\n",
       "</style>\n",
       "<table border=\"1\" class=\"dataframe\">\n",
       "  <thead>\n",
       "    <tr style=\"text-align: right;\">\n",
       "      <th></th>\n",
       "      <th>Ranking</th>\n",
       "      <th>University Name</th>\n",
       "      <th>National/Regional Rank</th>\n",
       "      <th>LOGO</th>\n",
       "      <th>University Detail</th>\n",
       "    </tr>\n",
       "  </thead>\n",
       "  <tbody>\n",
       "    <tr>\n",
       "      <th>count</th>\n",
       "      <td>1000</td>\n",
       "      <td>1000</td>\n",
       "      <td>1000</td>\n",
       "      <td>1000</td>\n",
       "      <td>1000</td>\n",
       "    </tr>\n",
       "    <tr>\n",
       "      <th>unique</th>\n",
       "      <td>93</td>\n",
       "      <td>1000</td>\n",
       "      <td>136</td>\n",
       "      <td>1000</td>\n",
       "      <td>1000</td>\n",
       "    </tr>\n",
       "    <tr>\n",
       "      <th>top</th>\n",
       "      <td>901-1000</td>\n",
       "      <td>Harvard University</td>\n",
       "      <td>1</td>\n",
       "      <td>http://www.shanghairanking.com/_uni/logo/032bd...</td>\n",
       "      <td>http://www.shanghairanking.com/institution/har...</td>\n",
       "    </tr>\n",
       "    <tr>\n",
       "      <th>freq</th>\n",
       "      <td>100</td>\n",
       "      <td>1</td>\n",
       "      <td>59</td>\n",
       "      <td>1</td>\n",
       "      <td>1</td>\n",
       "    </tr>\n",
       "  </tbody>\n",
       "</table>\n",
       "</div>"
      ],
      "text/plain": [
       "         Ranking     University Name National/Regional Rank  \\\n",
       "count       1000                1000                   1000   \n",
       "unique        93                1000                    136   \n",
       "top     901-1000  Harvard University                      1   \n",
       "freq         100                   1                     59   \n",
       "\n",
       "                                                     LOGO  \\\n",
       "count                                                1000   \n",
       "unique                                               1000   \n",
       "top     http://www.shanghairanking.com/_uni/logo/032bd...   \n",
       "freq                                                    1   \n",
       "\n",
       "                                       University Detail   \n",
       "count                                                1000  \n",
       "unique                                               1000  \n",
       "top     http://www.shanghairanking.com/institution/har...  \n",
       "freq                                                    1  "
      ]
     },
     "execution_count": 172,
     "metadata": {},
     "output_type": "execute_result"
    }
   ],
   "source": [
    "print(\"Shanghai information:-\\n\")\n",
    "shanghai_rank.info() # Information about the dataframe\n",
    "shanghai_rank.describe(include='object') # Object columns description"
   ]
  },
  {
   "cell_type": "code",
   "execution_count": 173,
   "id": "e0d4e427",
   "metadata": {},
   "outputs": [
    {
     "data": {
      "text/html": [
       "<div>\n",
       "<style scoped>\n",
       "    .dataframe tbody tr th:only-of-type {\n",
       "        vertical-align: middle;\n",
       "    }\n",
       "\n",
       "    .dataframe tbody tr th {\n",
       "        vertical-align: top;\n",
       "    }\n",
       "\n",
       "    .dataframe thead th {\n",
       "        text-align: right;\n",
       "    }\n",
       "</style>\n",
       "<table border=\"1\" class=\"dataframe\">\n",
       "  <thead>\n",
       "    <tr style=\"text-align: right;\">\n",
       "      <th></th>\n",
       "      <th>Total Score</th>\n",
       "    </tr>\n",
       "  </thead>\n",
       "  <tbody>\n",
       "    <tr>\n",
       "      <th>count</th>\n",
       "      <td>1000.000000</td>\n",
       "    </tr>\n",
       "    <tr>\n",
       "      <th>mean</th>\n",
       "      <td>5.943500</td>\n",
       "    </tr>\n",
       "    <tr>\n",
       "      <th>std</th>\n",
       "      <td>12.379624</td>\n",
       "    </tr>\n",
       "    <tr>\n",
       "      <th>min</th>\n",
       "      <td>0.000000</td>\n",
       "    </tr>\n",
       "    <tr>\n",
       "      <th>25%</th>\n",
       "      <td>0.000000</td>\n",
       "    </tr>\n",
       "    <tr>\n",
       "      <th>50%</th>\n",
       "      <td>0.000000</td>\n",
       "    </tr>\n",
       "    <tr>\n",
       "      <th>75%</th>\n",
       "      <td>7.500000</td>\n",
       "    </tr>\n",
       "    <tr>\n",
       "      <th>max</th>\n",
       "      <td>100.000000</td>\n",
       "    </tr>\n",
       "  </tbody>\n",
       "</table>\n",
       "</div>"
      ],
      "text/plain": [
       "       Total Score\n",
       "count  1000.000000\n",
       "mean      5.943500\n",
       "std      12.379624\n",
       "min       0.000000\n",
       "25%       0.000000\n",
       "50%       0.000000\n",
       "75%       7.500000\n",
       "max     100.000000"
      ]
     },
     "execution_count": 173,
     "metadata": {},
     "output_type": "execute_result"
    }
   ],
   "source": [
    "shanghai_rank.describe() # Numerical columns description"
   ]
  },
  {
   "cell_type": "code",
   "execution_count": 174,
   "id": "f7254364",
   "metadata": {},
   "outputs": [],
   "source": [
    "times_h = pd.read_excel('Times Higher Education.xlsx') #THE"
   ]
  },
  {
   "cell_type": "code",
   "execution_count": 175,
   "id": "36b2d851",
   "metadata": {},
   "outputs": [
    {
     "name": "stdout",
     "output_type": "stream",
     "text": [
      "Times Higher Education information:-\n",
      "\n",
      "<class 'pandas.core.frame.DataFrame'>\n",
      "RangeIndex: 1591 entries, 0 to 1590\n",
      "Data columns (total 20 columns):\n",
      " #   Column                          Non-Null Count  Dtype  \n",
      "---  ------                          --------------  -----  \n",
      " 0   Rank                            1591 non-null   object \n",
      " 1   University Name                 1591 non-null   object \n",
      " 2   ranking-institution-title href  1500 non-null   object \n",
      " 3   Location                        1500 non-null   object \n",
      " 4   sdg-score-multi__number         867 non-null    float64\n",
      " 5   sdg-score-multi__value          867 non-null    object \n",
      " 6   sdg-score-multi__number 2       826 non-null    float64\n",
      " 7   sdg-score-multi__value 2        825 non-null    object \n",
      " 8   sdg-score-multi__number 3       812 non-null    float64\n",
      " 9   sdg-score-multi__value 3        805 non-null    object \n",
      " 10  sdg-score-multi__value 4        1583 non-null   object \n",
      " 11  scores                          1591 non-null   object \n",
      " 12  sdg-score-multi__number 5       565 non-null    float64\n",
      " 13  sdg-score-multi__value 5        557 non-null    object \n",
      " 14  sdg-score-multi__number 6       498 non-null    float64\n",
      " 15  sdg-score-multi__value 6        496 non-null    object \n",
      " 16  sdg-score-multi__number 7       439 non-null    float64\n",
      " 17  sdg-score-multi__value 7        439 non-null    object \n",
      " 18  sdg-score-multi__number 8       483 non-null    float64\n",
      " 19  sdg-score-multi__value 8        483 non-null    object \n",
      "dtypes: float64(7), object(13)\n",
      "memory usage: 248.7+ KB\n"
     ]
    },
    {
     "data": {
      "text/html": [
       "<div>\n",
       "<style scoped>\n",
       "    .dataframe tbody tr th:only-of-type {\n",
       "        vertical-align: middle;\n",
       "    }\n",
       "\n",
       "    .dataframe tbody tr th {\n",
       "        vertical-align: top;\n",
       "    }\n",
       "\n",
       "    .dataframe thead th {\n",
       "        text-align: right;\n",
       "    }\n",
       "</style>\n",
       "<table border=\"1\" class=\"dataframe\">\n",
       "  <thead>\n",
       "    <tr style=\"text-align: right;\">\n",
       "      <th></th>\n",
       "      <th>Rank</th>\n",
       "      <th>University Name</th>\n",
       "      <th>ranking-institution-title href</th>\n",
       "      <th>Location</th>\n",
       "      <th>sdg-score-multi__value</th>\n",
       "      <th>sdg-score-multi__value 2</th>\n",
       "      <th>sdg-score-multi__value 3</th>\n",
       "      <th>sdg-score-multi__value 4</th>\n",
       "      <th>scores</th>\n",
       "      <th>sdg-score-multi__value 5</th>\n",
       "      <th>sdg-score-multi__value 6</th>\n",
       "      <th>sdg-score-multi__value 7</th>\n",
       "      <th>sdg-score-multi__value 8</th>\n",
       "    </tr>\n",
       "  </thead>\n",
       "  <tbody>\n",
       "    <tr>\n",
       "      <th>count</th>\n",
       "      <td>1591</td>\n",
       "      <td>1591</td>\n",
       "      <td>1500</td>\n",
       "      <td>1500</td>\n",
       "      <td>867</td>\n",
       "      <td>825</td>\n",
       "      <td>805</td>\n",
       "      <td>1583</td>\n",
       "      <td>1591</td>\n",
       "      <td>557</td>\n",
       "      <td>496</td>\n",
       "      <td>439</td>\n",
       "      <td>483</td>\n",
       "    </tr>\n",
       "    <tr>\n",
       "      <th>unique</th>\n",
       "      <td>64</td>\n",
       "      <td>1591</td>\n",
       "      <td>1500</td>\n",
       "      <td>110</td>\n",
       "      <td>250</td>\n",
       "      <td>236</td>\n",
       "      <td>228</td>\n",
       "      <td>87</td>\n",
       "      <td>64</td>\n",
       "      <td>147</td>\n",
       "      <td>143</td>\n",
       "      <td>113</td>\n",
       "      <td>108</td>\n",
       "    </tr>\n",
       "    <tr>\n",
       "      <th>top</th>\n",
       "      <td>1001+</td>\n",
       "      <td>Western Sydney University</td>\n",
       "      <td>https://www.timeshighereducation.com/world-uni...</td>\n",
       "      <td>Turkey</td>\n",
       "      <td>73.0–87.2</td>\n",
       "      <td>45.2–58.6</td>\n",
       "      <td>48.4–57.7</td>\n",
       "      <td>1.5–45.2</td>\n",
       "      <td>7.9–53.8</td>\n",
       "      <td>44.7–54.5</td>\n",
       "      <td>48.4–57.7</td>\n",
       "      <td>48.4–57.7</td>\n",
       "      <td>2.8–35.7</td>\n",
       "    </tr>\n",
       "    <tr>\n",
       "      <th>freq</th>\n",
       "      <td>591</td>\n",
       "      <td>1</td>\n",
       "      <td>1</td>\n",
       "      <td>79</td>\n",
       "      <td>28</td>\n",
       "      <td>22</td>\n",
       "      <td>20</td>\n",
       "      <td>579</td>\n",
       "      <td>591</td>\n",
       "      <td>36</td>\n",
       "      <td>23</td>\n",
       "      <td>20</td>\n",
       "      <td>33</td>\n",
       "    </tr>\n",
       "  </tbody>\n",
       "</table>\n",
       "</div>"
      ],
      "text/plain": [
       "         Rank           University Name   \\\n",
       "count    1591                       1591   \n",
       "unique     64                       1591   \n",
       "top     1001+  Western Sydney University   \n",
       "freq      591                          1   \n",
       "\n",
       "                           ranking-institution-title href Location  \\\n",
       "count                                                1500     1500   \n",
       "unique                                               1500      110   \n",
       "top     https://www.timeshighereducation.com/world-uni...   Turkey   \n",
       "freq                                                    1       79   \n",
       "\n",
       "       sdg-score-multi__value sdg-score-multi__value 2  \\\n",
       "count                     867                      825   \n",
       "unique                    250                      236   \n",
       "top                 73.0–87.2                45.2–58.6   \n",
       "freq                       28                       22   \n",
       "\n",
       "       sdg-score-multi__value 3 sdg-score-multi__value 4    scores  \\\n",
       "count                       805                     1583      1591   \n",
       "unique                      228                       87        64   \n",
       "top                   48.4–57.7                 1.5–45.2  7.9–53.8   \n",
       "freq                         20                      579       591   \n",
       "\n",
       "       sdg-score-multi__value 5 sdg-score-multi__value 6  \\\n",
       "count                       557                      496   \n",
       "unique                      147                      143   \n",
       "top                   44.7–54.5                48.4–57.7   \n",
       "freq                         36                       23   \n",
       "\n",
       "       sdg-score-multi__value 7 sdg-score-multi__value 8  \n",
       "count                       439                      483  \n",
       "unique                      113                      108  \n",
       "top                   48.4–57.7                 2.8–35.7  \n",
       "freq                         20                       33  "
      ]
     },
     "execution_count": 175,
     "metadata": {},
     "output_type": "execute_result"
    }
   ],
   "source": [
    "print(\"Times Higher Education information:-\\n\")\n",
    "times_h.info() # Information about the dataframe\n",
    "times_h.describe(include='object') # Object columns description"
   ]
  },
  {
   "cell_type": "code",
   "execution_count": 176,
   "id": "9a283449",
   "metadata": {},
   "outputs": [
    {
     "data": {
      "text/html": [
       "<div>\n",
       "<style scoped>\n",
       "    .dataframe tbody tr th:only-of-type {\n",
       "        vertical-align: middle;\n",
       "    }\n",
       "\n",
       "    .dataframe tbody tr th {\n",
       "        vertical-align: top;\n",
       "    }\n",
       "\n",
       "    .dataframe thead th {\n",
       "        text-align: right;\n",
       "    }\n",
       "</style>\n",
       "<table border=\"1\" class=\"dataframe\">\n",
       "  <thead>\n",
       "    <tr style=\"text-align: right;\">\n",
       "      <th></th>\n",
       "      <th>Rank</th>\n",
       "      <th>University Name</th>\n",
       "      <th>ranking-institution-title href</th>\n",
       "      <th>Location</th>\n",
       "      <th>sdg-score-multi__number</th>\n",
       "      <th>sdg-score-multi__value</th>\n",
       "      <th>sdg-score-multi__number 2</th>\n",
       "      <th>sdg-score-multi__value 2</th>\n",
       "      <th>sdg-score-multi__number 3</th>\n",
       "      <th>sdg-score-multi__value 3</th>\n",
       "      <th>sdg-score-multi__value 4</th>\n",
       "      <th>scores</th>\n",
       "      <th>sdg-score-multi__number 5</th>\n",
       "      <th>sdg-score-multi__value 5</th>\n",
       "      <th>sdg-score-multi__number 6</th>\n",
       "      <th>sdg-score-multi__value 6</th>\n",
       "      <th>sdg-score-multi__number 7</th>\n",
       "      <th>sdg-score-multi__value 7</th>\n",
       "      <th>sdg-score-multi__number 8</th>\n",
       "      <th>sdg-score-multi__value 8</th>\n",
       "    </tr>\n",
       "  </thead>\n",
       "  <tbody>\n",
       "  </tbody>\n",
       "</table>\n",
       "</div>"
      ],
      "text/plain": [
       "Empty DataFrame\n",
       "Columns: [Rank, University Name , ranking-institution-title href, Location, sdg-score-multi__number, sdg-score-multi__value, sdg-score-multi__number 2, sdg-score-multi__value 2, sdg-score-multi__number 3, sdg-score-multi__value 3, sdg-score-multi__value 4, scores, sdg-score-multi__number 5, sdg-score-multi__value 5, sdg-score-multi__number 6, sdg-score-multi__value 6, sdg-score-multi__number 7, sdg-score-multi__value 7, sdg-score-multi__number 8, sdg-score-multi__value 8]\n",
       "Index: []"
      ]
     },
     "execution_count": 176,
     "metadata": {},
     "output_type": "execute_result"
    }
   ],
   "source": [
    "times_h[times_h['Rank'].isna()] # Checking for missing values in the Rank column"
   ]
  },
  {
   "cell_type": "code",
   "execution_count": 177,
   "id": "ac1f0a39",
   "metadata": {},
   "outputs": [
    {
     "data": {
      "text/html": [
       "<div>\n",
       "<style scoped>\n",
       "    .dataframe tbody tr th:only-of-type {\n",
       "        vertical-align: middle;\n",
       "    }\n",
       "\n",
       "    .dataframe tbody tr th {\n",
       "        vertical-align: top;\n",
       "    }\n",
       "\n",
       "    .dataframe thead th {\n",
       "        text-align: right;\n",
       "    }\n",
       "</style>\n",
       "<table border=\"1\" class=\"dataframe\">\n",
       "  <thead>\n",
       "    <tr style=\"text-align: right;\">\n",
       "      <th></th>\n",
       "      <th>sdg-score-multi__number</th>\n",
       "      <th>sdg-score-multi__number 2</th>\n",
       "      <th>sdg-score-multi__number 3</th>\n",
       "      <th>sdg-score-multi__number 5</th>\n",
       "      <th>sdg-score-multi__number 6</th>\n",
       "      <th>sdg-score-multi__number 7</th>\n",
       "      <th>sdg-score-multi__number 8</th>\n",
       "    </tr>\n",
       "  </thead>\n",
       "  <tbody>\n",
       "    <tr>\n",
       "      <th>count</th>\n",
       "      <td>867.000000</td>\n",
       "      <td>826.000000</td>\n",
       "      <td>812.000000</td>\n",
       "      <td>565.000000</td>\n",
       "      <td>498.000000</td>\n",
       "      <td>439.000000</td>\n",
       "      <td>483.000000</td>\n",
       "    </tr>\n",
       "    <tr>\n",
       "      <th>mean</th>\n",
       "      <td>8.193772</td>\n",
       "      <td>8.446731</td>\n",
       "      <td>7.902709</td>\n",
       "      <td>5.488496</td>\n",
       "      <td>6.777108</td>\n",
       "      <td>7.596811</td>\n",
       "      <td>5.962733</td>\n",
       "    </tr>\n",
       "    <tr>\n",
       "      <th>std</th>\n",
       "      <td>4.240660</td>\n",
       "      <td>4.786111</td>\n",
       "      <td>4.403411</td>\n",
       "      <td>3.151375</td>\n",
       "      <td>3.230968</td>\n",
       "      <td>4.278980</td>\n",
       "      <td>3.346928</td>\n",
       "    </tr>\n",
       "    <tr>\n",
       "      <th>min</th>\n",
       "      <td>1.000000</td>\n",
       "      <td>1.000000</td>\n",
       "      <td>1.000000</td>\n",
       "      <td>1.000000</td>\n",
       "      <td>1.000000</td>\n",
       "      <td>1.000000</td>\n",
       "      <td>3.000000</td>\n",
       "    </tr>\n",
       "    <tr>\n",
       "      <th>25%</th>\n",
       "      <td>4.000000</td>\n",
       "      <td>4.000000</td>\n",
       "      <td>5.000000</td>\n",
       "      <td>3.000000</td>\n",
       "      <td>4.000000</td>\n",
       "      <td>4.000000</td>\n",
       "      <td>4.000000</td>\n",
       "    </tr>\n",
       "    <tr>\n",
       "      <th>50%</th>\n",
       "      <td>9.000000</td>\n",
       "      <td>8.000000</td>\n",
       "      <td>8.000000</td>\n",
       "      <td>5.000000</td>\n",
       "      <td>6.000000</td>\n",
       "      <td>7.000000</td>\n",
       "      <td>4.000000</td>\n",
       "    </tr>\n",
       "    <tr>\n",
       "      <th>75%</th>\n",
       "      <td>11.000000</td>\n",
       "      <td>12.000000</td>\n",
       "      <td>11.000000</td>\n",
       "      <td>8.000000</td>\n",
       "      <td>8.000000</td>\n",
       "      <td>10.000000</td>\n",
       "      <td>7.000000</td>\n",
       "    </tr>\n",
       "    <tr>\n",
       "      <th>max</th>\n",
       "      <td>16.000000</td>\n",
       "      <td>16.000000</td>\n",
       "      <td>16.000000</td>\n",
       "      <td>16.000000</td>\n",
       "      <td>16.000000</td>\n",
       "      <td>16.000000</td>\n",
       "      <td>16.000000</td>\n",
       "    </tr>\n",
       "  </tbody>\n",
       "</table>\n",
       "</div>"
      ],
      "text/plain": [
       "       sdg-score-multi__number  sdg-score-multi__number 2  \\\n",
       "count               867.000000                 826.000000   \n",
       "mean                  8.193772                   8.446731   \n",
       "std                   4.240660                   4.786111   \n",
       "min                   1.000000                   1.000000   \n",
       "25%                   4.000000                   4.000000   \n",
       "50%                   9.000000                   8.000000   \n",
       "75%                  11.000000                  12.000000   \n",
       "max                  16.000000                  16.000000   \n",
       "\n",
       "       sdg-score-multi__number 3  sdg-score-multi__number 5  \\\n",
       "count                 812.000000                 565.000000   \n",
       "mean                    7.902709                   5.488496   \n",
       "std                     4.403411                   3.151375   \n",
       "min                     1.000000                   1.000000   \n",
       "25%                     5.000000                   3.000000   \n",
       "50%                     8.000000                   5.000000   \n",
       "75%                    11.000000                   8.000000   \n",
       "max                    16.000000                  16.000000   \n",
       "\n",
       "       sdg-score-multi__number 6  sdg-score-multi__number 7  \\\n",
       "count                 498.000000                 439.000000   \n",
       "mean                    6.777108                   7.596811   \n",
       "std                     3.230968                   4.278980   \n",
       "min                     1.000000                   1.000000   \n",
       "25%                     4.000000                   4.000000   \n",
       "50%                     6.000000                   7.000000   \n",
       "75%                     8.000000                  10.000000   \n",
       "max                    16.000000                  16.000000   \n",
       "\n",
       "       sdg-score-multi__number 8  \n",
       "count                 483.000000  \n",
       "mean                    5.962733  \n",
       "std                     3.346928  \n",
       "min                     3.000000  \n",
       "25%                     4.000000  \n",
       "50%                     4.000000  \n",
       "75%                     7.000000  \n",
       "max                    16.000000  "
      ]
     },
     "execution_count": 177,
     "metadata": {},
     "output_type": "execute_result"
    }
   ],
   "source": [
    "times_h.describe() # Numerical columns description"
   ]
  },
  {
   "cell_type": "code",
   "execution_count": 178,
   "id": "804c3137",
   "metadata": {},
   "outputs": [
    {
     "name": "stdout",
     "output_type": "stream",
     "text": [
      "World Rank University information:-\n",
      "\n",
      "<class 'pandas.core.frame.DataFrame'>\n",
      "RangeIndex: 2000 entries, 0 to 1999\n",
      "Data columns (total 9 columns):\n",
      " #   Column              Non-Null Count  Dtype  \n",
      "---  ------              --------------  -----  \n",
      " 0   World Rank          2000 non-null   object \n",
      " 1   University Names    2000 non-null   object \n",
      " 2   Location            2000 non-null   object \n",
      " 3   National Rank       2000 non-null   int64  \n",
      " 4   Educational Rank    2000 non-null   object \n",
      " 5   Employability Rank  2000 non-null   object \n",
      " 6   Faculty Rank        2000 non-null   object \n",
      " 7   Research Rank       2000 non-null   object \n",
      " 8   Score               2000 non-null   float64\n",
      "dtypes: float64(1), int64(1), object(7)\n",
      "memory usage: 140.8+ KB\n"
     ]
    },
    {
     "data": {
      "text/html": [
       "<div>\n",
       "<style scoped>\n",
       "    .dataframe tbody tr th:only-of-type {\n",
       "        vertical-align: middle;\n",
       "    }\n",
       "\n",
       "    .dataframe tbody tr th {\n",
       "        vertical-align: top;\n",
       "    }\n",
       "\n",
       "    .dataframe thead th {\n",
       "        text-align: right;\n",
       "    }\n",
       "</style>\n",
       "<table border=\"1\" class=\"dataframe\">\n",
       "  <thead>\n",
       "    <tr style=\"text-align: right;\">\n",
       "      <th></th>\n",
       "      <th>World Rank</th>\n",
       "      <th>University Names</th>\n",
       "      <th>Location</th>\n",
       "      <th>Educational Rank</th>\n",
       "      <th>Employability Rank</th>\n",
       "      <th>Faculty Rank</th>\n",
       "      <th>Research Rank</th>\n",
       "    </tr>\n",
       "  </thead>\n",
       "  <tbody>\n",
       "    <tr>\n",
       "      <th>count</th>\n",
       "      <td>2000</td>\n",
       "      <td>2000</td>\n",
       "      <td>2000</td>\n",
       "      <td>2000</td>\n",
       "      <td>2000</td>\n",
       "      <td>2000</td>\n",
       "      <td>2000</td>\n",
       "    </tr>\n",
       "    <tr>\n",
       "      <th>unique</th>\n",
       "      <td>2000</td>\n",
       "      <td>2000</td>\n",
       "      <td>95</td>\n",
       "      <td>439</td>\n",
       "      <td>1030</td>\n",
       "      <td>262</td>\n",
       "      <td>1935</td>\n",
       "    </tr>\n",
       "    <tr>\n",
       "      <th>top</th>\n",
       "      <td>1Top 0.1%</td>\n",
       "      <td>Harvard University\\n  CWUR Rating System:   Ed...</td>\n",
       "      <td>USA</td>\n",
       "      <td>-</td>\n",
       "      <td>-</td>\n",
       "      <td>-</td>\n",
       "      <td>-</td>\n",
       "    </tr>\n",
       "    <tr>\n",
       "      <th>freq</th>\n",
       "      <td>1</td>\n",
       "      <td>1</td>\n",
       "      <td>332</td>\n",
       "      <td>1562</td>\n",
       "      <td>967</td>\n",
       "      <td>1727</td>\n",
       "      <td>66</td>\n",
       "    </tr>\n",
       "  </tbody>\n",
       "</table>\n",
       "</div>"
      ],
      "text/plain": [
       "       World Rank                                   University Names  \\\n",
       "count        2000                                               2000   \n",
       "unique       2000                                               2000   \n",
       "top     1Top 0.1%  Harvard University\\n  CWUR Rating System:   Ed...   \n",
       "freq            1                                                  1   \n",
       "\n",
       "       Location  Educational Rank Employability Rank Faculty Rank  \\\n",
       "count       2000             2000               2000         2000   \n",
       "unique        95              439               1030          262   \n",
       "top          USA                -                  -            -   \n",
       "freq         332             1562                967         1727   \n",
       "\n",
       "       Research Rank  \n",
       "count           2000  \n",
       "unique          1935  \n",
       "top                -  \n",
       "freq              66  "
      ]
     },
     "execution_count": 178,
     "metadata": {},
     "output_type": "execute_result"
    }
   ],
   "source": [
    "print(\"World Rank University information:-\\n\")\n",
    "word_rank.info() # Information about the dataframe\n",
    "word_rank.describe(include=['object']) # Object columns description"
   ]
  },
  {
   "cell_type": "code",
   "execution_count": 179,
   "id": "93add77c",
   "metadata": {},
   "outputs": [
    {
     "data": {
      "text/html": [
       "<div>\n",
       "<style scoped>\n",
       "    .dataframe tbody tr th:only-of-type {\n",
       "        vertical-align: middle;\n",
       "    }\n",
       "\n",
       "    .dataframe tbody tr th {\n",
       "        vertical-align: top;\n",
       "    }\n",
       "\n",
       "    .dataframe thead th {\n",
       "        text-align: right;\n",
       "    }\n",
       "</style>\n",
       "<table border=\"1\" class=\"dataframe\">\n",
       "  <thead>\n",
       "    <tr style=\"text-align: right;\">\n",
       "      <th></th>\n",
       "      <th>National Rank</th>\n",
       "      <th>Score</th>\n",
       "    </tr>\n",
       "  </thead>\n",
       "  <tbody>\n",
       "    <tr>\n",
       "      <th>count</th>\n",
       "      <td>2000.000000</td>\n",
       "      <td>2000.00000</td>\n",
       "    </tr>\n",
       "    <tr>\n",
       "      <th>mean</th>\n",
       "      <td>69.245000</td>\n",
       "      <td>71.75555</td>\n",
       "    </tr>\n",
       "    <tr>\n",
       "      <th>std</th>\n",
       "      <td>85.538608</td>\n",
       "      <td>5.03880</td>\n",
       "    </tr>\n",
       "    <tr>\n",
       "      <th>min</th>\n",
       "      <td>1.000000</td>\n",
       "      <td>66.00000</td>\n",
       "    </tr>\n",
       "    <tr>\n",
       "      <th>25%</th>\n",
       "      <td>9.750000</td>\n",
       "      <td>67.90000</td>\n",
       "    </tr>\n",
       "    <tr>\n",
       "      <th>50%</th>\n",
       "      <td>33.000000</td>\n",
       "      <td>70.40000</td>\n",
       "    </tr>\n",
       "    <tr>\n",
       "      <th>75%</th>\n",
       "      <td>89.000000</td>\n",
       "      <td>74.30000</td>\n",
       "    </tr>\n",
       "    <tr>\n",
       "      <th>max</th>\n",
       "      <td>332.000000</td>\n",
       "      <td>100.00000</td>\n",
       "    </tr>\n",
       "  </tbody>\n",
       "</table>\n",
       "</div>"
      ],
      "text/plain": [
       "       National Rank       Score\n",
       "count    2000.000000  2000.00000\n",
       "mean       69.245000    71.75555\n",
       "std        85.538608     5.03880\n",
       "min         1.000000    66.00000\n",
       "25%         9.750000    67.90000\n",
       "50%        33.000000    70.40000\n",
       "75%        89.000000    74.30000\n",
       "max       332.000000   100.00000"
      ]
     },
     "execution_count": 179,
     "metadata": {},
     "output_type": "execute_result"
    }
   ],
   "source": [
    "word_rank.describe() # Numerical columns description"
   ]
  },
  {
   "cell_type": "code",
   "execution_count": 180,
   "id": "1933cc5f",
   "metadata": {},
   "outputs": [
    {
     "data": {
      "text/html": [
       "<div>\n",
       "<style scoped>\n",
       "    .dataframe tbody tr th:only-of-type {\n",
       "        vertical-align: middle;\n",
       "    }\n",
       "\n",
       "    .dataframe tbody tr th {\n",
       "        vertical-align: top;\n",
       "    }\n",
       "\n",
       "    .dataframe thead th {\n",
       "        text-align: right;\n",
       "    }\n",
       "</style>\n",
       "<table border=\"1\" class=\"dataframe\">\n",
       "  <thead>\n",
       "    <tr style=\"text-align: right;\">\n",
       "      <th></th>\n",
       "      <th>Ranking</th>\n",
       "      <th>University Name</th>\n",
       "      <th>National/Regional Rank</th>\n",
       "      <th>Total Score</th>\n",
       "      <th>LOGO</th>\n",
       "      <th>University Detail</th>\n",
       "    </tr>\n",
       "  </thead>\n",
       "  <tbody>\n",
       "    <tr>\n",
       "      <th>0</th>\n",
       "      <td>1</td>\n",
       "      <td>Harvard University</td>\n",
       "      <td>1</td>\n",
       "      <td>100.0</td>\n",
       "      <td>http://www.shanghairanking.com/_uni/logo/032bd...</td>\n",
       "      <td>http://www.shanghairanking.com/institution/har...</td>\n",
       "    </tr>\n",
       "    <tr>\n",
       "      <th>1</th>\n",
       "      <td>2</td>\n",
       "      <td>Stanford University</td>\n",
       "      <td>2</td>\n",
       "      <td>76.8</td>\n",
       "      <td>http://www.shanghairanking.com/_uni/logo/13de8...</td>\n",
       "      <td>http://www.shanghairanking.com/institution/sta...</td>\n",
       "    </tr>\n",
       "    <tr>\n",
       "      <th>2</th>\n",
       "      <td>3</td>\n",
       "      <td>Massachusetts Institute of Technology (MIT)</td>\n",
       "      <td>3</td>\n",
       "      <td>70.1</td>\n",
       "      <td>http://www.shanghairanking.com/_uni/logo/79165...</td>\n",
       "      <td>http://www.shanghairanking.com/institution/mas...</td>\n",
       "    </tr>\n",
       "  </tbody>\n",
       "</table>\n",
       "</div>"
      ],
      "text/plain": [
       "  Ranking                              University Name National/Regional Rank  \\\n",
       "0       1                           Harvard University                      1   \n",
       "1       2                          Stanford University                      2   \n",
       "2       3  Massachusetts Institute of Technology (MIT)                      3   \n",
       "\n",
       "   Total Score                                               LOGO  \\\n",
       "0        100.0  http://www.shanghairanking.com/_uni/logo/032bd...   \n",
       "1         76.8  http://www.shanghairanking.com/_uni/logo/13de8...   \n",
       "2         70.1  http://www.shanghairanking.com/_uni/logo/79165...   \n",
       "\n",
       "                                  University Detail   \n",
       "0  http://www.shanghairanking.com/institution/har...  \n",
       "1  http://www.shanghairanking.com/institution/sta...  \n",
       "2  http://www.shanghairanking.com/institution/mas...  "
      ]
     },
     "execution_count": 180,
     "metadata": {},
     "output_type": "execute_result"
    }
   ],
   "source": [
    "shanghai_rank.head(3) "
   ]
  },
  {
   "cell_type": "code",
   "execution_count": 181,
   "id": "dfa93499",
   "metadata": {},
   "outputs": [
    {
     "data": {
      "text/html": [
       "<div>\n",
       "<style scoped>\n",
       "    .dataframe tbody tr th:only-of-type {\n",
       "        vertical-align: middle;\n",
       "    }\n",
       "\n",
       "    .dataframe tbody tr th {\n",
       "        vertical-align: top;\n",
       "    }\n",
       "\n",
       "    .dataframe thead th {\n",
       "        text-align: right;\n",
       "    }\n",
       "</style>\n",
       "<table border=\"1\" class=\"dataframe\">\n",
       "  <thead>\n",
       "    <tr style=\"text-align: right;\">\n",
       "      <th></th>\n",
       "      <th>Rank</th>\n",
       "      <th>University Name</th>\n",
       "      <th>ranking-institution-title href</th>\n",
       "      <th>Location</th>\n",
       "      <th>sdg-score-multi__number</th>\n",
       "      <th>sdg-score-multi__value</th>\n",
       "      <th>sdg-score-multi__number 2</th>\n",
       "      <th>sdg-score-multi__value 2</th>\n",
       "      <th>sdg-score-multi__number 3</th>\n",
       "      <th>sdg-score-multi__value 3</th>\n",
       "      <th>sdg-score-multi__value 4</th>\n",
       "      <th>scores</th>\n",
       "      <th>sdg-score-multi__number 5</th>\n",
       "      <th>sdg-score-multi__value 5</th>\n",
       "      <th>sdg-score-multi__number 6</th>\n",
       "      <th>sdg-score-multi__value 6</th>\n",
       "      <th>sdg-score-multi__number 7</th>\n",
       "      <th>sdg-score-multi__value 7</th>\n",
       "      <th>sdg-score-multi__number 8</th>\n",
       "      <th>sdg-score-multi__value 8</th>\n",
       "    </tr>\n",
       "  </thead>\n",
       "  <tbody>\n",
       "    <tr>\n",
       "      <th>0</th>\n",
       "      <td>1</td>\n",
       "      <td>Western Sydney University</td>\n",
       "      <td>https://www.timeshighereducation.com/world-uni...</td>\n",
       "      <td>Australia</td>\n",
       "      <td>5.0</td>\n",
       "      <td>80.3</td>\n",
       "      <td>12.0</td>\n",
       "      <td>93.4</td>\n",
       "      <td>15.0</td>\n",
       "      <td>96.7</td>\n",
       "      <td>98.8</td>\n",
       "      <td>99.4</td>\n",
       "      <td>NaN</td>\n",
       "      <td>NaN</td>\n",
       "      <td>NaN</td>\n",
       "      <td>NaN</td>\n",
       "      <td>NaN</td>\n",
       "      <td>NaN</td>\n",
       "      <td>NaN</td>\n",
       "      <td>NaN</td>\n",
       "    </tr>\n",
       "    <tr>\n",
       "      <th>1</th>\n",
       "      <td>2</td>\n",
       "      <td>University of Manchester</td>\n",
       "      <td>https://www.timeshighereducation.com/world-uni...</td>\n",
       "      <td>United Kingdom</td>\n",
       "      <td>15.0</td>\n",
       "      <td>97.4</td>\n",
       "      <td>12.0</td>\n",
       "      <td>92.9</td>\n",
       "      <td>11.0</td>\n",
       "      <td>92.2</td>\n",
       "      <td>94.8</td>\n",
       "      <td>97.5</td>\n",
       "      <td>NaN</td>\n",
       "      <td>NaN</td>\n",
       "      <td>NaN</td>\n",
       "      <td>NaN</td>\n",
       "      <td>NaN</td>\n",
       "      <td>NaN</td>\n",
       "      <td>NaN</td>\n",
       "      <td>NaN</td>\n",
       "    </tr>\n",
       "    <tr>\n",
       "      <th>2</th>\n",
       "      <td>3</td>\n",
       "      <td>Queen’s University</td>\n",
       "      <td>https://www.timeshighereducation.com/world-uni...</td>\n",
       "      <td>Canada</td>\n",
       "      <td>2.0</td>\n",
       "      <td>90.6</td>\n",
       "      <td>16.0</td>\n",
       "      <td>93.4</td>\n",
       "      <td>11.0</td>\n",
       "      <td>91.0</td>\n",
       "      <td>92.6</td>\n",
       "      <td>97.2</td>\n",
       "      <td>NaN</td>\n",
       "      <td>NaN</td>\n",
       "      <td>NaN</td>\n",
       "      <td>NaN</td>\n",
       "      <td>NaN</td>\n",
       "      <td>NaN</td>\n",
       "      <td>NaN</td>\n",
       "      <td>NaN</td>\n",
       "    </tr>\n",
       "    <tr>\n",
       "      <th>3</th>\n",
       "      <td>4</td>\n",
       "      <td>Universiti Sains Malaysia</td>\n",
       "      <td>https://www.timeshighereducation.com/world-uni...</td>\n",
       "      <td>Malaysia</td>\n",
       "      <td>16.0</td>\n",
       "      <td>94.1</td>\n",
       "      <td>2.0</td>\n",
       "      <td>86.4</td>\n",
       "      <td>1.0</td>\n",
       "      <td>84.9</td>\n",
       "      <td>97.8</td>\n",
       "      <td>96.9</td>\n",
       "      <td>NaN</td>\n",
       "      <td>NaN</td>\n",
       "      <td>NaN</td>\n",
       "      <td>NaN</td>\n",
       "      <td>NaN</td>\n",
       "      <td>NaN</td>\n",
       "      <td>NaN</td>\n",
       "      <td>NaN</td>\n",
       "    </tr>\n",
       "    <tr>\n",
       "      <th>4</th>\n",
       "      <td>5</td>\n",
       "      <td>University of Tasmania</td>\n",
       "      <td>https://www.timeshighereducation.com/world-uni...</td>\n",
       "      <td>Australia</td>\n",
       "      <td>13.0</td>\n",
       "      <td>92.8</td>\n",
       "      <td>15.0</td>\n",
       "      <td>96.2</td>\n",
       "      <td>14.0</td>\n",
       "      <td>95.1</td>\n",
       "      <td>96.3</td>\n",
       "      <td>96.6</td>\n",
       "      <td>NaN</td>\n",
       "      <td>NaN</td>\n",
       "      <td>NaN</td>\n",
       "      <td>NaN</td>\n",
       "      <td>NaN</td>\n",
       "      <td>NaN</td>\n",
       "      <td>NaN</td>\n",
       "      <td>NaN</td>\n",
       "    </tr>\n",
       "    <tr>\n",
       "      <th>5</th>\n",
       "      <td>6</td>\n",
       "      <td>Arizona State University (Tempe)</td>\n",
       "      <td>https://www.timeshighereducation.com/world-uni...</td>\n",
       "      <td>United States</td>\n",
       "      <td>15.0</td>\n",
       "      <td>95.4</td>\n",
       "      <td>14.0</td>\n",
       "      <td>93.9</td>\n",
       "      <td>6.0</td>\n",
       "      <td>87.6</td>\n",
       "      <td>81.9–86.9</td>\n",
       "      <td>96.5</td>\n",
       "      <td>NaN</td>\n",
       "      <td>NaN</td>\n",
       "      <td>NaN</td>\n",
       "      <td>NaN</td>\n",
       "      <td>NaN</td>\n",
       "      <td>NaN</td>\n",
       "      <td>NaN</td>\n",
       "      <td>NaN</td>\n",
       "    </tr>\n",
       "    <tr>\n",
       "      <th>6</th>\n",
       "      <td>=7</td>\n",
       "      <td>University of Alberta</td>\n",
       "      <td>https://www.timeshighereducation.com/world-uni...</td>\n",
       "      <td>Canada</td>\n",
       "      <td>9.0</td>\n",
       "      <td>99.4</td>\n",
       "      <td>2.0</td>\n",
       "      <td>89.2</td>\n",
       "      <td>15.0</td>\n",
       "      <td>91.0</td>\n",
       "      <td>94.4</td>\n",
       "      <td>96.4</td>\n",
       "      <td>NaN</td>\n",
       "      <td>NaN</td>\n",
       "      <td>NaN</td>\n",
       "      <td>NaN</td>\n",
       "      <td>NaN</td>\n",
       "      <td>NaN</td>\n",
       "      <td>NaN</td>\n",
       "      <td>NaN</td>\n",
       "    </tr>\n",
       "    <tr>\n",
       "      <th>7</th>\n",
       "      <td>=7</td>\n",
       "      <td>RMIT University</td>\n",
       "      <td>https://www.timeshighereducation.com/world-uni...</td>\n",
       "      <td>Australia</td>\n",
       "      <td>10.0</td>\n",
       "      <td>92.1</td>\n",
       "      <td>8.0</td>\n",
       "      <td>83.7</td>\n",
       "      <td>11.0</td>\n",
       "      <td>87.4</td>\n",
       "      <td>98.5</td>\n",
       "      <td>96.4</td>\n",
       "      <td>NaN</td>\n",
       "      <td>NaN</td>\n",
       "      <td>NaN</td>\n",
       "      <td>NaN</td>\n",
       "      <td>NaN</td>\n",
       "      <td>NaN</td>\n",
       "      <td>NaN</td>\n",
       "      <td>NaN</td>\n",
       "    </tr>\n",
       "    <tr>\n",
       "      <th>8</th>\n",
       "      <td>=9</td>\n",
       "      <td>Aalborg University</td>\n",
       "      <td>https://www.timeshighereducation.com/world-uni...</td>\n",
       "      <td>Denmark</td>\n",
       "      <td>4.0</td>\n",
       "      <td>90.6</td>\n",
       "      <td>10.0</td>\n",
       "      <td>90.2</td>\n",
       "      <td>14.0</td>\n",
       "      <td>93.4</td>\n",
       "      <td>98.5</td>\n",
       "      <td>95.8</td>\n",
       "      <td>NaN</td>\n",
       "      <td>NaN</td>\n",
       "      <td>NaN</td>\n",
       "      <td>NaN</td>\n",
       "      <td>NaN</td>\n",
       "      <td>NaN</td>\n",
       "      <td>NaN</td>\n",
       "      <td>NaN</td>\n",
       "    </tr>\n",
       "    <tr>\n",
       "      <th>9</th>\n",
       "      <td>=9</td>\n",
       "      <td>University of Victoria</td>\n",
       "      <td>https://www.timeshighereducation.com/world-uni...</td>\n",
       "      <td>Canada</td>\n",
       "      <td>11.0</td>\n",
       "      <td>91.8</td>\n",
       "      <td>13.0</td>\n",
       "      <td>89.4</td>\n",
       "      <td>12.0</td>\n",
       "      <td>88.4</td>\n",
       "      <td>91.9</td>\n",
       "      <td>95.8</td>\n",
       "      <td>NaN</td>\n",
       "      <td>NaN</td>\n",
       "      <td>NaN</td>\n",
       "      <td>NaN</td>\n",
       "      <td>NaN</td>\n",
       "      <td>NaN</td>\n",
       "      <td>NaN</td>\n",
       "      <td>NaN</td>\n",
       "    </tr>\n",
       "  </tbody>\n",
       "</table>\n",
       "</div>"
      ],
      "text/plain": [
       "  Rank                  University Name   \\\n",
       "0    1         Western Sydney University   \n",
       "1    2          University of Manchester   \n",
       "2    3                Queen’s University   \n",
       "3    4         Universiti Sains Malaysia   \n",
       "4    5            University of Tasmania   \n",
       "5    6  Arizona State University (Tempe)   \n",
       "6   =7             University of Alberta   \n",
       "7   =7                   RMIT University   \n",
       "8   =9                Aalborg University   \n",
       "9   =9            University of Victoria   \n",
       "\n",
       "                      ranking-institution-title href        Location  \\\n",
       "0  https://www.timeshighereducation.com/world-uni...       Australia   \n",
       "1  https://www.timeshighereducation.com/world-uni...  United Kingdom   \n",
       "2  https://www.timeshighereducation.com/world-uni...          Canada   \n",
       "3  https://www.timeshighereducation.com/world-uni...        Malaysia   \n",
       "4  https://www.timeshighereducation.com/world-uni...       Australia   \n",
       "5  https://www.timeshighereducation.com/world-uni...   United States   \n",
       "6  https://www.timeshighereducation.com/world-uni...          Canada   \n",
       "7  https://www.timeshighereducation.com/world-uni...       Australia   \n",
       "8  https://www.timeshighereducation.com/world-uni...         Denmark   \n",
       "9  https://www.timeshighereducation.com/world-uni...          Canada   \n",
       "\n",
       "   sdg-score-multi__number sdg-score-multi__value  sdg-score-multi__number 2  \\\n",
       "0                      5.0                   80.3                       12.0   \n",
       "1                     15.0                   97.4                       12.0   \n",
       "2                      2.0                   90.6                       16.0   \n",
       "3                     16.0                   94.1                        2.0   \n",
       "4                     13.0                   92.8                       15.0   \n",
       "5                     15.0                   95.4                       14.0   \n",
       "6                      9.0                   99.4                        2.0   \n",
       "7                     10.0                   92.1                        8.0   \n",
       "8                      4.0                   90.6                       10.0   \n",
       "9                     11.0                   91.8                       13.0   \n",
       "\n",
       "  sdg-score-multi__value 2  sdg-score-multi__number 3  \\\n",
       "0                     93.4                       15.0   \n",
       "1                     92.9                       11.0   \n",
       "2                     93.4                       11.0   \n",
       "3                     86.4                        1.0   \n",
       "4                     96.2                       14.0   \n",
       "5                     93.9                        6.0   \n",
       "6                     89.2                       15.0   \n",
       "7                     83.7                       11.0   \n",
       "8                     90.2                       14.0   \n",
       "9                     89.4                       12.0   \n",
       "\n",
       "  sdg-score-multi__value 3 sdg-score-multi__value 4 scores  \\\n",
       "0                     96.7                     98.8   99.4   \n",
       "1                     92.2                     94.8   97.5   \n",
       "2                     91.0                     92.6   97.2   \n",
       "3                     84.9                     97.8   96.9   \n",
       "4                     95.1                     96.3   96.6   \n",
       "5                     87.6                81.9–86.9   96.5   \n",
       "6                     91.0                     94.4   96.4   \n",
       "7                     87.4                     98.5   96.4   \n",
       "8                     93.4                     98.5   95.8   \n",
       "9                     88.4                     91.9   95.8   \n",
       "\n",
       "   sdg-score-multi__number 5 sdg-score-multi__value 5  \\\n",
       "0                        NaN                      NaN   \n",
       "1                        NaN                      NaN   \n",
       "2                        NaN                      NaN   \n",
       "3                        NaN                      NaN   \n",
       "4                        NaN                      NaN   \n",
       "5                        NaN                      NaN   \n",
       "6                        NaN                      NaN   \n",
       "7                        NaN                      NaN   \n",
       "8                        NaN                      NaN   \n",
       "9                        NaN                      NaN   \n",
       "\n",
       "   sdg-score-multi__number 6 sdg-score-multi__value 6  \\\n",
       "0                        NaN                      NaN   \n",
       "1                        NaN                      NaN   \n",
       "2                        NaN                      NaN   \n",
       "3                        NaN                      NaN   \n",
       "4                        NaN                      NaN   \n",
       "5                        NaN                      NaN   \n",
       "6                        NaN                      NaN   \n",
       "7                        NaN                      NaN   \n",
       "8                        NaN                      NaN   \n",
       "9                        NaN                      NaN   \n",
       "\n",
       "   sdg-score-multi__number 7 sdg-score-multi__value 7  \\\n",
       "0                        NaN                      NaN   \n",
       "1                        NaN                      NaN   \n",
       "2                        NaN                      NaN   \n",
       "3                        NaN                      NaN   \n",
       "4                        NaN                      NaN   \n",
       "5                        NaN                      NaN   \n",
       "6                        NaN                      NaN   \n",
       "7                        NaN                      NaN   \n",
       "8                        NaN                      NaN   \n",
       "9                        NaN                      NaN   \n",
       "\n",
       "   sdg-score-multi__number 8 sdg-score-multi__value 8  \n",
       "0                        NaN                      NaN  \n",
       "1                        NaN                      NaN  \n",
       "2                        NaN                      NaN  \n",
       "3                        NaN                      NaN  \n",
       "4                        NaN                      NaN  \n",
       "5                        NaN                      NaN  \n",
       "6                        NaN                      NaN  \n",
       "7                        NaN                      NaN  \n",
       "8                        NaN                      NaN  \n",
       "9                        NaN                      NaN  "
      ]
     },
     "execution_count": 181,
     "metadata": {},
     "output_type": "execute_result"
    }
   ],
   "source": [
    "times_h.head(10)"
   ]
  },
  {
   "cell_type": "code",
   "execution_count": 182,
   "id": "dbd2f84f",
   "metadata": {},
   "outputs": [
    {
     "data": {
      "text/html": [
       "<div>\n",
       "<style scoped>\n",
       "    .dataframe tbody tr th:only-of-type {\n",
       "        vertical-align: middle;\n",
       "    }\n",
       "\n",
       "    .dataframe tbody tr th {\n",
       "        vertical-align: top;\n",
       "    }\n",
       "\n",
       "    .dataframe thead th {\n",
       "        text-align: right;\n",
       "    }\n",
       "</style>\n",
       "<table border=\"1\" class=\"dataframe\">\n",
       "  <thead>\n",
       "    <tr style=\"text-align: right;\">\n",
       "      <th></th>\n",
       "      <th>World Rank</th>\n",
       "      <th>University Names</th>\n",
       "      <th>Location</th>\n",
       "      <th>National Rank</th>\n",
       "      <th>Educational Rank</th>\n",
       "      <th>Employability Rank</th>\n",
       "      <th>Faculty Rank</th>\n",
       "      <th>Research Rank</th>\n",
       "      <th>Score</th>\n",
       "    </tr>\n",
       "  </thead>\n",
       "  <tbody>\n",
       "    <tr>\n",
       "      <th>0</th>\n",
       "      <td>1Top 0.1%</td>\n",
       "      <td>Harvard University\\n  CWUR Rating System:   Ed...</td>\n",
       "      <td>USA</td>\n",
       "      <td>1</td>\n",
       "      <td>1</td>\n",
       "      <td>1</td>\n",
       "      <td>1</td>\n",
       "      <td>1</td>\n",
       "      <td>100.0</td>\n",
       "    </tr>\n",
       "    <tr>\n",
       "      <th>1</th>\n",
       "      <td>2Top 0.1%</td>\n",
       "      <td>Massachusetts Institute of Technology\\n  Educa...</td>\n",
       "      <td>USA</td>\n",
       "      <td>2</td>\n",
       "      <td>4</td>\n",
       "      <td>12</td>\n",
       "      <td>3</td>\n",
       "      <td>9</td>\n",
       "      <td>96.7</td>\n",
       "    </tr>\n",
       "    <tr>\n",
       "      <th>2</th>\n",
       "      <td>3Top 0.1%</td>\n",
       "      <td>Stanford University\\n  Education: A+; Employab...</td>\n",
       "      <td>USA</td>\n",
       "      <td>3</td>\n",
       "      <td>11</td>\n",
       "      <td>4</td>\n",
       "      <td>2</td>\n",
       "      <td>2</td>\n",
       "      <td>95.2</td>\n",
       "    </tr>\n",
       "  </tbody>\n",
       "</table>\n",
       "</div>"
      ],
      "text/plain": [
       "  World Rank                                   University Names Location   \\\n",
       "0  1Top 0.1%  Harvard University\\n  CWUR Rating System:   Ed...       USA   \n",
       "1  2Top 0.1%  Massachusetts Institute of Technology\\n  Educa...       USA   \n",
       "2  3Top 0.1%  Stanford University\\n  Education: A+; Employab...       USA   \n",
       "\n",
       "   National Rank Educational Rank Employability Rank Faculty Rank  \\\n",
       "0              1                1                  1            1   \n",
       "1              2                4                 12            3   \n",
       "2              3               11                  4            2   \n",
       "\n",
       "  Research Rank  Score  \n",
       "0             1  100.0  \n",
       "1             9   96.7  \n",
       "2             2   95.2  "
      ]
     },
     "execution_count": 182,
     "metadata": {},
     "output_type": "execute_result"
    }
   ],
   "source": [
    "word_rank.head(3)"
   ]
  },
  {
   "cell_type": "markdown",
   "id": "584cf196",
   "metadata": {},
   "source": [
    "### Best 10 universities in each ranking\n",
    "- **NOTE: NOT A FINAL RESULT**\n"
   ]
  },
  {
   "cell_type": "code",
   "execution_count": 260,
   "id": "3ff2d940",
   "metadata": {},
   "outputs": [
    {
     "name": "stdout",
     "output_type": "stream",
     "text": [
      "Shanghai Ranking:-\n",
      "0                             Harvard University\n",
      "1                            Stanford University\n",
      "2    Massachusetts Institute of Technology (MIT)\n",
      "3                        University of Cambridge\n",
      "4             University of California, Berkeley\n",
      "5                           Princeton University\n",
      "6                           University of Oxford\n",
      "7                            Columbia University\n",
      "8             California Institute of Technology\n",
      "9                          University of Chicago\n",
      "Name: University Name, dtype: object\n"
     ]
    }
   ],
   "source": [
    "print('Shanghai Ranking:-')\n",
    "\n",
    "# Extract the top 10 university names from the 'University Name' column\n",
    "best_10_shanghai = shanghai_rank['University Name'][0:10]\n",
    "\n",
    "# Print the extracted top 10 university names\n",
    "print(best_10_shanghai)"
   ]
  },
  {
   "cell_type": "code",
   "execution_count": 184,
   "id": "b0201710",
   "metadata": {},
   "outputs": [
    {
     "name": "stdout",
     "output_type": "stream",
     "text": [
      "Times Higher Education:-\n",
      "0           Western Sydney University\n",
      "1            University of Manchester\n",
      "2                  Queen’s University\n",
      "3           Universiti Sains Malaysia\n",
      "4              University of Tasmania\n",
      "5    Arizona State University (Tempe)\n",
      "6               University of Alberta\n",
      "7                     RMIT University\n",
      "8                  Aalborg University\n",
      "9              University of Victoria\n",
      "Name: University Name , dtype: object\n"
     ]
    }
   ],
   "source": [
    "print('Times Higher Education:-')\n",
    "\n",
    "# Extract the top 10 university names from the 'University Name' column\n",
    "best_10_times = times_h['University Name '][0:10]\n",
    "\n",
    "# Print the extracted top 10 university names\n",
    "print(best_10_times)"
   ]
  },
  {
   "cell_type": "code",
   "execution_count": 185,
   "id": "24c64b40",
   "metadata": {},
   "outputs": [
    {
     "name": "stdout",
     "output_type": "stream",
     "text": [
      "World Rank University:-\n",
      "0                       Harvard University\n",
      "1    Massachusetts Institute of Technology\n",
      "2                      Stanford University\n",
      "3                  University of Cambridge\n",
      "4                     University of Oxford\n",
      "5                     Princeton University\n",
      "6                    University of Chicago\n",
      "7                      Columbia University\n",
      "8               University of Pennsylvania\n",
      "9                          Yale University\n",
      "Name: University Names, dtype: object\n"
     ]
    }
   ],
   "source": [
    "print('World Rank University:-')\n",
    "\n",
    "# Extract the top 10 university names, removing any text after a newline character\n",
    "best_10_word = word_rank['University Names'].str.split('\\n').str[0][0:10]\n",
    "\n",
    "# Print the extracted top 10 university names\n",
    "print(best_10_word)"
   ]
  },
  {
   "cell_type": "markdown",
   "id": "834929aa-fd6a-4ec5-84d4-77c4b3c1a506",
   "metadata": {},
   "source": [
    "The process of profiling differs slightly for categorical and numerical variables due to their inherent differences.\n",
    "\n",
    "**The two main types of data are:**\n",
    "- Quantitative (numerical) data\n",
    "- Qualitative (categorical) data"
   ]
  },
  {
   "cell_type": "markdown",
   "id": "3a9954f5-6fbc-45b4-ad86-3e21b6e0ca2d",
   "metadata": {},
   "source": [
    "### Data Quality Checks\n",
    "Data quality checks involve the process of ensuring that the data is accurate, complete, consistent, relevant, and reliable. \n",
    "\n",
    "\n",
    "**Here are typical steps involved in checking data quality:**"
   ]
  },
  {
   "cell_type": "markdown",
   "id": "4818c876-173d-4e56-9e7d-b4334d2def25",
   "metadata": {},
   "source": [
    "#### 1. Reliability:\n",
    "Evaluate the data's source and collection process to determine its trustworthiness."
   ]
  },
  {
   "cell_type": "markdown",
   "id": "9034ae7b-dc1d-4cba-8f9e-bb499d021cde",
   "metadata": {},
   "source": [
    "- From this description in the meta data 'Archive containing all the contents of the World University Rankings  dataset' and hence there is no licenses for this data, also for no links for data source\n",
    "- We don't rely on this data 100%"
   ]
  },
  {
   "cell_type": "markdown",
   "id": "2ce0cc59-8c92-4acc-8d07-c40764e1a86b",
   "metadata": {},
   "source": [
    "#### 2. Timeliness: \n",
    "Ensure the data is up-to-date and reflective of the current situation or the period of interest for the analysis."
   ]
  },
  {
   "cell_type": "markdown",
   "id": "4b78ae35-7226-4cb6-b8b2-a46c2ed17cf9",
   "metadata": {},
   "source": [
    "- Is it up to date? No "
   ]
  },
  {
   "cell_type": "markdown",
   "id": "7fab0fe2-6624-4615-b9d8-3c3669056bf8",
   "metadata": {},
   "source": [
    "#### 3. Consistency: \n",
    "\n",
    "Confirm that the data is consistent within the dataset and across multiple data sources. For example, the same data point should not have different values in different places.\n"
   ]
  },
  {
   "cell_type": "markdown",
   "id": "7fecc573-959f-4800-8ddd-a67985c68b18",
   "metadata": {},
   "source": [
    "- We checked the datasets files, and we found out that each dataset has it is own rank criteria.\n",
    "- So, datasets are consist."
   ]
  },
  {
   "cell_type": "markdown",
   "id": "bec3d183-bba0-4b12-b963-487daab1e876",
   "metadata": {},
   "source": [
    "#### 4. Relevance: \n",
    "Assess whether the data is appropriate and applicable for the intended analysis. Data that is not relevant can skew results and lead to incorrect conclusions.\n",
    "\n",
    "**Key considerations for relevance include:**\n",
    "\n",
    "> 1. Sample Appropriateness: Confirm that your data sample aligns with your analysis objectives. For instance, utilizing data from the Northern region will not yield accurate insights for the Western region of the Kingdom.\n",
    ">\n",
    "> 2. Variable Selection: Any column will not be relevant for our analysis, we can get rid of these using the drop() method. We will set the “axis” argument to 1 since we’re dealing with columns, and set the “inplace” argument to True to make the change permanent.\n"
   ]
  },
  {
   "cell_type": "code",
   "execution_count": 187,
   "id": "50a934b7-a0cd-443f-8a27-f10e9a6e8647",
   "metadata": {
    "scrolled": true
   },
   "outputs": [],
   "source": [
    "# delete all columns will not be relevant for our analysis\n",
    "\n",
    "shanghai_rank.drop(['LOGO'],axis=1,inplace=True)  #DELETE LOGO COLUMN\n",
    "shanghai_rank.drop(['University Detail '],axis=1,inplace=True)  #DELETE UNIVERSITY DETAILS COLUMN\n",
    "times_h.drop(['ranking-institution-title href'],axis=1,inplace=True)  #DELETE ranking-institution-title href COLUMN "
   ]
  },
  {
   "cell_type": "code",
   "execution_count": 188,
   "id": "dbb93574",
   "metadata": {},
   "outputs": [
    {
     "data": {
      "text/html": [
       "<div>\n",
       "<style scoped>\n",
       "    .dataframe tbody tr th:only-of-type {\n",
       "        vertical-align: middle;\n",
       "    }\n",
       "\n",
       "    .dataframe tbody tr th {\n",
       "        vertical-align: top;\n",
       "    }\n",
       "\n",
       "    .dataframe thead th {\n",
       "        text-align: right;\n",
       "    }\n",
       "</style>\n",
       "<table border=\"1\" class=\"dataframe\">\n",
       "  <thead>\n",
       "    <tr style=\"text-align: right;\">\n",
       "      <th></th>\n",
       "      <th>Ranking</th>\n",
       "      <th>University Name</th>\n",
       "      <th>National/Regional Rank</th>\n",
       "      <th>Total Score</th>\n",
       "    </tr>\n",
       "  </thead>\n",
       "  <tbody>\n",
       "    <tr>\n",
       "      <th>0</th>\n",
       "      <td>1</td>\n",
       "      <td>Harvard University</td>\n",
       "      <td>1</td>\n",
       "      <td>100.0</td>\n",
       "    </tr>\n",
       "    <tr>\n",
       "      <th>1</th>\n",
       "      <td>2</td>\n",
       "      <td>Stanford University</td>\n",
       "      <td>2</td>\n",
       "      <td>76.8</td>\n",
       "    </tr>\n",
       "    <tr>\n",
       "      <th>2</th>\n",
       "      <td>3</td>\n",
       "      <td>Massachusetts Institute of Technology (MIT)</td>\n",
       "      <td>3</td>\n",
       "      <td>70.1</td>\n",
       "    </tr>\n",
       "  </tbody>\n",
       "</table>\n",
       "</div>"
      ],
      "text/plain": [
       "  Ranking                              University Name National/Regional Rank  \\\n",
       "0       1                           Harvard University                      1   \n",
       "1       2                          Stanford University                      2   \n",
       "2       3  Massachusetts Institute of Technology (MIT)                      3   \n",
       "\n",
       "   Total Score  \n",
       "0        100.0  \n",
       "1         76.8  \n",
       "2         70.1  "
      ]
     },
     "execution_count": 188,
     "metadata": {},
     "output_type": "execute_result"
    }
   ],
   "source": [
    "shanghai_rank.head(3) # Show the shanghai_rank dataframe after deleting the columns"
   ]
  },
  {
   "cell_type": "code",
   "execution_count": 189,
   "id": "b8d64f71",
   "metadata": {},
   "outputs": [
    {
     "data": {
      "text/html": [
       "<div>\n",
       "<style scoped>\n",
       "    .dataframe tbody tr th:only-of-type {\n",
       "        vertical-align: middle;\n",
       "    }\n",
       "\n",
       "    .dataframe tbody tr th {\n",
       "        vertical-align: top;\n",
       "    }\n",
       "\n",
       "    .dataframe thead th {\n",
       "        text-align: right;\n",
       "    }\n",
       "</style>\n",
       "<table border=\"1\" class=\"dataframe\">\n",
       "  <thead>\n",
       "    <tr style=\"text-align: right;\">\n",
       "      <th></th>\n",
       "      <th>Rank</th>\n",
       "      <th>University Name</th>\n",
       "      <th>Location</th>\n",
       "      <th>sdg-score-multi__number</th>\n",
       "      <th>sdg-score-multi__value</th>\n",
       "      <th>sdg-score-multi__number 2</th>\n",
       "      <th>sdg-score-multi__value 2</th>\n",
       "      <th>sdg-score-multi__number 3</th>\n",
       "      <th>sdg-score-multi__value 3</th>\n",
       "      <th>sdg-score-multi__value 4</th>\n",
       "      <th>scores</th>\n",
       "      <th>sdg-score-multi__number 5</th>\n",
       "      <th>sdg-score-multi__value 5</th>\n",
       "      <th>sdg-score-multi__number 6</th>\n",
       "      <th>sdg-score-multi__value 6</th>\n",
       "      <th>sdg-score-multi__number 7</th>\n",
       "      <th>sdg-score-multi__value 7</th>\n",
       "      <th>sdg-score-multi__number 8</th>\n",
       "      <th>sdg-score-multi__value 8</th>\n",
       "    </tr>\n",
       "  </thead>\n",
       "  <tbody>\n",
       "    <tr>\n",
       "      <th>0</th>\n",
       "      <td>1</td>\n",
       "      <td>Western Sydney University</td>\n",
       "      <td>Australia</td>\n",
       "      <td>5.0</td>\n",
       "      <td>80.3</td>\n",
       "      <td>12.0</td>\n",
       "      <td>93.4</td>\n",
       "      <td>15.0</td>\n",
       "      <td>96.7</td>\n",
       "      <td>98.8</td>\n",
       "      <td>99.4</td>\n",
       "      <td>NaN</td>\n",
       "      <td>NaN</td>\n",
       "      <td>NaN</td>\n",
       "      <td>NaN</td>\n",
       "      <td>NaN</td>\n",
       "      <td>NaN</td>\n",
       "      <td>NaN</td>\n",
       "      <td>NaN</td>\n",
       "    </tr>\n",
       "    <tr>\n",
       "      <th>1</th>\n",
       "      <td>2</td>\n",
       "      <td>University of Manchester</td>\n",
       "      <td>United Kingdom</td>\n",
       "      <td>15.0</td>\n",
       "      <td>97.4</td>\n",
       "      <td>12.0</td>\n",
       "      <td>92.9</td>\n",
       "      <td>11.0</td>\n",
       "      <td>92.2</td>\n",
       "      <td>94.8</td>\n",
       "      <td>97.5</td>\n",
       "      <td>NaN</td>\n",
       "      <td>NaN</td>\n",
       "      <td>NaN</td>\n",
       "      <td>NaN</td>\n",
       "      <td>NaN</td>\n",
       "      <td>NaN</td>\n",
       "      <td>NaN</td>\n",
       "      <td>NaN</td>\n",
       "    </tr>\n",
       "    <tr>\n",
       "      <th>2</th>\n",
       "      <td>3</td>\n",
       "      <td>Queen’s University</td>\n",
       "      <td>Canada</td>\n",
       "      <td>2.0</td>\n",
       "      <td>90.6</td>\n",
       "      <td>16.0</td>\n",
       "      <td>93.4</td>\n",
       "      <td>11.0</td>\n",
       "      <td>91.0</td>\n",
       "      <td>92.6</td>\n",
       "      <td>97.2</td>\n",
       "      <td>NaN</td>\n",
       "      <td>NaN</td>\n",
       "      <td>NaN</td>\n",
       "      <td>NaN</td>\n",
       "      <td>NaN</td>\n",
       "      <td>NaN</td>\n",
       "      <td>NaN</td>\n",
       "      <td>NaN</td>\n",
       "    </tr>\n",
       "    <tr>\n",
       "      <th>3</th>\n",
       "      <td>4</td>\n",
       "      <td>Universiti Sains Malaysia</td>\n",
       "      <td>Malaysia</td>\n",
       "      <td>16.0</td>\n",
       "      <td>94.1</td>\n",
       "      <td>2.0</td>\n",
       "      <td>86.4</td>\n",
       "      <td>1.0</td>\n",
       "      <td>84.9</td>\n",
       "      <td>97.8</td>\n",
       "      <td>96.9</td>\n",
       "      <td>NaN</td>\n",
       "      <td>NaN</td>\n",
       "      <td>NaN</td>\n",
       "      <td>NaN</td>\n",
       "      <td>NaN</td>\n",
       "      <td>NaN</td>\n",
       "      <td>NaN</td>\n",
       "      <td>NaN</td>\n",
       "    </tr>\n",
       "    <tr>\n",
       "      <th>4</th>\n",
       "      <td>5</td>\n",
       "      <td>University of Tasmania</td>\n",
       "      <td>Australia</td>\n",
       "      <td>13.0</td>\n",
       "      <td>92.8</td>\n",
       "      <td>15.0</td>\n",
       "      <td>96.2</td>\n",
       "      <td>14.0</td>\n",
       "      <td>95.1</td>\n",
       "      <td>96.3</td>\n",
       "      <td>96.6</td>\n",
       "      <td>NaN</td>\n",
       "      <td>NaN</td>\n",
       "      <td>NaN</td>\n",
       "      <td>NaN</td>\n",
       "      <td>NaN</td>\n",
       "      <td>NaN</td>\n",
       "      <td>NaN</td>\n",
       "      <td>NaN</td>\n",
       "    </tr>\n",
       "    <tr>\n",
       "      <th>5</th>\n",
       "      <td>6</td>\n",
       "      <td>Arizona State University (Tempe)</td>\n",
       "      <td>United States</td>\n",
       "      <td>15.0</td>\n",
       "      <td>95.4</td>\n",
       "      <td>14.0</td>\n",
       "      <td>93.9</td>\n",
       "      <td>6.0</td>\n",
       "      <td>87.6</td>\n",
       "      <td>81.9–86.9</td>\n",
       "      <td>96.5</td>\n",
       "      <td>NaN</td>\n",
       "      <td>NaN</td>\n",
       "      <td>NaN</td>\n",
       "      <td>NaN</td>\n",
       "      <td>NaN</td>\n",
       "      <td>NaN</td>\n",
       "      <td>NaN</td>\n",
       "      <td>NaN</td>\n",
       "    </tr>\n",
       "    <tr>\n",
       "      <th>6</th>\n",
       "      <td>=7</td>\n",
       "      <td>University of Alberta</td>\n",
       "      <td>Canada</td>\n",
       "      <td>9.0</td>\n",
       "      <td>99.4</td>\n",
       "      <td>2.0</td>\n",
       "      <td>89.2</td>\n",
       "      <td>15.0</td>\n",
       "      <td>91.0</td>\n",
       "      <td>94.4</td>\n",
       "      <td>96.4</td>\n",
       "      <td>NaN</td>\n",
       "      <td>NaN</td>\n",
       "      <td>NaN</td>\n",
       "      <td>NaN</td>\n",
       "      <td>NaN</td>\n",
       "      <td>NaN</td>\n",
       "      <td>NaN</td>\n",
       "      <td>NaN</td>\n",
       "    </tr>\n",
       "    <tr>\n",
       "      <th>7</th>\n",
       "      <td>=7</td>\n",
       "      <td>RMIT University</td>\n",
       "      <td>Australia</td>\n",
       "      <td>10.0</td>\n",
       "      <td>92.1</td>\n",
       "      <td>8.0</td>\n",
       "      <td>83.7</td>\n",
       "      <td>11.0</td>\n",
       "      <td>87.4</td>\n",
       "      <td>98.5</td>\n",
       "      <td>96.4</td>\n",
       "      <td>NaN</td>\n",
       "      <td>NaN</td>\n",
       "      <td>NaN</td>\n",
       "      <td>NaN</td>\n",
       "      <td>NaN</td>\n",
       "      <td>NaN</td>\n",
       "      <td>NaN</td>\n",
       "      <td>NaN</td>\n",
       "    </tr>\n",
       "    <tr>\n",
       "      <th>8</th>\n",
       "      <td>=9</td>\n",
       "      <td>Aalborg University</td>\n",
       "      <td>Denmark</td>\n",
       "      <td>4.0</td>\n",
       "      <td>90.6</td>\n",
       "      <td>10.0</td>\n",
       "      <td>90.2</td>\n",
       "      <td>14.0</td>\n",
       "      <td>93.4</td>\n",
       "      <td>98.5</td>\n",
       "      <td>95.8</td>\n",
       "      <td>NaN</td>\n",
       "      <td>NaN</td>\n",
       "      <td>NaN</td>\n",
       "      <td>NaN</td>\n",
       "      <td>NaN</td>\n",
       "      <td>NaN</td>\n",
       "      <td>NaN</td>\n",
       "      <td>NaN</td>\n",
       "    </tr>\n",
       "    <tr>\n",
       "      <th>9</th>\n",
       "      <td>=9</td>\n",
       "      <td>University of Victoria</td>\n",
       "      <td>Canada</td>\n",
       "      <td>11.0</td>\n",
       "      <td>91.8</td>\n",
       "      <td>13.0</td>\n",
       "      <td>89.4</td>\n",
       "      <td>12.0</td>\n",
       "      <td>88.4</td>\n",
       "      <td>91.9</td>\n",
       "      <td>95.8</td>\n",
       "      <td>NaN</td>\n",
       "      <td>NaN</td>\n",
       "      <td>NaN</td>\n",
       "      <td>NaN</td>\n",
       "      <td>NaN</td>\n",
       "      <td>NaN</td>\n",
       "      <td>NaN</td>\n",
       "      <td>NaN</td>\n",
       "    </tr>\n",
       "  </tbody>\n",
       "</table>\n",
       "</div>"
      ],
      "text/plain": [
       "  Rank                  University Name         Location  \\\n",
       "0    1         Western Sydney University       Australia   \n",
       "1    2          University of Manchester  United Kingdom   \n",
       "2    3                Queen’s University          Canada   \n",
       "3    4         Universiti Sains Malaysia        Malaysia   \n",
       "4    5            University of Tasmania       Australia   \n",
       "5    6  Arizona State University (Tempe)   United States   \n",
       "6   =7             University of Alberta          Canada   \n",
       "7   =7                   RMIT University       Australia   \n",
       "8   =9                Aalborg University         Denmark   \n",
       "9   =9            University of Victoria          Canada   \n",
       "\n",
       "   sdg-score-multi__number sdg-score-multi__value  sdg-score-multi__number 2  \\\n",
       "0                      5.0                   80.3                       12.0   \n",
       "1                     15.0                   97.4                       12.0   \n",
       "2                      2.0                   90.6                       16.0   \n",
       "3                     16.0                   94.1                        2.0   \n",
       "4                     13.0                   92.8                       15.0   \n",
       "5                     15.0                   95.4                       14.0   \n",
       "6                      9.0                   99.4                        2.0   \n",
       "7                     10.0                   92.1                        8.0   \n",
       "8                      4.0                   90.6                       10.0   \n",
       "9                     11.0                   91.8                       13.0   \n",
       "\n",
       "  sdg-score-multi__value 2  sdg-score-multi__number 3  \\\n",
       "0                     93.4                       15.0   \n",
       "1                     92.9                       11.0   \n",
       "2                     93.4                       11.0   \n",
       "3                     86.4                        1.0   \n",
       "4                     96.2                       14.0   \n",
       "5                     93.9                        6.0   \n",
       "6                     89.2                       15.0   \n",
       "7                     83.7                       11.0   \n",
       "8                     90.2                       14.0   \n",
       "9                     89.4                       12.0   \n",
       "\n",
       "  sdg-score-multi__value 3 sdg-score-multi__value 4 scores  \\\n",
       "0                     96.7                     98.8   99.4   \n",
       "1                     92.2                     94.8   97.5   \n",
       "2                     91.0                     92.6   97.2   \n",
       "3                     84.9                     97.8   96.9   \n",
       "4                     95.1                     96.3   96.6   \n",
       "5                     87.6                81.9–86.9   96.5   \n",
       "6                     91.0                     94.4   96.4   \n",
       "7                     87.4                     98.5   96.4   \n",
       "8                     93.4                     98.5   95.8   \n",
       "9                     88.4                     91.9   95.8   \n",
       "\n",
       "   sdg-score-multi__number 5 sdg-score-multi__value 5  \\\n",
       "0                        NaN                      NaN   \n",
       "1                        NaN                      NaN   \n",
       "2                        NaN                      NaN   \n",
       "3                        NaN                      NaN   \n",
       "4                        NaN                      NaN   \n",
       "5                        NaN                      NaN   \n",
       "6                        NaN                      NaN   \n",
       "7                        NaN                      NaN   \n",
       "8                        NaN                      NaN   \n",
       "9                        NaN                      NaN   \n",
       "\n",
       "   sdg-score-multi__number 6 sdg-score-multi__value 6  \\\n",
       "0                        NaN                      NaN   \n",
       "1                        NaN                      NaN   \n",
       "2                        NaN                      NaN   \n",
       "3                        NaN                      NaN   \n",
       "4                        NaN                      NaN   \n",
       "5                        NaN                      NaN   \n",
       "6                        NaN                      NaN   \n",
       "7                        NaN                      NaN   \n",
       "8                        NaN                      NaN   \n",
       "9                        NaN                      NaN   \n",
       "\n",
       "   sdg-score-multi__number 7 sdg-score-multi__value 7  \\\n",
       "0                        NaN                      NaN   \n",
       "1                        NaN                      NaN   \n",
       "2                        NaN                      NaN   \n",
       "3                        NaN                      NaN   \n",
       "4                        NaN                      NaN   \n",
       "5                        NaN                      NaN   \n",
       "6                        NaN                      NaN   \n",
       "7                        NaN                      NaN   \n",
       "8                        NaN                      NaN   \n",
       "9                        NaN                      NaN   \n",
       "\n",
       "   sdg-score-multi__number 8 sdg-score-multi__value 8  \n",
       "0                        NaN                      NaN  \n",
       "1                        NaN                      NaN  \n",
       "2                        NaN                      NaN  \n",
       "3                        NaN                      NaN  \n",
       "4                        NaN                      NaN  \n",
       "5                        NaN                      NaN  \n",
       "6                        NaN                      NaN  \n",
       "7                        NaN                      NaN  \n",
       "8                        NaN                      NaN  \n",
       "9                        NaN                      NaN  "
      ]
     },
     "execution_count": 189,
     "metadata": {},
     "output_type": "execute_result"
    }
   ],
   "source": [
    "times_h.head(10) # Show the times_h dataframe after deleting the columns"
   ]
  },
  {
   "cell_type": "markdown",
   "id": "0f5e3a2a-bbb7-4d06-8220-c93277b70146",
   "metadata": {},
   "source": [
    "#### 5. Uniqueness: \n",
    "Check for and remove duplicate records to prevent skewed analysis results.\n"
   ]
  },
  {
   "cell_type": "code",
   "execution_count": 190,
   "id": "a509a7aa-58f4-4d39-8eb8-e8298a21f2a7",
   "metadata": {},
   "outputs": [
    {
     "name": "stdout",
     "output_type": "stream",
     "text": [
      "Number of duplicates in Shanghai Ranking: 0\n",
      "Number of duplicates in Times Higher Education: 0\n",
      "Number of duplicates in World Rank University: 0\n"
     ]
    }
   ],
   "source": [
    "# Checking of duplicates in each dataframe\n",
    "\n",
    "print(f\"Number of duplicates in Shanghai Ranking: {shanghai_rank.duplicated().sum()}\")\n",
    "print(f\"Number of duplicates in Times Higher Education: {times_h.duplicated().sum()}\")\n",
    "print(f\"Number of duplicates in World Rank University: {word_rank.duplicated().sum()}\")"
   ]
  },
  {
   "cell_type": "markdown",
   "id": "c7724ac2-4ea2-4cf4-a9e0-e64368f87b92",
   "metadata": {},
   "source": [
    "#### 6. Completeness: \n",
    "Ensure that no critical data is missing. This might mean checking for null values or required fields that are empty.\n",
    "\n",
    "We will start by checking the dataset for missing or null values. For this, we can use the isna() method which returns a dataframe of boolean values indicating if a field is null or not. To group all missing values by column, we can include the sum() method."
   ]
  },
  {
   "cell_type": "code",
   "execution_count": 191,
   "id": "48a4de54-a344-4b94-9908-9528c15c13f7",
   "metadata": {},
   "outputs": [
    {
     "name": "stdout",
     "output_type": "stream",
     "text": [
      "Number of missing values: 0\n",
      "Number of missing values: 13411\n",
      "Number of missing values: 0\n"
     ]
    }
   ],
   "source": [
    "print(\"Number of missing values:\",shanghai_rank.isnull().sum().sum()) # Number of missing values = 0\n",
    "print(\"Number of missing values:\",times_h.isnull().sum().sum()) # Number of missing values = 13502\n",
    "print(\"Number of missing values:\",word_rank.isnull().sum().sum()) # Number of missing values = 0"
   ]
  },
  {
   "cell_type": "code",
   "execution_count": 192,
   "id": "f585b07d",
   "metadata": {},
   "outputs": [
    {
     "name": "stdout",
     "output_type": "stream",
     "text": [
      "<class 'pandas.core.frame.DataFrame'>\n",
      "RangeIndex: 1000 entries, 0 to 999\n",
      "Data columns (total 4 columns):\n",
      " #   Column                  Non-Null Count  Dtype  \n",
      "---  ------                  --------------  -----  \n",
      " 0   Ranking                 1000 non-null   object \n",
      " 1   University Name         1000 non-null   object \n",
      " 2   National/Regional Rank  1000 non-null   object \n",
      " 3   Total Score             1000 non-null   float64\n",
      "dtypes: float64(1), object(3)\n",
      "memory usage: 31.4+ KB\n",
      "\n"
     ]
    },
    {
     "data": {
      "text/html": [
       "<div>\n",
       "<style scoped>\n",
       "    .dataframe tbody tr th:only-of-type {\n",
       "        vertical-align: middle;\n",
       "    }\n",
       "\n",
       "    .dataframe tbody tr th {\n",
       "        vertical-align: top;\n",
       "    }\n",
       "\n",
       "    .dataframe thead th {\n",
       "        text-align: right;\n",
       "    }\n",
       "</style>\n",
       "<table border=\"1\" class=\"dataframe\">\n",
       "  <thead>\n",
       "    <tr style=\"text-align: right;\">\n",
       "      <th></th>\n",
       "      <th>Ranking</th>\n",
       "      <th>University Name</th>\n",
       "      <th>National/Regional Rank</th>\n",
       "      <th>Total Score</th>\n",
       "    </tr>\n",
       "  </thead>\n",
       "  <tbody>\n",
       "    <tr>\n",
       "      <th>43</th>\n",
       "      <td>44</td>\n",
       "      <td>Rockefeller University</td>\n",
       "      <td>25-26</td>\n",
       "      <td>33.8</td>\n",
       "    </tr>\n",
       "    <tr>\n",
       "      <th>45</th>\n",
       "      <td>44</td>\n",
       "      <td>University of Minnesota, Twin Cities</td>\n",
       "      <td>25-26</td>\n",
       "      <td>33.8</td>\n",
       "    </tr>\n",
       "    <tr>\n",
       "      <th>83</th>\n",
       "      <td>83</td>\n",
       "      <td>Technion-Israel Institute of Technology</td>\n",
       "      <td>2-3</td>\n",
       "      <td>27.2</td>\n",
       "    </tr>\n",
       "    <tr>\n",
       "      <th>85</th>\n",
       "      <td>83</td>\n",
       "      <td>Weizmann Institute of Science</td>\n",
       "      <td>2-3</td>\n",
       "      <td>27.2</td>\n",
       "    </tr>\n",
       "    <tr>\n",
       "      <th>100</th>\n",
       "      <td>101-150</td>\n",
       "      <td>Aix Marseille University</td>\n",
       "      <td>5-7</td>\n",
       "      <td>11.9</td>\n",
       "    </tr>\n",
       "    <tr>\n",
       "      <th>...</th>\n",
       "      <td>...</td>\n",
       "      <td>...</td>\n",
       "      <td>...</td>\n",
       "      <td>...</td>\n",
       "    </tr>\n",
       "    <tr>\n",
       "      <th>995</th>\n",
       "      <td>901-1000</td>\n",
       "      <td>University of Wuppertal</td>\n",
       "      <td>46-47</td>\n",
       "      <td>0.0</td>\n",
       "    </tr>\n",
       "    <tr>\n",
       "      <th>996</th>\n",
       "      <td>901-1000</td>\n",
       "      <td>Warsaw University of Technology</td>\n",
       "      <td>7-11</td>\n",
       "      <td>0.0</td>\n",
       "    </tr>\n",
       "    <tr>\n",
       "      <th>997</th>\n",
       "      <td>901-1000</td>\n",
       "      <td>Western Norway University of Applied Sciences</td>\n",
       "      <td>6-7</td>\n",
       "      <td>0.0</td>\n",
       "    </tr>\n",
       "    <tr>\n",
       "      <th>998</th>\n",
       "      <td>901-1000</td>\n",
       "      <td>Wroclaw University of Science and Technology</td>\n",
       "      <td>7-11</td>\n",
       "      <td>0.0</td>\n",
       "    </tr>\n",
       "    <tr>\n",
       "      <th>999</th>\n",
       "      <td>901-1000</td>\n",
       "      <td>Yantai University</td>\n",
       "      <td>148-163</td>\n",
       "      <td>0.0</td>\n",
       "    </tr>\n",
       "  </tbody>\n",
       "</table>\n",
       "<p>904 rows × 4 columns</p>\n",
       "</div>"
      ],
      "text/plain": [
       "      Ranking                                University Name  \\\n",
       "43         44                         Rockefeller University   \n",
       "45         44           University of Minnesota, Twin Cities   \n",
       "83         83        Technion-Israel Institute of Technology   \n",
       "85         83                  Weizmann Institute of Science   \n",
       "100   101-150                       Aix Marseille University   \n",
       "..        ...                                            ...   \n",
       "995  901-1000                        University of Wuppertal   \n",
       "996  901-1000                Warsaw University of Technology   \n",
       "997  901-1000  Western Norway University of Applied Sciences   \n",
       "998  901-1000   Wroclaw University of Science and Technology   \n",
       "999  901-1000                              Yantai University   \n",
       "\n",
       "    National/Regional Rank  Total Score  \n",
       "43                   25-26         33.8  \n",
       "45                   25-26         33.8  \n",
       "83                     2-3         27.2  \n",
       "85                     2-3         27.2  \n",
       "100                    5-7         11.9  \n",
       "..                     ...          ...  \n",
       "995                  46-47          0.0  \n",
       "996                   7-11          0.0  \n",
       "997                    6-7          0.0  \n",
       "998                   7-11          0.0  \n",
       "999                148-163          0.0  \n",
       "\n",
       "[904 rows x 4 columns]"
      ]
     },
     "execution_count": 192,
     "metadata": {},
     "output_type": "execute_result"
    }
   ],
   "source": [
    "# shanghai_rank missing values\n",
    "\n",
    "shanghai_rank.info() # Check for missing values in each column and the data types of the columns\n",
    "\n",
    "print() # Print an empty line\n",
    "\n",
    "# Check for non-numeric characters in the column\n",
    "\n",
    "shanghai_rank[shanghai_rank['University Name'].str.contains('^![a-zA-Z]+$')] # Check for non-alphabetical characters (PASS)\n",
    "shanghai_rank[shanghai_rank['Ranking'].str.contains(r'.*\\D.*') | shanghai_rank['National/Regional Rank'].str.contains(r'.*\\D.*')] # Check for non-numeric characters (FAIL)\n",
    "\n",
    "\n",
    "# The data of the 'National/Regional Rank' and 'Ranking' columns are not in the correct format, contains non-numeric character '-' used like this -> 'rank1 - rank2'"
   ]
  },
  {
   "cell_type": "code",
   "execution_count": 193,
   "id": "705d6ed9",
   "metadata": {},
   "outputs": [
    {
     "name": "stdout",
     "output_type": "stream",
     "text": [
      "<class 'pandas.core.frame.DataFrame'>\n",
      "RangeIndex: 1591 entries, 0 to 1590\n",
      "Data columns (total 19 columns):\n",
      " #   Column                     Non-Null Count  Dtype  \n",
      "---  ------                     --------------  -----  \n",
      " 0   Rank                       1591 non-null   object \n",
      " 1   University Name            1591 non-null   object \n",
      " 2   Location                   1500 non-null   object \n",
      " 3   sdg-score-multi__number    867 non-null    float64\n",
      " 4   sdg-score-multi__value     867 non-null    object \n",
      " 5   sdg-score-multi__number 2  826 non-null    float64\n",
      " 6   sdg-score-multi__value 2   825 non-null    object \n",
      " 7   sdg-score-multi__number 3  812 non-null    float64\n",
      " 8   sdg-score-multi__value 3   805 non-null    object \n",
      " 9   sdg-score-multi__value 4   1583 non-null   object \n",
      " 10  scores                     1591 non-null   object \n",
      " 11  sdg-score-multi__number 5  565 non-null    float64\n",
      " 12  sdg-score-multi__value 5   557 non-null    object \n",
      " 13  sdg-score-multi__number 6  498 non-null    float64\n",
      " 14  sdg-score-multi__value 6   496 non-null    object \n",
      " 15  sdg-score-multi__number 7  439 non-null    float64\n",
      " 16  sdg-score-multi__value 7   439 non-null    object \n",
      " 17  sdg-score-multi__number 8  483 non-null    float64\n",
      " 18  sdg-score-multi__value 8   483 non-null    object \n",
      "dtypes: float64(7), object(12)\n",
      "memory usage: 236.3+ KB\n",
      "\n"
     ]
    },
    {
     "data": {
      "text/html": [
       "<div>\n",
       "<style scoped>\n",
       "    .dataframe tbody tr th:only-of-type {\n",
       "        vertical-align: middle;\n",
       "    }\n",
       "\n",
       "    .dataframe tbody tr th {\n",
       "        vertical-align: top;\n",
       "    }\n",
       "\n",
       "    .dataframe thead th {\n",
       "        text-align: right;\n",
       "    }\n",
       "</style>\n",
       "<table border=\"1\" class=\"dataframe\">\n",
       "  <thead>\n",
       "    <tr style=\"text-align: right;\">\n",
       "      <th></th>\n",
       "      <th>Rank</th>\n",
       "      <th>University Name</th>\n",
       "      <th>Location</th>\n",
       "      <th>sdg-score-multi__number</th>\n",
       "      <th>sdg-score-multi__value</th>\n",
       "      <th>sdg-score-multi__number 2</th>\n",
       "      <th>sdg-score-multi__value 2</th>\n",
       "      <th>sdg-score-multi__number 3</th>\n",
       "      <th>sdg-score-multi__value 3</th>\n",
       "      <th>sdg-score-multi__value 4</th>\n",
       "      <th>scores</th>\n",
       "      <th>sdg-score-multi__number 5</th>\n",
       "      <th>sdg-score-multi__value 5</th>\n",
       "      <th>sdg-score-multi__number 6</th>\n",
       "      <th>sdg-score-multi__value 6</th>\n",
       "      <th>sdg-score-multi__number 7</th>\n",
       "      <th>sdg-score-multi__value 7</th>\n",
       "      <th>sdg-score-multi__number 8</th>\n",
       "      <th>sdg-score-multi__value 8</th>\n",
       "    </tr>\n",
       "  </thead>\n",
       "  <tbody>\n",
       "    <tr>\n",
       "      <th>6</th>\n",
       "      <td>=7</td>\n",
       "      <td>University of Alberta</td>\n",
       "      <td>Canada</td>\n",
       "      <td>9.0</td>\n",
       "      <td>99.4</td>\n",
       "      <td>2.0</td>\n",
       "      <td>89.2</td>\n",
       "      <td>15.0</td>\n",
       "      <td>91.0</td>\n",
       "      <td>94.4</td>\n",
       "      <td>96.4</td>\n",
       "      <td>NaN</td>\n",
       "      <td>NaN</td>\n",
       "      <td>NaN</td>\n",
       "      <td>NaN</td>\n",
       "      <td>NaN</td>\n",
       "      <td>NaN</td>\n",
       "      <td>NaN</td>\n",
       "      <td>NaN</td>\n",
       "    </tr>\n",
       "    <tr>\n",
       "      <th>7</th>\n",
       "      <td>=7</td>\n",
       "      <td>RMIT University</td>\n",
       "      <td>Australia</td>\n",
       "      <td>10.0</td>\n",
       "      <td>92.1</td>\n",
       "      <td>8.0</td>\n",
       "      <td>83.7</td>\n",
       "      <td>11.0</td>\n",
       "      <td>87.4</td>\n",
       "      <td>98.5</td>\n",
       "      <td>96.4</td>\n",
       "      <td>NaN</td>\n",
       "      <td>NaN</td>\n",
       "      <td>NaN</td>\n",
       "      <td>NaN</td>\n",
       "      <td>NaN</td>\n",
       "      <td>NaN</td>\n",
       "      <td>NaN</td>\n",
       "      <td>NaN</td>\n",
       "    </tr>\n",
       "    <tr>\n",
       "      <th>8</th>\n",
       "      <td>=9</td>\n",
       "      <td>Aalborg University</td>\n",
       "      <td>Denmark</td>\n",
       "      <td>4.0</td>\n",
       "      <td>90.6</td>\n",
       "      <td>10.0</td>\n",
       "      <td>90.2</td>\n",
       "      <td>14.0</td>\n",
       "      <td>93.4</td>\n",
       "      <td>98.5</td>\n",
       "      <td>95.8</td>\n",
       "      <td>NaN</td>\n",
       "      <td>NaN</td>\n",
       "      <td>NaN</td>\n",
       "      <td>NaN</td>\n",
       "      <td>NaN</td>\n",
       "      <td>NaN</td>\n",
       "      <td>NaN</td>\n",
       "      <td>NaN</td>\n",
       "    </tr>\n",
       "    <tr>\n",
       "      <th>9</th>\n",
       "      <td>=9</td>\n",
       "      <td>University of Victoria</td>\n",
       "      <td>Canada</td>\n",
       "      <td>11.0</td>\n",
       "      <td>91.8</td>\n",
       "      <td>13.0</td>\n",
       "      <td>89.4</td>\n",
       "      <td>12.0</td>\n",
       "      <td>88.4</td>\n",
       "      <td>91.9</td>\n",
       "      <td>95.8</td>\n",
       "      <td>NaN</td>\n",
       "      <td>NaN</td>\n",
       "      <td>NaN</td>\n",
       "      <td>NaN</td>\n",
       "      <td>NaN</td>\n",
       "      <td>NaN</td>\n",
       "      <td>NaN</td>\n",
       "      <td>NaN</td>\n",
       "    </tr>\n",
       "    <tr>\n",
       "      <th>10</th>\n",
       "      <td>=9</td>\n",
       "      <td>Western University</td>\n",
       "      <td>Canada</td>\n",
       "      <td>9.0</td>\n",
       "      <td>97.7</td>\n",
       "      <td>1.0</td>\n",
       "      <td>88.0</td>\n",
       "      <td>8.0</td>\n",
       "      <td>78.6</td>\n",
       "      <td>81.9–86.9</td>\n",
       "      <td>95.8</td>\n",
       "      <td>NaN</td>\n",
       "      <td>NaN</td>\n",
       "      <td>NaN</td>\n",
       "      <td>NaN</td>\n",
       "      <td>NaN</td>\n",
       "      <td>NaN</td>\n",
       "      <td>NaN</td>\n",
       "      <td>NaN</td>\n",
       "    </tr>\n",
       "    <tr>\n",
       "      <th>...</th>\n",
       "      <td>...</td>\n",
       "      <td>...</td>\n",
       "      <td>...</td>\n",
       "      <td>...</td>\n",
       "      <td>...</td>\n",
       "      <td>...</td>\n",
       "      <td>...</td>\n",
       "      <td>...</td>\n",
       "      <td>...</td>\n",
       "      <td>...</td>\n",
       "      <td>...</td>\n",
       "      <td>...</td>\n",
       "      <td>...</td>\n",
       "      <td>...</td>\n",
       "      <td>...</td>\n",
       "      <td>...</td>\n",
       "      <td>...</td>\n",
       "      <td>...</td>\n",
       "      <td>...</td>\n",
       "    </tr>\n",
       "    <tr>\n",
       "      <th>1586</th>\n",
       "      <td>1001+</td>\n",
       "      <td>Zarqa University</td>\n",
       "      <td>Jordan</td>\n",
       "      <td>NaN</td>\n",
       "      <td>NaN</td>\n",
       "      <td>NaN</td>\n",
       "      <td>NaN</td>\n",
       "      <td>1.0</td>\n",
       "      <td>23.3–38.1</td>\n",
       "      <td>1.5–45.2</td>\n",
       "      <td>7.9–53.8</td>\n",
       "      <td>NaN</td>\n",
       "      <td>NaN</td>\n",
       "      <td>4.0</td>\n",
       "      <td>43.6–50.9</td>\n",
       "      <td>3.0</td>\n",
       "      <td>32.1–44.6</td>\n",
       "      <td>NaN</td>\n",
       "      <td>NaN</td>\n",
       "    </tr>\n",
       "    <tr>\n",
       "      <th>1587</th>\n",
       "      <td>1001+</td>\n",
       "      <td>Zewail City of Science and Technology</td>\n",
       "      <td>Egypt</td>\n",
       "      <td>3.0</td>\n",
       "      <td>44.7–54.5</td>\n",
       "      <td>7.0</td>\n",
       "      <td>11.1–38.6</td>\n",
       "      <td>NaN</td>\n",
       "      <td>NaN</td>\n",
       "      <td>45.3–53.3</td>\n",
       "      <td>7.9–53.8</td>\n",
       "      <td>1.0</td>\n",
       "      <td>54.5–60.1</td>\n",
       "      <td>NaN</td>\n",
       "      <td>NaN</td>\n",
       "      <td>NaN</td>\n",
       "      <td>NaN</td>\n",
       "      <td>NaN</td>\n",
       "      <td>NaN</td>\n",
       "    </tr>\n",
       "    <tr>\n",
       "      <th>1588</th>\n",
       "      <td>1001+</td>\n",
       "      <td>Zhytomyr Ivan Franko State University</td>\n",
       "      <td>Ukraine</td>\n",
       "      <td>NaN</td>\n",
       "      <td>NaN</td>\n",
       "      <td>10.0</td>\n",
       "      <td>3.9–25.5</td>\n",
       "      <td>NaN</td>\n",
       "      <td>NaN</td>\n",
       "      <td>1.5–45.2</td>\n",
       "      <td>7.9–53.8</td>\n",
       "      <td>NaN</td>\n",
       "      <td>NaN</td>\n",
       "      <td>8.0</td>\n",
       "      <td>35.7–48.3</td>\n",
       "      <td>5.0</td>\n",
       "      <td>43.7–51.5</td>\n",
       "      <td>NaN</td>\n",
       "      <td>NaN</td>\n",
       "    </tr>\n",
       "    <tr>\n",
       "      <th>1589</th>\n",
       "      <td>1001+</td>\n",
       "      <td>University of Žilina</td>\n",
       "      <td>Slovakia</td>\n",
       "      <td>11.0</td>\n",
       "      <td>20.9–38.4</td>\n",
       "      <td>NaN</td>\n",
       "      <td>NaN</td>\n",
       "      <td>NaN</td>\n",
       "      <td>NaN</td>\n",
       "      <td>1.5–45.2</td>\n",
       "      <td>7.9–53.8</td>\n",
       "      <td>NaN</td>\n",
       "      <td>NaN</td>\n",
       "      <td>9.0</td>\n",
       "      <td>17.2–33.8</td>\n",
       "      <td>NaN</td>\n",
       "      <td>NaN</td>\n",
       "      <td>4.0</td>\n",
       "      <td>2.8–35.7</td>\n",
       "    </tr>\n",
       "    <tr>\n",
       "      <th>1590</th>\n",
       "      <td>1001+</td>\n",
       "      <td>Zonguldak Bülent Ecevit University</td>\n",
       "      <td>Turkey</td>\n",
       "      <td>12.0</td>\n",
       "      <td>49.4–58.6</td>\n",
       "      <td>NaN</td>\n",
       "      <td>NaN</td>\n",
       "      <td>NaN</td>\n",
       "      <td>NaN</td>\n",
       "      <td>1.5–45.2</td>\n",
       "      <td>7.9–53.8</td>\n",
       "      <td>NaN</td>\n",
       "      <td>NaN</td>\n",
       "      <td>7.0</td>\n",
       "      <td>51.9–56.1</td>\n",
       "      <td>3.0</td>\n",
       "      <td>54.7–63.8</td>\n",
       "      <td>NaN</td>\n",
       "      <td>NaN</td>\n",
       "    </tr>\n",
       "  </tbody>\n",
       "</table>\n",
       "<p>1561 rows × 19 columns</p>\n",
       "</div>"
      ],
      "text/plain": [
       "       Rank                       University Name    Location  \\\n",
       "6        =7                  University of Alberta     Canada   \n",
       "7        =7                        RMIT University  Australia   \n",
       "8        =9                     Aalborg University    Denmark   \n",
       "9        =9                 University of Victoria     Canada   \n",
       "10       =9                     Western University     Canada   \n",
       "...     ...                                    ...        ...   \n",
       "1586  1001+                       Zarqa University     Jordan   \n",
       "1587  1001+  Zewail City of Science and Technology      Egypt   \n",
       "1588  1001+  Zhytomyr Ivan Franko State University    Ukraine   \n",
       "1589  1001+                   University of Žilina   Slovakia   \n",
       "1590  1001+     Zonguldak Bülent Ecevit University     Turkey   \n",
       "\n",
       "      sdg-score-multi__number sdg-score-multi__value  \\\n",
       "6                         9.0                   99.4   \n",
       "7                        10.0                   92.1   \n",
       "8                         4.0                   90.6   \n",
       "9                        11.0                   91.8   \n",
       "10                        9.0                   97.7   \n",
       "...                       ...                    ...   \n",
       "1586                      NaN                    NaN   \n",
       "1587                      3.0              44.7–54.5   \n",
       "1588                      NaN                    NaN   \n",
       "1589                     11.0              20.9–38.4   \n",
       "1590                     12.0              49.4–58.6   \n",
       "\n",
       "      sdg-score-multi__number 2 sdg-score-multi__value 2  \\\n",
       "6                           2.0                     89.2   \n",
       "7                           8.0                     83.7   \n",
       "8                          10.0                     90.2   \n",
       "9                          13.0                     89.4   \n",
       "10                          1.0                     88.0   \n",
       "...                         ...                      ...   \n",
       "1586                        NaN                      NaN   \n",
       "1587                        7.0                11.1–38.6   \n",
       "1588                       10.0                 3.9–25.5   \n",
       "1589                        NaN                      NaN   \n",
       "1590                        NaN                      NaN   \n",
       "\n",
       "      sdg-score-multi__number 3 sdg-score-multi__value 3  \\\n",
       "6                          15.0                     91.0   \n",
       "7                          11.0                     87.4   \n",
       "8                          14.0                     93.4   \n",
       "9                          12.0                     88.4   \n",
       "10                          8.0                     78.6   \n",
       "...                         ...                      ...   \n",
       "1586                        1.0                23.3–38.1   \n",
       "1587                        NaN                      NaN   \n",
       "1588                        NaN                      NaN   \n",
       "1589                        NaN                      NaN   \n",
       "1590                        NaN                      NaN   \n",
       "\n",
       "     sdg-score-multi__value 4    scores  sdg-score-multi__number 5  \\\n",
       "6                        94.4      96.4                        NaN   \n",
       "7                        98.5      96.4                        NaN   \n",
       "8                        98.5      95.8                        NaN   \n",
       "9                        91.9      95.8                        NaN   \n",
       "10                  81.9–86.9      95.8                        NaN   \n",
       "...                       ...       ...                        ...   \n",
       "1586                 1.5–45.2  7.9–53.8                        NaN   \n",
       "1587                45.3–53.3  7.9–53.8                        1.0   \n",
       "1588                 1.5–45.2  7.9–53.8                        NaN   \n",
       "1589                 1.5–45.2  7.9–53.8                        NaN   \n",
       "1590                 1.5–45.2  7.9–53.8                        NaN   \n",
       "\n",
       "     sdg-score-multi__value 5  sdg-score-multi__number 6  \\\n",
       "6                         NaN                        NaN   \n",
       "7                         NaN                        NaN   \n",
       "8                         NaN                        NaN   \n",
       "9                         NaN                        NaN   \n",
       "10                        NaN                        NaN   \n",
       "...                       ...                        ...   \n",
       "1586                      NaN                        4.0   \n",
       "1587                54.5–60.1                        NaN   \n",
       "1588                      NaN                        8.0   \n",
       "1589                      NaN                        9.0   \n",
       "1590                      NaN                        7.0   \n",
       "\n",
       "     sdg-score-multi__value 6  sdg-score-multi__number 7  \\\n",
       "6                         NaN                        NaN   \n",
       "7                         NaN                        NaN   \n",
       "8                         NaN                        NaN   \n",
       "9                         NaN                        NaN   \n",
       "10                        NaN                        NaN   \n",
       "...                       ...                        ...   \n",
       "1586                43.6–50.9                        3.0   \n",
       "1587                      NaN                        NaN   \n",
       "1588                35.7–48.3                        5.0   \n",
       "1589                17.2–33.8                        NaN   \n",
       "1590                51.9–56.1                        3.0   \n",
       "\n",
       "     sdg-score-multi__value 7  sdg-score-multi__number 8  \\\n",
       "6                         NaN                        NaN   \n",
       "7                         NaN                        NaN   \n",
       "8                         NaN                        NaN   \n",
       "9                         NaN                        NaN   \n",
       "10                        NaN                        NaN   \n",
       "...                       ...                        ...   \n",
       "1586                32.1–44.6                        NaN   \n",
       "1587                      NaN                        NaN   \n",
       "1588                43.7–51.5                        NaN   \n",
       "1589                      NaN                        4.0   \n",
       "1590                54.7–63.8                        NaN   \n",
       "\n",
       "     sdg-score-multi__value 8  \n",
       "6                         NaN  \n",
       "7                         NaN  \n",
       "8                         NaN  \n",
       "9                         NaN  \n",
       "10                        NaN  \n",
       "...                       ...  \n",
       "1586                      NaN  \n",
       "1587                      NaN  \n",
       "1588                      NaN  \n",
       "1589                 2.8–35.7  \n",
       "1590                      NaN  \n",
       "\n",
       "[1561 rows x 19 columns]"
      ]
     },
     "execution_count": 193,
     "metadata": {},
     "output_type": "execute_result"
    }
   ],
   "source": [
    "# times_h missing values\n",
    "\n",
    "times_h.info() # Check for missing values in each column and the data types of the columns\n",
    "\n",
    "print() # Print an empty line\n",
    "\n",
    "# Check for non-numeric characters in the column\n",
    "\n",
    "times_h[times_h['University Name '].str.contains('^![a-zA-Z]+$')] # Check for non-alphabetical characters (PASS)\n",
    "times_h[times_h['Rank'].str.contains(r'.*\\D.*')]  # times_h['sdg-score-multi__value'].str.contains(r'.*\\D.*')] # Check for non-numeric characters (FAIL)"
   ]
  },
  {
   "cell_type": "code",
   "execution_count": 194,
   "id": "bf54873c",
   "metadata": {},
   "outputs": [
    {
     "name": "stdout",
     "output_type": "stream",
     "text": [
      "<class 'pandas.core.frame.DataFrame'>\n",
      "RangeIndex: 2000 entries, 0 to 1999\n",
      "Data columns (total 9 columns):\n",
      " #   Column              Non-Null Count  Dtype  \n",
      "---  ------              --------------  -----  \n",
      " 0   World Rank          2000 non-null   object \n",
      " 1   University Names    2000 non-null   object \n",
      " 2   Location            2000 non-null   object \n",
      " 3   National Rank       2000 non-null   int64  \n",
      " 4   Educational Rank    2000 non-null   object \n",
      " 5   Employability Rank  2000 non-null   object \n",
      " 6   Faculty Rank        2000 non-null   object \n",
      " 7   Research Rank       2000 non-null   object \n",
      " 8   Score               2000 non-null   float64\n",
      "dtypes: float64(1), int64(1), object(7)\n",
      "memory usage: 140.8+ KB\n",
      "\n"
     ]
    },
    {
     "data": {
      "text/html": [
       "<div>\n",
       "<style scoped>\n",
       "    .dataframe tbody tr th:only-of-type {\n",
       "        vertical-align: middle;\n",
       "    }\n",
       "\n",
       "    .dataframe tbody tr th {\n",
       "        vertical-align: top;\n",
       "    }\n",
       "\n",
       "    .dataframe thead th {\n",
       "        text-align: right;\n",
       "    }\n",
       "</style>\n",
       "<table border=\"1\" class=\"dataframe\">\n",
       "  <thead>\n",
       "    <tr style=\"text-align: right;\">\n",
       "      <th></th>\n",
       "      <th>World Rank</th>\n",
       "      <th>University Names</th>\n",
       "      <th>Location</th>\n",
       "      <th>National Rank</th>\n",
       "      <th>Educational Rank</th>\n",
       "      <th>Employability Rank</th>\n",
       "      <th>Faculty Rank</th>\n",
       "      <th>Research Rank</th>\n",
       "      <th>Score</th>\n",
       "    </tr>\n",
       "  </thead>\n",
       "  <tbody>\n",
       "    <tr>\n",
       "      <th>37</th>\n",
       "      <td>38Top 0.2%</td>\n",
       "      <td>Karolinska Institute</td>\n",
       "      <td>Sweden</td>\n",
       "      <td>1</td>\n",
       "      <td>39</td>\n",
       "      <td>-</td>\n",
       "      <td>35</td>\n",
       "      <td>62</td>\n",
       "      <td>85.8</td>\n",
       "    </tr>\n",
       "    <tr>\n",
       "      <th>60</th>\n",
       "      <td>61Top 0.3%</td>\n",
       "      <td>Rockefeller University</td>\n",
       "      <td>USA</td>\n",
       "      <td>33</td>\n",
       "      <td>13</td>\n",
       "      <td>-</td>\n",
       "      <td>8</td>\n",
       "      <td>460</td>\n",
       "      <td>83.9</td>\n",
       "    </tr>\n",
       "    <tr>\n",
       "      <th>72</th>\n",
       "      <td>73Top 0.4%</td>\n",
       "      <td>University of Texas Southwestern Medical Center</td>\n",
       "      <td>USA</td>\n",
       "      <td>41</td>\n",
       "      <td>41</td>\n",
       "      <td>-</td>\n",
       "      <td>42</td>\n",
       "      <td>167</td>\n",
       "      <td>83.2</td>\n",
       "    </tr>\n",
       "    <tr>\n",
       "      <th>86</th>\n",
       "      <td>87Top 0.5%</td>\n",
       "      <td>Weizmann Institute of Science</td>\n",
       "      <td>Israel</td>\n",
       "      <td>2</td>\n",
       "      <td>24</td>\n",
       "      <td>-</td>\n",
       "      <td>51</td>\n",
       "      <td>289</td>\n",
       "      <td>82.4</td>\n",
       "    </tr>\n",
       "    <tr>\n",
       "      <th>111</th>\n",
       "      <td>112Top 0.6%</td>\n",
       "      <td>University of Texas MD Anderson Cancer Center</td>\n",
       "      <td>USA</td>\n",
       "      <td>51</td>\n",
       "      <td>-</td>\n",
       "      <td>-</td>\n",
       "      <td>88</td>\n",
       "      <td>98</td>\n",
       "      <td>81.4</td>\n",
       "    </tr>\n",
       "    <tr>\n",
       "      <th>...</th>\n",
       "      <td>...</td>\n",
       "      <td>...</td>\n",
       "      <td>...</td>\n",
       "      <td>...</td>\n",
       "      <td>...</td>\n",
       "      <td>...</td>\n",
       "      <td>...</td>\n",
       "      <td>...</td>\n",
       "      <td>...</td>\n",
       "    </tr>\n",
       "    <tr>\n",
       "      <th>1994</th>\n",
       "      <td>1995Top 9.8%</td>\n",
       "      <td>University of Djillali Liabès, Sidi Bel-Abbès</td>\n",
       "      <td>Algeria</td>\n",
       "      <td>2</td>\n",
       "      <td>-</td>\n",
       "      <td>-</td>\n",
       "      <td>-</td>\n",
       "      <td>1916</td>\n",
       "      <td>66.0</td>\n",
       "    </tr>\n",
       "    <tr>\n",
       "      <th>1995</th>\n",
       "      <td>1996Top 9.8%</td>\n",
       "      <td>Chongqing Jiaotong University</td>\n",
       "      <td>China</td>\n",
       "      <td>314</td>\n",
       "      <td>-</td>\n",
       "      <td>-</td>\n",
       "      <td>-</td>\n",
       "      <td>1917</td>\n",
       "      <td>66.0</td>\n",
       "    </tr>\n",
       "    <tr>\n",
       "      <th>1997</th>\n",
       "      <td>1998Top 9.8%</td>\n",
       "      <td>Van Yüzüncü Yıl University</td>\n",
       "      <td>Turkey</td>\n",
       "      <td>54</td>\n",
       "      <td>-</td>\n",
       "      <td>-</td>\n",
       "      <td>-</td>\n",
       "      <td>1919</td>\n",
       "      <td>66.0</td>\n",
       "    </tr>\n",
       "    <tr>\n",
       "      <th>1998</th>\n",
       "      <td>1999Top 9.8%</td>\n",
       "      <td>Bharathidasan University</td>\n",
       "      <td>India</td>\n",
       "      <td>64</td>\n",
       "      <td>-</td>\n",
       "      <td>-</td>\n",
       "      <td>-</td>\n",
       "      <td>1922</td>\n",
       "      <td>66.0</td>\n",
       "    </tr>\n",
       "    <tr>\n",
       "      <th>1999</th>\n",
       "      <td>2000Top 9.8%</td>\n",
       "      <td>Gebze Technical University</td>\n",
       "      <td>Turkey</td>\n",
       "      <td>55</td>\n",
       "      <td>-</td>\n",
       "      <td>-</td>\n",
       "      <td>-</td>\n",
       "      <td>1923</td>\n",
       "      <td>66.0</td>\n",
       "    </tr>\n",
       "  </tbody>\n",
       "</table>\n",
       "<p>967 rows × 9 columns</p>\n",
       "</div>"
      ],
      "text/plain": [
       "        World Rank                                 University Names Location   \\\n",
       "37      38Top 0.2%                             Karolinska Institute    Sweden   \n",
       "60      61Top 0.3%                           Rockefeller University       USA   \n",
       "72      73Top 0.4%  University of Texas Southwestern Medical Center       USA   \n",
       "86      87Top 0.5%                    Weizmann Institute of Science    Israel   \n",
       "111    112Top 0.6%    University of Texas MD Anderson Cancer Center       USA   \n",
       "...            ...                                              ...       ...   \n",
       "1994  1995Top 9.8%    University of Djillali Liabès, Sidi Bel-Abbès   Algeria   \n",
       "1995  1996Top 9.8%                    Chongqing Jiaotong University     China   \n",
       "1997  1998Top 9.8%                       Van Yüzüncü Yıl University    Turkey   \n",
       "1998  1999Top 9.8%                         Bharathidasan University     India   \n",
       "1999  2000Top 9.8%                       Gebze Technical University    Turkey   \n",
       "\n",
       "      National Rank Educational Rank Employability Rank Faculty Rank  \\\n",
       "37                1               39                  -           35   \n",
       "60               33               13                  -            8   \n",
       "72               41               41                  -           42   \n",
       "86                2               24                  -           51   \n",
       "111              51                -                  -           88   \n",
       "...             ...              ...                ...          ...   \n",
       "1994              2                -                  -            -   \n",
       "1995            314                -                  -            -   \n",
       "1997             54                -                  -            -   \n",
       "1998             64                -                  -            -   \n",
       "1999             55                -                  -            -   \n",
       "\n",
       "     Research Rank  Score  \n",
       "37              62   85.8  \n",
       "60             460   83.9  \n",
       "72             167   83.2  \n",
       "86             289   82.4  \n",
       "111             98   81.4  \n",
       "...            ...    ...  \n",
       "1994          1916   66.0  \n",
       "1995          1917   66.0  \n",
       "1997          1919   66.0  \n",
       "1998          1922   66.0  \n",
       "1999          1923   66.0  \n",
       "\n",
       "[967 rows x 9 columns]"
      ]
     },
     "execution_count": 194,
     "metadata": {},
     "output_type": "execute_result"
    }
   ],
   "source": [
    "# word_rank missing values\n",
    "\n",
    "word_rank.info() # Check for missing values in each column and the data types of the columns\n",
    "\n",
    "print() # Print an empty line\n",
    "\n",
    "# Check for non-numeric characters in the column\n",
    "word_rank[word_rank['University Names'].str.contains('^![a-zA-Z]+$')] # Check for non-alphabetical characters (PASS)\n",
    "word_rank[word_rank['Employability Rank'].str.contains(r'.*\\D.*')] # Check for non-numeric characters (FAIL)"
   ]
  },
  {
   "cell_type": "markdown",
   "id": "b40de63c-5a1d-49ed-a87e-c5229ee08bbe",
   "metadata": {},
   "source": [
    "#### 7. Check Accuracy:\n",
    "\n",
    "Verify that the data is correct and precise. This could involve comparing data samples with known sources or using validation rules.\n",
    "\n",
    "**The process includes:**\n",
    "1. Validating the appropriateness of data types for the dataset.\n",
    "2. Identifying outliers  using established validation  rule"
   ]
  },
  {
   "cell_type": "markdown",
   "id": "78d52344",
   "metadata": {},
   "source": [
    "#### Shanghai rank"
   ]
  },
  {
   "cell_type": "code",
   "execution_count": 196,
   "id": "68be5334-ae10-4abd-8097-3259fe5e72c8",
   "metadata": {},
   "outputs": [
    {
     "name": "stdout",
     "output_type": "stream",
     "text": [
      "Shanghai Ranking columns types:-\n",
      "Ranking                    object\n",
      "University Name            object\n",
      "National/Regional Rank     object\n",
      "Total Score               float64\n",
      "dtype: object\n"
     ]
    }
   ],
   "source": [
    "# check columns types\n",
    "print(\"Shanghai Ranking columns types:-\")\n",
    "print(shanghai_rank.dtypes)"
   ]
  },
  {
   "cell_type": "code",
   "execution_count": 197,
   "id": "61a16ff2",
   "metadata": {},
   "outputs": [
    {
     "data": {
      "text/html": [
       "<div>\n",
       "<style scoped>\n",
       "    .dataframe tbody tr th:only-of-type {\n",
       "        vertical-align: middle;\n",
       "    }\n",
       "\n",
       "    .dataframe tbody tr th {\n",
       "        vertical-align: top;\n",
       "    }\n",
       "\n",
       "    .dataframe thead th {\n",
       "        text-align: right;\n",
       "    }\n",
       "</style>\n",
       "<table border=\"1\" class=\"dataframe\">\n",
       "  <thead>\n",
       "    <tr style=\"text-align: right;\">\n",
       "      <th></th>\n",
       "      <th>Ranking</th>\n",
       "      <th>University Name</th>\n",
       "      <th>National/Regional Rank</th>\n",
       "      <th>Total Score</th>\n",
       "    </tr>\n",
       "  </thead>\n",
       "  <tbody>\n",
       "    <tr>\n",
       "      <th>0</th>\n",
       "      <td>1</td>\n",
       "      <td>Harvard University</td>\n",
       "      <td>1</td>\n",
       "      <td>100.0</td>\n",
       "    </tr>\n",
       "    <tr>\n",
       "      <th>1</th>\n",
       "      <td>2</td>\n",
       "      <td>Stanford University</td>\n",
       "      <td>2</td>\n",
       "      <td>76.8</td>\n",
       "    </tr>\n",
       "    <tr>\n",
       "      <th>2</th>\n",
       "      <td>3</td>\n",
       "      <td>Massachusetts Institute of Technology (MIT)</td>\n",
       "      <td>3</td>\n",
       "      <td>70.1</td>\n",
       "    </tr>\n",
       "    <tr>\n",
       "      <th>3</th>\n",
       "      <td>4</td>\n",
       "      <td>University of Cambridge</td>\n",
       "      <td>1</td>\n",
       "      <td>69.6</td>\n",
       "    </tr>\n",
       "    <tr>\n",
       "      <th>4</th>\n",
       "      <td>5</td>\n",
       "      <td>University of California, Berkeley</td>\n",
       "      <td>4</td>\n",
       "      <td>65.3</td>\n",
       "    </tr>\n",
       "    <tr>\n",
       "      <th>...</th>\n",
       "      <td>...</td>\n",
       "      <td>...</td>\n",
       "      <td>...</td>\n",
       "      <td>...</td>\n",
       "    </tr>\n",
       "    <tr>\n",
       "      <th>995</th>\n",
       "      <td>901-1000</td>\n",
       "      <td>University of Wuppertal</td>\n",
       "      <td>46-47</td>\n",
       "      <td>0.0</td>\n",
       "    </tr>\n",
       "    <tr>\n",
       "      <th>996</th>\n",
       "      <td>901-1000</td>\n",
       "      <td>Warsaw University of Technology</td>\n",
       "      <td>7-11</td>\n",
       "      <td>0.0</td>\n",
       "    </tr>\n",
       "    <tr>\n",
       "      <th>997</th>\n",
       "      <td>901-1000</td>\n",
       "      <td>Western Norway University of Applied Sciences</td>\n",
       "      <td>6-7</td>\n",
       "      <td>0.0</td>\n",
       "    </tr>\n",
       "    <tr>\n",
       "      <th>998</th>\n",
       "      <td>901-1000</td>\n",
       "      <td>Wroclaw University of Science and Technology</td>\n",
       "      <td>7-11</td>\n",
       "      <td>0.0</td>\n",
       "    </tr>\n",
       "    <tr>\n",
       "      <th>999</th>\n",
       "      <td>901-1000</td>\n",
       "      <td>Yantai University</td>\n",
       "      <td>148-163</td>\n",
       "      <td>0.0</td>\n",
       "    </tr>\n",
       "  </tbody>\n",
       "</table>\n",
       "<p>1000 rows × 4 columns</p>\n",
       "</div>"
      ],
      "text/plain": [
       "      Ranking                                University Name  \\\n",
       "0           1                             Harvard University   \n",
       "1           2                            Stanford University   \n",
       "2           3    Massachusetts Institute of Technology (MIT)   \n",
       "3           4                        University of Cambridge   \n",
       "4           5             University of California, Berkeley   \n",
       "..        ...                                            ...   \n",
       "995  901-1000                        University of Wuppertal   \n",
       "996  901-1000                Warsaw University of Technology   \n",
       "997  901-1000  Western Norway University of Applied Sciences   \n",
       "998  901-1000   Wroclaw University of Science and Technology   \n",
       "999  901-1000                              Yantai University   \n",
       "\n",
       "    National/Regional Rank  Total Score  \n",
       "0                        1        100.0  \n",
       "1                        2         76.8  \n",
       "2                        3         70.1  \n",
       "3                        1         69.6  \n",
       "4                        4         65.3  \n",
       "..                     ...          ...  \n",
       "995                  46-47          0.0  \n",
       "996                   7-11          0.0  \n",
       "997                    6-7          0.0  \n",
       "998                   7-11          0.0  \n",
       "999                148-163          0.0  \n",
       "\n",
       "[1000 rows x 4 columns]"
      ]
     },
     "execution_count": 197,
     "metadata": {},
     "output_type": "execute_result"
    }
   ],
   "source": [
    "shanghai_rank"
   ]
  },
  {
   "cell_type": "code",
   "execution_count": 198,
   "id": "32de64ad",
   "metadata": {},
   "outputs": [],
   "source": [
    "def clean_shan_rank(row):\n",
    "    # Check if the row contains an en dash\n",
    "    if '-' in row:\n",
    "        # Split the row by the en dash and return the first part as an integer\n",
    "        return int(row.split('-')[0])\n",
    "    else:\n",
    "        # If no en dash, return the row as an integer\n",
    "        return int(row)"
   ]
  },
  {
   "cell_type": "code",
   "execution_count": 199,
   "id": "f478e409",
   "metadata": {},
   "outputs": [],
   "source": [
    "# Apply the clean_shan_rank function to the 'Ranking' column\n",
    "shanghai_rank['Ranking'] = shanghai_rank['Ranking'].apply(clean_shan_rank)"
   ]
  },
  {
   "cell_type": "code",
   "execution_count": 206,
   "id": "63256317",
   "metadata": {},
   "outputs": [
    {
     "data": {
      "text/html": [
       "<div>\n",
       "<style scoped>\n",
       "    .dataframe tbody tr th:only-of-type {\n",
       "        vertical-align: middle;\n",
       "    }\n",
       "\n",
       "    .dataframe tbody tr th {\n",
       "        vertical-align: top;\n",
       "    }\n",
       "\n",
       "    .dataframe thead th {\n",
       "        text-align: right;\n",
       "    }\n",
       "</style>\n",
       "<table border=\"1\" class=\"dataframe\">\n",
       "  <thead>\n",
       "    <tr style=\"text-align: right;\">\n",
       "      <th></th>\n",
       "      <th>Ranking</th>\n",
       "      <th>University Name</th>\n",
       "      <th>National/Regional Rank</th>\n",
       "      <th>Total Score</th>\n",
       "    </tr>\n",
       "  </thead>\n",
       "  <tbody>\n",
       "    <tr>\n",
       "      <th>597</th>\n",
       "      <td>501</td>\n",
       "      <td>Yeungnam University</td>\n",
       "      <td>12-15</td>\n",
       "      <td>0.0</td>\n",
       "    </tr>\n",
       "    <tr>\n",
       "      <th>202</th>\n",
       "      <td>201</td>\n",
       "      <td>Beijing Normal University</td>\n",
       "      <td>27-40</td>\n",
       "      <td>15.1</td>\n",
       "    </tr>\n",
       "    <tr>\n",
       "      <th>561</th>\n",
       "      <td>501</td>\n",
       "      <td>University of Clermont Auvergne</td>\n",
       "      <td>17-19</td>\n",
       "      <td>0.0</td>\n",
       "    </tr>\n",
       "    <tr>\n",
       "      <th>444</th>\n",
       "      <td>401</td>\n",
       "      <td>Stellenbosch University</td>\n",
       "      <td>3-5</td>\n",
       "      <td>0.0</td>\n",
       "    </tr>\n",
       "    <tr>\n",
       "      <th>66</th>\n",
       "      <td>67</td>\n",
       "      <td>Fudan University</td>\n",
       "      <td>6</td>\n",
       "      <td>30.0</td>\n",
       "    </tr>\n",
       "  </tbody>\n",
       "</table>\n",
       "</div>"
      ],
      "text/plain": [
       "     Ranking                  University Name National/Regional Rank  \\\n",
       "597      501              Yeungnam University                  12-15   \n",
       "202      201        Beijing Normal University                  27-40   \n",
       "561      501  University of Clermont Auvergne                  17-19   \n",
       "444      401          Stellenbosch University                    3-5   \n",
       "66        67                 Fudan University                      6   \n",
       "\n",
       "     Total Score  \n",
       "597          0.0  \n",
       "202         15.1  \n",
       "561          0.0  \n",
       "444          0.0  \n",
       "66          30.0  "
      ]
     },
     "execution_count": 206,
     "metadata": {},
     "output_type": "execute_result"
    }
   ],
   "source": [
    "shanghai_rank.sample(5) # Check the results"
   ]
  },
  {
   "cell_type": "code",
   "execution_count": 213,
   "id": "ef29391c",
   "metadata": {},
   "outputs": [],
   "source": [
    "# Take the mean of r1 and r2 for 'National/Regional Rank' column with values in format 'r1-r2'\n",
    "def clean_nat_reg_rank(row):\n",
    "    if '-' in row:  # This is an en dash\n",
    "        return int(np.mean([int(i) for i in row.split('-')])) # Split by en dash and take the mean\n",
    "    else:\n",
    "        return int(row)"
   ]
  },
  {
   "cell_type": "code",
   "execution_count": 215,
   "id": "31e2b723",
   "metadata": {},
   "outputs": [],
   "source": [
    "# Apply the clean_nat_reg_rank function to the 'National/Regional Rank' column\n",
    "shanghai_rank['National/Regional Rank'] = shanghai_rank['National/Regional Rank'].apply(clean_nat_reg_rank)"
   ]
  },
  {
   "cell_type": "code",
   "execution_count": 217,
   "id": "3fbb43a9",
   "metadata": {},
   "outputs": [],
   "source": [
    "# save the cleaned dataframe to an Excel file\n",
    "shanghai_rank.to_excel('shanghai_rank_cleaned.xlsx', index=False)"
   ]
  },
  {
   "cell_type": "code",
   "execution_count": 216,
   "id": "c5947dfc",
   "metadata": {},
   "outputs": [
    {
     "data": {
      "text/html": [
       "<div>\n",
       "<style scoped>\n",
       "    .dataframe tbody tr th:only-of-type {\n",
       "        vertical-align: middle;\n",
       "    }\n",
       "\n",
       "    .dataframe tbody tr th {\n",
       "        vertical-align: top;\n",
       "    }\n",
       "\n",
       "    .dataframe thead th {\n",
       "        text-align: right;\n",
       "    }\n",
       "</style>\n",
       "<table border=\"1\" class=\"dataframe\">\n",
       "  <thead>\n",
       "    <tr style=\"text-align: right;\">\n",
       "      <th></th>\n",
       "      <th>Ranking</th>\n",
       "      <th>University Name</th>\n",
       "      <th>National/Regional Rank</th>\n",
       "      <th>Total Score</th>\n",
       "    </tr>\n",
       "  </thead>\n",
       "  <tbody>\n",
       "    <tr>\n",
       "      <th>287</th>\n",
       "      <td>201</td>\n",
       "      <td>University of Technology Sydney</td>\n",
       "      <td>13</td>\n",
       "      <td>0.0</td>\n",
       "    </tr>\n",
       "    <tr>\n",
       "      <th>82</th>\n",
       "      <td>83</td>\n",
       "      <td>Purdue University - West Lafayette</td>\n",
       "      <td>37</td>\n",
       "      <td>27.2</td>\n",
       "    </tr>\n",
       "    <tr>\n",
       "      <th>771</th>\n",
       "      <td>701</td>\n",
       "      <td>University of Hull</td>\n",
       "      <td>51</td>\n",
       "      <td>14.1</td>\n",
       "    </tr>\n",
       "    <tr>\n",
       "      <th>714</th>\n",
       "      <td>701</td>\n",
       "      <td>Comenius University in Bratislava</td>\n",
       "      <td>1</td>\n",
       "      <td>0.0</td>\n",
       "    </tr>\n",
       "    <tr>\n",
       "      <th>644</th>\n",
       "      <td>601</td>\n",
       "      <td>Naval Medical University</td>\n",
       "      <td>104</td>\n",
       "      <td>0.0</td>\n",
       "    </tr>\n",
       "  </tbody>\n",
       "</table>\n",
       "</div>"
      ],
      "text/plain": [
       "     Ranking                     University Name  National/Regional Rank  \\\n",
       "287      201     University of Technology Sydney                      13   \n",
       "82        83  Purdue University - West Lafayette                      37   \n",
       "771      701                  University of Hull                      51   \n",
       "714      701   Comenius University in Bratislava                       1   \n",
       "644      601            Naval Medical University                     104   \n",
       "\n",
       "     Total Score  \n",
       "287          0.0  \n",
       "82          27.2  \n",
       "771         14.1  \n",
       "714          0.0  \n",
       "644          0.0  "
      ]
     },
     "execution_count": 216,
     "metadata": {},
     "output_type": "execute_result"
    }
   ],
   "source": [
    "shanghai_rank.sample(5) # Check the results"
   ]
  },
  {
   "cell_type": "code",
   "execution_count": 205,
   "id": "68f4d59f",
   "metadata": {},
   "outputs": [
    {
     "name": "stdout",
     "output_type": "stream",
     "text": [
      "<class 'pandas.core.frame.DataFrame'>\n",
      "RangeIndex: 1000 entries, 0 to 999\n",
      "Data columns (total 4 columns):\n",
      " #   Column                  Non-Null Count  Dtype  \n",
      "---  ------                  --------------  -----  \n",
      " 0   Ranking                 1000 non-null   int64  \n",
      " 1   University Name         1000 non-null   object \n",
      " 2   National/Regional Rank  1000 non-null   object \n",
      " 3   Total Score             1000 non-null   float64\n",
      "dtypes: float64(1), int64(1), object(2)\n",
      "memory usage: 31.4+ KB\n"
     ]
    }
   ],
   "source": [
    "shanghai_rank.info()"
   ]
  },
  {
   "cell_type": "markdown",
   "id": "03654ff5",
   "metadata": {},
   "source": [
    "#### Times Higher Rank"
   ]
  },
  {
   "cell_type": "code",
   "execution_count": 218,
   "id": "39b2cffd",
   "metadata": {},
   "outputs": [
    {
     "name": "stdout",
     "output_type": "stream",
     "text": [
      "Times Higher Ranking columns types:-\n",
      "Rank                          object\n",
      "University Name               object\n",
      "Location                      object\n",
      "sdg-score-multi__number      float64\n",
      "sdg-score-multi__value        object\n",
      "sdg-score-multi__number 2    float64\n",
      "sdg-score-multi__value 2      object\n",
      "sdg-score-multi__number 3    float64\n",
      "sdg-score-multi__value 3      object\n",
      "sdg-score-multi__value 4      object\n",
      "scores                        object\n",
      "sdg-score-multi__number 5    float64\n",
      "sdg-score-multi__value 5      object\n",
      "sdg-score-multi__number 6    float64\n",
      "sdg-score-multi__value 6      object\n",
      "sdg-score-multi__number 7    float64\n",
      "sdg-score-multi__value 7      object\n",
      "sdg-score-multi__number 8    float64\n",
      "sdg-score-multi__value 8      object\n",
      "dtype: object\n"
     ]
    }
   ],
   "source": [
    "print(\"Times Higher Ranking columns types:-\")\n",
    "print(times_h.dtypes)"
   ]
  },
  {
   "cell_type": "code",
   "execution_count": 219,
   "id": "3fb4f353",
   "metadata": {},
   "outputs": [
    {
     "data": {
      "text/html": [
       "<div>\n",
       "<style scoped>\n",
       "    .dataframe tbody tr th:only-of-type {\n",
       "        vertical-align: middle;\n",
       "    }\n",
       "\n",
       "    .dataframe tbody tr th {\n",
       "        vertical-align: top;\n",
       "    }\n",
       "\n",
       "    .dataframe thead th {\n",
       "        text-align: right;\n",
       "    }\n",
       "</style>\n",
       "<table border=\"1\" class=\"dataframe\">\n",
       "  <thead>\n",
       "    <tr style=\"text-align: right;\">\n",
       "      <th></th>\n",
       "      <th>Rank</th>\n",
       "      <th>University Name</th>\n",
       "      <th>Location</th>\n",
       "      <th>sdg-score-multi__number</th>\n",
       "      <th>sdg-score-multi__value</th>\n",
       "      <th>sdg-score-multi__number 2</th>\n",
       "      <th>sdg-score-multi__value 2</th>\n",
       "      <th>sdg-score-multi__number 3</th>\n",
       "      <th>sdg-score-multi__value 3</th>\n",
       "      <th>sdg-score-multi__value 4</th>\n",
       "      <th>scores</th>\n",
       "      <th>sdg-score-multi__number 5</th>\n",
       "      <th>sdg-score-multi__value 5</th>\n",
       "      <th>sdg-score-multi__number 6</th>\n",
       "      <th>sdg-score-multi__value 6</th>\n",
       "      <th>sdg-score-multi__number 7</th>\n",
       "      <th>sdg-score-multi__value 7</th>\n",
       "      <th>sdg-score-multi__number 8</th>\n",
       "      <th>sdg-score-multi__value 8</th>\n",
       "    </tr>\n",
       "  </thead>\n",
       "  <tbody>\n",
       "    <tr>\n",
       "      <th>0</th>\n",
       "      <td>1</td>\n",
       "      <td>Western Sydney University</td>\n",
       "      <td>Australia</td>\n",
       "      <td>5.0</td>\n",
       "      <td>80.3</td>\n",
       "      <td>12.0</td>\n",
       "      <td>93.4</td>\n",
       "      <td>15.0</td>\n",
       "      <td>96.7</td>\n",
       "      <td>98.8</td>\n",
       "      <td>99.4</td>\n",
       "      <td>NaN</td>\n",
       "      <td>NaN</td>\n",
       "      <td>NaN</td>\n",
       "      <td>NaN</td>\n",
       "      <td>NaN</td>\n",
       "      <td>NaN</td>\n",
       "      <td>NaN</td>\n",
       "      <td>NaN</td>\n",
       "    </tr>\n",
       "    <tr>\n",
       "      <th>1</th>\n",
       "      <td>2</td>\n",
       "      <td>University of Manchester</td>\n",
       "      <td>United Kingdom</td>\n",
       "      <td>15.0</td>\n",
       "      <td>97.4</td>\n",
       "      <td>12.0</td>\n",
       "      <td>92.9</td>\n",
       "      <td>11.0</td>\n",
       "      <td>92.2</td>\n",
       "      <td>94.8</td>\n",
       "      <td>97.5</td>\n",
       "      <td>NaN</td>\n",
       "      <td>NaN</td>\n",
       "      <td>NaN</td>\n",
       "      <td>NaN</td>\n",
       "      <td>NaN</td>\n",
       "      <td>NaN</td>\n",
       "      <td>NaN</td>\n",
       "      <td>NaN</td>\n",
       "    </tr>\n",
       "    <tr>\n",
       "      <th>2</th>\n",
       "      <td>3</td>\n",
       "      <td>Queen’s University</td>\n",
       "      <td>Canada</td>\n",
       "      <td>2.0</td>\n",
       "      <td>90.6</td>\n",
       "      <td>16.0</td>\n",
       "      <td>93.4</td>\n",
       "      <td>11.0</td>\n",
       "      <td>91.0</td>\n",
       "      <td>92.6</td>\n",
       "      <td>97.2</td>\n",
       "      <td>NaN</td>\n",
       "      <td>NaN</td>\n",
       "      <td>NaN</td>\n",
       "      <td>NaN</td>\n",
       "      <td>NaN</td>\n",
       "      <td>NaN</td>\n",
       "      <td>NaN</td>\n",
       "      <td>NaN</td>\n",
       "    </tr>\n",
       "    <tr>\n",
       "      <th>3</th>\n",
       "      <td>4</td>\n",
       "      <td>Universiti Sains Malaysia</td>\n",
       "      <td>Malaysia</td>\n",
       "      <td>16.0</td>\n",
       "      <td>94.1</td>\n",
       "      <td>2.0</td>\n",
       "      <td>86.4</td>\n",
       "      <td>1.0</td>\n",
       "      <td>84.9</td>\n",
       "      <td>97.8</td>\n",
       "      <td>96.9</td>\n",
       "      <td>NaN</td>\n",
       "      <td>NaN</td>\n",
       "      <td>NaN</td>\n",
       "      <td>NaN</td>\n",
       "      <td>NaN</td>\n",
       "      <td>NaN</td>\n",
       "      <td>NaN</td>\n",
       "      <td>NaN</td>\n",
       "    </tr>\n",
       "    <tr>\n",
       "      <th>4</th>\n",
       "      <td>5</td>\n",
       "      <td>University of Tasmania</td>\n",
       "      <td>Australia</td>\n",
       "      <td>13.0</td>\n",
       "      <td>92.8</td>\n",
       "      <td>15.0</td>\n",
       "      <td>96.2</td>\n",
       "      <td>14.0</td>\n",
       "      <td>95.1</td>\n",
       "      <td>96.3</td>\n",
       "      <td>96.6</td>\n",
       "      <td>NaN</td>\n",
       "      <td>NaN</td>\n",
       "      <td>NaN</td>\n",
       "      <td>NaN</td>\n",
       "      <td>NaN</td>\n",
       "      <td>NaN</td>\n",
       "      <td>NaN</td>\n",
       "      <td>NaN</td>\n",
       "    </tr>\n",
       "    <tr>\n",
       "      <th>...</th>\n",
       "      <td>...</td>\n",
       "      <td>...</td>\n",
       "      <td>...</td>\n",
       "      <td>...</td>\n",
       "      <td>...</td>\n",
       "      <td>...</td>\n",
       "      <td>...</td>\n",
       "      <td>...</td>\n",
       "      <td>...</td>\n",
       "      <td>...</td>\n",
       "      <td>...</td>\n",
       "      <td>...</td>\n",
       "      <td>...</td>\n",
       "      <td>...</td>\n",
       "      <td>...</td>\n",
       "      <td>...</td>\n",
       "      <td>...</td>\n",
       "      <td>...</td>\n",
       "      <td>...</td>\n",
       "    </tr>\n",
       "    <tr>\n",
       "      <th>1586</th>\n",
       "      <td>1001+</td>\n",
       "      <td>Zarqa University</td>\n",
       "      <td>Jordan</td>\n",
       "      <td>NaN</td>\n",
       "      <td>NaN</td>\n",
       "      <td>NaN</td>\n",
       "      <td>NaN</td>\n",
       "      <td>1.0</td>\n",
       "      <td>23.3–38.1</td>\n",
       "      <td>1.5–45.2</td>\n",
       "      <td>7.9–53.8</td>\n",
       "      <td>NaN</td>\n",
       "      <td>NaN</td>\n",
       "      <td>4.0</td>\n",
       "      <td>43.6–50.9</td>\n",
       "      <td>3.0</td>\n",
       "      <td>32.1–44.6</td>\n",
       "      <td>NaN</td>\n",
       "      <td>NaN</td>\n",
       "    </tr>\n",
       "    <tr>\n",
       "      <th>1587</th>\n",
       "      <td>1001+</td>\n",
       "      <td>Zewail City of Science and Technology</td>\n",
       "      <td>Egypt</td>\n",
       "      <td>3.0</td>\n",
       "      <td>44.7–54.5</td>\n",
       "      <td>7.0</td>\n",
       "      <td>11.1–38.6</td>\n",
       "      <td>NaN</td>\n",
       "      <td>NaN</td>\n",
       "      <td>45.3–53.3</td>\n",
       "      <td>7.9–53.8</td>\n",
       "      <td>1.0</td>\n",
       "      <td>54.5–60.1</td>\n",
       "      <td>NaN</td>\n",
       "      <td>NaN</td>\n",
       "      <td>NaN</td>\n",
       "      <td>NaN</td>\n",
       "      <td>NaN</td>\n",
       "      <td>NaN</td>\n",
       "    </tr>\n",
       "    <tr>\n",
       "      <th>1588</th>\n",
       "      <td>1001+</td>\n",
       "      <td>Zhytomyr Ivan Franko State University</td>\n",
       "      <td>Ukraine</td>\n",
       "      <td>NaN</td>\n",
       "      <td>NaN</td>\n",
       "      <td>10.0</td>\n",
       "      <td>3.9–25.5</td>\n",
       "      <td>NaN</td>\n",
       "      <td>NaN</td>\n",
       "      <td>1.5–45.2</td>\n",
       "      <td>7.9–53.8</td>\n",
       "      <td>NaN</td>\n",
       "      <td>NaN</td>\n",
       "      <td>8.0</td>\n",
       "      <td>35.7–48.3</td>\n",
       "      <td>5.0</td>\n",
       "      <td>43.7–51.5</td>\n",
       "      <td>NaN</td>\n",
       "      <td>NaN</td>\n",
       "    </tr>\n",
       "    <tr>\n",
       "      <th>1589</th>\n",
       "      <td>1001+</td>\n",
       "      <td>University of Žilina</td>\n",
       "      <td>Slovakia</td>\n",
       "      <td>11.0</td>\n",
       "      <td>20.9–38.4</td>\n",
       "      <td>NaN</td>\n",
       "      <td>NaN</td>\n",
       "      <td>NaN</td>\n",
       "      <td>NaN</td>\n",
       "      <td>1.5–45.2</td>\n",
       "      <td>7.9–53.8</td>\n",
       "      <td>NaN</td>\n",
       "      <td>NaN</td>\n",
       "      <td>9.0</td>\n",
       "      <td>17.2–33.8</td>\n",
       "      <td>NaN</td>\n",
       "      <td>NaN</td>\n",
       "      <td>4.0</td>\n",
       "      <td>2.8–35.7</td>\n",
       "    </tr>\n",
       "    <tr>\n",
       "      <th>1590</th>\n",
       "      <td>1001+</td>\n",
       "      <td>Zonguldak Bülent Ecevit University</td>\n",
       "      <td>Turkey</td>\n",
       "      <td>12.0</td>\n",
       "      <td>49.4–58.6</td>\n",
       "      <td>NaN</td>\n",
       "      <td>NaN</td>\n",
       "      <td>NaN</td>\n",
       "      <td>NaN</td>\n",
       "      <td>1.5–45.2</td>\n",
       "      <td>7.9–53.8</td>\n",
       "      <td>NaN</td>\n",
       "      <td>NaN</td>\n",
       "      <td>7.0</td>\n",
       "      <td>51.9–56.1</td>\n",
       "      <td>3.0</td>\n",
       "      <td>54.7–63.8</td>\n",
       "      <td>NaN</td>\n",
       "      <td>NaN</td>\n",
       "    </tr>\n",
       "  </tbody>\n",
       "</table>\n",
       "<p>1591 rows × 19 columns</p>\n",
       "</div>"
      ],
      "text/plain": [
       "       Rank                       University Name         Location  \\\n",
       "0         1              Western Sydney University       Australia   \n",
       "1         2               University of Manchester  United Kingdom   \n",
       "2         3                     Queen’s University          Canada   \n",
       "3         4              Universiti Sains Malaysia        Malaysia   \n",
       "4         5                 University of Tasmania       Australia   \n",
       "...     ...                                    ...             ...   \n",
       "1586  1001+                       Zarqa University          Jordan   \n",
       "1587  1001+  Zewail City of Science and Technology           Egypt   \n",
       "1588  1001+  Zhytomyr Ivan Franko State University         Ukraine   \n",
       "1589  1001+                   University of Žilina        Slovakia   \n",
       "1590  1001+     Zonguldak Bülent Ecevit University          Turkey   \n",
       "\n",
       "      sdg-score-multi__number sdg-score-multi__value  \\\n",
       "0                         5.0                   80.3   \n",
       "1                        15.0                   97.4   \n",
       "2                         2.0                   90.6   \n",
       "3                        16.0                   94.1   \n",
       "4                        13.0                   92.8   \n",
       "...                       ...                    ...   \n",
       "1586                      NaN                    NaN   \n",
       "1587                      3.0              44.7–54.5   \n",
       "1588                      NaN                    NaN   \n",
       "1589                     11.0              20.9–38.4   \n",
       "1590                     12.0              49.4–58.6   \n",
       "\n",
       "      sdg-score-multi__number 2 sdg-score-multi__value 2  \\\n",
       "0                          12.0                     93.4   \n",
       "1                          12.0                     92.9   \n",
       "2                          16.0                     93.4   \n",
       "3                           2.0                     86.4   \n",
       "4                          15.0                     96.2   \n",
       "...                         ...                      ...   \n",
       "1586                        NaN                      NaN   \n",
       "1587                        7.0                11.1–38.6   \n",
       "1588                       10.0                 3.9–25.5   \n",
       "1589                        NaN                      NaN   \n",
       "1590                        NaN                      NaN   \n",
       "\n",
       "      sdg-score-multi__number 3 sdg-score-multi__value 3  \\\n",
       "0                          15.0                     96.7   \n",
       "1                          11.0                     92.2   \n",
       "2                          11.0                     91.0   \n",
       "3                           1.0                     84.9   \n",
       "4                          14.0                     95.1   \n",
       "...                         ...                      ...   \n",
       "1586                        1.0                23.3–38.1   \n",
       "1587                        NaN                      NaN   \n",
       "1588                        NaN                      NaN   \n",
       "1589                        NaN                      NaN   \n",
       "1590                        NaN                      NaN   \n",
       "\n",
       "     sdg-score-multi__value 4    scores  sdg-score-multi__number 5  \\\n",
       "0                        98.8      99.4                        NaN   \n",
       "1                        94.8      97.5                        NaN   \n",
       "2                        92.6      97.2                        NaN   \n",
       "3                        97.8      96.9                        NaN   \n",
       "4                        96.3      96.6                        NaN   \n",
       "...                       ...       ...                        ...   \n",
       "1586                 1.5–45.2  7.9–53.8                        NaN   \n",
       "1587                45.3–53.3  7.9–53.8                        1.0   \n",
       "1588                 1.5–45.2  7.9–53.8                        NaN   \n",
       "1589                 1.5–45.2  7.9–53.8                        NaN   \n",
       "1590                 1.5–45.2  7.9–53.8                        NaN   \n",
       "\n",
       "     sdg-score-multi__value 5  sdg-score-multi__number 6  \\\n",
       "0                         NaN                        NaN   \n",
       "1                         NaN                        NaN   \n",
       "2                         NaN                        NaN   \n",
       "3                         NaN                        NaN   \n",
       "4                         NaN                        NaN   \n",
       "...                       ...                        ...   \n",
       "1586                      NaN                        4.0   \n",
       "1587                54.5–60.1                        NaN   \n",
       "1588                      NaN                        8.0   \n",
       "1589                      NaN                        9.0   \n",
       "1590                      NaN                        7.0   \n",
       "\n",
       "     sdg-score-multi__value 6  sdg-score-multi__number 7  \\\n",
       "0                         NaN                        NaN   \n",
       "1                         NaN                        NaN   \n",
       "2                         NaN                        NaN   \n",
       "3                         NaN                        NaN   \n",
       "4                         NaN                        NaN   \n",
       "...                       ...                        ...   \n",
       "1586                43.6–50.9                        3.0   \n",
       "1587                      NaN                        NaN   \n",
       "1588                35.7–48.3                        5.0   \n",
       "1589                17.2–33.8                        NaN   \n",
       "1590                51.9–56.1                        3.0   \n",
       "\n",
       "     sdg-score-multi__value 7  sdg-score-multi__number 8  \\\n",
       "0                         NaN                        NaN   \n",
       "1                         NaN                        NaN   \n",
       "2                         NaN                        NaN   \n",
       "3                         NaN                        NaN   \n",
       "4                         NaN                        NaN   \n",
       "...                       ...                        ...   \n",
       "1586                32.1–44.6                        NaN   \n",
       "1587                      NaN                        NaN   \n",
       "1588                43.7–51.5                        NaN   \n",
       "1589                      NaN                        4.0   \n",
       "1590                54.7–63.8                        NaN   \n",
       "\n",
       "     sdg-score-multi__value 8  \n",
       "0                         NaN  \n",
       "1                         NaN  \n",
       "2                         NaN  \n",
       "3                         NaN  \n",
       "4                         NaN  \n",
       "...                       ...  \n",
       "1586                      NaN  \n",
       "1587                      NaN  \n",
       "1588                      NaN  \n",
       "1589                 2.8–35.7  \n",
       "1590                      NaN  \n",
       "\n",
       "[1591 rows x 19 columns]"
      ]
     },
     "execution_count": 219,
     "metadata": {},
     "output_type": "execute_result"
    }
   ],
   "source": [
    "times_h"
   ]
  },
  {
   "cell_type": "code",
   "execution_count": 220,
   "id": "496ef9cc",
   "metadata": {},
   "outputs": [],
   "source": [
    "def fill_missing_values(row):\n",
    "    # Locate the index of the 'scores' column\n",
    "    score_idx = row.index.get_loc('scores')\n",
    "    \n",
    "    # Split the row into columns before and after the 'scores' column\n",
    "    cols_after_score = row[score_idx+1:]  # Columns after 'scores'\n",
    "    cols_before_score = row[3:score_idx]  # Columns before 'scores'\n",
    "    \n",
    "    # Iterate over columns before 'scores'\n",
    "    for col in cols_before_score.index:\n",
    "        if pd.isna(row[col]):  # If the value is NaN\n",
    "            # Iterate over columns after 'scores' to find the first non-NaN value\n",
    "            for after_value in cols_after_score:\n",
    "                if not pd.isna(after_value):  # Find the first non-NaN value\n",
    "                    row[col] = after_value  # Assign it to the NaN position\n",
    "                    cols_after_score[cols_after_score == after_value] = np.nan  # Remove the value from after\n",
    "                    break  # Stop after filling the first empty cell\n",
    "    \n",
    "    return row"
   ]
  },
  {
   "cell_type": "code",
   "execution_count": 222,
   "id": "31ab3c61",
   "metadata": {},
   "outputs": [],
   "source": [
    "# Assign the times_h DataFrame to times_h_test for further processing\n",
    "times_h_test = times_h\n",
    "\n",
    "# Apply the fill_missing_values function to each row of the times_h_test DataFrame\n",
    "times_h_test = times_h.apply(fill_missing_values, axis=1)"
   ]
  },
  {
   "cell_type": "code",
   "execution_count": 223,
   "id": "a75006b0",
   "metadata": {},
   "outputs": [
    {
     "data": {
      "text/html": [
       "<div>\n",
       "<style scoped>\n",
       "    .dataframe tbody tr th:only-of-type {\n",
       "        vertical-align: middle;\n",
       "    }\n",
       "\n",
       "    .dataframe tbody tr th {\n",
       "        vertical-align: top;\n",
       "    }\n",
       "\n",
       "    .dataframe thead th {\n",
       "        text-align: right;\n",
       "    }\n",
       "</style>\n",
       "<table border=\"1\" class=\"dataframe\">\n",
       "  <thead>\n",
       "    <tr style=\"text-align: right;\">\n",
       "      <th></th>\n",
       "      <th>Rank</th>\n",
       "      <th>University Name</th>\n",
       "      <th>Location</th>\n",
       "      <th>sdg-score-multi__number</th>\n",
       "      <th>sdg-score-multi__value</th>\n",
       "      <th>sdg-score-multi__number 2</th>\n",
       "      <th>sdg-score-multi__value 2</th>\n",
       "      <th>sdg-score-multi__number 3</th>\n",
       "      <th>sdg-score-multi__value 3</th>\n",
       "      <th>sdg-score-multi__value 4</th>\n",
       "      <th>scores</th>\n",
       "      <th>sdg-score-multi__number 5</th>\n",
       "      <th>sdg-score-multi__value 5</th>\n",
       "      <th>sdg-score-multi__number 6</th>\n",
       "      <th>sdg-score-multi__value 6</th>\n",
       "      <th>sdg-score-multi__number 7</th>\n",
       "      <th>sdg-score-multi__value 7</th>\n",
       "      <th>sdg-score-multi__number 8</th>\n",
       "      <th>sdg-score-multi__value 8</th>\n",
       "    </tr>\n",
       "  </thead>\n",
       "  <tbody>\n",
       "    <tr>\n",
       "      <th>89</th>\n",
       "      <td>=86</td>\n",
       "      <td>Simon Fraser University</td>\n",
       "      <td>Canada</td>\n",
       "      <td>11.0</td>\n",
       "      <td>93.4</td>\n",
       "      <td>13.0</td>\n",
       "      <td>86.0</td>\n",
       "      <td>16.0</td>\n",
       "      <td>86.5</td>\n",
       "      <td>91.3</td>\n",
       "      <td>89.2</td>\n",
       "      <td>NaN</td>\n",
       "      <td>NaN</td>\n",
       "      <td>NaN</td>\n",
       "      <td>NaN</td>\n",
       "      <td>NaN</td>\n",
       "      <td>NaN</td>\n",
       "      <td>NaN</td>\n",
       "      <td>NaN</td>\n",
       "    </tr>\n",
       "    <tr>\n",
       "      <th>1418</th>\n",
       "      <td>1001+</td>\n",
       "      <td>Recep Tayyip Erdoğan University</td>\n",
       "      <td>Turkey</td>\n",
       "      <td>3.0</td>\n",
       "      <td>44.7–54.5</td>\n",
       "      <td>4.0</td>\n",
       "      <td>43.6–50.9</td>\n",
       "      <td>NaN</td>\n",
       "      <td>NaN</td>\n",
       "      <td>1.5–45.2</td>\n",
       "      <td>7.9–53.8</td>\n",
       "      <td>NaN</td>\n",
       "      <td>NaN</td>\n",
       "      <td>NaN</td>\n",
       "      <td>NaN</td>\n",
       "      <td>NaN</td>\n",
       "      <td>NaN</td>\n",
       "      <td>NaN</td>\n",
       "      <td>NaN</td>\n",
       "    </tr>\n",
       "    <tr>\n",
       "      <th>621</th>\n",
       "      <td>601–800</td>\n",
       "      <td>Bansomdejchaopraya Rajabhat University</td>\n",
       "      <td>Thailand</td>\n",
       "      <td>3.0</td>\n",
       "      <td>44.7–54.5</td>\n",
       "      <td>1.0</td>\n",
       "      <td>54.5–60.1</td>\n",
       "      <td>NaN</td>\n",
       "      <td>NaN</td>\n",
       "      <td>75.6–81.7</td>\n",
       "      <td>59.7–66.7</td>\n",
       "      <td>NaN</td>\n",
       "      <td>NaN</td>\n",
       "      <td>NaN</td>\n",
       "      <td>NaN</td>\n",
       "      <td>NaN</td>\n",
       "      <td>NaN</td>\n",
       "      <td>NaN</td>\n",
       "      <td>NaN</td>\n",
       "    </tr>\n",
       "    <tr>\n",
       "      <th>1119</th>\n",
       "      <td>1001+</td>\n",
       "      <td>Chiba University of Commerce</td>\n",
       "      <td>Japan</td>\n",
       "      <td>4.0</td>\n",
       "      <td>2.8–35.7</td>\n",
       "      <td>13.0</td>\n",
       "      <td>70.3</td>\n",
       "      <td>11.0</td>\n",
       "      <td>38.5–52.3</td>\n",
       "      <td>45.3–53.3</td>\n",
       "      <td>7.9–53.8</td>\n",
       "      <td>NaN</td>\n",
       "      <td>NaN</td>\n",
       "      <td>NaN</td>\n",
       "      <td>NaN</td>\n",
       "      <td>NaN</td>\n",
       "      <td>NaN</td>\n",
       "      <td>NaN</td>\n",
       "      <td>NaN</td>\n",
       "    </tr>\n",
       "    <tr>\n",
       "      <th>1221</th>\n",
       "      <td>1001+</td>\n",
       "      <td>Universitas Indo Global Mandiri</td>\n",
       "      <td>Indonesia</td>\n",
       "      <td>6.0</td>\n",
       "      <td>24.8–42.6</td>\n",
       "      <td>5.0</td>\n",
       "      <td>56.1–61.4</td>\n",
       "      <td>7.0</td>\n",
       "      <td>38.7–51.8</td>\n",
       "      <td>1.5–45.2</td>\n",
       "      <td>7.9–53.8</td>\n",
       "      <td>NaN</td>\n",
       "      <td>NaN</td>\n",
       "      <td>NaN</td>\n",
       "      <td>NaN</td>\n",
       "      <td>NaN</td>\n",
       "      <td>NaN</td>\n",
       "      <td>NaN</td>\n",
       "      <td>NaN</td>\n",
       "    </tr>\n",
       "  </tbody>\n",
       "</table>\n",
       "</div>"
      ],
      "text/plain": [
       "         Rank                        University Name    Location  \\\n",
       "89        =86                 Simon Fraser University     Canada   \n",
       "1418    1001+         Recep Tayyip Erdoğan University     Turkey   \n",
       "621   601–800  Bansomdejchaopraya Rajabhat University   Thailand   \n",
       "1119    1001+            Chiba University of Commerce      Japan   \n",
       "1221    1001+         Universitas Indo Global Mandiri  Indonesia   \n",
       "\n",
       "      sdg-score-multi__number sdg-score-multi__value  \\\n",
       "89                       11.0                   93.4   \n",
       "1418                      3.0              44.7–54.5   \n",
       "621                       3.0              44.7–54.5   \n",
       "1119                      4.0               2.8–35.7   \n",
       "1221                      6.0              24.8–42.6   \n",
       "\n",
       "      sdg-score-multi__number 2 sdg-score-multi__value 2  \\\n",
       "89                         13.0                     86.0   \n",
       "1418                        4.0                43.6–50.9   \n",
       "621                         1.0                54.5–60.1   \n",
       "1119                       13.0                     70.3   \n",
       "1221                        5.0                56.1–61.4   \n",
       "\n",
       "      sdg-score-multi__number 3 sdg-score-multi__value 3  \\\n",
       "89                         16.0                     86.5   \n",
       "1418                        NaN                      NaN   \n",
       "621                         NaN                      NaN   \n",
       "1119                       11.0                38.5–52.3   \n",
       "1221                        7.0                38.7–51.8   \n",
       "\n",
       "     sdg-score-multi__value 4     scores  sdg-score-multi__number 5  \\\n",
       "89                       91.3       89.2                        NaN   \n",
       "1418                 1.5–45.2   7.9–53.8                        NaN   \n",
       "621                 75.6–81.7  59.7–66.7                        NaN   \n",
       "1119                45.3–53.3   7.9–53.8                        NaN   \n",
       "1221                 1.5–45.2   7.9–53.8                        NaN   \n",
       "\n",
       "      sdg-score-multi__value 5  sdg-score-multi__number 6  \\\n",
       "89                         NaN                        NaN   \n",
       "1418                       NaN                        NaN   \n",
       "621                        NaN                        NaN   \n",
       "1119                       NaN                        NaN   \n",
       "1221                       NaN                        NaN   \n",
       "\n",
       "      sdg-score-multi__value 6  sdg-score-multi__number 7  \\\n",
       "89                         NaN                        NaN   \n",
       "1418                       NaN                        NaN   \n",
       "621                        NaN                        NaN   \n",
       "1119                       NaN                        NaN   \n",
       "1221                       NaN                        NaN   \n",
       "\n",
       "      sdg-score-multi__value 7  sdg-score-multi__number 8  \\\n",
       "89                         NaN                        NaN   \n",
       "1418                       NaN                        NaN   \n",
       "621                        NaN                        NaN   \n",
       "1119                       NaN                        NaN   \n",
       "1221                       NaN                        NaN   \n",
       "\n",
       "      sdg-score-multi__value 8  \n",
       "89                         NaN  \n",
       "1418                       NaN  \n",
       "621                        NaN  \n",
       "1119                       NaN  \n",
       "1221                       NaN  "
      ]
     },
     "execution_count": 223,
     "metadata": {},
     "output_type": "execute_result"
    }
   ],
   "source": [
    "times_h_test.sample(5)"
   ]
  },
  {
   "cell_type": "code",
   "execution_count": 224,
   "id": "5d1597f3",
   "metadata": {},
   "outputs": [
    {
     "data": {
      "text/plain": [
       "Rank                            0\n",
       "University Name                 0\n",
       "Location                       91\n",
       "sdg-score-multi__number       724\n",
       "sdg-score-multi__value        724\n",
       "sdg-score-multi__number 2     765\n",
       "sdg-score-multi__value 2      766\n",
       "sdg-score-multi__number 3     779\n",
       "sdg-score-multi__value 3      786\n",
       "sdg-score-multi__value 4        8\n",
       "scores                          0\n",
       "sdg-score-multi__number 5    1026\n",
       "sdg-score-multi__value 5     1034\n",
       "sdg-score-multi__number 6    1093\n",
       "sdg-score-multi__value 6     1095\n",
       "sdg-score-multi__number 7    1152\n",
       "sdg-score-multi__value 7     1152\n",
       "sdg-score-multi__number 8    1108\n",
       "sdg-score-multi__value 8     1108\n",
       "dtype: int64"
      ]
     },
     "execution_count": 224,
     "metadata": {},
     "output_type": "execute_result"
    }
   ],
   "source": [
    "times_h.isna().sum() # Display the count of missing values for each column"
   ]
  },
  {
   "cell_type": "code",
   "execution_count": 225,
   "id": "9dee7376",
   "metadata": {},
   "outputs": [
    {
     "data": {
      "text/plain": [
       "Rank                            0\n",
       "University Name                 0\n",
       "Location                       91\n",
       "sdg-score-multi__number        17\n",
       "sdg-score-multi__value         21\n",
       "sdg-score-multi__number 2      66\n",
       "sdg-score-multi__value 2       68\n",
       "sdg-score-multi__number 3     201\n",
       "sdg-score-multi__value 3      211\n",
       "sdg-score-multi__value 4        8\n",
       "scores                          0\n",
       "sdg-score-multi__number 5    1591\n",
       "sdg-score-multi__value 5     1591\n",
       "sdg-score-multi__number 6    1591\n",
       "sdg-score-multi__value 6     1591\n",
       "sdg-score-multi__number 7    1591\n",
       "sdg-score-multi__value 7     1591\n",
       "sdg-score-multi__number 8    1591\n",
       "sdg-score-multi__value 8     1591\n",
       "dtype: int64"
      ]
     },
     "execution_count": 225,
     "metadata": {},
     "output_type": "execute_result"
    }
   ],
   "source": [
    "times_h_test.isnull().sum() # Display the count of missing values for each column"
   ]
  },
  {
   "cell_type": "code",
   "execution_count": 226,
   "id": "0ad7cacb",
   "metadata": {},
   "outputs": [],
   "source": [
    "# New df to check the missing values and it has the wanted columns\n",
    "times_h_test = times_h_test[['Rank', 'University Name ', 'Location',\n",
    "       'sdg-score-multi__number', 'sdg-score-multi__value',\n",
    "       'sdg-score-multi__number 2', 'sdg-score-multi__value 2',\n",
    "       'sdg-score-multi__number 3', 'sdg-score-multi__value 3',\n",
    "       'sdg-score-multi__value 4', 'scores']]"
   ]
  },
  {
   "cell_type": "code",
   "execution_count": 227,
   "id": "a5f65b8c",
   "metadata": {},
   "outputs": [
    {
     "data": {
      "text/html": [
       "<div>\n",
       "<style scoped>\n",
       "    .dataframe tbody tr th:only-of-type {\n",
       "        vertical-align: middle;\n",
       "    }\n",
       "\n",
       "    .dataframe tbody tr th {\n",
       "        vertical-align: top;\n",
       "    }\n",
       "\n",
       "    .dataframe thead th {\n",
       "        text-align: right;\n",
       "    }\n",
       "</style>\n",
       "<table border=\"1\" class=\"dataframe\">\n",
       "  <thead>\n",
       "    <tr style=\"text-align: right;\">\n",
       "      <th></th>\n",
       "      <th>Rank</th>\n",
       "      <th>University Name</th>\n",
       "      <th>Location</th>\n",
       "      <th>sdg-score-multi__number</th>\n",
       "      <th>sdg-score-multi__value</th>\n",
       "      <th>sdg-score-multi__number 2</th>\n",
       "      <th>sdg-score-multi__value 2</th>\n",
       "      <th>sdg-score-multi__number 3</th>\n",
       "      <th>sdg-score-multi__value 3</th>\n",
       "      <th>sdg-score-multi__value 4</th>\n",
       "      <th>scores</th>\n",
       "    </tr>\n",
       "  </thead>\n",
       "  <tbody>\n",
       "    <tr>\n",
       "      <th>103</th>\n",
       "      <td>101–200</td>\n",
       "      <td>Ahlia University</td>\n",
       "      <td>Bahrain</td>\n",
       "      <td>10.0</td>\n",
       "      <td>86.4</td>\n",
       "      <td>8.0</td>\n",
       "      <td>73.3</td>\n",
       "      <td>NaN</td>\n",
       "      <td>NaN</td>\n",
       "      <td>81.9–86.9</td>\n",
       "      <td>82.2–88.2</td>\n",
       "    </tr>\n",
       "    <tr>\n",
       "      <th>221</th>\n",
       "      <td>201–300</td>\n",
       "      <td>University of Central Lancashire</td>\n",
       "      <td>United Kingdom</td>\n",
       "      <td>3.0</td>\n",
       "      <td>73.5–78.9</td>\n",
       "      <td>12.0</td>\n",
       "      <td>66.8–76.6</td>\n",
       "      <td>NaN</td>\n",
       "      <td>NaN</td>\n",
       "      <td>75.6–81.7</td>\n",
       "      <td>76.8–82.1</td>\n",
       "    </tr>\n",
       "    <tr>\n",
       "      <th>227</th>\n",
       "      <td>201–300</td>\n",
       "      <td>Cranfield University</td>\n",
       "      <td>United Kingdom</td>\n",
       "      <td>8.0</td>\n",
       "      <td>73.2</td>\n",
       "      <td>16.0</td>\n",
       "      <td>70.0–77.0</td>\n",
       "      <td>NaN</td>\n",
       "      <td>NaN</td>\n",
       "      <td>93.3</td>\n",
       "      <td>76.8–82.1</td>\n",
       "    </tr>\n",
       "    <tr>\n",
       "      <th>236</th>\n",
       "      <td>201–300</td>\n",
       "      <td>Frederick University</td>\n",
       "      <td>Cyprus</td>\n",
       "      <td>4.0</td>\n",
       "      <td>77.5</td>\n",
       "      <td>7.0</td>\n",
       "      <td>67.9</td>\n",
       "      <td>NaN</td>\n",
       "      <td>NaN</td>\n",
       "      <td>75.6–81.7</td>\n",
       "      <td>76.8–82.1</td>\n",
       "    </tr>\n",
       "    <tr>\n",
       "      <th>245</th>\n",
       "      <td>201–300</td>\n",
       "      <td>IMT Mines Alès</td>\n",
       "      <td>France</td>\n",
       "      <td>12.0</td>\n",
       "      <td>78.8</td>\n",
       "      <td>8.0</td>\n",
       "      <td>71.7</td>\n",
       "      <td>NaN</td>\n",
       "      <td>NaN</td>\n",
       "      <td>81.9–86.9</td>\n",
       "      <td>76.8–82.1</td>\n",
       "    </tr>\n",
       "    <tr>\n",
       "      <th>...</th>\n",
       "      <td>...</td>\n",
       "      <td>...</td>\n",
       "      <td>...</td>\n",
       "      <td>...</td>\n",
       "      <td>...</td>\n",
       "      <td>...</td>\n",
       "      <td>...</td>\n",
       "      <td>...</td>\n",
       "      <td>...</td>\n",
       "      <td>...</td>\n",
       "      <td>...</td>\n",
       "    </tr>\n",
       "    <tr>\n",
       "      <th>1570</th>\n",
       "      <td>1001+</td>\n",
       "      <td>West University of Timişoara</td>\n",
       "      <td>Romania</td>\n",
       "      <td>10.0</td>\n",
       "      <td>40.0–51.7</td>\n",
       "      <td>5.0</td>\n",
       "      <td>51.6–56.0</td>\n",
       "      <td>NaN</td>\n",
       "      <td>NaN</td>\n",
       "      <td>1.5–45.2</td>\n",
       "      <td>7.9–53.8</td>\n",
       "    </tr>\n",
       "    <tr>\n",
       "      <th>1571</th>\n",
       "      <td>1001+</td>\n",
       "      <td>West Ukrainian National University</td>\n",
       "      <td>Ukraine</td>\n",
       "      <td>10.0</td>\n",
       "      <td>51.8–57.5</td>\n",
       "      <td>NaN</td>\n",
       "      <td>NaN</td>\n",
       "      <td>8.0</td>\n",
       "      <td>62.4–66.3</td>\n",
       "      <td>1.5–45.2</td>\n",
       "      <td>7.9–53.8</td>\n",
       "    </tr>\n",
       "    <tr>\n",
       "      <th>1573</th>\n",
       "      <td>1001+</td>\n",
       "      <td>University of Wisconsin-Eau Claire</td>\n",
       "      <td>United States</td>\n",
       "      <td>3.0</td>\n",
       "      <td>54.7–63.8</td>\n",
       "      <td>10.0</td>\n",
       "      <td>65.2–73.3</td>\n",
       "      <td>NaN</td>\n",
       "      <td>NaN</td>\n",
       "      <td>1.5–45.2</td>\n",
       "      <td>7.9–53.8</td>\n",
       "    </tr>\n",
       "    <tr>\n",
       "      <th>1579</th>\n",
       "      <td>1001+</td>\n",
       "      <td>University of Wrocław</td>\n",
       "      <td>Poland</td>\n",
       "      <td>NaN</td>\n",
       "      <td>NaN</td>\n",
       "      <td>15.0</td>\n",
       "      <td>47.8–59.4</td>\n",
       "      <td>8.0</td>\n",
       "      <td>48.4–57.7</td>\n",
       "      <td>1.5–45.2</td>\n",
       "      <td>7.9–53.8</td>\n",
       "    </tr>\n",
       "    <tr>\n",
       "      <th>1582</th>\n",
       "      <td>1001+</td>\n",
       "      <td>Yanka Kupala State University of Grodno</td>\n",
       "      <td>NaN</td>\n",
       "      <td>10.0</td>\n",
       "      <td>40.0–51.7</td>\n",
       "      <td>16.0</td>\n",
       "      <td>20.9–38.4</td>\n",
       "      <td>11.0</td>\n",
       "      <td>NaN</td>\n",
       "      <td>45.3–53.3</td>\n",
       "      <td>7.9–53.8</td>\n",
       "    </tr>\n",
       "  </tbody>\n",
       "</table>\n",
       "<p>367 rows × 11 columns</p>\n",
       "</div>"
      ],
      "text/plain": [
       "         Rank                         University Name         Location  \\\n",
       "103   101–200                         Ahlia University         Bahrain   \n",
       "221   201–300         University of Central Lancashire  United Kingdom   \n",
       "227   201–300                     Cranfield University  United Kingdom   \n",
       "236   201–300                     Frederick University          Cyprus   \n",
       "245   201–300                           IMT Mines Alès          France   \n",
       "...       ...                                      ...             ...   \n",
       "1570    1001+             West University of Timişoara         Romania   \n",
       "1571    1001+       West Ukrainian National University         Ukraine   \n",
       "1573    1001+       University of Wisconsin-Eau Claire   United States   \n",
       "1579    1001+                    University of Wrocław          Poland   \n",
       "1582    1001+  Yanka Kupala State University of Grodno             NaN   \n",
       "\n",
       "      sdg-score-multi__number sdg-score-multi__value  \\\n",
       "103                      10.0                   86.4   \n",
       "221                       3.0              73.5–78.9   \n",
       "227                       8.0                   73.2   \n",
       "236                       4.0                   77.5   \n",
       "245                      12.0                   78.8   \n",
       "...                       ...                    ...   \n",
       "1570                     10.0              40.0–51.7   \n",
       "1571                     10.0              51.8–57.5   \n",
       "1573                      3.0              54.7–63.8   \n",
       "1579                      NaN                    NaN   \n",
       "1582                     10.0              40.0–51.7   \n",
       "\n",
       "      sdg-score-multi__number 2 sdg-score-multi__value 2  \\\n",
       "103                         8.0                     73.3   \n",
       "221                        12.0                66.8–76.6   \n",
       "227                        16.0                70.0–77.0   \n",
       "236                         7.0                     67.9   \n",
       "245                         8.0                     71.7   \n",
       "...                         ...                      ...   \n",
       "1570                        5.0                51.6–56.0   \n",
       "1571                        NaN                      NaN   \n",
       "1573                       10.0                65.2–73.3   \n",
       "1579                       15.0                47.8–59.4   \n",
       "1582                       16.0                20.9–38.4   \n",
       "\n",
       "      sdg-score-multi__number 3 sdg-score-multi__value 3  \\\n",
       "103                         NaN                      NaN   \n",
       "221                         NaN                      NaN   \n",
       "227                         NaN                      NaN   \n",
       "236                         NaN                      NaN   \n",
       "245                         NaN                      NaN   \n",
       "...                         ...                      ...   \n",
       "1570                        NaN                      NaN   \n",
       "1571                        8.0                62.4–66.3   \n",
       "1573                        NaN                      NaN   \n",
       "1579                        8.0                48.4–57.7   \n",
       "1582                       11.0                      NaN   \n",
       "\n",
       "     sdg-score-multi__value 4     scores  \n",
       "103                 81.9–86.9  82.2–88.2  \n",
       "221                 75.6–81.7  76.8–82.1  \n",
       "227                      93.3  76.8–82.1  \n",
       "236                 75.6–81.7  76.8–82.1  \n",
       "245                 81.9–86.9  76.8–82.1  \n",
       "...                       ...        ...  \n",
       "1570                 1.5–45.2   7.9–53.8  \n",
       "1571                 1.5–45.2   7.9–53.8  \n",
       "1573                 1.5–45.2   7.9–53.8  \n",
       "1579                 1.5–45.2   7.9–53.8  \n",
       "1582                45.3–53.3   7.9–53.8  \n",
       "\n",
       "[367 rows x 11 columns]"
      ]
     },
     "execution_count": 227,
     "metadata": {},
     "output_type": "execute_result"
    }
   ],
   "source": [
    "times_h_test[times_h_test.isnull().any(axis=1)] # Display rows with any missing values"
   ]
  },
  {
   "cell_type": "code",
   "execution_count": 228,
   "id": "5f14228b",
   "metadata": {},
   "outputs": [
    {
     "data": {
      "text/plain": [
       "Rank                           0\n",
       "University Name                0\n",
       "Location                      91\n",
       "sdg-score-multi__number       17\n",
       "sdg-score-multi__value        21\n",
       "sdg-score-multi__number 2     66\n",
       "sdg-score-multi__value 2      68\n",
       "sdg-score-multi__number 3    201\n",
       "sdg-score-multi__value 3     211\n",
       "sdg-score-multi__value 4       8\n",
       "scores                         0\n",
       "dtype: int64"
      ]
     },
     "execution_count": 228,
     "metadata": {},
     "output_type": "execute_result"
    }
   ],
   "source": [
    "times_h_test.isnull().sum() # Display the count of missing values for each column"
   ]
  },
  {
   "cell_type": "code",
   "execution_count": 234,
   "id": "fe5a7c1e",
   "metadata": {},
   "outputs": [],
   "source": [
    "# Clean the rank column\n",
    "# if the value is in format 'r1-r2' use the r1 value\n",
    "# if the value is 'r1+' use the r1 value\n",
    "# if the value is '=r1' use the r1 value\n",
    "# if the value is 'r1' use the r1 value\n",
    "\n",
    "def clean_rank(row):\n",
    "    if '–' in row:  # This is an en dash\n",
    "        return int(row.split('–')[0])  # Split by en dash\n",
    "    elif '+' in row:\n",
    "        return int(row.split('+')[0])\n",
    "    elif '=' in row:\n",
    "        return int(row.split('=')[1])\n",
    "    else:\n",
    "        return int(row)"
   ]
  },
  {
   "cell_type": "code",
   "execution_count": 235,
   "id": "0a16b296",
   "metadata": {},
   "outputs": [],
   "source": [
    "# Apply the clean_rank function to the 'Rank' column\n",
    "times_h_test['Rank'] = times_h_test['Rank'].apply(clean_rank)"
   ]
  },
  {
   "cell_type": "code",
   "execution_count": 239,
   "id": "d3aaf069",
   "metadata": {},
   "outputs": [],
   "source": [
    "# Clean the score column\n",
    "# if the score is in format 's1-s2' use the s2 value\n",
    "# if the score is 's1' use the s1 value\n",
    "\n",
    "def clean_score(row):\n",
    "    if '–' in row:  # This is an en dash\n",
    "        return float(row.split('–')[1])  # Split by en dash\n",
    "    else:\n",
    "        return float(row)"
   ]
  },
  {
   "cell_type": "code",
   "execution_count": 240,
   "id": "8fd93c31",
   "metadata": {},
   "outputs": [],
   "source": [
    "times_h_test['scores'] = times_h_test['scores'].apply(clean_score)"
   ]
  },
  {
   "cell_type": "code",
   "execution_count": 241,
   "id": "e9b568b2",
   "metadata": {},
   "outputs": [],
   "source": [
    "# Function to make the values of sdg-score-multi__value\t sdg-score-multi__value 2\tsdg-score-multi__value 3\tsdg-score-multi__value 4\n",
    "# to float values\n",
    "# null -> 0\n",
    "# 'v1-v2' -> Take the mean of v1&v2 \n",
    "# number -> convert it to float\n",
    "\n",
    "def clean_sdg_score(row):\n",
    "    if pd.isnull(row):\n",
    "        return -1\n",
    "    elif isinstance(row, str) and '–' in row:  # Check if it's a string with a dash\n",
    "        return np.mean([float(i) for i in row.split('–')])\n",
    "    else:\n",
    "        return float(row)"
   ]
  },
  {
   "cell_type": "code",
   "execution_count": 242,
   "id": "fc701651",
   "metadata": {},
   "outputs": [],
   "source": [
    "# Apply the clean_sdg_score function \n",
    "times_h_test['sdg-score-multi__value'] = times_h_test['sdg-score-multi__value'].apply(clean_sdg_score)\n",
    "times_h_test['sdg-score-multi__value 2'] = times_h_test['sdg-score-multi__value 2'].apply(clean_sdg_score)\n",
    "times_h_test['sdg-score-multi__value 3'] = times_h_test['sdg-score-multi__value 3'].apply(clean_sdg_score)\n",
    "times_h_test['sdg-score-multi__value 4'] = times_h_test['sdg-score-multi__value 4'].apply(clean_sdg_score)"
   ]
  },
  {
   "cell_type": "code",
   "execution_count": 243,
   "id": "d4f69e73",
   "metadata": {},
   "outputs": [],
   "source": [
    "def unknown_locations(row):\n",
    "    #Function to replace NaN values in the 'Location' column with 'Unknown'.\n",
    "    if pd.isnull(row):\n",
    "        return 'Unknown'\n",
    "    else:\n",
    "        return row"
   ]
  },
  {
   "cell_type": "code",
   "execution_count": 244,
   "id": "d88a0aa4",
   "metadata": {},
   "outputs": [],
   "source": [
    "times_h_test['Location'] = times_h_test['Location'].apply(unknown_locations) # Apply the unknown_locations function to the 'Location' column"
   ]
  },
  {
   "cell_type": "code",
   "execution_count": 245,
   "id": "f176d629",
   "metadata": {},
   "outputs": [],
   "source": [
    "# Fill -1 for null values\n",
    "def fill_null(row):\n",
    "    if pd.isnull(row):\n",
    "        return -1\n",
    "    else:\n",
    "        return row"
   ]
  },
  {
   "cell_type": "code",
   "execution_count": 246,
   "id": "f53e17b9",
   "metadata": {},
   "outputs": [],
   "source": [
    "# Fill missing values in 'sdg-score-multi__number 3' column with -1\n",
    "times_h_test['sdg-score-multi__number 3'] = times_h_test['sdg-score-multi__number 3'].apply(fill_null)\n",
    "\n",
    "# Fill missing values in 'sdg-score-multi__number 2' column with -1\n",
    "times_h_test['sdg-score-multi__number 2'] = times_h_test['sdg-score-multi__number 2'].apply(fill_null)\n",
    "\n",
    "# Fill missing values in 'sdg-score-multi__number' column with -1\n",
    "times_h_test['sdg-score-multi__number'] = times_h_test['sdg-score-multi__number'].apply(fill_null)"
   ]
  },
  {
   "cell_type": "code",
   "execution_count": 247,
   "id": "0da54155",
   "metadata": {},
   "outputs": [
    {
     "name": "stdout",
     "output_type": "stream",
     "text": [
      "<class 'pandas.core.frame.DataFrame'>\n",
      "RangeIndex: 1591 entries, 0 to 1590\n",
      "Data columns (total 11 columns):\n",
      " #   Column                     Non-Null Count  Dtype  \n",
      "---  ------                     --------------  -----  \n",
      " 0   Rank                       1591 non-null   int64  \n",
      " 1   University Name            1591 non-null   object \n",
      " 2   Location                   1591 non-null   object \n",
      " 3   sdg-score-multi__number    1591 non-null   float64\n",
      " 4   sdg-score-multi__value     1591 non-null   float64\n",
      " 5   sdg-score-multi__number 2  1591 non-null   float64\n",
      " 6   sdg-score-multi__value 2   1591 non-null   float64\n",
      " 7   sdg-score-multi__number 3  1591 non-null   float64\n",
      " 8   sdg-score-multi__value 3   1591 non-null   float64\n",
      " 9   sdg-score-multi__value 4   1591 non-null   float64\n",
      " 10  scores                     1591 non-null   float64\n",
      "dtypes: float64(8), int64(1), object(2)\n",
      "memory usage: 136.9+ KB\n"
     ]
    }
   ],
   "source": [
    "times_h_test.info() "
   ]
  },
  {
   "cell_type": "code",
   "execution_count": null,
   "id": "fe04ec90",
   "metadata": {},
   "outputs": [],
   "source": [
    "times_h_test.to_excel('times_higher_cleaned.xlsx', index=False) # Save the dataframe to an Excel file, so we can read it later"
   ]
  },
  {
   "cell_type": "markdown",
   "id": "31d0ff10",
   "metadata": {},
   "source": [
    "#### World Rank University"
   ]
  },
  {
   "cell_type": "code",
   "execution_count": 248,
   "id": "a2f04399",
   "metadata": {},
   "outputs": [
    {
     "name": "stdout",
     "output_type": "stream",
     "text": [
      "World Rank University columns types:-\n",
      "World Rank             object\n",
      "University Names       object\n",
      "Location               object\n",
      "National Rank           int64\n",
      "Educational Rank       object\n",
      "Employability Rank     object\n",
      "Faculty Rank           object\n",
      "Research Rank          object\n",
      "Score                 float64\n",
      "dtype: object\n"
     ]
    }
   ],
   "source": [
    "print(\"World Rank University columns types:-\")\n",
    "print(word_rank.dtypes)"
   ]
  },
  {
   "cell_type": "code",
   "execution_count": 249,
   "id": "bbf0fdc3",
   "metadata": {},
   "outputs": [
    {
     "data": {
      "text/html": [
       "<div>\n",
       "<style scoped>\n",
       "    .dataframe tbody tr th:only-of-type {\n",
       "        vertical-align: middle;\n",
       "    }\n",
       "\n",
       "    .dataframe tbody tr th {\n",
       "        vertical-align: top;\n",
       "    }\n",
       "\n",
       "    .dataframe thead th {\n",
       "        text-align: right;\n",
       "    }\n",
       "</style>\n",
       "<table border=\"1\" class=\"dataframe\">\n",
       "  <thead>\n",
       "    <tr style=\"text-align: right;\">\n",
       "      <th></th>\n",
       "      <th>World Rank</th>\n",
       "      <th>University Names</th>\n",
       "      <th>Location</th>\n",
       "      <th>National Rank</th>\n",
       "      <th>Educational Rank</th>\n",
       "      <th>Employability Rank</th>\n",
       "      <th>Faculty Rank</th>\n",
       "      <th>Research Rank</th>\n",
       "      <th>Score</th>\n",
       "    </tr>\n",
       "  </thead>\n",
       "  <tbody>\n",
       "    <tr>\n",
       "      <th>0</th>\n",
       "      <td>1Top 0.1%</td>\n",
       "      <td>Harvard University\\n  CWUR Rating System:   Ed...</td>\n",
       "      <td>USA</td>\n",
       "      <td>1</td>\n",
       "      <td>1</td>\n",
       "      <td>1</td>\n",
       "      <td>1</td>\n",
       "      <td>1</td>\n",
       "      <td>100.0</td>\n",
       "    </tr>\n",
       "    <tr>\n",
       "      <th>1</th>\n",
       "      <td>2Top 0.1%</td>\n",
       "      <td>Massachusetts Institute of Technology\\n  Educa...</td>\n",
       "      <td>USA</td>\n",
       "      <td>2</td>\n",
       "      <td>4</td>\n",
       "      <td>12</td>\n",
       "      <td>3</td>\n",
       "      <td>9</td>\n",
       "      <td>96.7</td>\n",
       "    </tr>\n",
       "    <tr>\n",
       "      <th>2</th>\n",
       "      <td>3Top 0.1%</td>\n",
       "      <td>Stanford University\\n  Education: A+; Employab...</td>\n",
       "      <td>USA</td>\n",
       "      <td>3</td>\n",
       "      <td>11</td>\n",
       "      <td>4</td>\n",
       "      <td>2</td>\n",
       "      <td>2</td>\n",
       "      <td>95.2</td>\n",
       "    </tr>\n",
       "    <tr>\n",
       "      <th>3</th>\n",
       "      <td>4Top 0.1%</td>\n",
       "      <td>University of Cambridge\\n  Education: A+; Empl...</td>\n",
       "      <td>United Kingdom</td>\n",
       "      <td>1</td>\n",
       "      <td>3</td>\n",
       "      <td>25</td>\n",
       "      <td>5</td>\n",
       "      <td>11</td>\n",
       "      <td>94.1</td>\n",
       "    </tr>\n",
       "    <tr>\n",
       "      <th>4</th>\n",
       "      <td>5Top 0.1%</td>\n",
       "      <td>University of Oxford\\n  Education: A+; Employa...</td>\n",
       "      <td>United Kingdom</td>\n",
       "      <td>2</td>\n",
       "      <td>7</td>\n",
       "      <td>27</td>\n",
       "      <td>9</td>\n",
       "      <td>4</td>\n",
       "      <td>93.3</td>\n",
       "    </tr>\n",
       "    <tr>\n",
       "      <th>...</th>\n",
       "      <td>...</td>\n",
       "      <td>...</td>\n",
       "      <td>...</td>\n",
       "      <td>...</td>\n",
       "      <td>...</td>\n",
       "      <td>...</td>\n",
       "      <td>...</td>\n",
       "      <td>...</td>\n",
       "      <td>...</td>\n",
       "    </tr>\n",
       "    <tr>\n",
       "      <th>1995</th>\n",
       "      <td>1996Top 9.8%</td>\n",
       "      <td>Chongqing Jiaotong University</td>\n",
       "      <td>China</td>\n",
       "      <td>314</td>\n",
       "      <td>-</td>\n",
       "      <td>-</td>\n",
       "      <td>-</td>\n",
       "      <td>1917</td>\n",
       "      <td>66.0</td>\n",
       "    </tr>\n",
       "    <tr>\n",
       "      <th>1996</th>\n",
       "      <td>1997Top 9.8%</td>\n",
       "      <td>University of Arkansas at Little Rock</td>\n",
       "      <td>USA</td>\n",
       "      <td>332</td>\n",
       "      <td>-</td>\n",
       "      <td>1322</td>\n",
       "      <td>-</td>\n",
       "      <td>1920</td>\n",
       "      <td>66.0</td>\n",
       "    </tr>\n",
       "    <tr>\n",
       "      <th>1997</th>\n",
       "      <td>1998Top 9.8%</td>\n",
       "      <td>Van Yüzüncü Yıl University</td>\n",
       "      <td>Turkey</td>\n",
       "      <td>54</td>\n",
       "      <td>-</td>\n",
       "      <td>-</td>\n",
       "      <td>-</td>\n",
       "      <td>1919</td>\n",
       "      <td>66.0</td>\n",
       "    </tr>\n",
       "    <tr>\n",
       "      <th>1998</th>\n",
       "      <td>1999Top 9.8%</td>\n",
       "      <td>Bharathidasan University</td>\n",
       "      <td>India</td>\n",
       "      <td>64</td>\n",
       "      <td>-</td>\n",
       "      <td>-</td>\n",
       "      <td>-</td>\n",
       "      <td>1922</td>\n",
       "      <td>66.0</td>\n",
       "    </tr>\n",
       "    <tr>\n",
       "      <th>1999</th>\n",
       "      <td>2000Top 9.8%</td>\n",
       "      <td>Gebze Technical University</td>\n",
       "      <td>Turkey</td>\n",
       "      <td>55</td>\n",
       "      <td>-</td>\n",
       "      <td>-</td>\n",
       "      <td>-</td>\n",
       "      <td>1923</td>\n",
       "      <td>66.0</td>\n",
       "    </tr>\n",
       "  </tbody>\n",
       "</table>\n",
       "<p>2000 rows × 9 columns</p>\n",
       "</div>"
      ],
      "text/plain": [
       "        World Rank                                   University Names  \\\n",
       "0        1Top 0.1%  Harvard University\\n  CWUR Rating System:   Ed...   \n",
       "1        2Top 0.1%  Massachusetts Institute of Technology\\n  Educa...   \n",
       "2        3Top 0.1%  Stanford University\\n  Education: A+; Employab...   \n",
       "3        4Top 0.1%  University of Cambridge\\n  Education: A+; Empl...   \n",
       "4        5Top 0.1%  University of Oxford\\n  Education: A+; Employa...   \n",
       "...            ...                                                ...   \n",
       "1995  1996Top 9.8%                      Chongqing Jiaotong University   \n",
       "1996  1997Top 9.8%              University of Arkansas at Little Rock   \n",
       "1997  1998Top 9.8%                         Van Yüzüncü Yıl University   \n",
       "1998  1999Top 9.8%                           Bharathidasan University   \n",
       "1999  2000Top 9.8%                         Gebze Technical University   \n",
       "\n",
       "           Location   National Rank Educational Rank Employability Rank  \\\n",
       "0                USA              1                1                  1   \n",
       "1                USA              2                4                 12   \n",
       "2                USA              3               11                  4   \n",
       "3     United Kingdom              1                3                 25   \n",
       "4     United Kingdom              2                7                 27   \n",
       "...              ...            ...              ...                ...   \n",
       "1995           China            314                -                  -   \n",
       "1996             USA            332                -               1322   \n",
       "1997          Turkey             54                -                  -   \n",
       "1998           India             64                -                  -   \n",
       "1999          Turkey             55                -                  -   \n",
       "\n",
       "     Faculty Rank Research Rank  Score  \n",
       "0               1             1  100.0  \n",
       "1               3             9   96.7  \n",
       "2               2             2   95.2  \n",
       "3               5            11   94.1  \n",
       "4               9             4   93.3  \n",
       "...           ...           ...    ...  \n",
       "1995            -          1917   66.0  \n",
       "1996            -          1920   66.0  \n",
       "1997            -          1919   66.0  \n",
       "1998            -          1922   66.0  \n",
       "1999            -          1923   66.0  \n",
       "\n",
       "[2000 rows x 9 columns]"
      ]
     },
     "execution_count": 249,
     "metadata": {},
     "output_type": "execute_result"
    }
   ],
   "source": [
    "word_rank"
   ]
  },
  {
   "cell_type": "code",
   "execution_count": 250,
   "id": "6a8acba7",
   "metadata": {},
   "outputs": [],
   "source": [
    "# fill null values with -1\n",
    "def fill_null(row):\n",
    "    if row == '-':\n",
    "        return -1\n",
    "    else:\n",
    "        return int(row)"
   ]
  },
  {
   "cell_type": "code",
   "execution_count": 251,
   "id": "690c3355",
   "metadata": {},
   "outputs": [],
   "source": [
    "# Apply the fill_null function to the Educational Rank Employability Rank  Faculty Rank  Research Rank\n",
    "word_rank['Educational Rank'] = word_rank['Educational Rank'].apply(fill_null)\n",
    "word_rank['Employability Rank'] = word_rank['Employability Rank'].apply(fill_null)\n",
    "word_rank['Faculty Rank'] = word_rank['Faculty Rank'].apply(fill_null)\n",
    "word_rank['Research Rank'] = word_rank['Research Rank'].apply(fill_null)"
   ]
  },
  {
   "cell_type": "code",
   "execution_count": 252,
   "id": "68912bb8",
   "metadata": {},
   "outputs": [
    {
     "data": {
      "text/html": [
       "<div>\n",
       "<style scoped>\n",
       "    .dataframe tbody tr th:only-of-type {\n",
       "        vertical-align: middle;\n",
       "    }\n",
       "\n",
       "    .dataframe tbody tr th {\n",
       "        vertical-align: top;\n",
       "    }\n",
       "\n",
       "    .dataframe thead th {\n",
       "        text-align: right;\n",
       "    }\n",
       "</style>\n",
       "<table border=\"1\" class=\"dataframe\">\n",
       "  <thead>\n",
       "    <tr style=\"text-align: right;\">\n",
       "      <th></th>\n",
       "      <th>World Rank</th>\n",
       "      <th>University Names</th>\n",
       "      <th>Location</th>\n",
       "      <th>National Rank</th>\n",
       "      <th>Educational Rank</th>\n",
       "      <th>Employability Rank</th>\n",
       "      <th>Faculty Rank</th>\n",
       "      <th>Research Rank</th>\n",
       "      <th>Score</th>\n",
       "    </tr>\n",
       "  </thead>\n",
       "  <tbody>\n",
       "    <tr>\n",
       "      <th>210</th>\n",
       "      <td>211Top 1.1%</td>\n",
       "      <td>Institut national du service public</td>\n",
       "      <td>France</td>\n",
       "      <td>11</td>\n",
       "      <td>-1</td>\n",
       "      <td>3</td>\n",
       "      <td>-1</td>\n",
       "      <td>-1</td>\n",
       "      <td>78.5</td>\n",
       "    </tr>\n",
       "    <tr>\n",
       "      <th>273</th>\n",
       "      <td>274Top 1.4%</td>\n",
       "      <td>China Europe International Business School</td>\n",
       "      <td>China</td>\n",
       "      <td>32</td>\n",
       "      <td>-1</td>\n",
       "      <td>5</td>\n",
       "      <td>-1</td>\n",
       "      <td>-1</td>\n",
       "      <td>77.3</td>\n",
       "    </tr>\n",
       "    <tr>\n",
       "      <th>279</th>\n",
       "      <td>280Top 1.4%</td>\n",
       "      <td>HEC Paris</td>\n",
       "      <td>France</td>\n",
       "      <td>15</td>\n",
       "      <td>-1</td>\n",
       "      <td>7</td>\n",
       "      <td>-1</td>\n",
       "      <td>-1</td>\n",
       "      <td>77.2</td>\n",
       "    </tr>\n",
       "    <tr>\n",
       "      <th>405</th>\n",
       "      <td>406Top 2%</td>\n",
       "      <td>International Institute for Management Develop...</td>\n",
       "      <td>Switzerland</td>\n",
       "      <td>8</td>\n",
       "      <td>-1</td>\n",
       "      <td>10</td>\n",
       "      <td>-1</td>\n",
       "      <td>-1</td>\n",
       "      <td>75.3</td>\n",
       "    </tr>\n",
       "    <tr>\n",
       "      <th>418</th>\n",
       "      <td>419Top 2.1%</td>\n",
       "      <td>Indian Institute of Management Ahmedabad</td>\n",
       "      <td>India</td>\n",
       "      <td>1</td>\n",
       "      <td>375</td>\n",
       "      <td>11</td>\n",
       "      <td>-1</td>\n",
       "      <td>-1</td>\n",
       "      <td>75.2</td>\n",
       "    </tr>\n",
       "    <tr>\n",
       "      <th>...</th>\n",
       "      <td>...</td>\n",
       "      <td>...</td>\n",
       "      <td>...</td>\n",
       "      <td>...</td>\n",
       "      <td>...</td>\n",
       "      <td>...</td>\n",
       "      <td>...</td>\n",
       "      <td>...</td>\n",
       "      <td>...</td>\n",
       "    </tr>\n",
       "    <tr>\n",
       "      <th>1931</th>\n",
       "      <td>1932Top 9.5%</td>\n",
       "      <td>Institut supérieur de l'aéronautique et de l'e...</td>\n",
       "      <td>France</td>\n",
       "      <td>72</td>\n",
       "      <td>-1</td>\n",
       "      <td>180</td>\n",
       "      <td>-1</td>\n",
       "      <td>-1</td>\n",
       "      <td>66.2</td>\n",
       "    </tr>\n",
       "    <tr>\n",
       "      <th>1940</th>\n",
       "      <td>1941Top 9.5%</td>\n",
       "      <td>Hamilton College</td>\n",
       "      <td>USA</td>\n",
       "      <td>328</td>\n",
       "      <td>82</td>\n",
       "      <td>255</td>\n",
       "      <td>-1</td>\n",
       "      <td>-1</td>\n",
       "      <td>66.2</td>\n",
       "    </tr>\n",
       "    <tr>\n",
       "      <th>1950</th>\n",
       "      <td>1951Top 9.6%</td>\n",
       "      <td>Drew University</td>\n",
       "      <td>USA</td>\n",
       "      <td>329</td>\n",
       "      <td>-1</td>\n",
       "      <td>606</td>\n",
       "      <td>128</td>\n",
       "      <td>-1</td>\n",
       "      <td>66.1</td>\n",
       "    </tr>\n",
       "    <tr>\n",
       "      <th>1956</th>\n",
       "      <td>1957Top 9.6%</td>\n",
       "      <td>Graduate School &amp; Training Center, Research In...</td>\n",
       "      <td>China</td>\n",
       "      <td>303</td>\n",
       "      <td>-1</td>\n",
       "      <td>71</td>\n",
       "      <td>-1</td>\n",
       "      <td>-1</td>\n",
       "      <td>66.1</td>\n",
       "    </tr>\n",
       "    <tr>\n",
       "      <th>1986</th>\n",
       "      <td>1987Top 9.7%</td>\n",
       "      <td>IFP School</td>\n",
       "      <td>France</td>\n",
       "      <td>76</td>\n",
       "      <td>-1</td>\n",
       "      <td>73</td>\n",
       "      <td>-1</td>\n",
       "      <td>-1</td>\n",
       "      <td>66.0</td>\n",
       "    </tr>\n",
       "  </tbody>\n",
       "</table>\n",
       "<p>66 rows × 9 columns</p>\n",
       "</div>"
      ],
      "text/plain": [
       "        World Rank                                   University Names  \\\n",
       "210    211Top 1.1%                Institut national du service public   \n",
       "273    274Top 1.4%         China Europe International Business School   \n",
       "279    280Top 1.4%                                          HEC Paris   \n",
       "405      406Top 2%  International Institute for Management Develop...   \n",
       "418    419Top 2.1%           Indian Institute of Management Ahmedabad   \n",
       "...            ...                                                ...   \n",
       "1931  1932Top 9.5%  Institut supérieur de l'aéronautique et de l'e...   \n",
       "1940  1941Top 9.5%                                   Hamilton College   \n",
       "1950  1951Top 9.6%                                    Drew University   \n",
       "1956  1957Top 9.6%  Graduate School & Training Center, Research In...   \n",
       "1986  1987Top 9.7%                                         IFP School   \n",
       "\n",
       "        Location   National Rank  Educational Rank  Employability Rank  \\\n",
       "210        France             11                -1                   3   \n",
       "273         China             32                -1                   5   \n",
       "279        France             15                -1                   7   \n",
       "405   Switzerland              8                -1                  10   \n",
       "418         India              1               375                  11   \n",
       "...           ...            ...               ...                 ...   \n",
       "1931       France             72                -1                 180   \n",
       "1940          USA            328                82                 255   \n",
       "1950          USA            329                -1                 606   \n",
       "1956        China            303                -1                  71   \n",
       "1986       France             76                -1                  73   \n",
       "\n",
       "      Faculty Rank  Research Rank  Score  \n",
       "210             -1             -1   78.5  \n",
       "273             -1             -1   77.3  \n",
       "279             -1             -1   77.2  \n",
       "405             -1             -1   75.3  \n",
       "418             -1             -1   75.2  \n",
       "...            ...            ...    ...  \n",
       "1931            -1             -1   66.2  \n",
       "1940            -1             -1   66.2  \n",
       "1950           128             -1   66.1  \n",
       "1956            -1             -1   66.1  \n",
       "1986            -1             -1   66.0  \n",
       "\n",
       "[66 rows x 9 columns]"
      ]
     },
     "execution_count": 252,
     "metadata": {},
     "output_type": "execute_result"
    }
   ],
   "source": [
    "word_rank[word_rank['Research Rank']==-1]"
   ]
  },
  {
   "cell_type": "code",
   "execution_count": 253,
   "id": "ce7ab006",
   "metadata": {},
   "outputs": [],
   "source": [
    "def clean_word_rank(x):\n",
    "    # Split the input string by 'Top' and return the first part -rank-\n",
    "    return int(x.split('Top')[0])\n",
    "\n",
    "def clean_word_rank_per(x):\n",
    "    # Split the input string by 'Top' and return the second part -percentage-\n",
    "    return float(x.split('Top')[1].strip().replace('%', '') )"
   ]
  },
  {
   "cell_type": "code",
   "execution_count": 254,
   "id": "c835c042",
   "metadata": {},
   "outputs": [
    {
     "data": {
      "text/html": [
       "<div>\n",
       "<style scoped>\n",
       "    .dataframe tbody tr th:only-of-type {\n",
       "        vertical-align: middle;\n",
       "    }\n",
       "\n",
       "    .dataframe tbody tr th {\n",
       "        vertical-align: top;\n",
       "    }\n",
       "\n",
       "    .dataframe thead th {\n",
       "        text-align: right;\n",
       "    }\n",
       "</style>\n",
       "<table border=\"1\" class=\"dataframe\">\n",
       "  <thead>\n",
       "    <tr style=\"text-align: right;\">\n",
       "      <th></th>\n",
       "      <th>World Rank</th>\n",
       "      <th>University Names</th>\n",
       "      <th>Location</th>\n",
       "      <th>National Rank</th>\n",
       "      <th>Educational Rank</th>\n",
       "      <th>Employability Rank</th>\n",
       "      <th>Faculty Rank</th>\n",
       "      <th>Research Rank</th>\n",
       "      <th>Score</th>\n",
       "      <th>World Rank Percentage</th>\n",
       "    </tr>\n",
       "  </thead>\n",
       "  <tbody>\n",
       "    <tr>\n",
       "      <th>0</th>\n",
       "      <td>1</td>\n",
       "      <td>Harvard University\\n  CWUR Rating System:   Ed...</td>\n",
       "      <td>USA</td>\n",
       "      <td>1</td>\n",
       "      <td>1</td>\n",
       "      <td>1</td>\n",
       "      <td>1</td>\n",
       "      <td>1</td>\n",
       "      <td>100.0</td>\n",
       "      <td>0.1</td>\n",
       "    </tr>\n",
       "    <tr>\n",
       "      <th>1</th>\n",
       "      <td>2</td>\n",
       "      <td>Massachusetts Institute of Technology\\n  Educa...</td>\n",
       "      <td>USA</td>\n",
       "      <td>2</td>\n",
       "      <td>4</td>\n",
       "      <td>12</td>\n",
       "      <td>3</td>\n",
       "      <td>9</td>\n",
       "      <td>96.7</td>\n",
       "      <td>0.1</td>\n",
       "    </tr>\n",
       "    <tr>\n",
       "      <th>2</th>\n",
       "      <td>3</td>\n",
       "      <td>Stanford University\\n  Education: A+; Employab...</td>\n",
       "      <td>USA</td>\n",
       "      <td>3</td>\n",
       "      <td>11</td>\n",
       "      <td>4</td>\n",
       "      <td>2</td>\n",
       "      <td>2</td>\n",
       "      <td>95.2</td>\n",
       "      <td>0.1</td>\n",
       "    </tr>\n",
       "    <tr>\n",
       "      <th>3</th>\n",
       "      <td>4</td>\n",
       "      <td>University of Cambridge\\n  Education: A+; Empl...</td>\n",
       "      <td>United Kingdom</td>\n",
       "      <td>1</td>\n",
       "      <td>3</td>\n",
       "      <td>25</td>\n",
       "      <td>5</td>\n",
       "      <td>11</td>\n",
       "      <td>94.1</td>\n",
       "      <td>0.1</td>\n",
       "    </tr>\n",
       "    <tr>\n",
       "      <th>4</th>\n",
       "      <td>5</td>\n",
       "      <td>University of Oxford\\n  Education: A+; Employa...</td>\n",
       "      <td>United Kingdom</td>\n",
       "      <td>2</td>\n",
       "      <td>7</td>\n",
       "      <td>27</td>\n",
       "      <td>9</td>\n",
       "      <td>4</td>\n",
       "      <td>93.3</td>\n",
       "      <td>0.1</td>\n",
       "    </tr>\n",
       "    <tr>\n",
       "      <th>...</th>\n",
       "      <td>...</td>\n",
       "      <td>...</td>\n",
       "      <td>...</td>\n",
       "      <td>...</td>\n",
       "      <td>...</td>\n",
       "      <td>...</td>\n",
       "      <td>...</td>\n",
       "      <td>...</td>\n",
       "      <td>...</td>\n",
       "      <td>...</td>\n",
       "    </tr>\n",
       "    <tr>\n",
       "      <th>1995</th>\n",
       "      <td>1996</td>\n",
       "      <td>Chongqing Jiaotong University</td>\n",
       "      <td>China</td>\n",
       "      <td>314</td>\n",
       "      <td>-1</td>\n",
       "      <td>-1</td>\n",
       "      <td>-1</td>\n",
       "      <td>1917</td>\n",
       "      <td>66.0</td>\n",
       "      <td>9.8</td>\n",
       "    </tr>\n",
       "    <tr>\n",
       "      <th>1996</th>\n",
       "      <td>1997</td>\n",
       "      <td>University of Arkansas at Little Rock</td>\n",
       "      <td>USA</td>\n",
       "      <td>332</td>\n",
       "      <td>-1</td>\n",
       "      <td>1322</td>\n",
       "      <td>-1</td>\n",
       "      <td>1920</td>\n",
       "      <td>66.0</td>\n",
       "      <td>9.8</td>\n",
       "    </tr>\n",
       "    <tr>\n",
       "      <th>1997</th>\n",
       "      <td>1998</td>\n",
       "      <td>Van Yüzüncü Yıl University</td>\n",
       "      <td>Turkey</td>\n",
       "      <td>54</td>\n",
       "      <td>-1</td>\n",
       "      <td>-1</td>\n",
       "      <td>-1</td>\n",
       "      <td>1919</td>\n",
       "      <td>66.0</td>\n",
       "      <td>9.8</td>\n",
       "    </tr>\n",
       "    <tr>\n",
       "      <th>1998</th>\n",
       "      <td>1999</td>\n",
       "      <td>Bharathidasan University</td>\n",
       "      <td>India</td>\n",
       "      <td>64</td>\n",
       "      <td>-1</td>\n",
       "      <td>-1</td>\n",
       "      <td>-1</td>\n",
       "      <td>1922</td>\n",
       "      <td>66.0</td>\n",
       "      <td>9.8</td>\n",
       "    </tr>\n",
       "    <tr>\n",
       "      <th>1999</th>\n",
       "      <td>2000</td>\n",
       "      <td>Gebze Technical University</td>\n",
       "      <td>Turkey</td>\n",
       "      <td>55</td>\n",
       "      <td>-1</td>\n",
       "      <td>-1</td>\n",
       "      <td>-1</td>\n",
       "      <td>1923</td>\n",
       "      <td>66.0</td>\n",
       "      <td>9.8</td>\n",
       "    </tr>\n",
       "  </tbody>\n",
       "</table>\n",
       "<p>2000 rows × 10 columns</p>\n",
       "</div>"
      ],
      "text/plain": [
       "      World Rank                                   University Names  \\\n",
       "0              1  Harvard University\\n  CWUR Rating System:   Ed...   \n",
       "1              2  Massachusetts Institute of Technology\\n  Educa...   \n",
       "2              3  Stanford University\\n  Education: A+; Employab...   \n",
       "3              4  University of Cambridge\\n  Education: A+; Empl...   \n",
       "4              5  University of Oxford\\n  Education: A+; Employa...   \n",
       "...          ...                                                ...   \n",
       "1995        1996                      Chongqing Jiaotong University   \n",
       "1996        1997              University of Arkansas at Little Rock   \n",
       "1997        1998                         Van Yüzüncü Yıl University   \n",
       "1998        1999                           Bharathidasan University   \n",
       "1999        2000                         Gebze Technical University   \n",
       "\n",
       "           Location   National Rank  Educational Rank  Employability Rank  \\\n",
       "0                USA              1                 1                   1   \n",
       "1                USA              2                 4                  12   \n",
       "2                USA              3                11                   4   \n",
       "3     United Kingdom              1                 3                  25   \n",
       "4     United Kingdom              2                 7                  27   \n",
       "...              ...            ...               ...                 ...   \n",
       "1995           China            314                -1                  -1   \n",
       "1996             USA            332                -1                1322   \n",
       "1997          Turkey             54                -1                  -1   \n",
       "1998           India             64                -1                  -1   \n",
       "1999          Turkey             55                -1                  -1   \n",
       "\n",
       "      Faculty Rank  Research Rank  Score  World Rank Percentage  \n",
       "0                1              1  100.0                    0.1  \n",
       "1                3              9   96.7                    0.1  \n",
       "2                2              2   95.2                    0.1  \n",
       "3                5             11   94.1                    0.1  \n",
       "4                9              4   93.3                    0.1  \n",
       "...            ...            ...    ...                    ...  \n",
       "1995            -1           1917   66.0                    9.8  \n",
       "1996            -1           1920   66.0                    9.8  \n",
       "1997            -1           1919   66.0                    9.8  \n",
       "1998            -1           1922   66.0                    9.8  \n",
       "1999            -1           1923   66.0                    9.8  \n",
       "\n",
       "[2000 rows x 10 columns]"
      ]
     },
     "execution_count": 254,
     "metadata": {},
     "output_type": "execute_result"
    }
   ],
   "source": [
    "# NOTE THE PERCENTAGE OF THE WORLD RANK IS TAKEN OUT FROM 20,531 INSTITUTIONS WERE RANKED\n",
    "\n",
    "word_rank['World Rank Percentage'] = word_rank['World Rank'].apply(clean_word_rank_per) # Apply the clean_word_rank_per function to extract the percentage from the 'World Rank' column\n",
    "\n",
    "word_rank['World Rank'] = word_rank['World Rank'].apply(clean_word_rank) # Apply the clean_word_rank function to clean the 'World Rank' column\n",
    "\n",
    "word_rank # Display the updated DataFrame"
   ]
  },
  {
   "cell_type": "code",
   "execution_count": 255,
   "id": "39023fa4",
   "metadata": {},
   "outputs": [
    {
     "name": "stdout",
     "output_type": "stream",
     "text": [
      "<class 'pandas.core.frame.DataFrame'>\n",
      "RangeIndex: 2000 entries, 0 to 1999\n",
      "Data columns (total 10 columns):\n",
      " #   Column                 Non-Null Count  Dtype  \n",
      "---  ------                 --------------  -----  \n",
      " 0   World Rank             2000 non-null   int64  \n",
      " 1   University Names       2000 non-null   object \n",
      " 2   Location               2000 non-null   object \n",
      " 3   National Rank          2000 non-null   int64  \n",
      " 4   Educational Rank       2000 non-null   int64  \n",
      " 5   Employability Rank     2000 non-null   int64  \n",
      " 6   Faculty Rank           2000 non-null   int64  \n",
      " 7   Research Rank          2000 non-null   int64  \n",
      " 8   Score                  2000 non-null   float64\n",
      " 9   World Rank Percentage  2000 non-null   float64\n",
      "dtypes: float64(2), int64(6), object(2)\n",
      "memory usage: 156.4+ KB\n"
     ]
    }
   ],
   "source": [
    "word_rank.info()"
   ]
  },
  {
   "cell_type": "code",
   "execution_count": null,
   "id": "0d7919b6",
   "metadata": {},
   "outputs": [],
   "source": [
    "# Save the cleaned dataframe to an Excel file\n",
    "word_rank.to_excel('word_rank_cleaned.xlsx', index=False)"
   ]
  },
  {
   "cell_type": "markdown",
   "id": "98548b66-e309-4eb8-a5dc-65fe0abbf1e8",
   "metadata": {},
   "source": [
    "## 3. Univariate Analysis: \n",
    "\n",
    "This involves examining single variables to understand their characteristics (distribution, central tendency, dispersion, and shape).\n",
    "\n",
    "We calculate **numerical values** about the data that tells us about the distribution of the data. We also **draw graphs** showing visually how the data is distributed. **To answer the following questions about Features/characteristics of Data:**\n",
    "- Where is the center of the data? (location)\n",
    "- How much does the data vary? (scale)\n",
    "- What is the shape of the data? (shape)\n",
    "\n",
    "**The benefits of this analysis:**\n",
    "Statistics summary gives a high-level idea to identify whether the data has any outliers, data entry error, distribution of data such as the data is normally distributed or left/right skewed\n",
    "\n",
    "**In this step, we will explore variables one by one using following approaches:**"
   ]
  },
  {
   "cell_type": "markdown",
   "id": "d6718111-7ac2-4fff-9851-654655b62e0b",
   "metadata": {},
   "source": [
    "### 1. Univariate Graphical Analysis:\n",
    "Method to perform uni-variate analysis will depend on whether the variable type is categorical or numerical."
   ]
  },
  {
   "cell_type": "markdown",
   "id": "0d57c4b9-9bb3-494d-85dd-b8d39afda139",
   "metadata": {},
   "source": [
    "#### I. Categorical Variables:\n",
    "\n",
    "we’ll use frequency table to understand distribution of each category\n",
    "- Bar Chart (Ordinal) - Orderd\n",
    "- Pie Chart (Nominal) - non Orderd"
   ]
  },
  {
   "cell_type": "code",
   "execution_count": 304,
   "id": "795addca",
   "metadata": {},
   "outputs": [],
   "source": [
    "best_10_shanghai = shanghai_rank['University Name'][:10]"
   ]
  },
  {
   "cell_type": "code",
   "execution_count": 306,
   "id": "d08b6f3c",
   "metadata": {},
   "outputs": [
    {
     "name": "stderr",
     "output_type": "stream",
     "text": [
      "C:\\Users\\farsa\\AppData\\Local\\Temp\\ipykernel_25328\\179526563.py:2: SettingWithCopyWarning:\n",
      "\n",
      "\n",
      "A value is trying to be set on a copy of a slice from a DataFrame.\n",
      "Try using .loc[row_indexer,col_indexer] = value instead\n",
      "\n",
      "See the caveats in the documentation: https://pandas.pydata.org/pandas-docs/stable/user_guide/indexing.html#returning-a-view-versus-a-copy\n",
      "\n"
     ]
    }
   ],
   "source": [
    "best_10_word = word_rank[:10]\n",
    "best_10_word['University Names'] = best_10_word['University Names'].str.split('\\n').str[0]"
   ]
  },
  {
   "cell_type": "code",
   "execution_count": 305,
   "id": "876ee3e2",
   "metadata": {},
   "outputs": [],
   "source": [
    "best_10_times = times_h_test['University Name '][:10]"
   ]
  },
  {
   "cell_type": "code",
   "execution_count": 307,
   "id": "f90089ad",
   "metadata": {},
   "outputs": [
    {
     "data": {
      "application/vnd.plotly.v1+json": {
       "config": {
        "plotlyServerURL": "https://plot.ly"
       },
       "data": [
        {
         "alignmentgroup": "True",
         "hovertemplate": "University Name=%{x}<br>Total Score=%{y}<extra></extra>",
         "legendgroup": "",
         "marker": {
          "color": "#636efa",
          "pattern": {
           "shape": ""
          }
         },
         "name": "",
         "offsetgroup": "",
         "orientation": "v",
         "showlegend": false,
         "textposition": "auto",
         "type": "bar",
         "x": [
          "Harvard University",
          "Stanford University",
          "Massachusetts Institute of Technology (MIT)",
          "University of Cambridge",
          "University of California, Berkeley",
          "Princeton University",
          "University of Oxford",
          "Columbia University",
          "California Institute of Technology",
          "University of Chicago"
         ],
         "xaxis": "x",
         "y": [
          100,
          76.8,
          70.1,
          69.6,
          65.3,
          60,
          58.7,
          57.2,
          56.1,
          55.1
         ],
         "yaxis": "y"
        }
       ],
       "layout": {
        "barmode": "relative",
        "legend": {
         "tracegroupgap": 0
        },
        "template": {
         "data": {
          "bar": [
           {
            "error_x": {
             "color": "#2a3f5f"
            },
            "error_y": {
             "color": "#2a3f5f"
            },
            "marker": {
             "line": {
              "color": "#E5ECF6",
              "width": 0.5
             },
             "pattern": {
              "fillmode": "overlay",
              "size": 10,
              "solidity": 0.2
             }
            },
            "type": "bar"
           }
          ],
          "barpolar": [
           {
            "marker": {
             "line": {
              "color": "#E5ECF6",
              "width": 0.5
             },
             "pattern": {
              "fillmode": "overlay",
              "size": 10,
              "solidity": 0.2
             }
            },
            "type": "barpolar"
           }
          ],
          "carpet": [
           {
            "aaxis": {
             "endlinecolor": "#2a3f5f",
             "gridcolor": "white",
             "linecolor": "white",
             "minorgridcolor": "white",
             "startlinecolor": "#2a3f5f"
            },
            "baxis": {
             "endlinecolor": "#2a3f5f",
             "gridcolor": "white",
             "linecolor": "white",
             "minorgridcolor": "white",
             "startlinecolor": "#2a3f5f"
            },
            "type": "carpet"
           }
          ],
          "choropleth": [
           {
            "colorbar": {
             "outlinewidth": 0,
             "ticks": ""
            },
            "type": "choropleth"
           }
          ],
          "contour": [
           {
            "colorbar": {
             "outlinewidth": 0,
             "ticks": ""
            },
            "colorscale": [
             [
              0,
              "#0d0887"
             ],
             [
              0.1111111111111111,
              "#46039f"
             ],
             [
              0.2222222222222222,
              "#7201a8"
             ],
             [
              0.3333333333333333,
              "#9c179e"
             ],
             [
              0.4444444444444444,
              "#bd3786"
             ],
             [
              0.5555555555555556,
              "#d8576b"
             ],
             [
              0.6666666666666666,
              "#ed7953"
             ],
             [
              0.7777777777777778,
              "#fb9f3a"
             ],
             [
              0.8888888888888888,
              "#fdca26"
             ],
             [
              1,
              "#f0f921"
             ]
            ],
            "type": "contour"
           }
          ],
          "contourcarpet": [
           {
            "colorbar": {
             "outlinewidth": 0,
             "ticks": ""
            },
            "type": "contourcarpet"
           }
          ],
          "heatmap": [
           {
            "colorbar": {
             "outlinewidth": 0,
             "ticks": ""
            },
            "colorscale": [
             [
              0,
              "#0d0887"
             ],
             [
              0.1111111111111111,
              "#46039f"
             ],
             [
              0.2222222222222222,
              "#7201a8"
             ],
             [
              0.3333333333333333,
              "#9c179e"
             ],
             [
              0.4444444444444444,
              "#bd3786"
             ],
             [
              0.5555555555555556,
              "#d8576b"
             ],
             [
              0.6666666666666666,
              "#ed7953"
             ],
             [
              0.7777777777777778,
              "#fb9f3a"
             ],
             [
              0.8888888888888888,
              "#fdca26"
             ],
             [
              1,
              "#f0f921"
             ]
            ],
            "type": "heatmap"
           }
          ],
          "heatmapgl": [
           {
            "colorbar": {
             "outlinewidth": 0,
             "ticks": ""
            },
            "colorscale": [
             [
              0,
              "#0d0887"
             ],
             [
              0.1111111111111111,
              "#46039f"
             ],
             [
              0.2222222222222222,
              "#7201a8"
             ],
             [
              0.3333333333333333,
              "#9c179e"
             ],
             [
              0.4444444444444444,
              "#bd3786"
             ],
             [
              0.5555555555555556,
              "#d8576b"
             ],
             [
              0.6666666666666666,
              "#ed7953"
             ],
             [
              0.7777777777777778,
              "#fb9f3a"
             ],
             [
              0.8888888888888888,
              "#fdca26"
             ],
             [
              1,
              "#f0f921"
             ]
            ],
            "type": "heatmapgl"
           }
          ],
          "histogram": [
           {
            "marker": {
             "pattern": {
              "fillmode": "overlay",
              "size": 10,
              "solidity": 0.2
             }
            },
            "type": "histogram"
           }
          ],
          "histogram2d": [
           {
            "colorbar": {
             "outlinewidth": 0,
             "ticks": ""
            },
            "colorscale": [
             [
              0,
              "#0d0887"
             ],
             [
              0.1111111111111111,
              "#46039f"
             ],
             [
              0.2222222222222222,
              "#7201a8"
             ],
             [
              0.3333333333333333,
              "#9c179e"
             ],
             [
              0.4444444444444444,
              "#bd3786"
             ],
             [
              0.5555555555555556,
              "#d8576b"
             ],
             [
              0.6666666666666666,
              "#ed7953"
             ],
             [
              0.7777777777777778,
              "#fb9f3a"
             ],
             [
              0.8888888888888888,
              "#fdca26"
             ],
             [
              1,
              "#f0f921"
             ]
            ],
            "type": "histogram2d"
           }
          ],
          "histogram2dcontour": [
           {
            "colorbar": {
             "outlinewidth": 0,
             "ticks": ""
            },
            "colorscale": [
             [
              0,
              "#0d0887"
             ],
             [
              0.1111111111111111,
              "#46039f"
             ],
             [
              0.2222222222222222,
              "#7201a8"
             ],
             [
              0.3333333333333333,
              "#9c179e"
             ],
             [
              0.4444444444444444,
              "#bd3786"
             ],
             [
              0.5555555555555556,
              "#d8576b"
             ],
             [
              0.6666666666666666,
              "#ed7953"
             ],
             [
              0.7777777777777778,
              "#fb9f3a"
             ],
             [
              0.8888888888888888,
              "#fdca26"
             ],
             [
              1,
              "#f0f921"
             ]
            ],
            "type": "histogram2dcontour"
           }
          ],
          "mesh3d": [
           {
            "colorbar": {
             "outlinewidth": 0,
             "ticks": ""
            },
            "type": "mesh3d"
           }
          ],
          "parcoords": [
           {
            "line": {
             "colorbar": {
              "outlinewidth": 0,
              "ticks": ""
             }
            },
            "type": "parcoords"
           }
          ],
          "pie": [
           {
            "automargin": true,
            "type": "pie"
           }
          ],
          "scatter": [
           {
            "fillpattern": {
             "fillmode": "overlay",
             "size": 10,
             "solidity": 0.2
            },
            "type": "scatter"
           }
          ],
          "scatter3d": [
           {
            "line": {
             "colorbar": {
              "outlinewidth": 0,
              "ticks": ""
             }
            },
            "marker": {
             "colorbar": {
              "outlinewidth": 0,
              "ticks": ""
             }
            },
            "type": "scatter3d"
           }
          ],
          "scattercarpet": [
           {
            "marker": {
             "colorbar": {
              "outlinewidth": 0,
              "ticks": ""
             }
            },
            "type": "scattercarpet"
           }
          ],
          "scattergeo": [
           {
            "marker": {
             "colorbar": {
              "outlinewidth": 0,
              "ticks": ""
             }
            },
            "type": "scattergeo"
           }
          ],
          "scattergl": [
           {
            "marker": {
             "colorbar": {
              "outlinewidth": 0,
              "ticks": ""
             }
            },
            "type": "scattergl"
           }
          ],
          "scattermapbox": [
           {
            "marker": {
             "colorbar": {
              "outlinewidth": 0,
              "ticks": ""
             }
            },
            "type": "scattermapbox"
           }
          ],
          "scatterpolar": [
           {
            "marker": {
             "colorbar": {
              "outlinewidth": 0,
              "ticks": ""
             }
            },
            "type": "scatterpolar"
           }
          ],
          "scatterpolargl": [
           {
            "marker": {
             "colorbar": {
              "outlinewidth": 0,
              "ticks": ""
             }
            },
            "type": "scatterpolargl"
           }
          ],
          "scatterternary": [
           {
            "marker": {
             "colorbar": {
              "outlinewidth": 0,
              "ticks": ""
             }
            },
            "type": "scatterternary"
           }
          ],
          "surface": [
           {
            "colorbar": {
             "outlinewidth": 0,
             "ticks": ""
            },
            "colorscale": [
             [
              0,
              "#0d0887"
             ],
             [
              0.1111111111111111,
              "#46039f"
             ],
             [
              0.2222222222222222,
              "#7201a8"
             ],
             [
              0.3333333333333333,
              "#9c179e"
             ],
             [
              0.4444444444444444,
              "#bd3786"
             ],
             [
              0.5555555555555556,
              "#d8576b"
             ],
             [
              0.6666666666666666,
              "#ed7953"
             ],
             [
              0.7777777777777778,
              "#fb9f3a"
             ],
             [
              0.8888888888888888,
              "#fdca26"
             ],
             [
              1,
              "#f0f921"
             ]
            ],
            "type": "surface"
           }
          ],
          "table": [
           {
            "cells": {
             "fill": {
              "color": "#EBF0F8"
             },
             "line": {
              "color": "white"
             }
            },
            "header": {
             "fill": {
              "color": "#C8D4E3"
             },
             "line": {
              "color": "white"
             }
            },
            "type": "table"
           }
          ]
         },
         "layout": {
          "annotationdefaults": {
           "arrowcolor": "#2a3f5f",
           "arrowhead": 0,
           "arrowwidth": 1
          },
          "autotypenumbers": "strict",
          "coloraxis": {
           "colorbar": {
            "outlinewidth": 0,
            "ticks": ""
           }
          },
          "colorscale": {
           "diverging": [
            [
             0,
             "#8e0152"
            ],
            [
             0.1,
             "#c51b7d"
            ],
            [
             0.2,
             "#de77ae"
            ],
            [
             0.3,
             "#f1b6da"
            ],
            [
             0.4,
             "#fde0ef"
            ],
            [
             0.5,
             "#f7f7f7"
            ],
            [
             0.6,
             "#e6f5d0"
            ],
            [
             0.7,
             "#b8e186"
            ],
            [
             0.8,
             "#7fbc41"
            ],
            [
             0.9,
             "#4d9221"
            ],
            [
             1,
             "#276419"
            ]
           ],
           "sequential": [
            [
             0,
             "#0d0887"
            ],
            [
             0.1111111111111111,
             "#46039f"
            ],
            [
             0.2222222222222222,
             "#7201a8"
            ],
            [
             0.3333333333333333,
             "#9c179e"
            ],
            [
             0.4444444444444444,
             "#bd3786"
            ],
            [
             0.5555555555555556,
             "#d8576b"
            ],
            [
             0.6666666666666666,
             "#ed7953"
            ],
            [
             0.7777777777777778,
             "#fb9f3a"
            ],
            [
             0.8888888888888888,
             "#fdca26"
            ],
            [
             1,
             "#f0f921"
            ]
           ],
           "sequentialminus": [
            [
             0,
             "#0d0887"
            ],
            [
             0.1111111111111111,
             "#46039f"
            ],
            [
             0.2222222222222222,
             "#7201a8"
            ],
            [
             0.3333333333333333,
             "#9c179e"
            ],
            [
             0.4444444444444444,
             "#bd3786"
            ],
            [
             0.5555555555555556,
             "#d8576b"
            ],
            [
             0.6666666666666666,
             "#ed7953"
            ],
            [
             0.7777777777777778,
             "#fb9f3a"
            ],
            [
             0.8888888888888888,
             "#fdca26"
            ],
            [
             1,
             "#f0f921"
            ]
           ]
          },
          "colorway": [
           "#636efa",
           "#EF553B",
           "#00cc96",
           "#ab63fa",
           "#FFA15A",
           "#19d3f3",
           "#FF6692",
           "#B6E880",
           "#FF97FF",
           "#FECB52"
          ],
          "font": {
           "color": "#2a3f5f"
          },
          "geo": {
           "bgcolor": "white",
           "lakecolor": "white",
           "landcolor": "#E5ECF6",
           "showlakes": true,
           "showland": true,
           "subunitcolor": "white"
          },
          "hoverlabel": {
           "align": "left"
          },
          "hovermode": "closest",
          "mapbox": {
           "style": "light"
          },
          "paper_bgcolor": "white",
          "plot_bgcolor": "#E5ECF6",
          "polar": {
           "angularaxis": {
            "gridcolor": "white",
            "linecolor": "white",
            "ticks": ""
           },
           "bgcolor": "#E5ECF6",
           "radialaxis": {
            "gridcolor": "white",
            "linecolor": "white",
            "ticks": ""
           }
          },
          "scene": {
           "xaxis": {
            "backgroundcolor": "#E5ECF6",
            "gridcolor": "white",
            "gridwidth": 2,
            "linecolor": "white",
            "showbackground": true,
            "ticks": "",
            "zerolinecolor": "white"
           },
           "yaxis": {
            "backgroundcolor": "#E5ECF6",
            "gridcolor": "white",
            "gridwidth": 2,
            "linecolor": "white",
            "showbackground": true,
            "ticks": "",
            "zerolinecolor": "white"
           },
           "zaxis": {
            "backgroundcolor": "#E5ECF6",
            "gridcolor": "white",
            "gridwidth": 2,
            "linecolor": "white",
            "showbackground": true,
            "ticks": "",
            "zerolinecolor": "white"
           }
          },
          "shapedefaults": {
           "line": {
            "color": "#2a3f5f"
           }
          },
          "ternary": {
           "aaxis": {
            "gridcolor": "white",
            "linecolor": "white",
            "ticks": ""
           },
           "baxis": {
            "gridcolor": "white",
            "linecolor": "white",
            "ticks": ""
           },
           "bgcolor": "#E5ECF6",
           "caxis": {
            "gridcolor": "white",
            "linecolor": "white",
            "ticks": ""
           }
          },
          "title": {
           "x": 0.05
          },
          "xaxis": {
           "automargin": true,
           "gridcolor": "white",
           "linecolor": "white",
           "ticks": "",
           "title": {
            "standoff": 15
           },
           "zerolinecolor": "white",
           "zerolinewidth": 2
          },
          "yaxis": {
           "automargin": true,
           "gridcolor": "white",
           "linecolor": "white",
           "ticks": "",
           "title": {
            "standoff": 15
           },
           "zerolinecolor": "white",
           "zerolinewidth": 2
          }
         }
        },
        "title": {
         "text": "Top 10 Universities in the Shanaghai Ranking"
        },
        "xaxis": {
         "anchor": "y",
         "domain": [
          0,
          1
         ],
         "title": {
          "text": "University Name"
         }
        },
        "yaxis": {
         "anchor": "x",
         "domain": [
          0,
          1
         ],
         "title": {
          "text": "Total Score"
         }
        }
       }
      }
     },
     "metadata": {},
     "output_type": "display_data"
    }
   ],
   "source": [
    "# Bar plot of the top 10 universities globally of word_rank using plotly \n",
    "\n",
    "fig = px.bar(shanghai_rank[:10], x='University Name', y='Total Score', title='Top 10 Universities in the Shanaghai Ranking')\n",
    "fig.show()"
   ]
  },
  {
   "cell_type": "code",
   "execution_count": 308,
   "id": "d8ceb982",
   "metadata": {},
   "outputs": [
    {
     "data": {
      "application/vnd.plotly.v1+json": {
       "config": {
        "plotlyServerURL": "https://plot.ly"
       },
       "data": [
        {
         "alignmentgroup": "True",
         "hovertemplate": "University Names=%{x}<br>Score=%{y}<extra></extra>",
         "legendgroup": "",
         "marker": {
          "color": "#636efa",
          "pattern": {
           "shape": ""
          }
         },
         "name": "",
         "offsetgroup": "",
         "orientation": "v",
         "showlegend": false,
         "textposition": "auto",
         "type": "bar",
         "x": [
          "Harvard University",
          "Massachusetts Institute of Technology",
          "Stanford University",
          "University of Cambridge",
          "University of Oxford",
          "Princeton University",
          "University of Chicago",
          "Columbia University",
          "University of Pennsylvania",
          "Yale University"
         ],
         "xaxis": "x",
         "y": [
          100,
          96.7,
          95.2,
          94.1,
          93.3,
          92.6,
          92.1,
          91.6,
          91.2,
          90.8
         ],
         "yaxis": "y"
        }
       ],
       "layout": {
        "barmode": "relative",
        "legend": {
         "tracegroupgap": 0
        },
        "template": {
         "data": {
          "bar": [
           {
            "error_x": {
             "color": "#2a3f5f"
            },
            "error_y": {
             "color": "#2a3f5f"
            },
            "marker": {
             "line": {
              "color": "#E5ECF6",
              "width": 0.5
             },
             "pattern": {
              "fillmode": "overlay",
              "size": 10,
              "solidity": 0.2
             }
            },
            "type": "bar"
           }
          ],
          "barpolar": [
           {
            "marker": {
             "line": {
              "color": "#E5ECF6",
              "width": 0.5
             },
             "pattern": {
              "fillmode": "overlay",
              "size": 10,
              "solidity": 0.2
             }
            },
            "type": "barpolar"
           }
          ],
          "carpet": [
           {
            "aaxis": {
             "endlinecolor": "#2a3f5f",
             "gridcolor": "white",
             "linecolor": "white",
             "minorgridcolor": "white",
             "startlinecolor": "#2a3f5f"
            },
            "baxis": {
             "endlinecolor": "#2a3f5f",
             "gridcolor": "white",
             "linecolor": "white",
             "minorgridcolor": "white",
             "startlinecolor": "#2a3f5f"
            },
            "type": "carpet"
           }
          ],
          "choropleth": [
           {
            "colorbar": {
             "outlinewidth": 0,
             "ticks": ""
            },
            "type": "choropleth"
           }
          ],
          "contour": [
           {
            "colorbar": {
             "outlinewidth": 0,
             "ticks": ""
            },
            "colorscale": [
             [
              0,
              "#0d0887"
             ],
             [
              0.1111111111111111,
              "#46039f"
             ],
             [
              0.2222222222222222,
              "#7201a8"
             ],
             [
              0.3333333333333333,
              "#9c179e"
             ],
             [
              0.4444444444444444,
              "#bd3786"
             ],
             [
              0.5555555555555556,
              "#d8576b"
             ],
             [
              0.6666666666666666,
              "#ed7953"
             ],
             [
              0.7777777777777778,
              "#fb9f3a"
             ],
             [
              0.8888888888888888,
              "#fdca26"
             ],
             [
              1,
              "#f0f921"
             ]
            ],
            "type": "contour"
           }
          ],
          "contourcarpet": [
           {
            "colorbar": {
             "outlinewidth": 0,
             "ticks": ""
            },
            "type": "contourcarpet"
           }
          ],
          "heatmap": [
           {
            "colorbar": {
             "outlinewidth": 0,
             "ticks": ""
            },
            "colorscale": [
             [
              0,
              "#0d0887"
             ],
             [
              0.1111111111111111,
              "#46039f"
             ],
             [
              0.2222222222222222,
              "#7201a8"
             ],
             [
              0.3333333333333333,
              "#9c179e"
             ],
             [
              0.4444444444444444,
              "#bd3786"
             ],
             [
              0.5555555555555556,
              "#d8576b"
             ],
             [
              0.6666666666666666,
              "#ed7953"
             ],
             [
              0.7777777777777778,
              "#fb9f3a"
             ],
             [
              0.8888888888888888,
              "#fdca26"
             ],
             [
              1,
              "#f0f921"
             ]
            ],
            "type": "heatmap"
           }
          ],
          "heatmapgl": [
           {
            "colorbar": {
             "outlinewidth": 0,
             "ticks": ""
            },
            "colorscale": [
             [
              0,
              "#0d0887"
             ],
             [
              0.1111111111111111,
              "#46039f"
             ],
             [
              0.2222222222222222,
              "#7201a8"
             ],
             [
              0.3333333333333333,
              "#9c179e"
             ],
             [
              0.4444444444444444,
              "#bd3786"
             ],
             [
              0.5555555555555556,
              "#d8576b"
             ],
             [
              0.6666666666666666,
              "#ed7953"
             ],
             [
              0.7777777777777778,
              "#fb9f3a"
             ],
             [
              0.8888888888888888,
              "#fdca26"
             ],
             [
              1,
              "#f0f921"
             ]
            ],
            "type": "heatmapgl"
           }
          ],
          "histogram": [
           {
            "marker": {
             "pattern": {
              "fillmode": "overlay",
              "size": 10,
              "solidity": 0.2
             }
            },
            "type": "histogram"
           }
          ],
          "histogram2d": [
           {
            "colorbar": {
             "outlinewidth": 0,
             "ticks": ""
            },
            "colorscale": [
             [
              0,
              "#0d0887"
             ],
             [
              0.1111111111111111,
              "#46039f"
             ],
             [
              0.2222222222222222,
              "#7201a8"
             ],
             [
              0.3333333333333333,
              "#9c179e"
             ],
             [
              0.4444444444444444,
              "#bd3786"
             ],
             [
              0.5555555555555556,
              "#d8576b"
             ],
             [
              0.6666666666666666,
              "#ed7953"
             ],
             [
              0.7777777777777778,
              "#fb9f3a"
             ],
             [
              0.8888888888888888,
              "#fdca26"
             ],
             [
              1,
              "#f0f921"
             ]
            ],
            "type": "histogram2d"
           }
          ],
          "histogram2dcontour": [
           {
            "colorbar": {
             "outlinewidth": 0,
             "ticks": ""
            },
            "colorscale": [
             [
              0,
              "#0d0887"
             ],
             [
              0.1111111111111111,
              "#46039f"
             ],
             [
              0.2222222222222222,
              "#7201a8"
             ],
             [
              0.3333333333333333,
              "#9c179e"
             ],
             [
              0.4444444444444444,
              "#bd3786"
             ],
             [
              0.5555555555555556,
              "#d8576b"
             ],
             [
              0.6666666666666666,
              "#ed7953"
             ],
             [
              0.7777777777777778,
              "#fb9f3a"
             ],
             [
              0.8888888888888888,
              "#fdca26"
             ],
             [
              1,
              "#f0f921"
             ]
            ],
            "type": "histogram2dcontour"
           }
          ],
          "mesh3d": [
           {
            "colorbar": {
             "outlinewidth": 0,
             "ticks": ""
            },
            "type": "mesh3d"
           }
          ],
          "parcoords": [
           {
            "line": {
             "colorbar": {
              "outlinewidth": 0,
              "ticks": ""
             }
            },
            "type": "parcoords"
           }
          ],
          "pie": [
           {
            "automargin": true,
            "type": "pie"
           }
          ],
          "scatter": [
           {
            "fillpattern": {
             "fillmode": "overlay",
             "size": 10,
             "solidity": 0.2
            },
            "type": "scatter"
           }
          ],
          "scatter3d": [
           {
            "line": {
             "colorbar": {
              "outlinewidth": 0,
              "ticks": ""
             }
            },
            "marker": {
             "colorbar": {
              "outlinewidth": 0,
              "ticks": ""
             }
            },
            "type": "scatter3d"
           }
          ],
          "scattercarpet": [
           {
            "marker": {
             "colorbar": {
              "outlinewidth": 0,
              "ticks": ""
             }
            },
            "type": "scattercarpet"
           }
          ],
          "scattergeo": [
           {
            "marker": {
             "colorbar": {
              "outlinewidth": 0,
              "ticks": ""
             }
            },
            "type": "scattergeo"
           }
          ],
          "scattergl": [
           {
            "marker": {
             "colorbar": {
              "outlinewidth": 0,
              "ticks": ""
             }
            },
            "type": "scattergl"
           }
          ],
          "scattermapbox": [
           {
            "marker": {
             "colorbar": {
              "outlinewidth": 0,
              "ticks": ""
             }
            },
            "type": "scattermapbox"
           }
          ],
          "scatterpolar": [
           {
            "marker": {
             "colorbar": {
              "outlinewidth": 0,
              "ticks": ""
             }
            },
            "type": "scatterpolar"
           }
          ],
          "scatterpolargl": [
           {
            "marker": {
             "colorbar": {
              "outlinewidth": 0,
              "ticks": ""
             }
            },
            "type": "scatterpolargl"
           }
          ],
          "scatterternary": [
           {
            "marker": {
             "colorbar": {
              "outlinewidth": 0,
              "ticks": ""
             }
            },
            "type": "scatterternary"
           }
          ],
          "surface": [
           {
            "colorbar": {
             "outlinewidth": 0,
             "ticks": ""
            },
            "colorscale": [
             [
              0,
              "#0d0887"
             ],
             [
              0.1111111111111111,
              "#46039f"
             ],
             [
              0.2222222222222222,
              "#7201a8"
             ],
             [
              0.3333333333333333,
              "#9c179e"
             ],
             [
              0.4444444444444444,
              "#bd3786"
             ],
             [
              0.5555555555555556,
              "#d8576b"
             ],
             [
              0.6666666666666666,
              "#ed7953"
             ],
             [
              0.7777777777777778,
              "#fb9f3a"
             ],
             [
              0.8888888888888888,
              "#fdca26"
             ],
             [
              1,
              "#f0f921"
             ]
            ],
            "type": "surface"
           }
          ],
          "table": [
           {
            "cells": {
             "fill": {
              "color": "#EBF0F8"
             },
             "line": {
              "color": "white"
             }
            },
            "header": {
             "fill": {
              "color": "#C8D4E3"
             },
             "line": {
              "color": "white"
             }
            },
            "type": "table"
           }
          ]
         },
         "layout": {
          "annotationdefaults": {
           "arrowcolor": "#2a3f5f",
           "arrowhead": 0,
           "arrowwidth": 1
          },
          "autotypenumbers": "strict",
          "coloraxis": {
           "colorbar": {
            "outlinewidth": 0,
            "ticks": ""
           }
          },
          "colorscale": {
           "diverging": [
            [
             0,
             "#8e0152"
            ],
            [
             0.1,
             "#c51b7d"
            ],
            [
             0.2,
             "#de77ae"
            ],
            [
             0.3,
             "#f1b6da"
            ],
            [
             0.4,
             "#fde0ef"
            ],
            [
             0.5,
             "#f7f7f7"
            ],
            [
             0.6,
             "#e6f5d0"
            ],
            [
             0.7,
             "#b8e186"
            ],
            [
             0.8,
             "#7fbc41"
            ],
            [
             0.9,
             "#4d9221"
            ],
            [
             1,
             "#276419"
            ]
           ],
           "sequential": [
            [
             0,
             "#0d0887"
            ],
            [
             0.1111111111111111,
             "#46039f"
            ],
            [
             0.2222222222222222,
             "#7201a8"
            ],
            [
             0.3333333333333333,
             "#9c179e"
            ],
            [
             0.4444444444444444,
             "#bd3786"
            ],
            [
             0.5555555555555556,
             "#d8576b"
            ],
            [
             0.6666666666666666,
             "#ed7953"
            ],
            [
             0.7777777777777778,
             "#fb9f3a"
            ],
            [
             0.8888888888888888,
             "#fdca26"
            ],
            [
             1,
             "#f0f921"
            ]
           ],
           "sequentialminus": [
            [
             0,
             "#0d0887"
            ],
            [
             0.1111111111111111,
             "#46039f"
            ],
            [
             0.2222222222222222,
             "#7201a8"
            ],
            [
             0.3333333333333333,
             "#9c179e"
            ],
            [
             0.4444444444444444,
             "#bd3786"
            ],
            [
             0.5555555555555556,
             "#d8576b"
            ],
            [
             0.6666666666666666,
             "#ed7953"
            ],
            [
             0.7777777777777778,
             "#fb9f3a"
            ],
            [
             0.8888888888888888,
             "#fdca26"
            ],
            [
             1,
             "#f0f921"
            ]
           ]
          },
          "colorway": [
           "#636efa",
           "#EF553B",
           "#00cc96",
           "#ab63fa",
           "#FFA15A",
           "#19d3f3",
           "#FF6692",
           "#B6E880",
           "#FF97FF",
           "#FECB52"
          ],
          "font": {
           "color": "#2a3f5f"
          },
          "geo": {
           "bgcolor": "white",
           "lakecolor": "white",
           "landcolor": "#E5ECF6",
           "showlakes": true,
           "showland": true,
           "subunitcolor": "white"
          },
          "hoverlabel": {
           "align": "left"
          },
          "hovermode": "closest",
          "mapbox": {
           "style": "light"
          },
          "paper_bgcolor": "white",
          "plot_bgcolor": "#E5ECF6",
          "polar": {
           "angularaxis": {
            "gridcolor": "white",
            "linecolor": "white",
            "ticks": ""
           },
           "bgcolor": "#E5ECF6",
           "radialaxis": {
            "gridcolor": "white",
            "linecolor": "white",
            "ticks": ""
           }
          },
          "scene": {
           "xaxis": {
            "backgroundcolor": "#E5ECF6",
            "gridcolor": "white",
            "gridwidth": 2,
            "linecolor": "white",
            "showbackground": true,
            "ticks": "",
            "zerolinecolor": "white"
           },
           "yaxis": {
            "backgroundcolor": "#E5ECF6",
            "gridcolor": "white",
            "gridwidth": 2,
            "linecolor": "white",
            "showbackground": true,
            "ticks": "",
            "zerolinecolor": "white"
           },
           "zaxis": {
            "backgroundcolor": "#E5ECF6",
            "gridcolor": "white",
            "gridwidth": 2,
            "linecolor": "white",
            "showbackground": true,
            "ticks": "",
            "zerolinecolor": "white"
           }
          },
          "shapedefaults": {
           "line": {
            "color": "#2a3f5f"
           }
          },
          "ternary": {
           "aaxis": {
            "gridcolor": "white",
            "linecolor": "white",
            "ticks": ""
           },
           "baxis": {
            "gridcolor": "white",
            "linecolor": "white",
            "ticks": ""
           },
           "bgcolor": "#E5ECF6",
           "caxis": {
            "gridcolor": "white",
            "linecolor": "white",
            "ticks": ""
           }
          },
          "title": {
           "x": 0.05
          },
          "xaxis": {
           "automargin": true,
           "gridcolor": "white",
           "linecolor": "white",
           "ticks": "",
           "title": {
            "standoff": 15
           },
           "zerolinecolor": "white",
           "zerolinewidth": 2
          },
          "yaxis": {
           "automargin": true,
           "gridcolor": "white",
           "linecolor": "white",
           "ticks": "",
           "title": {
            "standoff": 15
           },
           "zerolinecolor": "white",
           "zerolinewidth": 2
          }
         }
        },
        "title": {
         "text": "Top 10 Universities in the Word Rank University"
        },
        "xaxis": {
         "anchor": "y",
         "domain": [
          0,
          1
         ],
         "title": {
          "text": "University Names"
         }
        },
        "yaxis": {
         "anchor": "x",
         "domain": [
          0,
          1
         ],
         "title": {
          "text": "Score"
         }
        }
       }
      }
     },
     "metadata": {},
     "output_type": "display_data"
    }
   ],
   "source": [
    "# Bar plot of the top 10 universities globally of word_rank using plotly \n",
    "\n",
    "fig = px.bar(best_10_word, x='University Names', y='Score', title='Top 10 Universities in the Word Rank University')\n",
    "fig.show()"
   ]
  },
  {
   "cell_type": "code",
   "execution_count": 309,
   "id": "b9630d75",
   "metadata": {},
   "outputs": [
    {
     "data": {
      "application/vnd.plotly.v1+json": {
       "config": {
        "plotlyServerURL": "https://plot.ly"
       },
       "data": [
        {
         "alignmentgroup": "True",
         "hovertemplate": "University Name =%{x}<br>scores=%{y}<extra></extra>",
         "legendgroup": "",
         "marker": {
          "color": "#636efa",
          "pattern": {
           "shape": ""
          }
         },
         "name": "",
         "offsetgroup": "",
         "orientation": "v",
         "showlegend": false,
         "textposition": "auto",
         "type": "bar",
         "x": [
          "Western Sydney University",
          "University of Manchester",
          "Queen’s University",
          "Universiti Sains Malaysia",
          "University of Tasmania",
          "Arizona State University (Tempe)",
          "University of Alberta",
          "RMIT University",
          "Aalborg University",
          "University of Victoria"
         ],
         "xaxis": "x",
         "y": [
          99.4,
          97.5,
          97.2,
          96.9,
          96.6,
          96.5,
          96.4,
          96.4,
          95.8,
          95.8
         ],
         "yaxis": "y"
        }
       ],
       "layout": {
        "barmode": "relative",
        "legend": {
         "tracegroupgap": 0
        },
        "template": {
         "data": {
          "bar": [
           {
            "error_x": {
             "color": "#2a3f5f"
            },
            "error_y": {
             "color": "#2a3f5f"
            },
            "marker": {
             "line": {
              "color": "#E5ECF6",
              "width": 0.5
             },
             "pattern": {
              "fillmode": "overlay",
              "size": 10,
              "solidity": 0.2
             }
            },
            "type": "bar"
           }
          ],
          "barpolar": [
           {
            "marker": {
             "line": {
              "color": "#E5ECF6",
              "width": 0.5
             },
             "pattern": {
              "fillmode": "overlay",
              "size": 10,
              "solidity": 0.2
             }
            },
            "type": "barpolar"
           }
          ],
          "carpet": [
           {
            "aaxis": {
             "endlinecolor": "#2a3f5f",
             "gridcolor": "white",
             "linecolor": "white",
             "minorgridcolor": "white",
             "startlinecolor": "#2a3f5f"
            },
            "baxis": {
             "endlinecolor": "#2a3f5f",
             "gridcolor": "white",
             "linecolor": "white",
             "minorgridcolor": "white",
             "startlinecolor": "#2a3f5f"
            },
            "type": "carpet"
           }
          ],
          "choropleth": [
           {
            "colorbar": {
             "outlinewidth": 0,
             "ticks": ""
            },
            "type": "choropleth"
           }
          ],
          "contour": [
           {
            "colorbar": {
             "outlinewidth": 0,
             "ticks": ""
            },
            "colorscale": [
             [
              0,
              "#0d0887"
             ],
             [
              0.1111111111111111,
              "#46039f"
             ],
             [
              0.2222222222222222,
              "#7201a8"
             ],
             [
              0.3333333333333333,
              "#9c179e"
             ],
             [
              0.4444444444444444,
              "#bd3786"
             ],
             [
              0.5555555555555556,
              "#d8576b"
             ],
             [
              0.6666666666666666,
              "#ed7953"
             ],
             [
              0.7777777777777778,
              "#fb9f3a"
             ],
             [
              0.8888888888888888,
              "#fdca26"
             ],
             [
              1,
              "#f0f921"
             ]
            ],
            "type": "contour"
           }
          ],
          "contourcarpet": [
           {
            "colorbar": {
             "outlinewidth": 0,
             "ticks": ""
            },
            "type": "contourcarpet"
           }
          ],
          "heatmap": [
           {
            "colorbar": {
             "outlinewidth": 0,
             "ticks": ""
            },
            "colorscale": [
             [
              0,
              "#0d0887"
             ],
             [
              0.1111111111111111,
              "#46039f"
             ],
             [
              0.2222222222222222,
              "#7201a8"
             ],
             [
              0.3333333333333333,
              "#9c179e"
             ],
             [
              0.4444444444444444,
              "#bd3786"
             ],
             [
              0.5555555555555556,
              "#d8576b"
             ],
             [
              0.6666666666666666,
              "#ed7953"
             ],
             [
              0.7777777777777778,
              "#fb9f3a"
             ],
             [
              0.8888888888888888,
              "#fdca26"
             ],
             [
              1,
              "#f0f921"
             ]
            ],
            "type": "heatmap"
           }
          ],
          "heatmapgl": [
           {
            "colorbar": {
             "outlinewidth": 0,
             "ticks": ""
            },
            "colorscale": [
             [
              0,
              "#0d0887"
             ],
             [
              0.1111111111111111,
              "#46039f"
             ],
             [
              0.2222222222222222,
              "#7201a8"
             ],
             [
              0.3333333333333333,
              "#9c179e"
             ],
             [
              0.4444444444444444,
              "#bd3786"
             ],
             [
              0.5555555555555556,
              "#d8576b"
             ],
             [
              0.6666666666666666,
              "#ed7953"
             ],
             [
              0.7777777777777778,
              "#fb9f3a"
             ],
             [
              0.8888888888888888,
              "#fdca26"
             ],
             [
              1,
              "#f0f921"
             ]
            ],
            "type": "heatmapgl"
           }
          ],
          "histogram": [
           {
            "marker": {
             "pattern": {
              "fillmode": "overlay",
              "size": 10,
              "solidity": 0.2
             }
            },
            "type": "histogram"
           }
          ],
          "histogram2d": [
           {
            "colorbar": {
             "outlinewidth": 0,
             "ticks": ""
            },
            "colorscale": [
             [
              0,
              "#0d0887"
             ],
             [
              0.1111111111111111,
              "#46039f"
             ],
             [
              0.2222222222222222,
              "#7201a8"
             ],
             [
              0.3333333333333333,
              "#9c179e"
             ],
             [
              0.4444444444444444,
              "#bd3786"
             ],
             [
              0.5555555555555556,
              "#d8576b"
             ],
             [
              0.6666666666666666,
              "#ed7953"
             ],
             [
              0.7777777777777778,
              "#fb9f3a"
             ],
             [
              0.8888888888888888,
              "#fdca26"
             ],
             [
              1,
              "#f0f921"
             ]
            ],
            "type": "histogram2d"
           }
          ],
          "histogram2dcontour": [
           {
            "colorbar": {
             "outlinewidth": 0,
             "ticks": ""
            },
            "colorscale": [
             [
              0,
              "#0d0887"
             ],
             [
              0.1111111111111111,
              "#46039f"
             ],
             [
              0.2222222222222222,
              "#7201a8"
             ],
             [
              0.3333333333333333,
              "#9c179e"
             ],
             [
              0.4444444444444444,
              "#bd3786"
             ],
             [
              0.5555555555555556,
              "#d8576b"
             ],
             [
              0.6666666666666666,
              "#ed7953"
             ],
             [
              0.7777777777777778,
              "#fb9f3a"
             ],
             [
              0.8888888888888888,
              "#fdca26"
             ],
             [
              1,
              "#f0f921"
             ]
            ],
            "type": "histogram2dcontour"
           }
          ],
          "mesh3d": [
           {
            "colorbar": {
             "outlinewidth": 0,
             "ticks": ""
            },
            "type": "mesh3d"
           }
          ],
          "parcoords": [
           {
            "line": {
             "colorbar": {
              "outlinewidth": 0,
              "ticks": ""
             }
            },
            "type": "parcoords"
           }
          ],
          "pie": [
           {
            "automargin": true,
            "type": "pie"
           }
          ],
          "scatter": [
           {
            "fillpattern": {
             "fillmode": "overlay",
             "size": 10,
             "solidity": 0.2
            },
            "type": "scatter"
           }
          ],
          "scatter3d": [
           {
            "line": {
             "colorbar": {
              "outlinewidth": 0,
              "ticks": ""
             }
            },
            "marker": {
             "colorbar": {
              "outlinewidth": 0,
              "ticks": ""
             }
            },
            "type": "scatter3d"
           }
          ],
          "scattercarpet": [
           {
            "marker": {
             "colorbar": {
              "outlinewidth": 0,
              "ticks": ""
             }
            },
            "type": "scattercarpet"
           }
          ],
          "scattergeo": [
           {
            "marker": {
             "colorbar": {
              "outlinewidth": 0,
              "ticks": ""
             }
            },
            "type": "scattergeo"
           }
          ],
          "scattergl": [
           {
            "marker": {
             "colorbar": {
              "outlinewidth": 0,
              "ticks": ""
             }
            },
            "type": "scattergl"
           }
          ],
          "scattermapbox": [
           {
            "marker": {
             "colorbar": {
              "outlinewidth": 0,
              "ticks": ""
             }
            },
            "type": "scattermapbox"
           }
          ],
          "scatterpolar": [
           {
            "marker": {
             "colorbar": {
              "outlinewidth": 0,
              "ticks": ""
             }
            },
            "type": "scatterpolar"
           }
          ],
          "scatterpolargl": [
           {
            "marker": {
             "colorbar": {
              "outlinewidth": 0,
              "ticks": ""
             }
            },
            "type": "scatterpolargl"
           }
          ],
          "scatterternary": [
           {
            "marker": {
             "colorbar": {
              "outlinewidth": 0,
              "ticks": ""
             }
            },
            "type": "scatterternary"
           }
          ],
          "surface": [
           {
            "colorbar": {
             "outlinewidth": 0,
             "ticks": ""
            },
            "colorscale": [
             [
              0,
              "#0d0887"
             ],
             [
              0.1111111111111111,
              "#46039f"
             ],
             [
              0.2222222222222222,
              "#7201a8"
             ],
             [
              0.3333333333333333,
              "#9c179e"
             ],
             [
              0.4444444444444444,
              "#bd3786"
             ],
             [
              0.5555555555555556,
              "#d8576b"
             ],
             [
              0.6666666666666666,
              "#ed7953"
             ],
             [
              0.7777777777777778,
              "#fb9f3a"
             ],
             [
              0.8888888888888888,
              "#fdca26"
             ],
             [
              1,
              "#f0f921"
             ]
            ],
            "type": "surface"
           }
          ],
          "table": [
           {
            "cells": {
             "fill": {
              "color": "#EBF0F8"
             },
             "line": {
              "color": "white"
             }
            },
            "header": {
             "fill": {
              "color": "#C8D4E3"
             },
             "line": {
              "color": "white"
             }
            },
            "type": "table"
           }
          ]
         },
         "layout": {
          "annotationdefaults": {
           "arrowcolor": "#2a3f5f",
           "arrowhead": 0,
           "arrowwidth": 1
          },
          "autotypenumbers": "strict",
          "coloraxis": {
           "colorbar": {
            "outlinewidth": 0,
            "ticks": ""
           }
          },
          "colorscale": {
           "diverging": [
            [
             0,
             "#8e0152"
            ],
            [
             0.1,
             "#c51b7d"
            ],
            [
             0.2,
             "#de77ae"
            ],
            [
             0.3,
             "#f1b6da"
            ],
            [
             0.4,
             "#fde0ef"
            ],
            [
             0.5,
             "#f7f7f7"
            ],
            [
             0.6,
             "#e6f5d0"
            ],
            [
             0.7,
             "#b8e186"
            ],
            [
             0.8,
             "#7fbc41"
            ],
            [
             0.9,
             "#4d9221"
            ],
            [
             1,
             "#276419"
            ]
           ],
           "sequential": [
            [
             0,
             "#0d0887"
            ],
            [
             0.1111111111111111,
             "#46039f"
            ],
            [
             0.2222222222222222,
             "#7201a8"
            ],
            [
             0.3333333333333333,
             "#9c179e"
            ],
            [
             0.4444444444444444,
             "#bd3786"
            ],
            [
             0.5555555555555556,
             "#d8576b"
            ],
            [
             0.6666666666666666,
             "#ed7953"
            ],
            [
             0.7777777777777778,
             "#fb9f3a"
            ],
            [
             0.8888888888888888,
             "#fdca26"
            ],
            [
             1,
             "#f0f921"
            ]
           ],
           "sequentialminus": [
            [
             0,
             "#0d0887"
            ],
            [
             0.1111111111111111,
             "#46039f"
            ],
            [
             0.2222222222222222,
             "#7201a8"
            ],
            [
             0.3333333333333333,
             "#9c179e"
            ],
            [
             0.4444444444444444,
             "#bd3786"
            ],
            [
             0.5555555555555556,
             "#d8576b"
            ],
            [
             0.6666666666666666,
             "#ed7953"
            ],
            [
             0.7777777777777778,
             "#fb9f3a"
            ],
            [
             0.8888888888888888,
             "#fdca26"
            ],
            [
             1,
             "#f0f921"
            ]
           ]
          },
          "colorway": [
           "#636efa",
           "#EF553B",
           "#00cc96",
           "#ab63fa",
           "#FFA15A",
           "#19d3f3",
           "#FF6692",
           "#B6E880",
           "#FF97FF",
           "#FECB52"
          ],
          "font": {
           "color": "#2a3f5f"
          },
          "geo": {
           "bgcolor": "white",
           "lakecolor": "white",
           "landcolor": "#E5ECF6",
           "showlakes": true,
           "showland": true,
           "subunitcolor": "white"
          },
          "hoverlabel": {
           "align": "left"
          },
          "hovermode": "closest",
          "mapbox": {
           "style": "light"
          },
          "paper_bgcolor": "white",
          "plot_bgcolor": "#E5ECF6",
          "polar": {
           "angularaxis": {
            "gridcolor": "white",
            "linecolor": "white",
            "ticks": ""
           },
           "bgcolor": "#E5ECF6",
           "radialaxis": {
            "gridcolor": "white",
            "linecolor": "white",
            "ticks": ""
           }
          },
          "scene": {
           "xaxis": {
            "backgroundcolor": "#E5ECF6",
            "gridcolor": "white",
            "gridwidth": 2,
            "linecolor": "white",
            "showbackground": true,
            "ticks": "",
            "zerolinecolor": "white"
           },
           "yaxis": {
            "backgroundcolor": "#E5ECF6",
            "gridcolor": "white",
            "gridwidth": 2,
            "linecolor": "white",
            "showbackground": true,
            "ticks": "",
            "zerolinecolor": "white"
           },
           "zaxis": {
            "backgroundcolor": "#E5ECF6",
            "gridcolor": "white",
            "gridwidth": 2,
            "linecolor": "white",
            "showbackground": true,
            "ticks": "",
            "zerolinecolor": "white"
           }
          },
          "shapedefaults": {
           "line": {
            "color": "#2a3f5f"
           }
          },
          "ternary": {
           "aaxis": {
            "gridcolor": "white",
            "linecolor": "white",
            "ticks": ""
           },
           "baxis": {
            "gridcolor": "white",
            "linecolor": "white",
            "ticks": ""
           },
           "bgcolor": "#E5ECF6",
           "caxis": {
            "gridcolor": "white",
            "linecolor": "white",
            "ticks": ""
           }
          },
          "title": {
           "x": 0.05
          },
          "xaxis": {
           "automargin": true,
           "gridcolor": "white",
           "linecolor": "white",
           "ticks": "",
           "title": {
            "standoff": 15
           },
           "zerolinecolor": "white",
           "zerolinewidth": 2
          },
          "yaxis": {
           "automargin": true,
           "gridcolor": "white",
           "linecolor": "white",
           "ticks": "",
           "title": {
            "standoff": 15
           },
           "zerolinecolor": "white",
           "zerolinewidth": 2
          }
         }
        },
        "title": {
         "text": "Top 10 Universities in the Times Higher Education"
        },
        "xaxis": {
         "anchor": "y",
         "domain": [
          0,
          1
         ],
         "title": {
          "text": "University Name "
         }
        },
        "yaxis": {
         "anchor": "x",
         "domain": [
          0,
          1
         ],
         "title": {
          "text": "scores"
         }
        }
       }
      }
     },
     "metadata": {},
     "output_type": "display_data"
    }
   ],
   "source": [
    "# Bar plot of the top 10 universities globally of word_rank using plotly \n",
    "\n",
    "fig = px.bar(times_h_test[:10], x='University Name ', y='scores', title='Top 10 Universities in the Times Higher Education')\n",
    "fig.show()"
   ]
  },
  {
   "cell_type": "code",
   "execution_count": 316,
   "id": "72ece4b7-5508-403a-8fb0-f519fc74272a",
   "metadata": {},
   "outputs": [
    {
     "data": {
      "application/vnd.plotly.v1+json": {
       "config": {
        "plotlyServerURL": "https://plot.ly"
       },
       "data": [
        {
         "alignmentgroup": "True",
         "hovertemplate": "University=%{x}<br>Frequency=%{y}<extra></extra>",
         "legendgroup": "",
         "marker": {
          "color": "#636efa",
          "pattern": {
           "shape": ""
          }
         },
         "name": "",
         "offsetgroup": "",
         "orientation": "v",
         "showlegend": false,
         "textposition": "auto",
         "type": "bar",
         "x": [
          "Harvard University",
          "Massachusetts Institute of Technology",
          "University of Cambridge",
          "Princeton University",
          "University of Oxford",
          "Columbia University",
          "University of Chicago",
          "Stanford University",
          "Arizona State University",
          "University of Pennsylvania",
          "University of Victoria",
          "Aalborg University",
          "RMIT University",
          "University of Alberta",
          "University of Manchester",
          "University of Tasmania",
          "Universiti Sains Malaysia",
          "Queen’s University",
          "Western Sydney University",
          "California Institute of Technology",
          "University of California, Berkeley",
          "Yale University"
         ],
         "xaxis": "x",
         "y": [
          2,
          2,
          2,
          2,
          2,
          2,
          2,
          2,
          1,
          1,
          1,
          1,
          1,
          1,
          1,
          1,
          1,
          1,
          1,
          1,
          1,
          1
         ],
         "yaxis": "y"
        }
       ],
       "layout": {
        "barmode": "relative",
        "legend": {
         "tracegroupgap": 0
        },
        "template": {
         "data": {
          "bar": [
           {
            "error_x": {
             "color": "#2a3f5f"
            },
            "error_y": {
             "color": "#2a3f5f"
            },
            "marker": {
             "line": {
              "color": "#E5ECF6",
              "width": 0.5
             },
             "pattern": {
              "fillmode": "overlay",
              "size": 10,
              "solidity": 0.2
             }
            },
            "type": "bar"
           }
          ],
          "barpolar": [
           {
            "marker": {
             "line": {
              "color": "#E5ECF6",
              "width": 0.5
             },
             "pattern": {
              "fillmode": "overlay",
              "size": 10,
              "solidity": 0.2
             }
            },
            "type": "barpolar"
           }
          ],
          "carpet": [
           {
            "aaxis": {
             "endlinecolor": "#2a3f5f",
             "gridcolor": "white",
             "linecolor": "white",
             "minorgridcolor": "white",
             "startlinecolor": "#2a3f5f"
            },
            "baxis": {
             "endlinecolor": "#2a3f5f",
             "gridcolor": "white",
             "linecolor": "white",
             "minorgridcolor": "white",
             "startlinecolor": "#2a3f5f"
            },
            "type": "carpet"
           }
          ],
          "choropleth": [
           {
            "colorbar": {
             "outlinewidth": 0,
             "ticks": ""
            },
            "type": "choropleth"
           }
          ],
          "contour": [
           {
            "colorbar": {
             "outlinewidth": 0,
             "ticks": ""
            },
            "colorscale": [
             [
              0,
              "#0d0887"
             ],
             [
              0.1111111111111111,
              "#46039f"
             ],
             [
              0.2222222222222222,
              "#7201a8"
             ],
             [
              0.3333333333333333,
              "#9c179e"
             ],
             [
              0.4444444444444444,
              "#bd3786"
             ],
             [
              0.5555555555555556,
              "#d8576b"
             ],
             [
              0.6666666666666666,
              "#ed7953"
             ],
             [
              0.7777777777777778,
              "#fb9f3a"
             ],
             [
              0.8888888888888888,
              "#fdca26"
             ],
             [
              1,
              "#f0f921"
             ]
            ],
            "type": "contour"
           }
          ],
          "contourcarpet": [
           {
            "colorbar": {
             "outlinewidth": 0,
             "ticks": ""
            },
            "type": "contourcarpet"
           }
          ],
          "heatmap": [
           {
            "colorbar": {
             "outlinewidth": 0,
             "ticks": ""
            },
            "colorscale": [
             [
              0,
              "#0d0887"
             ],
             [
              0.1111111111111111,
              "#46039f"
             ],
             [
              0.2222222222222222,
              "#7201a8"
             ],
             [
              0.3333333333333333,
              "#9c179e"
             ],
             [
              0.4444444444444444,
              "#bd3786"
             ],
             [
              0.5555555555555556,
              "#d8576b"
             ],
             [
              0.6666666666666666,
              "#ed7953"
             ],
             [
              0.7777777777777778,
              "#fb9f3a"
             ],
             [
              0.8888888888888888,
              "#fdca26"
             ],
             [
              1,
              "#f0f921"
             ]
            ],
            "type": "heatmap"
           }
          ],
          "heatmapgl": [
           {
            "colorbar": {
             "outlinewidth": 0,
             "ticks": ""
            },
            "colorscale": [
             [
              0,
              "#0d0887"
             ],
             [
              0.1111111111111111,
              "#46039f"
             ],
             [
              0.2222222222222222,
              "#7201a8"
             ],
             [
              0.3333333333333333,
              "#9c179e"
             ],
             [
              0.4444444444444444,
              "#bd3786"
             ],
             [
              0.5555555555555556,
              "#d8576b"
             ],
             [
              0.6666666666666666,
              "#ed7953"
             ],
             [
              0.7777777777777778,
              "#fb9f3a"
             ],
             [
              0.8888888888888888,
              "#fdca26"
             ],
             [
              1,
              "#f0f921"
             ]
            ],
            "type": "heatmapgl"
           }
          ],
          "histogram": [
           {
            "marker": {
             "pattern": {
              "fillmode": "overlay",
              "size": 10,
              "solidity": 0.2
             }
            },
            "type": "histogram"
           }
          ],
          "histogram2d": [
           {
            "colorbar": {
             "outlinewidth": 0,
             "ticks": ""
            },
            "colorscale": [
             [
              0,
              "#0d0887"
             ],
             [
              0.1111111111111111,
              "#46039f"
             ],
             [
              0.2222222222222222,
              "#7201a8"
             ],
             [
              0.3333333333333333,
              "#9c179e"
             ],
             [
              0.4444444444444444,
              "#bd3786"
             ],
             [
              0.5555555555555556,
              "#d8576b"
             ],
             [
              0.6666666666666666,
              "#ed7953"
             ],
             [
              0.7777777777777778,
              "#fb9f3a"
             ],
             [
              0.8888888888888888,
              "#fdca26"
             ],
             [
              1,
              "#f0f921"
             ]
            ],
            "type": "histogram2d"
           }
          ],
          "histogram2dcontour": [
           {
            "colorbar": {
             "outlinewidth": 0,
             "ticks": ""
            },
            "colorscale": [
             [
              0,
              "#0d0887"
             ],
             [
              0.1111111111111111,
              "#46039f"
             ],
             [
              0.2222222222222222,
              "#7201a8"
             ],
             [
              0.3333333333333333,
              "#9c179e"
             ],
             [
              0.4444444444444444,
              "#bd3786"
             ],
             [
              0.5555555555555556,
              "#d8576b"
             ],
             [
              0.6666666666666666,
              "#ed7953"
             ],
             [
              0.7777777777777778,
              "#fb9f3a"
             ],
             [
              0.8888888888888888,
              "#fdca26"
             ],
             [
              1,
              "#f0f921"
             ]
            ],
            "type": "histogram2dcontour"
           }
          ],
          "mesh3d": [
           {
            "colorbar": {
             "outlinewidth": 0,
             "ticks": ""
            },
            "type": "mesh3d"
           }
          ],
          "parcoords": [
           {
            "line": {
             "colorbar": {
              "outlinewidth": 0,
              "ticks": ""
             }
            },
            "type": "parcoords"
           }
          ],
          "pie": [
           {
            "automargin": true,
            "type": "pie"
           }
          ],
          "scatter": [
           {
            "fillpattern": {
             "fillmode": "overlay",
             "size": 10,
             "solidity": 0.2
            },
            "type": "scatter"
           }
          ],
          "scatter3d": [
           {
            "line": {
             "colorbar": {
              "outlinewidth": 0,
              "ticks": ""
             }
            },
            "marker": {
             "colorbar": {
              "outlinewidth": 0,
              "ticks": ""
             }
            },
            "type": "scatter3d"
           }
          ],
          "scattercarpet": [
           {
            "marker": {
             "colorbar": {
              "outlinewidth": 0,
              "ticks": ""
             }
            },
            "type": "scattercarpet"
           }
          ],
          "scattergeo": [
           {
            "marker": {
             "colorbar": {
              "outlinewidth": 0,
              "ticks": ""
             }
            },
            "type": "scattergeo"
           }
          ],
          "scattergl": [
           {
            "marker": {
             "colorbar": {
              "outlinewidth": 0,
              "ticks": ""
             }
            },
            "type": "scattergl"
           }
          ],
          "scattermapbox": [
           {
            "marker": {
             "colorbar": {
              "outlinewidth": 0,
              "ticks": ""
             }
            },
            "type": "scattermapbox"
           }
          ],
          "scatterpolar": [
           {
            "marker": {
             "colorbar": {
              "outlinewidth": 0,
              "ticks": ""
             }
            },
            "type": "scatterpolar"
           }
          ],
          "scatterpolargl": [
           {
            "marker": {
             "colorbar": {
              "outlinewidth": 0,
              "ticks": ""
             }
            },
            "type": "scatterpolargl"
           }
          ],
          "scatterternary": [
           {
            "marker": {
             "colorbar": {
              "outlinewidth": 0,
              "ticks": ""
             }
            },
            "type": "scatterternary"
           }
          ],
          "surface": [
           {
            "colorbar": {
             "outlinewidth": 0,
             "ticks": ""
            },
            "colorscale": [
             [
              0,
              "#0d0887"
             ],
             [
              0.1111111111111111,
              "#46039f"
             ],
             [
              0.2222222222222222,
              "#7201a8"
             ],
             [
              0.3333333333333333,
              "#9c179e"
             ],
             [
              0.4444444444444444,
              "#bd3786"
             ],
             [
              0.5555555555555556,
              "#d8576b"
             ],
             [
              0.6666666666666666,
              "#ed7953"
             ],
             [
              0.7777777777777778,
              "#fb9f3a"
             ],
             [
              0.8888888888888888,
              "#fdca26"
             ],
             [
              1,
              "#f0f921"
             ]
            ],
            "type": "surface"
           }
          ],
          "table": [
           {
            "cells": {
             "fill": {
              "color": "#EBF0F8"
             },
             "line": {
              "color": "white"
             }
            },
            "header": {
             "fill": {
              "color": "#C8D4E3"
             },
             "line": {
              "color": "white"
             }
            },
            "type": "table"
           }
          ]
         },
         "layout": {
          "annotationdefaults": {
           "arrowcolor": "#2a3f5f",
           "arrowhead": 0,
           "arrowwidth": 1
          },
          "autotypenumbers": "strict",
          "coloraxis": {
           "colorbar": {
            "outlinewidth": 0,
            "ticks": ""
           }
          },
          "colorscale": {
           "diverging": [
            [
             0,
             "#8e0152"
            ],
            [
             0.1,
             "#c51b7d"
            ],
            [
             0.2,
             "#de77ae"
            ],
            [
             0.3,
             "#f1b6da"
            ],
            [
             0.4,
             "#fde0ef"
            ],
            [
             0.5,
             "#f7f7f7"
            ],
            [
             0.6,
             "#e6f5d0"
            ],
            [
             0.7,
             "#b8e186"
            ],
            [
             0.8,
             "#7fbc41"
            ],
            [
             0.9,
             "#4d9221"
            ],
            [
             1,
             "#276419"
            ]
           ],
           "sequential": [
            [
             0,
             "#0d0887"
            ],
            [
             0.1111111111111111,
             "#46039f"
            ],
            [
             0.2222222222222222,
             "#7201a8"
            ],
            [
             0.3333333333333333,
             "#9c179e"
            ],
            [
             0.4444444444444444,
             "#bd3786"
            ],
            [
             0.5555555555555556,
             "#d8576b"
            ],
            [
             0.6666666666666666,
             "#ed7953"
            ],
            [
             0.7777777777777778,
             "#fb9f3a"
            ],
            [
             0.8888888888888888,
             "#fdca26"
            ],
            [
             1,
             "#f0f921"
            ]
           ],
           "sequentialminus": [
            [
             0,
             "#0d0887"
            ],
            [
             0.1111111111111111,
             "#46039f"
            ],
            [
             0.2222222222222222,
             "#7201a8"
            ],
            [
             0.3333333333333333,
             "#9c179e"
            ],
            [
             0.4444444444444444,
             "#bd3786"
            ],
            [
             0.5555555555555556,
             "#d8576b"
            ],
            [
             0.6666666666666666,
             "#ed7953"
            ],
            [
             0.7777777777777778,
             "#fb9f3a"
            ],
            [
             0.8888888888888888,
             "#fdca26"
            ],
            [
             1,
             "#f0f921"
            ]
           ]
          },
          "colorway": [
           "#636efa",
           "#EF553B",
           "#00cc96",
           "#ab63fa",
           "#FFA15A",
           "#19d3f3",
           "#FF6692",
           "#B6E880",
           "#FF97FF",
           "#FECB52"
          ],
          "font": {
           "color": "#2a3f5f"
          },
          "geo": {
           "bgcolor": "white",
           "lakecolor": "white",
           "landcolor": "#E5ECF6",
           "showlakes": true,
           "showland": true,
           "subunitcolor": "white"
          },
          "hoverlabel": {
           "align": "left"
          },
          "hovermode": "closest",
          "mapbox": {
           "style": "light"
          },
          "paper_bgcolor": "white",
          "plot_bgcolor": "#E5ECF6",
          "polar": {
           "angularaxis": {
            "gridcolor": "white",
            "linecolor": "white",
            "ticks": ""
           },
           "bgcolor": "#E5ECF6",
           "radialaxis": {
            "gridcolor": "white",
            "linecolor": "white",
            "ticks": ""
           }
          },
          "scene": {
           "xaxis": {
            "backgroundcolor": "#E5ECF6",
            "gridcolor": "white",
            "gridwidth": 2,
            "linecolor": "white",
            "showbackground": true,
            "ticks": "",
            "zerolinecolor": "white"
           },
           "yaxis": {
            "backgroundcolor": "#E5ECF6",
            "gridcolor": "white",
            "gridwidth": 2,
            "linecolor": "white",
            "showbackground": true,
            "ticks": "",
            "zerolinecolor": "white"
           },
           "zaxis": {
            "backgroundcolor": "#E5ECF6",
            "gridcolor": "white",
            "gridwidth": 2,
            "linecolor": "white",
            "showbackground": true,
            "ticks": "",
            "zerolinecolor": "white"
           }
          },
          "shapedefaults": {
           "line": {
            "color": "#2a3f5f"
           }
          },
          "ternary": {
           "aaxis": {
            "gridcolor": "white",
            "linecolor": "white",
            "ticks": ""
           },
           "baxis": {
            "gridcolor": "white",
            "linecolor": "white",
            "ticks": ""
           },
           "bgcolor": "#E5ECF6",
           "caxis": {
            "gridcolor": "white",
            "linecolor": "white",
            "ticks": ""
           }
          },
          "title": {
           "x": 0.05
          },
          "xaxis": {
           "automargin": true,
           "gridcolor": "white",
           "linecolor": "white",
           "ticks": "",
           "title": {
            "standoff": 15
           },
           "zerolinecolor": "white",
           "zerolinewidth": 2
          },
          "yaxis": {
           "automargin": true,
           "gridcolor": "white",
           "linecolor": "white",
           "ticks": "",
           "title": {
            "standoff": 15
           },
           "zerolinecolor": "white",
           "zerolinewidth": 2
          }
         }
        },
        "title": {
         "text": "Frequency of Top 10 Universities in Different Rankings"
        },
        "xaxis": {
         "anchor": "y",
         "domain": [
          0,
          1
         ],
         "tickangle": -45,
         "title": {
          "text": "University"
         }
        },
        "yaxis": {
         "anchor": "x",
         "domain": [
          0,
          1
         ],
         "title": {
          "text": "Frequency"
         }
        }
       }
      }
     },
     "metadata": {},
     "output_type": "display_data"
    }
   ],
   "source": [
    "#Bar chart of the frequency of Top 10 Universities in Different Rankings\n",
    "\n",
    "# Concatenate the top 10 universities from each ranking into a single series\n",
    "all_in_one_col = pd.concat([best_10_shanghai, best_10_times, best_10_word['University Names']], ignore_index=True)\n",
    "\n",
    "# Remove any text within parentheses from the university names (shortcut or city name)\n",
    "all_in_one_col = all_in_one_col.apply(lambda x: re.sub(r'\\s*\\(.*?\\)', '', x))\n",
    "\n",
    "\n",
    "# Create a DataFrame from the combined series\n",
    "all_in_one_df = all_in_one_col.value_counts().reset_index()\n",
    "all_in_one_df.columns = ['University', 'Frequency']\n",
    "\n",
    "# Plot the frequency of each university in the combined series\n",
    "fig = px.bar(all_in_one_df, x='University', y='Frequency', title='Frequency of Top 10 Universities in Different Rankings')\n",
    "fig.update_layout(xaxis_title='University', yaxis_title='Frequency', xaxis_tickangle=-45)\n",
    "fig.show()"
   ]
  },
  {
   "cell_type": "code",
   "execution_count": 373,
   "id": "c3f0d31e",
   "metadata": {},
   "outputs": [
    {
     "data": {
      "application/vnd.plotly.v1+json": {
       "config": {
        "plotlyServerURL": "https://plot.ly"
       },
       "data": [
        {
         "hovertemplate": "University Names=%{x}<br>Employability Rank=%{y}<br>size=%{marker.size}<extra></extra>",
         "legendgroup": "",
         "marker": {
          "color": "#636efa",
          "size": [
           14,
           13,
           12,
           11,
           10,
           9,
           8,
           7,
           6,
           5
          ],
          "sizemode": "area",
          "sizeref": 0.035,
          "symbol": "circle"
         },
         "mode": "markers",
         "name": "",
         "orientation": "v",
         "showlegend": false,
         "type": "scatter",
         "x": [
          "Harvard University",
          "INSEAD",
          "Institut national du service public",
          "Stanford University",
          "China Europe International Business School",
          "University of Tokyo",
          "HEC Paris",
          "University of Pennsylvania",
          "Institut Polytechnique de Paris",
          "International Institute for Management Development"
         ],
         "xaxis": "x",
         "y": [
          1,
          2,
          3,
          4,
          5,
          6,
          7,
          8,
          9,
          10
         ],
         "yaxis": "y"
        }
       ],
       "layout": {
        "legend": {
         "itemsizing": "constant",
         "tracegroupgap": 0
        },
        "template": {
         "data": {
          "bar": [
           {
            "error_x": {
             "color": "#2a3f5f"
            },
            "error_y": {
             "color": "#2a3f5f"
            },
            "marker": {
             "line": {
              "color": "#E5ECF6",
              "width": 0.5
             },
             "pattern": {
              "fillmode": "overlay",
              "size": 10,
              "solidity": 0.2
             }
            },
            "type": "bar"
           }
          ],
          "barpolar": [
           {
            "marker": {
             "line": {
              "color": "#E5ECF6",
              "width": 0.5
             },
             "pattern": {
              "fillmode": "overlay",
              "size": 10,
              "solidity": 0.2
             }
            },
            "type": "barpolar"
           }
          ],
          "carpet": [
           {
            "aaxis": {
             "endlinecolor": "#2a3f5f",
             "gridcolor": "white",
             "linecolor": "white",
             "minorgridcolor": "white",
             "startlinecolor": "#2a3f5f"
            },
            "baxis": {
             "endlinecolor": "#2a3f5f",
             "gridcolor": "white",
             "linecolor": "white",
             "minorgridcolor": "white",
             "startlinecolor": "#2a3f5f"
            },
            "type": "carpet"
           }
          ],
          "choropleth": [
           {
            "colorbar": {
             "outlinewidth": 0,
             "ticks": ""
            },
            "type": "choropleth"
           }
          ],
          "contour": [
           {
            "colorbar": {
             "outlinewidth": 0,
             "ticks": ""
            },
            "colorscale": [
             [
              0,
              "#0d0887"
             ],
             [
              0.1111111111111111,
              "#46039f"
             ],
             [
              0.2222222222222222,
              "#7201a8"
             ],
             [
              0.3333333333333333,
              "#9c179e"
             ],
             [
              0.4444444444444444,
              "#bd3786"
             ],
             [
              0.5555555555555556,
              "#d8576b"
             ],
             [
              0.6666666666666666,
              "#ed7953"
             ],
             [
              0.7777777777777778,
              "#fb9f3a"
             ],
             [
              0.8888888888888888,
              "#fdca26"
             ],
             [
              1,
              "#f0f921"
             ]
            ],
            "type": "contour"
           }
          ],
          "contourcarpet": [
           {
            "colorbar": {
             "outlinewidth": 0,
             "ticks": ""
            },
            "type": "contourcarpet"
           }
          ],
          "heatmap": [
           {
            "colorbar": {
             "outlinewidth": 0,
             "ticks": ""
            },
            "colorscale": [
             [
              0,
              "#0d0887"
             ],
             [
              0.1111111111111111,
              "#46039f"
             ],
             [
              0.2222222222222222,
              "#7201a8"
             ],
             [
              0.3333333333333333,
              "#9c179e"
             ],
             [
              0.4444444444444444,
              "#bd3786"
             ],
             [
              0.5555555555555556,
              "#d8576b"
             ],
             [
              0.6666666666666666,
              "#ed7953"
             ],
             [
              0.7777777777777778,
              "#fb9f3a"
             ],
             [
              0.8888888888888888,
              "#fdca26"
             ],
             [
              1,
              "#f0f921"
             ]
            ],
            "type": "heatmap"
           }
          ],
          "heatmapgl": [
           {
            "colorbar": {
             "outlinewidth": 0,
             "ticks": ""
            },
            "colorscale": [
             [
              0,
              "#0d0887"
             ],
             [
              0.1111111111111111,
              "#46039f"
             ],
             [
              0.2222222222222222,
              "#7201a8"
             ],
             [
              0.3333333333333333,
              "#9c179e"
             ],
             [
              0.4444444444444444,
              "#bd3786"
             ],
             [
              0.5555555555555556,
              "#d8576b"
             ],
             [
              0.6666666666666666,
              "#ed7953"
             ],
             [
              0.7777777777777778,
              "#fb9f3a"
             ],
             [
              0.8888888888888888,
              "#fdca26"
             ],
             [
              1,
              "#f0f921"
             ]
            ],
            "type": "heatmapgl"
           }
          ],
          "histogram": [
           {
            "marker": {
             "pattern": {
              "fillmode": "overlay",
              "size": 10,
              "solidity": 0.2
             }
            },
            "type": "histogram"
           }
          ],
          "histogram2d": [
           {
            "colorbar": {
             "outlinewidth": 0,
             "ticks": ""
            },
            "colorscale": [
             [
              0,
              "#0d0887"
             ],
             [
              0.1111111111111111,
              "#46039f"
             ],
             [
              0.2222222222222222,
              "#7201a8"
             ],
             [
              0.3333333333333333,
              "#9c179e"
             ],
             [
              0.4444444444444444,
              "#bd3786"
             ],
             [
              0.5555555555555556,
              "#d8576b"
             ],
             [
              0.6666666666666666,
              "#ed7953"
             ],
             [
              0.7777777777777778,
              "#fb9f3a"
             ],
             [
              0.8888888888888888,
              "#fdca26"
             ],
             [
              1,
              "#f0f921"
             ]
            ],
            "type": "histogram2d"
           }
          ],
          "histogram2dcontour": [
           {
            "colorbar": {
             "outlinewidth": 0,
             "ticks": ""
            },
            "colorscale": [
             [
              0,
              "#0d0887"
             ],
             [
              0.1111111111111111,
              "#46039f"
             ],
             [
              0.2222222222222222,
              "#7201a8"
             ],
             [
              0.3333333333333333,
              "#9c179e"
             ],
             [
              0.4444444444444444,
              "#bd3786"
             ],
             [
              0.5555555555555556,
              "#d8576b"
             ],
             [
              0.6666666666666666,
              "#ed7953"
             ],
             [
              0.7777777777777778,
              "#fb9f3a"
             ],
             [
              0.8888888888888888,
              "#fdca26"
             ],
             [
              1,
              "#f0f921"
             ]
            ],
            "type": "histogram2dcontour"
           }
          ],
          "mesh3d": [
           {
            "colorbar": {
             "outlinewidth": 0,
             "ticks": ""
            },
            "type": "mesh3d"
           }
          ],
          "parcoords": [
           {
            "line": {
             "colorbar": {
              "outlinewidth": 0,
              "ticks": ""
             }
            },
            "type": "parcoords"
           }
          ],
          "pie": [
           {
            "automargin": true,
            "type": "pie"
           }
          ],
          "scatter": [
           {
            "fillpattern": {
             "fillmode": "overlay",
             "size": 10,
             "solidity": 0.2
            },
            "type": "scatter"
           }
          ],
          "scatter3d": [
           {
            "line": {
             "colorbar": {
              "outlinewidth": 0,
              "ticks": ""
             }
            },
            "marker": {
             "colorbar": {
              "outlinewidth": 0,
              "ticks": ""
             }
            },
            "type": "scatter3d"
           }
          ],
          "scattercarpet": [
           {
            "marker": {
             "colorbar": {
              "outlinewidth": 0,
              "ticks": ""
             }
            },
            "type": "scattercarpet"
           }
          ],
          "scattergeo": [
           {
            "marker": {
             "colorbar": {
              "outlinewidth": 0,
              "ticks": ""
             }
            },
            "type": "scattergeo"
           }
          ],
          "scattergl": [
           {
            "marker": {
             "colorbar": {
              "outlinewidth": 0,
              "ticks": ""
             }
            },
            "type": "scattergl"
           }
          ],
          "scattermapbox": [
           {
            "marker": {
             "colorbar": {
              "outlinewidth": 0,
              "ticks": ""
             }
            },
            "type": "scattermapbox"
           }
          ],
          "scatterpolar": [
           {
            "marker": {
             "colorbar": {
              "outlinewidth": 0,
              "ticks": ""
             }
            },
            "type": "scatterpolar"
           }
          ],
          "scatterpolargl": [
           {
            "marker": {
             "colorbar": {
              "outlinewidth": 0,
              "ticks": ""
             }
            },
            "type": "scatterpolargl"
           }
          ],
          "scatterternary": [
           {
            "marker": {
             "colorbar": {
              "outlinewidth": 0,
              "ticks": ""
             }
            },
            "type": "scatterternary"
           }
          ],
          "surface": [
           {
            "colorbar": {
             "outlinewidth": 0,
             "ticks": ""
            },
            "colorscale": [
             [
              0,
              "#0d0887"
             ],
             [
              0.1111111111111111,
              "#46039f"
             ],
             [
              0.2222222222222222,
              "#7201a8"
             ],
             [
              0.3333333333333333,
              "#9c179e"
             ],
             [
              0.4444444444444444,
              "#bd3786"
             ],
             [
              0.5555555555555556,
              "#d8576b"
             ],
             [
              0.6666666666666666,
              "#ed7953"
             ],
             [
              0.7777777777777778,
              "#fb9f3a"
             ],
             [
              0.8888888888888888,
              "#fdca26"
             ],
             [
              1,
              "#f0f921"
             ]
            ],
            "type": "surface"
           }
          ],
          "table": [
           {
            "cells": {
             "fill": {
              "color": "#EBF0F8"
             },
             "line": {
              "color": "white"
             }
            },
            "header": {
             "fill": {
              "color": "#C8D4E3"
             },
             "line": {
              "color": "white"
             }
            },
            "type": "table"
           }
          ]
         },
         "layout": {
          "annotationdefaults": {
           "arrowcolor": "#2a3f5f",
           "arrowhead": 0,
           "arrowwidth": 1
          },
          "autotypenumbers": "strict",
          "coloraxis": {
           "colorbar": {
            "outlinewidth": 0,
            "ticks": ""
           }
          },
          "colorscale": {
           "diverging": [
            [
             0,
             "#8e0152"
            ],
            [
             0.1,
             "#c51b7d"
            ],
            [
             0.2,
             "#de77ae"
            ],
            [
             0.3,
             "#f1b6da"
            ],
            [
             0.4,
             "#fde0ef"
            ],
            [
             0.5,
             "#f7f7f7"
            ],
            [
             0.6,
             "#e6f5d0"
            ],
            [
             0.7,
             "#b8e186"
            ],
            [
             0.8,
             "#7fbc41"
            ],
            [
             0.9,
             "#4d9221"
            ],
            [
             1,
             "#276419"
            ]
           ],
           "sequential": [
            [
             0,
             "#0d0887"
            ],
            [
             0.1111111111111111,
             "#46039f"
            ],
            [
             0.2222222222222222,
             "#7201a8"
            ],
            [
             0.3333333333333333,
             "#9c179e"
            ],
            [
             0.4444444444444444,
             "#bd3786"
            ],
            [
             0.5555555555555556,
             "#d8576b"
            ],
            [
             0.6666666666666666,
             "#ed7953"
            ],
            [
             0.7777777777777778,
             "#fb9f3a"
            ],
            [
             0.8888888888888888,
             "#fdca26"
            ],
            [
             1,
             "#f0f921"
            ]
           ],
           "sequentialminus": [
            [
             0,
             "#0d0887"
            ],
            [
             0.1111111111111111,
             "#46039f"
            ],
            [
             0.2222222222222222,
             "#7201a8"
            ],
            [
             0.3333333333333333,
             "#9c179e"
            ],
            [
             0.4444444444444444,
             "#bd3786"
            ],
            [
             0.5555555555555556,
             "#d8576b"
            ],
            [
             0.6666666666666666,
             "#ed7953"
            ],
            [
             0.7777777777777778,
             "#fb9f3a"
            ],
            [
             0.8888888888888888,
             "#fdca26"
            ],
            [
             1,
             "#f0f921"
            ]
           ]
          },
          "colorway": [
           "#636efa",
           "#EF553B",
           "#00cc96",
           "#ab63fa",
           "#FFA15A",
           "#19d3f3",
           "#FF6692",
           "#B6E880",
           "#FF97FF",
           "#FECB52"
          ],
          "font": {
           "color": "#2a3f5f"
          },
          "geo": {
           "bgcolor": "white",
           "lakecolor": "white",
           "landcolor": "#E5ECF6",
           "showlakes": true,
           "showland": true,
           "subunitcolor": "white"
          },
          "hoverlabel": {
           "align": "left"
          },
          "hovermode": "closest",
          "mapbox": {
           "style": "light"
          },
          "paper_bgcolor": "white",
          "plot_bgcolor": "#E5ECF6",
          "polar": {
           "angularaxis": {
            "gridcolor": "white",
            "linecolor": "white",
            "ticks": ""
           },
           "bgcolor": "#E5ECF6",
           "radialaxis": {
            "gridcolor": "white",
            "linecolor": "white",
            "ticks": ""
           }
          },
          "scene": {
           "xaxis": {
            "backgroundcolor": "#E5ECF6",
            "gridcolor": "white",
            "gridwidth": 2,
            "linecolor": "white",
            "showbackground": true,
            "ticks": "",
            "zerolinecolor": "white"
           },
           "yaxis": {
            "backgroundcolor": "#E5ECF6",
            "gridcolor": "white",
            "gridwidth": 2,
            "linecolor": "white",
            "showbackground": true,
            "ticks": "",
            "zerolinecolor": "white"
           },
           "zaxis": {
            "backgroundcolor": "#E5ECF6",
            "gridcolor": "white",
            "gridwidth": 2,
            "linecolor": "white",
            "showbackground": true,
            "ticks": "",
            "zerolinecolor": "white"
           }
          },
          "shapedefaults": {
           "line": {
            "color": "#2a3f5f"
           }
          },
          "ternary": {
           "aaxis": {
            "gridcolor": "white",
            "linecolor": "white",
            "ticks": ""
           },
           "baxis": {
            "gridcolor": "white",
            "linecolor": "white",
            "ticks": ""
           },
           "bgcolor": "#E5ECF6",
           "caxis": {
            "gridcolor": "white",
            "linecolor": "white",
            "ticks": ""
           }
          },
          "title": {
           "x": 0.05
          },
          "xaxis": {
           "automargin": true,
           "gridcolor": "white",
           "linecolor": "white",
           "ticks": "",
           "title": {
            "standoff": 15
           },
           "zerolinecolor": "white",
           "zerolinewidth": 2
          },
          "yaxis": {
           "automargin": true,
           "gridcolor": "white",
           "linecolor": "white",
           "ticks": "",
           "title": {
            "standoff": 15
           },
           "zerolinecolor": "white",
           "zerolinewidth": 2
          }
         }
        },
        "title": {
         "text": "University Employability Ranking"
        },
        "xaxis": {
         "anchor": "y",
         "domain": [
          0,
          1
         ],
         "title": {
          "text": "University Names"
         }
        },
        "yaxis": {
         "anchor": "x",
         "autorange": "reversed",
         "domain": [
          0,
          1
         ],
         "title": {
          "text": "Employability Rank"
         }
        }
       }
      }
     },
     "metadata": {},
     "output_type": "display_data"
    }
   ],
   "source": [
    "fig = px.scatter(\n",
    "    df_filtered[:10],\n",
    "    x='University Names',\n",
    "    y='Employability Rank',\n",
    "    size=[15 - rank for rank in df_filtered['Employability Rank'][:10]],  # Larger markers for better ranks\n",
    "  # Green for best, red for worst\n",
    "    labels={'x': 'University Names', 'y': 'Employability Rank'},\n",
    "    title='University Employability Ranking'\n",
    ")\n",
    "\n",
    "# Update layout to reverse y-axis (1 is best)\n",
    "fig.update_layout(\n",
    "    yaxis=dict(autorange='reversed'),\n",
    "    xaxis_title='University Names',\n",
    "    yaxis_title='Employability Rank'\n",
    ")\n",
    "\n",
    "# Show the plot\n",
    "fig.show()"
   ]
  },
  {
   "cell_type": "code",
   "execution_count": 355,
   "id": "6a7db7b5",
   "metadata": {},
   "outputs": [
    {
     "data": {
      "application/vnd.plotly.v1+json": {
       "config": {
        "plotlyServerURL": "https://plot.ly"
       },
       "data": [
        {
         "hovertemplate": "World Rank=%{x}<br>Score=%{y}<extra></extra>",
         "legendgroup": "",
         "marker": {
          "color": "blue",
          "size": 5,
          "symbol": "circle"
         },
         "mode": "markers",
         "name": "",
         "showlegend": false,
         "type": "scattergl",
         "x": [
          1,
          120,
          211,
          3,
          274,
          13,
          280,
          9,
          45,
          406,
          419,
          2,
          103,
          8,
          7,
          6,
          15,
          42,
          458,
          588,
          725,
          31,
          332,
          802,
          4,
          220,
          5,
          614,
          14,
          991,
          21,
          27,
          343,
          873,
          10,
          914,
          71,
          1002,
          183,
          16,
          102,
          943,
          225,
          844,
          24,
          453,
          1375,
          575,
          20,
          999,
          140,
          965,
          1515,
          1486,
          64,
          44,
          928,
          49,
          12,
          1234,
          695,
          488,
          18,
          34,
          1354,
          1355,
          262,
          94,
          153,
          91,
          1957,
          1732,
          1987,
          100,
          555,
          159,
          1112,
          179,
          1851,
          188,
          1363,
          573,
          96,
          1035,
          327,
          1531,
          1261,
          30,
          56,
          247,
          65,
          37,
          89,
          114,
          11,
          1910,
          290,
          993,
          832,
          642,
          28,
          1202,
          1444,
          165,
          160,
          657,
          462,
          26,
          852,
          90,
          536,
          99,
          1890,
          1409,
          210,
          1136,
          104,
          167,
          29,
          607,
          470,
          1858,
          228,
          1471,
          69,
          154,
          246,
          53,
          253,
          1504,
          1574,
          32,
          1752,
          74,
          182,
          22,
          43,
          361,
          175,
          287,
          1469,
          997,
          62,
          143,
          605,
          1066,
          1790,
          1842,
          1709,
          163,
          473,
          23,
          67,
          1496,
          127,
          66,
          158,
          54,
          1703,
          570,
          1141,
          1393,
          1151,
          1932,
          81,
          177,
          612,
          261,
          200,
          249,
          689,
          17,
          214,
          151,
          889,
          323,
          312,
          1053,
          359,
          117,
          990,
          838,
          350,
          75,
          390,
          450,
          118,
          714,
          317,
          1788,
          621,
          1587,
          204,
          466,
          1380,
          187,
          267,
          194,
          146,
          25,
          236,
          738,
          130,
          1105,
          195,
          1898,
          95,
          231,
          1252,
          1264,
          230,
          392,
          1259,
          1153,
          46,
          1941,
          239,
          556,
          1067,
          119,
          241,
          203,
          364,
          145,
          288,
          131,
          169,
          384,
          748,
          1405,
          554,
          242,
          266,
          1277,
          634,
          681,
          1532,
          213,
          125,
          60,
          1579,
          101,
          142,
          860,
          111,
          282,
          206,
          541,
          47,
          627,
          244,
          444,
          41,
          701,
          1341,
          270,
          454,
          451,
          123,
          553,
          533,
          352,
          823,
          70,
          1130,
          170,
          1124,
          85,
          620,
          147,
          299,
          234,
          348,
          478,
          463,
          1652,
          1917,
          355,
          156,
          218,
          78,
          97,
          498,
          335,
          493,
          501,
          325,
          35,
          109,
          319,
          1009,
          79,
          199,
          1365,
          831,
          129,
          674,
          1686,
          1313,
          217,
          927,
          168,
          1600,
          1716,
          57,
          77,
          405,
          107,
          449,
          987,
          50,
          263,
          1773,
          945,
          564,
          86,
          726,
          93,
          329,
          316,
          512,
          292,
          593,
          318,
          196,
          308,
          1429,
          320,
          1683,
          598,
          737,
          446,
          787,
          475,
          563,
          176,
          108,
          1260,
          141,
          1623,
          1249,
          268,
          721,
          678,
          1770,
          48,
          376,
          527,
          110,
          72,
          212,
          546,
          1419,
          1489,
          84,
          506,
          76,
          1720,
          654,
          742,
          115,
          484,
          1226,
          283,
          825,
          116,
          198,
          688,
          40,
          619,
          273,
          178,
          464,
          1931,
          295,
          122,
          128,
          1485,
          136,
          882,
          345,
          52,
          1781,
          209,
          310,
          700,
          121,
          408,
          98,
          1624,
          221,
          1079,
          442,
          184,
          172,
          436,
          1876,
          1894,
          150,
          139,
          51,
          720,
          124,
          224,
          1905,
          503,
          1406,
          388,
          278,
          215,
          180,
          298,
          944,
          803,
          1477,
          532,
          394,
          237,
          63,
          443,
          951,
          655,
          374,
          106,
          861,
          186,
          1694,
          162,
          432,
          920,
          559,
          353,
          752,
          1951,
          1631,
          1657,
          331,
          435,
          988,
          510,
          904,
          305,
          434,
          92,
          562,
          351,
          134,
          730,
          294,
          461,
          385,
          412,
          918,
          1133,
          372,
          584,
          341,
          1804,
          534,
          1691,
          1502,
          152,
          1859,
          577,
          1245,
          805,
          1024,
          1437,
          1032,
          19,
          767,
          105,
          1843,
          508,
          1090,
          1029,
          1432,
          80,
          438,
          1071,
          911,
          161,
          1113,
          1070,
          155,
          893,
          380,
          1567,
          557,
          192,
          1379,
          1279,
          1918,
          1397,
          1381,
          425,
          417,
          1871,
          1031,
          800,
          1765,
          888,
          1927,
          500,
          677,
          759,
          781,
          697,
          1164,
          472,
          1040,
          1230,
          1321,
          235,
          618,
          807,
          763,
          264,
          309,
          756,
          1098,
          401,
          255,
          1639,
          240,
          1985,
          715,
          1092,
          578,
          126,
          138,
          185,
          822,
          985,
          1872,
          606,
          842,
          83,
          307,
          1076,
          222,
          1648,
          181,
          1300,
          722,
          174,
          423,
          1248,
          205,
          1358,
          452,
          1846,
          535,
          321,
          133,
          768,
          829,
          483,
          691,
          881,
          409,
          311,
          1120,
          293,
          648,
          229,
          197,
          1049,
          1096,
          314,
          665,
          933,
          1736,
          704,
          779,
          1246,
          963,
          982,
          775,
          366,
          1091,
          1167,
          243,
          494,
          1197,
          1651,
          596,
          724,
          1349,
          1942,
          487,
          581,
          1488,
          1340,
          1590,
          465,
          315,
          526,
          735,
          1992,
          711,
          337,
          667,
          254,
          702,
          864,
          906,
          576,
          356,
          379,
          1454,
          540,
          113,
          745,
          157,
          871,
          377,
          848,
          811,
          207,
          561,
          958,
          1080,
          1027,
          354,
          1338,
          723,
          1005,
          1347,
          1093,
          1614,
          602,
          1414,
          39,
          660,
          439,
          1475,
          1494,
          641,
          959,
          265,
          1006,
          921,
          1408,
          480,
          1510,
          967,
          1721,
          558,
          1052,
          1028,
          1687,
          398,
          369,
          1498,
          769,
          1757,
          469,
          1491,
          624,
          910,
          334,
          68,
          416,
          193,
          601,
          1530,
          565,
          414,
          713,
          1367,
          459,
          302,
          251,
          894,
          1351,
          1568,
          455,
          365,
          1171,
          411,
          386,
          486,
          1128,
          793,
          1285,
          149,
          88,
          1388,
          1497,
          259,
          1064,
          1643,
          827,
          1241,
          520,
          1043,
          857,
          797,
          1883,
          189,
          628,
          291,
          1063,
          1456,
          367,
          1106,
          330,
          1310,
          552,
          1007,
          437,
          1251,
          1719,
          137,
          227,
          347,
          58,
          782,
          1962,
          232,
          1306,
          511,
          1215,
          1989,
          471,
          589,
          651,
          571,
          373,
          1074,
          643,
          402,
          226,
          687,
          333,
          1776,
          912,
          625,
          445,
          300,
          371,
          615,
          751,
          659,
          191,
          304,
          1060,
          847,
          750,
          1140,
          1398,
          403,
          746,
          886,
          1144,
          1455,
          271,
          629,
          1048,
          1183,
          568,
          1312,
          1868,
          877,
          338,
          690,
          1319,
          1775,
          1796,
          1808,
          495,
          1601,
          956,
          82,
          694,
          272,
          447,
          1886,
          671,
          1013,
          1099,
          1211,
          1450,
          148,
          636,
          696,
          1233,
          1343,
          1677,
          166,
          878,
          1014,
          1673,
          1101,
          978,
          1887,
          1320,
          1566,
          903,
          1543,
          399,
          1187,
          1710,
          1037,
          1331,
          1109,
          1833,
          946,
          732,
          1021,
          238,
          306,
          816,
          947,
          594,
          55,
          202,
          1278,
          1237,
          505,
          1464,
          395,
          404,
          422,
          973,
          326,
          1669,
          1997,
          1542,
          538,
          245,
          1015,
          173,
          974,
          572,
          433,
          718,
          1294,
          427,
          420,
          1253,
          1386,
          537,
          1523,
          1046,
          258,
          1123,
          984,
          1665,
          1507,
          1254,
          1420,
          135,
          1658,
          983,
          539,
          1610,
          843,
          1671,
          996,
          248,
          1924,
          1845,
          1923,
          1650,
          521,
          716,
          1881,
          260,
          1556,
          1564,
          528,
          1329,
          925,
          733,
          566,
          1157,
          460,
          1303,
          476,
          378,
          1117,
          766,
          1834,
          1010,
          382,
          1501,
          1088,
          507,
          1549,
          1572,
          650,
          685,
          1534,
          1081,
          375,
          1554,
          547,
          171,
          870,
          492,
          1518,
          479,
          497,
          515,
          467,
          1424,
          219,
          1016,
          706,
          1382,
          429,
          1814,
          1218,
          285,
          1095,
          604,
          496,
          948,
          1175,
          950,
          33,
          1198,
          474,
          1472,
          1204,
          1131,
          59,
          1513,
          1200,
          543,
          1841,
          1916,
          1159,
          1275,
          1315,
          1563,
          1847,
          36,
          1184,
          964,
          729,
          709,
          1212,
          979,
          675,
          1391,
          683,
          998,
          525,
          662,
          640,
          909,
          585,
          649,
          1243,
          276,
          644,
          1012,
          1178,
          668,
          1250,
          1083,
          1840,
          1647,
          1425,
          1421,
          1810,
          865,
          1181,
          785,
          1591,
          885,
          1562,
          1620,
          1305,
          387,
          1889,
          1949,
          1030,
          389,
          1322,
          813,
          679,
          1470,
          810,
          1026,
          418,
          1707,
          1274,
          297,
          1701,
          548,
          901,
          1899,
          693,
          339,
          1314,
          1599,
          1174,
          972,
          1257,
          344,
          1415,
          1659,
          1955,
          1139,
          913,
          482,
          1784,
          762,
          360,
          1238,
          835,
          415,
          1155,
          887,
          1169,
          370,
          579,
          1051,
          646,
          1576,
          953,
          1132,
          1299,
          410,
          1613,
          937,
          821,
          968,
          1196
         ],
         "xaxis": "x",
         "y": [
          100,
          81.1,
          78.5,
          95.2,
          77.3,
          89.8,
          77.2,
          91.2,
          85.1,
          75.3,
          75.2,
          96.7,
          81.7,
          91.6,
          92.1,
          92.6,
          89.3,
          85.4,
          74.7,
          73.4,
          72.3,
          86.6,
          76.4,
          71.7,
          94.1,
          78.3,
          93.3,
          73.2,
          89.5,
          70.5,
          88,
          87.1,
          76.2,
          71.2,
          90.8,
          70.9,
          83.3,
          70.4,
          79.2,
          89.1,
          81.8,
          70.8,
          78.2,
          71.4,
          87.5,
          74.8,
          68.5,
          73.5,
          88.2,
          70.4,
          80.4,
          70.6,
          67.8,
          68,
          83.7,
          85.2,
          70.8,
          84.8,
          90.1,
          69.1,
          72.5,
          74.4,
          88.6,
          86.2,
          68.5,
          68.5,
          77.5,
          82.1,
          80,
          82.2,
          66.1,
          66.9,
          66,
          81.8,
          73.7,
          79.8,
          69.8,
          79.3,
          66.5,
          79.1,
          68.5,
          73.5,
          82,
          70.2,
          76.4,
          67.8,
          69,
          86.7,
          84.2,
          77.8,
          83.6,
          85.9,
          82.3,
          81.3,
          90.4,
          66.3,
          77,
          70.4,
          71.5,
          72.9,
          87,
          69.3,
          68.1,
          79.6,
          79.8,
          72.8,
          74.7,
          87.2,
          71.3,
          82.3,
          73.9,
          81.9,
          66.4,
          68.3,
          78.5,
          69.6,
          81.7,
          79.6,
          86.8,
          73.2,
          74.6,
          66.5,
          78.2,
          68,
          83.4,
          80,
          77.8,
          84.5,
          77.7,
          67.9,
          67.6,
          86.4,
          66.9,
          83.1,
          79.2,
          87.9,
          85.3,
          75.9,
          79.4,
          77.1,
          68,
          70.4,
          83.8,
          80.3,
          73.3,
          70,
          66.7,
          66.5,
          67,
          79.7,
          74.6,
          87.7,
          83.5,
          67.9,
          80.8,
          83.6,
          79.8,
          84.4,
          67.1,
          73.6,
          69.6,
          68.4,
          69.6,
          66.2,
          82.7,
          79.3,
          73.2,
          77.5,
          78.8,
          77.7,
          72.5,
          88.8,
          78.5,
          80,
          71.1,
          76.5,
          76.7,
          70.1,
          76,
          81.2,
          70.5,
          71.4,
          76.1,
          83,
          75.5,
          74.8,
          81.1,
          72.3,
          76.6,
          66.7,
          73.1,
          67.5,
          78.7,
          74.6,
          68.4,
          79.1,
          77.4,
          78.9,
          80.2,
          87.4,
          78,
          72.2,
          80.7,
          69.8,
          78.9,
          66.3,
          82.1,
          78.1,
          69,
          69,
          78.1,
          75.5,
          69,
          69.5,
          85,
          66.2,
          77.9,
          73.7,
          70,
          81.1,
          77.9,
          78.7,
          75.9,
          80.2,
          77,
          80.7,
          79.5,
          75.6,
          72.1,
          68.3,
          73.7,
          77.9,
          77.4,
          68.9,
          73,
          72.6,
          67.8,
          78.5,
          80.9,
          84,
          67.6,
          81.8,
          80.3,
          71.3,
          81.4,
          77.1,
          78.6,
          73.9,
          84.9,
          73.1,
          77.8,
          74.9,
          85.5,
          72.4,
          68.6,
          77.4,
          74.8,
          74.8,
          80.9,
          73.7,
          73.9,
          76.1,
          71.5,
          83.3,
          69.7,
          79.5,
          69.7,
          82.5,
          73.1,
          80.2,
          76.9,
          78,
          76.1,
          74.5,
          74.7,
          67.3,
          66.3,
          76,
          79.9,
          78.4,
          82.9,
          82,
          74.3,
          76.3,
          74.3,
          74.3,
          76.5,
          86.1,
          81.5,
          76.5,
          70.4,
          82.8,
          78.8,
          68.5,
          71.5,
          80.7,
          72.7,
          67.1,
          68.7,
          78.4,
          70.9,
          79.6,
          67.5,
          67,
          84.2,
          82.9,
          75.4,
          81.6,
          74.8,
          70.5,
          84.7,
          77.5,
          66.8,
          70.7,
          73.6,
          82.5,
          72.3,
          82.1,
          76.4,
          76.6,
          74.1,
          77,
          73.4,
          76.6,
          78.9,
          76.7,
          68.2,
          76.5,
          67.1,
          73.3,
          72.2,
          74.9,
          71.8,
          74.5,
          73.6,
          79.4,
          81.5,
          69,
          80.3,
          67.4,
          69.1,
          77.4,
          72.3,
          72.6,
          66.8,
          84.9,
          75.7,
          74,
          81.4,
          83.2,
          78.5,
          73.8,
          68.3,
          67.9,
          82.6,
          74.2,
          83,
          67,
          72.8,
          72.1,
          81.2,
          74.4,
          69.2,
          77.1,
          71.5,
          81.2,
          78.8,
          72.6,
          85.6,
          73.1,
          77.3,
          79.3,
          74.7,
          66.2,
          76.9,
          81,
          80.8,
          68,
          80.5,
          71.1,
          76.2,
          84.5,
          66.8,
          78.6,
          76.7,
          72.5,
          81,
          75.3,
          81.9,
          67.4,
          78.3,
          70,
          74.9,
          79.2,
          79.5,
          75,
          66.4,
          66.3,
          80.1,
          80.4,
          84.6,
          72.3,
          80.9,
          78.2,
          66.3,
          74.2,
          68.3,
          75.6,
          77.2,
          78.4,
          79.3,
          76.9,
          70.7,
          71.7,
          68,
          73.9,
          75.5,
          78,
          83.8,
          74.9,
          70.7,
          72.8,
          75.8,
          81.6,
          71.3,
          79.1,
          67.1,
          79.7,
          75,
          70.9,
          73.7,
          76,
          72.1,
          66.1,
          67.3,
          67.2,
          76.4,
          75,
          70.5,
          74.2,
          71,
          76.8,
          75,
          82.2,
          73.7,
          76.1,
          80.6,
          72.2,
          76.9,
          74.7,
          75.6,
          75.3,
          70.9,
          69.7,
          75.8,
          73.4,
          76.2,
          66.7,
          73.9,
          67.1,
          67.9,
          80,
          66.5,
          73.5,
          69.1,
          71.7,
          70.3,
          68.2,
          70.2,
          88.4,
          71.9,
          81.6,
          66.5,
          74.2,
          69.9,
          70.2,
          68.2,
          82.8,
          75,
          70,
          71,
          79.8,
          69.8,
          70,
          79.9,
          71.1,
          75.7,
          67.6,
          73.7,
          79,
          68.4,
          68.9,
          66.3,
          68.4,
          68.4,
          75.1,
          75.2,
          66.4,
          70.2,
          71.7,
          66.8,
          71.1,
          66.2,
          74.3,
          72.6,
          72,
          71.8,
          72.5,
          69.5,
          74.6,
          70.2,
          69.2,
          68.7,
          78,
          73.1,
          71.7,
          72,
          77.5,
          76.7,
          72,
          69.8,
          75.4,
          77.6,
          67.3,
          77.9,
          66,
          72.3,
          69.9,
          73.5,
          80.8,
          80.4,
          79.1,
          71.5,
          70.5,
          66.4,
          73.2,
          71.4,
          82.6,
          76.7,
          70,
          78.3,
          67.3,
          79.2,
          68.8,
          72.3,
          79.4,
          75.1,
          69.1,
          78.7,
          68.5,
          74.8,
          66.5,
          73.9,
          76.5,
          80.6,
          71.9,
          71.5,
          74.5,
          72.5,
          71.2,
          75.3,
          76.7,
          69.7,
          77,
          72.9,
          78.1,
          78.8,
          70.1,
          69.9,
          76.6,
          72.7,
          70.8,
          66.9,
          72.4,
          71.9,
          69.1,
          70.6,
          70.5,
          71.9,
          75.9,
          69.9,
          69.5,
          77.9,
          74.3,
          69.3,
          67.3,
          73.3,
          72.3,
          68.6,
          66.2,
          74.4,
          73.5,
          67.9,
          68.6,
          67.5,
          74.6,
          76.6,
          74,
          72.2,
          66,
          72.4,
          76.3,
          72.7,
          77.7,
          72.4,
          71.3,
          71,
          73.5,
          76,
          75.7,
          68.1,
          73.9,
          81.3,
          72.1,
          79.9,
          71.2,
          75.7,
          71.4,
          71.6,
          78.6,
          73.7,
          70.7,
          69.9,
          70.2,
          76,
          68.6,
          72.3,
          70.4,
          68.6,
          69.9,
          67.4,
          73.3,
          68.3,
          85.7,
          72.8,
          74.9,
          68,
          67.9,
          72.9,
          70.7,
          77.4,
          70.4,
          70.9,
          68.3,
          74.5,
          67.9,
          70.6,
          67,
          73.7,
          70.1,
          70.2,
          67.1,
          75.4,
          75.8,
          67.9,
          71.9,
          66.8,
          74.6,
          67.9,
          73.1,
          71,
          76.3,
          83.5,
          75.2,
          78.9,
          73.3,
          67.8,
          73.6,
          75.2,
          72.4,
          68.5,
          74.7,
          76.8,
          77.7,
          71.1,
          68.6,
          67.6,
          74.8,
          75.9,
          69.5,
          75.3,
          75.6,
          74.4,
          69.7,
          71.8,
          68.9,
          80.1,
          82.4,
          68.4,
          67.9,
          77.6,
          70,
          67.3,
          71.5,
          69.1,
          74.1,
          70.2,
          71.3,
          71.7,
          66.4,
          79,
          73.1,
          77,
          70,
          68.1,
          75.9,
          69.8,
          76.4,
          68.8,
          73.7,
          70.4,
          75,
          69,
          67,
          80.5,
          78.2,
          76.1,
          84.1,
          71.8,
          66.1,
          78.1,
          68.8,
          74.2,
          69.2,
          66,
          74.6,
          73.4,
          72.9,
          73.6,
          75.8,
          70,
          72.9,
          75.4,
          78.2,
          72.6,
          76.3,
          66.8,
          70.9,
          73.1,
          74.9,
          76.8,
          75.8,
          73.2,
          72.1,
          72.8,
          79,
          76.8,
          70.1,
          71.4,
          72.1,
          69.6,
          68.3,
          75.4,
          72.1,
          71.1,
          69.6,
          68.1,
          77.3,
          73,
          70.1,
          69.4,
          73.6,
          68.7,
          66.4,
          71.2,
          76.3,
          72.5,
          68.7,
          66.8,
          66.7,
          66.7,
          74.3,
          67.5,
          70.7,
          82.7,
          72.5,
          77.3,
          74.9,
          66.4,
          72.7,
          70.3,
          69.8,
          69.2,
          68.1,
          80.1,
          73,
          72.5,
          69.1,
          68.6,
          67.2,
          79.6,
          71.2,
          70.3,
          67.2,
          69.8,
          70.5,
          66.4,
          68.7,
          67.6,
          71,
          67.7,
          75.4,
          69.4,
          67,
          70.2,
          68.7,
          69.8,
          66.6,
          70.7,
          72.2,
          70.3,
          78,
          76.8,
          71.6,
          70.7,
          73.4,
          84.3,
          78.7,
          68.9,
          69.1,
          74.2,
          68.1,
          75.5,
          75.4,
          75.1,
          70.6,
          76.4,
          67.2,
          66,
          67.7,
          73.9,
          77.8,
          70.3,
          79.4,
          70.6,
          73.6,
          75,
          72.3,
          68.8,
          75.1,
          75.2,
          69,
          68.4,
          73.9,
          67.8,
          70.1,
          77.6,
          69.7,
          70.5,
          67.2,
          67.9,
          69,
          68.2,
          80.5,
          67.2,
          70.5,
          73.9,
          67.4,
          71.4,
          67.2,
          70.4,
          77.8,
          66.2,
          66.5,
          66.2,
          67.3,
          74.1,
          72.3,
          66.4,
          77.5,
          67.7,
          67.6,
          74,
          68.7,
          70.9,
          72.2,
          73.6,
          69.5,
          74.7,
          68.8,
          74.5,
          75.7,
          69.7,
          71.9,
          66.6,
          70.3,
          75.7,
          67.9,
          69.9,
          74.2,
          67.7,
          67.6,
          72.9,
          72.6,
          67.7,
          69.9,
          75.7,
          67.7,
          73.8,
          79.5,
          71.2,
          74.4,
          67.8,
          74.5,
          74.3,
          74.1,
          74.6,
          68.2,
          78.3,
          70.3,
          72.4,
          68.4,
          75.1,
          66.6,
          69.2,
          77.1,
          69.9,
          73.3,
          74.3,
          70.7,
          69.4,
          70.7,
          86.3,
          69.3,
          74.5,
          68,
          69.3,
          69.7,
          84,
          67.8,
          69.3,
          73.8,
          66.5,
          66.3,
          69.5,
          68.9,
          68.7,
          67.6,
          66.5,
          86,
          69.4,
          70.6,
          72.2,
          72.4,
          69.2,
          70.5,
          72.7,
          68.4,
          72.6,
          70.4,
          74,
          72.8,
          72.9,
          71,
          73.4,
          72.9,
          69.1,
          77.3,
          72.9,
          70.3,
          69.4,
          72.7,
          69.1,
          69.9,
          66.5,
          67.3,
          68.2,
          68.2,
          66.6,
          71.3,
          69.4,
          71.8,
          67.5,
          71.1,
          67.6,
          67.4,
          68.8,
          75.6,
          66.4,
          66.1,
          70.2,
          75.6,
          68.7,
          71.6,
          72.6,
          68,
          71.6,
          70.3,
          75.2,
          67,
          68.9,
          76.9,
          67.1,
          73.8,
          71,
          66.3,
          72.5,
          76.2,
          68.7,
          67.5,
          69.4,
          70.6,
          69,
          76.2,
          68.3,
          67.2,
          66.1,
          69.6,
          70.9,
          74.5,
          66.7,
          72,
          76,
          69.1,
          71.5,
          75.2,
          69.5,
          71.1,
          69.5,
          75.8,
          73.5,
          70.1,
          72.9,
          67.6,
          70.7,
          69.7,
          68.8,
          75.3,
          67.4,
          70.8,
          71.6,
          70.6,
          69.3
         ],
         "yaxis": "y"
        }
       ],
       "layout": {
        "font": {
         "size": 12
        },
        "height": 600,
        "legend": {
         "tracegroupgap": 0
        },
        "margin": {
         "b": 50,
         "l": 50,
         "r": 50,
         "t": 100
        },
        "template": {
         "data": {
          "bar": [
           {
            "error_x": {
             "color": "#2a3f5f"
            },
            "error_y": {
             "color": "#2a3f5f"
            },
            "marker": {
             "line": {
              "color": "#E5ECF6",
              "width": 0.5
             },
             "pattern": {
              "fillmode": "overlay",
              "size": 10,
              "solidity": 0.2
             }
            },
            "type": "bar"
           }
          ],
          "barpolar": [
           {
            "marker": {
             "line": {
              "color": "#E5ECF6",
              "width": 0.5
             },
             "pattern": {
              "fillmode": "overlay",
              "size": 10,
              "solidity": 0.2
             }
            },
            "type": "barpolar"
           }
          ],
          "carpet": [
           {
            "aaxis": {
             "endlinecolor": "#2a3f5f",
             "gridcolor": "white",
             "linecolor": "white",
             "minorgridcolor": "white",
             "startlinecolor": "#2a3f5f"
            },
            "baxis": {
             "endlinecolor": "#2a3f5f",
             "gridcolor": "white",
             "linecolor": "white",
             "minorgridcolor": "white",
             "startlinecolor": "#2a3f5f"
            },
            "type": "carpet"
           }
          ],
          "choropleth": [
           {
            "colorbar": {
             "outlinewidth": 0,
             "ticks": ""
            },
            "type": "choropleth"
           }
          ],
          "contour": [
           {
            "colorbar": {
             "outlinewidth": 0,
             "ticks": ""
            },
            "colorscale": [
             [
              0,
              "#0d0887"
             ],
             [
              0.1111111111111111,
              "#46039f"
             ],
             [
              0.2222222222222222,
              "#7201a8"
             ],
             [
              0.3333333333333333,
              "#9c179e"
             ],
             [
              0.4444444444444444,
              "#bd3786"
             ],
             [
              0.5555555555555556,
              "#d8576b"
             ],
             [
              0.6666666666666666,
              "#ed7953"
             ],
             [
              0.7777777777777778,
              "#fb9f3a"
             ],
             [
              0.8888888888888888,
              "#fdca26"
             ],
             [
              1,
              "#f0f921"
             ]
            ],
            "type": "contour"
           }
          ],
          "contourcarpet": [
           {
            "colorbar": {
             "outlinewidth": 0,
             "ticks": ""
            },
            "type": "contourcarpet"
           }
          ],
          "heatmap": [
           {
            "colorbar": {
             "outlinewidth": 0,
             "ticks": ""
            },
            "colorscale": [
             [
              0,
              "#0d0887"
             ],
             [
              0.1111111111111111,
              "#46039f"
             ],
             [
              0.2222222222222222,
              "#7201a8"
             ],
             [
              0.3333333333333333,
              "#9c179e"
             ],
             [
              0.4444444444444444,
              "#bd3786"
             ],
             [
              0.5555555555555556,
              "#d8576b"
             ],
             [
              0.6666666666666666,
              "#ed7953"
             ],
             [
              0.7777777777777778,
              "#fb9f3a"
             ],
             [
              0.8888888888888888,
              "#fdca26"
             ],
             [
              1,
              "#f0f921"
             ]
            ],
            "type": "heatmap"
           }
          ],
          "heatmapgl": [
           {
            "colorbar": {
             "outlinewidth": 0,
             "ticks": ""
            },
            "colorscale": [
             [
              0,
              "#0d0887"
             ],
             [
              0.1111111111111111,
              "#46039f"
             ],
             [
              0.2222222222222222,
              "#7201a8"
             ],
             [
              0.3333333333333333,
              "#9c179e"
             ],
             [
              0.4444444444444444,
              "#bd3786"
             ],
             [
              0.5555555555555556,
              "#d8576b"
             ],
             [
              0.6666666666666666,
              "#ed7953"
             ],
             [
              0.7777777777777778,
              "#fb9f3a"
             ],
             [
              0.8888888888888888,
              "#fdca26"
             ],
             [
              1,
              "#f0f921"
             ]
            ],
            "type": "heatmapgl"
           }
          ],
          "histogram": [
           {
            "marker": {
             "pattern": {
              "fillmode": "overlay",
              "size": 10,
              "solidity": 0.2
             }
            },
            "type": "histogram"
           }
          ],
          "histogram2d": [
           {
            "colorbar": {
             "outlinewidth": 0,
             "ticks": ""
            },
            "colorscale": [
             [
              0,
              "#0d0887"
             ],
             [
              0.1111111111111111,
              "#46039f"
             ],
             [
              0.2222222222222222,
              "#7201a8"
             ],
             [
              0.3333333333333333,
              "#9c179e"
             ],
             [
              0.4444444444444444,
              "#bd3786"
             ],
             [
              0.5555555555555556,
              "#d8576b"
             ],
             [
              0.6666666666666666,
              "#ed7953"
             ],
             [
              0.7777777777777778,
              "#fb9f3a"
             ],
             [
              0.8888888888888888,
              "#fdca26"
             ],
             [
              1,
              "#f0f921"
             ]
            ],
            "type": "histogram2d"
           }
          ],
          "histogram2dcontour": [
           {
            "colorbar": {
             "outlinewidth": 0,
             "ticks": ""
            },
            "colorscale": [
             [
              0,
              "#0d0887"
             ],
             [
              0.1111111111111111,
              "#46039f"
             ],
             [
              0.2222222222222222,
              "#7201a8"
             ],
             [
              0.3333333333333333,
              "#9c179e"
             ],
             [
              0.4444444444444444,
              "#bd3786"
             ],
             [
              0.5555555555555556,
              "#d8576b"
             ],
             [
              0.6666666666666666,
              "#ed7953"
             ],
             [
              0.7777777777777778,
              "#fb9f3a"
             ],
             [
              0.8888888888888888,
              "#fdca26"
             ],
             [
              1,
              "#f0f921"
             ]
            ],
            "type": "histogram2dcontour"
           }
          ],
          "mesh3d": [
           {
            "colorbar": {
             "outlinewidth": 0,
             "ticks": ""
            },
            "type": "mesh3d"
           }
          ],
          "parcoords": [
           {
            "line": {
             "colorbar": {
              "outlinewidth": 0,
              "ticks": ""
             }
            },
            "type": "parcoords"
           }
          ],
          "pie": [
           {
            "automargin": true,
            "type": "pie"
           }
          ],
          "scatter": [
           {
            "fillpattern": {
             "fillmode": "overlay",
             "size": 10,
             "solidity": 0.2
            },
            "type": "scatter"
           }
          ],
          "scatter3d": [
           {
            "line": {
             "colorbar": {
              "outlinewidth": 0,
              "ticks": ""
             }
            },
            "marker": {
             "colorbar": {
              "outlinewidth": 0,
              "ticks": ""
             }
            },
            "type": "scatter3d"
           }
          ],
          "scattercarpet": [
           {
            "marker": {
             "colorbar": {
              "outlinewidth": 0,
              "ticks": ""
             }
            },
            "type": "scattercarpet"
           }
          ],
          "scattergeo": [
           {
            "marker": {
             "colorbar": {
              "outlinewidth": 0,
              "ticks": ""
             }
            },
            "type": "scattergeo"
           }
          ],
          "scattergl": [
           {
            "marker": {
             "colorbar": {
              "outlinewidth": 0,
              "ticks": ""
             }
            },
            "type": "scattergl"
           }
          ],
          "scattermapbox": [
           {
            "marker": {
             "colorbar": {
              "outlinewidth": 0,
              "ticks": ""
             }
            },
            "type": "scattermapbox"
           }
          ],
          "scatterpolar": [
           {
            "marker": {
             "colorbar": {
              "outlinewidth": 0,
              "ticks": ""
             }
            },
            "type": "scatterpolar"
           }
          ],
          "scatterpolargl": [
           {
            "marker": {
             "colorbar": {
              "outlinewidth": 0,
              "ticks": ""
             }
            },
            "type": "scatterpolargl"
           }
          ],
          "scatterternary": [
           {
            "marker": {
             "colorbar": {
              "outlinewidth": 0,
              "ticks": ""
             }
            },
            "type": "scatterternary"
           }
          ],
          "surface": [
           {
            "colorbar": {
             "outlinewidth": 0,
             "ticks": ""
            },
            "colorscale": [
             [
              0,
              "#0d0887"
             ],
             [
              0.1111111111111111,
              "#46039f"
             ],
             [
              0.2222222222222222,
              "#7201a8"
             ],
             [
              0.3333333333333333,
              "#9c179e"
             ],
             [
              0.4444444444444444,
              "#bd3786"
             ],
             [
              0.5555555555555556,
              "#d8576b"
             ],
             [
              0.6666666666666666,
              "#ed7953"
             ],
             [
              0.7777777777777778,
              "#fb9f3a"
             ],
             [
              0.8888888888888888,
              "#fdca26"
             ],
             [
              1,
              "#f0f921"
             ]
            ],
            "type": "surface"
           }
          ],
          "table": [
           {
            "cells": {
             "fill": {
              "color": "#EBF0F8"
             },
             "line": {
              "color": "white"
             }
            },
            "header": {
             "fill": {
              "color": "#C8D4E3"
             },
             "line": {
              "color": "white"
             }
            },
            "type": "table"
           }
          ]
         },
         "layout": {
          "annotationdefaults": {
           "arrowcolor": "#2a3f5f",
           "arrowhead": 0,
           "arrowwidth": 1
          },
          "autotypenumbers": "strict",
          "coloraxis": {
           "colorbar": {
            "outlinewidth": 0,
            "ticks": ""
           }
          },
          "colorscale": {
           "diverging": [
            [
             0,
             "#8e0152"
            ],
            [
             0.1,
             "#c51b7d"
            ],
            [
             0.2,
             "#de77ae"
            ],
            [
             0.3,
             "#f1b6da"
            ],
            [
             0.4,
             "#fde0ef"
            ],
            [
             0.5,
             "#f7f7f7"
            ],
            [
             0.6,
             "#e6f5d0"
            ],
            [
             0.7,
             "#b8e186"
            ],
            [
             0.8,
             "#7fbc41"
            ],
            [
             0.9,
             "#4d9221"
            ],
            [
             1,
             "#276419"
            ]
           ],
           "sequential": [
            [
             0,
             "#0d0887"
            ],
            [
             0.1111111111111111,
             "#46039f"
            ],
            [
             0.2222222222222222,
             "#7201a8"
            ],
            [
             0.3333333333333333,
             "#9c179e"
            ],
            [
             0.4444444444444444,
             "#bd3786"
            ],
            [
             0.5555555555555556,
             "#d8576b"
            ],
            [
             0.6666666666666666,
             "#ed7953"
            ],
            [
             0.7777777777777778,
             "#fb9f3a"
            ],
            [
             0.8888888888888888,
             "#fdca26"
            ],
            [
             1,
             "#f0f921"
            ]
           ],
           "sequentialminus": [
            [
             0,
             "#0d0887"
            ],
            [
             0.1111111111111111,
             "#46039f"
            ],
            [
             0.2222222222222222,
             "#7201a8"
            ],
            [
             0.3333333333333333,
             "#9c179e"
            ],
            [
             0.4444444444444444,
             "#bd3786"
            ],
            [
             0.5555555555555556,
             "#d8576b"
            ],
            [
             0.6666666666666666,
             "#ed7953"
            ],
            [
             0.7777777777777778,
             "#fb9f3a"
            ],
            [
             0.8888888888888888,
             "#fdca26"
            ],
            [
             1,
             "#f0f921"
            ]
           ]
          },
          "colorway": [
           "#636efa",
           "#EF553B",
           "#00cc96",
           "#ab63fa",
           "#FFA15A",
           "#19d3f3",
           "#FF6692",
           "#B6E880",
           "#FF97FF",
           "#FECB52"
          ],
          "font": {
           "color": "#2a3f5f"
          },
          "geo": {
           "bgcolor": "white",
           "lakecolor": "white",
           "landcolor": "#E5ECF6",
           "showlakes": true,
           "showland": true,
           "subunitcolor": "white"
          },
          "hoverlabel": {
           "align": "left"
          },
          "hovermode": "closest",
          "mapbox": {
           "style": "light"
          },
          "paper_bgcolor": "white",
          "plot_bgcolor": "#E5ECF6",
          "polar": {
           "angularaxis": {
            "gridcolor": "white",
            "linecolor": "white",
            "ticks": ""
           },
           "bgcolor": "#E5ECF6",
           "radialaxis": {
            "gridcolor": "white",
            "linecolor": "white",
            "ticks": ""
           }
          },
          "scene": {
           "xaxis": {
            "backgroundcolor": "#E5ECF6",
            "gridcolor": "white",
            "gridwidth": 2,
            "linecolor": "white",
            "showbackground": true,
            "ticks": "",
            "zerolinecolor": "white"
           },
           "yaxis": {
            "backgroundcolor": "#E5ECF6",
            "gridcolor": "white",
            "gridwidth": 2,
            "linecolor": "white",
            "showbackground": true,
            "ticks": "",
            "zerolinecolor": "white"
           },
           "zaxis": {
            "backgroundcolor": "#E5ECF6",
            "gridcolor": "white",
            "gridwidth": 2,
            "linecolor": "white",
            "showbackground": true,
            "ticks": "",
            "zerolinecolor": "white"
           }
          },
          "shapedefaults": {
           "line": {
            "color": "#2a3f5f"
           }
          },
          "ternary": {
           "aaxis": {
            "gridcolor": "white",
            "linecolor": "white",
            "ticks": ""
           },
           "baxis": {
            "gridcolor": "white",
            "linecolor": "white",
            "ticks": ""
           },
           "bgcolor": "#E5ECF6",
           "caxis": {
            "gridcolor": "white",
            "linecolor": "white",
            "ticks": ""
           }
          },
          "title": {
           "x": 0.05
          },
          "xaxis": {
           "automargin": true,
           "gridcolor": "white",
           "linecolor": "white",
           "ticks": "",
           "title": {
            "standoff": 15
           },
           "zerolinecolor": "white",
           "zerolinewidth": 2
          },
          "yaxis": {
           "automargin": true,
           "gridcolor": "white",
           "linecolor": "white",
           "ticks": "",
           "title": {
            "standoff": 15
           },
           "zerolinecolor": "white",
           "zerolinewidth": 2
          }
         }
        },
        "title": {
         "font": {
          "size": 20
         },
         "text": "Relationship between World Rank and Score"
        },
        "xaxis": {
         "anchor": "y",
         "domain": [
          0,
          1
         ],
         "dtick": 250,
         "tick0": 0,
         "tickmode": "linear",
         "title": {
          "text": "World Rank"
         }
        },
        "yaxis": {
         "anchor": "x",
         "domain": [
          0,
          1
         ],
         "dtick": 5,
         "tick0": 70,
         "tickmode": "linear",
         "title": {
          "text": "Score"
         }
        }
       }
      }
     },
     "metadata": {},
     "output_type": "display_data"
    }
   ],
   "source": [
    "fig = px.scatter(\n",
    "    df_filtered,\n",
    "    x='World Rank',\n",
    "    y='Score',\n",
    "    labels={'World Rank': 'World Rank', 'Score': 'Score'},  # Remove text labels\n",
    "    title='Relationship between World Rank and Score'\n",
    ")\n",
    "\n",
    "# Update the layout for better readability\n",
    "fig.update_traces(marker=dict(size=5, color='blue'))  # Adjust marker size and color\n",
    "fig.update_layout(\n",
    "    font=dict(size=12),  # Increase the font size\n",
    "    title=dict(font=dict(size=20)),  # Make title bigger\n",
    "    xaxis=dict(tickmode='linear', tick0=0, dtick=250),  # Adjust x-axis ticks\n",
    "    yaxis=dict(tickmode='linear', tick0=70, dtick=5),  # Adjust y-axis ticks\n",
    "    height=600,  # Increase the height of the plot\n",
    "    margin=dict(l=50, r=50, t=100, b=50)  # Add padding around the plot\n",
    ")\n",
    "\n",
    "# Show the plot\n",
    "fig.show()"
   ]
  },
  {
   "cell_type": "markdown",
   "id": "12dcc9d9",
   "metadata": {},
   "source": [
    "#### Insight based on the pattern of the plot:\n",
    "\n",
    "The plot shows a steep decline at the beginning (high scores) that gradually flattens as the rank increases. This indicates an exponential decay relationship where top-ranked participants have significantly higher scores, but the difference in scores becomes less pronounced as the rank increases."
   ]
  },
  {
   "cell_type": "markdown",
   "id": "d2641f0d-80f2-493b-99b7-15476379a1e2",
   "metadata": {},
   "source": [
    "#### II. Numerical Variables:\n",
    "\n",
    "we need to understand the central tendency and spread of the variable (Descriptive Analysis) using:\n",
    "   - Box plot\n",
    "   - Histogram"
   ]
  },
  {
   "cell_type": "code",
   "execution_count": 382,
   "id": "5be16f08-a072-4a02-a3ee-6f9d57786fb4",
   "metadata": {},
   "outputs": [
    {
     "data": {
      "application/vnd.plotly.v1+json": {
       "config": {
        "plotlyServerURL": "https://plot.ly"
       },
       "data": [
        {
         "alignmentgroup": "True",
         "hovertemplate": "Score=%{y}<extra></extra>",
         "legendgroup": "",
         "marker": {
          "color": "#636efa"
         },
         "name": "",
         "notched": false,
         "offsetgroup": "",
         "orientation": "v",
         "showlegend": false,
         "type": "box",
         "x0": " ",
         "xaxis": "x",
         "y": [
          100,
          96.7,
          95.2,
          94.1,
          93.3,
          92.6,
          92.1,
          91.6,
          91.2,
          90.8,
          90.4,
          90.1,
          89.8,
          89.5,
          89.3,
          89.1,
          88.8,
          88.6,
          88.4,
          88.2,
          88,
          87.9,
          87.7,
          87.5,
          87.4,
          87.2,
          87.1,
          87,
          86.8,
          86.7,
          86.6,
          86.4,
          86.3,
          86.2,
          86.1,
          86,
          85.9,
          85.8,
          85.7,
          85.6,
          85.5,
          85.4,
          85.3,
          85.2,
          85.1,
          85,
          84.9,
          84.9,
          84.8,
          84.7,
          84.6,
          84.5,
          84.5,
          84.4,
          84.3,
          84.2,
          84.2,
          84.1,
          84,
          84,
          83.9,
          83.8,
          83.8,
          83.7,
          83.6,
          83.6,
          83.5,
          83.5,
          83.4,
          83.3,
          83.3,
          83.2,
          83.2,
          83.1,
          83,
          83,
          82.9,
          82.9,
          82.8,
          82.8,
          82.7,
          82.7,
          82.6,
          82.6,
          82.5,
          82.5,
          82.4,
          82.4,
          82.3,
          82.3,
          82.2,
          82.2,
          82.1,
          82.1,
          82.1,
          82,
          82,
          81.9,
          81.9,
          81.8,
          81.8,
          81.8,
          81.7,
          81.7,
          81.6,
          81.6,
          81.6,
          81.5,
          81.5,
          81.4,
          81.4,
          81.4,
          81.3,
          81.3,
          81.2,
          81.2,
          81.2,
          81.1,
          81.1,
          81.1,
          81,
          81,
          80.9,
          80.9,
          80.9,
          80.8,
          80.8,
          80.8,
          80.7,
          80.7,
          80.7,
          80.6,
          80.6,
          80.6,
          80.5,
          80.5,
          80.5,
          80.4,
          80.4,
          80.4,
          80.3,
          80.3,
          80.3,
          80.3,
          80.2,
          80.2,
          80.2,
          80.1,
          80.1,
          80.1,
          80,
          80,
          80,
          80,
          79.9,
          79.9,
          79.9,
          79.8,
          79.8,
          79.8,
          79.8,
          79.7,
          79.7,
          79.7,
          79.6,
          79.6,
          79.6,
          79.6,
          79.5,
          79.5,
          79.5,
          79.5,
          79.4,
          79.4,
          79.4,
          79.4,
          79.3,
          79.3,
          79.3,
          79.3,
          79.2,
          79.2,
          79.2,
          79.2,
          79.1,
          79.1,
          79.1,
          79.1,
          79,
          79,
          79,
          79,
          78.9,
          78.9,
          78.9,
          78.9,
          78.8,
          78.8,
          78.8,
          78.8,
          78.7,
          78.7,
          78.7,
          78.7,
          78.7,
          78.6,
          78.6,
          78.6,
          78.6,
          78.5,
          78.5,
          78.5,
          78.5,
          78.5,
          78.4,
          78.4,
          78.4,
          78.4,
          78.3,
          78.3,
          78.3,
          78.3,
          78.3,
          78.2,
          78.2,
          78.2,
          78.2,
          78.2,
          78.1,
          78.1,
          78.1,
          78.1,
          78.1,
          78,
          78,
          78,
          78,
          78,
          77.9,
          77.9,
          77.9,
          77.9,
          77.9,
          77.8,
          77.8,
          77.8,
          77.8,
          77.8,
          77.7,
          77.7,
          77.7,
          77.7,
          77.7,
          77.7,
          77.6,
          77.6,
          77.6,
          77.6,
          77.6,
          77.5,
          77.5,
          77.5,
          77.5,
          77.5,
          77.4,
          77.4,
          77.4,
          77.4,
          77.4,
          77.4,
          77.3,
          77.3,
          77.3,
          77.3,
          77.3,
          77.3,
          77.2,
          77.2,
          77.2,
          77.2,
          77.2,
          77.1,
          77.1,
          77.1,
          77.1,
          77.1,
          77.1,
          77,
          77,
          77,
          77,
          77,
          77,
          76.9,
          76.9,
          76.9,
          76.9,
          76.9,
          76.9,
          76.8,
          76.8,
          76.8,
          76.8,
          76.8,
          76.8,
          76.8,
          76.7,
          76.7,
          76.7,
          76.7,
          76.7,
          76.7,
          76.6,
          76.6,
          76.6,
          76.6,
          76.6,
          76.6,
          76.5,
          76.5,
          76.5,
          76.5,
          76.5,
          76.5,
          76.5,
          76.4,
          76.4,
          76.4,
          76.4,
          76.4,
          76.4,
          76.4,
          76.3,
          76.3,
          76.3,
          76.3,
          76.3,
          76.3,
          76.2,
          76.2,
          76.2,
          76.2,
          76.2,
          76.2,
          76.2,
          76.1,
          76.1,
          76.1,
          76.1,
          76.1,
          76.1,
          76.1,
          76,
          76,
          76,
          76,
          76,
          76,
          76,
          76,
          75.9,
          75.9,
          75.9,
          75.9,
          75.9,
          75.9,
          75.9,
          75.8,
          75.8,
          75.8,
          75.8,
          75.8,
          75.8,
          75.8,
          75.7,
          75.7,
          75.7,
          75.7,
          75.7,
          75.7,
          75.7,
          75.7,
          75.6,
          75.6,
          75.6,
          75.6,
          75.6,
          75.6,
          75.6,
          75.5,
          75.5,
          75.5,
          75.5,
          75.5,
          75.5,
          75.5,
          75.5,
          75.4,
          75.4,
          75.4,
          75.4,
          75.4,
          75.4,
          75.4,
          75.4,
          75.3,
          75.3,
          75.3,
          75.3,
          75.3,
          75.3,
          75.3,
          75.3,
          75.2,
          75.2,
          75.2,
          75.2,
          75.2,
          75.2,
          75.2,
          75.2,
          75.1,
          75.1,
          75.1,
          75.1,
          75.1,
          75.1,
          75.1,
          75.1,
          75.1,
          75,
          75,
          75,
          75,
          75,
          75,
          75,
          75,
          74.9,
          74.9,
          74.9,
          74.9,
          74.9,
          74.9,
          74.9,
          74.9,
          74.9,
          74.8,
          74.8,
          74.8,
          74.8,
          74.8,
          74.8,
          74.8,
          74.8,
          74.7,
          74.7,
          74.7,
          74.7,
          74.7,
          74.7,
          74.7,
          74.7,
          74.7,
          74.6,
          74.6,
          74.6,
          74.6,
          74.6,
          74.6,
          74.6,
          74.6,
          74.6,
          74.5,
          74.5,
          74.5,
          74.5,
          74.5,
          74.5,
          74.5,
          74.5,
          74.5,
          74.5,
          74.4,
          74.4,
          74.4,
          74.4,
          74.4,
          74.4,
          74.4,
          74.4,
          74.4,
          74.3,
          74.3,
          74.3,
          74.3,
          74.3,
          74.3,
          74.3,
          74.3,
          74.3,
          74.2,
          74.2,
          74.2,
          74.2,
          74.2,
          74.2,
          74.2,
          74.2,
          74.2,
          74.2,
          74.1,
          74.1,
          74.1,
          74.1,
          74.1,
          74.1,
          74.1,
          74.1,
          74.1,
          74.1,
          74,
          74,
          74,
          74,
          74,
          74,
          74,
          74,
          74,
          74,
          73.9,
          73.9,
          73.9,
          73.9,
          73.9,
          73.9,
          73.9,
          73.9,
          73.9,
          73.9,
          73.8,
          73.8,
          73.8,
          73.8,
          73.8,
          73.8,
          73.8,
          73.8,
          73.8,
          73.8,
          73.7,
          73.7,
          73.7,
          73.7,
          73.7,
          73.7,
          73.7,
          73.7,
          73.7,
          73.7,
          73.7,
          73.6,
          73.6,
          73.6,
          73.6,
          73.6,
          73.6,
          73.6,
          73.6,
          73.6,
          73.6,
          73.5,
          73.5,
          73.5,
          73.5,
          73.5,
          73.5,
          73.5,
          73.5,
          73.5,
          73.5,
          73.5,
          73.4,
          73.4,
          73.4,
          73.4,
          73.4,
          73.4,
          73.4,
          73.4,
          73.4,
          73.4,
          73.4,
          73.3,
          73.3,
          73.3,
          73.3,
          73.3,
          73.3,
          73.3,
          73.3,
          73.3,
          73.3,
          73.3,
          73.2,
          73.2,
          73.2,
          73.2,
          73.2,
          73.2,
          73.2,
          73.2,
          73.2,
          73.2,
          73.2,
          73.1,
          73.1,
          73.1,
          73.1,
          73.1,
          73.1,
          73.1,
          73.1,
          73.1,
          73.1,
          73.1,
          73.1,
          73,
          73,
          73,
          73,
          73,
          73,
          73,
          73,
          73,
          73,
          73,
          72.9,
          72.9,
          72.9,
          72.9,
          72.9,
          72.9,
          72.9,
          72.9,
          72.9,
          72.9,
          72.9,
          72.9,
          72.8,
          72.8,
          72.8,
          72.8,
          72.8,
          72.8,
          72.8,
          72.8,
          72.8,
          72.8,
          72.8,
          72.8,
          72.7,
          72.7,
          72.7,
          72.7,
          72.7,
          72.7,
          72.7,
          72.7,
          72.7,
          72.7,
          72.7,
          72.7,
          72.6,
          72.6,
          72.6,
          72.6,
          72.6,
          72.6,
          72.6,
          72.6,
          72.6,
          72.6,
          72.6,
          72.6,
          72.6,
          72.5,
          72.5,
          72.5,
          72.5,
          72.5,
          72.5,
          72.5,
          72.5,
          72.5,
          72.5,
          72.5,
          72.5,
          72.4,
          72.4,
          72.4,
          72.4,
          72.4,
          72.4,
          72.4,
          72.4,
          72.4,
          72.4,
          72.4,
          72.4,
          72.4,
          72.3,
          72.3,
          72.3,
          72.3,
          72.3,
          72.3,
          72.3,
          72.3,
          72.3,
          72.3,
          72.3,
          72.3,
          72.3,
          72.2,
          72.2,
          72.2,
          72.2,
          72.2,
          72.2,
          72.2,
          72.2,
          72.2,
          72.2,
          72.2,
          72.2,
          72.2,
          72.1,
          72.1,
          72.1,
          72.1,
          72.1,
          72.1,
          72.1,
          72.1,
          72.1,
          72.1,
          72.1,
          72.1,
          72.1,
          72,
          72,
          72,
          72,
          72,
          72,
          72,
          72,
          72,
          72,
          72,
          72,
          72,
          71.9,
          71.9,
          71.9,
          71.9,
          71.9,
          71.9,
          71.9,
          71.9,
          71.9,
          71.9,
          71.9,
          71.9,
          71.9,
          71.9,
          71.8,
          71.8,
          71.8,
          71.8,
          71.8,
          71.8,
          71.8,
          71.8,
          71.8,
          71.8,
          71.8,
          71.8,
          71.8,
          71.8,
          71.7,
          71.7,
          71.7,
          71.7,
          71.7,
          71.7,
          71.7,
          71.7,
          71.7,
          71.7,
          71.7,
          71.7,
          71.7,
          71.7,
          71.6,
          71.6,
          71.6,
          71.6,
          71.6,
          71.6,
          71.6,
          71.6,
          71.6,
          71.6,
          71.6,
          71.6,
          71.6,
          71.6,
          71.5,
          71.5,
          71.5,
          71.5,
          71.5,
          71.5,
          71.5,
          71.5,
          71.5,
          71.5,
          71.5,
          71.5,
          71.5,
          71.5,
          71.5,
          71.4,
          71.4,
          71.4,
          71.4,
          71.4,
          71.4,
          71.4,
          71.4,
          71.4,
          71.4,
          71.4,
          71.4,
          71.4,
          71.4,
          71.4,
          71.3,
          71.3,
          71.3,
          71.3,
          71.3,
          71.3,
          71.3,
          71.3,
          71.3,
          71.3,
          71.3,
          71.3,
          71.3,
          71.3,
          71.2,
          71.2,
          71.2,
          71.2,
          71.2,
          71.2,
          71.2,
          71.2,
          71.2,
          71.2,
          71.2,
          71.2,
          71.2,
          71.2,
          71.2,
          71.2,
          71.1,
          71.1,
          71.1,
          71.1,
          71.1,
          71.1,
          71.1,
          71.1,
          71.1,
          71.1,
          71.1,
          71.1,
          71.1,
          71.1,
          71.1,
          71,
          71,
          71,
          71,
          71,
          71,
          71,
          71,
          71,
          71,
          71,
          71,
          71,
          71,
          71,
          70.9,
          70.9,
          70.9,
          70.9,
          70.9,
          70.9,
          70.9,
          70.9,
          70.9,
          70.9,
          70.9,
          70.9,
          70.9,
          70.9,
          70.9,
          70.9,
          70.8,
          70.8,
          70.8,
          70.8,
          70.8,
          70.8,
          70.8,
          70.8,
          70.8,
          70.8,
          70.8,
          70.8,
          70.8,
          70.8,
          70.8,
          70.8,
          70.7,
          70.7,
          70.7,
          70.7,
          70.7,
          70.7,
          70.7,
          70.7,
          70.7,
          70.7,
          70.7,
          70.7,
          70.7,
          70.7,
          70.7,
          70.7,
          70.6,
          70.6,
          70.6,
          70.6,
          70.6,
          70.6,
          70.6,
          70.6,
          70.6,
          70.6,
          70.6,
          70.6,
          70.6,
          70.6,
          70.6,
          70.6,
          70.6,
          70.5,
          70.5,
          70.5,
          70.5,
          70.5,
          70.5,
          70.5,
          70.5,
          70.5,
          70.5,
          70.5,
          70.5,
          70.5,
          70.5,
          70.5,
          70.5,
          70.4,
          70.4,
          70.4,
          70.4,
          70.4,
          70.4,
          70.4,
          70.4,
          70.4,
          70.4,
          70.4,
          70.4,
          70.4,
          70.4,
          70.4,
          70.4,
          70.4,
          70.3,
          70.3,
          70.3,
          70.3,
          70.3,
          70.3,
          70.3,
          70.3,
          70.3,
          70.3,
          70.3,
          70.3,
          70.3,
          70.3,
          70.3,
          70.3,
          70.3,
          70.2,
          70.2,
          70.2,
          70.2,
          70.2,
          70.2,
          70.2,
          70.2,
          70.2,
          70.2,
          70.2,
          70.2,
          70.2,
          70.2,
          70.2,
          70.2,
          70.2,
          70.2,
          70.1,
          70.1,
          70.1,
          70.1,
          70.1,
          70.1,
          70.1,
          70.1,
          70.1,
          70.1,
          70.1,
          70.1,
          70.1,
          70.1,
          70.1,
          70.1,
          70.1,
          70,
          70,
          70,
          70,
          70,
          70,
          70,
          70,
          70,
          70,
          70,
          70,
          70,
          70,
          70,
          70,
          70,
          70,
          69.9,
          69.9,
          69.9,
          69.9,
          69.9,
          69.9,
          69.9,
          69.9,
          69.9,
          69.9,
          69.9,
          69.9,
          69.9,
          69.9,
          69.9,
          69.9,
          69.9,
          69.9,
          69.8,
          69.8,
          69.8,
          69.8,
          69.8,
          69.8,
          69.8,
          69.8,
          69.8,
          69.8,
          69.8,
          69.8,
          69.8,
          69.8,
          69.8,
          69.8,
          69.8,
          69.8,
          69.7,
          69.7,
          69.7,
          69.7,
          69.7,
          69.7,
          69.7,
          69.7,
          69.7,
          69.7,
          69.7,
          69.7,
          69.7,
          69.7,
          69.7,
          69.7,
          69.7,
          69.7,
          69.7,
          69.6,
          69.6,
          69.6,
          69.6,
          69.6,
          69.6,
          69.6,
          69.6,
          69.6,
          69.6,
          69.6,
          69.6,
          69.6,
          69.6,
          69.6,
          69.6,
          69.6,
          69.6,
          69.5,
          69.5,
          69.5,
          69.5,
          69.5,
          69.5,
          69.5,
          69.5,
          69.5,
          69.5,
          69.5,
          69.5,
          69.5,
          69.5,
          69.5,
          69.5,
          69.5,
          69.5,
          69.5,
          69.4,
          69.4,
          69.4,
          69.4,
          69.4,
          69.4,
          69.4,
          69.4,
          69.4,
          69.4,
          69.4,
          69.4,
          69.4,
          69.4,
          69.4,
          69.4,
          69.4,
          69.4,
          69.4,
          69.4,
          69.3,
          69.3,
          69.3,
          69.3,
          69.3,
          69.3,
          69.3,
          69.3,
          69.3,
          69.3,
          69.3,
          69.3,
          69.3,
          69.3,
          69.3,
          69.3,
          69.3,
          69.3,
          69.3,
          69.2,
          69.2,
          69.2,
          69.2,
          69.2,
          69.2,
          69.2,
          69.2,
          69.2,
          69.2,
          69.2,
          69.2,
          69.2,
          69.2,
          69.2,
          69.2,
          69.2,
          69.2,
          69.2,
          69.2,
          69.1,
          69.1,
          69.1,
          69.1,
          69.1,
          69.1,
          69.1,
          69.1,
          69.1,
          69.1,
          69.1,
          69.1,
          69.1,
          69.1,
          69.1,
          69.1,
          69.1,
          69.1,
          69.1,
          69.1,
          69,
          69,
          69,
          69,
          69,
          69,
          69,
          69,
          69,
          69,
          69,
          69,
          69,
          69,
          69,
          69,
          69,
          69,
          69,
          69,
          68.9,
          68.9,
          68.9,
          68.9,
          68.9,
          68.9,
          68.9,
          68.9,
          68.9,
          68.9,
          68.9,
          68.9,
          68.9,
          68.9,
          68.9,
          68.9,
          68.9,
          68.9,
          68.9,
          68.9,
          68.8,
          68.8,
          68.8,
          68.8,
          68.8,
          68.8,
          68.8,
          68.8,
          68.8,
          68.8,
          68.8,
          68.8,
          68.8,
          68.8,
          68.8,
          68.8,
          68.8,
          68.8,
          68.8,
          68.8,
          68.8,
          68.7,
          68.7,
          68.7,
          68.7,
          68.7,
          68.7,
          68.7,
          68.7,
          68.7,
          68.7,
          68.7,
          68.7,
          68.7,
          68.7,
          68.7,
          68.7,
          68.7,
          68.7,
          68.7,
          68.7,
          68.7,
          68.6,
          68.6,
          68.6,
          68.6,
          68.6,
          68.6,
          68.6,
          68.6,
          68.6,
          68.6,
          68.6,
          68.6,
          68.6,
          68.6,
          68.6,
          68.6,
          68.6,
          68.6,
          68.6,
          68.6,
          68.6,
          68.5,
          68.5,
          68.5,
          68.5,
          68.5,
          68.5,
          68.5,
          68.5,
          68.5,
          68.5,
          68.5,
          68.5,
          68.5,
          68.5,
          68.5,
          68.5,
          68.5,
          68.5,
          68.5,
          68.5,
          68.5,
          68.5,
          68.4,
          68.4,
          68.4,
          68.4,
          68.4,
          68.4,
          68.4,
          68.4,
          68.4,
          68.4,
          68.4,
          68.4,
          68.4,
          68.4,
          68.4,
          68.4,
          68.4,
          68.4,
          68.4,
          68.4,
          68.4,
          68.4,
          68.3,
          68.3,
          68.3,
          68.3,
          68.3,
          68.3,
          68.3,
          68.3,
          68.3,
          68.3,
          68.3,
          68.3,
          68.3,
          68.3,
          68.3,
          68.3,
          68.3,
          68.3,
          68.3,
          68.3,
          68.3,
          68.3,
          68.2,
          68.2,
          68.2,
          68.2,
          68.2,
          68.2,
          68.2,
          68.2,
          68.2,
          68.2,
          68.2,
          68.2,
          68.2,
          68.2,
          68.2,
          68.2,
          68.2,
          68.2,
          68.2,
          68.2,
          68.2,
          68.2,
          68.1,
          68.1,
          68.1,
          68.1,
          68.1,
          68.1,
          68.1,
          68.1,
          68.1,
          68.1,
          68.1,
          68.1,
          68.1,
          68.1,
          68.1,
          68.1,
          68.1,
          68.1,
          68.1,
          68.1,
          68.1,
          68.1,
          68.1,
          68,
          68,
          68,
          68,
          68,
          68,
          68,
          68,
          68,
          68,
          68,
          68,
          68,
          68,
          68,
          68,
          68,
          68,
          68,
          68,
          68,
          68,
          67.9,
          67.9,
          67.9,
          67.9,
          67.9,
          67.9,
          67.9,
          67.9,
          67.9,
          67.9,
          67.9,
          67.9,
          67.9,
          67.9,
          67.9,
          67.9,
          67.9,
          67.9,
          67.9,
          67.9,
          67.9,
          67.9,
          67.9,
          67.9,
          67.8,
          67.8,
          67.8,
          67.8,
          67.8,
          67.8,
          67.8,
          67.8,
          67.8,
          67.8,
          67.8,
          67.8,
          67.8,
          67.8,
          67.8,
          67.8,
          67.8,
          67.8,
          67.8,
          67.8,
          67.8,
          67.8,
          67.8,
          67.7,
          67.7,
          67.7,
          67.7,
          67.7,
          67.7,
          67.7,
          67.7,
          67.7,
          67.7,
          67.7,
          67.7,
          67.7,
          67.7,
          67.7,
          67.7,
          67.7,
          67.7,
          67.7,
          67.7,
          67.7,
          67.7,
          67.7,
          67.7,
          67.6,
          67.6,
          67.6,
          67.6,
          67.6,
          67.6,
          67.6,
          67.6,
          67.6,
          67.6,
          67.6,
          67.6,
          67.6,
          67.6,
          67.6,
          67.6,
          67.6,
          67.6,
          67.6,
          67.6,
          67.6,
          67.6,
          67.6,
          67.6,
          67.5,
          67.5,
          67.5,
          67.5,
          67.5,
          67.5,
          67.5,
          67.5,
          67.5,
          67.5,
          67.5,
          67.5,
          67.5,
          67.5,
          67.5,
          67.5,
          67.5,
          67.5,
          67.5,
          67.5,
          67.5,
          67.5,
          67.5,
          67.5,
          67.4,
          67.4,
          67.4,
          67.4,
          67.4,
          67.4,
          67.4,
          67.4,
          67.4,
          67.4,
          67.4,
          67.4,
          67.4,
          67.4,
          67.4,
          67.4,
          67.4,
          67.4,
          67.4,
          67.4,
          67.4,
          67.4,
          67.4,
          67.4,
          67.3,
          67.3,
          67.3,
          67.3,
          67.3,
          67.3,
          67.3,
          67.3,
          67.3,
          67.3,
          67.3,
          67.3,
          67.3,
          67.3,
          67.3,
          67.3,
          67.3,
          67.3,
          67.3,
          67.3,
          67.3,
          67.3,
          67.3,
          67.3,
          67.3,
          67.2,
          67.2,
          67.2,
          67.2,
          67.2,
          67.2,
          67.2,
          67.2,
          67.2,
          67.2,
          67.2,
          67.2,
          67.2,
          67.2,
          67.2,
          67.2,
          67.2,
          67.2,
          67.2,
          67.2,
          67.2,
          67.2,
          67.2,
          67.2,
          67.2,
          67.1,
          67.1,
          67.1,
          67.1,
          67.1,
          67.1,
          67.1,
          67.1,
          67.1,
          67.1,
          67.1,
          67.1,
          67.1,
          67.1,
          67.1,
          67.1,
          67.1,
          67.1,
          67.1,
          67.1,
          67.1,
          67.1,
          67.1,
          67.1,
          67.1,
          67,
          67,
          67,
          67,
          67,
          67,
          67,
          67,
          67,
          67,
          67,
          67,
          67,
          67,
          67,
          67,
          67,
          67,
          67,
          67,
          67,
          67,
          67,
          67,
          67,
          67,
          66.9,
          66.9,
          66.9,
          66.9,
          66.9,
          66.9,
          66.9,
          66.9,
          66.9,
          66.9,
          66.9,
          66.9,
          66.9,
          66.9,
          66.9,
          66.9,
          66.9,
          66.9,
          66.9,
          66.9,
          66.9,
          66.9,
          66.9,
          66.9,
          66.9,
          66.9,
          66.8,
          66.8,
          66.8,
          66.8,
          66.8,
          66.8,
          66.8,
          66.8,
          66.8,
          66.8,
          66.8,
          66.8,
          66.8,
          66.8,
          66.8,
          66.8,
          66.8,
          66.8,
          66.8,
          66.8,
          66.8,
          66.8,
          66.8,
          66.8,
          66.8,
          66.8,
          66.7,
          66.7,
          66.7,
          66.7,
          66.7,
          66.7,
          66.7,
          66.7,
          66.7,
          66.7,
          66.7,
          66.7,
          66.7,
          66.7,
          66.7,
          66.7,
          66.7,
          66.7,
          66.7,
          66.7,
          66.7,
          66.7,
          66.7,
          66.7,
          66.7,
          66.7,
          66.7,
          66.6,
          66.6,
          66.6,
          66.6,
          66.6,
          66.6,
          66.6,
          66.6,
          66.6,
          66.6,
          66.6,
          66.6,
          66.6,
          66.6,
          66.6,
          66.6,
          66.6,
          66.6,
          66.6,
          66.6,
          66.6,
          66.6,
          66.6,
          66.6,
          66.6,
          66.6,
          66.6,
          66.5,
          66.5,
          66.5,
          66.5,
          66.5,
          66.5,
          66.5,
          66.5,
          66.5,
          66.5,
          66.5,
          66.5,
          66.5,
          66.5,
          66.5,
          66.5,
          66.5,
          66.5,
          66.5,
          66.5,
          66.5,
          66.5,
          66.5,
          66.5,
          66.5,
          66.5,
          66.5,
          66.4,
          66.4,
          66.4,
          66.4,
          66.4,
          66.4,
          66.4,
          66.4,
          66.4,
          66.4,
          66.4,
          66.4,
          66.4,
          66.4,
          66.4,
          66.4,
          66.4,
          66.4,
          66.4,
          66.4,
          66.4,
          66.4,
          66.4,
          66.4,
          66.4,
          66.4,
          66.4,
          66.3,
          66.3,
          66.3,
          66.3,
          66.3,
          66.3,
          66.3,
          66.3,
          66.3,
          66.3,
          66.3,
          66.3,
          66.3,
          66.3,
          66.3,
          66.3,
          66.3,
          66.3,
          66.3,
          66.3,
          66.3,
          66.3,
          66.3,
          66.3,
          66.3,
          66.3,
          66.3,
          66.3,
          66.2,
          66.2,
          66.2,
          66.2,
          66.2,
          66.2,
          66.2,
          66.2,
          66.2,
          66.2,
          66.2,
          66.2,
          66.2,
          66.2,
          66.2,
          66.2,
          66.2,
          66.2,
          66.2,
          66.2,
          66.2,
          66.2,
          66.2,
          66.2,
          66.2,
          66.2,
          66.2,
          66.2,
          66.1,
          66.1,
          66.1,
          66.1,
          66.1,
          66.1,
          66.1,
          66.1,
          66.1,
          66.1,
          66.1,
          66.1,
          66.1,
          66.1,
          66.1,
          66.1,
          66.1,
          66.1,
          66.1,
          66.1,
          66.1,
          66.1,
          66.1,
          66.1,
          66.1,
          66.1,
          66.1,
          66.1,
          66,
          66,
          66,
          66,
          66,
          66,
          66,
          66,
          66,
          66,
          66,
          66,
          66,
          66,
          66,
          66,
          66,
          66,
          66,
          66,
          66,
          66,
          66,
          66,
          66,
          66
         ],
         "y0": " ",
         "yaxis": "y"
        }
       ],
       "layout": {
        "boxmode": "group",
        "legend": {
         "tracegroupgap": 0
        },
        "template": {
         "data": {
          "bar": [
           {
            "error_x": {
             "color": "#2a3f5f"
            },
            "error_y": {
             "color": "#2a3f5f"
            },
            "marker": {
             "line": {
              "color": "#E5ECF6",
              "width": 0.5
             },
             "pattern": {
              "fillmode": "overlay",
              "size": 10,
              "solidity": 0.2
             }
            },
            "type": "bar"
           }
          ],
          "barpolar": [
           {
            "marker": {
             "line": {
              "color": "#E5ECF6",
              "width": 0.5
             },
             "pattern": {
              "fillmode": "overlay",
              "size": 10,
              "solidity": 0.2
             }
            },
            "type": "barpolar"
           }
          ],
          "carpet": [
           {
            "aaxis": {
             "endlinecolor": "#2a3f5f",
             "gridcolor": "white",
             "linecolor": "white",
             "minorgridcolor": "white",
             "startlinecolor": "#2a3f5f"
            },
            "baxis": {
             "endlinecolor": "#2a3f5f",
             "gridcolor": "white",
             "linecolor": "white",
             "minorgridcolor": "white",
             "startlinecolor": "#2a3f5f"
            },
            "type": "carpet"
           }
          ],
          "choropleth": [
           {
            "colorbar": {
             "outlinewidth": 0,
             "ticks": ""
            },
            "type": "choropleth"
           }
          ],
          "contour": [
           {
            "colorbar": {
             "outlinewidth": 0,
             "ticks": ""
            },
            "colorscale": [
             [
              0,
              "#0d0887"
             ],
             [
              0.1111111111111111,
              "#46039f"
             ],
             [
              0.2222222222222222,
              "#7201a8"
             ],
             [
              0.3333333333333333,
              "#9c179e"
             ],
             [
              0.4444444444444444,
              "#bd3786"
             ],
             [
              0.5555555555555556,
              "#d8576b"
             ],
             [
              0.6666666666666666,
              "#ed7953"
             ],
             [
              0.7777777777777778,
              "#fb9f3a"
             ],
             [
              0.8888888888888888,
              "#fdca26"
             ],
             [
              1,
              "#f0f921"
             ]
            ],
            "type": "contour"
           }
          ],
          "contourcarpet": [
           {
            "colorbar": {
             "outlinewidth": 0,
             "ticks": ""
            },
            "type": "contourcarpet"
           }
          ],
          "heatmap": [
           {
            "colorbar": {
             "outlinewidth": 0,
             "ticks": ""
            },
            "colorscale": [
             [
              0,
              "#0d0887"
             ],
             [
              0.1111111111111111,
              "#46039f"
             ],
             [
              0.2222222222222222,
              "#7201a8"
             ],
             [
              0.3333333333333333,
              "#9c179e"
             ],
             [
              0.4444444444444444,
              "#bd3786"
             ],
             [
              0.5555555555555556,
              "#d8576b"
             ],
             [
              0.6666666666666666,
              "#ed7953"
             ],
             [
              0.7777777777777778,
              "#fb9f3a"
             ],
             [
              0.8888888888888888,
              "#fdca26"
             ],
             [
              1,
              "#f0f921"
             ]
            ],
            "type": "heatmap"
           }
          ],
          "heatmapgl": [
           {
            "colorbar": {
             "outlinewidth": 0,
             "ticks": ""
            },
            "colorscale": [
             [
              0,
              "#0d0887"
             ],
             [
              0.1111111111111111,
              "#46039f"
             ],
             [
              0.2222222222222222,
              "#7201a8"
             ],
             [
              0.3333333333333333,
              "#9c179e"
             ],
             [
              0.4444444444444444,
              "#bd3786"
             ],
             [
              0.5555555555555556,
              "#d8576b"
             ],
             [
              0.6666666666666666,
              "#ed7953"
             ],
             [
              0.7777777777777778,
              "#fb9f3a"
             ],
             [
              0.8888888888888888,
              "#fdca26"
             ],
             [
              1,
              "#f0f921"
             ]
            ],
            "type": "heatmapgl"
           }
          ],
          "histogram": [
           {
            "marker": {
             "pattern": {
              "fillmode": "overlay",
              "size": 10,
              "solidity": 0.2
             }
            },
            "type": "histogram"
           }
          ],
          "histogram2d": [
           {
            "colorbar": {
             "outlinewidth": 0,
             "ticks": ""
            },
            "colorscale": [
             [
              0,
              "#0d0887"
             ],
             [
              0.1111111111111111,
              "#46039f"
             ],
             [
              0.2222222222222222,
              "#7201a8"
             ],
             [
              0.3333333333333333,
              "#9c179e"
             ],
             [
              0.4444444444444444,
              "#bd3786"
             ],
             [
              0.5555555555555556,
              "#d8576b"
             ],
             [
              0.6666666666666666,
              "#ed7953"
             ],
             [
              0.7777777777777778,
              "#fb9f3a"
             ],
             [
              0.8888888888888888,
              "#fdca26"
             ],
             [
              1,
              "#f0f921"
             ]
            ],
            "type": "histogram2d"
           }
          ],
          "histogram2dcontour": [
           {
            "colorbar": {
             "outlinewidth": 0,
             "ticks": ""
            },
            "colorscale": [
             [
              0,
              "#0d0887"
             ],
             [
              0.1111111111111111,
              "#46039f"
             ],
             [
              0.2222222222222222,
              "#7201a8"
             ],
             [
              0.3333333333333333,
              "#9c179e"
             ],
             [
              0.4444444444444444,
              "#bd3786"
             ],
             [
              0.5555555555555556,
              "#d8576b"
             ],
             [
              0.6666666666666666,
              "#ed7953"
             ],
             [
              0.7777777777777778,
              "#fb9f3a"
             ],
             [
              0.8888888888888888,
              "#fdca26"
             ],
             [
              1,
              "#f0f921"
             ]
            ],
            "type": "histogram2dcontour"
           }
          ],
          "mesh3d": [
           {
            "colorbar": {
             "outlinewidth": 0,
             "ticks": ""
            },
            "type": "mesh3d"
           }
          ],
          "parcoords": [
           {
            "line": {
             "colorbar": {
              "outlinewidth": 0,
              "ticks": ""
             }
            },
            "type": "parcoords"
           }
          ],
          "pie": [
           {
            "automargin": true,
            "type": "pie"
           }
          ],
          "scatter": [
           {
            "fillpattern": {
             "fillmode": "overlay",
             "size": 10,
             "solidity": 0.2
            },
            "type": "scatter"
           }
          ],
          "scatter3d": [
           {
            "line": {
             "colorbar": {
              "outlinewidth": 0,
              "ticks": ""
             }
            },
            "marker": {
             "colorbar": {
              "outlinewidth": 0,
              "ticks": ""
             }
            },
            "type": "scatter3d"
           }
          ],
          "scattercarpet": [
           {
            "marker": {
             "colorbar": {
              "outlinewidth": 0,
              "ticks": ""
             }
            },
            "type": "scattercarpet"
           }
          ],
          "scattergeo": [
           {
            "marker": {
             "colorbar": {
              "outlinewidth": 0,
              "ticks": ""
             }
            },
            "type": "scattergeo"
           }
          ],
          "scattergl": [
           {
            "marker": {
             "colorbar": {
              "outlinewidth": 0,
              "ticks": ""
             }
            },
            "type": "scattergl"
           }
          ],
          "scattermapbox": [
           {
            "marker": {
             "colorbar": {
              "outlinewidth": 0,
              "ticks": ""
             }
            },
            "type": "scattermapbox"
           }
          ],
          "scatterpolar": [
           {
            "marker": {
             "colorbar": {
              "outlinewidth": 0,
              "ticks": ""
             }
            },
            "type": "scatterpolar"
           }
          ],
          "scatterpolargl": [
           {
            "marker": {
             "colorbar": {
              "outlinewidth": 0,
              "ticks": ""
             }
            },
            "type": "scatterpolargl"
           }
          ],
          "scatterternary": [
           {
            "marker": {
             "colorbar": {
              "outlinewidth": 0,
              "ticks": ""
             }
            },
            "type": "scatterternary"
           }
          ],
          "surface": [
           {
            "colorbar": {
             "outlinewidth": 0,
             "ticks": ""
            },
            "colorscale": [
             [
              0,
              "#0d0887"
             ],
             [
              0.1111111111111111,
              "#46039f"
             ],
             [
              0.2222222222222222,
              "#7201a8"
             ],
             [
              0.3333333333333333,
              "#9c179e"
             ],
             [
              0.4444444444444444,
              "#bd3786"
             ],
             [
              0.5555555555555556,
              "#d8576b"
             ],
             [
              0.6666666666666666,
              "#ed7953"
             ],
             [
              0.7777777777777778,
              "#fb9f3a"
             ],
             [
              0.8888888888888888,
              "#fdca26"
             ],
             [
              1,
              "#f0f921"
             ]
            ],
            "type": "surface"
           }
          ],
          "table": [
           {
            "cells": {
             "fill": {
              "color": "#EBF0F8"
             },
             "line": {
              "color": "white"
             }
            },
            "header": {
             "fill": {
              "color": "#C8D4E3"
             },
             "line": {
              "color": "white"
             }
            },
            "type": "table"
           }
          ]
         },
         "layout": {
          "annotationdefaults": {
           "arrowcolor": "#2a3f5f",
           "arrowhead": 0,
           "arrowwidth": 1
          },
          "autotypenumbers": "strict",
          "coloraxis": {
           "colorbar": {
            "outlinewidth": 0,
            "ticks": ""
           }
          },
          "colorscale": {
           "diverging": [
            [
             0,
             "#8e0152"
            ],
            [
             0.1,
             "#c51b7d"
            ],
            [
             0.2,
             "#de77ae"
            ],
            [
             0.3,
             "#f1b6da"
            ],
            [
             0.4,
             "#fde0ef"
            ],
            [
             0.5,
             "#f7f7f7"
            ],
            [
             0.6,
             "#e6f5d0"
            ],
            [
             0.7,
             "#b8e186"
            ],
            [
             0.8,
             "#7fbc41"
            ],
            [
             0.9,
             "#4d9221"
            ],
            [
             1,
             "#276419"
            ]
           ],
           "sequential": [
            [
             0,
             "#0d0887"
            ],
            [
             0.1111111111111111,
             "#46039f"
            ],
            [
             0.2222222222222222,
             "#7201a8"
            ],
            [
             0.3333333333333333,
             "#9c179e"
            ],
            [
             0.4444444444444444,
             "#bd3786"
            ],
            [
             0.5555555555555556,
             "#d8576b"
            ],
            [
             0.6666666666666666,
             "#ed7953"
            ],
            [
             0.7777777777777778,
             "#fb9f3a"
            ],
            [
             0.8888888888888888,
             "#fdca26"
            ],
            [
             1,
             "#f0f921"
            ]
           ],
           "sequentialminus": [
            [
             0,
             "#0d0887"
            ],
            [
             0.1111111111111111,
             "#46039f"
            ],
            [
             0.2222222222222222,
             "#7201a8"
            ],
            [
             0.3333333333333333,
             "#9c179e"
            ],
            [
             0.4444444444444444,
             "#bd3786"
            ],
            [
             0.5555555555555556,
             "#d8576b"
            ],
            [
             0.6666666666666666,
             "#ed7953"
            ],
            [
             0.7777777777777778,
             "#fb9f3a"
            ],
            [
             0.8888888888888888,
             "#fdca26"
            ],
            [
             1,
             "#f0f921"
            ]
           ]
          },
          "colorway": [
           "#636efa",
           "#EF553B",
           "#00cc96",
           "#ab63fa",
           "#FFA15A",
           "#19d3f3",
           "#FF6692",
           "#B6E880",
           "#FF97FF",
           "#FECB52"
          ],
          "font": {
           "color": "#2a3f5f"
          },
          "geo": {
           "bgcolor": "white",
           "lakecolor": "white",
           "landcolor": "#E5ECF6",
           "showlakes": true,
           "showland": true,
           "subunitcolor": "white"
          },
          "hoverlabel": {
           "align": "left"
          },
          "hovermode": "closest",
          "mapbox": {
           "style": "light"
          },
          "paper_bgcolor": "white",
          "plot_bgcolor": "#E5ECF6",
          "polar": {
           "angularaxis": {
            "gridcolor": "white",
            "linecolor": "white",
            "ticks": ""
           },
           "bgcolor": "#E5ECF6",
           "radialaxis": {
            "gridcolor": "white",
            "linecolor": "white",
            "ticks": ""
           }
          },
          "scene": {
           "xaxis": {
            "backgroundcolor": "#E5ECF6",
            "gridcolor": "white",
            "gridwidth": 2,
            "linecolor": "white",
            "showbackground": true,
            "ticks": "",
            "zerolinecolor": "white"
           },
           "yaxis": {
            "backgroundcolor": "#E5ECF6",
            "gridcolor": "white",
            "gridwidth": 2,
            "linecolor": "white",
            "showbackground": true,
            "ticks": "",
            "zerolinecolor": "white"
           },
           "zaxis": {
            "backgroundcolor": "#E5ECF6",
            "gridcolor": "white",
            "gridwidth": 2,
            "linecolor": "white",
            "showbackground": true,
            "ticks": "",
            "zerolinecolor": "white"
           }
          },
          "shapedefaults": {
           "line": {
            "color": "#2a3f5f"
           }
          },
          "ternary": {
           "aaxis": {
            "gridcolor": "white",
            "linecolor": "white",
            "ticks": ""
           },
           "baxis": {
            "gridcolor": "white",
            "linecolor": "white",
            "ticks": ""
           },
           "bgcolor": "#E5ECF6",
           "caxis": {
            "gridcolor": "white",
            "linecolor": "white",
            "ticks": ""
           }
          },
          "title": {
           "x": 0.05
          },
          "xaxis": {
           "automargin": true,
           "gridcolor": "white",
           "linecolor": "white",
           "ticks": "",
           "title": {
            "standoff": 15
           },
           "zerolinecolor": "white",
           "zerolinewidth": 2
          },
          "yaxis": {
           "automargin": true,
           "gridcolor": "white",
           "linecolor": "white",
           "ticks": "",
           "title": {
            "standoff": 15
           },
           "zerolinecolor": "white",
           "zerolinewidth": 2
          }
         }
        },
        "title": {
         "font": {
          "size": 14
         },
         "text": "Score Distribution"
        },
        "xaxis": {
         "anchor": "y",
         "domain": [
          0,
          1
         ],
         "tickfont": {
          "size": 12
         },
         "title": {
          "text": ""
         }
        },
        "yaxis": {
         "anchor": "x",
         "domain": [
          0,
          1
         ],
         "tickfont": {
          "size": 12
         },
         "title": {
          "text": "Score"
         }
        }
       }
      }
     },
     "metadata": {},
     "output_type": "display_data"
    }
   ],
   "source": [
    "# Create a box plot for the 'Score' column in the word_rank DataFrame\n",
    "fig = px.box(word_rank, y='Score', title='Score Distribution')\n",
    "\n",
    "# Update layout for better readability\n",
    "fig.update_layout(\n",
    "    yaxis_title='Score',\n",
    "    xaxis_title='',\n",
    "    title_font_size=14,\n",
    "    yaxis=dict(tickfont=dict(size=12)),\n",
    "    xaxis=dict(tickfont=dict(size=12))\n",
    ")\n",
    "\n",
    "# Show the plot\n",
    "fig.show()"
   ]
  },
  {
   "cell_type": "markdown",
   "id": "33266c08",
   "metadata": {},
   "source": [
    "#### Insight\n",
    "The central box represents the range of the middle 50% of the data (between the first quartile and third quartile). Most universities have scores ranging between approximately 73 and 75.\n",
    "The horizontal line inside the box represents the median score, which is 70. This indicates that half of the universities have scores less than 70, and the other half have scores higher than 70.\n",
    "The dots above are outliers, meaning they are scores significantly higher than the rest of the data (above 85). These outliers extend up to the maximum score of 100.\n",
    "Key Observations:\n",
    "Most universities tend to have scores between 70 and 75, indicating a relatively narrow range of scores for the majority of institutions.\n",
    "There are several outliers with much higher scores, indicating that a few universities perform exceptionally well compared to the rest.\n",
    "The range of scores is generally compressed, with very few institutions having low scores (below 73), which shows that universities included in this dataset perform relatively well overall."
   ]
  },
  {
   "cell_type": "code",
   "execution_count": 387,
   "id": "4621f3df",
   "metadata": {},
   "outputs": [
    {
     "data": {
      "application/vnd.plotly.v1+json": {
       "config": {
        "plotlyServerURL": "https://plot.ly"
       },
       "data": [
        {
         "alignmentgroup": "True",
         "bingroup": "x",
         "hovertemplate": "Score=%{x}<br>count=%{y}<extra></extra>",
         "legendgroup": "",
         "marker": {
          "color": "#636efa",
          "pattern": {
           "shape": ""
          }
         },
         "name": "",
         "nbinsx": 1000,
         "offsetgroup": "",
         "orientation": "v",
         "showlegend": false,
         "type": "histogram",
         "x": [
          100,
          96.7,
          95.2,
          94.1,
          93.3,
          92.6,
          92.1,
          91.6,
          91.2,
          90.8,
          90.4,
          90.1,
          89.8,
          89.5,
          89.3,
          89.1,
          88.8,
          88.6,
          88.4,
          88.2,
          88,
          87.9,
          87.7,
          87.5,
          87.4,
          87.2,
          87.1,
          87,
          86.8,
          86.7,
          86.6,
          86.4,
          86.3,
          86.2,
          86.1,
          86,
          85.9,
          85.8,
          85.7,
          85.6,
          85.5,
          85.4,
          85.3,
          85.2,
          85.1,
          85,
          84.9,
          84.9,
          84.8,
          84.7,
          84.6,
          84.5,
          84.5,
          84.4,
          84.3,
          84.2,
          84.2,
          84.1,
          84,
          84,
          83.9,
          83.8,
          83.8,
          83.7,
          83.6,
          83.6,
          83.5,
          83.5,
          83.4,
          83.3,
          83.3,
          83.2,
          83.2,
          83.1,
          83,
          83,
          82.9,
          82.9,
          82.8,
          82.8,
          82.7,
          82.7,
          82.6,
          82.6,
          82.5,
          82.5,
          82.4,
          82.4,
          82.3,
          82.3,
          82.2,
          82.2,
          82.1,
          82.1,
          82.1,
          82,
          82,
          81.9,
          81.9,
          81.8,
          81.8,
          81.8,
          81.7,
          81.7,
          81.6,
          81.6,
          81.6,
          81.5,
          81.5,
          81.4,
          81.4,
          81.4,
          81.3,
          81.3,
          81.2,
          81.2,
          81.2,
          81.1,
          81.1,
          81.1,
          81,
          81,
          80.9,
          80.9,
          80.9,
          80.8,
          80.8,
          80.8,
          80.7,
          80.7,
          80.7,
          80.6,
          80.6,
          80.6,
          80.5,
          80.5,
          80.5,
          80.4,
          80.4,
          80.4,
          80.3,
          80.3,
          80.3,
          80.3,
          80.2,
          80.2,
          80.2,
          80.1,
          80.1,
          80.1,
          80,
          80,
          80,
          80,
          79.9,
          79.9,
          79.9,
          79.8,
          79.8,
          79.8,
          79.8,
          79.7,
          79.7,
          79.7,
          79.6,
          79.6,
          79.6,
          79.6,
          79.5,
          79.5,
          79.5,
          79.5,
          79.4,
          79.4,
          79.4,
          79.4,
          79.3,
          79.3,
          79.3,
          79.3,
          79.2,
          79.2,
          79.2,
          79.2,
          79.1,
          79.1,
          79.1,
          79.1,
          79,
          79,
          79,
          79,
          78.9,
          78.9,
          78.9,
          78.9,
          78.8,
          78.8,
          78.8,
          78.8,
          78.7,
          78.7,
          78.7,
          78.7,
          78.7,
          78.6,
          78.6,
          78.6,
          78.6,
          78.5,
          78.5,
          78.5,
          78.5,
          78.5,
          78.4,
          78.4,
          78.4,
          78.4,
          78.3,
          78.3,
          78.3,
          78.3,
          78.3,
          78.2,
          78.2,
          78.2,
          78.2,
          78.2,
          78.1,
          78.1,
          78.1,
          78.1,
          78.1,
          78,
          78,
          78,
          78,
          78,
          77.9,
          77.9,
          77.9,
          77.9,
          77.9,
          77.8,
          77.8,
          77.8,
          77.8,
          77.8,
          77.7,
          77.7,
          77.7,
          77.7,
          77.7,
          77.7,
          77.6,
          77.6,
          77.6,
          77.6,
          77.6,
          77.5,
          77.5,
          77.5,
          77.5,
          77.5,
          77.4,
          77.4,
          77.4,
          77.4,
          77.4,
          77.4,
          77.3,
          77.3,
          77.3,
          77.3,
          77.3,
          77.3,
          77.2,
          77.2,
          77.2,
          77.2,
          77.2,
          77.1,
          77.1,
          77.1,
          77.1,
          77.1,
          77.1,
          77,
          77,
          77,
          77,
          77,
          77,
          76.9,
          76.9,
          76.9,
          76.9,
          76.9,
          76.9,
          76.8,
          76.8,
          76.8,
          76.8,
          76.8,
          76.8,
          76.8,
          76.7,
          76.7,
          76.7,
          76.7,
          76.7,
          76.7,
          76.6,
          76.6,
          76.6,
          76.6,
          76.6,
          76.6,
          76.5,
          76.5,
          76.5,
          76.5,
          76.5,
          76.5,
          76.5,
          76.4,
          76.4,
          76.4,
          76.4,
          76.4,
          76.4,
          76.4,
          76.3,
          76.3,
          76.3,
          76.3,
          76.3,
          76.3,
          76.2,
          76.2,
          76.2,
          76.2,
          76.2,
          76.2,
          76.2,
          76.1,
          76.1,
          76.1,
          76.1,
          76.1,
          76.1,
          76.1,
          76,
          76,
          76,
          76,
          76,
          76,
          76,
          76,
          75.9,
          75.9,
          75.9,
          75.9,
          75.9,
          75.9,
          75.9,
          75.8,
          75.8,
          75.8,
          75.8,
          75.8,
          75.8,
          75.8,
          75.7,
          75.7,
          75.7,
          75.7,
          75.7,
          75.7,
          75.7,
          75.7,
          75.6,
          75.6,
          75.6,
          75.6,
          75.6,
          75.6,
          75.6,
          75.5,
          75.5,
          75.5,
          75.5,
          75.5,
          75.5,
          75.5,
          75.5,
          75.4,
          75.4,
          75.4,
          75.4,
          75.4,
          75.4,
          75.4,
          75.4,
          75.3,
          75.3,
          75.3,
          75.3,
          75.3,
          75.3,
          75.3,
          75.3,
          75.2,
          75.2,
          75.2,
          75.2,
          75.2,
          75.2,
          75.2,
          75.2,
          75.1,
          75.1,
          75.1,
          75.1,
          75.1,
          75.1,
          75.1,
          75.1,
          75.1,
          75,
          75,
          75,
          75,
          75,
          75,
          75,
          75,
          74.9,
          74.9,
          74.9,
          74.9,
          74.9,
          74.9,
          74.9,
          74.9,
          74.9,
          74.8,
          74.8,
          74.8,
          74.8,
          74.8,
          74.8,
          74.8,
          74.8,
          74.7,
          74.7,
          74.7,
          74.7,
          74.7,
          74.7,
          74.7,
          74.7,
          74.7,
          74.6,
          74.6,
          74.6,
          74.6,
          74.6,
          74.6,
          74.6,
          74.6,
          74.6,
          74.5,
          74.5,
          74.5,
          74.5,
          74.5,
          74.5,
          74.5,
          74.5,
          74.5,
          74.5,
          74.4,
          74.4,
          74.4,
          74.4,
          74.4,
          74.4,
          74.4,
          74.4,
          74.4,
          74.3,
          74.3,
          74.3,
          74.3,
          74.3,
          74.3,
          74.3,
          74.3,
          74.3,
          74.2,
          74.2,
          74.2,
          74.2,
          74.2,
          74.2,
          74.2,
          74.2,
          74.2,
          74.2,
          74.1,
          74.1,
          74.1,
          74.1,
          74.1,
          74.1,
          74.1,
          74.1,
          74.1,
          74.1,
          74,
          74,
          74,
          74,
          74,
          74,
          74,
          74,
          74,
          74,
          73.9,
          73.9,
          73.9,
          73.9,
          73.9,
          73.9,
          73.9,
          73.9,
          73.9,
          73.9,
          73.8,
          73.8,
          73.8,
          73.8,
          73.8,
          73.8,
          73.8,
          73.8,
          73.8,
          73.8,
          73.7,
          73.7,
          73.7,
          73.7,
          73.7,
          73.7,
          73.7,
          73.7,
          73.7,
          73.7,
          73.7,
          73.6,
          73.6,
          73.6,
          73.6,
          73.6,
          73.6,
          73.6,
          73.6,
          73.6,
          73.6,
          73.5,
          73.5,
          73.5,
          73.5,
          73.5,
          73.5,
          73.5,
          73.5,
          73.5,
          73.5,
          73.5,
          73.4,
          73.4,
          73.4,
          73.4,
          73.4,
          73.4,
          73.4,
          73.4,
          73.4,
          73.4,
          73.4,
          73.3,
          73.3,
          73.3,
          73.3,
          73.3,
          73.3,
          73.3,
          73.3,
          73.3,
          73.3,
          73.3,
          73.2,
          73.2,
          73.2,
          73.2,
          73.2,
          73.2,
          73.2,
          73.2,
          73.2,
          73.2,
          73.2,
          73.1,
          73.1,
          73.1,
          73.1,
          73.1,
          73.1,
          73.1,
          73.1,
          73.1,
          73.1,
          73.1,
          73.1,
          73,
          73,
          73,
          73,
          73,
          73,
          73,
          73,
          73,
          73,
          73,
          72.9,
          72.9,
          72.9,
          72.9,
          72.9,
          72.9,
          72.9,
          72.9,
          72.9,
          72.9,
          72.9,
          72.9,
          72.8,
          72.8,
          72.8,
          72.8,
          72.8,
          72.8,
          72.8,
          72.8,
          72.8,
          72.8,
          72.8,
          72.8,
          72.7,
          72.7,
          72.7,
          72.7,
          72.7,
          72.7,
          72.7,
          72.7,
          72.7,
          72.7,
          72.7,
          72.7,
          72.6,
          72.6,
          72.6,
          72.6,
          72.6,
          72.6,
          72.6,
          72.6,
          72.6,
          72.6,
          72.6,
          72.6,
          72.6,
          72.5,
          72.5,
          72.5,
          72.5,
          72.5,
          72.5,
          72.5,
          72.5,
          72.5,
          72.5,
          72.5,
          72.5,
          72.4,
          72.4,
          72.4,
          72.4,
          72.4,
          72.4,
          72.4,
          72.4,
          72.4,
          72.4,
          72.4,
          72.4,
          72.4,
          72.3,
          72.3,
          72.3,
          72.3,
          72.3,
          72.3,
          72.3,
          72.3,
          72.3,
          72.3,
          72.3,
          72.3,
          72.3,
          72.2,
          72.2,
          72.2,
          72.2,
          72.2,
          72.2,
          72.2,
          72.2,
          72.2,
          72.2,
          72.2,
          72.2,
          72.2,
          72.1,
          72.1,
          72.1,
          72.1,
          72.1,
          72.1,
          72.1,
          72.1,
          72.1,
          72.1,
          72.1,
          72.1,
          72.1,
          72,
          72,
          72,
          72,
          72,
          72,
          72,
          72,
          72,
          72,
          72,
          72,
          72,
          71.9,
          71.9,
          71.9,
          71.9,
          71.9,
          71.9,
          71.9,
          71.9,
          71.9,
          71.9,
          71.9,
          71.9,
          71.9,
          71.9,
          71.8,
          71.8,
          71.8,
          71.8,
          71.8,
          71.8,
          71.8,
          71.8,
          71.8,
          71.8,
          71.8,
          71.8,
          71.8,
          71.8,
          71.7,
          71.7,
          71.7,
          71.7,
          71.7,
          71.7,
          71.7,
          71.7,
          71.7,
          71.7,
          71.7,
          71.7,
          71.7,
          71.7,
          71.6,
          71.6,
          71.6,
          71.6,
          71.6,
          71.6,
          71.6,
          71.6,
          71.6,
          71.6,
          71.6,
          71.6,
          71.6,
          71.6,
          71.5,
          71.5,
          71.5,
          71.5,
          71.5,
          71.5,
          71.5,
          71.5,
          71.5,
          71.5,
          71.5,
          71.5,
          71.5,
          71.5,
          71.5,
          71.4,
          71.4,
          71.4,
          71.4,
          71.4,
          71.4,
          71.4,
          71.4,
          71.4,
          71.4,
          71.4,
          71.4,
          71.4,
          71.4,
          71.4,
          71.3,
          71.3,
          71.3,
          71.3,
          71.3,
          71.3,
          71.3,
          71.3,
          71.3,
          71.3,
          71.3,
          71.3,
          71.3,
          71.3,
          71.2,
          71.2,
          71.2,
          71.2,
          71.2,
          71.2,
          71.2,
          71.2,
          71.2,
          71.2,
          71.2,
          71.2,
          71.2,
          71.2,
          71.2,
          71.2,
          71.1,
          71.1,
          71.1,
          71.1,
          71.1,
          71.1,
          71.1,
          71.1,
          71.1,
          71.1,
          71.1,
          71.1,
          71.1,
          71.1,
          71.1,
          71,
          71,
          71,
          71,
          71,
          71,
          71,
          71,
          71,
          71,
          71,
          71,
          71,
          71,
          71,
          70.9,
          70.9,
          70.9,
          70.9,
          70.9,
          70.9,
          70.9,
          70.9,
          70.9,
          70.9,
          70.9,
          70.9,
          70.9,
          70.9,
          70.9,
          70.9,
          70.8,
          70.8,
          70.8,
          70.8,
          70.8,
          70.8,
          70.8,
          70.8,
          70.8,
          70.8,
          70.8,
          70.8,
          70.8,
          70.8,
          70.8,
          70.8,
          70.7,
          70.7,
          70.7,
          70.7,
          70.7,
          70.7,
          70.7,
          70.7,
          70.7,
          70.7,
          70.7,
          70.7,
          70.7,
          70.7,
          70.7,
          70.7,
          70.6,
          70.6,
          70.6,
          70.6,
          70.6,
          70.6,
          70.6,
          70.6,
          70.6,
          70.6,
          70.6,
          70.6,
          70.6,
          70.6,
          70.6,
          70.6,
          70.6,
          70.5,
          70.5,
          70.5,
          70.5,
          70.5,
          70.5,
          70.5,
          70.5,
          70.5,
          70.5,
          70.5,
          70.5,
          70.5,
          70.5,
          70.5,
          70.5,
          70.4,
          70.4,
          70.4,
          70.4,
          70.4,
          70.4,
          70.4,
          70.4,
          70.4,
          70.4,
          70.4,
          70.4,
          70.4,
          70.4,
          70.4,
          70.4,
          70.4,
          70.3,
          70.3,
          70.3,
          70.3,
          70.3,
          70.3,
          70.3,
          70.3,
          70.3,
          70.3,
          70.3,
          70.3,
          70.3,
          70.3,
          70.3,
          70.3,
          70.3,
          70.2,
          70.2,
          70.2,
          70.2,
          70.2,
          70.2,
          70.2,
          70.2,
          70.2,
          70.2,
          70.2,
          70.2,
          70.2,
          70.2,
          70.2,
          70.2,
          70.2,
          70.2,
          70.1,
          70.1,
          70.1,
          70.1,
          70.1,
          70.1,
          70.1,
          70.1,
          70.1,
          70.1,
          70.1,
          70.1,
          70.1,
          70.1,
          70.1,
          70.1,
          70.1,
          70,
          70,
          70,
          70,
          70,
          70,
          70,
          70,
          70,
          70,
          70,
          70,
          70,
          70,
          70,
          70,
          70,
          70,
          69.9,
          69.9,
          69.9,
          69.9,
          69.9,
          69.9,
          69.9,
          69.9,
          69.9,
          69.9,
          69.9,
          69.9,
          69.9,
          69.9,
          69.9,
          69.9,
          69.9,
          69.9,
          69.8,
          69.8,
          69.8,
          69.8,
          69.8,
          69.8,
          69.8,
          69.8,
          69.8,
          69.8,
          69.8,
          69.8,
          69.8,
          69.8,
          69.8,
          69.8,
          69.8,
          69.8,
          69.7,
          69.7,
          69.7,
          69.7,
          69.7,
          69.7,
          69.7,
          69.7,
          69.7,
          69.7,
          69.7,
          69.7,
          69.7,
          69.7,
          69.7,
          69.7,
          69.7,
          69.7,
          69.7,
          69.6,
          69.6,
          69.6,
          69.6,
          69.6,
          69.6,
          69.6,
          69.6,
          69.6,
          69.6,
          69.6,
          69.6,
          69.6,
          69.6,
          69.6,
          69.6,
          69.6,
          69.6,
          69.5,
          69.5,
          69.5,
          69.5,
          69.5,
          69.5,
          69.5,
          69.5,
          69.5,
          69.5,
          69.5,
          69.5,
          69.5,
          69.5,
          69.5,
          69.5,
          69.5,
          69.5,
          69.5,
          69.4,
          69.4,
          69.4,
          69.4,
          69.4,
          69.4,
          69.4,
          69.4,
          69.4,
          69.4,
          69.4,
          69.4,
          69.4,
          69.4,
          69.4,
          69.4,
          69.4,
          69.4,
          69.4,
          69.4,
          69.3,
          69.3,
          69.3,
          69.3,
          69.3,
          69.3,
          69.3,
          69.3,
          69.3,
          69.3,
          69.3,
          69.3,
          69.3,
          69.3,
          69.3,
          69.3,
          69.3,
          69.3,
          69.3,
          69.2,
          69.2,
          69.2,
          69.2,
          69.2,
          69.2,
          69.2,
          69.2,
          69.2,
          69.2,
          69.2,
          69.2,
          69.2,
          69.2,
          69.2,
          69.2,
          69.2,
          69.2,
          69.2,
          69.2,
          69.1,
          69.1,
          69.1,
          69.1,
          69.1,
          69.1,
          69.1,
          69.1,
          69.1,
          69.1,
          69.1,
          69.1,
          69.1,
          69.1,
          69.1,
          69.1,
          69.1,
          69.1,
          69.1,
          69.1,
          69,
          69,
          69,
          69,
          69,
          69,
          69,
          69,
          69,
          69,
          69,
          69,
          69,
          69,
          69,
          69,
          69,
          69,
          69,
          69,
          68.9,
          68.9,
          68.9,
          68.9,
          68.9,
          68.9,
          68.9,
          68.9,
          68.9,
          68.9,
          68.9,
          68.9,
          68.9,
          68.9,
          68.9,
          68.9,
          68.9,
          68.9,
          68.9,
          68.9,
          68.8,
          68.8,
          68.8,
          68.8,
          68.8,
          68.8,
          68.8,
          68.8,
          68.8,
          68.8,
          68.8,
          68.8,
          68.8,
          68.8,
          68.8,
          68.8,
          68.8,
          68.8,
          68.8,
          68.8,
          68.8,
          68.7,
          68.7,
          68.7,
          68.7,
          68.7,
          68.7,
          68.7,
          68.7,
          68.7,
          68.7,
          68.7,
          68.7,
          68.7,
          68.7,
          68.7,
          68.7,
          68.7,
          68.7,
          68.7,
          68.7,
          68.7,
          68.6,
          68.6,
          68.6,
          68.6,
          68.6,
          68.6,
          68.6,
          68.6,
          68.6,
          68.6,
          68.6,
          68.6,
          68.6,
          68.6,
          68.6,
          68.6,
          68.6,
          68.6,
          68.6,
          68.6,
          68.6,
          68.5,
          68.5,
          68.5,
          68.5,
          68.5,
          68.5,
          68.5,
          68.5,
          68.5,
          68.5,
          68.5,
          68.5,
          68.5,
          68.5,
          68.5,
          68.5,
          68.5,
          68.5,
          68.5,
          68.5,
          68.5,
          68.5,
          68.4,
          68.4,
          68.4,
          68.4,
          68.4,
          68.4,
          68.4,
          68.4,
          68.4,
          68.4,
          68.4,
          68.4,
          68.4,
          68.4,
          68.4,
          68.4,
          68.4,
          68.4,
          68.4,
          68.4,
          68.4,
          68.4,
          68.3,
          68.3,
          68.3,
          68.3,
          68.3,
          68.3,
          68.3,
          68.3,
          68.3,
          68.3,
          68.3,
          68.3,
          68.3,
          68.3,
          68.3,
          68.3,
          68.3,
          68.3,
          68.3,
          68.3,
          68.3,
          68.3,
          68.2,
          68.2,
          68.2,
          68.2,
          68.2,
          68.2,
          68.2,
          68.2,
          68.2,
          68.2,
          68.2,
          68.2,
          68.2,
          68.2,
          68.2,
          68.2,
          68.2,
          68.2,
          68.2,
          68.2,
          68.2,
          68.2,
          68.1,
          68.1,
          68.1,
          68.1,
          68.1,
          68.1,
          68.1,
          68.1,
          68.1,
          68.1,
          68.1,
          68.1,
          68.1,
          68.1,
          68.1,
          68.1,
          68.1,
          68.1,
          68.1,
          68.1,
          68.1,
          68.1,
          68.1,
          68,
          68,
          68,
          68,
          68,
          68,
          68,
          68,
          68,
          68,
          68,
          68,
          68,
          68,
          68,
          68,
          68,
          68,
          68,
          68,
          68,
          68,
          67.9,
          67.9,
          67.9,
          67.9,
          67.9,
          67.9,
          67.9,
          67.9,
          67.9,
          67.9,
          67.9,
          67.9,
          67.9,
          67.9,
          67.9,
          67.9,
          67.9,
          67.9,
          67.9,
          67.9,
          67.9,
          67.9,
          67.9,
          67.9,
          67.8,
          67.8,
          67.8,
          67.8,
          67.8,
          67.8,
          67.8,
          67.8,
          67.8,
          67.8,
          67.8,
          67.8,
          67.8,
          67.8,
          67.8,
          67.8,
          67.8,
          67.8,
          67.8,
          67.8,
          67.8,
          67.8,
          67.8,
          67.7,
          67.7,
          67.7,
          67.7,
          67.7,
          67.7,
          67.7,
          67.7,
          67.7,
          67.7,
          67.7,
          67.7,
          67.7,
          67.7,
          67.7,
          67.7,
          67.7,
          67.7,
          67.7,
          67.7,
          67.7,
          67.7,
          67.7,
          67.7,
          67.6,
          67.6,
          67.6,
          67.6,
          67.6,
          67.6,
          67.6,
          67.6,
          67.6,
          67.6,
          67.6,
          67.6,
          67.6,
          67.6,
          67.6,
          67.6,
          67.6,
          67.6,
          67.6,
          67.6,
          67.6,
          67.6,
          67.6,
          67.6,
          67.5,
          67.5,
          67.5,
          67.5,
          67.5,
          67.5,
          67.5,
          67.5,
          67.5,
          67.5,
          67.5,
          67.5,
          67.5,
          67.5,
          67.5,
          67.5,
          67.5,
          67.5,
          67.5,
          67.5,
          67.5,
          67.5,
          67.5,
          67.5,
          67.4,
          67.4,
          67.4,
          67.4,
          67.4,
          67.4,
          67.4,
          67.4,
          67.4,
          67.4,
          67.4,
          67.4,
          67.4,
          67.4,
          67.4,
          67.4,
          67.4,
          67.4,
          67.4,
          67.4,
          67.4,
          67.4,
          67.4,
          67.4,
          67.3,
          67.3,
          67.3,
          67.3,
          67.3,
          67.3,
          67.3,
          67.3,
          67.3,
          67.3,
          67.3,
          67.3,
          67.3,
          67.3,
          67.3,
          67.3,
          67.3,
          67.3,
          67.3,
          67.3,
          67.3,
          67.3,
          67.3,
          67.3,
          67.3,
          67.2,
          67.2,
          67.2,
          67.2,
          67.2,
          67.2,
          67.2,
          67.2,
          67.2,
          67.2,
          67.2,
          67.2,
          67.2,
          67.2,
          67.2,
          67.2,
          67.2,
          67.2,
          67.2,
          67.2,
          67.2,
          67.2,
          67.2,
          67.2,
          67.2,
          67.1,
          67.1,
          67.1,
          67.1,
          67.1,
          67.1,
          67.1,
          67.1,
          67.1,
          67.1,
          67.1,
          67.1,
          67.1,
          67.1,
          67.1,
          67.1,
          67.1,
          67.1,
          67.1,
          67.1,
          67.1,
          67.1,
          67.1,
          67.1,
          67.1,
          67,
          67,
          67,
          67,
          67,
          67,
          67,
          67,
          67,
          67,
          67,
          67,
          67,
          67,
          67,
          67,
          67,
          67,
          67,
          67,
          67,
          67,
          67,
          67,
          67,
          67,
          66.9,
          66.9,
          66.9,
          66.9,
          66.9,
          66.9,
          66.9,
          66.9,
          66.9,
          66.9,
          66.9,
          66.9,
          66.9,
          66.9,
          66.9,
          66.9,
          66.9,
          66.9,
          66.9,
          66.9,
          66.9,
          66.9,
          66.9,
          66.9,
          66.9,
          66.9,
          66.8,
          66.8,
          66.8,
          66.8,
          66.8,
          66.8,
          66.8,
          66.8,
          66.8,
          66.8,
          66.8,
          66.8,
          66.8,
          66.8,
          66.8,
          66.8,
          66.8,
          66.8,
          66.8,
          66.8,
          66.8,
          66.8,
          66.8,
          66.8,
          66.8,
          66.8,
          66.7,
          66.7,
          66.7,
          66.7,
          66.7,
          66.7,
          66.7,
          66.7,
          66.7,
          66.7,
          66.7,
          66.7,
          66.7,
          66.7,
          66.7,
          66.7,
          66.7,
          66.7,
          66.7,
          66.7,
          66.7,
          66.7,
          66.7,
          66.7,
          66.7,
          66.7,
          66.7,
          66.6,
          66.6,
          66.6,
          66.6,
          66.6,
          66.6,
          66.6,
          66.6,
          66.6,
          66.6,
          66.6,
          66.6,
          66.6,
          66.6,
          66.6,
          66.6,
          66.6,
          66.6,
          66.6,
          66.6,
          66.6,
          66.6,
          66.6,
          66.6,
          66.6,
          66.6,
          66.6,
          66.5,
          66.5,
          66.5,
          66.5,
          66.5,
          66.5,
          66.5,
          66.5,
          66.5,
          66.5,
          66.5,
          66.5,
          66.5,
          66.5,
          66.5,
          66.5,
          66.5,
          66.5,
          66.5,
          66.5,
          66.5,
          66.5,
          66.5,
          66.5,
          66.5,
          66.5,
          66.5,
          66.4,
          66.4,
          66.4,
          66.4,
          66.4,
          66.4,
          66.4,
          66.4,
          66.4,
          66.4,
          66.4,
          66.4,
          66.4,
          66.4,
          66.4,
          66.4,
          66.4,
          66.4,
          66.4,
          66.4,
          66.4,
          66.4,
          66.4,
          66.4,
          66.4,
          66.4,
          66.4,
          66.3,
          66.3,
          66.3,
          66.3,
          66.3,
          66.3,
          66.3,
          66.3,
          66.3,
          66.3,
          66.3,
          66.3,
          66.3,
          66.3,
          66.3,
          66.3,
          66.3,
          66.3,
          66.3,
          66.3,
          66.3,
          66.3,
          66.3,
          66.3,
          66.3,
          66.3,
          66.3,
          66.3,
          66.2,
          66.2,
          66.2,
          66.2,
          66.2,
          66.2,
          66.2,
          66.2,
          66.2,
          66.2,
          66.2,
          66.2,
          66.2,
          66.2,
          66.2,
          66.2,
          66.2,
          66.2,
          66.2,
          66.2,
          66.2,
          66.2,
          66.2,
          66.2,
          66.2,
          66.2,
          66.2,
          66.2,
          66.1,
          66.1,
          66.1,
          66.1,
          66.1,
          66.1,
          66.1,
          66.1,
          66.1,
          66.1,
          66.1,
          66.1,
          66.1,
          66.1,
          66.1,
          66.1,
          66.1,
          66.1,
          66.1,
          66.1,
          66.1,
          66.1,
          66.1,
          66.1,
          66.1,
          66.1,
          66.1,
          66.1,
          66,
          66,
          66,
          66,
          66,
          66,
          66,
          66,
          66,
          66,
          66,
          66,
          66,
          66,
          66,
          66,
          66,
          66,
          66,
          66,
          66,
          66,
          66,
          66,
          66,
          66
         ],
         "xaxis": "x",
         "yaxis": "y"
        }
       ],
       "layout": {
        "barmode": "relative",
        "legend": {
         "tracegroupgap": 0
        },
        "template": {
         "data": {
          "bar": [
           {
            "error_x": {
             "color": "#2a3f5f"
            },
            "error_y": {
             "color": "#2a3f5f"
            },
            "marker": {
             "line": {
              "color": "#E5ECF6",
              "width": 0.5
             },
             "pattern": {
              "fillmode": "overlay",
              "size": 10,
              "solidity": 0.2
             }
            },
            "type": "bar"
           }
          ],
          "barpolar": [
           {
            "marker": {
             "line": {
              "color": "#E5ECF6",
              "width": 0.5
             },
             "pattern": {
              "fillmode": "overlay",
              "size": 10,
              "solidity": 0.2
             }
            },
            "type": "barpolar"
           }
          ],
          "carpet": [
           {
            "aaxis": {
             "endlinecolor": "#2a3f5f",
             "gridcolor": "white",
             "linecolor": "white",
             "minorgridcolor": "white",
             "startlinecolor": "#2a3f5f"
            },
            "baxis": {
             "endlinecolor": "#2a3f5f",
             "gridcolor": "white",
             "linecolor": "white",
             "minorgridcolor": "white",
             "startlinecolor": "#2a3f5f"
            },
            "type": "carpet"
           }
          ],
          "choropleth": [
           {
            "colorbar": {
             "outlinewidth": 0,
             "ticks": ""
            },
            "type": "choropleth"
           }
          ],
          "contour": [
           {
            "colorbar": {
             "outlinewidth": 0,
             "ticks": ""
            },
            "colorscale": [
             [
              0,
              "#0d0887"
             ],
             [
              0.1111111111111111,
              "#46039f"
             ],
             [
              0.2222222222222222,
              "#7201a8"
             ],
             [
              0.3333333333333333,
              "#9c179e"
             ],
             [
              0.4444444444444444,
              "#bd3786"
             ],
             [
              0.5555555555555556,
              "#d8576b"
             ],
             [
              0.6666666666666666,
              "#ed7953"
             ],
             [
              0.7777777777777778,
              "#fb9f3a"
             ],
             [
              0.8888888888888888,
              "#fdca26"
             ],
             [
              1,
              "#f0f921"
             ]
            ],
            "type": "contour"
           }
          ],
          "contourcarpet": [
           {
            "colorbar": {
             "outlinewidth": 0,
             "ticks": ""
            },
            "type": "contourcarpet"
           }
          ],
          "heatmap": [
           {
            "colorbar": {
             "outlinewidth": 0,
             "ticks": ""
            },
            "colorscale": [
             [
              0,
              "#0d0887"
             ],
             [
              0.1111111111111111,
              "#46039f"
             ],
             [
              0.2222222222222222,
              "#7201a8"
             ],
             [
              0.3333333333333333,
              "#9c179e"
             ],
             [
              0.4444444444444444,
              "#bd3786"
             ],
             [
              0.5555555555555556,
              "#d8576b"
             ],
             [
              0.6666666666666666,
              "#ed7953"
             ],
             [
              0.7777777777777778,
              "#fb9f3a"
             ],
             [
              0.8888888888888888,
              "#fdca26"
             ],
             [
              1,
              "#f0f921"
             ]
            ],
            "type": "heatmap"
           }
          ],
          "heatmapgl": [
           {
            "colorbar": {
             "outlinewidth": 0,
             "ticks": ""
            },
            "colorscale": [
             [
              0,
              "#0d0887"
             ],
             [
              0.1111111111111111,
              "#46039f"
             ],
             [
              0.2222222222222222,
              "#7201a8"
             ],
             [
              0.3333333333333333,
              "#9c179e"
             ],
             [
              0.4444444444444444,
              "#bd3786"
             ],
             [
              0.5555555555555556,
              "#d8576b"
             ],
             [
              0.6666666666666666,
              "#ed7953"
             ],
             [
              0.7777777777777778,
              "#fb9f3a"
             ],
             [
              0.8888888888888888,
              "#fdca26"
             ],
             [
              1,
              "#f0f921"
             ]
            ],
            "type": "heatmapgl"
           }
          ],
          "histogram": [
           {
            "marker": {
             "pattern": {
              "fillmode": "overlay",
              "size": 10,
              "solidity": 0.2
             }
            },
            "type": "histogram"
           }
          ],
          "histogram2d": [
           {
            "colorbar": {
             "outlinewidth": 0,
             "ticks": ""
            },
            "colorscale": [
             [
              0,
              "#0d0887"
             ],
             [
              0.1111111111111111,
              "#46039f"
             ],
             [
              0.2222222222222222,
              "#7201a8"
             ],
             [
              0.3333333333333333,
              "#9c179e"
             ],
             [
              0.4444444444444444,
              "#bd3786"
             ],
             [
              0.5555555555555556,
              "#d8576b"
             ],
             [
              0.6666666666666666,
              "#ed7953"
             ],
             [
              0.7777777777777778,
              "#fb9f3a"
             ],
             [
              0.8888888888888888,
              "#fdca26"
             ],
             [
              1,
              "#f0f921"
             ]
            ],
            "type": "histogram2d"
           }
          ],
          "histogram2dcontour": [
           {
            "colorbar": {
             "outlinewidth": 0,
             "ticks": ""
            },
            "colorscale": [
             [
              0,
              "#0d0887"
             ],
             [
              0.1111111111111111,
              "#46039f"
             ],
             [
              0.2222222222222222,
              "#7201a8"
             ],
             [
              0.3333333333333333,
              "#9c179e"
             ],
             [
              0.4444444444444444,
              "#bd3786"
             ],
             [
              0.5555555555555556,
              "#d8576b"
             ],
             [
              0.6666666666666666,
              "#ed7953"
             ],
             [
              0.7777777777777778,
              "#fb9f3a"
             ],
             [
              0.8888888888888888,
              "#fdca26"
             ],
             [
              1,
              "#f0f921"
             ]
            ],
            "type": "histogram2dcontour"
           }
          ],
          "mesh3d": [
           {
            "colorbar": {
             "outlinewidth": 0,
             "ticks": ""
            },
            "type": "mesh3d"
           }
          ],
          "parcoords": [
           {
            "line": {
             "colorbar": {
              "outlinewidth": 0,
              "ticks": ""
             }
            },
            "type": "parcoords"
           }
          ],
          "pie": [
           {
            "automargin": true,
            "type": "pie"
           }
          ],
          "scatter": [
           {
            "fillpattern": {
             "fillmode": "overlay",
             "size": 10,
             "solidity": 0.2
            },
            "type": "scatter"
           }
          ],
          "scatter3d": [
           {
            "line": {
             "colorbar": {
              "outlinewidth": 0,
              "ticks": ""
             }
            },
            "marker": {
             "colorbar": {
              "outlinewidth": 0,
              "ticks": ""
             }
            },
            "type": "scatter3d"
           }
          ],
          "scattercarpet": [
           {
            "marker": {
             "colorbar": {
              "outlinewidth": 0,
              "ticks": ""
             }
            },
            "type": "scattercarpet"
           }
          ],
          "scattergeo": [
           {
            "marker": {
             "colorbar": {
              "outlinewidth": 0,
              "ticks": ""
             }
            },
            "type": "scattergeo"
           }
          ],
          "scattergl": [
           {
            "marker": {
             "colorbar": {
              "outlinewidth": 0,
              "ticks": ""
             }
            },
            "type": "scattergl"
           }
          ],
          "scattermapbox": [
           {
            "marker": {
             "colorbar": {
              "outlinewidth": 0,
              "ticks": ""
             }
            },
            "type": "scattermapbox"
           }
          ],
          "scatterpolar": [
           {
            "marker": {
             "colorbar": {
              "outlinewidth": 0,
              "ticks": ""
             }
            },
            "type": "scatterpolar"
           }
          ],
          "scatterpolargl": [
           {
            "marker": {
             "colorbar": {
              "outlinewidth": 0,
              "ticks": ""
             }
            },
            "type": "scatterpolargl"
           }
          ],
          "scatterternary": [
           {
            "marker": {
             "colorbar": {
              "outlinewidth": 0,
              "ticks": ""
             }
            },
            "type": "scatterternary"
           }
          ],
          "surface": [
           {
            "colorbar": {
             "outlinewidth": 0,
             "ticks": ""
            },
            "colorscale": [
             [
              0,
              "#0d0887"
             ],
             [
              0.1111111111111111,
              "#46039f"
             ],
             [
              0.2222222222222222,
              "#7201a8"
             ],
             [
              0.3333333333333333,
              "#9c179e"
             ],
             [
              0.4444444444444444,
              "#bd3786"
             ],
             [
              0.5555555555555556,
              "#d8576b"
             ],
             [
              0.6666666666666666,
              "#ed7953"
             ],
             [
              0.7777777777777778,
              "#fb9f3a"
             ],
             [
              0.8888888888888888,
              "#fdca26"
             ],
             [
              1,
              "#f0f921"
             ]
            ],
            "type": "surface"
           }
          ],
          "table": [
           {
            "cells": {
             "fill": {
              "color": "#EBF0F8"
             },
             "line": {
              "color": "white"
             }
            },
            "header": {
             "fill": {
              "color": "#C8D4E3"
             },
             "line": {
              "color": "white"
             }
            },
            "type": "table"
           }
          ]
         },
         "layout": {
          "annotationdefaults": {
           "arrowcolor": "#2a3f5f",
           "arrowhead": 0,
           "arrowwidth": 1
          },
          "autotypenumbers": "strict",
          "coloraxis": {
           "colorbar": {
            "outlinewidth": 0,
            "ticks": ""
           }
          },
          "colorscale": {
           "diverging": [
            [
             0,
             "#8e0152"
            ],
            [
             0.1,
             "#c51b7d"
            ],
            [
             0.2,
             "#de77ae"
            ],
            [
             0.3,
             "#f1b6da"
            ],
            [
             0.4,
             "#fde0ef"
            ],
            [
             0.5,
             "#f7f7f7"
            ],
            [
             0.6,
             "#e6f5d0"
            ],
            [
             0.7,
             "#b8e186"
            ],
            [
             0.8,
             "#7fbc41"
            ],
            [
             0.9,
             "#4d9221"
            ],
            [
             1,
             "#276419"
            ]
           ],
           "sequential": [
            [
             0,
             "#0d0887"
            ],
            [
             0.1111111111111111,
             "#46039f"
            ],
            [
             0.2222222222222222,
             "#7201a8"
            ],
            [
             0.3333333333333333,
             "#9c179e"
            ],
            [
             0.4444444444444444,
             "#bd3786"
            ],
            [
             0.5555555555555556,
             "#d8576b"
            ],
            [
             0.6666666666666666,
             "#ed7953"
            ],
            [
             0.7777777777777778,
             "#fb9f3a"
            ],
            [
             0.8888888888888888,
             "#fdca26"
            ],
            [
             1,
             "#f0f921"
            ]
           ],
           "sequentialminus": [
            [
             0,
             "#0d0887"
            ],
            [
             0.1111111111111111,
             "#46039f"
            ],
            [
             0.2222222222222222,
             "#7201a8"
            ],
            [
             0.3333333333333333,
             "#9c179e"
            ],
            [
             0.4444444444444444,
             "#bd3786"
            ],
            [
             0.5555555555555556,
             "#d8576b"
            ],
            [
             0.6666666666666666,
             "#ed7953"
            ],
            [
             0.7777777777777778,
             "#fb9f3a"
            ],
            [
             0.8888888888888888,
             "#fdca26"
            ],
            [
             1,
             "#f0f921"
            ]
           ]
          },
          "colorway": [
           "#636efa",
           "#EF553B",
           "#00cc96",
           "#ab63fa",
           "#FFA15A",
           "#19d3f3",
           "#FF6692",
           "#B6E880",
           "#FF97FF",
           "#FECB52"
          ],
          "font": {
           "color": "#2a3f5f"
          },
          "geo": {
           "bgcolor": "white",
           "lakecolor": "white",
           "landcolor": "#E5ECF6",
           "showlakes": true,
           "showland": true,
           "subunitcolor": "white"
          },
          "hoverlabel": {
           "align": "left"
          },
          "hovermode": "closest",
          "mapbox": {
           "style": "light"
          },
          "paper_bgcolor": "white",
          "plot_bgcolor": "#E5ECF6",
          "polar": {
           "angularaxis": {
            "gridcolor": "white",
            "linecolor": "white",
            "ticks": ""
           },
           "bgcolor": "#E5ECF6",
           "radialaxis": {
            "gridcolor": "white",
            "linecolor": "white",
            "ticks": ""
           }
          },
          "scene": {
           "xaxis": {
            "backgroundcolor": "#E5ECF6",
            "gridcolor": "white",
            "gridwidth": 2,
            "linecolor": "white",
            "showbackground": true,
            "ticks": "",
            "zerolinecolor": "white"
           },
           "yaxis": {
            "backgroundcolor": "#E5ECF6",
            "gridcolor": "white",
            "gridwidth": 2,
            "linecolor": "white",
            "showbackground": true,
            "ticks": "",
            "zerolinecolor": "white"
           },
           "zaxis": {
            "backgroundcolor": "#E5ECF6",
            "gridcolor": "white",
            "gridwidth": 2,
            "linecolor": "white",
            "showbackground": true,
            "ticks": "",
            "zerolinecolor": "white"
           }
          },
          "shapedefaults": {
           "line": {
            "color": "#2a3f5f"
           }
          },
          "ternary": {
           "aaxis": {
            "gridcolor": "white",
            "linecolor": "white",
            "ticks": ""
           },
           "baxis": {
            "gridcolor": "white",
            "linecolor": "white",
            "ticks": ""
           },
           "bgcolor": "#E5ECF6",
           "caxis": {
            "gridcolor": "white",
            "linecolor": "white",
            "ticks": ""
           }
          },
          "title": {
           "x": 0.05
          },
          "xaxis": {
           "automargin": true,
           "gridcolor": "white",
           "linecolor": "white",
           "ticks": "",
           "title": {
            "standoff": 15
           },
           "zerolinecolor": "white",
           "zerolinewidth": 2
          },
          "yaxis": {
           "automargin": true,
           "gridcolor": "white",
           "linecolor": "white",
           "ticks": "",
           "title": {
            "standoff": 15
           },
           "zerolinecolor": "white",
           "zerolinewidth": 2
          }
         }
        },
        "title": {
         "text": "Histogram of Score"
        },
        "xaxis": {
         "anchor": "y",
         "domain": [
          0,
          1
         ],
         "title": {
          "text": "Score"
         }
        },
        "yaxis": {
         "anchor": "x",
         "domain": [
          0,
          1
         ],
         "title": {
          "text": "Frequency"
         }
        }
       }
      }
     },
     "metadata": {},
     "output_type": "display_data"
    }
   ],
   "source": [
    "# Create a histogram of the 'Score' column in the word_rank DataFrame with 1000 bins\n",
    "fig = px.histogram(word_rank, x='Score', nbins=1000, title='Histogram of Score')\n",
    "\n",
    "# Update the layout of the plot to add axis titles\n",
    "fig.update_layout(xaxis_title='Score', yaxis_title='Frequency')\n",
    "\n",
    "# Display the plot\n",
    "fig.show()"
   ]
  },
  {
   "cell_type": "code",
   "execution_count": 390,
   "id": "e363d35c",
   "metadata": {},
   "outputs": [
    {
     "data": {
      "application/vnd.plotly.v1+json": {
       "config": {
        "plotlyServerURL": "https://plot.ly"
       },
       "data": [
        {
         "domain": {
          "x": [
           0,
           1
          ],
          "y": [
           0,
           1
          ]
         },
         "hole": 0.3,
         "hovertemplate": "label=%{label}<br>value=%{value}<extra></extra>",
         "labels": [
          "Turkey",
          "Japan",
          "Pakistan",
          "India",
          "Thailand",
          "United Kingdom",
          "Iraq",
          "United States",
          "Uzbekistan",
          "Brazil"
         ],
         "legendgroup": "",
         "name": "",
         "showlegend": true,
         "type": "pie",
         "values": [
          79,
          78,
          72,
          66,
          65,
          57,
          56,
          50,
          47,
          47
         ]
        }
       ],
       "layout": {
        "legend": {
         "tracegroupgap": 0
        },
        "template": {
         "data": {
          "bar": [
           {
            "error_x": {
             "color": "#2a3f5f"
            },
            "error_y": {
             "color": "#2a3f5f"
            },
            "marker": {
             "line": {
              "color": "#E5ECF6",
              "width": 0.5
             },
             "pattern": {
              "fillmode": "overlay",
              "size": 10,
              "solidity": 0.2
             }
            },
            "type": "bar"
           }
          ],
          "barpolar": [
           {
            "marker": {
             "line": {
              "color": "#E5ECF6",
              "width": 0.5
             },
             "pattern": {
              "fillmode": "overlay",
              "size": 10,
              "solidity": 0.2
             }
            },
            "type": "barpolar"
           }
          ],
          "carpet": [
           {
            "aaxis": {
             "endlinecolor": "#2a3f5f",
             "gridcolor": "white",
             "linecolor": "white",
             "minorgridcolor": "white",
             "startlinecolor": "#2a3f5f"
            },
            "baxis": {
             "endlinecolor": "#2a3f5f",
             "gridcolor": "white",
             "linecolor": "white",
             "minorgridcolor": "white",
             "startlinecolor": "#2a3f5f"
            },
            "type": "carpet"
           }
          ],
          "choropleth": [
           {
            "colorbar": {
             "outlinewidth": 0,
             "ticks": ""
            },
            "type": "choropleth"
           }
          ],
          "contour": [
           {
            "colorbar": {
             "outlinewidth": 0,
             "ticks": ""
            },
            "colorscale": [
             [
              0,
              "#0d0887"
             ],
             [
              0.1111111111111111,
              "#46039f"
             ],
             [
              0.2222222222222222,
              "#7201a8"
             ],
             [
              0.3333333333333333,
              "#9c179e"
             ],
             [
              0.4444444444444444,
              "#bd3786"
             ],
             [
              0.5555555555555556,
              "#d8576b"
             ],
             [
              0.6666666666666666,
              "#ed7953"
             ],
             [
              0.7777777777777778,
              "#fb9f3a"
             ],
             [
              0.8888888888888888,
              "#fdca26"
             ],
             [
              1,
              "#f0f921"
             ]
            ],
            "type": "contour"
           }
          ],
          "contourcarpet": [
           {
            "colorbar": {
             "outlinewidth": 0,
             "ticks": ""
            },
            "type": "contourcarpet"
           }
          ],
          "heatmap": [
           {
            "colorbar": {
             "outlinewidth": 0,
             "ticks": ""
            },
            "colorscale": [
             [
              0,
              "#0d0887"
             ],
             [
              0.1111111111111111,
              "#46039f"
             ],
             [
              0.2222222222222222,
              "#7201a8"
             ],
             [
              0.3333333333333333,
              "#9c179e"
             ],
             [
              0.4444444444444444,
              "#bd3786"
             ],
             [
              0.5555555555555556,
              "#d8576b"
             ],
             [
              0.6666666666666666,
              "#ed7953"
             ],
             [
              0.7777777777777778,
              "#fb9f3a"
             ],
             [
              0.8888888888888888,
              "#fdca26"
             ],
             [
              1,
              "#f0f921"
             ]
            ],
            "type": "heatmap"
           }
          ],
          "heatmapgl": [
           {
            "colorbar": {
             "outlinewidth": 0,
             "ticks": ""
            },
            "colorscale": [
             [
              0,
              "#0d0887"
             ],
             [
              0.1111111111111111,
              "#46039f"
             ],
             [
              0.2222222222222222,
              "#7201a8"
             ],
             [
              0.3333333333333333,
              "#9c179e"
             ],
             [
              0.4444444444444444,
              "#bd3786"
             ],
             [
              0.5555555555555556,
              "#d8576b"
             ],
             [
              0.6666666666666666,
              "#ed7953"
             ],
             [
              0.7777777777777778,
              "#fb9f3a"
             ],
             [
              0.8888888888888888,
              "#fdca26"
             ],
             [
              1,
              "#f0f921"
             ]
            ],
            "type": "heatmapgl"
           }
          ],
          "histogram": [
           {
            "marker": {
             "pattern": {
              "fillmode": "overlay",
              "size": 10,
              "solidity": 0.2
             }
            },
            "type": "histogram"
           }
          ],
          "histogram2d": [
           {
            "colorbar": {
             "outlinewidth": 0,
             "ticks": ""
            },
            "colorscale": [
             [
              0,
              "#0d0887"
             ],
             [
              0.1111111111111111,
              "#46039f"
             ],
             [
              0.2222222222222222,
              "#7201a8"
             ],
             [
              0.3333333333333333,
              "#9c179e"
             ],
             [
              0.4444444444444444,
              "#bd3786"
             ],
             [
              0.5555555555555556,
              "#d8576b"
             ],
             [
              0.6666666666666666,
              "#ed7953"
             ],
             [
              0.7777777777777778,
              "#fb9f3a"
             ],
             [
              0.8888888888888888,
              "#fdca26"
             ],
             [
              1,
              "#f0f921"
             ]
            ],
            "type": "histogram2d"
           }
          ],
          "histogram2dcontour": [
           {
            "colorbar": {
             "outlinewidth": 0,
             "ticks": ""
            },
            "colorscale": [
             [
              0,
              "#0d0887"
             ],
             [
              0.1111111111111111,
              "#46039f"
             ],
             [
              0.2222222222222222,
              "#7201a8"
             ],
             [
              0.3333333333333333,
              "#9c179e"
             ],
             [
              0.4444444444444444,
              "#bd3786"
             ],
             [
              0.5555555555555556,
              "#d8576b"
             ],
             [
              0.6666666666666666,
              "#ed7953"
             ],
             [
              0.7777777777777778,
              "#fb9f3a"
             ],
             [
              0.8888888888888888,
              "#fdca26"
             ],
             [
              1,
              "#f0f921"
             ]
            ],
            "type": "histogram2dcontour"
           }
          ],
          "mesh3d": [
           {
            "colorbar": {
             "outlinewidth": 0,
             "ticks": ""
            },
            "type": "mesh3d"
           }
          ],
          "parcoords": [
           {
            "line": {
             "colorbar": {
              "outlinewidth": 0,
              "ticks": ""
             }
            },
            "type": "parcoords"
           }
          ],
          "pie": [
           {
            "automargin": true,
            "type": "pie"
           }
          ],
          "scatter": [
           {
            "fillpattern": {
             "fillmode": "overlay",
             "size": 10,
             "solidity": 0.2
            },
            "type": "scatter"
           }
          ],
          "scatter3d": [
           {
            "line": {
             "colorbar": {
              "outlinewidth": 0,
              "ticks": ""
             }
            },
            "marker": {
             "colorbar": {
              "outlinewidth": 0,
              "ticks": ""
             }
            },
            "type": "scatter3d"
           }
          ],
          "scattercarpet": [
           {
            "marker": {
             "colorbar": {
              "outlinewidth": 0,
              "ticks": ""
             }
            },
            "type": "scattercarpet"
           }
          ],
          "scattergeo": [
           {
            "marker": {
             "colorbar": {
              "outlinewidth": 0,
              "ticks": ""
             }
            },
            "type": "scattergeo"
           }
          ],
          "scattergl": [
           {
            "marker": {
             "colorbar": {
              "outlinewidth": 0,
              "ticks": ""
             }
            },
            "type": "scattergl"
           }
          ],
          "scattermapbox": [
           {
            "marker": {
             "colorbar": {
              "outlinewidth": 0,
              "ticks": ""
             }
            },
            "type": "scattermapbox"
           }
          ],
          "scatterpolar": [
           {
            "marker": {
             "colorbar": {
              "outlinewidth": 0,
              "ticks": ""
             }
            },
            "type": "scatterpolar"
           }
          ],
          "scatterpolargl": [
           {
            "marker": {
             "colorbar": {
              "outlinewidth": 0,
              "ticks": ""
             }
            },
            "type": "scatterpolargl"
           }
          ],
          "scatterternary": [
           {
            "marker": {
             "colorbar": {
              "outlinewidth": 0,
              "ticks": ""
             }
            },
            "type": "scatterternary"
           }
          ],
          "surface": [
           {
            "colorbar": {
             "outlinewidth": 0,
             "ticks": ""
            },
            "colorscale": [
             [
              0,
              "#0d0887"
             ],
             [
              0.1111111111111111,
              "#46039f"
             ],
             [
              0.2222222222222222,
              "#7201a8"
             ],
             [
              0.3333333333333333,
              "#9c179e"
             ],
             [
              0.4444444444444444,
              "#bd3786"
             ],
             [
              0.5555555555555556,
              "#d8576b"
             ],
             [
              0.6666666666666666,
              "#ed7953"
             ],
             [
              0.7777777777777778,
              "#fb9f3a"
             ],
             [
              0.8888888888888888,
              "#fdca26"
             ],
             [
              1,
              "#f0f921"
             ]
            ],
            "type": "surface"
           }
          ],
          "table": [
           {
            "cells": {
             "fill": {
              "color": "#EBF0F8"
             },
             "line": {
              "color": "white"
             }
            },
            "header": {
             "fill": {
              "color": "#C8D4E3"
             },
             "line": {
              "color": "white"
             }
            },
            "type": "table"
           }
          ]
         },
         "layout": {
          "annotationdefaults": {
           "arrowcolor": "#2a3f5f",
           "arrowhead": 0,
           "arrowwidth": 1
          },
          "autotypenumbers": "strict",
          "coloraxis": {
           "colorbar": {
            "outlinewidth": 0,
            "ticks": ""
           }
          },
          "colorscale": {
           "diverging": [
            [
             0,
             "#8e0152"
            ],
            [
             0.1,
             "#c51b7d"
            ],
            [
             0.2,
             "#de77ae"
            ],
            [
             0.3,
             "#f1b6da"
            ],
            [
             0.4,
             "#fde0ef"
            ],
            [
             0.5,
             "#f7f7f7"
            ],
            [
             0.6,
             "#e6f5d0"
            ],
            [
             0.7,
             "#b8e186"
            ],
            [
             0.8,
             "#7fbc41"
            ],
            [
             0.9,
             "#4d9221"
            ],
            [
             1,
             "#276419"
            ]
           ],
           "sequential": [
            [
             0,
             "#0d0887"
            ],
            [
             0.1111111111111111,
             "#46039f"
            ],
            [
             0.2222222222222222,
             "#7201a8"
            ],
            [
             0.3333333333333333,
             "#9c179e"
            ],
            [
             0.4444444444444444,
             "#bd3786"
            ],
            [
             0.5555555555555556,
             "#d8576b"
            ],
            [
             0.6666666666666666,
             "#ed7953"
            ],
            [
             0.7777777777777778,
             "#fb9f3a"
            ],
            [
             0.8888888888888888,
             "#fdca26"
            ],
            [
             1,
             "#f0f921"
            ]
           ],
           "sequentialminus": [
            [
             0,
             "#0d0887"
            ],
            [
             0.1111111111111111,
             "#46039f"
            ],
            [
             0.2222222222222222,
             "#7201a8"
            ],
            [
             0.3333333333333333,
             "#9c179e"
            ],
            [
             0.4444444444444444,
             "#bd3786"
            ],
            [
             0.5555555555555556,
             "#d8576b"
            ],
            [
             0.6666666666666666,
             "#ed7953"
            ],
            [
             0.7777777777777778,
             "#fb9f3a"
            ],
            [
             0.8888888888888888,
             "#fdca26"
            ],
            [
             1,
             "#f0f921"
            ]
           ]
          },
          "colorway": [
           "#636efa",
           "#EF553B",
           "#00cc96",
           "#ab63fa",
           "#FFA15A",
           "#19d3f3",
           "#FF6692",
           "#B6E880",
           "#FF97FF",
           "#FECB52"
          ],
          "font": {
           "color": "#2a3f5f"
          },
          "geo": {
           "bgcolor": "white",
           "lakecolor": "white",
           "landcolor": "#E5ECF6",
           "showlakes": true,
           "showland": true,
           "subunitcolor": "white"
          },
          "hoverlabel": {
           "align": "left"
          },
          "hovermode": "closest",
          "mapbox": {
           "style": "light"
          },
          "paper_bgcolor": "white",
          "plot_bgcolor": "#E5ECF6",
          "polar": {
           "angularaxis": {
            "gridcolor": "white",
            "linecolor": "white",
            "ticks": ""
           },
           "bgcolor": "#E5ECF6",
           "radialaxis": {
            "gridcolor": "white",
            "linecolor": "white",
            "ticks": ""
           }
          },
          "scene": {
           "xaxis": {
            "backgroundcolor": "#E5ECF6",
            "gridcolor": "white",
            "gridwidth": 2,
            "linecolor": "white",
            "showbackground": true,
            "ticks": "",
            "zerolinecolor": "white"
           },
           "yaxis": {
            "backgroundcolor": "#E5ECF6",
            "gridcolor": "white",
            "gridwidth": 2,
            "linecolor": "white",
            "showbackground": true,
            "ticks": "",
            "zerolinecolor": "white"
           },
           "zaxis": {
            "backgroundcolor": "#E5ECF6",
            "gridcolor": "white",
            "gridwidth": 2,
            "linecolor": "white",
            "showbackground": true,
            "ticks": "",
            "zerolinecolor": "white"
           }
          },
          "shapedefaults": {
           "line": {
            "color": "#2a3f5f"
           }
          },
          "ternary": {
           "aaxis": {
            "gridcolor": "white",
            "linecolor": "white",
            "ticks": ""
           },
           "baxis": {
            "gridcolor": "white",
            "linecolor": "white",
            "ticks": ""
           },
           "bgcolor": "#E5ECF6",
           "caxis": {
            "gridcolor": "white",
            "linecolor": "white",
            "ticks": ""
           }
          },
          "title": {
           "x": 0.05
          },
          "xaxis": {
           "automargin": true,
           "gridcolor": "white",
           "linecolor": "white",
           "ticks": "",
           "title": {
            "standoff": 15
           },
           "zerolinecolor": "white",
           "zerolinewidth": 2
          },
          "yaxis": {
           "automargin": true,
           "gridcolor": "white",
           "linecolor": "white",
           "ticks": "",
           "title": {
            "standoff": 15
           },
           "zerolinecolor": "white",
           "zerolinewidth": 2
          }
         }
        },
        "title": {
         "text": "Top 10 Countries with Ranking Universities (Times Higher Education)"
        }
       }
      }
     },
     "metadata": {},
     "output_type": "display_data"
    }
   ],
   "source": [
    "# Get the counts of the top 10 locations\n",
    "counts_location = times_h['Location'].value_counts().nlargest(10)\n",
    "\n",
    "# Create a pie chart\n",
    "fig = px.pie(\n",
    "    values=counts_location.values,\n",
    "    names=counts_location.index,\n",
    "    title='Top 10 Countries with Ranking Universities (Times Higher Education)',\n",
    "    hole=0.3\n",
    ")\n",
    "\n",
    "# Show the plot\n",
    "fig.show()"
   ]
  },
  {
   "cell_type": "markdown",
   "id": "d66677d3-44ad-414f-9b39-f9c1995ad043",
   "metadata": {},
   "source": [
    "### 2. Univariate Non-Graphical analysis: \n",
    "\n",
    "- Where is the center of the data? (location) --> **Measures of central tendency**\n",
    "- How much does the data vary? (scale) --> **Measure of variability**\n",
    "- What is the shape of the data? (shape) --> **Measures of variation combined with an average (measure of center) gives a good picture of the distribution of the data.**"
   ]
  },
  {
   "cell_type": "code",
   "execution_count": null,
   "id": "f1058d84-e61e-4f5b-b66a-29931e77821b",
   "metadata": {},
   "outputs": [],
   "source": []
  },
  {
   "cell_type": "markdown",
   "id": "f09bb809-0edd-432b-bf23-abd0840b3e16",
   "metadata": {},
   "source": [
    "## 4. Bivariate/Multivariate Analysis:\n",
    "\n",
    "Here, you look at the relationships between two or more variables. This can involve looking for correlations, patterns, and trends that suggest a relationship or an association.\n",
    "\n",
    "We can perform bi-variate analysis for any combination of categorical and numerical variables. The combination can be:\n",
    "| bi-variate variables   | Plot type |\n",
    "| ------------- | ------------- |\n",
    "| Categorical & Categorical| Stacked Bar Chart |\n",
    "| Categorical & numerical  | scatter plot, histogram, box plot|\n",
    "| numerical  & numerical  | Scatter plot, line chart| \n",
    "\n",
    "\n",
    "Multivariate Analysis:\n",
    "- Heat map\n",
    "- Bar Chart\n",
    "- Scatter Chart\n",
    "- Line Chart"
   ]
  },
  {
   "cell_type": "markdown",
   "id": "838f2864-ce9e-4f15-99c8-052d053154a7",
   "metadata": {},
   "source": [
    "**Categorical & Categorical --> (Stacked Column Chart)**"
   ]
  },
  {
   "cell_type": "code",
   "execution_count": null,
   "id": "73f9f2ac-8477-49ea-9c68-4fe44d4395b6",
   "metadata": {},
   "outputs": [],
   "source": []
  },
  {
   "cell_type": "markdown",
   "id": "730e088f-fe13-40da-8fbb-686f5135fa4d",
   "metadata": {},
   "source": [
    "**Categorical & numerical --> (scatter plot, histogram, box plot)**"
   ]
  },
  {
   "cell_type": "code",
   "execution_count": 270,
   "id": "3590e345-2051-4215-91ac-07d196b510ef",
   "metadata": {},
   "outputs": [
    {
     "name": "stdout",
     "output_type": "stream",
     "text": [
      "                    World Rank  National Rank  Educational Rank  \\\n",
      "World Rank            1.000000       0.352692         -0.345865   \n",
      "National Rank         0.352692       1.000000         -0.098096   \n",
      "Educational Rank     -0.345865      -0.098096          1.000000   \n",
      "Employability Rank   -0.165745       0.021164          0.091749   \n",
      "Faculty Rank         -0.343287      -0.120109          0.353656   \n",
      "Research Rank         0.896971       0.274901         -0.314591   \n",
      "Score                -0.916493      -0.335179          0.333684   \n",
      "\n",
      "                    Employability Rank  Faculty Rank  Research Rank     Score  \n",
      "World Rank                   -0.165745     -0.343287       0.896971 -0.916493  \n",
      "National Rank                 0.021164     -0.120109       0.274901 -0.335179  \n",
      "Educational Rank              0.091749      0.353656      -0.314591  0.333684  \n",
      "Employability Rank            1.000000      0.031837      -0.145060  0.091751  \n",
      "Faculty Rank                  0.031837      1.000000      -0.313032  0.369200  \n",
      "Research Rank                -0.145060     -0.313032       1.000000 -0.827855  \n",
      "Score                         0.091751      0.369200      -0.827855  1.000000  \n"
     ]
    },
    {
     "data": {
      "image/png": "[encoded data removed]",
      "text/plain": [
       "<Figure size 1000x800 with 2 Axes>"
      ]
     },
     "metadata": {},
     "output_type": "display_data"
    }
   ],
   "source": [
    "#check World rank dataset\n",
    "#Select relevant columns for the correlation\n",
    "columns_to_analyze = ['World Rank', 'National Rank', 'Educational Rank', \n",
    "                      'Employability Rank', 'Faculty Rank', 'Research Rank','Score']\n",
    "df_selected = word_rank[columns_to_analyze].dropna()\n",
    "\n",
    "# Calculate correlation between factors and the overall ranking\n",
    "correlation_matrix = df_selected.corr()\n",
    "\n",
    "print(correlation_matrix)\n",
    "plt.figure(figsize=(10, 8))\n",
    "sns.heatmap(correlation_matrix, annot=True, cmap='coolwarm', linewidths=0.5)\n",
    "plt.title('Correlation Matrix of World Rank and Other Factors')\n",
    "plt.show()"
   ]
  },
  {
   "cell_type": "markdown",
   "id": "2ba21cfb",
   "metadata": {},
   "source": [
    "#### Insights:\n",
    "##### Research Rank has the strongest impact on World Rank. The very high correlation (0.897) indicates that research quality is a dominant factor in determining a university’s overall ranking.\n",
    "\n",
    "##### Score and World Rank (-0.916): This strong negative correlation indicates that as the score increases, the world rank tends to decrease.\n",
    "\n",
    "##### Educational Rank and Faculty Rank also influence the World Rank, but their impact is moderate. These factors likely affect a university’s reputation, but not as much as research.\n",
    "\n",
    "##### Employability Rank has the weakest relationship with World Rank. While employability is important, it seems to play a smaller role in global university rankings compared to academic factors like research.\n",
    "\n",
    "##### National Rank has a moderate positive correlation with World Rank, meaning that a university’s performance at the national level influences its global position, but not as much as research or education."
   ]
  },
  {
   "cell_type": "code",
   "execution_count": 375,
   "id": "09866086",
   "metadata": {},
   "outputs": [
    {
     "name": "stdout",
     "output_type": "stream",
     "text": [
      "                              Rank  sdg-score-multi__value  \\\n",
      "Rank                      1.000000               -0.777622   \n",
      "sdg-score-multi__value   -0.777622                1.000000   \n",
      "sdg-score-multi__value 2 -0.699135                0.612119   \n",
      "sdg-score-multi__value 3 -0.637788                0.538907   \n",
      "sdg-score-multi__value 4 -0.811228                0.639149   \n",
      "scores                   -0.991224                0.773546   \n",
      "\n",
      "                          sdg-score-multi__value 2  sdg-score-multi__value 3  \\\n",
      "Rank                                     -0.699135                 -0.637788   \n",
      "sdg-score-multi__value                    0.612119                  0.538907   \n",
      "sdg-score-multi__value 2                  1.000000                  0.460883   \n",
      "sdg-score-multi__value 3                  0.460883                  1.000000   \n",
      "sdg-score-multi__value 4                  0.578157                  0.540560   \n",
      "scores                                    0.698532                  0.640377   \n",
      "\n",
      "                          sdg-score-multi__value 4    scores  \n",
      "Rank                                     -0.811228 -0.991224  \n",
      "sdg-score-multi__value                    0.639149  0.773546  \n",
      "sdg-score-multi__value 2                  0.578157  0.698532  \n",
      "sdg-score-multi__value 3                  0.540560  0.640377  \n",
      "sdg-score-multi__value 4                  1.000000  0.811196  \n",
      "scores                                    0.811196  1.000000  \n"
     ]
    },
    {
     "data": {
      "image/png": "[encoded data removed]",
      "text/plain": [
       "<Figure size 1000x800 with 2 Axes>"
      ]
     },
     "metadata": {},
     "output_type": "display_data"
    }
   ],
   "source": [
    "# Check the Times higher education \n",
    "# Select relevant columns for the correlation\n",
    "columns_to_analyze = ['Rank','sdg-score-multi__value',\n",
    "       'sdg-score-multi__value 2', \n",
    "       'sdg-score-multi__value 3', 'sdg-score-multi__value 4','scores']\n",
    "df_selected = times_h_test[columns_to_analyze].dropna()\n",
    "\n",
    "# Calculate correlation between factors and the overall ranking\n",
    "correlation_matrix = df_selected.corr()\n",
    "\n",
    "print(correlation_matrix)\n",
    "\n",
    "plt.figure(figsize=(10, 8))\n",
    "sns.heatmap(correlation_matrix, annot=True, cmap='coolwarm', linewidths=0.5)\n",
    "plt.title('Correlation Matrix of World Rank and Other Factors')\n",
    "plt.show()"
   ]
  },
  {
   "cell_type": "markdown",
   "id": "62f9f4c6",
   "metadata": {},
   "source": [
    "##### Matrix shows the strongest negative correlation between Rank and SDG Score Value 4. The correlation is quite high, suggesting that this specific SDG metric has a major influence on the overall university rank.\n",
    "\n",
    "##### There is a strong negative correlation between the Rank and SDG Score Value. This means that as the SDG score improves (higher value), the Rank tends to improve (lower rank, closer to the top).\n",
    "\n",
    "##### There is also a strong negative correlation between the Rank and SDG Score Value 2, indicating that as SDG performance in the second metric improves, the overall rank also tends to improve.\n",
    "\n",
    "##### Similarly, there is a moderate negative correlation between Rank and SDG Score Value 3. The trend continues here, showing that improvements in sustainability metrics correlate with better rankings.\n",
    "\n",
    "##### insights: This SDG value 4  dimension (likely an important factor) is strongly linked to rank improvement. Universities excelling in this specific area of SDG performance tend to have much higher rankings."
   ]
  },
  {
   "cell_type": "markdown",
   "id": "20aed48d-b78e-46da-963f-e7f15e2f4dc7",
   "metadata": {},
   "source": [
    "**numerical & numerical --> (Scatter plot, line chart)**"
   ]
  },
  {
   "cell_type": "markdown",
   "id": "41023177-01cb-4f39-a750-12be71b13bda",
   "metadata": {},
   "source": [
    "#### Bounes :How do the different ranking criteria (Rank, Ranking, and World Rank) correlate with each other, and what does this reveal about their relationships in evaluating university performance?"
   ]
  },
  {
   "cell_type": "code",
   "execution_count": 284,
   "id": "1169d470",
   "metadata": {},
   "outputs": [],
   "source": [
    "# Standardize university names across all datasets\n",
    "times_h_test['University'] = times_h_test['University Name '].str.strip().str.lower()\n",
    "shanghai_rank['University'] = shanghai_rank['University Name'].str.strip().str.lower()\n",
    "word_rank['University'] = word_rank['University Names'].str.strip().str.lower()"
   ]
  },
  {
   "cell_type": "code",
   "execution_count": 285,
   "id": "c6f096c6",
   "metadata": {},
   "outputs": [
    {
     "name": "stdout",
     "output_type": "stream",
     "text": [
      "Common universities across all datasets: 249\n",
      "Universities only in Times Higher Education: 1063\n",
      "Universities only in Shanghai Ranking: 209\n",
      "Universities only in World Rank: 952\n"
     ]
    }
   ],
   "source": [
    "# Convert university names to sets (we used sets in the comparison because sets are efficient when it comes to checking for common or unique elements across multiple datasets. )for comparison\n",
    "set_times_higher = set(times_h_test['University'])\n",
    "set_shanghai = set(shanghai_rank['University'])\n",
    "set_world_rank = set(word_rank['University'])\n",
    "\n",
    "# Universities common across all datasets\n",
    "common_universities = set_times_higher & set_shanghai & set_world_rank\n",
    "\n",
    "# Universities present in Times Higher Education but missing in Shanghai or World Rank\n",
    "only_in_times_higher = set_times_higher - (set_shanghai | set_world_rank)\n",
    "\n",
    "# Universities present in Shanghai but missing in Times Higher Education or World Rank\n",
    "only_in_shanghai = set_shanghai - (set_times_higher | set_world_rank)\n",
    "\n",
    "# Universities present in World Rank but missing in the other two datasets\n",
    "only_in_world_rank = set_world_rank - (set_times_higher | set_shanghai)\n",
    "\n",
    "# Display results\n",
    "print(\"Common universities across all datasets:\", len(common_universities))\n",
    "print(\"Universities only in Times Higher Education:\", len(only_in_times_higher))\n",
    "print(\"Universities only in Shanghai Ranking:\", len(only_in_shanghai))\n",
    "print(\"Universities only in World Rank:\", len(only_in_world_rank))\n"
   ]
  },
  {
   "cell_type": "code",
   "execution_count": 286,
   "id": "ba268f13",
   "metadata": {},
   "outputs": [],
   "source": [
    "# Convert the result to DF for easier handling\n",
    "common_universities_df = pd.DataFrame(list(common_universities), columns=['University'])\n",
    "only_in_times_higher_df = pd.DataFrame(list(only_in_times_higher), columns=['University'])\n",
    "only_in_shanghai_df = pd.DataFrame(list(only_in_shanghai), columns=['University'])\n",
    "only_in_world_rank_df = pd.DataFrame(list(only_in_world_rank), columns=['University'])\n",
    "\n",
    "# Save the reports as CSV\n",
    "common_universities_df.to_csv('common_universities.csv', index=False)\n",
    "only_in_times_higher_df.to_csv('only_in_times_higher.csv', index=False)\n",
    "only_in_shanghai_df.to_csv('only_in_shanghai.csv', index=False)\n",
    "only_in_world_rank_df.to_csv('only_in_world_rank.csv', index=False)"
   ]
  },
  {
   "cell_type": "code",
   "execution_count": 287,
   "id": "e010998e",
   "metadata": {},
   "outputs": [
    {
     "data": {
      "text/plain": [
       "Index(['Rank', 'University Name ', 'Location', 'sdg-score-multi__number',\n",
       "       'sdg-score-multi__value', 'sdg-score-multi__number 2',\n",
       "       'sdg-score-multi__value 2', 'sdg-score-multi__number 3',\n",
       "       'sdg-score-multi__value 3', 'sdg-score-multi__value 4', 'scores',\n",
       "       'University', 'Ranking', 'University Name', 'National/Regional Rank',\n",
       "       'Total Score', 'World Rank', 'University Names', 'Location ',\n",
       "       'National Rank', 'Educational Rank', 'Employability Rank',\n",
       "       'Faculty Rank', 'Research Rank', 'Score', 'World Rank Percentage'],\n",
       "      dtype='object')"
      ]
     },
     "execution_count": 287,
     "metadata": {},
     "output_type": "execute_result"
    }
   ],
   "source": [
    "# Merge datasets on university names\n",
    "merged_df = pd.merge(times_h_test, shanghai_rank, on='University', suffixes=('_Times', '_Shanghai'))\n",
    "merged_df = pd.merge(merged_df, word_rank, on='University', suffixes=('', '_World'))\n",
    "merged_df.columns"
   ]
  },
  {
   "cell_type": "code",
   "execution_count": 288,
   "id": "02200721",
   "metadata": {},
   "outputs": [],
   "source": [
    "# Remove non-numeric characters (e.g., '=', ',', etc.)\n",
    "merged_df['Rank'] = merged_df['Rank'].astype(str).str.replace(r'\\D', '', regex=True)\n",
    "\n",
    "# Convert the cleaned column to integer\n",
    "merged_df['Rank'] = pd.to_numeric(merged_df['Rank'], errors='coerce').fillna(-1).astype(int)\n",
    "\n",
    "merged_df['Ranking'] = merged_df['Ranking'].astype(str).str.replace(r'\\D', '', regex=True)\n",
    "merged_df['Ranking'] = pd.to_numeric(merged_df['Ranking'], errors='coerce').fillna(-1).astype(int)\n",
    "\n",
    "merged_df['World Rank'] = pd.to_numeric(merged_df['World Rank'].astype(str).apply(lambda x: x.split('T', 1)[0]))\n",
    "\n",
    "merged_df\n",
    "merged_df.to_csv('merged.csv', index=False)"
   ]
  },
  {
   "cell_type": "code",
   "execution_count": 379,
   "id": "4bfef067",
   "metadata": {},
   "outputs": [
    {
     "name": "stdout",
     "output_type": "stream",
     "text": [
      "0         1\n",
      "1         5\n",
      "2         7\n",
      "3         7\n",
      "4         9\n",
      "       ... \n",
      "244    1001\n",
      "245    1001\n",
      "246    1001\n",
      "247    1001\n",
      "248    1001\n",
      "Name: Rank, Length: 249, dtype: int32\n",
      "                Rank   Ranking  World Rank\n",
      "Rank        1.000000  0.414025    0.392431\n",
      "Ranking     0.414025  1.000000    0.819443\n",
      "World Rank  0.392431  0.819443    1.000000\n"
     ]
    },
    {
     "data": {
      "application/vnd.plotly.v1+json": {
       "config": {
        "plotlyServerURL": "https://plot.ly"
       },
       "data": [
        {
         "coloraxis": "coloraxis",
         "hovertemplate": "x: %{x}<br>y: %{y}<br>color: %{z}<extra></extra>",
         "name": "0",
         "texttemplate": "%{z}",
         "type": "heatmap",
         "x": [
          "Rank",
          "Ranking",
          "World Rank"
         ],
         "xaxis": "x",
         "y": [
          "Rank",
          "Ranking",
          "World Rank"
         ],
         "yaxis": "y",
         "z": [
          [
           1,
           0.41402532808836123,
           0.3924308226824749
          ],
          [
           0.41402532808836123,
           1,
           0.8194429838492491
          ],
          [
           0.3924308226824749,
           0.8194429838492491,
           1
          ]
         ]
        }
       ],
       "layout": {
        "coloraxis": {
         "colorscale": [
          [
           0,
           "rgb(254, 252, 205)"
          ],
          [
           0.09090909090909091,
           "rgb(239, 225, 156)"
          ],
          [
           0.18181818181818182,
           "rgb(221, 201, 106)"
          ],
          [
           0.2727272727272727,
           "rgb(194, 182, 59)"
          ],
          [
           0.36363636363636365,
           "rgb(157, 167, 21)"
          ],
          [
           0.45454545454545453,
           "rgb(116, 153, 5)"
          ],
          [
           0.5454545454545454,
           "rgb(75, 138, 20)"
          ],
          [
           0.6363636363636364,
           "rgb(35, 121, 36)"
          ],
          [
           0.7272727272727273,
           "rgb(11, 100, 44)"
          ],
          [
           0.8181818181818182,
           "rgb(18, 78, 43)"
          ],
          [
           0.9090909090909091,
           "rgb(25, 56, 34)"
          ],
          [
           1,
           "rgb(23, 35, 18)"
          ]
         ]
        },
        "template": {
         "data": {
          "bar": [
           {
            "error_x": {
             "color": "#2a3f5f"
            },
            "error_y": {
             "color": "#2a3f5f"
            },
            "marker": {
             "line": {
              "color": "#E5ECF6",
              "width": 0.5
             },
             "pattern": {
              "fillmode": "overlay",
              "size": 10,
              "solidity": 0.2
             }
            },
            "type": "bar"
           }
          ],
          "barpolar": [
           {
            "marker": {
             "line": {
              "color": "#E5ECF6",
              "width": 0.5
             },
             "pattern": {
              "fillmode": "overlay",
              "size": 10,
              "solidity": 0.2
             }
            },
            "type": "barpolar"
           }
          ],
          "carpet": [
           {
            "aaxis": {
             "endlinecolor": "#2a3f5f",
             "gridcolor": "white",
             "linecolor": "white",
             "minorgridcolor": "white",
             "startlinecolor": "#2a3f5f"
            },
            "baxis": {
             "endlinecolor": "#2a3f5f",
             "gridcolor": "white",
             "linecolor": "white",
             "minorgridcolor": "white",
             "startlinecolor": "#2a3f5f"
            },
            "type": "carpet"
           }
          ],
          "choropleth": [
           {
            "colorbar": {
             "outlinewidth": 0,
             "ticks": ""
            },
            "type": "choropleth"
           }
          ],
          "contour": [
           {
            "colorbar": {
             "outlinewidth": 0,
             "ticks": ""
            },
            "colorscale": [
             [
              0,
              "#0d0887"
             ],
             [
              0.1111111111111111,
              "#46039f"
             ],
             [
              0.2222222222222222,
              "#7201a8"
             ],
             [
              0.3333333333333333,
              "#9c179e"
             ],
             [
              0.4444444444444444,
              "#bd3786"
             ],
             [
              0.5555555555555556,
              "#d8576b"
             ],
             [
              0.6666666666666666,
              "#ed7953"
             ],
             [
              0.7777777777777778,
              "#fb9f3a"
             ],
             [
              0.8888888888888888,
              "#fdca26"
             ],
             [
              1,
              "#f0f921"
             ]
            ],
            "type": "contour"
           }
          ],
          "contourcarpet": [
           {
            "colorbar": {
             "outlinewidth": 0,
             "ticks": ""
            },
            "type": "contourcarpet"
           }
          ],
          "heatmap": [
           {
            "colorbar": {
             "outlinewidth": 0,
             "ticks": ""
            },
            "colorscale": [
             [
              0,
              "#0d0887"
             ],
             [
              0.1111111111111111,
              "#46039f"
             ],
             [
              0.2222222222222222,
              "#7201a8"
             ],
             [
              0.3333333333333333,
              "#9c179e"
             ],
             [
              0.4444444444444444,
              "#bd3786"
             ],
             [
              0.5555555555555556,
              "#d8576b"
             ],
             [
              0.6666666666666666,
              "#ed7953"
             ],
             [
              0.7777777777777778,
              "#fb9f3a"
             ],
             [
              0.8888888888888888,
              "#fdca26"
             ],
             [
              1,
              "#f0f921"
             ]
            ],
            "type": "heatmap"
           }
          ],
          "heatmapgl": [
           {
            "colorbar": {
             "outlinewidth": 0,
             "ticks": ""
            },
            "colorscale": [
             [
              0,
              "#0d0887"
             ],
             [
              0.1111111111111111,
              "#46039f"
             ],
             [
              0.2222222222222222,
              "#7201a8"
             ],
             [
              0.3333333333333333,
              "#9c179e"
             ],
             [
              0.4444444444444444,
              "#bd3786"
             ],
             [
              0.5555555555555556,
              "#d8576b"
             ],
             [
              0.6666666666666666,
              "#ed7953"
             ],
             [
              0.7777777777777778,
              "#fb9f3a"
             ],
             [
              0.8888888888888888,
              "#fdca26"
             ],
             [
              1,
              "#f0f921"
             ]
            ],
            "type": "heatmapgl"
           }
          ],
          "histogram": [
           {
            "marker": {
             "pattern": {
              "fillmode": "overlay",
              "size": 10,
              "solidity": 0.2
             }
            },
            "type": "histogram"
           }
          ],
          "histogram2d": [
           {
            "colorbar": {
             "outlinewidth": 0,
             "ticks": ""
            },
            "colorscale": [
             [
              0,
              "#0d0887"
             ],
             [
              0.1111111111111111,
              "#46039f"
             ],
             [
              0.2222222222222222,
              "#7201a8"
             ],
             [
              0.3333333333333333,
              "#9c179e"
             ],
             [
              0.4444444444444444,
              "#bd3786"
             ],
             [
              0.5555555555555556,
              "#d8576b"
             ],
             [
              0.6666666666666666,
              "#ed7953"
             ],
             [
              0.7777777777777778,
              "#fb9f3a"
             ],
             [
              0.8888888888888888,
              "#fdca26"
             ],
             [
              1,
              "#f0f921"
             ]
            ],
            "type": "histogram2d"
           }
          ],
          "histogram2dcontour": [
           {
            "colorbar": {
             "outlinewidth": 0,
             "ticks": ""
            },
            "colorscale": [
             [
              0,
              "#0d0887"
             ],
             [
              0.1111111111111111,
              "#46039f"
             ],
             [
              0.2222222222222222,
              "#7201a8"
             ],
             [
              0.3333333333333333,
              "#9c179e"
             ],
             [
              0.4444444444444444,
              "#bd3786"
             ],
             [
              0.5555555555555556,
              "#d8576b"
             ],
             [
              0.6666666666666666,
              "#ed7953"
             ],
             [
              0.7777777777777778,
              "#fb9f3a"
             ],
             [
              0.8888888888888888,
              "#fdca26"
             ],
             [
              1,
              "#f0f921"
             ]
            ],
            "type": "histogram2dcontour"
           }
          ],
          "mesh3d": [
           {
            "colorbar": {
             "outlinewidth": 0,
             "ticks": ""
            },
            "type": "mesh3d"
           }
          ],
          "parcoords": [
           {
            "line": {
             "colorbar": {
              "outlinewidth": 0,
              "ticks": ""
             }
            },
            "type": "parcoords"
           }
          ],
          "pie": [
           {
            "automargin": true,
            "type": "pie"
           }
          ],
          "scatter": [
           {
            "fillpattern": {
             "fillmode": "overlay",
             "size": 10,
             "solidity": 0.2
            },
            "type": "scatter"
           }
          ],
          "scatter3d": [
           {
            "line": {
             "colorbar": {
              "outlinewidth": 0,
              "ticks": ""
             }
            },
            "marker": {
             "colorbar": {
              "outlinewidth": 0,
              "ticks": ""
             }
            },
            "type": "scatter3d"
           }
          ],
          "scattercarpet": [
           {
            "marker": {
             "colorbar": {
              "outlinewidth": 0,
              "ticks": ""
             }
            },
            "type": "scattercarpet"
           }
          ],
          "scattergeo": [
           {
            "marker": {
             "colorbar": {
              "outlinewidth": 0,
              "ticks": ""
             }
            },
            "type": "scattergeo"
           }
          ],
          "scattergl": [
           {
            "marker": {
             "colorbar": {
              "outlinewidth": 0,
              "ticks": ""
             }
            },
            "type": "scattergl"
           }
          ],
          "scattermapbox": [
           {
            "marker": {
             "colorbar": {
              "outlinewidth": 0,
              "ticks": ""
             }
            },
            "type": "scattermapbox"
           }
          ],
          "scatterpolar": [
           {
            "marker": {
             "colorbar": {
              "outlinewidth": 0,
              "ticks": ""
             }
            },
            "type": "scatterpolar"
           }
          ],
          "scatterpolargl": [
           {
            "marker": {
             "colorbar": {
              "outlinewidth": 0,
              "ticks": ""
             }
            },
            "type": "scatterpolargl"
           }
          ],
          "scatterternary": [
           {
            "marker": {
             "colorbar": {
              "outlinewidth": 0,
              "ticks": ""
             }
            },
            "type": "scatterternary"
           }
          ],
          "surface": [
           {
            "colorbar": {
             "outlinewidth": 0,
             "ticks": ""
            },
            "colorscale": [
             [
              0,
              "#0d0887"
             ],
             [
              0.1111111111111111,
              "#46039f"
             ],
             [
              0.2222222222222222,
              "#7201a8"
             ],
             [
              0.3333333333333333,
              "#9c179e"
             ],
             [
              0.4444444444444444,
              "#bd3786"
             ],
             [
              0.5555555555555556,
              "#d8576b"
             ],
             [
              0.6666666666666666,
              "#ed7953"
             ],
             [
              0.7777777777777778,
              "#fb9f3a"
             ],
             [
              0.8888888888888888,
              "#fdca26"
             ],
             [
              1,
              "#f0f921"
             ]
            ],
            "type": "surface"
           }
          ],
          "table": [
           {
            "cells": {
             "fill": {
              "color": "#EBF0F8"
             },
             "line": {
              "color": "white"
             }
            },
            "header": {
             "fill": {
              "color": "#C8D4E3"
             },
             "line": {
              "color": "white"
             }
            },
            "type": "table"
           }
          ]
         },
         "layout": {
          "annotationdefaults": {
           "arrowcolor": "#2a3f5f",
           "arrowhead": 0,
           "arrowwidth": 1
          },
          "autotypenumbers": "strict",
          "coloraxis": {
           "colorbar": {
            "outlinewidth": 0,
            "ticks": ""
           }
          },
          "colorscale": {
           "diverging": [
            [
             0,
             "#8e0152"
            ],
            [
             0.1,
             "#c51b7d"
            ],
            [
             0.2,
             "#de77ae"
            ],
            [
             0.3,
             "#f1b6da"
            ],
            [
             0.4,
             "#fde0ef"
            ],
            [
             0.5,
             "#f7f7f7"
            ],
            [
             0.6,
             "#e6f5d0"
            ],
            [
             0.7,
             "#b8e186"
            ],
            [
             0.8,
             "#7fbc41"
            ],
            [
             0.9,
             "#4d9221"
            ],
            [
             1,
             "#276419"
            ]
           ],
           "sequential": [
            [
             0,
             "#0d0887"
            ],
            [
             0.1111111111111111,
             "#46039f"
            ],
            [
             0.2222222222222222,
             "#7201a8"
            ],
            [
             0.3333333333333333,
             "#9c179e"
            ],
            [
             0.4444444444444444,
             "#bd3786"
            ],
            [
             0.5555555555555556,
             "#d8576b"
            ],
            [
             0.6666666666666666,
             "#ed7953"
            ],
            [
             0.7777777777777778,
             "#fb9f3a"
            ],
            [
             0.8888888888888888,
             "#fdca26"
            ],
            [
             1,
             "#f0f921"
            ]
           ],
           "sequentialminus": [
            [
             0,
             "#0d0887"
            ],
            [
             0.1111111111111111,
             "#46039f"
            ],
            [
             0.2222222222222222,
             "#7201a8"
            ],
            [
             0.3333333333333333,
             "#9c179e"
            ],
            [
             0.4444444444444444,
             "#bd3786"
            ],
            [
             0.5555555555555556,
             "#d8576b"
            ],
            [
             0.6666666666666666,
             "#ed7953"
            ],
            [
             0.7777777777777778,
             "#fb9f3a"
            ],
            [
             0.8888888888888888,
             "#fdca26"
            ],
            [
             1,
             "#f0f921"
            ]
           ]
          },
          "colorway": [
           "#636efa",
           "#EF553B",
           "#00cc96",
           "#ab63fa",
           "#FFA15A",
           "#19d3f3",
           "#FF6692",
           "#B6E880",
           "#FF97FF",
           "#FECB52"
          ],
          "font": {
           "color": "#2a3f5f"
          },
          "geo": {
           "bgcolor": "white",
           "lakecolor": "white",
           "landcolor": "#E5ECF6",
           "showlakes": true,
           "showland": true,
           "subunitcolor": "white"
          },
          "hoverlabel": {
           "align": "left"
          },
          "hovermode": "closest",
          "mapbox": {
           "style": "light"
          },
          "paper_bgcolor": "white",
          "plot_bgcolor": "#E5ECF6",
          "polar": {
           "angularaxis": {
            "gridcolor": "white",
            "linecolor": "white",
            "ticks": ""
           },
           "bgcolor": "#E5ECF6",
           "radialaxis": {
            "gridcolor": "white",
            "linecolor": "white",
            "ticks": ""
           }
          },
          "scene": {
           "xaxis": {
            "backgroundcolor": "#E5ECF6",
            "gridcolor": "white",
            "gridwidth": 2,
            "linecolor": "white",
            "showbackground": true,
            "ticks": "",
            "zerolinecolor": "white"
           },
           "yaxis": {
            "backgroundcolor": "#E5ECF6",
            "gridcolor": "white",
            "gridwidth": 2,
            "linecolor": "white",
            "showbackground": true,
            "ticks": "",
            "zerolinecolor": "white"
           },
           "zaxis": {
            "backgroundcolor": "#E5ECF6",
            "gridcolor": "white",
            "gridwidth": 2,
            "linecolor": "white",
            "showbackground": true,
            "ticks": "",
            "zerolinecolor": "white"
           }
          },
          "shapedefaults": {
           "line": {
            "color": "#2a3f5f"
           }
          },
          "ternary": {
           "aaxis": {
            "gridcolor": "white",
            "linecolor": "white",
            "ticks": ""
           },
           "baxis": {
            "gridcolor": "white",
            "linecolor": "white",
            "ticks": ""
           },
           "bgcolor": "#E5ECF6",
           "caxis": {
            "gridcolor": "white",
            "linecolor": "white",
            "ticks": ""
           }
          },
          "title": {
           "x": 0.05
          },
          "xaxis": {
           "automargin": true,
           "gridcolor": "white",
           "linecolor": "white",
           "ticks": "",
           "title": {
            "standoff": 15
           },
           "zerolinecolor": "white",
           "zerolinewidth": 2
          },
          "yaxis": {
           "automargin": true,
           "gridcolor": "white",
           "linecolor": "white",
           "ticks": "",
           "title": {
            "standoff": 15
           },
           "zerolinecolor": "white",
           "zerolinewidth": 2
          }
         }
        },
        "title": {
         "text": "Correlation Matrix of Rankings"
        },
        "xaxis": {
         "anchor": "y",
         "domain": [
          0,
          1
         ]
        },
        "yaxis": {
         "anchor": "x",
         "autorange": "reversed",
         "domain": [
          0,
          1
         ]
        }
       }
      }
     },
     "metadata": {},
     "output_type": "display_data"
    }
   ],
   "source": [
    "# Print to verify\n",
    "print(merged_df['Rank'])\n",
    "\n",
    "# Correlation between rankings\n",
    "correlation = merged_df[['Rank', 'Ranking', 'World Rank']].corr()\n",
    "print(correlation)\n",
    "\n",
    "# Plot the correlation matrix using Plotly with a different colorscale\n",
    "fig = px.imshow(correlation, text_auto=True, aspect=\"auto\", title=\"Correlation Matrix of Rankings\", color_continuous_scale='speed')\n",
    "fig.show()"
   ]
  },
  {
   "cell_type": "markdown",
   "id": "4dbb8365",
   "metadata": {},
   "source": [
    "#### The correlation between the pairs of rankings. indicate that :\n",
    "\n",
    "###### Diagonal values (1.000000): represent the self-correlation of each ranking system, which is always 1.\n",
    "\n",
    "###### Off-diagonal values: These indicate the correlation between the ranking systems:\n",
    "The correlation between Times Higher education Ranking and shanghai Ranking is approximately 0.159, suggesting a weak positive correlation.\n",
    "The correlation between Times Higher education Ranking and World Rank is approximately 0.152, also indicating a weak positive correlation.\n",
    "The correlation between shanghai Ranking and World Rank is about 0.439, which suggests a moderate positive correlation.\n",
    "Overall, it seems that the shanghai Ranking system has a somewhat stronger relationship with the World Rank than Times Higher education Ranking.\n",
    "####  Shanghai and World Rank are the most closely related. This may suggest that these two metrics assess similar aspects of university performance, while Times Higher education could reflect different criteria or metrics"
   ]
  },
  {
   "cell_type": "markdown",
   "id": "efb43b30-b1f0-48a4-a19c-195810cc8a0f",
   "metadata": {},
   "source": [
    "We could also use a correlation matrix to get more specific information about the relationship between these two variables."
   ]
  },
  {
   "cell_type": "code",
   "execution_count": 372,
   "id": "7dfbc0c8",
   "metadata": {},
   "outputs": [
    {
     "data": {
      "text/html": [
       "<div>\n",
       "<style scoped>\n",
       "    .dataframe tbody tr th:only-of-type {\n",
       "        vertical-align: middle;\n",
       "    }\n",
       "\n",
       "    .dataframe tbody tr th {\n",
       "        vertical-align: top;\n",
       "    }\n",
       "\n",
       "    .dataframe thead th {\n",
       "        text-align: right;\n",
       "    }\n",
       "</style>\n",
       "<table border=\"1\" class=\"dataframe\">\n",
       "  <thead>\n",
       "    <tr style=\"text-align: right;\">\n",
       "      <th></th>\n",
       "      <th>World Rank</th>\n",
       "      <th>University Names</th>\n",
       "      <th>Location</th>\n",
       "      <th>National Rank</th>\n",
       "      <th>Educational Rank</th>\n",
       "      <th>Employability Rank</th>\n",
       "      <th>Faculty Rank</th>\n",
       "      <th>Research Rank</th>\n",
       "      <th>Score</th>\n",
       "      <th>World Rank Percentage</th>\n",
       "      <th>University</th>\n",
       "    </tr>\n",
       "  </thead>\n",
       "  <tbody>\n",
       "    <tr>\n",
       "      <th>0</th>\n",
       "      <td>1</td>\n",
       "      <td>Harvard University\\n  CWUR Rating System:   Ed...</td>\n",
       "      <td>USA</td>\n",
       "      <td>1</td>\n",
       "      <td>1</td>\n",
       "      <td>1</td>\n",
       "      <td>1</td>\n",
       "      <td>1</td>\n",
       "      <td>100.0</td>\n",
       "      <td>0.1</td>\n",
       "      <td>harvard university\\n  cwur rating system:   ed...</td>\n",
       "    </tr>\n",
       "    <tr>\n",
       "      <th>1</th>\n",
       "      <td>2</td>\n",
       "      <td>Massachusetts Institute of Technology\\n  Educa...</td>\n",
       "      <td>USA</td>\n",
       "      <td>2</td>\n",
       "      <td>4</td>\n",
       "      <td>12</td>\n",
       "      <td>3</td>\n",
       "      <td>9</td>\n",
       "      <td>96.7</td>\n",
       "      <td>0.1</td>\n",
       "      <td>massachusetts institute of technology\\n  educa...</td>\n",
       "    </tr>\n",
       "    <tr>\n",
       "      <th>2</th>\n",
       "      <td>3</td>\n",
       "      <td>Stanford University\\n  Education: A+; Employab...</td>\n",
       "      <td>USA</td>\n",
       "      <td>3</td>\n",
       "      <td>11</td>\n",
       "      <td>4</td>\n",
       "      <td>2</td>\n",
       "      <td>2</td>\n",
       "      <td>95.2</td>\n",
       "      <td>0.1</td>\n",
       "      <td>stanford university\\n  education: a+; employab...</td>\n",
       "    </tr>\n",
       "    <tr>\n",
       "      <th>3</th>\n",
       "      <td>4</td>\n",
       "      <td>University of Cambridge\\n  Education: A+; Empl...</td>\n",
       "      <td>United Kingdom</td>\n",
       "      <td>1</td>\n",
       "      <td>3</td>\n",
       "      <td>25</td>\n",
       "      <td>5</td>\n",
       "      <td>11</td>\n",
       "      <td>94.1</td>\n",
       "      <td>0.1</td>\n",
       "      <td>university of cambridge\\n  education: a+; empl...</td>\n",
       "    </tr>\n",
       "    <tr>\n",
       "      <th>4</th>\n",
       "      <td>5</td>\n",
       "      <td>University of Oxford\\n  Education: A+; Employa...</td>\n",
       "      <td>United Kingdom</td>\n",
       "      <td>2</td>\n",
       "      <td>7</td>\n",
       "      <td>27</td>\n",
       "      <td>9</td>\n",
       "      <td>4</td>\n",
       "      <td>93.3</td>\n",
       "      <td>0.1</td>\n",
       "      <td>university of oxford\\n  education: a+; employa...</td>\n",
       "    </tr>\n",
       "    <tr>\n",
       "      <th>...</th>\n",
       "      <td>...</td>\n",
       "      <td>...</td>\n",
       "      <td>...</td>\n",
       "      <td>...</td>\n",
       "      <td>...</td>\n",
       "      <td>...</td>\n",
       "      <td>...</td>\n",
       "      <td>...</td>\n",
       "      <td>...</td>\n",
       "      <td>...</td>\n",
       "      <td>...</td>\n",
       "    </tr>\n",
       "    <tr>\n",
       "      <th>1995</th>\n",
       "      <td>1996</td>\n",
       "      <td>Chongqing Jiaotong University</td>\n",
       "      <td>China</td>\n",
       "      <td>314</td>\n",
       "      <td>-1</td>\n",
       "      <td>-1</td>\n",
       "      <td>-1</td>\n",
       "      <td>1917</td>\n",
       "      <td>66.0</td>\n",
       "      <td>9.8</td>\n",
       "      <td>chongqing jiaotong university</td>\n",
       "    </tr>\n",
       "    <tr>\n",
       "      <th>1996</th>\n",
       "      <td>1997</td>\n",
       "      <td>University of Arkansas at Little Rock</td>\n",
       "      <td>USA</td>\n",
       "      <td>332</td>\n",
       "      <td>-1</td>\n",
       "      <td>1322</td>\n",
       "      <td>-1</td>\n",
       "      <td>1920</td>\n",
       "      <td>66.0</td>\n",
       "      <td>9.8</td>\n",
       "      <td>university of arkansas at little rock</td>\n",
       "    </tr>\n",
       "    <tr>\n",
       "      <th>1997</th>\n",
       "      <td>1998</td>\n",
       "      <td>Van Yüzüncü Yıl University</td>\n",
       "      <td>Turkey</td>\n",
       "      <td>54</td>\n",
       "      <td>-1</td>\n",
       "      <td>-1</td>\n",
       "      <td>-1</td>\n",
       "      <td>1919</td>\n",
       "      <td>66.0</td>\n",
       "      <td>9.8</td>\n",
       "      <td>van yüzüncü yıl university</td>\n",
       "    </tr>\n",
       "    <tr>\n",
       "      <th>1998</th>\n",
       "      <td>1999</td>\n",
       "      <td>Bharathidasan University</td>\n",
       "      <td>India</td>\n",
       "      <td>64</td>\n",
       "      <td>-1</td>\n",
       "      <td>-1</td>\n",
       "      <td>-1</td>\n",
       "      <td>1922</td>\n",
       "      <td>66.0</td>\n",
       "      <td>9.8</td>\n",
       "      <td>bharathidasan university</td>\n",
       "    </tr>\n",
       "    <tr>\n",
       "      <th>1999</th>\n",
       "      <td>2000</td>\n",
       "      <td>Gebze Technical University</td>\n",
       "      <td>Turkey</td>\n",
       "      <td>55</td>\n",
       "      <td>-1</td>\n",
       "      <td>-1</td>\n",
       "      <td>-1</td>\n",
       "      <td>1923</td>\n",
       "      <td>66.0</td>\n",
       "      <td>9.8</td>\n",
       "      <td>gebze technical university</td>\n",
       "    </tr>\n",
       "  </tbody>\n",
       "</table>\n",
       "<p>2000 rows × 11 columns</p>\n",
       "</div>"
      ],
      "text/plain": [
       "      World Rank                                   University Names  \\\n",
       "0              1  Harvard University\\n  CWUR Rating System:   Ed...   \n",
       "1              2  Massachusetts Institute of Technology\\n  Educa...   \n",
       "2              3  Stanford University\\n  Education: A+; Employab...   \n",
       "3              4  University of Cambridge\\n  Education: A+; Empl...   \n",
       "4              5  University of Oxford\\n  Education: A+; Employa...   \n",
       "...          ...                                                ...   \n",
       "1995        1996                      Chongqing Jiaotong University   \n",
       "1996        1997              University of Arkansas at Little Rock   \n",
       "1997        1998                         Van Yüzüncü Yıl University   \n",
       "1998        1999                           Bharathidasan University   \n",
       "1999        2000                         Gebze Technical University   \n",
       "\n",
       "           Location   National Rank  Educational Rank  Employability Rank  \\\n",
       "0                USA              1                 1                   1   \n",
       "1                USA              2                 4                  12   \n",
       "2                USA              3                11                   4   \n",
       "3     United Kingdom              1                 3                  25   \n",
       "4     United Kingdom              2                 7                  27   \n",
       "...              ...            ...               ...                 ...   \n",
       "1995           China            314                -1                  -1   \n",
       "1996             USA            332                -1                1322   \n",
       "1997          Turkey             54                -1                  -1   \n",
       "1998           India             64                -1                  -1   \n",
       "1999          Turkey             55                -1                  -1   \n",
       "\n",
       "      Faculty Rank  Research Rank  Score  World Rank Percentage  \\\n",
       "0                1              1  100.0                    0.1   \n",
       "1                3              9   96.7                    0.1   \n",
       "2                2              2   95.2                    0.1   \n",
       "3                5             11   94.1                    0.1   \n",
       "4                9              4   93.3                    0.1   \n",
       "...            ...            ...    ...                    ...   \n",
       "1995            -1           1917   66.0                    9.8   \n",
       "1996            -1           1920   66.0                    9.8   \n",
       "1997            -1           1919   66.0                    9.8   \n",
       "1998            -1           1922   66.0                    9.8   \n",
       "1999            -1           1923   66.0                    9.8   \n",
       "\n",
       "                                             University  \n",
       "0     harvard university\\n  cwur rating system:   ed...  \n",
       "1     massachusetts institute of technology\\n  educa...  \n",
       "2     stanford university\\n  education: a+; employab...  \n",
       "3     university of cambridge\\n  education: a+; empl...  \n",
       "4     university of oxford\\n  education: a+; employa...  \n",
       "...                                                 ...  \n",
       "1995                      chongqing jiaotong university  \n",
       "1996              university of arkansas at little rock  \n",
       "1997                         van yüzüncü yıl university  \n",
       "1998                           bharathidasan university  \n",
       "1999                         gebze technical university  \n",
       "\n",
       "[2000 rows x 11 columns]"
      ]
     },
     "execution_count": 372,
     "metadata": {},
     "output_type": "execute_result"
    }
   ],
   "source": [
    "word_rank"
   ]
  },
  {
   "cell_type": "code",
   "execution_count": 371,
   "id": "2ab8ea3a",
   "metadata": {},
   "outputs": [
    {
     "data": {
      "application/vnd.plotly.v1+json": {
       "config": {
        "plotlyServerURL": "https://plot.ly"
       },
       "data": [
        {
         "alignmentgroup": "True",
         "hovertemplate": "Score=%{x}<br>University Names=%{y}<extra></extra>",
         "legendgroup": "",
         "marker": {
          "color": "#636efa",
          "pattern": {
           "shape": ""
          }
         },
         "name": "",
         "offsetgroup": "",
         "orientation": "h",
         "showlegend": false,
         "textposition": "auto",
         "type": "bar",
         "x": [
          77.8,
          77.2,
          76.1,
          72.8,
          68.8,
          68.1,
          67.9,
          67.7,
          67.5,
          67
         ],
         "xaxis": "x",
         "y": [
          "King Abdulaziz University",
          "King Abdullah University of Science and Technology",
          "King Saud University",
          "King Fahd University of Petroleum and Minerals",
          "King Saud bin Abdulaziz University for Health Sciences",
          "King Khalid University",
          "Taif University",
          "Imam Abdulrahman Bin Faisal University",
          "Taibah University",
          "Prince Sattam Bin Abdulaziz University"
         ],
         "yaxis": "y"
        }
       ],
       "layout": {
        "barmode": "relative",
        "legend": {
         "tracegroupgap": 0
        },
        "template": {
         "data": {
          "bar": [
           {
            "error_x": {
             "color": "#2a3f5f"
            },
            "error_y": {
             "color": "#2a3f5f"
            },
            "marker": {
             "line": {
              "color": "#E5ECF6",
              "width": 0.5
             },
             "pattern": {
              "fillmode": "overlay",
              "size": 10,
              "solidity": 0.2
             }
            },
            "type": "bar"
           }
          ],
          "barpolar": [
           {
            "marker": {
             "line": {
              "color": "#E5ECF6",
              "width": 0.5
             },
             "pattern": {
              "fillmode": "overlay",
              "size": 10,
              "solidity": 0.2
             }
            },
            "type": "barpolar"
           }
          ],
          "carpet": [
           {
            "aaxis": {
             "endlinecolor": "#2a3f5f",
             "gridcolor": "white",
             "linecolor": "white",
             "minorgridcolor": "white",
             "startlinecolor": "#2a3f5f"
            },
            "baxis": {
             "endlinecolor": "#2a3f5f",
             "gridcolor": "white",
             "linecolor": "white",
             "minorgridcolor": "white",
             "startlinecolor": "#2a3f5f"
            },
            "type": "carpet"
           }
          ],
          "choropleth": [
           {
            "colorbar": {
             "outlinewidth": 0,
             "ticks": ""
            },
            "type": "choropleth"
           }
          ],
          "contour": [
           {
            "colorbar": {
             "outlinewidth": 0,
             "ticks": ""
            },
            "colorscale": [
             [
              0,
              "#0d0887"
             ],
             [
              0.1111111111111111,
              "#46039f"
             ],
             [
              0.2222222222222222,
              "#7201a8"
             ],
             [
              0.3333333333333333,
              "#9c179e"
             ],
             [
              0.4444444444444444,
              "#bd3786"
             ],
             [
              0.5555555555555556,
              "#d8576b"
             ],
             [
              0.6666666666666666,
              "#ed7953"
             ],
             [
              0.7777777777777778,
              "#fb9f3a"
             ],
             [
              0.8888888888888888,
              "#fdca26"
             ],
             [
              1,
              "#f0f921"
             ]
            ],
            "type": "contour"
           }
          ],
          "contourcarpet": [
           {
            "colorbar": {
             "outlinewidth": 0,
             "ticks": ""
            },
            "type": "contourcarpet"
           }
          ],
          "heatmap": [
           {
            "colorbar": {
             "outlinewidth": 0,
             "ticks": ""
            },
            "colorscale": [
             [
              0,
              "#0d0887"
             ],
             [
              0.1111111111111111,
              "#46039f"
             ],
             [
              0.2222222222222222,
              "#7201a8"
             ],
             [
              0.3333333333333333,
              "#9c179e"
             ],
             [
              0.4444444444444444,
              "#bd3786"
             ],
             [
              0.5555555555555556,
              "#d8576b"
             ],
             [
              0.6666666666666666,
              "#ed7953"
             ],
             [
              0.7777777777777778,
              "#fb9f3a"
             ],
             [
              0.8888888888888888,
              "#fdca26"
             ],
             [
              1,
              "#f0f921"
             ]
            ],
            "type": "heatmap"
           }
          ],
          "heatmapgl": [
           {
            "colorbar": {
             "outlinewidth": 0,
             "ticks": ""
            },
            "colorscale": [
             [
              0,
              "#0d0887"
             ],
             [
              0.1111111111111111,
              "#46039f"
             ],
             [
              0.2222222222222222,
              "#7201a8"
             ],
             [
              0.3333333333333333,
              "#9c179e"
             ],
             [
              0.4444444444444444,
              "#bd3786"
             ],
             [
              0.5555555555555556,
              "#d8576b"
             ],
             [
              0.6666666666666666,
              "#ed7953"
             ],
             [
              0.7777777777777778,
              "#fb9f3a"
             ],
             [
              0.8888888888888888,
              "#fdca26"
             ],
             [
              1,
              "#f0f921"
             ]
            ],
            "type": "heatmapgl"
           }
          ],
          "histogram": [
           {
            "marker": {
             "pattern": {
              "fillmode": "overlay",
              "size": 10,
              "solidity": 0.2
             }
            },
            "type": "histogram"
           }
          ],
          "histogram2d": [
           {
            "colorbar": {
             "outlinewidth": 0,
             "ticks": ""
            },
            "colorscale": [
             [
              0,
              "#0d0887"
             ],
             [
              0.1111111111111111,
              "#46039f"
             ],
             [
              0.2222222222222222,
              "#7201a8"
             ],
             [
              0.3333333333333333,
              "#9c179e"
             ],
             [
              0.4444444444444444,
              "#bd3786"
             ],
             [
              0.5555555555555556,
              "#d8576b"
             ],
             [
              0.6666666666666666,
              "#ed7953"
             ],
             [
              0.7777777777777778,
              "#fb9f3a"
             ],
             [
              0.8888888888888888,
              "#fdca26"
             ],
             [
              1,
              "#f0f921"
             ]
            ],
            "type": "histogram2d"
           }
          ],
          "histogram2dcontour": [
           {
            "colorbar": {
             "outlinewidth": 0,
             "ticks": ""
            },
            "colorscale": [
             [
              0,
              "#0d0887"
             ],
             [
              0.1111111111111111,
              "#46039f"
             ],
             [
              0.2222222222222222,
              "#7201a8"
             ],
             [
              0.3333333333333333,
              "#9c179e"
             ],
             [
              0.4444444444444444,
              "#bd3786"
             ],
             [
              0.5555555555555556,
              "#d8576b"
             ],
             [
              0.6666666666666666,
              "#ed7953"
             ],
             [
              0.7777777777777778,
              "#fb9f3a"
             ],
             [
              0.8888888888888888,
              "#fdca26"
             ],
             [
              1,
              "#f0f921"
             ]
            ],
            "type": "histogram2dcontour"
           }
          ],
          "mesh3d": [
           {
            "colorbar": {
             "outlinewidth": 0,
             "ticks": ""
            },
            "type": "mesh3d"
           }
          ],
          "parcoords": [
           {
            "line": {
             "colorbar": {
              "outlinewidth": 0,
              "ticks": ""
             }
            },
            "type": "parcoords"
           }
          ],
          "pie": [
           {
            "automargin": true,
            "type": "pie"
           }
          ],
          "scatter": [
           {
            "fillpattern": {
             "fillmode": "overlay",
             "size": 10,
             "solidity": 0.2
            },
            "type": "scatter"
           }
          ],
          "scatter3d": [
           {
            "line": {
             "colorbar": {
              "outlinewidth": 0,
              "ticks": ""
             }
            },
            "marker": {
             "colorbar": {
              "outlinewidth": 0,
              "ticks": ""
             }
            },
            "type": "scatter3d"
           }
          ],
          "scattercarpet": [
           {
            "marker": {
             "colorbar": {
              "outlinewidth": 0,
              "ticks": ""
             }
            },
            "type": "scattercarpet"
           }
          ],
          "scattergeo": [
           {
            "marker": {
             "colorbar": {
              "outlinewidth": 0,
              "ticks": ""
             }
            },
            "type": "scattergeo"
           }
          ],
          "scattergl": [
           {
            "marker": {
             "colorbar": {
              "outlinewidth": 0,
              "ticks": ""
             }
            },
            "type": "scattergl"
           }
          ],
          "scattermapbox": [
           {
            "marker": {
             "colorbar": {
              "outlinewidth": 0,
              "ticks": ""
             }
            },
            "type": "scattermapbox"
           }
          ],
          "scatterpolar": [
           {
            "marker": {
             "colorbar": {
              "outlinewidth": 0,
              "ticks": ""
             }
            },
            "type": "scatterpolar"
           }
          ],
          "scatterpolargl": [
           {
            "marker": {
             "colorbar": {
              "outlinewidth": 0,
              "ticks": ""
             }
            },
            "type": "scatterpolargl"
           }
          ],
          "scatterternary": [
           {
            "marker": {
             "colorbar": {
              "outlinewidth": 0,
              "ticks": ""
             }
            },
            "type": "scatterternary"
           }
          ],
          "surface": [
           {
            "colorbar": {
             "outlinewidth": 0,
             "ticks": ""
            },
            "colorscale": [
             [
              0,
              "#0d0887"
             ],
             [
              0.1111111111111111,
              "#46039f"
             ],
             [
              0.2222222222222222,
              "#7201a8"
             ],
             [
              0.3333333333333333,
              "#9c179e"
             ],
             [
              0.4444444444444444,
              "#bd3786"
             ],
             [
              0.5555555555555556,
              "#d8576b"
             ],
             [
              0.6666666666666666,
              "#ed7953"
             ],
             [
              0.7777777777777778,
              "#fb9f3a"
             ],
             [
              0.8888888888888888,
              "#fdca26"
             ],
             [
              1,
              "#f0f921"
             ]
            ],
            "type": "surface"
           }
          ],
          "table": [
           {
            "cells": {
             "fill": {
              "color": "#EBF0F8"
             },
             "line": {
              "color": "white"
             }
            },
            "header": {
             "fill": {
              "color": "#C8D4E3"
             },
             "line": {
              "color": "white"
             }
            },
            "type": "table"
           }
          ]
         },
         "layout": {
          "annotationdefaults": {
           "arrowcolor": "#2a3f5f",
           "arrowhead": 0,
           "arrowwidth": 1
          },
          "autotypenumbers": "strict",
          "coloraxis": {
           "colorbar": {
            "outlinewidth": 0,
            "ticks": ""
           }
          },
          "colorscale": {
           "diverging": [
            [
             0,
             "#8e0152"
            ],
            [
             0.1,
             "#c51b7d"
            ],
            [
             0.2,
             "#de77ae"
            ],
            [
             0.3,
             "#f1b6da"
            ],
            [
             0.4,
             "#fde0ef"
            ],
            [
             0.5,
             "#f7f7f7"
            ],
            [
             0.6,
             "#e6f5d0"
            ],
            [
             0.7,
             "#b8e186"
            ],
            [
             0.8,
             "#7fbc41"
            ],
            [
             0.9,
             "#4d9221"
            ],
            [
             1,
             "#276419"
            ]
           ],
           "sequential": [
            [
             0,
             "#0d0887"
            ],
            [
             0.1111111111111111,
             "#46039f"
            ],
            [
             0.2222222222222222,
             "#7201a8"
            ],
            [
             0.3333333333333333,
             "#9c179e"
            ],
            [
             0.4444444444444444,
             "#bd3786"
            ],
            [
             0.5555555555555556,
             "#d8576b"
            ],
            [
             0.6666666666666666,
             "#ed7953"
            ],
            [
             0.7777777777777778,
             "#fb9f3a"
            ],
            [
             0.8888888888888888,
             "#fdca26"
            ],
            [
             1,
             "#f0f921"
            ]
           ],
           "sequentialminus": [
            [
             0,
             "#0d0887"
            ],
            [
             0.1111111111111111,
             "#46039f"
            ],
            [
             0.2222222222222222,
             "#7201a8"
            ],
            [
             0.3333333333333333,
             "#9c179e"
            ],
            [
             0.4444444444444444,
             "#bd3786"
            ],
            [
             0.5555555555555556,
             "#d8576b"
            ],
            [
             0.6666666666666666,
             "#ed7953"
            ],
            [
             0.7777777777777778,
             "#fb9f3a"
            ],
            [
             0.8888888888888888,
             "#fdca26"
            ],
            [
             1,
             "#f0f921"
            ]
           ]
          },
          "colorway": [
           "#636efa",
           "#EF553B",
           "#00cc96",
           "#ab63fa",
           "#FFA15A",
           "#19d3f3",
           "#FF6692",
           "#B6E880",
           "#FF97FF",
           "#FECB52"
          ],
          "font": {
           "color": "#2a3f5f"
          },
          "geo": {
           "bgcolor": "white",
           "lakecolor": "white",
           "landcolor": "#E5ECF6",
           "showlakes": true,
           "showland": true,
           "subunitcolor": "white"
          },
          "hoverlabel": {
           "align": "left"
          },
          "hovermode": "closest",
          "mapbox": {
           "style": "light"
          },
          "paper_bgcolor": "white",
          "plot_bgcolor": "#E5ECF6",
          "polar": {
           "angularaxis": {
            "gridcolor": "white",
            "linecolor": "white",
            "ticks": ""
           },
           "bgcolor": "#E5ECF6",
           "radialaxis": {
            "gridcolor": "white",
            "linecolor": "white",
            "ticks": ""
           }
          },
          "scene": {
           "xaxis": {
            "backgroundcolor": "#E5ECF6",
            "gridcolor": "white",
            "gridwidth": 2,
            "linecolor": "white",
            "showbackground": true,
            "ticks": "",
            "zerolinecolor": "white"
           },
           "yaxis": {
            "backgroundcolor": "#E5ECF6",
            "gridcolor": "white",
            "gridwidth": 2,
            "linecolor": "white",
            "showbackground": true,
            "ticks": "",
            "zerolinecolor": "white"
           },
           "zaxis": {
            "backgroundcolor": "#E5ECF6",
            "gridcolor": "white",
            "gridwidth": 2,
            "linecolor": "white",
            "showbackground": true,
            "ticks": "",
            "zerolinecolor": "white"
           }
          },
          "shapedefaults": {
           "line": {
            "color": "#2a3f5f"
           }
          },
          "ternary": {
           "aaxis": {
            "gridcolor": "white",
            "linecolor": "white",
            "ticks": ""
           },
           "baxis": {
            "gridcolor": "white",
            "linecolor": "white",
            "ticks": ""
           },
           "bgcolor": "#E5ECF6",
           "caxis": {
            "gridcolor": "white",
            "linecolor": "white",
            "ticks": ""
           }
          },
          "title": {
           "x": 0.05
          },
          "xaxis": {
           "automargin": true,
           "gridcolor": "white",
           "linecolor": "white",
           "ticks": "",
           "title": {
            "standoff": 15
           },
           "zerolinecolor": "white",
           "zerolinewidth": 2
          },
          "yaxis": {
           "automargin": true,
           "gridcolor": "white",
           "linecolor": "white",
           "ticks": "",
           "title": {
            "standoff": 15
           },
           "zerolinecolor": "white",
           "zerolinewidth": 2
          }
         }
        },
        "title": {
         "text": "Scores of Universities in Saudi Arabia"
        },
        "xaxis": {
         "anchor": "y",
         "domain": [
          0,
          1
         ],
         "title": {
          "text": "Score"
         }
        },
        "yaxis": {
         "anchor": "x",
         "categoryorder": "total ascending",
         "domain": [
          0,
          1
         ],
         "title": {
          "text": "University Name"
         }
        }
       }
      }
     },
     "metadata": {},
     "output_type": "display_data"
    }
   ],
   "source": [
    "df_ksa = word_rank[word_rank[\"Location \"] == \"Saudi Arabia\"][:10]\n",
    "\n",
    "# Plot histogram of universities in Saudi Arabia and their scores using Plotly\n",
    "fig = px.bar(df_ksa, x='Score', y='University Names', orientation='h', title='Scores of Universities in Saudi Arabia')\n",
    "fig.update_layout(xaxis_title='Score', yaxis_title='University Name', yaxis=dict(categoryorder='total ascending'))\n",
    "fig.show()"
   ]
  },
  {
   "cell_type": "code",
   "execution_count": 365,
   "id": "2195c1f8",
   "metadata": {},
   "outputs": [
    {
     "data": {
      "image/png": "[encoded data removed]",
      "text/plain": [
       "<Figure size 1500x800 with 2 Axes>"
      ]
     },
     "metadata": {},
     "output_type": "display_data"
    }
   ],
   "source": [
    "df_corr= word_rank[[\"World Rank\",\"National Rank\"]]\n",
    "fig, ax = plt.subplots() \n",
    "fig.set_size_inches(15,8)\n",
    "sns.heatmap(df_corr.corr(), vmax =.8, square = True, annot = True,cmap='Blues' )\n",
    "plt.title('Correlation Between World Rank & National Rank',fontsize=15);"
   ]
  },
  {
   "cell_type": "code",
   "execution_count": 369,
   "id": "1f1ae091",
   "metadata": {},
   "outputs": [
    {
     "data": {
      "application/vnd.plotly.v1+json": {
       "config": {
        "plotlyServerURL": "https://plot.ly"
       },
       "data": [
        {
         "alignmentgroup": "True",
         "hovertemplate": "Location =%{x}<br>Frequency=%{y}<extra></extra>",
         "legendgroup": "",
         "marker": {
          "color": "#636efa",
          "pattern": {
           "shape": ""
          }
         },
         "name": "",
         "offsetgroup": "",
         "orientation": "v",
         "showlegend": false,
         "textposition": "auto",
         "type": "bar",
         "x": [
          "USA",
          "China",
          "United Kingdom",
          "Germany",
          "France",
          "Australia",
          "Italy",
          "Canada",
          "Japan",
          "South Korea"
         ],
         "xaxis": "x",
         "y": [
          135,
          65,
          36,
          33,
          24,
          21,
          21,
          19,
          14,
          13
         ],
         "yaxis": "y"
        }
       ],
       "layout": {
        "barmode": "relative",
        "legend": {
         "tracegroupgap": 0
        },
        "template": {
         "data": {
          "bar": [
           {
            "error_x": {
             "color": "#2a3f5f"
            },
            "error_y": {
             "color": "#2a3f5f"
            },
            "marker": {
             "line": {
              "color": "#E5ECF6",
              "width": 0.5
             },
             "pattern": {
              "fillmode": "overlay",
              "size": 10,
              "solidity": 0.2
             }
            },
            "type": "bar"
           }
          ],
          "barpolar": [
           {
            "marker": {
             "line": {
              "color": "#E5ECF6",
              "width": 0.5
             },
             "pattern": {
              "fillmode": "overlay",
              "size": 10,
              "solidity": 0.2
             }
            },
            "type": "barpolar"
           }
          ],
          "carpet": [
           {
            "aaxis": {
             "endlinecolor": "#2a3f5f",
             "gridcolor": "white",
             "linecolor": "white",
             "minorgridcolor": "white",
             "startlinecolor": "#2a3f5f"
            },
            "baxis": {
             "endlinecolor": "#2a3f5f",
             "gridcolor": "white",
             "linecolor": "white",
             "minorgridcolor": "white",
             "startlinecolor": "#2a3f5f"
            },
            "type": "carpet"
           }
          ],
          "choropleth": [
           {
            "colorbar": {
             "outlinewidth": 0,
             "ticks": ""
            },
            "type": "choropleth"
           }
          ],
          "contour": [
           {
            "colorbar": {
             "outlinewidth": 0,
             "ticks": ""
            },
            "colorscale": [
             [
              0,
              "#0d0887"
             ],
             [
              0.1111111111111111,
              "#46039f"
             ],
             [
              0.2222222222222222,
              "#7201a8"
             ],
             [
              0.3333333333333333,
              "#9c179e"
             ],
             [
              0.4444444444444444,
              "#bd3786"
             ],
             [
              0.5555555555555556,
              "#d8576b"
             ],
             [
              0.6666666666666666,
              "#ed7953"
             ],
             [
              0.7777777777777778,
              "#fb9f3a"
             ],
             [
              0.8888888888888888,
              "#fdca26"
             ],
             [
              1,
              "#f0f921"
             ]
            ],
            "type": "contour"
           }
          ],
          "contourcarpet": [
           {
            "colorbar": {
             "outlinewidth": 0,
             "ticks": ""
            },
            "type": "contourcarpet"
           }
          ],
          "heatmap": [
           {
            "colorbar": {
             "outlinewidth": 0,
             "ticks": ""
            },
            "colorscale": [
             [
              0,
              "#0d0887"
             ],
             [
              0.1111111111111111,
              "#46039f"
             ],
             [
              0.2222222222222222,
              "#7201a8"
             ],
             [
              0.3333333333333333,
              "#9c179e"
             ],
             [
              0.4444444444444444,
              "#bd3786"
             ],
             [
              0.5555555555555556,
              "#d8576b"
             ],
             [
              0.6666666666666666,
              "#ed7953"
             ],
             [
              0.7777777777777778,
              "#fb9f3a"
             ],
             [
              0.8888888888888888,
              "#fdca26"
             ],
             [
              1,
              "#f0f921"
             ]
            ],
            "type": "heatmap"
           }
          ],
          "heatmapgl": [
           {
            "colorbar": {
             "outlinewidth": 0,
             "ticks": ""
            },
            "colorscale": [
             [
              0,
              "#0d0887"
             ],
             [
              0.1111111111111111,
              "#46039f"
             ],
             [
              0.2222222222222222,
              "#7201a8"
             ],
             [
              0.3333333333333333,
              "#9c179e"
             ],
             [
              0.4444444444444444,
              "#bd3786"
             ],
             [
              0.5555555555555556,
              "#d8576b"
             ],
             [
              0.6666666666666666,
              "#ed7953"
             ],
             [
              0.7777777777777778,
              "#fb9f3a"
             ],
             [
              0.8888888888888888,
              "#fdca26"
             ],
             [
              1,
              "#f0f921"
             ]
            ],
            "type": "heatmapgl"
           }
          ],
          "histogram": [
           {
            "marker": {
             "pattern": {
              "fillmode": "overlay",
              "size": 10,
              "solidity": 0.2
             }
            },
            "type": "histogram"
           }
          ],
          "histogram2d": [
           {
            "colorbar": {
             "outlinewidth": 0,
             "ticks": ""
            },
            "colorscale": [
             [
              0,
              "#0d0887"
             ],
             [
              0.1111111111111111,
              "#46039f"
             ],
             [
              0.2222222222222222,
              "#7201a8"
             ],
             [
              0.3333333333333333,
              "#9c179e"
             ],
             [
              0.4444444444444444,
              "#bd3786"
             ],
             [
              0.5555555555555556,
              "#d8576b"
             ],
             [
              0.6666666666666666,
              "#ed7953"
             ],
             [
              0.7777777777777778,
              "#fb9f3a"
             ],
             [
              0.8888888888888888,
              "#fdca26"
             ],
             [
              1,
              "#f0f921"
             ]
            ],
            "type": "histogram2d"
           }
          ],
          "histogram2dcontour": [
           {
            "colorbar": {
             "outlinewidth": 0,
             "ticks": ""
            },
            "colorscale": [
             [
              0,
              "#0d0887"
             ],
             [
              0.1111111111111111,
              "#46039f"
             ],
             [
              0.2222222222222222,
              "#7201a8"
             ],
             [
              0.3333333333333333,
              "#9c179e"
             ],
             [
              0.4444444444444444,
              "#bd3786"
             ],
             [
              0.5555555555555556,
              "#d8576b"
             ],
             [
              0.6666666666666666,
              "#ed7953"
             ],
             [
              0.7777777777777778,
              "#fb9f3a"
             ],
             [
              0.8888888888888888,
              "#fdca26"
             ],
             [
              1,
              "#f0f921"
             ]
            ],
            "type": "histogram2dcontour"
           }
          ],
          "mesh3d": [
           {
            "colorbar": {
             "outlinewidth": 0,
             "ticks": ""
            },
            "type": "mesh3d"
           }
          ],
          "parcoords": [
           {
            "line": {
             "colorbar": {
              "outlinewidth": 0,
              "ticks": ""
             }
            },
            "type": "parcoords"
           }
          ],
          "pie": [
           {
            "automargin": true,
            "type": "pie"
           }
          ],
          "scatter": [
           {
            "fillpattern": {
             "fillmode": "overlay",
             "size": 10,
             "solidity": 0.2
            },
            "type": "scatter"
           }
          ],
          "scatter3d": [
           {
            "line": {
             "colorbar": {
              "outlinewidth": 0,
              "ticks": ""
             }
            },
            "marker": {
             "colorbar": {
              "outlinewidth": 0,
              "ticks": ""
             }
            },
            "type": "scatter3d"
           }
          ],
          "scattercarpet": [
           {
            "marker": {
             "colorbar": {
              "outlinewidth": 0,
              "ticks": ""
             }
            },
            "type": "scattercarpet"
           }
          ],
          "scattergeo": [
           {
            "marker": {
             "colorbar": {
              "outlinewidth": 0,
              "ticks": ""
             }
            },
            "type": "scattergeo"
           }
          ],
          "scattergl": [
           {
            "marker": {
             "colorbar": {
              "outlinewidth": 0,
              "ticks": ""
             }
            },
            "type": "scattergl"
           }
          ],
          "scattermapbox": [
           {
            "marker": {
             "colorbar": {
              "outlinewidth": 0,
              "ticks": ""
             }
            },
            "type": "scattermapbox"
           }
          ],
          "scatterpolar": [
           {
            "marker": {
             "colorbar": {
              "outlinewidth": 0,
              "ticks": ""
             }
            },
            "type": "scatterpolar"
           }
          ],
          "scatterpolargl": [
           {
            "marker": {
             "colorbar": {
              "outlinewidth": 0,
              "ticks": ""
             }
            },
            "type": "scatterpolargl"
           }
          ],
          "scatterternary": [
           {
            "marker": {
             "colorbar": {
              "outlinewidth": 0,
              "ticks": ""
             }
            },
            "type": "scatterternary"
           }
          ],
          "surface": [
           {
            "colorbar": {
             "outlinewidth": 0,
             "ticks": ""
            },
            "colorscale": [
             [
              0,
              "#0d0887"
             ],
             [
              0.1111111111111111,
              "#46039f"
             ],
             [
              0.2222222222222222,
              "#7201a8"
             ],
             [
              0.3333333333333333,
              "#9c179e"
             ],
             [
              0.4444444444444444,
              "#bd3786"
             ],
             [
              0.5555555555555556,
              "#d8576b"
             ],
             [
              0.6666666666666666,
              "#ed7953"
             ],
             [
              0.7777777777777778,
              "#fb9f3a"
             ],
             [
              0.8888888888888888,
              "#fdca26"
             ],
             [
              1,
              "#f0f921"
             ]
            ],
            "type": "surface"
           }
          ],
          "table": [
           {
            "cells": {
             "fill": {
              "color": "#EBF0F8"
             },
             "line": {
              "color": "white"
             }
            },
            "header": {
             "fill": {
              "color": "#C8D4E3"
             },
             "line": {
              "color": "white"
             }
            },
            "type": "table"
           }
          ]
         },
         "layout": {
          "annotationdefaults": {
           "arrowcolor": "#2a3f5f",
           "arrowhead": 0,
           "arrowwidth": 1
          },
          "autotypenumbers": "strict",
          "coloraxis": {
           "colorbar": {
            "outlinewidth": 0,
            "ticks": ""
           }
          },
          "colorscale": {
           "diverging": [
            [
             0,
             "#8e0152"
            ],
            [
             0.1,
             "#c51b7d"
            ],
            [
             0.2,
             "#de77ae"
            ],
            [
             0.3,
             "#f1b6da"
            ],
            [
             0.4,
             "#fde0ef"
            ],
            [
             0.5,
             "#f7f7f7"
            ],
            [
             0.6,
             "#e6f5d0"
            ],
            [
             0.7,
             "#b8e186"
            ],
            [
             0.8,
             "#7fbc41"
            ],
            [
             0.9,
             "#4d9221"
            ],
            [
             1,
             "#276419"
            ]
           ],
           "sequential": [
            [
             0,
             "#0d0887"
            ],
            [
             0.1111111111111111,
             "#46039f"
            ],
            [
             0.2222222222222222,
             "#7201a8"
            ],
            [
             0.3333333333333333,
             "#9c179e"
            ],
            [
             0.4444444444444444,
             "#bd3786"
            ],
            [
             0.5555555555555556,
             "#d8576b"
            ],
            [
             0.6666666666666666,
             "#ed7953"
            ],
            [
             0.7777777777777778,
             "#fb9f3a"
            ],
            [
             0.8888888888888888,
             "#fdca26"
            ],
            [
             1,
             "#f0f921"
            ]
           ],
           "sequentialminus": [
            [
             0,
             "#0d0887"
            ],
            [
             0.1111111111111111,
             "#46039f"
            ],
            [
             0.2222222222222222,
             "#7201a8"
            ],
            [
             0.3333333333333333,
             "#9c179e"
            ],
            [
             0.4444444444444444,
             "#bd3786"
            ],
            [
             0.5555555555555556,
             "#d8576b"
            ],
            [
             0.6666666666666666,
             "#ed7953"
            ],
            [
             0.7777777777777778,
             "#fb9f3a"
            ],
            [
             0.8888888888888888,
             "#fdca26"
            ],
            [
             1,
             "#f0f921"
            ]
           ]
          },
          "colorway": [
           "#636efa",
           "#EF553B",
           "#00cc96",
           "#ab63fa",
           "#FFA15A",
           "#19d3f3",
           "#FF6692",
           "#B6E880",
           "#FF97FF",
           "#FECB52"
          ],
          "font": {
           "color": "#2a3f5f"
          },
          "geo": {
           "bgcolor": "white",
           "lakecolor": "white",
           "landcolor": "#E5ECF6",
           "showlakes": true,
           "showland": true,
           "subunitcolor": "white"
          },
          "hoverlabel": {
           "align": "left"
          },
          "hovermode": "closest",
          "mapbox": {
           "style": "light"
          },
          "paper_bgcolor": "white",
          "plot_bgcolor": "#E5ECF6",
          "polar": {
           "angularaxis": {
            "gridcolor": "white",
            "linecolor": "white",
            "ticks": ""
           },
           "bgcolor": "#E5ECF6",
           "radialaxis": {
            "gridcolor": "white",
            "linecolor": "white",
            "ticks": ""
           }
          },
          "scene": {
           "xaxis": {
            "backgroundcolor": "#E5ECF6",
            "gridcolor": "white",
            "gridwidth": 2,
            "linecolor": "white",
            "showbackground": true,
            "ticks": "",
            "zerolinecolor": "white"
           },
           "yaxis": {
            "backgroundcolor": "#E5ECF6",
            "gridcolor": "white",
            "gridwidth": 2,
            "linecolor": "white",
            "showbackground": true,
            "ticks": "",
            "zerolinecolor": "white"
           },
           "zaxis": {
            "backgroundcolor": "#E5ECF6",
            "gridcolor": "white",
            "gridwidth": 2,
            "linecolor": "white",
            "showbackground": true,
            "ticks": "",
            "zerolinecolor": "white"
           }
          },
          "shapedefaults": {
           "line": {
            "color": "#2a3f5f"
           }
          },
          "ternary": {
           "aaxis": {
            "gridcolor": "white",
            "linecolor": "white",
            "ticks": ""
           },
           "baxis": {
            "gridcolor": "white",
            "linecolor": "white",
            "ticks": ""
           },
           "bgcolor": "#E5ECF6",
           "caxis": {
            "gridcolor": "white",
            "linecolor": "white",
            "ticks": ""
           }
          },
          "title": {
           "x": 0.05
          },
          "xaxis": {
           "automargin": true,
           "gridcolor": "white",
           "linecolor": "white",
           "ticks": "",
           "title": {
            "standoff": 15
           },
           "zerolinecolor": "white",
           "zerolinewidth": 2
          },
          "yaxis": {
           "automargin": true,
           "gridcolor": "white",
           "linecolor": "white",
           "ticks": "",
           "title": {
            "standoff": 15
           },
           "zerolinecolor": "white",
           "zerolinewidth": 2
          }
         }
        },
        "title": {
         "text": "Countries With The Highest Number of Universities At The Top 500"
        },
        "xaxis": {
         "anchor": "y",
         "domain": [
          0,
          1
         ],
         "title": {
          "text": "Countries"
         }
        },
        "yaxis": {
         "anchor": "x",
         "domain": [
          0,
          1
         ],
         "title": {
          "text": "Frequency"
         }
        }
       }
      }
     },
     "metadata": {},
     "output_type": "display_data"
    }
   ],
   "source": [
    "rank_country = word_rank[[\"World Rank\",\"University Names\",\"Location \"]]\n",
    "top_500_rank = rank_country.loc[:499,[\"University Names\",\"Location \",\"World Rank\"]]\n",
    "top_10_countries = top_500_rank[\"Location \"].value_counts().iloc[0:10]\n",
    "\n",
    "fig = px.bar(top_10_countries, \n",
    "             x=top_10_countries.index, \n",
    "             y=top_10_countries.values, \n",
    "             title=\"Countries With The Highest Number of Universities At The Top 500\",\n",
    "             labels={'x': 'Countries', 'y': 'Frequency'})\n",
    "\n",
    "fig.update_layout(xaxis_title='Countries', yaxis_title='Frequency')\n",
    "fig.show()"
   ]
  },
  {
   "cell_type": "markdown",
   "id": "49052672",
   "metadata": {},
   "source": [
    "#### Insight\n",
    "The chart reveals that the top 500 universities are concentrated in a few countries, particularly the USA and China, while other nations contribute relatively fewer universities."
   ]
  },
  {
   "cell_type": "code",
   "execution_count": 393,
   "id": "58c69b68",
   "metadata": {},
   "outputs": [
    {
     "data": {
      "text/html": [
       "<div>\n",
       "<style scoped>\n",
       "    .dataframe tbody tr th:only-of-type {\n",
       "        vertical-align: middle;\n",
       "    }\n",
       "\n",
       "    .dataframe tbody tr th {\n",
       "        vertical-align: top;\n",
       "    }\n",
       "\n",
       "    .dataframe thead th {\n",
       "        text-align: right;\n",
       "    }\n",
       "</style>\n",
       "<table border=\"1\" class=\"dataframe\">\n",
       "  <thead>\n",
       "    <tr style=\"text-align: right;\">\n",
       "      <th></th>\n",
       "      <th>University Names</th>\n",
       "      <th>World Rank</th>\n",
       "      <th>Location</th>\n",
       "    </tr>\n",
       "  </thead>\n",
       "  <tbody>\n",
       "    <tr>\n",
       "      <th>244</th>\n",
       "      <td>King Abdulaziz University</td>\n",
       "      <td>245</td>\n",
       "      <td>Saudi Arabia</td>\n",
       "    </tr>\n",
       "    <tr>\n",
       "      <th>278</th>\n",
       "      <td>King Abdullah University of Science and Techno...</td>\n",
       "      <td>279</td>\n",
       "      <td>Saudi Arabia</td>\n",
       "    </tr>\n",
       "    <tr>\n",
       "      <th>351</th>\n",
       "      <td>King Saud University</td>\n",
       "      <td>352</td>\n",
       "      <td>Saudi Arabia</td>\n",
       "    </tr>\n",
       "    <tr>\n",
       "      <th>519</th>\n",
       "      <td>Cairo University</td>\n",
       "      <td>520</td>\n",
       "      <td>Egypt</td>\n",
       "    </tr>\n",
       "    <tr>\n",
       "      <th>656</th>\n",
       "      <td>King Fahd University of Petroleum and Minerals</td>\n",
       "      <td>657</td>\n",
       "      <td>Saudi Arabia</td>\n",
       "    </tr>\n",
       "    <tr>\n",
       "      <th>713</th>\n",
       "      <td>American University of Beirut</td>\n",
       "      <td>714</td>\n",
       "      <td>Lebanon</td>\n",
       "    </tr>\n",
       "    <tr>\n",
       "      <th>771</th>\n",
       "      <td>Ain Shams University</td>\n",
       "      <td>772</td>\n",
       "      <td>Egypt</td>\n",
       "    </tr>\n",
       "    <tr>\n",
       "      <th>870</th>\n",
       "      <td>Qatar University</td>\n",
       "      <td>871</td>\n",
       "      <td>Qatar</td>\n",
       "    </tr>\n",
       "    <tr>\n",
       "      <th>890</th>\n",
       "      <td>Mansoura University</td>\n",
       "      <td>891</td>\n",
       "      <td>Egypt</td>\n",
       "    </tr>\n",
       "    <tr>\n",
       "      <th>891</th>\n",
       "      <td>Khalifa University</td>\n",
       "      <td>892</td>\n",
       "      <td>United Arab Emirates</td>\n",
       "    </tr>\n",
       "  </tbody>\n",
       "</table>\n",
       "</div>"
      ],
      "text/plain": [
       "                                      University Names  World Rank  \\\n",
       "244                          King Abdulaziz University         245   \n",
       "278  King Abdullah University of Science and Techno...         279   \n",
       "351                               King Saud University         352   \n",
       "519                                   Cairo University         520   \n",
       "656     King Fahd University of Petroleum and Minerals         657   \n",
       "713                      American University of Beirut         714   \n",
       "771                               Ain Shams University         772   \n",
       "870                                   Qatar University         871   \n",
       "890                                Mansoura University         891   \n",
       "891                                 Khalifa University         892   \n",
       "\n",
       "                Location   \n",
       "244          Saudi Arabia  \n",
       "278          Saudi Arabia  \n",
       "351          Saudi Arabia  \n",
       "519                 Egypt  \n",
       "656          Saudi Arabia  \n",
       "713               Lebanon  \n",
       "771                 Egypt  \n",
       "870                 Qatar  \n",
       "890                 Egypt  \n",
       "891  United Arab Emirates  "
      ]
     },
     "execution_count": 393,
     "metadata": {},
     "output_type": "execute_result"
    }
   ],
   "source": [
    "# Bonus \n",
    "# Q: Which are the top 10 Arab countries that have been ranked globally, and what are their respective rankings?\n",
    "arab_countries = [\n",
    "    \"Algeria\", \"Bahrain\", \"Comoros\", \"Djibouti\", \"Egypt\", \"Iraq\", \"Jordan\", \"Kuwait\", \"Lebanon\", \"Libya\",\n",
    "    \"Mauritania\", \"Morocco\", \"Oman\", \"Palestine\", \"Qatar\", \"Saudi Arabia\", \"Somalia\", \"Sudan\", \"Syria\",\n",
    "    \"Tunisia\", \"United Arab Emirates\", \"Yemen\"\n",
    "]\n",
    "arab_rankings = word_rank[word_rank['Location '].isin(arab_countries)]\n",
    "top_10_arab_rankings = arab_rankings.sort_values(by='World Rank').head(10)\n",
    "# Select only the columns: University, World Rank, and Country (location)\n",
    "top_10_arab_rankings = top_10_arab_rankings[['University Names', 'World Rank', 'Location ']]\n",
    "\n",
    "# Display the top 10 Arab universities with the selected columns\n",
    "top_10_arab_rankings"
   ]
  }
 ],
 "metadata": {
  "kernelspec": {
   "display_name": "base",
   "language": "python",
   "name": "python3"
  },
  "language_info": {
   "codemirror_mode": {
    "name": "ipython",
    "version": 3
   },
   "file_extension": ".py",
   "mimetype": "text/x-python",
   "name": "python",
   "nbconvert_exporter": "python",
   "pygments_lexer": "ipython3",
   "version": "3.11.5"
  }
 },
 "nbformat": 4,
 "nbformat_minor": 5
}
